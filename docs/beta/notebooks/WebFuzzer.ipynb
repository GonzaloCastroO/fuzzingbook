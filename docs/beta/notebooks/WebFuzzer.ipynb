{
 "cells": [
  {
   "cell_type": "markdown",
   "metadata": {
    "button": false,
    "new_sheet": false,
    "run_control": {
     "read_only": false
    },
    "slideshow": {
     "slide_type": "slide"
    }
   },
   "source": [
    "# Web GUI Fuzzing\n",
    "\n",
    "We apply our techniques on Graphical User Interfaces (GUIs), notably on Web interfaces."
   ]
  },
  {
   "cell_type": "markdown",
   "metadata": {
    "button": false,
    "new_sheet": false,
    "run_control": {
     "read_only": false
    },
    "slideshow": {
     "slide_type": "subslide"
    }
   },
   "source": [
    "**Prerequisites**\n",
    "\n",
    "* _Refer to earlier chapters as notebooks here, as here:_ [Earlier Chapter](Fuzzer.ipynb)."
   ]
  },
  {
   "cell_type": "markdown",
   "metadata": {
    "button": false,
    "new_sheet": false,
    "run_control": {
     "read_only": false
    },
    "slideshow": {
     "slide_type": "subslide"
    }
   },
   "source": [
    "## A Web User Interface"
   ]
  },
  {
   "cell_type": "code",
   "execution_count": 1,
   "metadata": {
    "button": false,
    "new_sheet": false,
    "run_control": {
     "read_only": false
    },
    "slideshow": {
     "slide_type": "skip"
    }
   },
   "outputs": [],
   "source": [
    "import fuzzingbook_utils"
   ]
  },
  {
   "cell_type": "code",
   "execution_count": 2,
   "metadata": {
    "slideshow": {
     "slide_type": "skip"
    }
   },
   "outputs": [],
   "source": [
    "from IPython.core.display import HTML, display"
   ]
  },
  {
   "cell_type": "code",
   "execution_count": 3,
   "metadata": {
    "slideshow": {
     "slide_type": "fragment"
    }
   },
   "outputs": [],
   "source": [
    "fuzzingbook_swag = {\n",
    "    \"tshirt\": \"One FuzzingBook T-Shirt\",\n",
    "    \"drill\": \"One FuzzingBook Rotary Hammer\",\n",
    "    \"lockset\": \"One FuzzingBook Lock Set\"\n",
    "}"
   ]
  },
  {
   "cell_type": "code",
   "execution_count": 4,
   "metadata": {
    "button": false,
    "new_sheet": false,
    "run_control": {
     "read_only": false
    },
    "slideshow": {
     "slide_type": "subslide"
    }
   },
   "outputs": [],
   "source": [
    "html_order_form = \"\"\"\n",
    "<form action=\"/order\" style=\"border:3px; border-style:solid; border-color:#FF0000; padding: 1em;\">\n",
    "  <h3>Fuzzingbook Swag Order Form</h3>\n",
    "  Yes! Please send me at your earliest convenience\n",
    "  <select name=\"item\">\n",
    "  \"\"\"\n",
    "for item in fuzzingbook_swag:\n",
    "    html_order_form += '<option value=\"{item}\">{name}</option>'.format(item=item, name=fuzzingbook_swag[item])\n",
    "html_order_form += \"\"\"\n",
    "  </select>\n",
    "  <br>\n",
    "  <table>\n",
    "  <tr><td>\n",
    "  <label for=\"name\">Name: </label><input type=\"text\" name=\"name\">\n",
    "  </td><td>\n",
    "  <label for=\"email\">Email: </label><input type=\"email\" name=\"email\"><br>\n",
    "  </td></tr>\n",
    "  <tr><td>\n",
    "  <label for=\"city\">City: </label><input type=\"text\" name=\"city\">\n",
    "  </td><td>\n",
    "  <label for=\"zip\">ZIP Code: </label><input type=\"number\" name=\"zip\">\n",
    "  </tr></tr>\n",
    "  </table>\n",
    "  <input type=\"checkbox\" name=\"tandc\"><label for=\"tandc\">I have read the <a href=\"/\">terms and conditions</a></label><br>\n",
    "  <button>Place order</button>\n",
    "</form>\n",
    "\"\"\""
   ]
  },
  {
   "cell_type": "code",
   "execution_count": 5,
   "metadata": {
    "slideshow": {
     "slide_type": "subslide"
    }
   },
   "outputs": [
    {
     "data": {
      "text/html": [
       "\n",
       "<form action=\"/order\" style=\"border:3px; border-style:solid; border-color:#FF0000; padding: 1em;\">\n",
       "  <h3>Fuzzingbook Swag Order Form</h3>\n",
       "  Yes! Please send me at your earliest convenience\n",
       "  <select name=\"item\">\n",
       "  <option value=\"tshirt\">One FuzzingBook T-Shirt</option><option value=\"drill\">One FuzzingBook Rotary Hammer</option><option value=\"lockset\">One FuzzingBook Lock Set</option>\n",
       "  </select>\n",
       "  <br>\n",
       "  <table>\n",
       "  <tr><td>\n",
       "  <label for=\"name\">Name: </label><input type=\"text\" name=\"name\">\n",
       "  </td><td>\n",
       "  <label for=\"email\">Email: </label><input type=\"email\" name=\"email\"><br>\n",
       "  </td></tr>\n",
       "  <tr><td>\n",
       "  <label for=\"city\">City: </label><input type=\"text\" name=\"city\">\n",
       "  </td><td>\n",
       "  <label for=\"zip\">ZIP Code: </label><input type=\"number\" name=\"zip\">\n",
       "  </tr></tr>\n",
       "  </table>\n",
       "  <input type=\"checkbox\" name=\"tandc\"><label for=\"tandc\">I have read the <a href=\"/\">terms and conditions</a></label><br>\n",
       "  <button>Place order</button>\n",
       "</form>\n"
      ],
      "text/plain": [
       "<IPython.core.display.HTML object>"
      ]
     },
     "execution_count": 5,
     "metadata": {},
     "output_type": "execute_result"
    }
   ],
   "source": [
    "HTML(html_order_form)"
   ]
  },
  {
   "cell_type": "code",
   "execution_count": 6,
   "metadata": {
    "button": false,
    "new_sheet": false,
    "run_control": {
     "read_only": false
    },
    "slideshow": {
     "slide_type": "subslide"
    }
   },
   "outputs": [],
   "source": [
    "html_order_received = \"\"\"\n",
    "<div style=\"border:3px; border-style:solid; border-color:#FF0000; padding: 1em;\">\n",
    "  <h3>Thank you for your Order!</h3>\n",
    "  We will send <strong>{item_name}</strong> to {name} in {city}, {zip}<br>\n",
    "  A confirmation mail will be sent to {email}.\n",
    "</div>\n",
    "\"\"\""
   ]
  },
  {
   "cell_type": "code",
   "execution_count": 7,
   "metadata": {
    "slideshow": {
     "slide_type": "fragment"
    }
   },
   "outputs": [
    {
     "data": {
      "text/html": [
       "\n",
       "<div style=\"border:3px; border-style:solid; border-color:#FF0000; padding: 1em;\">\n",
       "  <h3>Thank you for your Order!</h3>\n",
       "  We will send <strong>One FuzzingBook Rotary Hammer</strong> to Jane Doe in Seattle, 98104<br>\n",
       "  A confirmation mail will be sent to doe@example.com.\n",
       "</div>\n"
      ],
      "text/plain": [
       "<IPython.core.display.HTML object>"
      ]
     },
     "execution_count": 7,
     "metadata": {},
     "output_type": "execute_result"
    }
   ],
   "source": [
    "HTML(html_order_received.format(item_name=\"One FuzzingBook Rotary Hammer\", \n",
    "                                name=\"Jane Doe\", \n",
    "                                email=\"doe@example.com\",\n",
    "                                city=\"Seattle\",\n",
    "                                zip=\"98104\"))"
   ]
  },
  {
   "cell_type": "markdown",
   "metadata": {
    "slideshow": {
     "slide_type": "subslide"
    }
   },
   "source": [
    "1. Start a Web Server (in the background)\n",
    "2. Send it a request, say \"GET /\"\n",
    "3. Get the Web Form\n",
    "4. Create a \"GET\" string\n",
    "\n",
    "To render, check out imgkit: https://pypi.org/project/imgkit/"
   ]
  },
  {
   "cell_type": "code",
   "execution_count": 8,
   "metadata": {
    "slideshow": {
     "slide_type": "skip"
    }
   },
   "outputs": [],
   "source": [
    "from multiprocessing import Process"
   ]
  },
  {
   "cell_type": "code",
   "execution_count": 9,
   "metadata": {
    "slideshow": {
     "slide_type": "skip"
    }
   },
   "outputs": [],
   "source": [
    "from http.server import HTTPServer, BaseHTTPRequestHandler, HTTPStatus"
   ]
  },
  {
   "cell_type": "code",
   "execution_count": 10,
   "metadata": {
    "slideshow": {
     "slide_type": "skip"
    }
   },
   "outputs": [],
   "source": [
    "import urllib.parse"
   ]
  },
  {
   "cell_type": "code",
   "execution_count": 11,
   "metadata": {
    "slideshow": {
     "slide_type": "skip"
    }
   },
   "outputs": [],
   "source": [
    "import html"
   ]
  },
  {
   "cell_type": "code",
   "execution_count": 12,
   "metadata": {
    "slideshow": {
     "slide_type": "subslide"
    }
   },
   "outputs": [],
   "source": [
    "class MyHTTPRequestHandler(BaseHTTPRequestHandler):\n",
    "    def do_HEAD(self):\n",
    "        print(\"HEAD \" + self.path)\n",
    "        self.send_response(HTTPStatus.OK)\n",
    "        self.send_header(\"Content-type\", \"text/html\")\n",
    "        self.end_headers()\n",
    "            \n",
    "    def do_GET(self):\n",
    "        print(\"GET \" + self.path)\n",
    "        if self.path == \"/\":\n",
    "            self.send_order_form()\n",
    "        elif self.path.startswith(\"/order\"):\n",
    "            self.send_order_received()\n",
    "        else:\n",
    "            self.send_response(HTTPStatus.NOT_FOUND, \"Not found\")"
   ]
  },
  {
   "cell_type": "code",
   "execution_count": 13,
   "metadata": {
    "slideshow": {
     "slide_type": "subslide"
    }
   },
   "outputs": [],
   "source": [
    "class MyHTTPRequestHandler(MyHTTPRequestHandler):\n",
    "    def send_order_form(self):\n",
    "        self.send_response(HTTPStatus.OK, \"Place your order\")\n",
    "        self.send_header(\"Content-type\", \"text/html\")\n",
    "        self.end_headers()\n",
    "        self.wfile.write(html_order_form.encode(\"utf8\"))"
   ]
  },
  {
   "cell_type": "code",
   "execution_count": 14,
   "metadata": {
    "slideshow": {
     "slide_type": "skip"
    }
   },
   "outputs": [],
   "source": [
    "from Coverage import cgi_decode"
   ]
  },
  {
   "cell_type": "code",
   "execution_count": 15,
   "metadata": {
    "slideshow": {
     "slide_type": "subslide"
    }
   },
   "outputs": [],
   "source": [
    "class MyHTTPRequestHandler(MyHTTPRequestHandler):\n",
    "    def send_order_received(self):\n",
    "        self.send_response(HTTPStatus.OK, \"Order received\")\n",
    "        self.send_header(\"Content-type\", \"text/html\")\n",
    "        self.end_headers()\n",
    "\n",
    "        # self.path is sth like \"/order?item=foo&name=bar\"\n",
    "        # Note: this fails to decode non-ASCII characters properly\n",
    "        query_string = urllib.parse.urlparse(self.path).query\n",
    "        \n",
    "        # fields is { 'item': ['tshirt'], 'name': ['Jane Doe'], ...}\n",
    "        fields = urllib.parse.parse_qs(query_string, keep_blank_values=True)\n",
    "\n",
    "        values = {}\n",
    "        html_values = {}\n",
    "        for key in fields:\n",
    "            values[key] = urllib.parse.unquote(html.unescape(fields[key][0]))\n",
    "            html_values[key] = html.escape(urllib.parse.unquote(values[key]))\n",
    "            \n",
    "        values[\"item_name\"] = fuzzingbook_swag[values[\"item\"]]\n",
    "        html_values[\"item_name\"] = html.escape(values[\"item_name\"])\n",
    "        \n",
    "        confirmation = html_order_received.format(**html_values)\n",
    "        self.wfile.write(confirmation.encode(\"utf8\"))"
   ]
  },
  {
   "cell_type": "code",
   "execution_count": 16,
   "metadata": {
    "slideshow": {
     "slide_type": "subslide"
    }
   },
   "outputs": [],
   "source": [
    "class MyHTTPRequestHandler(MyHTTPRequestHandler):\n",
    "    def not_found(self):\n",
    "        self.send_response(HTTPStatus.NOT_FOUND, \"Not found\")"
   ]
  },
  {
   "cell_type": "code",
   "execution_count": 17,
   "metadata": {
    "button": false,
    "new_sheet": false,
    "run_control": {
     "read_only": false
    },
    "slideshow": {
     "slide_type": "skip"
    }
   },
   "outputs": [],
   "source": [
    "def run_httpd():\n",
    "    localhost = \"127.0.0.1\"\n",
    "    for port in range(8800, 9000):\n",
    "        httpd_address = (localhost, port)\n",
    "        # httpd_url = \"http://\" + httpd_address[0] + \":\" + repr(httpd_address[1]) + \"/\"\n",
    "        \n",
    "        try:\n",
    "            httpd = HTTPServer(httpd_address, MyHTTPRequestHandler)\n",
    "            break\n",
    "        except OSError:\n",
    "            continue\n",
    "    \n",
    "    print(\"Running on port\", port)\n",
    "    with open(\"httpd_port.txt\", \"w\") as f:\n",
    "        f.write(repr(port))\n",
    "    httpd.serve_forever()    "
   ]
  },
  {
   "cell_type": "code",
   "execution_count": 18,
   "metadata": {
    "slideshow": {
     "slide_type": "subslide"
    }
   },
   "outputs": [],
   "source": [
    "http_process = Process(target=run_httpd)\n",
    "http_process.start()"
   ]
  },
  {
   "cell_type": "code",
   "execution_count": 19,
   "metadata": {
    "slideshow": {
     "slide_type": "skip"
    }
   },
   "outputs": [],
   "source": [
    "import time"
   ]
  },
  {
   "cell_type": "code",
   "execution_count": 20,
   "metadata": {
    "slideshow": {
     "slide_type": "fragment"
    }
   },
   "outputs": [
    {
     "data": {
      "text/plain": [
       "8800"
      ]
     },
     "execution_count": 20,
     "metadata": {},
     "output_type": "execute_result"
    }
   ],
   "source": [
    "time.sleep(1)\n",
    "with open(\"httpd_port.txt\") as f:\n",
    "    httpd_port = int(f.read())\n",
    "    \n",
    "    # Better yet: https://stackoverflow.com/questions/2311510/getting-a-machines-external-ip-address-with-python\n",
    "\n",
    "httpd_port"
   ]
  },
  {
   "cell_type": "markdown",
   "metadata": {
    "slideshow": {
     "slide_type": "fragment"
    }
   },
   "source": [
    "We need to get a URL for the server.  If you are running this notebook on the same machine as our Web server, we can access it locally; otherwise, we have to access the remote Web server just as we access the notebook server."
   ]
  },
  {
   "cell_type": "code",
   "execution_count": 21,
   "metadata": {
    "slideshow": {
     "slide_type": "skip"
    }
   },
   "outputs": [],
   "source": [
    "import urllib.request\n",
    "import socket"
   ]
  },
  {
   "cell_type": "code",
   "execution_count": 22,
   "metadata": {
    "slideshow": {
     "slide_type": "subslide"
    }
   },
   "outputs": [],
   "source": [
    "def httpd_url(ip, port):\n",
    "    return \"http://\" + ip + \":\" + repr(port) + \"/\""
   ]
  },
  {
   "cell_type": "code",
   "execution_count": 23,
   "metadata": {
    "slideshow": {
     "slide_type": "subslide"
    }
   },
   "outputs": [],
   "source": [
    "local_ip = \"127.0.0.1\"\n",
    "\n",
    "# Get external IP (needed if running on a remote server)\n",
    "external_ip = urllib.request.urlopen('https://ident.me').read().decode('utf8')\n",
    "\n",
    "# Get hostname\n",
    "hostname_ip = socket.gethostname()\n",
    "\n",
    "for ip in [external_ip, hostname_ip, local_ip]:\n",
    "    try:\n",
    "        response = urllib.request.urlopen(httpd_url(ip, httpd_port))\n",
    "        break\n",
    "    except urllib.request.URLError:\n",
    "        response = None\n",
    "        \n",
    "if response is not None:\n",
    "    httpd_ip = ip"
   ]
  },
  {
   "cell_type": "code",
   "execution_count": 24,
   "metadata": {
    "slideshow": {
     "slide_type": "subslide"
    }
   },
   "outputs": [
    {
     "data": {
      "text/html": [
       "<a href=\"http://127.0.0.1:8800/\">http://127.0.0.1:8800/</a>"
      ],
      "text/plain": [
       "<IPython.core.display.HTML object>"
      ]
     },
     "execution_count": 24,
     "metadata": {},
     "output_type": "execute_result"
    }
   ],
   "source": [
    "HTML('<a href=\"' + httpd_url(httpd_ip, httpd_port) + '\">' + httpd_url(httpd_ip, httpd_port) + \"</a>\")"
   ]
  },
  {
   "cell_type": "code",
   "execution_count": 25,
   "metadata": {
    "slideshow": {
     "slide_type": "fragment"
    }
   },
   "outputs": [
    {
     "data": {
      "text/html": [
       "<iframe src=\"http://127.0.0.1:8800/\" width=\"100%\" height=\"220\">"
      ],
      "text/plain": [
       "<IPython.core.display.HTML object>"
      ]
     },
     "execution_count": 25,
     "metadata": {},
     "output_type": "execute_result"
    }
   ],
   "source": [
    "HTML('<iframe src=\"' + httpd_url(httpd_ip, httpd_port) + '\" width=\"100%\" height=\"220\">')"
   ]
  },
  {
   "cell_type": "code",
   "execution_count": 26,
   "metadata": {
    "slideshow": {
     "slide_type": "skip"
    }
   },
   "outputs": [],
   "source": [
    "from Carver import webbrowser"
   ]
  },
  {
   "cell_type": "code",
   "execution_count": 27,
   "metadata": {
    "slideshow": {
     "slide_type": "fragment"
    }
   },
   "outputs": [],
   "source": [
    "contents = webbrowser(httpd_url(httpd_ip, httpd_port))"
   ]
  },
  {
   "cell_type": "code",
   "execution_count": 28,
   "metadata": {
    "slideshow": {
     "slide_type": "fragment"
    }
   },
   "outputs": [
    {
     "data": {
      "text/html": [
       "\n",
       "<form action=\"/order\" style=\"border:3px; border-style:solid; border-color:#FF0000; padding: 1em;\">\n",
       "  <h3>Fuzzingbook Swag Order Form</h3>\n",
       "  Yes! Please send me at your earliest convenience\n",
       "  <select name=\"item\">\n",
       "  <option value=\"tshirt\">One FuzzingBook T-Shirt</option><option value=\"drill\">One FuzzingBook Rotary Hammer</option><option value=\"lockset\">One FuzzingBook Lock Set</option>\n",
       "  </select>\n",
       "  <br>\n",
       "  <table>\n",
       "  <tr><td>\n",
       "  <label for=\"name\">Name: </label><input type=\"text\" name=\"name\">\n",
       "  </td><td>\n",
       "  <label for=\"email\">Email: </label><input type=\"email\" name=\"email\"><br>\n",
       "  </td></tr>\n",
       "  <tr><td>\n",
       "  <label for=\"city\">City: </label><input type=\"text\" name=\"city\">\n",
       "  </td><td>\n",
       "  <label for=\"zip\">ZIP Code: </label><input type=\"number\" name=\"zip\">\n",
       "  </tr></tr>\n",
       "  </table>\n",
       "  <input type=\"checkbox\" name=\"tandc\"><label for=\"tandc\">I have read the <a href=\"/\">terms and conditions</a></label><br>\n",
       "  <button>Place order</button>\n",
       "</form>\n"
      ],
      "text/plain": [
       "<IPython.core.display.HTML object>"
      ]
     },
     "execution_count": 28,
     "metadata": {},
     "output_type": "execute_result"
    }
   ],
   "source": [
    "HTML(contents)"
   ]
  },
  {
   "cell_type": "markdown",
   "metadata": {
    "slideshow": {
     "slide_type": "fragment"
    }
   },
   "source": [
    "How can we test this?  By sending one command after another."
   ]
  },
  {
   "cell_type": "code",
   "execution_count": 29,
   "metadata": {
    "slideshow": {
     "slide_type": "fragment"
    }
   },
   "outputs": [
    {
     "data": {
      "text/html": [
       "\n",
       "<div style=\"border:3px; border-style:solid; border-color:#FF0000; padding: 1em;\">\n",
       "  <h3>Thank you for your Order!</h3>\n",
       "  We will send <strong>One FuzzingBook T-Shirt</strong> to Jane Doe in Seattle, 98104<br>\n",
       "  A confirmation mail will be sent to doe@example.com.\n",
       "</div>\n"
      ],
      "text/plain": [
       "<IPython.core.display.HTML object>"
      ]
     },
     "execution_count": 29,
     "metadata": {},
     "output_type": "execute_result"
    }
   ],
   "source": [
    "HTML(webbrowser(httpd_url(httpd_ip, httpd_port) + \"order?item=tshirt&name=Jane+Doe&email=doe%40example.com&city=Seattle&zip=98104\"))"
   ]
  },
  {
   "cell_type": "code",
   "execution_count": 30,
   "metadata": {
    "slideshow": {
     "slide_type": "skip"
    }
   },
   "outputs": [],
   "source": [
    "from Grammars import crange, is_valid_grammar"
   ]
  },
  {
   "cell_type": "code",
   "execution_count": 31,
   "metadata": {
    "slideshow": {
     "slide_type": "subslide"
    }
   },
   "outputs": [],
   "source": [
    "ORDER_GRAMMAR = {\n",
    "    \"<start>\": [ \"<order>\" ],\n",
    "    \"<order>\": [ \"order?item=<item>&name=<name>&email=<email>&city=<city>&zip=<zip>\" ],\n",
    "    \"<item>\": [ \"tshirt\", \"drill\", \"lockset\" ],\n",
    "    \"<name>\": [ \"Jane Doe\", \"John Smith\" ],\n",
    "    \"<email>\": [ \"foo@example.com\"],\n",
    "    \"<city>\": [ \"Seattle\", \"New York\"],\n",
    "    \"<zip>\": [ \"<digit>\" * 5 ],\n",
    "    \"<digit>\": crange('0', '9')\n",
    "}\n",
    "assert is_valid_grammar(ORDER_GRAMMAR)"
   ]
  },
  {
   "cell_type": "markdown",
   "metadata": {
    "slideshow": {
     "slide_type": "fragment"
    }
   },
   "source": [
    "More interesting, though: Values that are not as common as these"
   ]
  },
  {
   "cell_type": "code",
   "execution_count": 32,
   "metadata": {
    "slideshow": {
     "slide_type": "subslide"
    }
   },
   "outputs": [
    {
     "data": {
      "text/plain": [
       "Ellipsis"
      ]
     },
     "execution_count": 32,
     "metadata": {},
     "output_type": "execute_result"
    }
   ],
   "source": [
    "BAD_ORDER_GRAMMAR = {\n",
    "    \"<name>\": [ \"Robert'; drop table students; --\"],  # https://xkcd.com/327/\n",
    "    \"<city>\": [ \"Mötley Crüe\" ],\n",
    "}\n",
    "..."
   ]
  },
  {
   "cell_type": "markdown",
   "metadata": {
    "slideshow": {
     "slide_type": "subslide"
    }
   },
   "source": [
    "Continue with:\n",
    "\n",
    "* Extract generic grammar from HTML automatically (including bad inputs)\n",
    "\n",
    "Then, add selenium to fuzz arbitrary Web pages\n",
    "\n",
    "* Adding selenium https://selenium-python.readthedocs.io\n",
    "* Synthesize selenium calls\n"
   ]
  },
  {
   "cell_type": "markdown",
   "metadata": {
    "slideshow": {
     "slide_type": "fragment"
    }
   },
   "source": [
    "Clean up:"
   ]
  },
  {
   "cell_type": "code",
   "execution_count": 33,
   "metadata": {
    "slideshow": {
     "slide_type": "fragment"
    }
   },
   "outputs": [],
   "source": [
    "time.sleep(5)\n",
    "http_process.terminate()"
   ]
  },
  {
   "cell_type": "code",
   "execution_count": 34,
   "metadata": {
    "slideshow": {
     "slide_type": "skip"
    }
   },
   "outputs": [],
   "source": [
    "import os"
   ]
  },
  {
   "cell_type": "code",
   "execution_count": 35,
   "metadata": {
    "button": false,
    "code_folding": [],
    "new_sheet": false,
    "run_control": {
     "read_only": false
    },
    "slideshow": {
     "slide_type": "subslide"
    }
   },
   "outputs": [],
   "source": [
    "os.remove(\"httpd_port.txt\")"
   ]
  },
  {
   "cell_type": "markdown",
   "metadata": {
    "button": false,
    "new_sheet": true,
    "run_control": {
     "read_only": false
    },
    "slideshow": {
     "slide_type": "slide"
    }
   },
   "source": [
    "## Lessons Learned\n",
    "\n",
    "* _Lesson one_\n",
    "* _Lesson two_\n",
    "* _Lesson three_"
   ]
  },
  {
   "cell_type": "markdown",
   "metadata": {
    "button": false,
    "new_sheet": false,
    "run_control": {
     "read_only": false
    },
    "slideshow": {
     "slide_type": "slide"
    }
   },
   "source": [
    "## Next Steps\n",
    "\n",
    "_Link to subsequent chapters (notebooks) here, as in:_\n",
    "\n",
    "* [use _mutations_ on existing inputs to get more valid inputs](MutationFuzzer.ipynb)\n",
    "* [use _grammars_ (i.e., a specification of the input format) to get even more valid inputs](Grammars.ipynb)\n",
    "* [reduce _failing inputs_ for efficient debugging](Reducer.ipynb)\n"
   ]
  },
  {
   "cell_type": "markdown",
   "metadata": {
    "slideshow": {
     "slide_type": "slide"
    }
   },
   "source": [
    "## Background\n",
    "\n",
    "_Cite relevant works in the literature and put them into context, as in:_\n",
    "\n",
    "The idea of ensuring that each expansion in the grammar is used at least once goes back to Burkhardt \\cite{Burkhardt1967}, to be later rediscovered by Paul Purdom \\cite{Purdom1972}."
   ]
  },
  {
   "cell_type": "markdown",
   "metadata": {
    "button": false,
    "new_sheet": true,
    "run_control": {
     "read_only": false
    },
    "slideshow": {
     "slide_type": "slide"
    }
   },
   "source": [
    "## Exercises\n",
    "\n",
    "_Close the chapter with a few exercises such that people have things to do.  To make the solutions hidden (to be revealed by the user), have them start with_\n",
    "\n",
    "```markdown\n",
    "**Solution.**\n",
    "```\n",
    "\n",
    "_Your solution can then extend up to the next title (i.e., any markdown cell starting with `#`)._\n",
    "\n",
    "_Running `make metadata` will automatically add metadata to the cells such that the cells will be hidden by default, and can be uncovered by the user.  The button will be introduced above the solution._"
   ]
  },
  {
   "cell_type": "markdown",
   "metadata": {
    "button": false,
    "new_sheet": false,
    "run_control": {
     "read_only": false
    },
    "slideshow": {
     "slide_type": "subslide"
    }
   },
   "source": [
    "### Exercise 1: _Title_\n",
    "\n",
    "_Text of the exercise_"
   ]
  },
  {
   "cell_type": "code",
   "execution_count": 36,
   "metadata": {
    "cell_style": "center",
    "slideshow": {
     "slide_type": "fragment"
    }
   },
   "outputs": [],
   "source": [
    "# Some code that is part of the exercise\n",
    "pass"
   ]
  },
  {
   "cell_type": "markdown",
   "metadata": {
    "slideshow": {
     "slide_type": "fragment"
    },
    "solution2": "hidden",
    "solution2_first": true
   },
   "source": [
    "_Some more text for the exercise_"
   ]
  },
  {
   "cell_type": "markdown",
   "metadata": {
    "slideshow": {
     "slide_type": "skip"
    },
    "solution2": "hidden"
   },
   "source": [
    "**Solution.** _Some text for the solution_"
   ]
  },
  {
   "cell_type": "code",
   "execution_count": 37,
   "metadata": {
    "cell_style": "split",
    "slideshow": {
     "slide_type": "skip"
    },
    "solution2": "hidden"
   },
   "outputs": [
    {
     "data": {
      "text/plain": [
       "4"
      ]
     },
     "execution_count": 37,
     "metadata": {},
     "output_type": "execute_result"
    }
   ],
   "source": [
    "# Some code for the solution\n",
    "2 + 2"
   ]
  },
  {
   "cell_type": "markdown",
   "metadata": {
    "slideshow": {
     "slide_type": "skip"
    },
    "solution2": "hidden"
   },
   "source": [
    "_Some more text for the solution_"
   ]
  },
  {
   "cell_type": "markdown",
   "metadata": {
    "button": false,
    "new_sheet": false,
    "run_control": {
     "read_only": false
    },
    "slideshow": {
     "slide_type": "subslide"
    },
    "solution": "hidden",
    "solution2": "hidden",
    "solution2_first": true,
    "solution_first": true
   },
   "source": [
    "### Exercise 2: _Title_\n",
    "\n",
    "_Text of the exercise_"
   ]
  },
  {
   "cell_type": "markdown",
   "metadata": {
    "button": false,
    "new_sheet": false,
    "run_control": {
     "read_only": false
    },
    "slideshow": {
     "slide_type": "skip"
    },
    "solution": "hidden",
    "solution2": "hidden"
   },
   "source": [
    "**Solution.** _Solution for the exercise_"
   ]
  },
  {
   "cell_type": "code",
   "execution_count": null,
   "metadata": {
    "slideshow": {
     "slide_type": "skip"
    },
    "solution2": "hidden"
   },
   "outputs": [],
   "source": []
  },
  {
   "cell_type": "code",
   "execution_count": null,
   "metadata": {
    "slideshow": {
     "slide_type": "skip"
    },
    "solution2": "hidden"
   },
   "outputs": [],
   "source": []
  },
  {
   "cell_type": "code",
   "execution_count": null,
   "metadata": {
    "slideshow": {
     "slide_type": "skip"
    },
    "solution2": "hidden"
   },
   "outputs": [],
   "source": []
  }
 ],
 "metadata": {
  "ipub": {
   "bibliography": "fuzzingbook.bib",
   "toc": true
  },
  "kernelspec": {
   "display_name": "Python 3",
   "language": "python",
   "name": "python3"
  },
  "language_info": {
   "codemirror_mode": {
    "name": "ipython",
    "version": 3
   },
   "file_extension": ".py",
   "mimetype": "text/x-python",
   "name": "python",
   "nbconvert_exporter": "python",
   "pygments_lexer": "ipython3",
   "version": "3.6.6"
  },
  "toc": {
   "base_numbering": 1,
   "nav_menu": {},
   "number_sections": true,
   "sideBar": true,
   "skip_h1_title": true,
   "title_cell": "",
   "title_sidebar": "Contents",
   "toc_cell": false,
   "toc_position": {},
   "toc_section_display": true,
   "toc_window_display": true
  },
  "toc-autonumbering": false,
  "toc-showmarkdowntxt": false
 },
 "nbformat": 4,
 "nbformat_minor": 2
}
