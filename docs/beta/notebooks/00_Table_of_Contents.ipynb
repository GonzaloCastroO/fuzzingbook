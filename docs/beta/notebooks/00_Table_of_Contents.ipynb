{
 "cells": [
  {
   "cell_type": "markdown",
   "metadata": {},
   "source": [
    "# Generating Software Tests"
   ]
  },
  {
   "cell_type": "markdown",
   "metadata": {},
   "source": [
    "## Table of Contents\n",
    "\n",
    "1. [Introduction to Software Testing](Intro_Testing.ipynb)\n",
    "1. [Fuzzing: Breaking Things with Random Inputs](Fuzzer.ipynb)\n",
    "1. [Getting Coverage](Coverage.ipynb)\n",
    "1. [Mutation-Based Fuzzing](MutationFuzzer.ipynb)\n",
    "1. [Fuzzing with Grammars](Grammars.ipynb)\n",
    "1. [Efficient Grammar Fuzzing](GrammarFuzzer.ipynb)\n",
    "1. [Grammar Coverage](GrammarCoverageFuzzer.ipynb)\n",
    "1. [Testing Configurations](ConfigurationFuzzer.ipynb)\n",
    "1. [Parsing and Recombining Inputs](Parser.ipynb)\n",
    "1. [Probabilistic Grammar Fuzzing](ProbabilisticGrammarFuzzer.ipynb)\n",
    "1. [Fuzzing with Generators](GeneratorGrammarFuzzer.ipynb)\n",
    "1. [Fuzzing APIs](APIFuzzer.ipynb)\n",
    "1. [Carving Unit Tests](Carver.ipynb)\n",
    "1. [Reducing Failure-Inducing Inputs](Reducer.ipynb)\n",
    "1. [Web GUI Fuzzing](WebFuzzer.ipynb)\n",
    "1. [Information Flow](InformationFlow.ipynb)\n",
    "1. [Mining Input Grammars](GrammarMiner.ipynb)\n"
   ]
  },
  {
   "cell_type": "markdown",
   "metadata": {},
   "source": [
    "## Appendices\n",
    "\n",
    "* [Error Handling](ExpectError.ipynb)\n",
    "* [Timer](Timer.ipynb)\n",
    "* [Railroad Diagrams](RailroadDiagrams.ipynb)\n"
   ]
  }
 ],
 "metadata": {
  "toc": {
   "base_numbering": 1,
   "nav_menu": {},
   "number_sections": false,
   "sideBar": false,
   "skip_h1_title": false,
   "title_cell": "",
   "title_sidebar": "Contents",
   "toc_cell": false,
   "toc_position": {},
   "toc_section_display": false,
   "toc_window_display": false
  }
 },
 "nbformat": 4,
 "nbformat_minor": 2
}