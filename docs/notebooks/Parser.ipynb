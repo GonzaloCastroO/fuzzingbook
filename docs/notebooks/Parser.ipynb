{
 "cells": [
  {
   "cell_type": "markdown",
   "metadata": {
    "button": false,
    "new_sheet": false,
    "run_control": {
     "read_only": false
    },
    "slideshow": {
     "slide_type": "notes"
    },
    "toc-hr-collapsed": false
   },
   "source": [
    "# Parsing and Recombining Inputs\n",
    "\n",
    "In the chapter on [Grammars](Grammars.ipynb), we discussed how grammars can be\n",
    "used to represent various languages. We also saw how grammars can be used to\n",
    "generate strings of the corresponding language. Grammars can also perform the\n",
    "reverse. That is, given a string, one can decompose the string into its\n",
    "constituent parts that correspond to the parts of grammar used to generate it\n",
    "– the _derivation tree_ of that string. These parts (and parts from other similar\n",
    "strings) can later be recombined using the same grammar to produce new strings.\n",
    "\n",
    "In this chapter, we use grammars to parse and decompose a given set of valid seed inputs into their corresponding derivation trees. This structural representation allows us to mutate, crossover, and recombine their parts in order to generate new valid, slightly changed inputs (i.e., fuzz)"
   ]
  },
  {
   "cell_type": "markdown",
   "metadata": {
    "slideshow": {
     "slide_type": "skip"
    }
   },
   "source": [
    "**Prerequisites**\n",
    "\n",
    "* You should have read the [chapter on grammars](Grammars.ipynb).\n",
    "* An understanding of derivation trees from the [chapter on grammar fuzzer](GrammarFuzzer.ipynb)\n",
    "  is also required."
   ]
  },
  {
   "cell_type": "markdown",
   "metadata": {
    "slideshow": {
     "slide_type": "slide"
    }
   },
   "source": [
    "## Fuzzing a Simple Program"
   ]
  },
  {
   "cell_type": "markdown",
   "metadata": {
    "slideshow": {
     "slide_type": "fragment"
    }
   },
   "source": [
    "Here is a simple program that accepts a CSV file of vehicle details and processes this information."
   ]
  },
  {
   "cell_type": "code",
   "execution_count": 1,
   "metadata": {
    "slideshow": {
     "slide_type": "subslide"
    }
   },
   "outputs": [],
   "source": [
    "def process_vehicle(vehicle):\n",
    "    year, kind, company, model, *_ = vehicle.split(',')\n",
    "    if kind == 'van':\n",
    "        print(\"We have a %s %s van from %s vintage.\" % (company, model, year))\n",
    "        iyear = int(year)\n",
    "        if iyear > 2010:\n",
    "            print(\"It is a recent model!\")\n",
    "        else:\n",
    "            print(\"It is an old but reliable model!\")\n",
    "    elif kind == 'car':\n",
    "        print(\"We have a %s %s car from %s vintage.\" % (company, model, year))\n",
    "        iyear = int(year)\n",
    "        if iyear > 2016:\n",
    "            print(\"It is a recent model!\")\n",
    "        else:\n",
    "            print(\"It is an old but reliable model!\")\n",
    "    else:\n",
    "        raise Exception('Invalid entry')"
   ]
  },
  {
   "cell_type": "markdown",
   "metadata": {
    "slideshow": {
     "slide_type": "subslide"
    }
   },
   "source": [
    "Here is a sample of inputs that the `process_vehicle()` accepts."
   ]
  },
  {
   "cell_type": "code",
   "execution_count": 2,
   "metadata": {
    "slideshow": {
     "slide_type": "fragment"
    }
   },
   "outputs": [
    {
     "name": "stdout",
     "output_type": "stream",
     "text": [
      "1997,van,Ford,E350\n",
      "2000,car,Mercury,Cougar\n"
     ]
    }
   ],
   "source": [
    "mystring = \"\"\"\\\n",
    "1997,van,Ford,E350\n",
    "2000,car,Mercury,Cougar\\\n",
    "\"\"\"\n",
    "print(mystring)"
   ]
  },
  {
   "cell_type": "markdown",
   "metadata": {
    "slideshow": {
     "slide_type": "fragment"
    }
   },
   "source": [
    "Let us try to fuzz this program. Given that it takes a CSV file, we can write a simple grammar for generating comma separated values, and generate the required inputs."
   ]
  },
  {
   "cell_type": "code",
   "execution_count": 3,
   "metadata": {
    "slideshow": {
     "slide_type": "skip"
    }
   },
   "outputs": [],
   "source": [
    "import string"
   ]
  },
  {
   "cell_type": "code",
   "execution_count": 4,
   "metadata": {
    "slideshow": {
     "slide_type": "subslide"
    }
   },
   "outputs": [],
   "source": [
    "CSV_GRAMMAR = {\n",
    "    '<start>' : ['<csvline>'],\n",
    "    '<csvline>': ['<items>'],\n",
    "    '<items>' :  ['<item>,<items>', '<item>'],\n",
    "    '<item>' : ['<letters>'],\n",
    "    '<letters>': ['<letter><letters>', '<letter>'],\n",
    "    '<letter>' : list(string.ascii_letters + string.digits + string.punctuation + ' \\t\\n')\n",
    "}"
   ]
  },
  {
   "cell_type": "markdown",
   "metadata": {
    "slideshow": {
     "slide_type": "fragment"
    }
   },
   "source": [
    " We need some infrastructure first for viewing the grammar."
   ]
  },
  {
   "cell_type": "code",
   "execution_count": 5,
   "metadata": {
    "slideshow": {
     "slide_type": "skip"
    }
   },
   "outputs": [],
   "source": [
    "import fuzzingbook_utils"
   ]
  },
  {
   "cell_type": "code",
   "execution_count": 6,
   "metadata": {
    "slideshow": {
     "slide_type": "skip"
    }
   },
   "outputs": [],
   "source": [
    "from Grammars import EXPR_GRAMMAR, START_SYMBOL, RE_NONTERMINAL, is_valid_grammar, syntax_diagram\n",
    "from Fuzzer import Fuzzer\n",
    "from GrammarFuzzer import GrammarFuzzer, FasterGrammarFuzzer, display_tree, tree_to_string, dot_escape\n",
    "\n",
    "from ExpectError import ExpectError\n",
    "from Coverage import Coverage\n",
    "from Timer import Timer"
   ]
  },
  {
   "cell_type": "code",
   "execution_count": 7,
   "metadata": {
    "slideshow": {
     "slide_type": "subslide"
    }
   },
   "outputs": [
    {
     "name": "stdout",
     "output_type": "stream",
     "text": [
      "start\n"
     ]
    },
    {
     "data": {
      "image/svg+xml": [
       "<svg class=\"railroad-diagram\" height=\"62\" viewBox=\"0 0 199.5 62\" width=\"199.5\" xmlns=\"http://www.w3.org/2000/svg\">\n",
       "<g transform=\"translate(.5 .5)\">\n",
       "<style>/* <![CDATA[ */\n",
       "    svg.railroad-diagram {\n",
       "        background-color:hsl(100,100%,100%);\n",
       "    }\n",
       "    svg.railroad-diagram path {\n",
       "        stroke-width:3;\n",
       "        stroke:black;\n",
       "        fill:rgba(0,0,0,0);\n",
       "    }\n",
       "    svg.railroad-diagram text {\n",
       "        font:bold 14px monospace;\n",
       "        text-anchor:middle;\n",
       "    }\n",
       "    svg.railroad-diagram text.label{\n",
       "        text-anchor:start;\n",
       "    }\n",
       "    svg.railroad-diagram text.comment{\n",
       "        font:italic 12px monospace;\n",
       "    }\n",
       "    svg.railroad-diagram rect{\n",
       "        stroke-width:3;\n",
       "        stroke:black;\n",
       "        fill:hsl(0,62%,82%);\n",
       "    }\n",
       "\n",
       "/* ]]> */\n",
       "</style><g>\n",
       "<path d=\"M20 21v20m10 -20v20m-10 -10h20\"/></g><g>\n",
       "<path d=\"M40 31h0.0\"/><path d=\"M159.5 31h0.0\"/><path d=\"M40.0 31h20\"/><g>\n",
       "<path d=\"M60.0 31h0.0\"/><path d=\"M139.5 31h0.0\"/><g class=\"non-terminal\">\n",
       "<path d=\"M60.0 31h0.0\"/><path d=\"M139.5 31h0.0\"/><rect height=\"22\" width=\"79.5\" x=\"60.0\" y=\"20\"/><text x=\"99.75\" y=\"35\">csvline</text></g></g><path d=\"M139.5 31h20\"/></g><path d=\"M 159.5 31 h 20 m -10 -10 v 20 m 10 -20 v 20\"/></g></svg>"
      ],
      "text/plain": [
       "<IPython.core.display.SVG object>"
      ]
     },
     "metadata": {},
     "output_type": "display_data"
    },
    {
     "name": "stdout",
     "output_type": "stream",
     "text": [
      "csvline\n"
     ]
    },
    {
     "data": {
      "image/svg+xml": [
       "<svg class=\"railroad-diagram\" height=\"62\" viewBox=\"0 0 182.5 62\" width=\"182.5\" xmlns=\"http://www.w3.org/2000/svg\">\n",
       "<g transform=\"translate(.5 .5)\">\n",
       "<style>/* <![CDATA[ */\n",
       "    svg.railroad-diagram {\n",
       "        background-color:hsl(100,100%,100%);\n",
       "    }\n",
       "    svg.railroad-diagram path {\n",
       "        stroke-width:3;\n",
       "        stroke:black;\n",
       "        fill:rgba(0,0,0,0);\n",
       "    }\n",
       "    svg.railroad-diagram text {\n",
       "        font:bold 14px monospace;\n",
       "        text-anchor:middle;\n",
       "    }\n",
       "    svg.railroad-diagram text.label{\n",
       "        text-anchor:start;\n",
       "    }\n",
       "    svg.railroad-diagram text.comment{\n",
       "        font:italic 12px monospace;\n",
       "    }\n",
       "    svg.railroad-diagram rect{\n",
       "        stroke-width:3;\n",
       "        stroke:black;\n",
       "        fill:hsl(0,62%,82%);\n",
       "    }\n",
       "\n",
       "/* ]]> */\n",
       "</style><g>\n",
       "<path d=\"M20 21v20m10 -20v20m-10 -10h20\"/></g><g>\n",
       "<path d=\"M40 31h0.0\"/><path d=\"M142.5 31h0.0\"/><path d=\"M40.0 31h20\"/><g>\n",
       "<path d=\"M60.0 31h0.0\"/><path d=\"M122.5 31h0.0\"/><g class=\"non-terminal\">\n",
       "<path d=\"M60.0 31h0.0\"/><path d=\"M122.5 31h0.0\"/><rect height=\"22\" width=\"62.5\" x=\"60.0\" y=\"20\"/><text x=\"91.25\" y=\"35\">items</text></g></g><path d=\"M122.5 31h20\"/></g><path d=\"M 142.5 31 h 20 m -10 -10 v 20 m 10 -20 v 20\"/></g></svg>"
      ],
      "text/plain": [
       "<IPython.core.display.SVG object>"
      ]
     },
     "metadata": {},
     "output_type": "display_data"
    },
    {
     "name": "stdout",
     "output_type": "stream",
     "text": [
      "items\n"
     ]
    },
    {
     "data": {
      "image/svg+xml": [
       "<svg class=\"railroad-diagram\" height=\"92\" viewBox=\"0 0 305.0 92\" width=\"305.0\" xmlns=\"http://www.w3.org/2000/svg\">\n",
       "<g transform=\"translate(.5 .5)\">\n",
       "<style>/* <![CDATA[ */\n",
       "    svg.railroad-diagram {\n",
       "        background-color:hsl(100,100%,100%);\n",
       "    }\n",
       "    svg.railroad-diagram path {\n",
       "        stroke-width:3;\n",
       "        stroke:black;\n",
       "        fill:rgba(0,0,0,0);\n",
       "    }\n",
       "    svg.railroad-diagram text {\n",
       "        font:bold 14px monospace;\n",
       "        text-anchor:middle;\n",
       "    }\n",
       "    svg.railroad-diagram text.label{\n",
       "        text-anchor:start;\n",
       "    }\n",
       "    svg.railroad-diagram text.comment{\n",
       "        font:italic 12px monospace;\n",
       "    }\n",
       "    svg.railroad-diagram rect{\n",
       "        stroke-width:3;\n",
       "        stroke:black;\n",
       "        fill:hsl(0,62%,82%);\n",
       "    }\n",
       "\n",
       "/* ]]> */\n",
       "</style><g>\n",
       "<path d=\"M20 51v20m10 -20v20m-10 -10h20\"/></g><g>\n",
       "<path d=\"M40 61h0.0\"/><path d=\"M265.0 61h0.0\"/><path d=\"M40.0 61a10 10 0 0 0 10 -10v-10a10 10 0 0 1 10 -10\"/><g>\n",
       "<path d=\"M60.0 31h0.0\"/><path d=\"M245.0 31h0.0\"/><g class=\"non-terminal\">\n",
       "<path d=\"M60.0 31h0.0\"/><path d=\"M114.0 31h0.0\"/><rect height=\"22\" width=\"54.0\" x=\"60.0\" y=\"20\"/><text x=\"87.0\" y=\"35\">item</text></g><path d=\"M114.0 31h10\"/><path d=\"M124.0 31h10\"/><g class=\"terminal\">\n",
       "<path d=\"M134.0 31h0.0\"/><path d=\"M162.5 31h0.0\"/><rect height=\"22\" rx=\"10\" ry=\"10\" width=\"28.5\" x=\"134.0\" y=\"20\"/><text x=\"148.25\" y=\"35\">,</text></g><path d=\"M162.5 31h10\"/><path d=\"M172.5 31h10\"/><g class=\"non-terminal\">\n",
       "<path d=\"M182.5 31h0.0\"/><path d=\"M245.0 31h0.0\"/><rect height=\"22\" width=\"62.5\" x=\"182.5\" y=\"20\"/><text x=\"213.75\" y=\"35\">items</text></g></g><path d=\"M245.0 31a10 10 0 0 1 10 10v10a10 10 0 0 0 10 10\"/><path d=\"M40.0 61h20\"/><g>\n",
       "<path d=\"M60.0 61h65.5\"/><path d=\"M179.5 61h65.5\"/><g class=\"non-terminal\">\n",
       "<path d=\"M125.5 61h0.0\"/><path d=\"M179.5 61h0.0\"/><rect height=\"22\" width=\"54.0\" x=\"125.5\" y=\"50\"/><text x=\"152.5\" y=\"65\">item</text></g></g><path d=\"M245.0 61h20\"/></g><path d=\"M 265.0 61 h 20 m -10 -10 v 20 m 10 -20 v 20\"/></g></svg>"
      ],
      "text/plain": [
       "<IPython.core.display.SVG object>"
      ]
     },
     "metadata": {},
     "output_type": "display_data"
    },
    {
     "name": "stdout",
     "output_type": "stream",
     "text": [
      "item\n"
     ]
    },
    {
     "data": {
      "image/svg+xml": [
       "<svg class=\"railroad-diagram\" height=\"62\" viewBox=\"0 0 199.5 62\" width=\"199.5\" xmlns=\"http://www.w3.org/2000/svg\">\n",
       "<g transform=\"translate(.5 .5)\">\n",
       "<style>/* <![CDATA[ */\n",
       "    svg.railroad-diagram {\n",
       "        background-color:hsl(100,100%,100%);\n",
       "    }\n",
       "    svg.railroad-diagram path {\n",
       "        stroke-width:3;\n",
       "        stroke:black;\n",
       "        fill:rgba(0,0,0,0);\n",
       "    }\n",
       "    svg.railroad-diagram text {\n",
       "        font:bold 14px monospace;\n",
       "        text-anchor:middle;\n",
       "    }\n",
       "    svg.railroad-diagram text.label{\n",
       "        text-anchor:start;\n",
       "    }\n",
       "    svg.railroad-diagram text.comment{\n",
       "        font:italic 12px monospace;\n",
       "    }\n",
       "    svg.railroad-diagram rect{\n",
       "        stroke-width:3;\n",
       "        stroke:black;\n",
       "        fill:hsl(0,62%,82%);\n",
       "    }\n",
       "\n",
       "/* ]]> */\n",
       "</style><g>\n",
       "<path d=\"M20 21v20m10 -20v20m-10 -10h20\"/></g><g>\n",
       "<path d=\"M40 31h0.0\"/><path d=\"M159.5 31h0.0\"/><path d=\"M40.0 31h20\"/><g>\n",
       "<path d=\"M60.0 31h0.0\"/><path d=\"M139.5 31h0.0\"/><g class=\"non-terminal\">\n",
       "<path d=\"M60.0 31h0.0\"/><path d=\"M139.5 31h0.0\"/><rect height=\"22\" width=\"79.5\" x=\"60.0\" y=\"20\"/><text x=\"99.75\" y=\"35\">letters</text></g></g><path d=\"M139.5 31h20\"/></g><path d=\"M 159.5 31 h 20 m -10 -10 v 20 m 10 -20 v 20\"/></g></svg>"
      ],
      "text/plain": [
       "<IPython.core.display.SVG object>"
      ]
     },
     "metadata": {},
     "output_type": "display_data"
    },
    {
     "name": "stdout",
     "output_type": "stream",
     "text": [
      "letters\n"
     ]
    },
    {
     "data": {
      "image/svg+xml": [
       "<svg class=\"railroad-diagram\" height=\"92\" viewBox=\"0 0 290.5 92\" width=\"290.5\" xmlns=\"http://www.w3.org/2000/svg\">\n",
       "<g transform=\"translate(.5 .5)\">\n",
       "<style>/* <![CDATA[ */\n",
       "    svg.railroad-diagram {\n",
       "        background-color:hsl(100,100%,100%);\n",
       "    }\n",
       "    svg.railroad-diagram path {\n",
       "        stroke-width:3;\n",
       "        stroke:black;\n",
       "        fill:rgba(0,0,0,0);\n",
       "    }\n",
       "    svg.railroad-diagram text {\n",
       "        font:bold 14px monospace;\n",
       "        text-anchor:middle;\n",
       "    }\n",
       "    svg.railroad-diagram text.label{\n",
       "        text-anchor:start;\n",
       "    }\n",
       "    svg.railroad-diagram text.comment{\n",
       "        font:italic 12px monospace;\n",
       "    }\n",
       "    svg.railroad-diagram rect{\n",
       "        stroke-width:3;\n",
       "        stroke:black;\n",
       "        fill:hsl(0,62%,82%);\n",
       "    }\n",
       "\n",
       "/* ]]> */\n",
       "</style><g>\n",
       "<path d=\"M20 51v20m10 -20v20m-10 -10h20\"/></g><g>\n",
       "<path d=\"M40 61h0.0\"/><path d=\"M250.5 61h0.0\"/><path d=\"M40.0 61a10 10 0 0 0 10 -10v-10a10 10 0 0 1 10 -10\"/><g>\n",
       "<path d=\"M60.0 31h0.0\"/><path d=\"M230.5 31h0.0\"/><g class=\"non-terminal\">\n",
       "<path d=\"M60.0 31h0.0\"/><path d=\"M131.0 31h0.0\"/><rect height=\"22\" width=\"71.0\" x=\"60.0\" y=\"20\"/><text x=\"95.5\" y=\"35\">letter</text></g><path d=\"M131.0 31h10\"/><path d=\"M141.0 31h10\"/><g class=\"non-terminal\">\n",
       "<path d=\"M151.0 31h0.0\"/><path d=\"M230.5 31h0.0\"/><rect height=\"22\" width=\"79.5\" x=\"151.0\" y=\"20\"/><text x=\"190.75\" y=\"35\">letters</text></g></g><path d=\"M230.5 31a10 10 0 0 1 10 10v10a10 10 0 0 0 10 10\"/><path d=\"M40.0 61h20\"/><g>\n",
       "<path d=\"M60.0 61h49.75\"/><path d=\"M180.75 61h49.75\"/><g class=\"non-terminal\">\n",
       "<path d=\"M109.75 61h0.0\"/><path d=\"M180.75 61h0.0\"/><rect height=\"22\" width=\"71.0\" x=\"109.75\" y=\"50\"/><text x=\"145.25\" y=\"65\">letter</text></g></g><path d=\"M230.5 61h20\"/></g><path d=\"M 250.5 61 h 20 m -10 -10 v 20 m 10 -20 v 20\"/></g></svg>"
      ],
      "text/plain": [
       "<IPython.core.display.SVG object>"
      ]
     },
     "metadata": {},
     "output_type": "display_data"
    },
    {
     "name": "stdout",
     "output_type": "stream",
     "text": [
      "letter\n"
     ]
    },
    {
     "data": {
      "image/svg+xml": [
       "<svg class=\"railroad-diagram\" height=\"618\" viewBox=\"0 0 611.0 618\" width=\"611.0\" xmlns=\"http://www.w3.org/2000/svg\">\n",
       "<g transform=\"translate(.5 .5)\">\n",
       "<style>/* <![CDATA[ */\n",
       "    svg.railroad-diagram {\n",
       "        background-color:hsl(100,100%,100%);\n",
       "    }\n",
       "    svg.railroad-diagram path {\n",
       "        stroke-width:3;\n",
       "        stroke:black;\n",
       "        fill:rgba(0,0,0,0);\n",
       "    }\n",
       "    svg.railroad-diagram text {\n",
       "        font:bold 14px monospace;\n",
       "        text-anchor:middle;\n",
       "    }\n",
       "    svg.railroad-diagram text.label{\n",
       "        text-anchor:start;\n",
       "    }\n",
       "    svg.railroad-diagram text.comment{\n",
       "        font:italic 12px monospace;\n",
       "    }\n",
       "    svg.railroad-diagram rect{\n",
       "        stroke-width:3;\n",
       "        stroke:black;\n",
       "        fill:hsl(0,62%,82%);\n",
       "    }\n",
       "\n",
       "/* ]]> */\n",
       "</style><g>\n",
       "<path d=\"M20 299v20m10 -20v20m-10 -10h20\"/></g><g>\n",
       "<path d=\"M40 309h0.0\"/><path d=\"M571.0 309h0.0\"/><path d=\"M40.0 309a10 10 0 0 0 10 -10v-269a10 10 0 0 1 10 -10h412.5\"/><path d=\"M138.5 598h412.5a10 10 0 0 0 10 -10v-269a10 10 0 0 1 10 -10\"/><path d=\"M40.0 309h10\"/><g>\n",
       "<path d=\"M50.0 309h0.0\"/><path d=\"M118.5 309h0.0\"/><path d=\"M50.0 309a10 10 0 0 0 10 -10v-10a10 10 0 0 1 10 -10\"/><g>\n",
       "<path d=\"M70.0 279h0.0\"/><path d=\"M98.5 279h0.0\"/><g class=\"terminal\">\n",
       "<path d=\"M70.0 279h0.0\"/><path d=\"M98.5 279h0.0\"/><rect height=\"22\" rx=\"10\" ry=\"10\" width=\"28.5\" x=\"70.0\" y=\"268\"/><text x=\"84.25\" y=\"283\">i</text></g></g><path d=\"M98.5 279a10 10 0 0 1 10 10v10a10 10 0 0 0 10 10\"/><path d=\"M50.0 309a10 10 0 0 0 10 -10v-40a10 10 0 0 1 10 -10\"/><g>\n",
       "<path d=\"M70.0 249h0.0\"/><path d=\"M98.5 249h0.0\"/><g class=\"terminal\">\n",
       "<path d=\"M70.0 249h0.0\"/><path d=\"M98.5 249h0.0\"/><rect height=\"22\" rx=\"10\" ry=\"10\" width=\"28.5\" x=\"70.0\" y=\"238\"/><text x=\"84.25\" y=\"253\">h</text></g></g><path d=\"M98.5 249a10 10 0 0 1 10 10v40a10 10 0 0 0 10 10\"/><path d=\"M50.0 309a10 10 0 0 0 10 -10v-70a10 10 0 0 1 10 -10\"/><g>\n",
       "<path d=\"M70.0 219h0.0\"/><path d=\"M98.5 219h0.0\"/><g class=\"terminal\">\n",
       "<path d=\"M70.0 219h0.0\"/><path d=\"M98.5 219h0.0\"/><rect height=\"22\" rx=\"10\" ry=\"10\" width=\"28.5\" x=\"70.0\" y=\"208\"/><text x=\"84.25\" y=\"223\">g</text></g></g><path d=\"M98.5 219a10 10 0 0 1 10 10v70a10 10 0 0 0 10 10\"/><path d=\"M50.0 309a10 10 0 0 0 10 -10v-100a10 10 0 0 1 10 -10\"/><g>\n",
       "<path d=\"M70.0 189h0.0\"/><path d=\"M98.5 189h0.0\"/><g class=\"terminal\">\n",
       "<path d=\"M70.0 189h0.0\"/><path d=\"M98.5 189h0.0\"/><rect height=\"22\" rx=\"10\" ry=\"10\" width=\"28.5\" x=\"70.0\" y=\"178\"/><text x=\"84.25\" y=\"193\">f</text></g></g><path d=\"M98.5 189a10 10 0 0 1 10 10v100a10 10 0 0 0 10 10\"/><path d=\"M50.0 309a10 10 0 0 0 10 -10v-130a10 10 0 0 1 10 -10\"/><g>\n",
       "<path d=\"M70.0 159h0.0\"/><path d=\"M98.5 159h0.0\"/><g class=\"terminal\">\n",
       "<path d=\"M70.0 159h0.0\"/><path d=\"M98.5 159h0.0\"/><rect height=\"22\" rx=\"10\" ry=\"10\" width=\"28.5\" x=\"70.0\" y=\"148\"/><text x=\"84.25\" y=\"163\">e</text></g></g><path d=\"M98.5 159a10 10 0 0 1 10 10v130a10 10 0 0 0 10 10\"/><path d=\"M50.0 309a10 10 0 0 0 10 -10v-160a10 10 0 0 1 10 -10\"/><g>\n",
       "<path d=\"M70.0 129h0.0\"/><path d=\"M98.5 129h0.0\"/><g class=\"terminal\">\n",
       "<path d=\"M70.0 129h0.0\"/><path d=\"M98.5 129h0.0\"/><rect height=\"22\" rx=\"10\" ry=\"10\" width=\"28.5\" x=\"70.0\" y=\"118\"/><text x=\"84.25\" y=\"133\">d</text></g></g><path d=\"M98.5 129a10 10 0 0 1 10 10v160a10 10 0 0 0 10 10\"/><path d=\"M50.0 309a10 10 0 0 0 10 -10v-190a10 10 0 0 1 10 -10\"/><g>\n",
       "<path d=\"M70.0 99h0.0\"/><path d=\"M98.5 99h0.0\"/><g class=\"terminal\">\n",
       "<path d=\"M70.0 99h0.0\"/><path d=\"M98.5 99h0.0\"/><rect height=\"22\" rx=\"10\" ry=\"10\" width=\"28.5\" x=\"70.0\" y=\"88\"/><text x=\"84.25\" y=\"103\">c</text></g></g><path d=\"M98.5 99a10 10 0 0 1 10 10v190a10 10 0 0 0 10 10\"/><path d=\"M50.0 309a10 10 0 0 0 10 -10v-220a10 10 0 0 1 10 -10\"/><g>\n",
       "<path d=\"M70.0 69h0.0\"/><path d=\"M98.5 69h0.0\"/><g class=\"terminal\">\n",
       "<path d=\"M70.0 69h0.0\"/><path d=\"M98.5 69h0.0\"/><rect height=\"22\" rx=\"10\" ry=\"10\" width=\"28.5\" x=\"70.0\" y=\"58\"/><text x=\"84.25\" y=\"73\">b</text></g></g><path d=\"M98.5 69a10 10 0 0 1 10 10v220a10 10 0 0 0 10 10\"/><path d=\"M50.0 309a10 10 0 0 0 10 -10v-250a10 10 0 0 1 10 -10\"/><g>\n",
       "<path d=\"M70.0 39h0.0\"/><path d=\"M98.5 39h0.0\"/><g class=\"terminal\">\n",
       "<path d=\"M70.0 39h0.0\"/><path d=\"M98.5 39h0.0\"/><rect height=\"22\" rx=\"10\" ry=\"10\" width=\"28.5\" x=\"70.0\" y=\"28\"/><text x=\"84.25\" y=\"43\">a</text></g></g><path d=\"M98.5 39a10 10 0 0 1 10 10v250a10 10 0 0 0 10 10\"/><path d=\"M50.0 309h20\"/><g>\n",
       "<path d=\"M70.0 309h0.0\"/><path d=\"M98.5 309h0.0\"/><g class=\"terminal\">\n",
       "<path d=\"M70.0 309h0.0\"/><path d=\"M98.5 309h0.0\"/><rect height=\"22\" rx=\"10\" ry=\"10\" width=\"28.5\" x=\"70.0\" y=\"298\"/><text x=\"84.25\" y=\"313\">j</text></g></g><path d=\"M98.5 309h20\"/><path d=\"M50.0 309a10 10 0 0 1 10 10v10a10 10 0 0 0 10 10\"/><g>\n",
       "<path d=\"M70.0 339h0.0\"/><path d=\"M98.5 339h0.0\"/><g class=\"terminal\">\n",
       "<path d=\"M70.0 339h0.0\"/><path d=\"M98.5 339h0.0\"/><rect height=\"22\" rx=\"10\" ry=\"10\" width=\"28.5\" x=\"70.0\" y=\"328\"/><text x=\"84.25\" y=\"343\">k</text></g></g><path d=\"M98.5 339a10 10 0 0 0 10 -10v-10a10 10 0 0 1 10 -10\"/><path d=\"M50.0 309a10 10 0 0 1 10 10v40a10 10 0 0 0 10 10\"/><g>\n",
       "<path d=\"M70.0 369h0.0\"/><path d=\"M98.5 369h0.0\"/><g class=\"terminal\">\n",
       "<path d=\"M70.0 369h0.0\"/><path d=\"M98.5 369h0.0\"/><rect height=\"22\" rx=\"10\" ry=\"10\" width=\"28.5\" x=\"70.0\" y=\"358\"/><text x=\"84.25\" y=\"373\">l</text></g></g><path d=\"M98.5 369a10 10 0 0 0 10 -10v-40a10 10 0 0 1 10 -10\"/><path d=\"M50.0 309a10 10 0 0 1 10 10v70a10 10 0 0 0 10 10\"/><g>\n",
       "<path d=\"M70.0 399h0.0\"/><path d=\"M98.5 399h0.0\"/><g class=\"terminal\">\n",
       "<path d=\"M70.0 399h0.0\"/><path d=\"M98.5 399h0.0\"/><rect height=\"22\" rx=\"10\" ry=\"10\" width=\"28.5\" x=\"70.0\" y=\"388\"/><text x=\"84.25\" y=\"403\">m</text></g></g><path d=\"M98.5 399a10 10 0 0 0 10 -10v-70a10 10 0 0 1 10 -10\"/><path d=\"M50.0 309a10 10 0 0 1 10 10v100a10 10 0 0 0 10 10\"/><g>\n",
       "<path d=\"M70.0 429h0.0\"/><path d=\"M98.5 429h0.0\"/><g class=\"terminal\">\n",
       "<path d=\"M70.0 429h0.0\"/><path d=\"M98.5 429h0.0\"/><rect height=\"22\" rx=\"10\" ry=\"10\" width=\"28.5\" x=\"70.0\" y=\"418\"/><text x=\"84.25\" y=\"433\">n</text></g></g><path d=\"M98.5 429a10 10 0 0 0 10 -10v-100a10 10 0 0 1 10 -10\"/><path d=\"M50.0 309a10 10 0 0 1 10 10v130a10 10 0 0 0 10 10\"/><g>\n",
       "<path d=\"M70.0 459h0.0\"/><path d=\"M98.5 459h0.0\"/><g class=\"terminal\">\n",
       "<path d=\"M70.0 459h0.0\"/><path d=\"M98.5 459h0.0\"/><rect height=\"22\" rx=\"10\" ry=\"10\" width=\"28.5\" x=\"70.0\" y=\"448\"/><text x=\"84.25\" y=\"463\">o</text></g></g><path d=\"M98.5 459a10 10 0 0 0 10 -10v-130a10 10 0 0 1 10 -10\"/><path d=\"M50.0 309a10 10 0 0 1 10 10v160a10 10 0 0 0 10 10\"/><g>\n",
       "<path d=\"M70.0 489h0.0\"/><path d=\"M98.5 489h0.0\"/><g class=\"terminal\">\n",
       "<path d=\"M70.0 489h0.0\"/><path d=\"M98.5 489h0.0\"/><rect height=\"22\" rx=\"10\" ry=\"10\" width=\"28.5\" x=\"70.0\" y=\"478\"/><text x=\"84.25\" y=\"493\">p</text></g></g><path d=\"M98.5 489a10 10 0 0 0 10 -10v-160a10 10 0 0 1 10 -10\"/><path d=\"M50.0 309a10 10 0 0 1 10 10v190a10 10 0 0 0 10 10\"/><g>\n",
       "<path d=\"M70.0 519h0.0\"/><path d=\"M98.5 519h0.0\"/><g class=\"terminal\">\n",
       "<path d=\"M70.0 519h0.0\"/><path d=\"M98.5 519h0.0\"/><rect height=\"22\" rx=\"10\" ry=\"10\" width=\"28.5\" x=\"70.0\" y=\"508\"/><text x=\"84.25\" y=\"523\">q</text></g></g><path d=\"M98.5 519a10 10 0 0 0 10 -10v-190a10 10 0 0 1 10 -10\"/><path d=\"M50.0 309a10 10 0 0 1 10 10v220a10 10 0 0 0 10 10\"/><g>\n",
       "<path d=\"M70.0 549h0.0\"/><path d=\"M98.5 549h0.0\"/><g class=\"terminal\">\n",
       "<path d=\"M70.0 549h0.0\"/><path d=\"M98.5 549h0.0\"/><rect height=\"22\" rx=\"10\" ry=\"10\" width=\"28.5\" x=\"70.0\" y=\"538\"/><text x=\"84.25\" y=\"553\">r</text></g></g><path d=\"M98.5 549a10 10 0 0 0 10 -10v-220a10 10 0 0 1 10 -10\"/><path d=\"M50.0 309a10 10 0 0 1 10 10v250a10 10 0 0 0 10 10\"/><g>\n",
       "<path d=\"M70.0 579h0.0\"/><path d=\"M98.5 579h0.0\"/><g class=\"terminal\">\n",
       "<path d=\"M70.0 579h0.0\"/><path d=\"M98.5 579h0.0\"/><rect height=\"22\" rx=\"10\" ry=\"10\" width=\"28.5\" x=\"70.0\" y=\"568\"/><text x=\"84.25\" y=\"583\">s</text></g></g><path d=\"M98.5 579a10 10 0 0 0 10 -10v-250a10 10 0 0 1 10 -10\"/></g><path d=\"M118.5 309a10 10 0 0 1 10 10v269a10 10 0 0 0 10 10\"/><path d=\"M118.5 20a10 10 0 0 1 10 10v269a10 10 0 0 0 10 10\"/><g>\n",
       "<path d=\"M138.5 309h0.0\"/><path d=\"M207.0 309h0.0\"/><path d=\"M138.5 309a10 10 0 0 0 10 -10v-10a10 10 0 0 1 10 -10\"/><g>\n",
       "<path d=\"M158.5 279h0.0\"/><path d=\"M187.0 279h0.0\"/><g class=\"terminal\">\n",
       "<path d=\"M158.5 279h0.0\"/><path d=\"M187.0 279h0.0\"/><rect height=\"22\" rx=\"10\" ry=\"10\" width=\"28.5\" x=\"158.5\" y=\"268\"/><text x=\"172.75\" y=\"283\">B</text></g></g><path d=\"M187.0 279a10 10 0 0 1 10 10v10a10 10 0 0 0 10 10\"/><path d=\"M138.5 309a10 10 0 0 0 10 -10v-40a10 10 0 0 1 10 -10\"/><g>\n",
       "<path d=\"M158.5 249h0.0\"/><path d=\"M187.0 249h0.0\"/><g class=\"terminal\">\n",
       "<path d=\"M158.5 249h0.0\"/><path d=\"M187.0 249h0.0\"/><rect height=\"22\" rx=\"10\" ry=\"10\" width=\"28.5\" x=\"158.5\" y=\"238\"/><text x=\"172.75\" y=\"253\">A</text></g></g><path d=\"M187.0 249a10 10 0 0 1 10 10v40a10 10 0 0 0 10 10\"/><path d=\"M138.5 309a10 10 0 0 0 10 -10v-70a10 10 0 0 1 10 -10\"/><g>\n",
       "<path d=\"M158.5 219h0.0\"/><path d=\"M187.0 219h0.0\"/><g class=\"terminal\">\n",
       "<path d=\"M158.5 219h0.0\"/><path d=\"M187.0 219h0.0\"/><rect height=\"22\" rx=\"10\" ry=\"10\" width=\"28.5\" x=\"158.5\" y=\"208\"/><text x=\"172.75\" y=\"223\">z</text></g></g><path d=\"M187.0 219a10 10 0 0 1 10 10v70a10 10 0 0 0 10 10\"/><path d=\"M138.5 309a10 10 0 0 0 10 -10v-100a10 10 0 0 1 10 -10\"/><g>\n",
       "<path d=\"M158.5 189h0.0\"/><path d=\"M187.0 189h0.0\"/><g class=\"terminal\">\n",
       "<path d=\"M158.5 189h0.0\"/><path d=\"M187.0 189h0.0\"/><rect height=\"22\" rx=\"10\" ry=\"10\" width=\"28.5\" x=\"158.5\" y=\"178\"/><text x=\"172.75\" y=\"193\">y</text></g></g><path d=\"M187.0 189a10 10 0 0 1 10 10v100a10 10 0 0 0 10 10\"/><path d=\"M138.5 309a10 10 0 0 0 10 -10v-130a10 10 0 0 1 10 -10\"/><g>\n",
       "<path d=\"M158.5 159h0.0\"/><path d=\"M187.0 159h0.0\"/><g class=\"terminal\">\n",
       "<path d=\"M158.5 159h0.0\"/><path d=\"M187.0 159h0.0\"/><rect height=\"22\" rx=\"10\" ry=\"10\" width=\"28.5\" x=\"158.5\" y=\"148\"/><text x=\"172.75\" y=\"163\">x</text></g></g><path d=\"M187.0 159a10 10 0 0 1 10 10v130a10 10 0 0 0 10 10\"/><path d=\"M138.5 309a10 10 0 0 0 10 -10v-160a10 10 0 0 1 10 -10\"/><g>\n",
       "<path d=\"M158.5 129h0.0\"/><path d=\"M187.0 129h0.0\"/><g class=\"terminal\">\n",
       "<path d=\"M158.5 129h0.0\"/><path d=\"M187.0 129h0.0\"/><rect height=\"22\" rx=\"10\" ry=\"10\" width=\"28.5\" x=\"158.5\" y=\"118\"/><text x=\"172.75\" y=\"133\">w</text></g></g><path d=\"M187.0 129a10 10 0 0 1 10 10v160a10 10 0 0 0 10 10\"/><path d=\"M138.5 309a10 10 0 0 0 10 -10v-190a10 10 0 0 1 10 -10\"/><g>\n",
       "<path d=\"M158.5 99h0.0\"/><path d=\"M187.0 99h0.0\"/><g class=\"terminal\">\n",
       "<path d=\"M158.5 99h0.0\"/><path d=\"M187.0 99h0.0\"/><rect height=\"22\" rx=\"10\" ry=\"10\" width=\"28.5\" x=\"158.5\" y=\"88\"/><text x=\"172.75\" y=\"103\">v</text></g></g><path d=\"M187.0 99a10 10 0 0 1 10 10v190a10 10 0 0 0 10 10\"/><path d=\"M138.5 309a10 10 0 0 0 10 -10v-220a10 10 0 0 1 10 -10\"/><g>\n",
       "<path d=\"M158.5 69h0.0\"/><path d=\"M187.0 69h0.0\"/><g class=\"terminal\">\n",
       "<path d=\"M158.5 69h0.0\"/><path d=\"M187.0 69h0.0\"/><rect height=\"22\" rx=\"10\" ry=\"10\" width=\"28.5\" x=\"158.5\" y=\"58\"/><text x=\"172.75\" y=\"73\">u</text></g></g><path d=\"M187.0 69a10 10 0 0 1 10 10v220a10 10 0 0 0 10 10\"/><path d=\"M138.5 309a10 10 0 0 0 10 -10v-250a10 10 0 0 1 10 -10\"/><g>\n",
       "<path d=\"M158.5 39h0.0\"/><path d=\"M187.0 39h0.0\"/><g class=\"terminal\">\n",
       "<path d=\"M158.5 39h0.0\"/><path d=\"M187.0 39h0.0\"/><rect height=\"22\" rx=\"10\" ry=\"10\" width=\"28.5\" x=\"158.5\" y=\"28\"/><text x=\"172.75\" y=\"43\">t</text></g></g><path d=\"M187.0 39a10 10 0 0 1 10 10v250a10 10 0 0 0 10 10\"/><path d=\"M138.5 309h20\"/><g>\n",
       "<path d=\"M158.5 309h0.0\"/><path d=\"M187.0 309h0.0\"/><g class=\"terminal\">\n",
       "<path d=\"M158.5 309h0.0\"/><path d=\"M187.0 309h0.0\"/><rect height=\"22\" rx=\"10\" ry=\"10\" width=\"28.5\" x=\"158.5\" y=\"298\"/><text x=\"172.75\" y=\"313\">C</text></g></g><path d=\"M187.0 309h20\"/><path d=\"M138.5 309a10 10 0 0 1 10 10v10a10 10 0 0 0 10 10\"/><g>\n",
       "<path d=\"M158.5 339h0.0\"/><path d=\"M187.0 339h0.0\"/><g class=\"terminal\">\n",
       "<path d=\"M158.5 339h0.0\"/><path d=\"M187.0 339h0.0\"/><rect height=\"22\" rx=\"10\" ry=\"10\" width=\"28.5\" x=\"158.5\" y=\"328\"/><text x=\"172.75\" y=\"343\">D</text></g></g><path d=\"M187.0 339a10 10 0 0 0 10 -10v-10a10 10 0 0 1 10 -10\"/><path d=\"M138.5 309a10 10 0 0 1 10 10v40a10 10 0 0 0 10 10\"/><g>\n",
       "<path d=\"M158.5 369h0.0\"/><path d=\"M187.0 369h0.0\"/><g class=\"terminal\">\n",
       "<path d=\"M158.5 369h0.0\"/><path d=\"M187.0 369h0.0\"/><rect height=\"22\" rx=\"10\" ry=\"10\" width=\"28.5\" x=\"158.5\" y=\"358\"/><text x=\"172.75\" y=\"373\">E</text></g></g><path d=\"M187.0 369a10 10 0 0 0 10 -10v-40a10 10 0 0 1 10 -10\"/><path d=\"M138.5 309a10 10 0 0 1 10 10v70a10 10 0 0 0 10 10\"/><g>\n",
       "<path d=\"M158.5 399h0.0\"/><path d=\"M187.0 399h0.0\"/><g class=\"terminal\">\n",
       "<path d=\"M158.5 399h0.0\"/><path d=\"M187.0 399h0.0\"/><rect height=\"22\" rx=\"10\" ry=\"10\" width=\"28.5\" x=\"158.5\" y=\"388\"/><text x=\"172.75\" y=\"403\">F</text></g></g><path d=\"M187.0 399a10 10 0 0 0 10 -10v-70a10 10 0 0 1 10 -10\"/><path d=\"M138.5 309a10 10 0 0 1 10 10v100a10 10 0 0 0 10 10\"/><g>\n",
       "<path d=\"M158.5 429h0.0\"/><path d=\"M187.0 429h0.0\"/><g class=\"terminal\">\n",
       "<path d=\"M158.5 429h0.0\"/><path d=\"M187.0 429h0.0\"/><rect height=\"22\" rx=\"10\" ry=\"10\" width=\"28.5\" x=\"158.5\" y=\"418\"/><text x=\"172.75\" y=\"433\">G</text></g></g><path d=\"M187.0 429a10 10 0 0 0 10 -10v-100a10 10 0 0 1 10 -10\"/><path d=\"M138.5 309a10 10 0 0 1 10 10v130a10 10 0 0 0 10 10\"/><g>\n",
       "<path d=\"M158.5 459h0.0\"/><path d=\"M187.0 459h0.0\"/><g class=\"terminal\">\n",
       "<path d=\"M158.5 459h0.0\"/><path d=\"M187.0 459h0.0\"/><rect height=\"22\" rx=\"10\" ry=\"10\" width=\"28.5\" x=\"158.5\" y=\"448\"/><text x=\"172.75\" y=\"463\">H</text></g></g><path d=\"M187.0 459a10 10 0 0 0 10 -10v-130a10 10 0 0 1 10 -10\"/><path d=\"M138.5 309a10 10 0 0 1 10 10v160a10 10 0 0 0 10 10\"/><g>\n",
       "<path d=\"M158.5 489h0.0\"/><path d=\"M187.0 489h0.0\"/><g class=\"terminal\">\n",
       "<path d=\"M158.5 489h0.0\"/><path d=\"M187.0 489h0.0\"/><rect height=\"22\" rx=\"10\" ry=\"10\" width=\"28.5\" x=\"158.5\" y=\"478\"/><text x=\"172.75\" y=\"493\">I</text></g></g><path d=\"M187.0 489a10 10 0 0 0 10 -10v-160a10 10 0 0 1 10 -10\"/><path d=\"M138.5 309a10 10 0 0 1 10 10v190a10 10 0 0 0 10 10\"/><g>\n",
       "<path d=\"M158.5 519h0.0\"/><path d=\"M187.0 519h0.0\"/><g class=\"terminal\">\n",
       "<path d=\"M158.5 519h0.0\"/><path d=\"M187.0 519h0.0\"/><rect height=\"22\" rx=\"10\" ry=\"10\" width=\"28.5\" x=\"158.5\" y=\"508\"/><text x=\"172.75\" y=\"523\">J</text></g></g><path d=\"M187.0 519a10 10 0 0 0 10 -10v-190a10 10 0 0 1 10 -10\"/><path d=\"M138.5 309a10 10 0 0 1 10 10v220a10 10 0 0 0 10 10\"/><g>\n",
       "<path d=\"M158.5 549h0.0\"/><path d=\"M187.0 549h0.0\"/><g class=\"terminal\">\n",
       "<path d=\"M158.5 549h0.0\"/><path d=\"M187.0 549h0.0\"/><rect height=\"22\" rx=\"10\" ry=\"10\" width=\"28.5\" x=\"158.5\" y=\"538\"/><text x=\"172.75\" y=\"553\">K</text></g></g><path d=\"M187.0 549a10 10 0 0 0 10 -10v-220a10 10 0 0 1 10 -10\"/><path d=\"M138.5 309a10 10 0 0 1 10 10v250a10 10 0 0 0 10 10\"/><g>\n",
       "<path d=\"M158.5 579h0.0\"/><path d=\"M187.0 579h0.0\"/><g class=\"terminal\">\n",
       "<path d=\"M158.5 579h0.0\"/><path d=\"M187.0 579h0.0\"/><rect height=\"22\" rx=\"10\" ry=\"10\" width=\"28.5\" x=\"158.5\" y=\"568\"/><text x=\"172.75\" y=\"583\">L</text></g></g><path d=\"M187.0 579a10 10 0 0 0 10 -10v-250a10 10 0 0 1 10 -10\"/></g><path d=\"M207.0 309a10 10 0 0 1 10 10v269a10 10 0 0 0 10 10\"/><path d=\"M207.0 20a10 10 0 0 1 10 10v269a10 10 0 0 0 10 10\"/><g>\n",
       "<path d=\"M227.0 309h0.0\"/><path d=\"M295.5 309h0.0\"/><path d=\"M227.0 309a10 10 0 0 0 10 -10v-10a10 10 0 0 1 10 -10\"/><g>\n",
       "<path d=\"M247.0 279h0.0\"/><path d=\"M275.5 279h0.0\"/><g class=\"terminal\">\n",
       "<path d=\"M247.0 279h0.0\"/><path d=\"M275.5 279h0.0\"/><rect height=\"22\" rx=\"10\" ry=\"10\" width=\"28.5\" x=\"247.0\" y=\"268\"/><text x=\"261.25\" y=\"283\">U</text></g></g><path d=\"M275.5 279a10 10 0 0 1 10 10v10a10 10 0 0 0 10 10\"/><path d=\"M227.0 309a10 10 0 0 0 10 -10v-40a10 10 0 0 1 10 -10\"/><g>\n",
       "<path d=\"M247.0 249h0.0\"/><path d=\"M275.5 249h0.0\"/><g class=\"terminal\">\n",
       "<path d=\"M247.0 249h0.0\"/><path d=\"M275.5 249h0.0\"/><rect height=\"22\" rx=\"10\" ry=\"10\" width=\"28.5\" x=\"247.0\" y=\"238\"/><text x=\"261.25\" y=\"253\">T</text></g></g><path d=\"M275.5 249a10 10 0 0 1 10 10v40a10 10 0 0 0 10 10\"/><path d=\"M227.0 309a10 10 0 0 0 10 -10v-70a10 10 0 0 1 10 -10\"/><g>\n",
       "<path d=\"M247.0 219h0.0\"/><path d=\"M275.5 219h0.0\"/><g class=\"terminal\">\n",
       "<path d=\"M247.0 219h0.0\"/><path d=\"M275.5 219h0.0\"/><rect height=\"22\" rx=\"10\" ry=\"10\" width=\"28.5\" x=\"247.0\" y=\"208\"/><text x=\"261.25\" y=\"223\">S</text></g></g><path d=\"M275.5 219a10 10 0 0 1 10 10v70a10 10 0 0 0 10 10\"/><path d=\"M227.0 309a10 10 0 0 0 10 -10v-100a10 10 0 0 1 10 -10\"/><g>\n",
       "<path d=\"M247.0 189h0.0\"/><path d=\"M275.5 189h0.0\"/><g class=\"terminal\">\n",
       "<path d=\"M247.0 189h0.0\"/><path d=\"M275.5 189h0.0\"/><rect height=\"22\" rx=\"10\" ry=\"10\" width=\"28.5\" x=\"247.0\" y=\"178\"/><text x=\"261.25\" y=\"193\">R</text></g></g><path d=\"M275.5 189a10 10 0 0 1 10 10v100a10 10 0 0 0 10 10\"/><path d=\"M227.0 309a10 10 0 0 0 10 -10v-130a10 10 0 0 1 10 -10\"/><g>\n",
       "<path d=\"M247.0 159h0.0\"/><path d=\"M275.5 159h0.0\"/><g class=\"terminal\">\n",
       "<path d=\"M247.0 159h0.0\"/><path d=\"M275.5 159h0.0\"/><rect height=\"22\" rx=\"10\" ry=\"10\" width=\"28.5\" x=\"247.0\" y=\"148\"/><text x=\"261.25\" y=\"163\">Q</text></g></g><path d=\"M275.5 159a10 10 0 0 1 10 10v130a10 10 0 0 0 10 10\"/><path d=\"M227.0 309a10 10 0 0 0 10 -10v-160a10 10 0 0 1 10 -10\"/><g>\n",
       "<path d=\"M247.0 129h0.0\"/><path d=\"M275.5 129h0.0\"/><g class=\"terminal\">\n",
       "<path d=\"M247.0 129h0.0\"/><path d=\"M275.5 129h0.0\"/><rect height=\"22\" rx=\"10\" ry=\"10\" width=\"28.5\" x=\"247.0\" y=\"118\"/><text x=\"261.25\" y=\"133\">P</text></g></g><path d=\"M275.5 129a10 10 0 0 1 10 10v160a10 10 0 0 0 10 10\"/><path d=\"M227.0 309a10 10 0 0 0 10 -10v-190a10 10 0 0 1 10 -10\"/><g>\n",
       "<path d=\"M247.0 99h0.0\"/><path d=\"M275.5 99h0.0\"/><g class=\"terminal\">\n",
       "<path d=\"M247.0 99h0.0\"/><path d=\"M275.5 99h0.0\"/><rect height=\"22\" rx=\"10\" ry=\"10\" width=\"28.5\" x=\"247.0\" y=\"88\"/><text x=\"261.25\" y=\"103\">O</text></g></g><path d=\"M275.5 99a10 10 0 0 1 10 10v190a10 10 0 0 0 10 10\"/><path d=\"M227.0 309a10 10 0 0 0 10 -10v-220a10 10 0 0 1 10 -10\"/><g>\n",
       "<path d=\"M247.0 69h0.0\"/><path d=\"M275.5 69h0.0\"/><g class=\"terminal\">\n",
       "<path d=\"M247.0 69h0.0\"/><path d=\"M275.5 69h0.0\"/><rect height=\"22\" rx=\"10\" ry=\"10\" width=\"28.5\" x=\"247.0\" y=\"58\"/><text x=\"261.25\" y=\"73\">N</text></g></g><path d=\"M275.5 69a10 10 0 0 1 10 10v220a10 10 0 0 0 10 10\"/><path d=\"M227.0 309a10 10 0 0 0 10 -10v-250a10 10 0 0 1 10 -10\"/><g>\n",
       "<path d=\"M247.0 39h0.0\"/><path d=\"M275.5 39h0.0\"/><g class=\"terminal\">\n",
       "<path d=\"M247.0 39h0.0\"/><path d=\"M275.5 39h0.0\"/><rect height=\"22\" rx=\"10\" ry=\"10\" width=\"28.5\" x=\"247.0\" y=\"28\"/><text x=\"261.25\" y=\"43\">M</text></g></g><path d=\"M275.5 39a10 10 0 0 1 10 10v250a10 10 0 0 0 10 10\"/><path d=\"M227.0 309h20\"/><g>\n",
       "<path d=\"M247.0 309h0.0\"/><path d=\"M275.5 309h0.0\"/><g class=\"terminal\">\n",
       "<path d=\"M247.0 309h0.0\"/><path d=\"M275.5 309h0.0\"/><rect height=\"22\" rx=\"10\" ry=\"10\" width=\"28.5\" x=\"247.0\" y=\"298\"/><text x=\"261.25\" y=\"313\">V</text></g></g><path d=\"M275.5 309h20\"/><path d=\"M227.0 309a10 10 0 0 1 10 10v10a10 10 0 0 0 10 10\"/><g>\n",
       "<path d=\"M247.0 339h0.0\"/><path d=\"M275.5 339h0.0\"/><g class=\"terminal\">\n",
       "<path d=\"M247.0 339h0.0\"/><path d=\"M275.5 339h0.0\"/><rect height=\"22\" rx=\"10\" ry=\"10\" width=\"28.5\" x=\"247.0\" y=\"328\"/><text x=\"261.25\" y=\"343\">W</text></g></g><path d=\"M275.5 339a10 10 0 0 0 10 -10v-10a10 10 0 0 1 10 -10\"/><path d=\"M227.0 309a10 10 0 0 1 10 10v40a10 10 0 0 0 10 10\"/><g>\n",
       "<path d=\"M247.0 369h0.0\"/><path d=\"M275.5 369h0.0\"/><g class=\"terminal\">\n",
       "<path d=\"M247.0 369h0.0\"/><path d=\"M275.5 369h0.0\"/><rect height=\"22\" rx=\"10\" ry=\"10\" width=\"28.5\" x=\"247.0\" y=\"358\"/><text x=\"261.25\" y=\"373\">X</text></g></g><path d=\"M275.5 369a10 10 0 0 0 10 -10v-40a10 10 0 0 1 10 -10\"/><path d=\"M227.0 309a10 10 0 0 1 10 10v70a10 10 0 0 0 10 10\"/><g>\n",
       "<path d=\"M247.0 399h0.0\"/><path d=\"M275.5 399h0.0\"/><g class=\"terminal\">\n",
       "<path d=\"M247.0 399h0.0\"/><path d=\"M275.5 399h0.0\"/><rect height=\"22\" rx=\"10\" ry=\"10\" width=\"28.5\" x=\"247.0\" y=\"388\"/><text x=\"261.25\" y=\"403\">Y</text></g></g><path d=\"M275.5 399a10 10 0 0 0 10 -10v-70a10 10 0 0 1 10 -10\"/><path d=\"M227.0 309a10 10 0 0 1 10 10v100a10 10 0 0 0 10 10\"/><g>\n",
       "<path d=\"M247.0 429h0.0\"/><path d=\"M275.5 429h0.0\"/><g class=\"terminal\">\n",
       "<path d=\"M247.0 429h0.0\"/><path d=\"M275.5 429h0.0\"/><rect height=\"22\" rx=\"10\" ry=\"10\" width=\"28.5\" x=\"247.0\" y=\"418\"/><text x=\"261.25\" y=\"433\">Z</text></g></g><path d=\"M275.5 429a10 10 0 0 0 10 -10v-100a10 10 0 0 1 10 -10\"/><path d=\"M227.0 309a10 10 0 0 1 10 10v130a10 10 0 0 0 10 10\"/><g>\n",
       "<path d=\"M247.0 459h0.0\"/><path d=\"M275.5 459h0.0\"/><g class=\"terminal\">\n",
       "<path d=\"M247.0 459h0.0\"/><path d=\"M275.5 459h0.0\"/><rect height=\"22\" rx=\"10\" ry=\"10\" width=\"28.5\" x=\"247.0\" y=\"448\"/><text x=\"261.25\" y=\"463\">0</text></g></g><path d=\"M275.5 459a10 10 0 0 0 10 -10v-130a10 10 0 0 1 10 -10\"/><path d=\"M227.0 309a10 10 0 0 1 10 10v160a10 10 0 0 0 10 10\"/><g>\n",
       "<path d=\"M247.0 489h0.0\"/><path d=\"M275.5 489h0.0\"/><g class=\"terminal\">\n",
       "<path d=\"M247.0 489h0.0\"/><path d=\"M275.5 489h0.0\"/><rect height=\"22\" rx=\"10\" ry=\"10\" width=\"28.5\" x=\"247.0\" y=\"478\"/><text x=\"261.25\" y=\"493\">1</text></g></g><path d=\"M275.5 489a10 10 0 0 0 10 -10v-160a10 10 0 0 1 10 -10\"/><path d=\"M227.0 309a10 10 0 0 1 10 10v190a10 10 0 0 0 10 10\"/><g>\n",
       "<path d=\"M247.0 519h0.0\"/><path d=\"M275.5 519h0.0\"/><g class=\"terminal\">\n",
       "<path d=\"M247.0 519h0.0\"/><path d=\"M275.5 519h0.0\"/><rect height=\"22\" rx=\"10\" ry=\"10\" width=\"28.5\" x=\"247.0\" y=\"508\"/><text x=\"261.25\" y=\"523\">2</text></g></g><path d=\"M275.5 519a10 10 0 0 0 10 -10v-190a10 10 0 0 1 10 -10\"/><path d=\"M227.0 309a10 10 0 0 1 10 10v220a10 10 0 0 0 10 10\"/><g>\n",
       "<path d=\"M247.0 549h0.0\"/><path d=\"M275.5 549h0.0\"/><g class=\"terminal\">\n",
       "<path d=\"M247.0 549h0.0\"/><path d=\"M275.5 549h0.0\"/><rect height=\"22\" rx=\"10\" ry=\"10\" width=\"28.5\" x=\"247.0\" y=\"538\"/><text x=\"261.25\" y=\"553\">3</text></g></g><path d=\"M275.5 549a10 10 0 0 0 10 -10v-220a10 10 0 0 1 10 -10\"/><path d=\"M227.0 309a10 10 0 0 1 10 10v250a10 10 0 0 0 10 10\"/><g>\n",
       "<path d=\"M247.0 579h0.0\"/><path d=\"M275.5 579h0.0\"/><g class=\"terminal\">\n",
       "<path d=\"M247.0 579h0.0\"/><path d=\"M275.5 579h0.0\"/><rect height=\"22\" rx=\"10\" ry=\"10\" width=\"28.5\" x=\"247.0\" y=\"568\"/><text x=\"261.25\" y=\"583\">4</text></g></g><path d=\"M275.5 579a10 10 0 0 0 10 -10v-250a10 10 0 0 1 10 -10\"/></g><path d=\"M295.5 309a10 10 0 0 1 10 10v269a10 10 0 0 0 10 10\"/><path d=\"M295.5 20a10 10 0 0 1 10 10v269a10 10 0 0 0 10 10\"/><g>\n",
       "<path d=\"M315.5 309h0.0\"/><path d=\"M384.0 309h0.0\"/><path d=\"M315.5 309a10 10 0 0 0 10 -10v-10a10 10 0 0 1 10 -10\"/><g>\n",
       "<path d=\"M335.5 279h0.0\"/><path d=\"M364.0 279h0.0\"/><g class=\"terminal\">\n",
       "<path d=\"M335.5 279h0.0\"/><path d=\"M364.0 279h0.0\"/><rect height=\"22\" rx=\"10\" ry=\"10\" width=\"28.5\" x=\"335.5\" y=\"268\"/><text x=\"349.75\" y=\"283\">$</text></g></g><path d=\"M364.0 279a10 10 0 0 1 10 10v10a10 10 0 0 0 10 10\"/><path d=\"M315.5 309a10 10 0 0 0 10 -10v-40a10 10 0 0 1 10 -10\"/><g>\n",
       "<path d=\"M335.5 249h0.0\"/><path d=\"M364.0 249h0.0\"/><g class=\"terminal\">\n",
       "<path d=\"M335.5 249h0.0\"/><path d=\"M364.0 249h0.0\"/><rect height=\"22\" rx=\"10\" ry=\"10\" width=\"28.5\" x=\"335.5\" y=\"238\"/><text x=\"349.75\" y=\"253\">#</text></g></g><path d=\"M364.0 249a10 10 0 0 1 10 10v40a10 10 0 0 0 10 10\"/><path d=\"M315.5 309a10 10 0 0 0 10 -10v-70a10 10 0 0 1 10 -10\"/><g>\n",
       "<path d=\"M335.5 219h0.0\"/><path d=\"M364.0 219h0.0\"/><g class=\"terminal\">\n",
       "<path d=\"M335.5 219h0.0\"/><path d=\"M364.0 219h0.0\"/><rect height=\"22\" rx=\"10\" ry=\"10\" width=\"28.5\" x=\"335.5\" y=\"208\"/><text x=\"349.75\" y=\"223\">&quot;</text></g></g><path d=\"M364.0 219a10 10 0 0 1 10 10v70a10 10 0 0 0 10 10\"/><path d=\"M315.5 309a10 10 0 0 0 10 -10v-100a10 10 0 0 1 10 -10\"/><g>\n",
       "<path d=\"M335.5 189h0.0\"/><path d=\"M364.0 189h0.0\"/><g class=\"terminal\">\n",
       "<path d=\"M335.5 189h0.0\"/><path d=\"M364.0 189h0.0\"/><rect height=\"22\" rx=\"10\" ry=\"10\" width=\"28.5\" x=\"335.5\" y=\"178\"/><text x=\"349.75\" y=\"193\">!</text></g></g><path d=\"M364.0 189a10 10 0 0 1 10 10v100a10 10 0 0 0 10 10\"/><path d=\"M315.5 309a10 10 0 0 0 10 -10v-130a10 10 0 0 1 10 -10\"/><g>\n",
       "<path d=\"M335.5 159h0.0\"/><path d=\"M364.0 159h0.0\"/><g class=\"terminal\">\n",
       "<path d=\"M335.5 159h0.0\"/><path d=\"M364.0 159h0.0\"/><rect height=\"22\" rx=\"10\" ry=\"10\" width=\"28.5\" x=\"335.5\" y=\"148\"/><text x=\"349.75\" y=\"163\">9</text></g></g><path d=\"M364.0 159a10 10 0 0 1 10 10v130a10 10 0 0 0 10 10\"/><path d=\"M315.5 309a10 10 0 0 0 10 -10v-160a10 10 0 0 1 10 -10\"/><g>\n",
       "<path d=\"M335.5 129h0.0\"/><path d=\"M364.0 129h0.0\"/><g class=\"terminal\">\n",
       "<path d=\"M335.5 129h0.0\"/><path d=\"M364.0 129h0.0\"/><rect height=\"22\" rx=\"10\" ry=\"10\" width=\"28.5\" x=\"335.5\" y=\"118\"/><text x=\"349.75\" y=\"133\">8</text></g></g><path d=\"M364.0 129a10 10 0 0 1 10 10v160a10 10 0 0 0 10 10\"/><path d=\"M315.5 309a10 10 0 0 0 10 -10v-190a10 10 0 0 1 10 -10\"/><g>\n",
       "<path d=\"M335.5 99h0.0\"/><path d=\"M364.0 99h0.0\"/><g class=\"terminal\">\n",
       "<path d=\"M335.5 99h0.0\"/><path d=\"M364.0 99h0.0\"/><rect height=\"22\" rx=\"10\" ry=\"10\" width=\"28.5\" x=\"335.5\" y=\"88\"/><text x=\"349.75\" y=\"103\">7</text></g></g><path d=\"M364.0 99a10 10 0 0 1 10 10v190a10 10 0 0 0 10 10\"/><path d=\"M315.5 309a10 10 0 0 0 10 -10v-220a10 10 0 0 1 10 -10\"/><g>\n",
       "<path d=\"M335.5 69h0.0\"/><path d=\"M364.0 69h0.0\"/><g class=\"terminal\">\n",
       "<path d=\"M335.5 69h0.0\"/><path d=\"M364.0 69h0.0\"/><rect height=\"22\" rx=\"10\" ry=\"10\" width=\"28.5\" x=\"335.5\" y=\"58\"/><text x=\"349.75\" y=\"73\">6</text></g></g><path d=\"M364.0 69a10 10 0 0 1 10 10v220a10 10 0 0 0 10 10\"/><path d=\"M315.5 309a10 10 0 0 0 10 -10v-250a10 10 0 0 1 10 -10\"/><g>\n",
       "<path d=\"M335.5 39h0.0\"/><path d=\"M364.0 39h0.0\"/><g class=\"terminal\">\n",
       "<path d=\"M335.5 39h0.0\"/><path d=\"M364.0 39h0.0\"/><rect height=\"22\" rx=\"10\" ry=\"10\" width=\"28.5\" x=\"335.5\" y=\"28\"/><text x=\"349.75\" y=\"43\">5</text></g></g><path d=\"M364.0 39a10 10 0 0 1 10 10v250a10 10 0 0 0 10 10\"/><path d=\"M315.5 309h20\"/><g>\n",
       "<path d=\"M335.5 309h0.0\"/><path d=\"M364.0 309h0.0\"/><g class=\"terminal\">\n",
       "<path d=\"M335.5 309h0.0\"/><path d=\"M364.0 309h0.0\"/><rect height=\"22\" rx=\"10\" ry=\"10\" width=\"28.5\" x=\"335.5\" y=\"298\"/><text x=\"349.75\" y=\"313\">%</text></g></g><path d=\"M364.0 309h20\"/><path d=\"M315.5 309a10 10 0 0 1 10 10v10a10 10 0 0 0 10 10\"/><g>\n",
       "<path d=\"M335.5 339h0.0\"/><path d=\"M364.0 339h0.0\"/><g class=\"terminal\">\n",
       "<path d=\"M335.5 339h0.0\"/><path d=\"M364.0 339h0.0\"/><rect height=\"22\" rx=\"10\" ry=\"10\" width=\"28.5\" x=\"335.5\" y=\"328\"/><text x=\"349.75\" y=\"343\">&amp;</text></g></g><path d=\"M364.0 339a10 10 0 0 0 10 -10v-10a10 10 0 0 1 10 -10\"/><path d=\"M315.5 309a10 10 0 0 1 10 10v40a10 10 0 0 0 10 10\"/><g>\n",
       "<path d=\"M335.5 369h0.0\"/><path d=\"M364.0 369h0.0\"/><g class=\"terminal\">\n",
       "<path d=\"M335.5 369h0.0\"/><path d=\"M364.0 369h0.0\"/><rect height=\"22\" rx=\"10\" ry=\"10\" width=\"28.5\" x=\"335.5\" y=\"358\"/><text x=\"349.75\" y=\"373\">'</text></g></g><path d=\"M364.0 369a10 10 0 0 0 10 -10v-40a10 10 0 0 1 10 -10\"/><path d=\"M315.5 309a10 10 0 0 1 10 10v70a10 10 0 0 0 10 10\"/><g>\n",
       "<path d=\"M335.5 399h0.0\"/><path d=\"M364.0 399h0.0\"/><g class=\"terminal\">\n",
       "<path d=\"M335.5 399h0.0\"/><path d=\"M364.0 399h0.0\"/><rect height=\"22\" rx=\"10\" ry=\"10\" width=\"28.5\" x=\"335.5\" y=\"388\"/><text x=\"349.75\" y=\"403\">(</text></g></g><path d=\"M364.0 399a10 10 0 0 0 10 -10v-70a10 10 0 0 1 10 -10\"/><path d=\"M315.5 309a10 10 0 0 1 10 10v100a10 10 0 0 0 10 10\"/><g>\n",
       "<path d=\"M335.5 429h0.0\"/><path d=\"M364.0 429h0.0\"/><g class=\"terminal\">\n",
       "<path d=\"M335.5 429h0.0\"/><path d=\"M364.0 429h0.0\"/><rect height=\"22\" rx=\"10\" ry=\"10\" width=\"28.5\" x=\"335.5\" y=\"418\"/><text x=\"349.75\" y=\"433\">)</text></g></g><path d=\"M364.0 429a10 10 0 0 0 10 -10v-100a10 10 0 0 1 10 -10\"/><path d=\"M315.5 309a10 10 0 0 1 10 10v130a10 10 0 0 0 10 10\"/><g>\n",
       "<path d=\"M335.5 459h0.0\"/><path d=\"M364.0 459h0.0\"/><g class=\"terminal\">\n",
       "<path d=\"M335.5 459h0.0\"/><path d=\"M364.0 459h0.0\"/><rect height=\"22\" rx=\"10\" ry=\"10\" width=\"28.5\" x=\"335.5\" y=\"448\"/><text x=\"349.75\" y=\"463\">*</text></g></g><path d=\"M364.0 459a10 10 0 0 0 10 -10v-130a10 10 0 0 1 10 -10\"/><path d=\"M315.5 309a10 10 0 0 1 10 10v160a10 10 0 0 0 10 10\"/><g>\n",
       "<path d=\"M335.5 489h0.0\"/><path d=\"M364.0 489h0.0\"/><g class=\"terminal\">\n",
       "<path d=\"M335.5 489h0.0\"/><path d=\"M364.0 489h0.0\"/><rect height=\"22\" rx=\"10\" ry=\"10\" width=\"28.5\" x=\"335.5\" y=\"478\"/><text x=\"349.75\" y=\"493\">+</text></g></g><path d=\"M364.0 489a10 10 0 0 0 10 -10v-160a10 10 0 0 1 10 -10\"/><path d=\"M315.5 309a10 10 0 0 1 10 10v190a10 10 0 0 0 10 10\"/><g>\n",
       "<path d=\"M335.5 519h0.0\"/><path d=\"M364.0 519h0.0\"/><g class=\"terminal\">\n",
       "<path d=\"M335.5 519h0.0\"/><path d=\"M364.0 519h0.0\"/><rect height=\"22\" rx=\"10\" ry=\"10\" width=\"28.5\" x=\"335.5\" y=\"508\"/><text x=\"349.75\" y=\"523\">,</text></g></g><path d=\"M364.0 519a10 10 0 0 0 10 -10v-190a10 10 0 0 1 10 -10\"/><path d=\"M315.5 309a10 10 0 0 1 10 10v220a10 10 0 0 0 10 10\"/><g>\n",
       "<path d=\"M335.5 549h0.0\"/><path d=\"M364.0 549h0.0\"/><g class=\"terminal\">\n",
       "<path d=\"M335.5 549h0.0\"/><path d=\"M364.0 549h0.0\"/><rect height=\"22\" rx=\"10\" ry=\"10\" width=\"28.5\" x=\"335.5\" y=\"538\"/><text x=\"349.75\" y=\"553\">-</text></g></g><path d=\"M364.0 549a10 10 0 0 0 10 -10v-220a10 10 0 0 1 10 -10\"/><path d=\"M315.5 309a10 10 0 0 1 10 10v250a10 10 0 0 0 10 10\"/><g>\n",
       "<path d=\"M335.5 579h0.0\"/><path d=\"M364.0 579h0.0\"/><g class=\"terminal\">\n",
       "<path d=\"M335.5 579h0.0\"/><path d=\"M364.0 579h0.0\"/><rect height=\"22\" rx=\"10\" ry=\"10\" width=\"28.5\" x=\"335.5\" y=\"568\"/><text x=\"349.75\" y=\"583\">.</text></g></g><path d=\"M364.0 579a10 10 0 0 0 10 -10v-250a10 10 0 0 1 10 -10\"/></g><path d=\"M384.0 309a10 10 0 0 1 10 10v269a10 10 0 0 0 10 10\"/><path d=\"M384.0 20a10 10 0 0 1 10 10v269a10 10 0 0 0 10 10\"/><g>\n",
       "<path d=\"M404.0 309h0.0\"/><path d=\"M472.5 309h0.0\"/><path d=\"M404.0 309a10 10 0 0 0 10 -10v-10a10 10 0 0 1 10 -10\"/><g>\n",
       "<path d=\"M424.0 279h0.0\"/><path d=\"M452.5 279h0.0\"/><g class=\"terminal\">\n",
       "<path d=\"M424.0 279h0.0\"/><path d=\"M452.5 279h0.0\"/><rect height=\"22\" rx=\"10\" ry=\"10\" width=\"28.5\" x=\"424.0\" y=\"268\"/><text x=\"438.25\" y=\"283\">[</text></g></g><path d=\"M452.5 279a10 10 0 0 1 10 10v10a10 10 0 0 0 10 10\"/><path d=\"M404.0 309a10 10 0 0 0 10 -10v-40a10 10 0 0 1 10 -10\"/><g>\n",
       "<path d=\"M424.0 249h0.0\"/><path d=\"M452.5 249h0.0\"/><g class=\"terminal\">\n",
       "<path d=\"M424.0 249h0.0\"/><path d=\"M452.5 249h0.0\"/><rect height=\"22\" rx=\"10\" ry=\"10\" width=\"28.5\" x=\"424.0\" y=\"238\"/><text x=\"438.25\" y=\"253\">@</text></g></g><path d=\"M452.5 249a10 10 0 0 1 10 10v40a10 10 0 0 0 10 10\"/><path d=\"M404.0 309a10 10 0 0 0 10 -10v-70a10 10 0 0 1 10 -10\"/><g>\n",
       "<path d=\"M424.0 219h0.0\"/><path d=\"M452.5 219h0.0\"/><g class=\"terminal\">\n",
       "<path d=\"M424.0 219h0.0\"/><path d=\"M452.5 219h0.0\"/><rect height=\"22\" rx=\"10\" ry=\"10\" width=\"28.5\" x=\"424.0\" y=\"208\"/><text x=\"438.25\" y=\"223\">?</text></g></g><path d=\"M452.5 219a10 10 0 0 1 10 10v70a10 10 0 0 0 10 10\"/><path d=\"M404.0 309a10 10 0 0 0 10 -10v-100a10 10 0 0 1 10 -10\"/><g>\n",
       "<path d=\"M424.0 189h0.0\"/><path d=\"M452.5 189h0.0\"/><g class=\"terminal\">\n",
       "<path d=\"M424.0 189h0.0\"/><path d=\"M452.5 189h0.0\"/><rect height=\"22\" rx=\"10\" ry=\"10\" width=\"28.5\" x=\"424.0\" y=\"178\"/><text x=\"438.25\" y=\"193\">&gt;</text></g></g><path d=\"M452.5 189a10 10 0 0 1 10 10v100a10 10 0 0 0 10 10\"/><path d=\"M404.0 309a10 10 0 0 0 10 -10v-130a10 10 0 0 1 10 -10\"/><g>\n",
       "<path d=\"M424.0 159h0.0\"/><path d=\"M452.5 159h0.0\"/><g class=\"terminal\">\n",
       "<path d=\"M424.0 159h0.0\"/><path d=\"M452.5 159h0.0\"/><rect height=\"22\" rx=\"10\" ry=\"10\" width=\"28.5\" x=\"424.0\" y=\"148\"/><text x=\"438.25\" y=\"163\">=</text></g></g><path d=\"M452.5 159a10 10 0 0 1 10 10v130a10 10 0 0 0 10 10\"/><path d=\"M404.0 309a10 10 0 0 0 10 -10v-160a10 10 0 0 1 10 -10\"/><g>\n",
       "<path d=\"M424.0 129h0.0\"/><path d=\"M452.5 129h0.0\"/><g class=\"terminal\">\n",
       "<path d=\"M424.0 129h0.0\"/><path d=\"M452.5 129h0.0\"/><rect height=\"22\" rx=\"10\" ry=\"10\" width=\"28.5\" x=\"424.0\" y=\"118\"/><text x=\"438.25\" y=\"133\">&lt;</text></g></g><path d=\"M452.5 129a10 10 0 0 1 10 10v160a10 10 0 0 0 10 10\"/><path d=\"M404.0 309a10 10 0 0 0 10 -10v-190a10 10 0 0 1 10 -10\"/><g>\n",
       "<path d=\"M424.0 99h0.0\"/><path d=\"M452.5 99h0.0\"/><g class=\"terminal\">\n",
       "<path d=\"M424.0 99h0.0\"/><path d=\"M452.5 99h0.0\"/><rect height=\"22\" rx=\"10\" ry=\"10\" width=\"28.5\" x=\"424.0\" y=\"88\"/><text x=\"438.25\" y=\"103\">;</text></g></g><path d=\"M452.5 99a10 10 0 0 1 10 10v190a10 10 0 0 0 10 10\"/><path d=\"M404.0 309a10 10 0 0 0 10 -10v-220a10 10 0 0 1 10 -10\"/><g>\n",
       "<path d=\"M424.0 69h0.0\"/><path d=\"M452.5 69h0.0\"/><g class=\"terminal\">\n",
       "<path d=\"M424.0 69h0.0\"/><path d=\"M452.5 69h0.0\"/><rect height=\"22\" rx=\"10\" ry=\"10\" width=\"28.5\" x=\"424.0\" y=\"58\"/><text x=\"438.25\" y=\"73\">:</text></g></g><path d=\"M452.5 69a10 10 0 0 1 10 10v220a10 10 0 0 0 10 10\"/><path d=\"M404.0 309a10 10 0 0 0 10 -10v-250a10 10 0 0 1 10 -10\"/><g>\n",
       "<path d=\"M424.0 39h0.0\"/><path d=\"M452.5 39h0.0\"/><g class=\"terminal\">\n",
       "<path d=\"M424.0 39h0.0\"/><path d=\"M452.5 39h0.0\"/><rect height=\"22\" rx=\"10\" ry=\"10\" width=\"28.5\" x=\"424.0\" y=\"28\"/><text x=\"438.25\" y=\"43\">/</text></g></g><path d=\"M452.5 39a10 10 0 0 1 10 10v250a10 10 0 0 0 10 10\"/><path d=\"M404.0 309h20\"/><g>\n",
       "<path d=\"M424.0 309h0.0\"/><path d=\"M452.5 309h0.0\"/><g class=\"terminal\">\n",
       "<path d=\"M424.0 309h0.0\"/><path d=\"M452.5 309h0.0\"/><rect height=\"22\" rx=\"10\" ry=\"10\" width=\"28.5\" x=\"424.0\" y=\"298\"/><text x=\"438.25\" y=\"313\">\\</text></g></g><path d=\"M452.5 309h20\"/><path d=\"M404.0 309a10 10 0 0 1 10 10v10a10 10 0 0 0 10 10\"/><g>\n",
       "<path d=\"M424.0 339h0.0\"/><path d=\"M452.5 339h0.0\"/><g class=\"terminal\">\n",
       "<path d=\"M424.0 339h0.0\"/><path d=\"M452.5 339h0.0\"/><rect height=\"22\" rx=\"10\" ry=\"10\" width=\"28.5\" x=\"424.0\" y=\"328\"/><text x=\"438.25\" y=\"343\">]</text></g></g><path d=\"M452.5 339a10 10 0 0 0 10 -10v-10a10 10 0 0 1 10 -10\"/><path d=\"M404.0 309a10 10 0 0 1 10 10v40a10 10 0 0 0 10 10\"/><g>\n",
       "<path d=\"M424.0 369h0.0\"/><path d=\"M452.5 369h0.0\"/><g class=\"terminal\">\n",
       "<path d=\"M424.0 369h0.0\"/><path d=\"M452.5 369h0.0\"/><rect height=\"22\" rx=\"10\" ry=\"10\" width=\"28.5\" x=\"424.0\" y=\"358\"/><text x=\"438.25\" y=\"373\">^</text></g></g><path d=\"M452.5 369a10 10 0 0 0 10 -10v-40a10 10 0 0 1 10 -10\"/><path d=\"M404.0 309a10 10 0 0 1 10 10v70a10 10 0 0 0 10 10\"/><g>\n",
       "<path d=\"M424.0 399h0.0\"/><path d=\"M452.5 399h0.0\"/><g class=\"terminal\">\n",
       "<path d=\"M424.0 399h0.0\"/><path d=\"M452.5 399h0.0\"/><rect height=\"22\" rx=\"10\" ry=\"10\" width=\"28.5\" x=\"424.0\" y=\"388\"/><text x=\"438.25\" y=\"403\">_</text></g></g><path d=\"M452.5 399a10 10 0 0 0 10 -10v-70a10 10 0 0 1 10 -10\"/><path d=\"M404.0 309a10 10 0 0 1 10 10v100a10 10 0 0 0 10 10\"/><g>\n",
       "<path d=\"M424.0 429h0.0\"/><path d=\"M452.5 429h0.0\"/><g class=\"terminal\">\n",
       "<path d=\"M424.0 429h0.0\"/><path d=\"M452.5 429h0.0\"/><rect height=\"22\" rx=\"10\" ry=\"10\" width=\"28.5\" x=\"424.0\" y=\"418\"/><text x=\"438.25\" y=\"433\">`</text></g></g><path d=\"M452.5 429a10 10 0 0 0 10 -10v-100a10 10 0 0 1 10 -10\"/><path d=\"M404.0 309a10 10 0 0 1 10 10v130a10 10 0 0 0 10 10\"/><g>\n",
       "<path d=\"M424.0 459h0.0\"/><path d=\"M452.5 459h0.0\"/><g class=\"terminal\">\n",
       "<path d=\"M424.0 459h0.0\"/><path d=\"M452.5 459h0.0\"/><rect height=\"22\" rx=\"10\" ry=\"10\" width=\"28.5\" x=\"424.0\" y=\"448\"/><text x=\"438.25\" y=\"463\">{</text></g></g><path d=\"M452.5 459a10 10 0 0 0 10 -10v-130a10 10 0 0 1 10 -10\"/><path d=\"M404.0 309a10 10 0 0 1 10 10v160a10 10 0 0 0 10 10\"/><g>\n",
       "<path d=\"M424.0 489h0.0\"/><path d=\"M452.5 489h0.0\"/><g class=\"terminal\">\n",
       "<path d=\"M424.0 489h0.0\"/><path d=\"M452.5 489h0.0\"/><rect height=\"22\" rx=\"10\" ry=\"10\" width=\"28.5\" x=\"424.0\" y=\"478\"/><text x=\"438.25\" y=\"493\">|</text></g></g><path d=\"M452.5 489a10 10 0 0 0 10 -10v-160a10 10 0 0 1 10 -10\"/><path d=\"M404.0 309a10 10 0 0 1 10 10v190a10 10 0 0 0 10 10\"/><g>\n",
       "<path d=\"M424.0 519h0.0\"/><path d=\"M452.5 519h0.0\"/><g class=\"terminal\">\n",
       "<path d=\"M424.0 519h0.0\"/><path d=\"M452.5 519h0.0\"/><rect height=\"22\" rx=\"10\" ry=\"10\" width=\"28.5\" x=\"424.0\" y=\"508\"/><text x=\"438.25\" y=\"523\">}</text></g></g><path d=\"M452.5 519a10 10 0 0 0 10 -10v-190a10 10 0 0 1 10 -10\"/><path d=\"M404.0 309a10 10 0 0 1 10 10v220a10 10 0 0 0 10 10\"/><g>\n",
       "<path d=\"M424.0 549h0.0\"/><path d=\"M452.5 549h0.0\"/><g class=\"terminal\">\n",
       "<path d=\"M424.0 549h0.0\"/><path d=\"M452.5 549h0.0\"/><rect height=\"22\" rx=\"10\" ry=\"10\" width=\"28.5\" x=\"424.0\" y=\"538\"/><text x=\"438.25\" y=\"553\">~</text></g></g><path d=\"M452.5 549a10 10 0 0 0 10 -10v-220a10 10 0 0 1 10 -10\"/><path d=\"M404.0 309a10 10 0 0 1 10 10v250a10 10 0 0 0 10 10\"/><g>\n",
       "<path d=\"M424.0 579h0.0\"/><path d=\"M452.5 579h0.0\"/><g class=\"terminal\">\n",
       "<path d=\"M424.0 579h0.0\"/><path d=\"M452.5 579h0.0\"/><rect height=\"22\" rx=\"10\" ry=\"10\" width=\"28.5\" x=\"424.0\" y=\"568\"/><text x=\"438.25\" y=\"583\"> </text></g></g><path d=\"M452.5 579a10 10 0 0 0 10 -10v-250a10 10 0 0 1 10 -10\"/></g><path d=\"M472.5 309a10 10 0 0 1 10 10v269a10 10 0 0 0 10 10\"/><path d=\"M472.5 20a10 10 0 0 1 10 10v269a10 10 0 0 0 10 10\"/><g>\n",
       "<path d=\"M492.5 309h0.0\"/><path d=\"M561.0 309h0.0\"/><path d=\"M492.5 309a10 10 0 0 0 10 -10v-10a10 10 0 0 1 10 -10\"/><g>\n",
       "<path d=\"M512.5 279h0.0\"/><path d=\"M541.0 279h0.0\"/><g class=\"terminal\">\n",
       "<path d=\"M512.5 279h0.0\"/><path d=\"M541.0 279h0.0\"/><rect height=\"22\" rx=\"10\" ry=\"10\" width=\"28.5\" x=\"512.5\" y=\"268\"/><text x=\"526.75\" y=\"283\">\t</text></g></g><path d=\"M541.0 279a10 10 0 0 1 10 10v10a10 10 0 0 0 10 10\"/><path d=\"M492.5 309h20\"/><g>\n",
       "<path d=\"M512.5 309h0.0\"/><path d=\"M541.0 309h0.0\"/><g class=\"terminal\">\n",
       "<path d=\"M512.5 309h0.0\"/><path d=\"M541.0 309h0.0\"/><rect height=\"22\" rx=\"10\" ry=\"10\" width=\"28.5\" x=\"512.5\" y=\"298\"/><text x=\"526.75\" y=\"313\">\n",
       "</text></g></g><path d=\"M541.0 309h20\"/></g><path d=\"M561.0 309h10\"/></g><path d=\"M 571.0 309 h 20 m -10 -10 v 20 m 10 -20 v 20\"/></g></svg>"
      ],
      "text/plain": [
       "<IPython.core.display.SVG object>"
      ]
     },
     "metadata": {},
     "output_type": "display_data"
    }
   ],
   "source": [
    "syntax_diagram(CSV_GRAMMAR)"
   ]
  },
  {
   "cell_type": "markdown",
   "metadata": {
    "slideshow": {
     "slide_type": "subslide"
    }
   },
   "source": [
    "We generate `1000` values, and evaluate the `process_vehicle()` with each."
   ]
  },
  {
   "cell_type": "code",
   "execution_count": 8,
   "metadata": {
    "slideshow": {
     "slide_type": "subslide"
    }
   },
   "outputs": [
    {
     "name": "stdout",
     "output_type": "stream",
     "text": [
      "0 valid strings, that is GrammarFuzzer generated 0.000000% valid entries from 1000 inputs\n",
      "Total time of 6.034957 seconds\n"
     ]
    }
   ],
   "source": [
    "gf = GrammarFuzzer(CSV_GRAMMAR, min_nonterminals=4)\n",
    "trials = 1000\n",
    "valid = []\n",
    "time = 0\n",
    "for i in range(trials):\n",
    "    with Timer() as t:\n",
    "        vehicle_info = gf.fuzz()\n",
    "        try:\n",
    "            process_vehicle(vehicle_info)\n",
    "            valid.append(vehicle_info)\n",
    "        except:\n",
    "            pass\n",
    "        time += t.elapsed_time()\n",
    "print(\"%d valid strings, that is GrammarFuzzer generated %f%% valid entries from %d inputs\" % (len(valid), len(valid)*100.0/trials , trials))\n",
    "print(\"Total time of %f seconds\" % time)"
   ]
  },
  {
   "cell_type": "markdown",
   "metadata": {
    "slideshow": {
     "slide_type": "subslide"
    }
   },
   "source": [
    "This is obviously not working. But why?"
   ]
  },
  {
   "cell_type": "code",
   "execution_count": 9,
   "metadata": {
    "slideshow": {
     "slide_type": "subslide"
    }
   },
   "outputs": [
    {
     "name": "stdout",
     "output_type": "stream",
     "text": [
      "'9w9J\\'/,LU<\"l,|,Y,Zv)Amvx,c\\n'\t Invalid entry\n",
      "'(n8].H7,qolS'\t not enough values to unpack (expected at least 4, got 2)\n",
      "'\\nQoLWQ,jSa'\t not enough values to unpack (expected at least 4, got 2)\n",
      "'K1,\\n,RE,fq,%,,sT+aAb'\t Invalid entry\n",
      "\"m,d,,8j4'),-yQ,B7\"\t Invalid entry\n",
      "'g4,s1\\t[}{.,M,<,\\nzd,.am'\t Invalid entry\n",
      "',Z[,z,c,#x1,gc.F'\t Invalid entry\n",
      "'pWs,rT`,R'\t not enough values to unpack (expected at least 4, got 3)\n",
      "'iN,br%,Q,R'\t Invalid entry\n",
      "'ol,\\nH<\\tn,^#,=A'\t Invalid entry\n"
     ]
    }
   ],
   "source": [
    "gf = GrammarFuzzer(CSV_GRAMMAR, min_nonterminals=4)\n",
    "trials = 10\n",
    "valid = []\n",
    "time = 0\n",
    "for i in range(trials):\n",
    "    vehicle_info = gf.fuzz()\n",
    "    try:\n",
    "        print(repr(vehicle_info), end=\"\")\n",
    "        process_vehicle(vehicle_info)\n",
    "    except Exception as e:\n",
    "        print(\"\\t\", e)\n",
    "    else:\n",
    "        print()"
   ]
  },
  {
   "cell_type": "markdown",
   "metadata": {
    "slideshow": {
     "slide_type": "subslide"
    }
   },
   "source": [
    "None of the entries will get through unless the fuzzer can produce either `van` or `car`.\n",
    "Indeed, the reason is that the grammar itself does not capture the complete information about the format. So here is another idea. We modify the `GrammarFuzzer` to know a bit about our format."
   ]
  },
  {
   "cell_type": "code",
   "execution_count": 10,
   "metadata": {
    "slideshow": {
     "slide_type": "skip"
    }
   },
   "outputs": [],
   "source": [
    "from copy import deepcopy\n",
    "import random"
   ]
  },
  {
   "cell_type": "code",
   "execution_count": 11,
   "metadata": {
    "slideshow": {
     "slide_type": "skip"
    }
   },
   "outputs": [],
   "source": [
    "class PooledGrammarFuzzer(GrammarFuzzer):\n",
    "    def __init__(self, *args, **kwargs):\n",
    "        super().__init__(*args, **kwargs)\n",
    "        self._node_cache = {}\n",
    "\n",
    "    def update_cache(self, key, values):\n",
    "        self._node_cache[key] = values\n",
    "\n",
    "    def expand_node_randomly(self, node):\n",
    "        (symbol, children) = node\n",
    "        assert children is None\n",
    "        if symbol in self._node_cache:\n",
    "            if random.randint(0, 1) == 1:\n",
    "                return super().expand_node_randomly(node)\n",
    "            return deepcopy(random.choice(self._node_cache[symbol]))\n",
    "        return super().expand_node_randomly(node)"
   ]
  },
  {
   "cell_type": "markdown",
   "metadata": {
    "slideshow": {
     "slide_type": "subslide"
    }
   },
   "source": [
    "Let us try again!"
   ]
  },
  {
   "cell_type": "code",
   "execution_count": 12,
   "metadata": {
    "slideshow": {
     "slide_type": "subslide"
    }
   },
   "outputs": [
    {
     "name": "stdout",
     "output_type": "stream",
     "text": [
      "',h,van,|'\t Invalid entry\n",
      "'M,w:K,car,car,van'\t Invalid entry\n",
      "'J,?Y,van,van,car,J,~D+'\t Invalid entry\n",
      "'S4,car,car,o'We have a car o car from S4 vintage.\n",
      "\t invalid literal for int() with base 10: 'S4'\n",
      "'2*-,van'\t not enough values to unpack (expected at least 4, got 2)\n",
      "'van,%,5,]'\t Invalid entry\n",
      "'van,G3{y,j,h:'\t Invalid entry\n",
      "'$0;o,M,car,car'\t Invalid entry\n",
      "'2d,f,e'\t not enough values to unpack (expected at least 4, got 3)\n",
      "'/~NE,car,car'\t not enough values to unpack (expected at least 4, got 3)\n"
     ]
    }
   ],
   "source": [
    "gf = PooledGrammarFuzzer(CSV_GRAMMAR, min_nonterminals=4)\n",
    "gf.update_cache('<item>', [\n",
    "    ('<item>', [('car', [])]),\n",
    "    ('<item>', [('van', [])]),\n",
    "])\n",
    "trials = 10\n",
    "valid = []\n",
    "time = 0\n",
    "for i in range(trials):\n",
    "    vehicle_info = gf.fuzz()\n",
    "    try:\n",
    "        print(repr(vehicle_info), end=\"\")\n",
    "        process_vehicle(vehicle_info)\n",
    "    except Exception as e:\n",
    "        print(\"\\t\", e)\n",
    "    else:\n",
    "        print()"
   ]
  },
  {
   "cell_type": "markdown",
   "metadata": {
    "slideshow": {
     "slide_type": "subslide"
    }
   },
   "source": [
    "At least we are getting somewhere! It would be really nice if we could incorporate what we know about the sample data in our fuzzer. In fact, it would be nice if we could extract the template and valid values from samples, and use them in our fuzzing. How do we do that?"
   ]
  },
  {
   "cell_type": "markdown",
   "metadata": {
    "slideshow": {
     "slide_type": "slide"
    }
   },
   "source": [
    "## An Ad Hoc Parser"
   ]
  },
  {
   "cell_type": "markdown",
   "metadata": {
    "slideshow": {
     "slide_type": "fragment"
    }
   },
   "source": [
    "As we saw in the previous section, programmers often have to extract parts of data that obey certain rules. For example, for *CSV* files, each element in a row is separated by *commas*, and multiple raws are used to store the data."
   ]
  },
  {
   "cell_type": "markdown",
   "metadata": {
    "slideshow": {
     "slide_type": "fragment"
    }
   },
   "source": [
    "To extract the information, we write an ad hoc parser `parse_csv()`."
   ]
  },
  {
   "cell_type": "code",
   "execution_count": 13,
   "metadata": {
    "slideshow": {
     "slide_type": "fragment"
    }
   },
   "outputs": [],
   "source": [
    "def parse_csv(mystring):\n",
    "    children = []\n",
    "    tree = (START_SYMBOL, children)\n",
    "    for i,line in enumerate(mystring.split('\\n')):\n",
    "        children.append((\"record %d\" %i, [(cell,[]) for cell in line.split(',')]))\n",
    "    return tree"
   ]
  },
  {
   "cell_type": "markdown",
   "metadata": {
    "slideshow": {
     "slide_type": "fragment"
    }
   },
   "source": [
    "We also change the default orientation of the graph to *left to right* rather than *top to bottom* for easier viewing using `lr_graph()`."
   ]
  },
  {
   "cell_type": "code",
   "execution_count": 14,
   "metadata": {
    "slideshow": {
     "slide_type": "subslide"
    }
   },
   "outputs": [],
   "source": [
    "def lr_graph(dot):\n",
    "    dot.attr('node', shape='plain')\n",
    "    dot.graph_attr['rankdir'] = 'LR'"
   ]
  },
  {
   "cell_type": "markdown",
   "metadata": {
    "slideshow": {
     "slide_type": "fragment"
    }
   },
   "source": [
    "The `display_tree()` shows the structure of our CSV file after parsing."
   ]
  },
  {
   "cell_type": "code",
   "execution_count": 15,
   "metadata": {
    "slideshow": {
     "slide_type": "fragment"
    }
   },
   "outputs": [
    {
     "data": {
      "image/svg+xml": [
       "<?xml version=\"1.0\" encoding=\"UTF-8\" standalone=\"no\"?>\n",
       "<!DOCTYPE svg PUBLIC \"-//W3C//DTD SVG 1.1//EN\"\n",
       " \"http://www.w3.org/Graphics/SVG/1.1/DTD/svg11.dtd\">\n",
       "<!-- Generated by graphviz version 2.40.1 (20161225.0304)\n",
       " -->\n",
       "<!-- Title: %3 Pages: 1 -->\n",
       "<svg width=\"216pt\" height=\"254pt\"\n",
       " viewBox=\"0.00 0.00 216.00 254.00\" xmlns=\"http://www.w3.org/2000/svg\" xmlns:xlink=\"http://www.w3.org/1999/xlink\">\n",
       "<g id=\"graph0\" class=\"graph\" transform=\"scale(1 1) rotate(0) translate(4 250)\">\n",
       "<title>%3</title>\n",
       "<polygon fill=\"#ffffff\" stroke=\"transparent\" points=\"-4,4 -4,-250 212,-250 212,4 -4,4\"/>\n",
       "<!-- 0 -->\n",
       "<g id=\"node1\" class=\"node\">\n",
       "<title>0</title>\n",
       "<text text-anchor=\"middle\" x=\"20\" y=\"-118.8\" font-family=\"Times,serif\" font-size=\"14.00\" fill=\"#000000\">&lt;start&gt;</text>\n",
       "</g>\n",
       "<!-- 1 -->\n",
       "<g id=\"node2\" class=\"node\">\n",
       "<title>1</title>\n",
       "<text text-anchor=\"middle\" x=\"99.5\" y=\"-168.8\" font-family=\"Times,serif\" font-size=\"14.00\" fill=\"#000000\">record 0</text>\n",
       "</g>\n",
       "<!-- 0&#45;&gt;1 -->\n",
       "<g id=\"edge1\" class=\"edge\">\n",
       "<title>0&#45;&gt;1</title>\n",
       "<path fill=\"none\" stroke=\"#000000\" d=\"M32.0743,-130.0939C44.5205,-137.9217 64.153,-150.2692 79.0304,-159.6261\"/>\n",
       "<polygon fill=\"#000000\" stroke=\"#000000\" points=\"77.2441,-162.6372 87.5725,-164.9984 80.9709,-156.7117 77.2441,-162.6372\"/>\n",
       "</g>\n",
       "<!-- 6 -->\n",
       "<g id=\"node7\" class=\"node\">\n",
       "<title>6</title>\n",
       "<text text-anchor=\"middle\" x=\"99.5\" y=\"-69.8\" font-family=\"Times,serif\" font-size=\"14.00\" fill=\"#000000\">record 1</text>\n",
       "</g>\n",
       "<!-- 0&#45;&gt;6 -->\n",
       "<g id=\"edge6\" class=\"edge\">\n",
       "<title>0&#45;&gt;6</title>\n",
       "<path fill=\"none\" stroke=\"#000000\" d=\"M32.4219,-114.8438C44.6735,-107.2924 63.6384,-95.6034 78.2811,-86.5783\"/>\n",
       "<polygon fill=\"#000000\" stroke=\"#000000\" points=\"80.4889,-89.329 87.1654,-81.1025 76.816,-83.37 80.4889,-89.329\"/>\n",
       "</g>\n",
       "<!-- 2 -->\n",
       "<g id=\"node3\" class=\"node\">\n",
       "<title>2</title>\n",
       "<text text-anchor=\"middle\" x=\"183.5\" y=\"-234.8\" font-family=\"Times,serif\" font-size=\"14.00\" fill=\"#000000\">1997</text>\n",
       "</g>\n",
       "<!-- 1&#45;&gt;2 -->\n",
       "<g id=\"edge2\" class=\"edge\">\n",
       "<title>1&#45;&gt;2</title>\n",
       "<path fill=\"none\" stroke=\"#000000\" d=\"M108.1014,-180.2956C119.4369,-190.435 140.1504,-208.5039 159,-222.5 160.2236,-223.4086 161.4969,-224.3239 162.7914,-225.2319\"/>\n",
       "<polygon fill=\"#000000\" stroke=\"#000000\" points=\"161.0867,-228.303 171.3405,-230.9696 164.9877,-222.4907 161.0867,-228.303\"/>\n",
       "</g>\n",
       "<!-- 3 -->\n",
       "<g id=\"node4\" class=\"node\">\n",
       "<title>3</title>\n",
       "<text text-anchor=\"middle\" x=\"183.5\" y=\"-201.8\" font-family=\"Times,serif\" font-size=\"14.00\" fill=\"#000000\">van</text>\n",
       "</g>\n",
       "<!-- 1&#45;&gt;3 -->\n",
       "<g id=\"edge3\" class=\"edge\">\n",
       "<title>1&#45;&gt;3</title>\n",
       "<path fill=\"none\" stroke=\"#000000\" d=\"M118.9824,-180.1538C132.2681,-185.3732 149.8216,-192.2692 163.2647,-197.5504\"/>\n",
       "<polygon fill=\"#000000\" stroke=\"#000000\" points=\"162.0173,-200.8207 172.6046,-201.2197 164.5769,-194.3054 162.0173,-200.8207\"/>\n",
       "</g>\n",
       "<!-- 4 -->\n",
       "<g id=\"node5\" class=\"node\">\n",
       "<title>4</title>\n",
       "<text text-anchor=\"middle\" x=\"183.5\" y=\"-168.8\" font-family=\"Times,serif\" font-size=\"14.00\" fill=\"#000000\">Ford</text>\n",
       "</g>\n",
       "<!-- 1&#45;&gt;4 -->\n",
       "<g id=\"edge4\" class=\"edge\">\n",
       "<title>1&#45;&gt;4</title>\n",
       "<path fill=\"none\" stroke=\"#000000\" d=\"M123.3463,-172.5C134.6675,-172.5 148.1677,-172.5 159.5075,-172.5\"/>\n",
       "<polygon fill=\"#000000\" stroke=\"#000000\" points=\"159.5761,-176.0001 169.5761,-172.5 159.5761,-169.0001 159.5761,-176.0001\"/>\n",
       "</g>\n",
       "<!-- 5 -->\n",
       "<g id=\"node6\" class=\"node\">\n",
       "<title>5</title>\n",
       "<text text-anchor=\"middle\" x=\"183.5\" y=\"-135.8\" font-family=\"Times,serif\" font-size=\"14.00\" fill=\"#000000\">E350</text>\n",
       "</g>\n",
       "<!-- 1&#45;&gt;5 -->\n",
       "<g id=\"edge5\" class=\"edge\">\n",
       "<title>1&#45;&gt;5</title>\n",
       "<path fill=\"none\" stroke=\"#000000\" d=\"M118.9824,-164.8462C130.8376,-160.1888 146.0911,-154.1964 158.7898,-149.2076\"/>\n",
       "<polygon fill=\"#000000\" stroke=\"#000000\" points=\"160.2848,-152.3807 168.3126,-145.4665 157.7252,-145.8654 160.2848,-152.3807\"/>\n",
       "</g>\n",
       "<!-- 7 -->\n",
       "<g id=\"node8\" class=\"node\">\n",
       "<title>7</title>\n",
       "<text text-anchor=\"middle\" x=\"183.5\" y=\"-102.8\" font-family=\"Times,serif\" font-size=\"14.00\" fill=\"#000000\">2000</text>\n",
       "</g>\n",
       "<!-- 6&#45;&gt;7 -->\n",
       "<g id=\"edge7\" class=\"edge\">\n",
       "<title>6&#45;&gt;7</title>\n",
       "<path fill=\"none\" stroke=\"#000000\" d=\"M118.9824,-81.1538C130.9906,-85.8713 146.4853,-91.9585 159.2801,-96.985\"/>\n",
       "<polygon fill=\"#000000\" stroke=\"#000000\" points=\"158.257,-100.3435 168.8443,-100.7424 160.8166,-93.8282 158.257,-100.3435\"/>\n",
       "</g>\n",
       "<!-- 8 -->\n",
       "<g id=\"node9\" class=\"node\">\n",
       "<title>8</title>\n",
       "<text text-anchor=\"middle\" x=\"183.5\" y=\"-69.8\" font-family=\"Times,serif\" font-size=\"14.00\" fill=\"#000000\">car</text>\n",
       "</g>\n",
       "<!-- 6&#45;&gt;8 -->\n",
       "<g id=\"edge8\" class=\"edge\">\n",
       "<title>6&#45;&gt;8</title>\n",
       "<path fill=\"none\" stroke=\"#000000\" d=\"M123.3463,-73.5C136.1378,-73.5 151.711,-73.5 163.8068,-73.5\"/>\n",
       "<polygon fill=\"#000000\" stroke=\"#000000\" points=\"164.134,-77.0001 174.134,-73.5 164.1339,-70.0001 164.134,-77.0001\"/>\n",
       "</g>\n",
       "<!-- 9 -->\n",
       "<g id=\"node10\" class=\"node\">\n",
       "<title>9</title>\n",
       "<text text-anchor=\"middle\" x=\"183.5\" y=\"-36.8\" font-family=\"Times,serif\" font-size=\"14.00\" fill=\"#000000\">Mercury</text>\n",
       "</g>\n",
       "<!-- 6&#45;&gt;9 -->\n",
       "<g id=\"edge9\" class=\"edge\">\n",
       "<title>6&#45;&gt;9</title>\n",
       "<path fill=\"none\" stroke=\"#000000\" d=\"M118.9824,-65.8462C129.5843,-61.6812 142.9039,-56.4485 154.6838,-51.8207\"/>\n",
       "<polygon fill=\"#000000\" stroke=\"#000000\" points=\"156.0955,-55.0265 164.1232,-48.1123 153.5359,-48.5113 156.0955,-55.0265\"/>\n",
       "</g>\n",
       "<!-- 10 -->\n",
       "<g id=\"node11\" class=\"node\">\n",
       "<title>10</title>\n",
       "<text text-anchor=\"middle\" x=\"183.5\" y=\"-3.8\" font-family=\"Times,serif\" font-size=\"14.00\" fill=\"#000000\">Cougar</text>\n",
       "</g>\n",
       "<!-- 6&#45;&gt;10 -->\n",
       "<g id=\"edge10\" class=\"edge\">\n",
       "<title>6&#45;&gt;10</title>\n",
       "<path fill=\"none\" stroke=\"#000000\" d=\"M108.1881,-65.963C119.6175,-56.1375 140.4322,-38.55 159,-24.5 160.4191,-23.4262 161.8989,-22.3342 163.3974,-21.2483\"/>\n",
       "<polygon fill=\"#000000\" stroke=\"#000000\" points=\"165.7332,-23.8842 171.8937,-15.2645 161.7025,-18.1611 165.7332,-23.8842\"/>\n",
       "</g>\n",
       "</g>\n",
       "</svg>\n"
      ],
      "text/plain": [
       "<graphviz.dot.Digraph at 0x113e3fb00>"
      ]
     },
     "metadata": {},
     "output_type": "display_data"
    }
   ],
   "source": [
    "tree = parse_csv(mystring)\n",
    "display_tree(tree, graph_attr=lr_graph)"
   ]
  },
  {
   "cell_type": "markdown",
   "metadata": {
    "slideshow": {
     "slide_type": "fragment"
    }
   },
   "source": [
    "This is of course simple. What if we encounter slightly more complexity? Again, another example from the Wikipedia."
   ]
  },
  {
   "cell_type": "code",
   "execution_count": 16,
   "metadata": {
    "slideshow": {
     "slide_type": "subslide"
    }
   },
   "outputs": [
    {
     "name": "stdout",
     "output_type": "stream",
     "text": [
      "1997,Ford,E350,\"ac, abs, moon\",3000.00\n"
     ]
    }
   ],
   "source": [
    "mystring = '''\\\n",
    "1997,Ford,E350,\"ac, abs, moon\",3000.00\\\n",
    "'''\n",
    "print(mystring)"
   ]
  },
  {
   "cell_type": "markdown",
   "metadata": {
    "slideshow": {
     "slide_type": "fragment"
    }
   },
   "source": [
    "We define a new annotation method `highlight_node()` to mark the nodes that are interesting."
   ]
  },
  {
   "cell_type": "code",
   "execution_count": 17,
   "metadata": {
    "slideshow": {
     "slide_type": "fragment"
    }
   },
   "outputs": [],
   "source": [
    "def highlight_node(predicate):\n",
    "    def hl_node(dot, nid, symbol, ann):\n",
    "        if predicate(dot, nid, symbol, ann):\n",
    "            dot.node(repr(nid), dot_escape(symbol), fontcolor='red')\n",
    "        else:\n",
    "            dot.node(repr(nid), dot_escape(symbol))\n",
    "    return hl_node"
   ]
  },
  {
   "cell_type": "markdown",
   "metadata": {
    "slideshow": {
     "slide_type": "subslide"
    }
   },
   "source": [
    "Using `highlight_node()` we can highlight particular nodes that we were wrongly parsed."
   ]
  },
  {
   "cell_type": "code",
   "execution_count": 18,
   "metadata": {
    "slideshow": {
     "slide_type": "fragment"
    }
   },
   "outputs": [
    {
     "data": {
      "image/svg+xml": [
       "<?xml version=\"1.0\" encoding=\"UTF-8\" standalone=\"no\"?>\n",
       "<!DOCTYPE svg PUBLIC \"-//W3C//DTD SVG 1.1//EN\"\n",
       " \"http://www.w3.org/Graphics/SVG/1.1/DTD/svg11.dtd\">\n",
       "<!-- Generated by graphviz version 2.40.1 (20161225.0304)\n",
       " -->\n",
       "<!-- Title: %3 Pages: 1 -->\n",
       "<svg width=\"213pt\" height=\"221pt\"\n",
       " viewBox=\"0.00 0.00 213.00 221.00\" xmlns=\"http://www.w3.org/2000/svg\" xmlns:xlink=\"http://www.w3.org/1999/xlink\">\n",
       "<g id=\"graph0\" class=\"graph\" transform=\"scale(1 1) rotate(0) translate(4 217)\">\n",
       "<title>%3</title>\n",
       "<polygon fill=\"#ffffff\" stroke=\"transparent\" points=\"-4,4 -4,-217 209,-217 209,4 -4,4\"/>\n",
       "<!-- 0 -->\n",
       "<g id=\"node1\" class=\"node\">\n",
       "<title>0</title>\n",
       "<text text-anchor=\"middle\" x=\"20\" y=\"-102.8\" font-family=\"Times,serif\" font-size=\"14.00\" fill=\"#000000\">&lt;start&gt;</text>\n",
       "</g>\n",
       "<!-- 1 -->\n",
       "<g id=\"node2\" class=\"node\">\n",
       "<title>1</title>\n",
       "<text text-anchor=\"middle\" x=\"99.5\" y=\"-102.8\" font-family=\"Times,serif\" font-size=\"14.00\" fill=\"#000000\">record 0</text>\n",
       "</g>\n",
       "<!-- 0&#45;&gt;1 -->\n",
       "<g id=\"edge1\" class=\"edge\">\n",
       "<title>0&#45;&gt;1</title>\n",
       "<path fill=\"none\" stroke=\"#000000\" d=\"M40.0612,-106.5C47.7789,-106.5 56.8213,-106.5 65.4915,-106.5\"/>\n",
       "<polygon fill=\"#000000\" stroke=\"#000000\" points=\"65.7686,-110.0001 75.7685,-106.5 65.7685,-103.0001 65.7686,-110.0001\"/>\n",
       "</g>\n",
       "<!-- 2 -->\n",
       "<g id=\"node3\" class=\"node\">\n",
       "<title>2</title>\n",
       "<text text-anchor=\"middle\" x=\"182\" y=\"-201.8\" font-family=\"Times,serif\" font-size=\"14.00\" fill=\"#000000\">1997</text>\n",
       "</g>\n",
       "<!-- 1&#45;&gt;2 -->\n",
       "<g id=\"edge2\" class=\"edge\">\n",
       "<title>1&#45;&gt;2</title>\n",
       "<path fill=\"none\" stroke=\"#000000\" d=\"M103.6953,-114.0202C112.5227,-129.4105 134.2544,-165.1023 159,-189.5 159.6668,-190.1574 160.3633,-190.8064 161.0814,-191.4446\"/>\n",
       "<polygon fill=\"#000000\" stroke=\"#000000\" points=\"159.175,-194.3951 169.223,-197.7549 163.4632,-188.8624 159.175,-194.3951\"/>\n",
       "</g>\n",
       "<!-- 3 -->\n",
       "<g id=\"node4\" class=\"node\">\n",
       "<title>3</title>\n",
       "<text text-anchor=\"middle\" x=\"182\" y=\"-168.8\" font-family=\"Times,serif\" font-size=\"14.00\" fill=\"#000000\">Ford</text>\n",
       "</g>\n",
       "<!-- 1&#45;&gt;3 -->\n",
       "<g id=\"edge3\" class=\"edge\">\n",
       "<title>1&#45;&gt;3</title>\n",
       "<path fill=\"none\" stroke=\"#000000\" d=\"M108.165,-114.2111C119.5695,-124.2592 140.3572,-142.2295 159,-156.5 160.0429,-157.2983 161.1216,-158.1062 162.217,-158.9127\"/>\n",
       "<polygon fill=\"#000000\" stroke=\"#000000\" points=\"160.4444,-161.9469 170.6227,-164.8887 164.5005,-156.2417 160.4444,-161.9469\"/>\n",
       "</g>\n",
       "<!-- 4 -->\n",
       "<g id=\"node5\" class=\"node\">\n",
       "<title>4</title>\n",
       "<text text-anchor=\"middle\" x=\"182\" y=\"-135.8\" font-family=\"Times,serif\" font-size=\"14.00\" fill=\"#000000\">E350</text>\n",
       "</g>\n",
       "<!-- 1&#45;&gt;4 -->\n",
       "<g id=\"edge4\" class=\"edge\">\n",
       "<title>1&#45;&gt;4</title>\n",
       "<path fill=\"none\" stroke=\"#000000\" d=\"M118.6345,-114.1538C130.2029,-118.7811 145.0659,-124.7264 157.4894,-129.6958\"/>\n",
       "<polygon fill=\"#000000\" stroke=\"#000000\" points=\"156.2355,-132.9638 166.8202,-133.4281 158.8353,-126.4644 156.2355,-132.9638\"/>\n",
       "</g>\n",
       "<!-- 5 -->\n",
       "<g id=\"node6\" class=\"node\">\n",
       "<title>5</title>\n",
       "<text text-anchor=\"middle\" x=\"182\" y=\"-102.8\" font-family=\"Times,serif\" font-size=\"14.00\" fill=\"#ff0000\">&quot;ac</text>\n",
       "</g>\n",
       "<!-- 1&#45;&gt;5 -->\n",
       "<g id=\"edge5\" class=\"edge\">\n",
       "<title>1&#45;&gt;5</title>\n",
       "<path fill=\"none\" stroke=\"#000000\" d=\"M123.3624,-106.5C135.7682,-106.5 150.7422,-106.5 162.4531,-106.5\"/>\n",
       "<polygon fill=\"#000000\" stroke=\"#000000\" points=\"162.4909,-110.0001 172.4909,-106.5 162.4909,-103.0001 162.4909,-110.0001\"/>\n",
       "</g>\n",
       "<!-- 6 -->\n",
       "<g id=\"node7\" class=\"node\">\n",
       "<title>6</title>\n",
       "<text text-anchor=\"middle\" x=\"182\" y=\"-69.8\" font-family=\"Times,serif\" font-size=\"14.00\" fill=\"#ff0000\"> abs</text>\n",
       "</g>\n",
       "<!-- 1&#45;&gt;6 -->\n",
       "<g id=\"edge6\" class=\"edge\">\n",
       "<title>1&#45;&gt;6</title>\n",
       "<path fill=\"none\" stroke=\"#000000\" d=\"M118.6345,-98.8462C131.2545,-93.7982 147.7955,-87.1818 160.8128,-81.9749\"/>\n",
       "<polygon fill=\"#000000\" stroke=\"#000000\" points=\"162.3699,-85.1217 170.3547,-78.1581 159.7701,-78.6224 162.3699,-85.1217\"/>\n",
       "</g>\n",
       "<!-- 7 -->\n",
       "<g id=\"node8\" class=\"node\">\n",
       "<title>7</title>\n",
       "<text text-anchor=\"middle\" x=\"182\" y=\"-36.8\" font-family=\"Times,serif\" font-size=\"14.00\" fill=\"#ff0000\"> moon&quot;</text>\n",
       "</g>\n",
       "<!-- 1&#45;&gt;7 -->\n",
       "<g id=\"edge7\" class=\"edge\">\n",
       "<title>1&#45;&gt;7</title>\n",
       "<path fill=\"none\" stroke=\"#000000\" d=\"M108.6537,-98.7093C120.2333,-88.9128 140.8553,-71.6613 159,-57.5 160.3994,-56.4078 161.8565,-55.2892 163.3278,-54.1727\"/>\n",
       "<polygon fill=\"#000000\" stroke=\"#000000\" points=\"165.6814,-56.7838 171.609,-48.0023 161.499,-51.1707 165.6814,-56.7838\"/>\n",
       "</g>\n",
       "<!-- 8 -->\n",
       "<g id=\"node9\" class=\"node\">\n",
       "<title>8</title>\n",
       "<text text-anchor=\"middle\" x=\"182\" y=\"-3.8\" font-family=\"Times,serif\" font-size=\"14.00\" fill=\"#000000\">3000.00</text>\n",
       "</g>\n",
       "<!-- 1&#45;&gt;8 -->\n",
       "<g id=\"edge8\" class=\"edge\">\n",
       "<title>1&#45;&gt;8</title>\n",
       "<path fill=\"none\" stroke=\"#000000\" d=\"M104.0524,-98.665C113.1947,-83.3294 134.978,-48.7343 159,-24.5 160.0487,-23.4421 161.1674,-22.3986 162.3254,-21.3808\"/>\n",
       "<polygon fill=\"#000000\" stroke=\"#000000\" points=\"164.5315,-24.0985 170.2099,-15.1538 160.1929,-18.6051 164.5315,-24.0985\"/>\n",
       "</g>\n",
       "</g>\n",
       "</svg>\n"
      ],
      "text/plain": [
       "<graphviz.dot.Digraph at 0x113e3fe80>"
      ]
     },
     "metadata": {},
     "output_type": "display_data"
    }
   ],
   "source": [
    "tree = parse_csv(mystring)\n",
    "bad_nodes = {5,6,7,12,13,20,22,23,24,25}\n",
    "hl_predicate = lambda _d,nid,_s,_a: nid in bad_nodes \n",
    "highlight_err_node = highlight_node(hl_predicate)\n",
    "display_tree(tree, log=False, node_attr=highlight_err_node, graph_attr=lr_graph)"
   ]
  },
  {
   "cell_type": "markdown",
   "metadata": {
    "slideshow": {
     "slide_type": "fragment"
    }
   },
   "source": [
    "The marked nodes indicate where our parsing went wrong. We can of course extend our parser to understand quotes. First we define some of the helper functions `parse_quote()`, `find_comma()` and `comma_split()`"
   ]
  },
  {
   "cell_type": "code",
   "execution_count": 19,
   "metadata": {
    "slideshow": {
     "slide_type": "subslide"
    }
   },
   "outputs": [],
   "source": [
    "def parse_quote(string, i):\n",
    "    v = string[i+1:].find('\"')\n",
    "    return v+i+1 if v >= 0 else -1\n",
    "    \n",
    "def find_comma(string, i):\n",
    "    slen = len(string)\n",
    "    while i < slen:\n",
    "        if string[i] == '\"':\n",
    "            i = parse_quote(string, i)\n",
    "            if i == -1:\n",
    "                return -1\n",
    "        if string[i] == ',':\n",
    "            return i\n",
    "        i+=1\n",
    "    return -1\n",
    "        \n",
    "def comma_split(string):\n",
    "    slen = len(string)\n",
    "    i = 0\n",
    "    while i < slen:\n",
    "        c = find_comma(string, i)\n",
    "        if c == -1:\n",
    "            yield string[i:]\n",
    "            return\n",
    "        else:\n",
    "            yield string[i:c]\n",
    "        i = c+1"
   ]
  },
  {
   "cell_type": "markdown",
   "metadata": {
    "slideshow": {
     "slide_type": "subslide"
    }
   },
   "source": [
    "We can update our `parse_csv()` procedure to use our advanced quote parser."
   ]
  },
  {
   "cell_type": "code",
   "execution_count": 20,
   "metadata": {
    "slideshow": {
     "slide_type": "fragment"
    }
   },
   "outputs": [],
   "source": [
    "def parse_csv(mystring):\n",
    "    children = []\n",
    "    tree = (START_SYMBOL, children)\n",
    "    for i,line in enumerate(mystring.split('\\n')):\n",
    "        children.append((\"record %d\" %i, [(cell,[]) for cell in comma_split(line)]))\n",
    "    return tree"
   ]
  },
  {
   "cell_type": "markdown",
   "metadata": {
    "slideshow": {
     "slide_type": "fragment"
    }
   },
   "source": [
    "Our new `parse_csv()` can now handle quotes correctly."
   ]
  },
  {
   "cell_type": "code",
   "execution_count": 21,
   "metadata": {
    "slideshow": {
     "slide_type": "fragment"
    }
   },
   "outputs": [
    {
     "data": {
      "image/svg+xml": [
       "<?xml version=\"1.0\" encoding=\"UTF-8\" standalone=\"no\"?>\n",
       "<!DOCTYPE svg PUBLIC \"-//W3C//DTD SVG 1.1//EN\"\n",
       " \"http://www.w3.org/Graphics/SVG/1.1/DTD/svg11.dtd\">\n",
       "<!-- Generated by graphviz version 2.40.1 (20161225.0304)\n",
       " -->\n",
       "<!-- Title: %3 Pages: 1 -->\n",
       "<svg width=\"256pt\" height=\"155pt\"\n",
       " viewBox=\"0.00 0.00 256.00 155.00\" xmlns=\"http://www.w3.org/2000/svg\" xmlns:xlink=\"http://www.w3.org/1999/xlink\">\n",
       "<g id=\"graph0\" class=\"graph\" transform=\"scale(1 1) rotate(0) translate(4 151)\">\n",
       "<title>%3</title>\n",
       "<polygon fill=\"#ffffff\" stroke=\"transparent\" points=\"-4,4 -4,-151 252,-151 252,4 -4,4\"/>\n",
       "<!-- 0 -->\n",
       "<g id=\"node1\" class=\"node\">\n",
       "<title>0</title>\n",
       "<text text-anchor=\"middle\" x=\"20\" y=\"-69.8\" font-family=\"Times,serif\" font-size=\"14.00\" fill=\"#000000\">&lt;start&gt;</text>\n",
       "</g>\n",
       "<!-- 1 -->\n",
       "<g id=\"node2\" class=\"node\">\n",
       "<title>1</title>\n",
       "<text text-anchor=\"middle\" x=\"99.5\" y=\"-69.8\" font-family=\"Times,serif\" font-size=\"14.00\" fill=\"#000000\">record 0</text>\n",
       "</g>\n",
       "<!-- 0&#45;&gt;1 -->\n",
       "<g id=\"edge1\" class=\"edge\">\n",
       "<title>0&#45;&gt;1</title>\n",
       "<path fill=\"none\" stroke=\"#000000\" d=\"M40.0612,-73.5C47.7789,-73.5 56.8213,-73.5 65.4915,-73.5\"/>\n",
       "<polygon fill=\"#000000\" stroke=\"#000000\" points=\"65.7686,-77.0001 75.7685,-73.5 65.7685,-70.0001 65.7686,-77.0001\"/>\n",
       "</g>\n",
       "<!-- 2 -->\n",
       "<g id=\"node3\" class=\"node\">\n",
       "<title>2</title>\n",
       "<text text-anchor=\"middle\" x=\"203.5\" y=\"-135.8\" font-family=\"Times,serif\" font-size=\"14.00\" fill=\"#000000\">1997</text>\n",
       "</g>\n",
       "<!-- 1&#45;&gt;2 -->\n",
       "<g id=\"edge2\" class=\"edge\">\n",
       "<title>1&#45;&gt;2</title>\n",
       "<path fill=\"none\" stroke=\"#000000\" d=\"M106.9069,-81.2614C117.5478,-92.0294 138.1813,-111.5244 159,-123.5 165.1647,-127.0461 172.2526,-130.0244 178.9331,-132.413\"/>\n",
       "<polygon fill=\"#000000\" stroke=\"#000000\" points=\"178.3118,-135.8924 188.9045,-135.6782 180.4903,-129.24 178.3118,-135.8924\"/>\n",
       "</g>\n",
       "<!-- 3 -->\n",
       "<g id=\"node4\" class=\"node\">\n",
       "<title>3</title>\n",
       "<text text-anchor=\"middle\" x=\"203.5\" y=\"-102.8\" font-family=\"Times,serif\" font-size=\"14.00\" fill=\"#000000\">Ford</text>\n",
       "</g>\n",
       "<!-- 1&#45;&gt;3 -->\n",
       "<g id=\"edge3\" class=\"edge\">\n",
       "<title>1&#45;&gt;3</title>\n",
       "<path fill=\"none\" stroke=\"#000000\" d=\"M123.0992,-80.9882C140.1719,-86.4055 163.1364,-93.6923 180.1511,-99.0912\"/>\n",
       "<polygon fill=\"#000000\" stroke=\"#000000\" points=\"179.2802,-102.4868 189.8704,-102.1752 181.3974,-95.8146 179.2802,-102.4868\"/>\n",
       "</g>\n",
       "<!-- 4 -->\n",
       "<g id=\"node5\" class=\"node\">\n",
       "<title>4</title>\n",
       "<text text-anchor=\"middle\" x=\"203.5\" y=\"-69.8\" font-family=\"Times,serif\" font-size=\"14.00\" fill=\"#000000\">E350</text>\n",
       "</g>\n",
       "<!-- 1&#45;&gt;4 -->\n",
       "<g id=\"edge4\" class=\"edge\">\n",
       "<title>1&#45;&gt;4</title>\n",
       "<path fill=\"none\" stroke=\"#000000\" d=\"M123.0992,-73.5C139.5192,-73.5 161.3892,-73.5 178.1743,-73.5\"/>\n",
       "<polygon fill=\"#000000\" stroke=\"#000000\" points=\"178.3619,-77.0001 188.3619,-73.5 178.3618,-70.0001 178.3619,-77.0001\"/>\n",
       "</g>\n",
       "<!-- 5 -->\n",
       "<g id=\"node6\" class=\"node\">\n",
       "<title>5</title>\n",
       "<text text-anchor=\"middle\" x=\"203.5\" y=\"-36.8\" font-family=\"Times,serif\" font-size=\"14.00\" fill=\"#000000\">&quot;ac, abs, moon&quot;</text>\n",
       "</g>\n",
       "<!-- 1&#45;&gt;5 -->\n",
       "<g id=\"edge5\" class=\"edge\">\n",
       "<title>1&#45;&gt;5</title>\n",
       "<path fill=\"none\" stroke=\"#000000\" d=\"M123.0992,-66.0118C136.9628,-61.6128 154.7115,-55.981 170.0046,-51.1284\"/>\n",
       "<polygon fill=\"#000000\" stroke=\"#000000\" points=\"171.1611,-54.4334 179.6342,-48.0728 169.0439,-47.7613 171.1611,-54.4334\"/>\n",
       "</g>\n",
       "<!-- 6 -->\n",
       "<g id=\"node7\" class=\"node\">\n",
       "<title>6</title>\n",
       "<text text-anchor=\"middle\" x=\"203.5\" y=\"-3.8\" font-family=\"Times,serif\" font-size=\"14.00\" fill=\"#000000\">3000.00</text>\n",
       "</g>\n",
       "<!-- 1&#45;&gt;6 -->\n",
       "<g id=\"edge6\" class=\"edge\">\n",
       "<title>1&#45;&gt;6</title>\n",
       "<path fill=\"none\" stroke=\"#000000\" d=\"M106.9709,-65.9613C117.6879,-55.4888 138.4112,-36.4783 159,-24.5 162.6993,-22.3478 166.7215,-20.371 170.7848,-18.5867\"/>\n",
       "<polygon fill=\"#000000\" stroke=\"#000000\" points=\"172.2465,-21.7711 180.2079,-14.7806 169.6249,-15.2805 172.2465,-21.7711\"/>\n",
       "</g>\n",
       "</g>\n",
       "</svg>\n"
      ],
      "text/plain": [
       "<graphviz.dot.Digraph at 0x113e55eb8>"
      ]
     },
     "metadata": {},
     "output_type": "display_data"
    }
   ],
   "source": [
    "tree = parse_csv(mystring)\n",
    "display_tree(tree, graph_attr=lr_graph)"
   ]
  },
  {
   "cell_type": "markdown",
   "metadata": {
    "slideshow": {
     "slide_type": "fragment"
    }
   },
   "source": [
    "That of course does not survive long:"
   ]
  },
  {
   "cell_type": "code",
   "execution_count": 22,
   "metadata": {
    "slideshow": {
     "slide_type": "subslide"
    }
   },
   "outputs": [
    {
     "name": "stdout",
     "output_type": "stream",
     "text": [
      "1999,Chevy,\"Venture \\\"Extended Edition, Very Large\\\"\",,5000.00\n"
     ]
    }
   ],
   "source": [
    "mystring = '''\\\n",
    "1999,Chevy,\"Venture \\\\\"Extended Edition, Very Large\\\\\"\",,5000.00\\\n",
    "'''\n",
    "print(mystring)"
   ]
  },
  {
   "cell_type": "markdown",
   "metadata": {
    "slideshow": {
     "slide_type": "fragment"
    }
   },
   "source": [
    "A few embedded quotes are sufficient to confuse our parser again."
   ]
  },
  {
   "cell_type": "code",
   "execution_count": 23,
   "metadata": {
    "slideshow": {
     "slide_type": "fragment"
    }
   },
   "outputs": [
    {
     "data": {
      "image/svg+xml": [
       "<?xml version=\"1.0\" encoding=\"UTF-8\" standalone=\"no\"?>\n",
       "<!DOCTYPE svg PUBLIC \"-//W3C//DTD SVG 1.1//EN\"\n",
       " \"http://www.w3.org/Graphics/SVG/1.1/DTD/svg11.dtd\">\n",
       "<!-- Generated by graphviz version 2.40.1 (20161225.0304)\n",
       " -->\n",
       "<!-- Title: %3 Pages: 1 -->\n",
       "<svg width=\"329pt\" height=\"174pt\"\n",
       " viewBox=\"0.00 0.00 329.00 174.00\" xmlns=\"http://www.w3.org/2000/svg\" xmlns:xlink=\"http://www.w3.org/1999/xlink\">\n",
       "<g id=\"graph0\" class=\"graph\" transform=\"scale(1 1) rotate(0) translate(4 170)\">\n",
       "<title>%3</title>\n",
       "<polygon fill=\"#ffffff\" stroke=\"transparent\" points=\"-4,4 -4,-170 325,-170 325,4 -4,4\"/>\n",
       "<!-- 0 -->\n",
       "<g id=\"node1\" class=\"node\">\n",
       "<title>0</title>\n",
       "<text text-anchor=\"middle\" x=\"20\" y=\"-71.8\" font-family=\"Times,serif\" font-size=\"14.00\" fill=\"#000000\">&lt;start&gt;</text>\n",
       "</g>\n",
       "<!-- 1 -->\n",
       "<g id=\"node2\" class=\"node\">\n",
       "<title>1</title>\n",
       "<text text-anchor=\"middle\" x=\"99.5\" y=\"-71.8\" font-family=\"Times,serif\" font-size=\"14.00\" fill=\"#000000\">record 0</text>\n",
       "</g>\n",
       "<!-- 0&#45;&gt;1 -->\n",
       "<g id=\"edge1\" class=\"edge\">\n",
       "<title>0&#45;&gt;1</title>\n",
       "<path fill=\"none\" stroke=\"#000000\" d=\"M40.0612,-75.5C47.7789,-75.5 56.8213,-75.5 65.4915,-75.5\"/>\n",
       "<polygon fill=\"#000000\" stroke=\"#000000\" points=\"65.7686,-79.0001 75.7685,-75.5 65.7685,-72.0001 65.7686,-79.0001\"/>\n",
       "</g>\n",
       "<!-- 2 -->\n",
       "<g id=\"node3\" class=\"node\">\n",
       "<title>2</title>\n",
       "<text text-anchor=\"middle\" x=\"240\" y=\"-154.8\" font-family=\"Times,serif\" font-size=\"14.00\" fill=\"#000000\">1999</text>\n",
       "</g>\n",
       "<!-- 1&#45;&gt;2 -->\n",
       "<g id=\"edge2\" class=\"edge\">\n",
       "<title>1&#45;&gt;2</title>\n",
       "<path fill=\"none\" stroke=\"#000000\" d=\"M103.9363,-83.1869C112.5696,-97.3943 133.0767,-127.6635 159,-142.5 176.145,-152.3124 198.3044,-156.197 215.1108,-157.6924\"/>\n",
       "<polygon fill=\"#000000\" stroke=\"#000000\" points=\"215.0652,-161.197 225.2755,-158.3683 215.5298,-154.2124 215.0652,-161.197\"/>\n",
       "</g>\n",
       "<!-- 3 -->\n",
       "<g id=\"node4\" class=\"node\">\n",
       "<title>3</title>\n",
       "<text text-anchor=\"middle\" x=\"240\" y=\"-121.8\" font-family=\"Times,serif\" font-size=\"14.00\" fill=\"#000000\">Chevy</text>\n",
       "</g>\n",
       "<!-- 1&#45;&gt;3 -->\n",
       "<g id=\"edge3\" class=\"edge\">\n",
       "<title>1&#45;&gt;3</title>\n",
       "<path fill=\"none\" stroke=\"#000000\" d=\"M110.3711,-83.1609C121.9117,-90.9371 140.942,-102.763 159,-109.5 175.6952,-115.7286 195.2762,-119.6809 211.0036,-122.0989\"/>\n",
       "<polygon fill=\"#000000\" stroke=\"#000000\" points=\"210.8023,-125.6051 221.1933,-123.5369 211.7805,-118.6737 210.8023,-125.6051\"/>\n",
       "</g>\n",
       "<!-- 4 -->\n",
       "<g id=\"node5\" class=\"node\">\n",
       "<title>4</title>\n",
       "<text text-anchor=\"middle\" x=\"240\" y=\"-88.8\" font-family=\"Times,serif\" font-size=\"14.00\" fill=\"#ff0000\">&quot;Venture \\&quot;Extended Edition</text>\n",
       "</g>\n",
       "<!-- 1&#45;&gt;4 -->\n",
       "<g id=\"edge4\" class=\"edge\">\n",
       "<title>1&#45;&gt;4</title>\n",
       "<path fill=\"none\" stroke=\"#000000\" d=\"M123.0165,-78.3454C135.5022,-79.8561 151.5923,-81.803 167.8198,-83.7665\"/>\n",
       "<polygon fill=\"#000000\" stroke=\"#000000\" points=\"167.5625,-87.2608 177.9105,-84.9874 168.4034,-80.3114 167.5625,-87.2608\"/>\n",
       "</g>\n",
       "<!-- 5 -->\n",
       "<g id=\"node6\" class=\"node\">\n",
       "<title>5</title>\n",
       "<text text-anchor=\"middle\" x=\"240\" y=\"-55.8\" font-family=\"Times,serif\" font-size=\"14.00\" fill=\"#ff0000\"> Very Large\\&quot;&quot;</text>\n",
       "</g>\n",
       "<!-- 1&#45;&gt;5 -->\n",
       "<g id=\"edge5\" class=\"edge\">\n",
       "<title>1&#45;&gt;5</title>\n",
       "<path fill=\"none\" stroke=\"#000000\" d=\"M123.0165,-72.822C140.8332,-70.793 165.9895,-67.9282 188.4113,-65.3749\"/>\n",
       "<polygon fill=\"#000000\" stroke=\"#000000\" points=\"188.9448,-68.8368 198.4846,-64.2277 188.1527,-61.8818 188.9448,-68.8368\"/>\n",
       "</g>\n",
       "<!-- 6 -->\n",
       "<g id=\"node7\" class=\"node\">\n",
       "<title>6</title>\n",
       "</g>\n",
       "<!-- 1&#45;&gt;6 -->\n",
       "<g id=\"edge6\" class=\"edge\">\n",
       "<title>1&#45;&gt;6</title>\n",
       "<path fill=\"none\" stroke=\"#000000\" d=\"M110.782,-67.7761C110.8271,-67.7468 110.8724,-67.7174 110.9178,-67.688\"/>\n",
       "<polygon fill=\"#000000\" stroke=\"#000000\" points=\"104.566,-75.9784 111.0543,-67.5995 100.7571,-70.1034 104.566,-75.9784\"/>\n",
       "</g>\n",
       "<!-- 7 -->\n",
       "<g id=\"node8\" class=\"node\">\n",
       "<title>7</title>\n",
       "<text text-anchor=\"middle\" x=\"240\" y=\"-3.8\" font-family=\"Times,serif\" font-size=\"14.00\" fill=\"#000000\">5000.00</text>\n",
       "</g>\n",
       "<!-- 1&#45;&gt;7 -->\n",
       "<g id=\"edge7\" class=\"edge\">\n",
       "<title>1&#45;&gt;7</title>\n",
       "<path fill=\"none\" stroke=\"#000000\" d=\"M105.9727,-67.9225C116.0853,-56.6034 136.7877,-35.4429 159,-24.5 173.7666,-17.2252 191.5383,-13.057 206.6682,-10.6718\"/>\n",
       "<polygon fill=\"#000000\" stroke=\"#000000\" points=\"207.2261,-14.128 216.6513,-9.2891 206.2656,-7.1942 207.2261,-14.128\"/>\n",
       "</g>\n",
       "</g>\n",
       "</svg>\n"
      ],
      "text/plain": [
       "<graphviz.dot.Digraph at 0x113e552e8>"
      ]
     },
     "metadata": {},
     "output_type": "display_data"
    }
   ],
   "source": [
    "tree = parse_csv(mystring)\n",
    "bad_nodes = {4,5}\n",
    "display_tree(tree, node_attr=highlight_err_node, graph_attr=lr_graph)"
   ]
  },
  {
   "cell_type": "markdown",
   "metadata": {
    "slideshow": {
     "slide_type": "fragment"
    }
   },
   "source": [
    "Here is another record from that CSV file:"
   ]
  },
  {
   "cell_type": "code",
   "execution_count": 24,
   "metadata": {
    "slideshow": {
     "slide_type": "subslide"
    }
   },
   "outputs": [
    {
     "name": "stdout",
     "output_type": "stream",
     "text": [
      "1996,Jeep,Grand Cherokee,\"MUST SELL!\n",
      "air, moon roof, loaded\",4799.00\n",
      "\n"
     ]
    }
   ],
   "source": [
    "mystring = '''\\\n",
    "1996,Jeep,Grand Cherokee,\"MUST SELL!\n",
    "air, moon roof, loaded\",4799.00\n",
    "'''\n",
    "print(mystring)"
   ]
  },
  {
   "cell_type": "code",
   "execution_count": 25,
   "metadata": {
    "slideshow": {
     "slide_type": "fragment"
    }
   },
   "outputs": [
    {
     "data": {
      "image/svg+xml": [
       "<?xml version=\"1.0\" encoding=\"UTF-8\" standalone=\"no\"?>\n",
       "<!DOCTYPE svg PUBLIC \"-//W3C//DTD SVG 1.1//EN\"\n",
       " \"http://www.w3.org/Graphics/SVG/1.1/DTD/svg11.dtd\">\n",
       "<!-- Generated by graphviz version 2.40.1 (20161225.0304)\n",
       " -->\n",
       "<!-- Title: %3 Pages: 1 -->\n",
       "<svg width=\"263pt\" height=\"221pt\"\n",
       " viewBox=\"0.00 0.00 263.00 221.00\" xmlns=\"http://www.w3.org/2000/svg\" xmlns:xlink=\"http://www.w3.org/1999/xlink\">\n",
       "<g id=\"graph0\" class=\"graph\" transform=\"scale(1 1) rotate(0) translate(4 217)\">\n",
       "<title>%3</title>\n",
       "<polygon fill=\"#ffffff\" stroke=\"transparent\" points=\"-4,4 -4,-217 259,-217 259,4 -4,4\"/>\n",
       "<!-- 0 -->\n",
       "<g id=\"node1\" class=\"node\">\n",
       "<title>0</title>\n",
       "<text text-anchor=\"middle\" x=\"20\" y=\"-53.8\" font-family=\"Times,serif\" font-size=\"14.00\" fill=\"#000000\">&lt;start&gt;</text>\n",
       "</g>\n",
       "<!-- 1 -->\n",
       "<g id=\"node2\" class=\"node\">\n",
       "<title>1</title>\n",
       "<text text-anchor=\"middle\" x=\"99.5\" y=\"-135.8\" font-family=\"Times,serif\" font-size=\"14.00\" fill=\"#000000\">record 0</text>\n",
       "</g>\n",
       "<!-- 0&#45;&gt;1 -->\n",
       "<g id=\"edge1\" class=\"edge\">\n",
       "<title>0&#45;&gt;1</title>\n",
       "<path fill=\"none\" stroke=\"#000000\" d=\"M27.3367,-65.0674C40.4036,-78.5452 67.93,-106.9373 84.9553,-124.498\"/>\n",
       "<polygon fill=\"#000000\" stroke=\"#000000\" points=\"82.4755,-126.9683 91.9492,-131.7117 87.5012,-122.0957 82.4755,-126.9683\"/>\n",
       "</g>\n",
       "<!-- 6 -->\n",
       "<g id=\"node7\" class=\"node\">\n",
       "<title>6</title>\n",
       "<text text-anchor=\"middle\" x=\"99.5\" y=\"-53.8\" font-family=\"Times,serif\" font-size=\"14.00\" fill=\"#ff0000\">record 1</text>\n",
       "</g>\n",
       "<!-- 0&#45;&gt;6 -->\n",
       "<g id=\"edge6\" class=\"edge\">\n",
       "<title>0&#45;&gt;6</title>\n",
       "<path fill=\"none\" stroke=\"#000000\" d=\"M40.0612,-57.5C47.7789,-57.5 56.8213,-57.5 65.4915,-57.5\"/>\n",
       "<polygon fill=\"#000000\" stroke=\"#000000\" points=\"65.7686,-61.0001 75.7685,-57.5 65.7685,-54.0001 65.7686,-61.0001\"/>\n",
       "</g>\n",
       "<!-- 10 -->\n",
       "<g id=\"node11\" class=\"node\">\n",
       "<title>10</title>\n",
       "<text text-anchor=\"middle\" x=\"99.5\" y=\"-20.8\" font-family=\"Times,serif\" font-size=\"14.00\" fill=\"#ff0000\">record 2</text>\n",
       "</g>\n",
       "<!-- 0&#45;&gt;10 -->\n",
       "<g id=\"edge10\" class=\"edge\">\n",
       "<title>0&#45;&gt;10</title>\n",
       "<path fill=\"none\" stroke=\"#000000\" d=\"M38.4387,-49.8462C48.3723,-45.7228 60.8269,-40.553 71.8926,-35.9597\"/>\n",
       "<polygon fill=\"#000000\" stroke=\"#000000\" points=\"73.2672,-39.1787 81.1613,-32.1123 70.5835,-32.7136 73.2672,-39.1787\"/>\n",
       "</g>\n",
       "<!-- 2 -->\n",
       "<g id=\"node3\" class=\"node\">\n",
       "<title>2</title>\n",
       "<text text-anchor=\"middle\" x=\"207\" y=\"-201.8\" font-family=\"Times,serif\" font-size=\"14.00\" fill=\"#000000\">1996</text>\n",
       "</g>\n",
       "<!-- 1&#45;&gt;2 -->\n",
       "<g id=\"edge2\" class=\"edge\">\n",
       "<title>1&#45;&gt;2</title>\n",
       "<path fill=\"none\" stroke=\"#000000\" d=\"M106.8683,-147.3295C117.4632,-158.1784 138.0426,-177.7689 159,-189.5 166.2482,-193.5572 174.691,-196.8002 182.4569,-199.2769\"/>\n",
       "<polygon fill=\"#000000\" stroke=\"#000000\" points=\"181.5385,-202.6548 192.1186,-202.0954 183.4989,-195.9349 181.5385,-202.6548\"/>\n",
       "</g>\n",
       "<!-- 3 -->\n",
       "<g id=\"node4\" class=\"node\">\n",
       "<title>3</title>\n",
       "<text text-anchor=\"middle\" x=\"207\" y=\"-168.8\" font-family=\"Times,serif\" font-size=\"14.00\" fill=\"#000000\">Jeep</text>\n",
       "</g>\n",
       "<!-- 1&#45;&gt;3 -->\n",
       "<g id=\"edge3\" class=\"edge\">\n",
       "<title>1&#45;&gt;3</title>\n",
       "<path fill=\"none\" stroke=\"#000000\" d=\"M123.0913,-146.742C141.3809,-152.3565 166.5586,-160.0854 184.5525,-165.6091\"/>\n",
       "<polygon fill=\"#000000\" stroke=\"#000000\" points=\"183.6236,-168.9851 194.2105,-168.5739 185.6779,-162.2933 183.6236,-168.9851\"/>\n",
       "</g>\n",
       "<!-- 4 -->\n",
       "<g id=\"node5\" class=\"node\">\n",
       "<title>4</title>\n",
       "<text text-anchor=\"middle\" x=\"207\" y=\"-135.8\" font-family=\"Times,serif\" font-size=\"14.00\" fill=\"#000000\">Grand Cherokee</text>\n",
       "</g>\n",
       "<!-- 1&#45;&gt;4 -->\n",
       "<g id=\"edge4\" class=\"edge\">\n",
       "<title>1&#45;&gt;4</title>\n",
       "<path fill=\"none\" stroke=\"#000000\" d=\"M123.0913,-139.5C131.0797,-139.5 140.3821,-139.5 149.826,-139.5\"/>\n",
       "<polygon fill=\"#000000\" stroke=\"#000000\" points=\"150.0738,-143.0001 160.0737,-139.5 150.0737,-136.0001 150.0738,-143.0001\"/>\n",
       "</g>\n",
       "<!-- 5 -->\n",
       "<g id=\"node6\" class=\"node\">\n",
       "<title>5</title>\n",
       "<text text-anchor=\"middle\" x=\"207\" y=\"-102.8\" font-family=\"Times,serif\" font-size=\"14.00\" fill=\"#ff0000\">&quot;MUST SELL!</text>\n",
       "</g>\n",
       "<!-- 1&#45;&gt;5 -->\n",
       "<g id=\"edge5\" class=\"edge\">\n",
       "<title>1&#45;&gt;5</title>\n",
       "<path fill=\"none\" stroke=\"#000000\" d=\"M123.0913,-132.258C137.6272,-127.7958 156.5139,-121.9981 172.6873,-117.0332\"/>\n",
       "<polygon fill=\"#000000\" stroke=\"#000000\" points=\"173.8111,-120.3495 182.3436,-114.0689 171.7568,-113.6577 173.8111,-120.3495\"/>\n",
       "</g>\n",
       "<!-- 7 -->\n",
       "<g id=\"node8\" class=\"node\">\n",
       "<title>7</title>\n",
       "<text text-anchor=\"middle\" x=\"207\" y=\"-69.8\" font-family=\"Times,serif\" font-size=\"14.00\" fill=\"#ff0000\">air</text>\n",
       "</g>\n",
       "<!-- 6&#45;&gt;7 -->\n",
       "<g id=\"edge7\" class=\"edge\">\n",
       "<title>6&#45;&gt;7</title>\n",
       "<path fill=\"none\" stroke=\"#000000\" d=\"M123.0913,-61.0113C143.0603,-63.9834 171.2404,-68.1776 189.3165,-70.868\"/>\n",
       "<polygon fill=\"#000000\" stroke=\"#000000\" points=\"188.9191,-74.3474 199.3255,-72.3577 189.9497,-67.4236 188.9191,-74.3474\"/>\n",
       "</g>\n",
       "<!-- 8 -->\n",
       "<g id=\"node9\" class=\"node\">\n",
       "<title>8</title>\n",
       "<text text-anchor=\"middle\" x=\"207\" y=\"-36.8\" font-family=\"Times,serif\" font-size=\"14.00\" fill=\"#ff0000\"> moon roof</text>\n",
       "</g>\n",
       "<!-- 6&#45;&gt;8 -->\n",
       "<g id=\"edge8\" class=\"edge\">\n",
       "<title>6&#45;&gt;8</title>\n",
       "<path fill=\"none\" stroke=\"#000000\" d=\"M123.0913,-53.7693C135.4254,-51.8188 150.892,-49.3729 165.1755,-47.1141\"/>\n",
       "<polygon fill=\"#000000\" stroke=\"#000000\" points=\"165.9747,-50.5313 175.3052,-45.5122 164.8812,-43.6172 165.9747,-50.5313\"/>\n",
       "</g>\n",
       "<!-- 9 -->\n",
       "<g id=\"node10\" class=\"node\">\n",
       "<title>9</title>\n",
       "<text text-anchor=\"middle\" x=\"207\" y=\"-3.8\" font-family=\"Times,serif\" font-size=\"14.00\" fill=\"#ff0000\"> loaded&quot;,4799.00</text>\n",
       "</g>\n",
       "<!-- 6&#45;&gt;9 -->\n",
       "<g id=\"edge9\" class=\"edge\">\n",
       "<title>6&#45;&gt;9</title>\n",
       "<path fill=\"none\" stroke=\"#000000\" d=\"M111.9535,-49.7933C123.7803,-42.6688 142.1999,-32.0707 159,-24.5 163.7151,-22.3752 168.7817,-20.3338 173.7931,-18.4486\"/>\n",
       "<polygon fill=\"#000000\" stroke=\"#000000\" points=\"175.0362,-21.721 183.255,-15.035 172.6606,-15.1364 175.0362,-21.721\"/>\n",
       "</g>\n",
       "</g>\n",
       "</svg>\n"
      ],
      "text/plain": [
       "<graphviz.dot.Digraph at 0x113e55b70>"
      ]
     },
     "metadata": {},
     "output_type": "display_data"
    }
   ],
   "source": [
    "tree = parse_csv(mystring)\n",
    "bad_nodes = {5, 6,7,8,9,10}\n",
    "display_tree(tree, node_attr=highlight_err_node, graph_attr=lr_graph)"
   ]
  },
  {
   "cell_type": "markdown",
   "metadata": {
    "slideshow": {
     "slide_type": "fragment"
    }
   },
   "source": [
    "Fixing this would require modifying both inner `parse_quote()` and the outer `parse_csv()` procedures."
   ]
  },
  {
   "cell_type": "markdown",
   "metadata": {
    "slideshow": {
     "slide_type": "subslide"
    }
   },
   "source": [
    "Indeed, each additional improvement falls apart even with a little extra complexity. The problem becomes severe when one encounters recursive expressions. For example, JSON is a common alternative to CSV files for saving data. Similarly, one may have to parse data from an HTML table instead of a CSV file if one is getting the data from the web.\n",
    "\n",
    "One might be tempted to fix it with a little more ad hoc parsing, with a bit of *regular expressions* thrown in. However, that is the [path to insanity](https://stackoverflow.com/a/1732454).\n",
    "\n",
    "It is here that the formal parsers shine. The main idea is that, any given set of strings belong to a language, and these languages can be specified by their grammars (as we saw in the [chapter on grammars](Grammars.ipynb)). The great thing about grammars is that they can be *composed*. That is, one can introduce finer and finer details into an internal structure without affecting the external structure, and similarly, one can change the external structure without much impact on the internal structure. We briefly describe grammars in the next section."
   ]
  },
  {
   "cell_type": "markdown",
   "metadata": {
    "slideshow": {
     "slide_type": "slide"
    },
    "toc-hr-collapsed": true
   },
   "source": [
    "## Grammars\n",
    "\n",
    "A grammar, as you have read from the [chapter on grammars](Grammars.ipynb) is a set of _rules_ that explain how the start symbol can be expanded. Each rule has a name, also called a _nonterminal_, and a set of _alternative choices_ in how the nonterminal can be expanded."
   ]
  },
  {
   "cell_type": "code",
   "execution_count": 26,
   "metadata": {
    "slideshow": {
     "slide_type": "subslide"
    }
   },
   "outputs": [],
   "source": [
    "A1_GRAMMAR = {\n",
    "    \"<start>\": [\"<expr>\"],\n",
    "    \"<expr>\": [\"<expr>+<expr>\", \"<expr>-<expr>\", \"<integer>\"],\n",
    "    \"<integer>\": [\"<digit><integer>\", \"<digit>\"],\n",
    "    \"<digit>\": [\"0\", \"1\", \"2\", \"3\", \"4\", \"5\", \"6\", \"7\", \"8\", \"9\"]\n",
    "}"
   ]
  },
  {
   "cell_type": "code",
   "execution_count": 27,
   "metadata": {
    "slideshow": {
     "slide_type": "subslide"
    }
   },
   "outputs": [
    {
     "name": "stdout",
     "output_type": "stream",
     "text": [
      "start\n"
     ]
    },
    {
     "data": {
      "image/svg+xml": [
       "<svg class=\"railroad-diagram\" height=\"62\" viewBox=\"0 0 174.0 62\" width=\"174.0\" xmlns=\"http://www.w3.org/2000/svg\">\n",
       "<g transform=\"translate(.5 .5)\">\n",
       "<style>/* <![CDATA[ */\n",
       "    svg.railroad-diagram {\n",
       "        background-color:hsl(100,100%,100%);\n",
       "    }\n",
       "    svg.railroad-diagram path {\n",
       "        stroke-width:3;\n",
       "        stroke:black;\n",
       "        fill:rgba(0,0,0,0);\n",
       "    }\n",
       "    svg.railroad-diagram text {\n",
       "        font:bold 14px monospace;\n",
       "        text-anchor:middle;\n",
       "    }\n",
       "    svg.railroad-diagram text.label{\n",
       "        text-anchor:start;\n",
       "    }\n",
       "    svg.railroad-diagram text.comment{\n",
       "        font:italic 12px monospace;\n",
       "    }\n",
       "    svg.railroad-diagram rect{\n",
       "        stroke-width:3;\n",
       "        stroke:black;\n",
       "        fill:hsl(0,62%,82%);\n",
       "    }\n",
       "\n",
       "/* ]]> */\n",
       "</style><g>\n",
       "<path d=\"M20 21v20m10 -20v20m-10 -10h20\"/></g><g>\n",
       "<path d=\"M40 31h0.0\"/><path d=\"M134.0 31h0.0\"/><path d=\"M40.0 31h20\"/><g>\n",
       "<path d=\"M60.0 31h0.0\"/><path d=\"M114.0 31h0.0\"/><g class=\"non-terminal\">\n",
       "<path d=\"M60.0 31h0.0\"/><path d=\"M114.0 31h0.0\"/><rect height=\"22\" width=\"54.0\" x=\"60.0\" y=\"20\"/><text x=\"87.0\" y=\"35\">expr</text></g></g><path d=\"M114.0 31h20\"/></g><path d=\"M 134.0 31 h 20 m -10 -10 v 20 m 10 -20 v 20\"/></g></svg>"
      ],
      "text/plain": [
       "<IPython.core.display.SVG object>"
      ]
     },
     "metadata": {},
     "output_type": "display_data"
    },
    {
     "name": "stdout",
     "output_type": "stream",
     "text": [
      "expr\n"
     ]
    },
    {
     "data": {
      "image/svg+xml": [
       "<svg class=\"railroad-diagram\" height=\"122\" viewBox=\"0 0 296.5 122\" width=\"296.5\" xmlns=\"http://www.w3.org/2000/svg\">\n",
       "<g transform=\"translate(.5 .5)\">\n",
       "<style>/* <![CDATA[ */\n",
       "    svg.railroad-diagram {\n",
       "        background-color:hsl(100,100%,100%);\n",
       "    }\n",
       "    svg.railroad-diagram path {\n",
       "        stroke-width:3;\n",
       "        stroke:black;\n",
       "        fill:rgba(0,0,0,0);\n",
       "    }\n",
       "    svg.railroad-diagram text {\n",
       "        font:bold 14px monospace;\n",
       "        text-anchor:middle;\n",
       "    }\n",
       "    svg.railroad-diagram text.label{\n",
       "        text-anchor:start;\n",
       "    }\n",
       "    svg.railroad-diagram text.comment{\n",
       "        font:italic 12px monospace;\n",
       "    }\n",
       "    svg.railroad-diagram rect{\n",
       "        stroke-width:3;\n",
       "        stroke:black;\n",
       "        fill:hsl(0,62%,82%);\n",
       "    }\n",
       "\n",
       "/* ]]> */\n",
       "</style><g>\n",
       "<path d=\"M20 51v20m10 -20v20m-10 -10h20\"/></g><g>\n",
       "<path d=\"M40 61h0.0\"/><path d=\"M256.5 61h0.0\"/><path d=\"M40.0 61a10 10 0 0 0 10 -10v-10a10 10 0 0 1 10 -10\"/><g>\n",
       "<path d=\"M60.0 31h0.0\"/><path d=\"M236.5 31h0.0\"/><g class=\"non-terminal\">\n",
       "<path d=\"M60.0 31h0.0\"/><path d=\"M114.0 31h0.0\"/><rect height=\"22\" width=\"54.0\" x=\"60.0\" y=\"20\"/><text x=\"87.0\" y=\"35\">expr</text></g><path d=\"M114.0 31h10\"/><path d=\"M124.0 31h10\"/><g class=\"terminal\">\n",
       "<path d=\"M134.0 31h0.0\"/><path d=\"M162.5 31h0.0\"/><rect height=\"22\" rx=\"10\" ry=\"10\" width=\"28.5\" x=\"134.0\" y=\"20\"/><text x=\"148.25\" y=\"35\">+</text></g><path d=\"M162.5 31h10\"/><path d=\"M172.5 31h10\"/><g class=\"non-terminal\">\n",
       "<path d=\"M182.5 31h0.0\"/><path d=\"M236.5 31h0.0\"/><rect height=\"22\" width=\"54.0\" x=\"182.5\" y=\"20\"/><text x=\"209.5\" y=\"35\">expr</text></g></g><path d=\"M236.5 31a10 10 0 0 1 10 10v10a10 10 0 0 0 10 10\"/><path d=\"M40.0 61h20\"/><g>\n",
       "<path d=\"M60.0 61h0.0\"/><path d=\"M236.5 61h0.0\"/><g class=\"non-terminal\">\n",
       "<path d=\"M60.0 61h0.0\"/><path d=\"M114.0 61h0.0\"/><rect height=\"22\" width=\"54.0\" x=\"60.0\" y=\"50\"/><text x=\"87.0\" y=\"65\">expr</text></g><path d=\"M114.0 61h10\"/><path d=\"M124.0 61h10\"/><g class=\"terminal\">\n",
       "<path d=\"M134.0 61h0.0\"/><path d=\"M162.5 61h0.0\"/><rect height=\"22\" rx=\"10\" ry=\"10\" width=\"28.5\" x=\"134.0\" y=\"50\"/><text x=\"148.25\" y=\"65\">-</text></g><path d=\"M162.5 61h10\"/><path d=\"M172.5 61h10\"/><g class=\"non-terminal\">\n",
       "<path d=\"M182.5 61h0.0\"/><path d=\"M236.5 61h0.0\"/><rect height=\"22\" width=\"54.0\" x=\"182.5\" y=\"50\"/><text x=\"209.5\" y=\"65\">expr</text></g></g><path d=\"M236.5 61h20\"/><path d=\"M40.0 61a10 10 0 0 1 10 10v10a10 10 0 0 0 10 10\"/><g>\n",
       "<path d=\"M60.0 91h48.5\"/><path d=\"M188.0 91h48.5\"/><g class=\"non-terminal\">\n",
       "<path d=\"M108.5 91h0.0\"/><path d=\"M188.0 91h0.0\"/><rect height=\"22\" width=\"79.5\" x=\"108.5\" y=\"80\"/><text x=\"148.25\" y=\"95\">integer</text></g></g><path d=\"M236.5 91a10 10 0 0 0 10 -10v-10a10 10 0 0 1 10 -10\"/></g><path d=\"M 256.5 61 h 20 m -10 -10 v 20 m 10 -20 v 20\"/></g></svg>"
      ],
      "text/plain": [
       "<IPython.core.display.SVG object>"
      ]
     },
     "metadata": {},
     "output_type": "display_data"
    },
    {
     "name": "stdout",
     "output_type": "stream",
     "text": [
      "integer\n"
     ]
    },
    {
     "data": {
      "image/svg+xml": [
       "<svg class=\"railroad-diagram\" height=\"92\" viewBox=\"0 0 282.0 92\" width=\"282.0\" xmlns=\"http://www.w3.org/2000/svg\">\n",
       "<g transform=\"translate(.5 .5)\">\n",
       "<style>/* <![CDATA[ */\n",
       "    svg.railroad-diagram {\n",
       "        background-color:hsl(100,100%,100%);\n",
       "    }\n",
       "    svg.railroad-diagram path {\n",
       "        stroke-width:3;\n",
       "        stroke:black;\n",
       "        fill:rgba(0,0,0,0);\n",
       "    }\n",
       "    svg.railroad-diagram text {\n",
       "        font:bold 14px monospace;\n",
       "        text-anchor:middle;\n",
       "    }\n",
       "    svg.railroad-diagram text.label{\n",
       "        text-anchor:start;\n",
       "    }\n",
       "    svg.railroad-diagram text.comment{\n",
       "        font:italic 12px monospace;\n",
       "    }\n",
       "    svg.railroad-diagram rect{\n",
       "        stroke-width:3;\n",
       "        stroke:black;\n",
       "        fill:hsl(0,62%,82%);\n",
       "    }\n",
       "\n",
       "/* ]]> */\n",
       "</style><g>\n",
       "<path d=\"M20 51v20m10 -20v20m-10 -10h20\"/></g><g>\n",
       "<path d=\"M40 61h0.0\"/><path d=\"M242.0 61h0.0\"/><path d=\"M40.0 61a10 10 0 0 0 10 -10v-10a10 10 0 0 1 10 -10\"/><g>\n",
       "<path d=\"M60.0 31h0.0\"/><path d=\"M222.0 31h0.0\"/><g class=\"non-terminal\">\n",
       "<path d=\"M60.0 31h0.0\"/><path d=\"M122.5 31h0.0\"/><rect height=\"22\" width=\"62.5\" x=\"60.0\" y=\"20\"/><text x=\"91.25\" y=\"35\">digit</text></g><path d=\"M122.5 31h10\"/><path d=\"M132.5 31h10\"/><g class=\"non-terminal\">\n",
       "<path d=\"M142.5 31h0.0\"/><path d=\"M222.0 31h0.0\"/><rect height=\"22\" width=\"79.5\" x=\"142.5\" y=\"20\"/><text x=\"182.25\" y=\"35\">integer</text></g></g><path d=\"M222.0 31a10 10 0 0 1 10 10v10a10 10 0 0 0 10 10\"/><path d=\"M40.0 61h20\"/><g>\n",
       "<path d=\"M60.0 61h49.75\"/><path d=\"M172.25 61h49.75\"/><g class=\"non-terminal\">\n",
       "<path d=\"M109.75 61h0.0\"/><path d=\"M172.25 61h0.0\"/><rect height=\"22\" width=\"62.5\" x=\"109.75\" y=\"50\"/><text x=\"141.0\" y=\"65\">digit</text></g></g><path d=\"M222.0 61h20\"/></g><path d=\"M 242.0 61 h 20 m -10 -10 v 20 m 10 -20 v 20\"/></g></svg>"
      ],
      "text/plain": [
       "<IPython.core.display.SVG object>"
      ]
     },
     "metadata": {},
     "output_type": "display_data"
    },
    {
     "name": "stdout",
     "output_type": "stream",
     "text": [
      "digit\n"
     ]
    },
    {
     "data": {
      "image/svg+xml": [
       "<svg class=\"railroad-diagram\" height=\"109\" viewBox=\"0 0 522.5 109\" width=\"522.5\" xmlns=\"http://www.w3.org/2000/svg\">\n",
       "<g transform=\"translate(.5 .5)\">\n",
       "<style>/* <![CDATA[ */\n",
       "    svg.railroad-diagram {\n",
       "        background-color:hsl(100,100%,100%);\n",
       "    }\n",
       "    svg.railroad-diagram path {\n",
       "        stroke-width:3;\n",
       "        stroke:black;\n",
       "        fill:rgba(0,0,0,0);\n",
       "    }\n",
       "    svg.railroad-diagram text {\n",
       "        font:bold 14px monospace;\n",
       "        text-anchor:middle;\n",
       "    }\n",
       "    svg.railroad-diagram text.label{\n",
       "        text-anchor:start;\n",
       "    }\n",
       "    svg.railroad-diagram text.comment{\n",
       "        font:italic 12px monospace;\n",
       "    }\n",
       "    svg.railroad-diagram rect{\n",
       "        stroke-width:3;\n",
       "        stroke:black;\n",
       "        fill:hsl(0,62%,82%);\n",
       "    }\n",
       "\n",
       "/* ]]> */\n",
       "</style><g>\n",
       "<path d=\"M20 59v20m10 -20v20m-10 -10h20\"/></g><g>\n",
       "<path d=\"M40 69h0.0\"/><path d=\"M482.5 69h0.0\"/><path d=\"M40.0 69a10 10 0 0 0 10 -10v-29a10 10 0 0 1 10 -10h324.0\"/><path d=\"M138.5 89h324.0a10 10 0 0 0 10 -10v0a10 10 0 0 1 10 -10\"/><path d=\"M40.0 69h10\"/><g>\n",
       "<path d=\"M50.0 69h0.0\"/><path d=\"M118.5 69h0.0\"/><path d=\"M50.0 69a10 10 0 0 0 10 -10v-10a10 10 0 0 1 10 -10\"/><g>\n",
       "<path d=\"M70.0 39h0.0\"/><path d=\"M98.5 39h0.0\"/><g class=\"terminal\">\n",
       "<path d=\"M70.0 39h0.0\"/><path d=\"M98.5 39h0.0\"/><rect height=\"22\" rx=\"10\" ry=\"10\" width=\"28.5\" x=\"70.0\" y=\"28\"/><text x=\"84.25\" y=\"43\">0</text></g></g><path d=\"M98.5 39a10 10 0 0 1 10 10v10a10 10 0 0 0 10 10\"/><path d=\"M50.0 69h20\"/><g>\n",
       "<path d=\"M70.0 69h0.0\"/><path d=\"M98.5 69h0.0\"/><g class=\"terminal\">\n",
       "<path d=\"M70.0 69h0.0\"/><path d=\"M98.5 69h0.0\"/><rect height=\"22\" rx=\"10\" ry=\"10\" width=\"28.5\" x=\"70.0\" y=\"58\"/><text x=\"84.25\" y=\"73\">1</text></g></g><path d=\"M98.5 69h20\"/></g><path d=\"M118.5 69a10 10 0 0 1 10 10v0a10 10 0 0 0 10 10\"/><path d=\"M118.5 20a10 10 0 0 1 10 10v29a10 10 0 0 0 10 10\"/><g>\n",
       "<path d=\"M138.5 69h0.0\"/><path d=\"M207.0 69h0.0\"/><path d=\"M138.5 69a10 10 0 0 0 10 -10v-10a10 10 0 0 1 10 -10\"/><g>\n",
       "<path d=\"M158.5 39h0.0\"/><path d=\"M187.0 39h0.0\"/><g class=\"terminal\">\n",
       "<path d=\"M158.5 39h0.0\"/><path d=\"M187.0 39h0.0\"/><rect height=\"22\" rx=\"10\" ry=\"10\" width=\"28.5\" x=\"158.5\" y=\"28\"/><text x=\"172.75\" y=\"43\">2</text></g></g><path d=\"M187.0 39a10 10 0 0 1 10 10v10a10 10 0 0 0 10 10\"/><path d=\"M138.5 69h20\"/><g>\n",
       "<path d=\"M158.5 69h0.0\"/><path d=\"M187.0 69h0.0\"/><g class=\"terminal\">\n",
       "<path d=\"M158.5 69h0.0\"/><path d=\"M187.0 69h0.0\"/><rect height=\"22\" rx=\"10\" ry=\"10\" width=\"28.5\" x=\"158.5\" y=\"58\"/><text x=\"172.75\" y=\"73\">3</text></g></g><path d=\"M187.0 69h20\"/></g><path d=\"M207.0 69a10 10 0 0 1 10 10v0a10 10 0 0 0 10 10\"/><path d=\"M207.0 20a10 10 0 0 1 10 10v29a10 10 0 0 0 10 10\"/><g>\n",
       "<path d=\"M227.0 69h0.0\"/><path d=\"M295.5 69h0.0\"/><path d=\"M227.0 69a10 10 0 0 0 10 -10v-10a10 10 0 0 1 10 -10\"/><g>\n",
       "<path d=\"M247.0 39h0.0\"/><path d=\"M275.5 39h0.0\"/><g class=\"terminal\">\n",
       "<path d=\"M247.0 39h0.0\"/><path d=\"M275.5 39h0.0\"/><rect height=\"22\" rx=\"10\" ry=\"10\" width=\"28.5\" x=\"247.0\" y=\"28\"/><text x=\"261.25\" y=\"43\">4</text></g></g><path d=\"M275.5 39a10 10 0 0 1 10 10v10a10 10 0 0 0 10 10\"/><path d=\"M227.0 69h20\"/><g>\n",
       "<path d=\"M247.0 69h0.0\"/><path d=\"M275.5 69h0.0\"/><g class=\"terminal\">\n",
       "<path d=\"M247.0 69h0.0\"/><path d=\"M275.5 69h0.0\"/><rect height=\"22\" rx=\"10\" ry=\"10\" width=\"28.5\" x=\"247.0\" y=\"58\"/><text x=\"261.25\" y=\"73\">5</text></g></g><path d=\"M275.5 69h20\"/></g><path d=\"M295.5 69a10 10 0 0 1 10 10v0a10 10 0 0 0 10 10\"/><path d=\"M295.5 20a10 10 0 0 1 10 10v29a10 10 0 0 0 10 10\"/><g>\n",
       "<path d=\"M315.5 69h0.0\"/><path d=\"M384.0 69h0.0\"/><path d=\"M315.5 69a10 10 0 0 0 10 -10v-10a10 10 0 0 1 10 -10\"/><g>\n",
       "<path d=\"M335.5 39h0.0\"/><path d=\"M364.0 39h0.0\"/><g class=\"terminal\">\n",
       "<path d=\"M335.5 39h0.0\"/><path d=\"M364.0 39h0.0\"/><rect height=\"22\" rx=\"10\" ry=\"10\" width=\"28.5\" x=\"335.5\" y=\"28\"/><text x=\"349.75\" y=\"43\">6</text></g></g><path d=\"M364.0 39a10 10 0 0 1 10 10v10a10 10 0 0 0 10 10\"/><path d=\"M315.5 69h20\"/><g>\n",
       "<path d=\"M335.5 69h0.0\"/><path d=\"M364.0 69h0.0\"/><g class=\"terminal\">\n",
       "<path d=\"M335.5 69h0.0\"/><path d=\"M364.0 69h0.0\"/><rect height=\"22\" rx=\"10\" ry=\"10\" width=\"28.5\" x=\"335.5\" y=\"58\"/><text x=\"349.75\" y=\"73\">7</text></g></g><path d=\"M364.0 69h20\"/></g><path d=\"M384.0 69a10 10 0 0 1 10 10v0a10 10 0 0 0 10 10\"/><path d=\"M384.0 20a10 10 0 0 1 10 10v29a10 10 0 0 0 10 10\"/><g>\n",
       "<path d=\"M404.0 69h0.0\"/><path d=\"M472.5 69h0.0\"/><path d=\"M404.0 69a10 10 0 0 0 10 -10v-10a10 10 0 0 1 10 -10\"/><g>\n",
       "<path d=\"M424.0 39h0.0\"/><path d=\"M452.5 39h0.0\"/><g class=\"terminal\">\n",
       "<path d=\"M424.0 39h0.0\"/><path d=\"M452.5 39h0.0\"/><rect height=\"22\" rx=\"10\" ry=\"10\" width=\"28.5\" x=\"424.0\" y=\"28\"/><text x=\"438.25\" y=\"43\">8</text></g></g><path d=\"M452.5 39a10 10 0 0 1 10 10v10a10 10 0 0 0 10 10\"/><path d=\"M404.0 69h20\"/><g>\n",
       "<path d=\"M424.0 69h0.0\"/><path d=\"M452.5 69h0.0\"/><g class=\"terminal\">\n",
       "<path d=\"M424.0 69h0.0\"/><path d=\"M452.5 69h0.0\"/><rect height=\"22\" rx=\"10\" ry=\"10\" width=\"28.5\" x=\"424.0\" y=\"58\"/><text x=\"438.25\" y=\"73\">9</text></g></g><path d=\"M452.5 69h20\"/></g><path d=\"M472.5 69h10\"/></g><path d=\"M 482.5 69 h 20 m -10 -10 v 20 m 10 -20 v 20\"/></g></svg>"
      ],
      "text/plain": [
       "<IPython.core.display.SVG object>"
      ]
     },
     "metadata": {},
     "output_type": "display_data"
    }
   ],
   "source": [
    "syntax_diagram(A1_GRAMMAR)"
   ]
  },
  {
   "cell_type": "markdown",
   "metadata": {
    "slideshow": {
     "slide_type": "notes"
    }
   },
   "source": [
    "In the above expression, the rule `<expr> : [<expr>+<expr>,<expr>-<expr>,<integer>]` corresponds to how the nonterminal `<expr>` might be expanded.  The expression `<expr>+<expr>` corresponds to one of the alternative choices. We call this an _alternative_ expansion for the nonterminal `<expr>`. Finally, in an expression `<expr>+<expr>`, each of `<expr>`, `+`, and `<expr>` are _symbols_ in that expansion. A symbol could be either a nonterminal or a terminal symbol based on whether its expansion is available in the grammar."
   ]
  },
  {
   "cell_type": "markdown",
   "metadata": {
    "slideshow": {
     "slide_type": "slide"
    }
   },
   "source": [
    "Here is a string that represents an arithmetic expression that we would like to parse, which is specified by the grammar above:"
   ]
  },
  {
   "cell_type": "code",
   "execution_count": 28,
   "metadata": {
    "slideshow": {
     "slide_type": "fragment"
    }
   },
   "outputs": [],
   "source": [
    "mystring = '1+2'"
   ]
  },
  {
   "cell_type": "markdown",
   "metadata": {
    "slideshow": {
     "slide_type": "subslide"
    }
   },
   "source": [
    "The _derivation tree_ for our expression from this grammar is given by:"
   ]
  },
  {
   "cell_type": "code",
   "execution_count": 29,
   "metadata": {
    "slideshow": {
     "slide_type": "fragment"
    }
   },
   "outputs": [
    {
     "data": {
      "image/svg+xml": [
       "<?xml version=\"1.0\" encoding=\"UTF-8\" standalone=\"no\"?>\n",
       "<!DOCTYPE svg PUBLIC \"-//W3C//DTD SVG 1.1//EN\"\n",
       " \"http://www.w3.org/Graphics/SVG/1.1/DTD/svg11.dtd\">\n",
       "<!-- Generated by graphviz version 2.40.1 (20161225.0304)\n",
       " -->\n",
       "<!-- Title: %3 Pages: 1 -->\n",
       "<svg width=\"149pt\" height=\"278pt\"\n",
       " viewBox=\"0.00 0.00 149.00 278.00\" xmlns=\"http://www.w3.org/2000/svg\" xmlns:xlink=\"http://www.w3.org/1999/xlink\">\n",
       "<g id=\"graph0\" class=\"graph\" transform=\"scale(1 1) rotate(0) translate(4 274)\">\n",
       "<title>%3</title>\n",
       "<polygon fill=\"#ffffff\" stroke=\"transparent\" points=\"-4,4 -4,-274 145,-274 145,4 -4,4\"/>\n",
       "<!-- 0 -->\n",
       "<g id=\"node1\" class=\"node\">\n",
       "<title>0</title>\n",
       "<text text-anchor=\"middle\" x=\"70.5\" y=\"-258.8\" font-family=\"Times,serif\" font-size=\"14.00\" fill=\"#000000\">&lt;start&gt;</text>\n",
       "</g>\n",
       "<!-- 1 -->\n",
       "<g id=\"node2\" class=\"node\">\n",
       "<title>1</title>\n",
       "<text text-anchor=\"middle\" x=\"70.5\" y=\"-207.8\" font-family=\"Times,serif\" font-size=\"14.00\" fill=\"#000000\">&lt;expr&gt;</text>\n",
       "</g>\n",
       "<!-- 0&#45;&gt;1 -->\n",
       "<g id=\"edge1\" class=\"edge\">\n",
       "<title>0&#45;&gt;1</title>\n",
       "<path fill=\"none\" stroke=\"#000000\" d=\"M70.5,-254.9748C70.5,-248.195 70.5,-237.966 70.5,-229.1331\"/>\n",
       "<polygon fill=\"#000000\" stroke=\"#000000\" points=\"74.0001,-229.0561 70.5,-219.0561 67.0001,-229.0561 74.0001,-229.0561\"/>\n",
       "</g>\n",
       "<!-- 2 -->\n",
       "<g id=\"node3\" class=\"node\">\n",
       "<title>2</title>\n",
       "<text text-anchor=\"middle\" x=\"27.5\" y=\"-156.8\" font-family=\"Times,serif\" font-size=\"14.00\" fill=\"#000000\">&lt;expr&gt;</text>\n",
       "</g>\n",
       "<!-- 1&#45;&gt;2 -->\n",
       "<g id=\"edge2\" class=\"edge\">\n",
       "<title>1&#45;&gt;2</title>\n",
       "<path fill=\"none\" stroke=\"#000000\" d=\"M64.1552,-203.9748C57.9308,-196.5923 48.2583,-185.1203 40.4119,-175.8142\"/>\n",
       "<polygon fill=\"#000000\" stroke=\"#000000\" points=\"42.9927,-173.4452 33.8708,-168.0561 37.641,-177.9574 42.9927,-173.4452\"/>\n",
       "</g>\n",
       "<!-- 6 -->\n",
       "<g id=\"node7\" class=\"node\">\n",
       "<title>6</title>\n",
       "<text text-anchor=\"middle\" x=\"70.5\" y=\"-156.8\" font-family=\"Times,serif\" font-size=\"14.00\" fill=\"#000000\">+</text>\n",
       "</g>\n",
       "<!-- 1&#45;&gt;6 -->\n",
       "<g id=\"edge6\" class=\"edge\">\n",
       "<title>1&#45;&gt;6</title>\n",
       "<path fill=\"none\" stroke=\"#000000\" d=\"M70.5,-203.9748C70.5,-197.195 70.5,-186.966 70.5,-178.1331\"/>\n",
       "<polygon fill=\"#000000\" stroke=\"#000000\" points=\"74.0001,-178.0561 70.5,-168.0561 67.0001,-178.0561 74.0001,-178.0561\"/>\n",
       "</g>\n",
       "<!-- 7 -->\n",
       "<g id=\"node8\" class=\"node\">\n",
       "<title>7</title>\n",
       "<text text-anchor=\"middle\" x=\"113.5\" y=\"-156.8\" font-family=\"Times,serif\" font-size=\"14.00\" fill=\"#000000\">&lt;expr&gt;</text>\n",
       "</g>\n",
       "<!-- 1&#45;&gt;7 -->\n",
       "<g id=\"edge7\" class=\"edge\">\n",
       "<title>1&#45;&gt;7</title>\n",
       "<path fill=\"none\" stroke=\"#000000\" d=\"M76.8448,-203.9748C83.0692,-196.5923 92.7417,-185.1203 100.5881,-175.8142\"/>\n",
       "<polygon fill=\"#000000\" stroke=\"#000000\" points=\"103.359,-177.9574 107.1292,-168.0561 98.0073,-173.4452 103.359,-177.9574\"/>\n",
       "</g>\n",
       "<!-- 3 -->\n",
       "<g id=\"node4\" class=\"node\">\n",
       "<title>3</title>\n",
       "<text text-anchor=\"middle\" x=\"27.5\" y=\"-105.8\" font-family=\"Times,serif\" font-size=\"14.00\" fill=\"#000000\">&lt;integer&gt;</text>\n",
       "</g>\n",
       "<!-- 2&#45;&gt;3 -->\n",
       "<g id=\"edge3\" class=\"edge\">\n",
       "<title>2&#45;&gt;3</title>\n",
       "<path fill=\"none\" stroke=\"#000000\" d=\"M27.5,-152.9748C27.5,-146.195 27.5,-135.966 27.5,-127.1331\"/>\n",
       "<polygon fill=\"#000000\" stroke=\"#000000\" points=\"31.0001,-127.0561 27.5,-117.0561 24.0001,-127.0561 31.0001,-127.0561\"/>\n",
       "</g>\n",
       "<!-- 4 -->\n",
       "<g id=\"node5\" class=\"node\">\n",
       "<title>4</title>\n",
       "<text text-anchor=\"middle\" x=\"27.5\" y=\"-54.8\" font-family=\"Times,serif\" font-size=\"14.00\" fill=\"#000000\">&lt;digit&gt;</text>\n",
       "</g>\n",
       "<!-- 3&#45;&gt;4 -->\n",
       "<g id=\"edge4\" class=\"edge\">\n",
       "<title>3&#45;&gt;4</title>\n",
       "<path fill=\"none\" stroke=\"#000000\" d=\"M27.5,-101.9748C27.5,-95.195 27.5,-84.966 27.5,-76.1331\"/>\n",
       "<polygon fill=\"#000000\" stroke=\"#000000\" points=\"31.0001,-76.0561 27.5,-66.0561 24.0001,-76.0561 31.0001,-76.0561\"/>\n",
       "</g>\n",
       "<!-- 5 -->\n",
       "<g id=\"node6\" class=\"node\">\n",
       "<title>5</title>\n",
       "<text text-anchor=\"middle\" x=\"27.5\" y=\"-3.8\" font-family=\"Times,serif\" font-size=\"14.00\" fill=\"#000000\">1</text>\n",
       "</g>\n",
       "<!-- 4&#45;&gt;5 -->\n",
       "<g id=\"edge5\" class=\"edge\">\n",
       "<title>4&#45;&gt;5</title>\n",
       "<path fill=\"none\" stroke=\"#000000\" d=\"M27.5,-50.9748C27.5,-44.195 27.5,-33.966 27.5,-25.1331\"/>\n",
       "<polygon fill=\"#000000\" stroke=\"#000000\" points=\"31.0001,-25.0561 27.5,-15.0561 24.0001,-25.0561 31.0001,-25.0561\"/>\n",
       "</g>\n",
       "<!-- 8 -->\n",
       "<g id=\"node9\" class=\"node\">\n",
       "<title>8</title>\n",
       "<text text-anchor=\"middle\" x=\"113.5\" y=\"-105.8\" font-family=\"Times,serif\" font-size=\"14.00\" fill=\"#000000\">&lt;integer&gt;</text>\n",
       "</g>\n",
       "<!-- 7&#45;&gt;8 -->\n",
       "<g id=\"edge8\" class=\"edge\">\n",
       "<title>7&#45;&gt;8</title>\n",
       "<path fill=\"none\" stroke=\"#000000\" d=\"M113.5,-152.9748C113.5,-146.195 113.5,-135.966 113.5,-127.1331\"/>\n",
       "<polygon fill=\"#000000\" stroke=\"#000000\" points=\"117.0001,-127.0561 113.5,-117.0561 110.0001,-127.0561 117.0001,-127.0561\"/>\n",
       "</g>\n",
       "<!-- 9 -->\n",
       "<g id=\"node10\" class=\"node\">\n",
       "<title>9</title>\n",
       "<text text-anchor=\"middle\" x=\"113.5\" y=\"-54.8\" font-family=\"Times,serif\" font-size=\"14.00\" fill=\"#000000\">&lt;digit&gt;</text>\n",
       "</g>\n",
       "<!-- 8&#45;&gt;9 -->\n",
       "<g id=\"edge9\" class=\"edge\">\n",
       "<title>8&#45;&gt;9</title>\n",
       "<path fill=\"none\" stroke=\"#000000\" d=\"M113.5,-101.9748C113.5,-95.195 113.5,-84.966 113.5,-76.1331\"/>\n",
       "<polygon fill=\"#000000\" stroke=\"#000000\" points=\"117.0001,-76.0561 113.5,-66.0561 110.0001,-76.0561 117.0001,-76.0561\"/>\n",
       "</g>\n",
       "<!-- 10 -->\n",
       "<g id=\"node11\" class=\"node\">\n",
       "<title>10</title>\n",
       "<text text-anchor=\"middle\" x=\"113.5\" y=\"-3.8\" font-family=\"Times,serif\" font-size=\"14.00\" fill=\"#000000\">2</text>\n",
       "</g>\n",
       "<!-- 9&#45;&gt;10 -->\n",
       "<g id=\"edge10\" class=\"edge\">\n",
       "<title>9&#45;&gt;10</title>\n",
       "<path fill=\"none\" stroke=\"#000000\" d=\"M113.5,-50.9748C113.5,-44.195 113.5,-33.966 113.5,-25.1331\"/>\n",
       "<polygon fill=\"#000000\" stroke=\"#000000\" points=\"117.0001,-25.0561 113.5,-15.0561 110.0001,-25.0561 117.0001,-25.0561\"/>\n",
       "</g>\n",
       "</g>\n",
       "</svg>\n"
      ],
      "text/plain": [
       "<graphviz.dot.Digraph at 0x113e55240>"
      ]
     },
     "metadata": {},
     "output_type": "display_data"
    }
   ],
   "source": [
    "tree = ('<start>', [('<expr>',\n",
    "                     [('<expr>', [('<integer>', [('<digit>', [('1', [])])])]),\n",
    "                      ('+', []),\n",
    "                      ('<expr>', [('<integer>', [('<digit>', [('2',\n",
    "                                                               [])])])])])])\n",
    "assert mystring == tree_to_string(tree)\n",
    "display_tree(tree)"
   ]
  },
  {
   "cell_type": "markdown",
   "metadata": {
    "slideshow": {
     "slide_type": "subslide"
    }
   },
   "source": [
    "While a grammar can be used to specify a given language, there could be multiple\n",
    "grammars that correspond to the same language. For example, here is another \n",
    "grammar to describe the same addition expression."
   ]
  },
  {
   "cell_type": "code",
   "execution_count": 30,
   "metadata": {
    "slideshow": {
     "slide_type": "subslide"
    }
   },
   "outputs": [],
   "source": [
    "A2_GRAMMAR = {\n",
    "    \"<start>\": [\"<expr>\"],\n",
    "    \"<expr>\": [\"<integer><expr_>\"],\n",
    "    \"<expr_>\": [\"+<expr>\", \"-<expr>\", \"\"],\n",
    "    \"<integer>\": [\"<digit><integer_>\"],\n",
    "    \"<integer_>\": [\"<integer>\", \"\"],\n",
    "    \"<digit>\": [\"0\", \"1\", \"2\", \"3\", \"4\", \"5\", \"6\", \"7\", \"8\", \"9\"]\n",
    "}"
   ]
  },
  {
   "cell_type": "code",
   "execution_count": 31,
   "metadata": {
    "slideshow": {
     "slide_type": "subslide"
    }
   },
   "outputs": [
    {
     "name": "stdout",
     "output_type": "stream",
     "text": [
      "start\n"
     ]
    },
    {
     "data": {
      "image/svg+xml": [
       "<svg class=\"railroad-diagram\" height=\"62\" viewBox=\"0 0 174.0 62\" width=\"174.0\" xmlns=\"http://www.w3.org/2000/svg\">\n",
       "<g transform=\"translate(.5 .5)\">\n",
       "<style>/* <![CDATA[ */\n",
       "    svg.railroad-diagram {\n",
       "        background-color:hsl(100,100%,100%);\n",
       "    }\n",
       "    svg.railroad-diagram path {\n",
       "        stroke-width:3;\n",
       "        stroke:black;\n",
       "        fill:rgba(0,0,0,0);\n",
       "    }\n",
       "    svg.railroad-diagram text {\n",
       "        font:bold 14px monospace;\n",
       "        text-anchor:middle;\n",
       "    }\n",
       "    svg.railroad-diagram text.label{\n",
       "        text-anchor:start;\n",
       "    }\n",
       "    svg.railroad-diagram text.comment{\n",
       "        font:italic 12px monospace;\n",
       "    }\n",
       "    svg.railroad-diagram rect{\n",
       "        stroke-width:3;\n",
       "        stroke:black;\n",
       "        fill:hsl(0,62%,82%);\n",
       "    }\n",
       "\n",
       "/* ]]> */\n",
       "</style><g>\n",
       "<path d=\"M20 21v20m10 -20v20m-10 -10h20\"/></g><g>\n",
       "<path d=\"M40 31h0.0\"/><path d=\"M134.0 31h0.0\"/><path d=\"M40.0 31h20\"/><g>\n",
       "<path d=\"M60.0 31h0.0\"/><path d=\"M114.0 31h0.0\"/><g class=\"non-terminal\">\n",
       "<path d=\"M60.0 31h0.0\"/><path d=\"M114.0 31h0.0\"/><rect height=\"22\" width=\"54.0\" x=\"60.0\" y=\"20\"/><text x=\"87.0\" y=\"35\">expr</text></g></g><path d=\"M114.0 31h20\"/></g><path d=\"M 134.0 31 h 20 m -10 -10 v 20 m 10 -20 v 20\"/></g></svg>"
      ],
      "text/plain": [
       "<IPython.core.display.SVG object>"
      ]
     },
     "metadata": {},
     "output_type": "display_data"
    },
    {
     "name": "stdout",
     "output_type": "stream",
     "text": [
      "expr\n"
     ]
    },
    {
     "data": {
      "image/svg+xml": [
       "<svg class=\"railroad-diagram\" height=\"62\" viewBox=\"0 0 282.0 62\" width=\"282.0\" xmlns=\"http://www.w3.org/2000/svg\">\n",
       "<g transform=\"translate(.5 .5)\">\n",
       "<style>/* <![CDATA[ */\n",
       "    svg.railroad-diagram {\n",
       "        background-color:hsl(100,100%,100%);\n",
       "    }\n",
       "    svg.railroad-diagram path {\n",
       "        stroke-width:3;\n",
       "        stroke:black;\n",
       "        fill:rgba(0,0,0,0);\n",
       "    }\n",
       "    svg.railroad-diagram text {\n",
       "        font:bold 14px monospace;\n",
       "        text-anchor:middle;\n",
       "    }\n",
       "    svg.railroad-diagram text.label{\n",
       "        text-anchor:start;\n",
       "    }\n",
       "    svg.railroad-diagram text.comment{\n",
       "        font:italic 12px monospace;\n",
       "    }\n",
       "    svg.railroad-diagram rect{\n",
       "        stroke-width:3;\n",
       "        stroke:black;\n",
       "        fill:hsl(0,62%,82%);\n",
       "    }\n",
       "\n",
       "/* ]]> */\n",
       "</style><g>\n",
       "<path d=\"M20 21v20m10 -20v20m-10 -10h20\"/></g><g>\n",
       "<path d=\"M40 31h0.0\"/><path d=\"M242.0 31h0.0\"/><path d=\"M40.0 31h20\"/><g>\n",
       "<path d=\"M60.0 31h0.0\"/><path d=\"M222.0 31h0.0\"/><g class=\"non-terminal\">\n",
       "<path d=\"M60.0 31h0.0\"/><path d=\"M139.5 31h0.0\"/><rect height=\"22\" width=\"79.5\" x=\"60.0\" y=\"20\"/><text x=\"99.75\" y=\"35\">integer</text></g><path d=\"M139.5 31h10\"/><path d=\"M149.5 31h10\"/><g class=\"non-terminal\">\n",
       "<path d=\"M159.5 31h0.0\"/><path d=\"M222.0 31h0.0\"/><rect height=\"22\" width=\"62.5\" x=\"159.5\" y=\"20\"/><text x=\"190.75\" y=\"35\">expr_</text></g></g><path d=\"M222.0 31h20\"/></g><path d=\"M 242.0 31 h 20 m -10 -10 v 20 m 10 -20 v 20\"/></g></svg>"
      ],
      "text/plain": [
       "<IPython.core.display.SVG object>"
      ]
     },
     "metadata": {},
     "output_type": "display_data"
    },
    {
     "name": "stdout",
     "output_type": "stream",
     "text": [
      "expr_\n"
     ]
    },
    {
     "data": {
      "image/svg+xml": [
       "<svg class=\"railroad-diagram\" height=\"122\" viewBox=\"0 0 222.5 122\" width=\"222.5\" xmlns=\"http://www.w3.org/2000/svg\">\n",
       "<g transform=\"translate(.5 .5)\">\n",
       "<style>/* <![CDATA[ */\n",
       "    svg.railroad-diagram {\n",
       "        background-color:hsl(100,100%,100%);\n",
       "    }\n",
       "    svg.railroad-diagram path {\n",
       "        stroke-width:3;\n",
       "        stroke:black;\n",
       "        fill:rgba(0,0,0,0);\n",
       "    }\n",
       "    svg.railroad-diagram text {\n",
       "        font:bold 14px monospace;\n",
       "        text-anchor:middle;\n",
       "    }\n",
       "    svg.railroad-diagram text.label{\n",
       "        text-anchor:start;\n",
       "    }\n",
       "    svg.railroad-diagram text.comment{\n",
       "        font:italic 12px monospace;\n",
       "    }\n",
       "    svg.railroad-diagram rect{\n",
       "        stroke-width:3;\n",
       "        stroke:black;\n",
       "        fill:hsl(0,62%,82%);\n",
       "    }\n",
       "\n",
       "/* ]]> */\n",
       "</style><g>\n",
       "<path d=\"M20 51v20m10 -20v20m-10 -10h20\"/></g><g>\n",
       "<path d=\"M40 61h0.0\"/><path d=\"M182.5 61h0.0\"/><path d=\"M40.0 61a10 10 0 0 0 10 -10v-10a10 10 0 0 1 10 -10\"/><g>\n",
       "<path d=\"M60.0 31h0.0\"/><path d=\"M162.5 31h0.0\"/><g class=\"terminal\">\n",
       "<path d=\"M60.0 31h0.0\"/><path d=\"M88.5 31h0.0\"/><rect height=\"22\" rx=\"10\" ry=\"10\" width=\"28.5\" x=\"60.0\" y=\"20\"/><text x=\"74.25\" y=\"35\">+</text></g><path d=\"M88.5 31h10\"/><path d=\"M98.5 31h10\"/><g class=\"non-terminal\">\n",
       "<path d=\"M108.5 31h0.0\"/><path d=\"M162.5 31h0.0\"/><rect height=\"22\" width=\"54.0\" x=\"108.5\" y=\"20\"/><text x=\"135.5\" y=\"35\">expr</text></g></g><path d=\"M162.5 31a10 10 0 0 1 10 10v10a10 10 0 0 0 10 10\"/><path d=\"M40.0 61h20\"/><g>\n",
       "<path d=\"M60.0 61h0.0\"/><path d=\"M162.5 61h0.0\"/><g class=\"terminal\">\n",
       "<path d=\"M60.0 61h0.0\"/><path d=\"M88.5 61h0.0\"/><rect height=\"22\" rx=\"10\" ry=\"10\" width=\"28.5\" x=\"60.0\" y=\"50\"/><text x=\"74.25\" y=\"65\">-</text></g><path d=\"M88.5 61h10\"/><path d=\"M98.5 61h10\"/><g class=\"non-terminal\">\n",
       "<path d=\"M108.5 61h0.0\"/><path d=\"M162.5 61h0.0\"/><rect height=\"22\" width=\"54.0\" x=\"108.5\" y=\"50\"/><text x=\"135.5\" y=\"65\">expr</text></g></g><path d=\"M162.5 61h20\"/><path d=\"M40.0 61a10 10 0 0 1 10 10v10a10 10 0 0 0 10 10\"/><g>\n",
       "<path d=\"M60.0 91h41.25\"/><path d=\"M121.25 91h41.25\"/><g class=\"terminal\">\n",
       "<path d=\"M101.25 91h0.0\"/><path d=\"M121.25 91h0.0\"/><rect height=\"22\" rx=\"10\" ry=\"10\" width=\"20.0\" x=\"101.25\" y=\"80\"/><text x=\"111.25\" y=\"95\"/></g></g><path d=\"M162.5 91a10 10 0 0 0 10 -10v-10a10 10 0 0 1 10 -10\"/></g><path d=\"M 182.5 61 h 20 m -10 -10 v 20 m 10 -20 v 20\"/></g></svg>"
      ],
      "text/plain": [
       "<IPython.core.display.SVG object>"
      ]
     },
     "metadata": {},
     "output_type": "display_data"
    },
    {
     "name": "stdout",
     "output_type": "stream",
     "text": [
      "integer\n"
     ]
    },
    {
     "data": {
      "image/svg+xml": [
       "<svg class=\"railroad-diagram\" height=\"62\" viewBox=\"0 0 290.5 62\" width=\"290.5\" xmlns=\"http://www.w3.org/2000/svg\">\n",
       "<g transform=\"translate(.5 .5)\">\n",
       "<style>/* <![CDATA[ */\n",
       "    svg.railroad-diagram {\n",
       "        background-color:hsl(100,100%,100%);\n",
       "    }\n",
       "    svg.railroad-diagram path {\n",
       "        stroke-width:3;\n",
       "        stroke:black;\n",
       "        fill:rgba(0,0,0,0);\n",
       "    }\n",
       "    svg.railroad-diagram text {\n",
       "        font:bold 14px monospace;\n",
       "        text-anchor:middle;\n",
       "    }\n",
       "    svg.railroad-diagram text.label{\n",
       "        text-anchor:start;\n",
       "    }\n",
       "    svg.railroad-diagram text.comment{\n",
       "        font:italic 12px monospace;\n",
       "    }\n",
       "    svg.railroad-diagram rect{\n",
       "        stroke-width:3;\n",
       "        stroke:black;\n",
       "        fill:hsl(0,62%,82%);\n",
       "    }\n",
       "\n",
       "/* ]]> */\n",
       "</style><g>\n",
       "<path d=\"M20 21v20m10 -20v20m-10 -10h20\"/></g><g>\n",
       "<path d=\"M40 31h0.0\"/><path d=\"M250.5 31h0.0\"/><path d=\"M40.0 31h20\"/><g>\n",
       "<path d=\"M60.0 31h0.0\"/><path d=\"M230.5 31h0.0\"/><g class=\"non-terminal\">\n",
       "<path d=\"M60.0 31h0.0\"/><path d=\"M122.5 31h0.0\"/><rect height=\"22\" width=\"62.5\" x=\"60.0\" y=\"20\"/><text x=\"91.25\" y=\"35\">digit</text></g><path d=\"M122.5 31h10\"/><path d=\"M132.5 31h10\"/><g class=\"non-terminal\">\n",
       "<path d=\"M142.5 31h0.0\"/><path d=\"M230.5 31h0.0\"/><rect height=\"22\" width=\"88.0\" x=\"142.5\" y=\"20\"/><text x=\"186.5\" y=\"35\">integer_</text></g></g><path d=\"M230.5 31h20\"/></g><path d=\"M 250.5 31 h 20 m -10 -10 v 20 m 10 -20 v 20\"/></g></svg>"
      ],
      "text/plain": [
       "<IPython.core.display.SVG object>"
      ]
     },
     "metadata": {},
     "output_type": "display_data"
    },
    {
     "name": "stdout",
     "output_type": "stream",
     "text": [
      "integer_\n"
     ]
    },
    {
     "data": {
      "image/svg+xml": [
       "<svg class=\"railroad-diagram\" height=\"92\" viewBox=\"0 0 199.5 92\" width=\"199.5\" xmlns=\"http://www.w3.org/2000/svg\">\n",
       "<g transform=\"translate(.5 .5)\">\n",
       "<style>/* <![CDATA[ */\n",
       "    svg.railroad-diagram {\n",
       "        background-color:hsl(100,100%,100%);\n",
       "    }\n",
       "    svg.railroad-diagram path {\n",
       "        stroke-width:3;\n",
       "        stroke:black;\n",
       "        fill:rgba(0,0,0,0);\n",
       "    }\n",
       "    svg.railroad-diagram text {\n",
       "        font:bold 14px monospace;\n",
       "        text-anchor:middle;\n",
       "    }\n",
       "    svg.railroad-diagram text.label{\n",
       "        text-anchor:start;\n",
       "    }\n",
       "    svg.railroad-diagram text.comment{\n",
       "        font:italic 12px monospace;\n",
       "    }\n",
       "    svg.railroad-diagram rect{\n",
       "        stroke-width:3;\n",
       "        stroke:black;\n",
       "        fill:hsl(0,62%,82%);\n",
       "    }\n",
       "\n",
       "/* ]]> */\n",
       "</style><g>\n",
       "<path d=\"M20 51v20m10 -20v20m-10 -10h20\"/></g><g>\n",
       "<path d=\"M40 61h0.0\"/><path d=\"M159.5 61h0.0\"/><path d=\"M40.0 61a10 10 0 0 0 10 -10v-10a10 10 0 0 1 10 -10\"/><g>\n",
       "<path d=\"M60.0 31h0.0\"/><path d=\"M139.5 31h0.0\"/><g class=\"non-terminal\">\n",
       "<path d=\"M60.0 31h0.0\"/><path d=\"M139.5 31h0.0\"/><rect height=\"22\" width=\"79.5\" x=\"60.0\" y=\"20\"/><text x=\"99.75\" y=\"35\">integer</text></g></g><path d=\"M139.5 31a10 10 0 0 1 10 10v10a10 10 0 0 0 10 10\"/><path d=\"M40.0 61h20\"/><g>\n",
       "<path d=\"M60.0 61h29.75\"/><path d=\"M109.75 61h29.75\"/><g class=\"terminal\">\n",
       "<path d=\"M89.75 61h0.0\"/><path d=\"M109.75 61h0.0\"/><rect height=\"22\" rx=\"10\" ry=\"10\" width=\"20.0\" x=\"89.75\" y=\"50\"/><text x=\"99.75\" y=\"65\"/></g></g><path d=\"M139.5 61h20\"/></g><path d=\"M 159.5 61 h 20 m -10 -10 v 20 m 10 -20 v 20\"/></g></svg>"
      ],
      "text/plain": [
       "<IPython.core.display.SVG object>"
      ]
     },
     "metadata": {},
     "output_type": "display_data"
    },
    {
     "name": "stdout",
     "output_type": "stream",
     "text": [
      "digit\n"
     ]
    },
    {
     "data": {
      "image/svg+xml": [
       "<svg class=\"railroad-diagram\" height=\"109\" viewBox=\"0 0 522.5 109\" width=\"522.5\" xmlns=\"http://www.w3.org/2000/svg\">\n",
       "<g transform=\"translate(.5 .5)\">\n",
       "<style>/* <![CDATA[ */\n",
       "    svg.railroad-diagram {\n",
       "        background-color:hsl(100,100%,100%);\n",
       "    }\n",
       "    svg.railroad-diagram path {\n",
       "        stroke-width:3;\n",
       "        stroke:black;\n",
       "        fill:rgba(0,0,0,0);\n",
       "    }\n",
       "    svg.railroad-diagram text {\n",
       "        font:bold 14px monospace;\n",
       "        text-anchor:middle;\n",
       "    }\n",
       "    svg.railroad-diagram text.label{\n",
       "        text-anchor:start;\n",
       "    }\n",
       "    svg.railroad-diagram text.comment{\n",
       "        font:italic 12px monospace;\n",
       "    }\n",
       "    svg.railroad-diagram rect{\n",
       "        stroke-width:3;\n",
       "        stroke:black;\n",
       "        fill:hsl(0,62%,82%);\n",
       "    }\n",
       "\n",
       "/* ]]> */\n",
       "</style><g>\n",
       "<path d=\"M20 59v20m10 -20v20m-10 -10h20\"/></g><g>\n",
       "<path d=\"M40 69h0.0\"/><path d=\"M482.5 69h0.0\"/><path d=\"M40.0 69a10 10 0 0 0 10 -10v-29a10 10 0 0 1 10 -10h324.0\"/><path d=\"M138.5 89h324.0a10 10 0 0 0 10 -10v0a10 10 0 0 1 10 -10\"/><path d=\"M40.0 69h10\"/><g>\n",
       "<path d=\"M50.0 69h0.0\"/><path d=\"M118.5 69h0.0\"/><path d=\"M50.0 69a10 10 0 0 0 10 -10v-10a10 10 0 0 1 10 -10\"/><g>\n",
       "<path d=\"M70.0 39h0.0\"/><path d=\"M98.5 39h0.0\"/><g class=\"terminal\">\n",
       "<path d=\"M70.0 39h0.0\"/><path d=\"M98.5 39h0.0\"/><rect height=\"22\" rx=\"10\" ry=\"10\" width=\"28.5\" x=\"70.0\" y=\"28\"/><text x=\"84.25\" y=\"43\">0</text></g></g><path d=\"M98.5 39a10 10 0 0 1 10 10v10a10 10 0 0 0 10 10\"/><path d=\"M50.0 69h20\"/><g>\n",
       "<path d=\"M70.0 69h0.0\"/><path d=\"M98.5 69h0.0\"/><g class=\"terminal\">\n",
       "<path d=\"M70.0 69h0.0\"/><path d=\"M98.5 69h0.0\"/><rect height=\"22\" rx=\"10\" ry=\"10\" width=\"28.5\" x=\"70.0\" y=\"58\"/><text x=\"84.25\" y=\"73\">1</text></g></g><path d=\"M98.5 69h20\"/></g><path d=\"M118.5 69a10 10 0 0 1 10 10v0a10 10 0 0 0 10 10\"/><path d=\"M118.5 20a10 10 0 0 1 10 10v29a10 10 0 0 0 10 10\"/><g>\n",
       "<path d=\"M138.5 69h0.0\"/><path d=\"M207.0 69h0.0\"/><path d=\"M138.5 69a10 10 0 0 0 10 -10v-10a10 10 0 0 1 10 -10\"/><g>\n",
       "<path d=\"M158.5 39h0.0\"/><path d=\"M187.0 39h0.0\"/><g class=\"terminal\">\n",
       "<path d=\"M158.5 39h0.0\"/><path d=\"M187.0 39h0.0\"/><rect height=\"22\" rx=\"10\" ry=\"10\" width=\"28.5\" x=\"158.5\" y=\"28\"/><text x=\"172.75\" y=\"43\">2</text></g></g><path d=\"M187.0 39a10 10 0 0 1 10 10v10a10 10 0 0 0 10 10\"/><path d=\"M138.5 69h20\"/><g>\n",
       "<path d=\"M158.5 69h0.0\"/><path d=\"M187.0 69h0.0\"/><g class=\"terminal\">\n",
       "<path d=\"M158.5 69h0.0\"/><path d=\"M187.0 69h0.0\"/><rect height=\"22\" rx=\"10\" ry=\"10\" width=\"28.5\" x=\"158.5\" y=\"58\"/><text x=\"172.75\" y=\"73\">3</text></g></g><path d=\"M187.0 69h20\"/></g><path d=\"M207.0 69a10 10 0 0 1 10 10v0a10 10 0 0 0 10 10\"/><path d=\"M207.0 20a10 10 0 0 1 10 10v29a10 10 0 0 0 10 10\"/><g>\n",
       "<path d=\"M227.0 69h0.0\"/><path d=\"M295.5 69h0.0\"/><path d=\"M227.0 69a10 10 0 0 0 10 -10v-10a10 10 0 0 1 10 -10\"/><g>\n",
       "<path d=\"M247.0 39h0.0\"/><path d=\"M275.5 39h0.0\"/><g class=\"terminal\">\n",
       "<path d=\"M247.0 39h0.0\"/><path d=\"M275.5 39h0.0\"/><rect height=\"22\" rx=\"10\" ry=\"10\" width=\"28.5\" x=\"247.0\" y=\"28\"/><text x=\"261.25\" y=\"43\">4</text></g></g><path d=\"M275.5 39a10 10 0 0 1 10 10v10a10 10 0 0 0 10 10\"/><path d=\"M227.0 69h20\"/><g>\n",
       "<path d=\"M247.0 69h0.0\"/><path d=\"M275.5 69h0.0\"/><g class=\"terminal\">\n",
       "<path d=\"M247.0 69h0.0\"/><path d=\"M275.5 69h0.0\"/><rect height=\"22\" rx=\"10\" ry=\"10\" width=\"28.5\" x=\"247.0\" y=\"58\"/><text x=\"261.25\" y=\"73\">5</text></g></g><path d=\"M275.5 69h20\"/></g><path d=\"M295.5 69a10 10 0 0 1 10 10v0a10 10 0 0 0 10 10\"/><path d=\"M295.5 20a10 10 0 0 1 10 10v29a10 10 0 0 0 10 10\"/><g>\n",
       "<path d=\"M315.5 69h0.0\"/><path d=\"M384.0 69h0.0\"/><path d=\"M315.5 69a10 10 0 0 0 10 -10v-10a10 10 0 0 1 10 -10\"/><g>\n",
       "<path d=\"M335.5 39h0.0\"/><path d=\"M364.0 39h0.0\"/><g class=\"terminal\">\n",
       "<path d=\"M335.5 39h0.0\"/><path d=\"M364.0 39h0.0\"/><rect height=\"22\" rx=\"10\" ry=\"10\" width=\"28.5\" x=\"335.5\" y=\"28\"/><text x=\"349.75\" y=\"43\">6</text></g></g><path d=\"M364.0 39a10 10 0 0 1 10 10v10a10 10 0 0 0 10 10\"/><path d=\"M315.5 69h20\"/><g>\n",
       "<path d=\"M335.5 69h0.0\"/><path d=\"M364.0 69h0.0\"/><g class=\"terminal\">\n",
       "<path d=\"M335.5 69h0.0\"/><path d=\"M364.0 69h0.0\"/><rect height=\"22\" rx=\"10\" ry=\"10\" width=\"28.5\" x=\"335.5\" y=\"58\"/><text x=\"349.75\" y=\"73\">7</text></g></g><path d=\"M364.0 69h20\"/></g><path d=\"M384.0 69a10 10 0 0 1 10 10v0a10 10 0 0 0 10 10\"/><path d=\"M384.0 20a10 10 0 0 1 10 10v29a10 10 0 0 0 10 10\"/><g>\n",
       "<path d=\"M404.0 69h0.0\"/><path d=\"M472.5 69h0.0\"/><path d=\"M404.0 69a10 10 0 0 0 10 -10v-10a10 10 0 0 1 10 -10\"/><g>\n",
       "<path d=\"M424.0 39h0.0\"/><path d=\"M452.5 39h0.0\"/><g class=\"terminal\">\n",
       "<path d=\"M424.0 39h0.0\"/><path d=\"M452.5 39h0.0\"/><rect height=\"22\" rx=\"10\" ry=\"10\" width=\"28.5\" x=\"424.0\" y=\"28\"/><text x=\"438.25\" y=\"43\">8</text></g></g><path d=\"M452.5 39a10 10 0 0 1 10 10v10a10 10 0 0 0 10 10\"/><path d=\"M404.0 69h20\"/><g>\n",
       "<path d=\"M424.0 69h0.0\"/><path d=\"M452.5 69h0.0\"/><g class=\"terminal\">\n",
       "<path d=\"M424.0 69h0.0\"/><path d=\"M452.5 69h0.0\"/><rect height=\"22\" rx=\"10\" ry=\"10\" width=\"28.5\" x=\"424.0\" y=\"58\"/><text x=\"438.25\" y=\"73\">9</text></g></g><path d=\"M452.5 69h20\"/></g><path d=\"M472.5 69h10\"/></g><path d=\"M 482.5 69 h 20 m -10 -10 v 20 m 10 -20 v 20\"/></g></svg>"
      ],
      "text/plain": [
       "<IPython.core.display.SVG object>"
      ]
     },
     "metadata": {},
     "output_type": "display_data"
    }
   ],
   "source": [
    "syntax_diagram(A2_GRAMMAR)"
   ]
  },
  {
   "cell_type": "markdown",
   "metadata": {
    "slideshow": {
     "slide_type": "subslide"
    }
   },
   "source": [
    "The corresponding derivation tree is given by:"
   ]
  },
  {
   "cell_type": "code",
   "execution_count": 32,
   "metadata": {
    "slideshow": {
     "slide_type": "subslide"
    }
   },
   "outputs": [
    {
     "data": {
      "image/svg+xml": [
       "<?xml version=\"1.0\" encoding=\"UTF-8\" standalone=\"no\"?>\n",
       "<!DOCTYPE svg PUBLIC \"-//W3C//DTD SVG 1.1//EN\"\n",
       " \"http://www.w3.org/Graphics/SVG/1.1/DTD/svg11.dtd\">\n",
       "<!-- Generated by graphviz version 2.40.1 (20161225.0304)\n",
       " -->\n",
       "<!-- Title: %3 Pages: 1 -->\n",
       "<svg width=\"262pt\" height=\"329pt\"\n",
       " viewBox=\"0.00 0.00 262.00 329.00\" xmlns=\"http://www.w3.org/2000/svg\" xmlns:xlink=\"http://www.w3.org/1999/xlink\">\n",
       "<g id=\"graph0\" class=\"graph\" transform=\"scale(1 1) rotate(0) translate(4 325)\">\n",
       "<title>%3</title>\n",
       "<polygon fill=\"#ffffff\" stroke=\"transparent\" points=\"-4,4 -4,-325 258,-325 258,4 -4,4\"/>\n",
       "<!-- 0 -->\n",
       "<g id=\"node1\" class=\"node\">\n",
       "<title>0</title>\n",
       "<text text-anchor=\"middle\" x=\"121\" y=\"-309.8\" font-family=\"Times,serif\" font-size=\"14.00\" fill=\"#000000\">&lt;start&gt;</text>\n",
       "</g>\n",
       "<!-- 1 -->\n",
       "<g id=\"node2\" class=\"node\">\n",
       "<title>1</title>\n",
       "<text text-anchor=\"middle\" x=\"121\" y=\"-258.8\" font-family=\"Times,serif\" font-size=\"14.00\" fill=\"#000000\">&lt;expr&gt;</text>\n",
       "</g>\n",
       "<!-- 0&#45;&gt;1 -->\n",
       "<g id=\"edge1\" class=\"edge\">\n",
       "<title>0&#45;&gt;1</title>\n",
       "<path fill=\"none\" stroke=\"#000000\" d=\"M121,-305.9748C121,-299.195 121,-288.966 121,-280.1331\"/>\n",
       "<polygon fill=\"#000000\" stroke=\"#000000\" points=\"124.5001,-280.0561 121,-270.0561 117.5001,-280.0561 124.5001,-280.0561\"/>\n",
       "</g>\n",
       "<!-- 2 -->\n",
       "<g id=\"node3\" class=\"node\">\n",
       "<title>2</title>\n",
       "<text text-anchor=\"middle\" x=\"86\" y=\"-207.8\" font-family=\"Times,serif\" font-size=\"14.00\" fill=\"#000000\">&lt;integer&gt;</text>\n",
       "</g>\n",
       "<!-- 1&#45;&gt;2 -->\n",
       "<g id=\"edge2\" class=\"edge\">\n",
       "<title>1&#45;&gt;2</title>\n",
       "<path fill=\"none\" stroke=\"#000000\" d=\"M115.8356,-254.9748C110.8726,-247.743 103.2165,-236.5868 96.9026,-227.3866\"/>\n",
       "<polygon fill=\"#000000\" stroke=\"#000000\" points=\"99.7298,-225.3208 91.1856,-219.0561 93.9582,-229.2817 99.7298,-225.3208\"/>\n",
       "</g>\n",
       "<!-- 6 -->\n",
       "<g id=\"node7\" class=\"node\">\n",
       "<title>6</title>\n",
       "<text text-anchor=\"middle\" x=\"156\" y=\"-207.8\" font-family=\"Times,serif\" font-size=\"14.00\" fill=\"#000000\">&lt;expr_&gt;</text>\n",
       "</g>\n",
       "<!-- 1&#45;&gt;6 -->\n",
       "<g id=\"edge6\" class=\"edge\">\n",
       "<title>1&#45;&gt;6</title>\n",
       "<path fill=\"none\" stroke=\"#000000\" d=\"M126.1644,-254.9748C131.1274,-247.743 138.7835,-236.5868 145.0974,-227.3866\"/>\n",
       "<polygon fill=\"#000000\" stroke=\"#000000\" points=\"148.0418,-229.2817 150.8144,-219.0561 142.2702,-225.3208 148.0418,-229.2817\"/>\n",
       "</g>\n",
       "<!-- 3 -->\n",
       "<g id=\"node4\" class=\"node\">\n",
       "<title>3</title>\n",
       "<text text-anchor=\"middle\" x=\"21\" y=\"-156.8\" font-family=\"Times,serif\" font-size=\"14.00\" fill=\"#000000\">&lt;digit&gt;</text>\n",
       "</g>\n",
       "<!-- 2&#45;&gt;3 -->\n",
       "<g id=\"edge3\" class=\"edge\">\n",
       "<title>2&#45;&gt;3</title>\n",
       "<path fill=\"none\" stroke=\"#000000\" d=\"M76.409,-203.9748C66.52,-196.2157 50.8733,-183.939 38.7253,-174.4075\"/>\n",
       "<polygon fill=\"#000000\" stroke=\"#000000\" points=\"40.6582,-171.4754 30.6303,-168.0561 36.3372,-176.9826 40.6582,-171.4754\"/>\n",
       "</g>\n",
       "<!-- 5 -->\n",
       "<g id=\"node6\" class=\"node\">\n",
       "<title>5</title>\n",
       "<text text-anchor=\"middle\" x=\"91\" y=\"-156.8\" font-family=\"Times,serif\" font-size=\"14.00\" fill=\"#000000\">&lt;integer_&gt;</text>\n",
       "</g>\n",
       "<!-- 2&#45;&gt;5 -->\n",
       "<g id=\"edge5\" class=\"edge\">\n",
       "<title>2&#45;&gt;5</title>\n",
       "<path fill=\"none\" stroke=\"#000000\" d=\"M86.7378,-203.9748C87.4025,-197.195 88.4053,-186.966 89.2713,-178.1331\"/>\n",
       "<polygon fill=\"#000000\" stroke=\"#000000\" points=\"92.7667,-178.3499 90.2592,-168.0561 85.8001,-177.6669 92.7667,-178.3499\"/>\n",
       "</g>\n",
       "<!-- 4 -->\n",
       "<g id=\"node5\" class=\"node\">\n",
       "<title>4</title>\n",
       "<text text-anchor=\"middle\" x=\"21\" y=\"-105.8\" font-family=\"Times,serif\" font-size=\"14.00\" fill=\"#000000\">1</text>\n",
       "</g>\n",
       "<!-- 3&#45;&gt;4 -->\n",
       "<g id=\"edge4\" class=\"edge\">\n",
       "<title>3&#45;&gt;4</title>\n",
       "<path fill=\"none\" stroke=\"#000000\" d=\"M21,-152.9748C21,-146.195 21,-135.966 21,-127.1331\"/>\n",
       "<polygon fill=\"#000000\" stroke=\"#000000\" points=\"24.5001,-127.0561 21,-117.0561 17.5001,-127.0561 24.5001,-127.0561\"/>\n",
       "</g>\n",
       "<!-- 7 -->\n",
       "<g id=\"node8\" class=\"node\">\n",
       "<title>7</title>\n",
       "<text text-anchor=\"middle\" x=\"152\" y=\"-156.8\" font-family=\"Times,serif\" font-size=\"14.00\" fill=\"#000000\">+</text>\n",
       "</g>\n",
       "<!-- 6&#45;&gt;7 -->\n",
       "<g id=\"edge7\" class=\"edge\">\n",
       "<title>6&#45;&gt;7</title>\n",
       "<path fill=\"none\" stroke=\"#000000\" d=\"M155.4098,-203.9748C154.878,-197.195 154.0758,-186.966 153.383,-178.1331\"/>\n",
       "<polygon fill=\"#000000\" stroke=\"#000000\" points=\"156.8639,-177.7518 152.5926,-168.0561 149.8854,-178.2992 156.8639,-177.7518\"/>\n",
       "</g>\n",
       "<!-- 8 -->\n",
       "<g id=\"node9\" class=\"node\">\n",
       "<title>8</title>\n",
       "<text text-anchor=\"middle\" x=\"195\" y=\"-156.8\" font-family=\"Times,serif\" font-size=\"14.00\" fill=\"#000000\">&lt;expr&gt;</text>\n",
       "</g>\n",
       "<!-- 6&#45;&gt;8 -->\n",
       "<g id=\"edge8\" class=\"edge\">\n",
       "<title>6&#45;&gt;8</title>\n",
       "<path fill=\"none\" stroke=\"#000000\" d=\"M161.7546,-203.9748C167.3424,-196.6677 175.994,-185.354 183.0708,-176.0997\"/>\n",
       "<polygon fill=\"#000000\" stroke=\"#000000\" points=\"185.9275,-178.1258 189.2218,-168.0561 180.367,-173.8736 185.9275,-178.1258\"/>\n",
       "</g>\n",
       "<!-- 9 -->\n",
       "<g id=\"node10\" class=\"node\">\n",
       "<title>9</title>\n",
       "<text text-anchor=\"middle\" x=\"160\" y=\"-105.8\" font-family=\"Times,serif\" font-size=\"14.00\" fill=\"#000000\">&lt;integer&gt;</text>\n",
       "</g>\n",
       "<!-- 8&#45;&gt;9 -->\n",
       "<g id=\"edge9\" class=\"edge\">\n",
       "<title>8&#45;&gt;9</title>\n",
       "<path fill=\"none\" stroke=\"#000000\" d=\"M189.8356,-152.9748C184.8726,-145.743 177.2165,-134.5868 170.9026,-125.3866\"/>\n",
       "<polygon fill=\"#000000\" stroke=\"#000000\" points=\"173.7298,-123.3208 165.1856,-117.0561 167.9582,-127.2817 173.7298,-123.3208\"/>\n",
       "</g>\n",
       "<!-- 13 -->\n",
       "<g id=\"node14\" class=\"node\">\n",
       "<title>13</title>\n",
       "<text text-anchor=\"middle\" x=\"230\" y=\"-105.8\" font-family=\"Times,serif\" font-size=\"14.00\" fill=\"#000000\">&lt;expr_&gt;</text>\n",
       "</g>\n",
       "<!-- 8&#45;&gt;13 -->\n",
       "<g id=\"edge13\" class=\"edge\">\n",
       "<title>8&#45;&gt;13</title>\n",
       "<path fill=\"none\" stroke=\"#000000\" d=\"M200.1644,-152.9748C205.1274,-145.743 212.7835,-134.5868 219.0974,-125.3866\"/>\n",
       "<polygon fill=\"#000000\" stroke=\"#000000\" points=\"222.0418,-127.2817 224.8144,-117.0561 216.2702,-123.3208 222.0418,-127.2817\"/>\n",
       "</g>\n",
       "<!-- 10 -->\n",
       "<g id=\"node11\" class=\"node\">\n",
       "<title>10</title>\n",
       "<text text-anchor=\"middle\" x=\"125\" y=\"-54.8\" font-family=\"Times,serif\" font-size=\"14.00\" fill=\"#000000\">&lt;digit&gt;</text>\n",
       "</g>\n",
       "<!-- 9&#45;&gt;10 -->\n",
       "<g id=\"edge10\" class=\"edge\">\n",
       "<title>9&#45;&gt;10</title>\n",
       "<path fill=\"none\" stroke=\"#000000\" d=\"M154.8356,-101.9748C149.8726,-94.743 142.2165,-83.5868 135.9026,-74.3866\"/>\n",
       "<polygon fill=\"#000000\" stroke=\"#000000\" points=\"138.7298,-72.3208 130.1856,-66.0561 132.9582,-76.2817 138.7298,-72.3208\"/>\n",
       "</g>\n",
       "<!-- 12 -->\n",
       "<g id=\"node13\" class=\"node\">\n",
       "<title>12</title>\n",
       "<text text-anchor=\"middle\" x=\"195\" y=\"-54.8\" font-family=\"Times,serif\" font-size=\"14.00\" fill=\"#000000\">&lt;integer_&gt;</text>\n",
       "</g>\n",
       "<!-- 9&#45;&gt;12 -->\n",
       "<g id=\"edge12\" class=\"edge\">\n",
       "<title>9&#45;&gt;12</title>\n",
       "<path fill=\"none\" stroke=\"#000000\" d=\"M165.1644,-101.9748C170.1274,-94.743 177.7835,-83.5868 184.0974,-74.3866\"/>\n",
       "<polygon fill=\"#000000\" stroke=\"#000000\" points=\"187.0418,-76.2817 189.8144,-66.0561 181.2702,-72.3208 187.0418,-76.2817\"/>\n",
       "</g>\n",
       "<!-- 11 -->\n",
       "<g id=\"node12\" class=\"node\">\n",
       "<title>11</title>\n",
       "<text text-anchor=\"middle\" x=\"125\" y=\"-3.8\" font-family=\"Times,serif\" font-size=\"14.00\" fill=\"#000000\">2</text>\n",
       "</g>\n",
       "<!-- 10&#45;&gt;11 -->\n",
       "<g id=\"edge11\" class=\"edge\">\n",
       "<title>10&#45;&gt;11</title>\n",
       "<path fill=\"none\" stroke=\"#000000\" d=\"M125,-50.9748C125,-44.195 125,-33.966 125,-25.1331\"/>\n",
       "<polygon fill=\"#000000\" stroke=\"#000000\" points=\"128.5001,-25.0561 125,-15.0561 121.5001,-25.0561 128.5001,-25.0561\"/>\n",
       "</g>\n",
       "</g>\n",
       "</svg>\n"
      ],
      "text/plain": [
       "<graphviz.dot.Digraph at 0x113ea5be0>"
      ]
     },
     "metadata": {},
     "output_type": "display_data"
    }
   ],
   "source": [
    "tree = ('<start>', [('<expr>', [('<integer>', [('<digit>', [('1', [])]),\n",
    "                                               ('<integer_>', [])]),\n",
    "                                ('<expr_>', [('+', []),\n",
    "                                             ('<expr>',\n",
    "                                              [('<integer>',\n",
    "                                                [('<digit>', [('2', [])]),\n",
    "                                                 ('<integer_>', [])]),\n",
    "                                               ('<expr_>', [])])])])])\n",
    "assert mystring == tree_to_string(tree)\n",
    "display_tree(tree)"
   ]
  },
  {
   "cell_type": "markdown",
   "metadata": {
    "slideshow": {
     "slide_type": "notes"
    }
   },
   "source": [
    "Indeed, there could be different classes of grammars that\n",
    "describe the same language. For example, the first grammar `A1_GRAMMAR`\n",
    "is a grammar that sports both _right_ and _left_ recursion, while the\n",
    "second grammar `A2_GRAMMAR` does not have left recursion in the\n",
    "nonterminals in any of its productions, but contains _epsilon_ productions.\n",
    "(An epsilon production is a production that has empty string in its right\n",
    "hand side.)\n",
    "\n",
    "You would have noticed that we reuse the term `<expr>` in its own definition. Using the same nonterminal in its own definition is called *recursion*. There are two specific kinds of recursion one should be aware of in parsing, as we see in the next section."
   ]
  },
  {
   "cell_type": "markdown",
   "metadata": {
    "slideshow": {
     "slide_type": "notes"
    }
   },
   "source": [
    "#### Recursion\n",
    "\n",
    "A grammar is _left recursive_ if any of its nonterminals are left recursive,\n",
    "and a nonterminal is directly left-recursive if the left-most symbol of\n",
    "any of its productions is itself."
   ]
  },
  {
   "cell_type": "code",
   "execution_count": 33,
   "metadata": {
    "slideshow": {
     "slide_type": "fragment"
    }
   },
   "outputs": [],
   "source": [
    "LR_GRAMMAR = {\n",
    "    '<start>': ['<A>'],\n",
    "    '<A>': ['<A>a', ''],\n",
    "}"
   ]
  },
  {
   "cell_type": "code",
   "execution_count": 34,
   "metadata": {
    "slideshow": {
     "slide_type": "subslide"
    }
   },
   "outputs": [
    {
     "name": "stdout",
     "output_type": "stream",
     "text": [
      "start\n"
     ]
    },
    {
     "data": {
      "image/svg+xml": [
       "<svg class=\"railroad-diagram\" height=\"62\" viewBox=\"0 0 148.5 62\" width=\"148.5\" xmlns=\"http://www.w3.org/2000/svg\">\n",
       "<g transform=\"translate(.5 .5)\">\n",
       "<style>/* <![CDATA[ */\n",
       "    svg.railroad-diagram {\n",
       "        background-color:hsl(100,100%,100%);\n",
       "    }\n",
       "    svg.railroad-diagram path {\n",
       "        stroke-width:3;\n",
       "        stroke:black;\n",
       "        fill:rgba(0,0,0,0);\n",
       "    }\n",
       "    svg.railroad-diagram text {\n",
       "        font:bold 14px monospace;\n",
       "        text-anchor:middle;\n",
       "    }\n",
       "    svg.railroad-diagram text.label{\n",
       "        text-anchor:start;\n",
       "    }\n",
       "    svg.railroad-diagram text.comment{\n",
       "        font:italic 12px monospace;\n",
       "    }\n",
       "    svg.railroad-diagram rect{\n",
       "        stroke-width:3;\n",
       "        stroke:black;\n",
       "        fill:hsl(0,62%,82%);\n",
       "    }\n",
       "\n",
       "/* ]]> */\n",
       "</style><g>\n",
       "<path d=\"M20 21v20m10 -20v20m-10 -10h20\"/></g><g>\n",
       "<path d=\"M40 31h0.0\"/><path d=\"M108.5 31h0.0\"/><path d=\"M40.0 31h20\"/><g>\n",
       "<path d=\"M60.0 31h0.0\"/><path d=\"M88.5 31h0.0\"/><g class=\"non-terminal\">\n",
       "<path d=\"M60.0 31h0.0\"/><path d=\"M88.5 31h0.0\"/><rect height=\"22\" width=\"28.5\" x=\"60.0\" y=\"20\"/><text x=\"74.25\" y=\"35\">A</text></g></g><path d=\"M88.5 31h20\"/></g><path d=\"M 108.5 31 h 20 m -10 -10 v 20 m 10 -20 v 20\"/></g></svg>"
      ],
      "text/plain": [
       "<IPython.core.display.SVG object>"
      ]
     },
     "metadata": {},
     "output_type": "display_data"
    },
    {
     "name": "stdout",
     "output_type": "stream",
     "text": [
      "A\n"
     ]
    },
    {
     "data": {
      "image/svg+xml": [
       "<svg class=\"railroad-diagram\" height=\"92\" viewBox=\"0 0 197.0 92\" width=\"197.0\" xmlns=\"http://www.w3.org/2000/svg\">\n",
       "<g transform=\"translate(.5 .5)\">\n",
       "<style>/* <![CDATA[ */\n",
       "    svg.railroad-diagram {\n",
       "        background-color:hsl(100,100%,100%);\n",
       "    }\n",
       "    svg.railroad-diagram path {\n",
       "        stroke-width:3;\n",
       "        stroke:black;\n",
       "        fill:rgba(0,0,0,0);\n",
       "    }\n",
       "    svg.railroad-diagram text {\n",
       "        font:bold 14px monospace;\n",
       "        text-anchor:middle;\n",
       "    }\n",
       "    svg.railroad-diagram text.label{\n",
       "        text-anchor:start;\n",
       "    }\n",
       "    svg.railroad-diagram text.comment{\n",
       "        font:italic 12px monospace;\n",
       "    }\n",
       "    svg.railroad-diagram rect{\n",
       "        stroke-width:3;\n",
       "        stroke:black;\n",
       "        fill:hsl(0,62%,82%);\n",
       "    }\n",
       "\n",
       "/* ]]> */\n",
       "</style><g>\n",
       "<path d=\"M20 51v20m10 -20v20m-10 -10h20\"/></g><g>\n",
       "<path d=\"M40 61h0.0\"/><path d=\"M157.0 61h0.0\"/><path d=\"M40.0 61a10 10 0 0 0 10 -10v-10a10 10 0 0 1 10 -10\"/><g>\n",
       "<path d=\"M60.0 31h0.0\"/><path d=\"M137.0 31h0.0\"/><g class=\"non-terminal\">\n",
       "<path d=\"M60.0 31h0.0\"/><path d=\"M88.5 31h0.0\"/><rect height=\"22\" width=\"28.5\" x=\"60.0\" y=\"20\"/><text x=\"74.25\" y=\"35\">A</text></g><path d=\"M88.5 31h10\"/><path d=\"M98.5 31h10\"/><g class=\"terminal\">\n",
       "<path d=\"M108.5 31h0.0\"/><path d=\"M137.0 31h0.0\"/><rect height=\"22\" rx=\"10\" ry=\"10\" width=\"28.5\" x=\"108.5\" y=\"20\"/><text x=\"122.75\" y=\"35\">a</text></g></g><path d=\"M137.0 31a10 10 0 0 1 10 10v10a10 10 0 0 0 10 10\"/><path d=\"M40.0 61h20\"/><g>\n",
       "<path d=\"M60.0 61h28.5\"/><path d=\"M108.5 61h28.5\"/><g class=\"terminal\">\n",
       "<path d=\"M88.5 61h0.0\"/><path d=\"M108.5 61h0.0\"/><rect height=\"22\" rx=\"10\" ry=\"10\" width=\"20.0\" x=\"88.5\" y=\"50\"/><text x=\"98.5\" y=\"65\"/></g></g><path d=\"M137.0 61h20\"/></g><path d=\"M 157.0 61 h 20 m -10 -10 v 20 m 10 -20 v 20\"/></g></svg>"
      ],
      "text/plain": [
       "<IPython.core.display.SVG object>"
      ]
     },
     "metadata": {},
     "output_type": "display_data"
    }
   ],
   "source": [
    "syntax_diagram(LR_GRAMMAR)"
   ]
  },
  {
   "cell_type": "code",
   "execution_count": 35,
   "metadata": {
    "slideshow": {
     "slide_type": "fragment"
    }
   },
   "outputs": [
    {
     "data": {
      "image/svg+xml": [
       "<?xml version=\"1.0\" encoding=\"UTF-8\" standalone=\"no\"?>\n",
       "<!DOCTYPE svg PUBLIC \"-//W3C//DTD SVG 1.1//EN\"\n",
       " \"http://www.w3.org/Graphics/SVG/1.1/DTD/svg11.dtd\">\n",
       "<!-- Generated by graphviz version 2.40.1 (20161225.0304)\n",
       " -->\n",
       "<!-- Title: %3 Pages: 1 -->\n",
       "<svg width=\"94pt\" height=\"176pt\"\n",
       " viewBox=\"0.00 0.00 93.50 176.00\" xmlns=\"http://www.w3.org/2000/svg\" xmlns:xlink=\"http://www.w3.org/1999/xlink\">\n",
       "<g id=\"graph0\" class=\"graph\" transform=\"scale(1 1) rotate(0) translate(4 172)\">\n",
       "<title>%3</title>\n",
       "<polygon fill=\"#ffffff\" stroke=\"transparent\" points=\"-4,4 -4,-172 89.5,-172 89.5,4 -4,4\"/>\n",
       "<!-- 0 -->\n",
       "<g id=\"node1\" class=\"node\">\n",
       "<title>0</title>\n",
       "<text text-anchor=\"middle\" x=\"64\" y=\"-156.8\" font-family=\"Times,serif\" font-size=\"14.00\" fill=\"#000000\">&lt;start&gt;</text>\n",
       "</g>\n",
       "<!-- 1 -->\n",
       "<g id=\"node2\" class=\"node\">\n",
       "<title>1</title>\n",
       "<text text-anchor=\"middle\" x=\"47\" y=\"-105.8\" font-family=\"Times,serif\" font-size=\"14.00\" fill=\"#000000\">&lt;A&gt;</text>\n",
       "</g>\n",
       "<!-- 0&#45;&gt;1 -->\n",
       "<g id=\"edge1\" class=\"edge\">\n",
       "<title>0&#45;&gt;1</title>\n",
       "<path fill=\"none\" stroke=\"#000000\" d=\"M61.4916,-152.9748C59.1814,-146.0443 55.6699,-135.5097 52.6821,-126.5464\"/>\n",
       "<polygon fill=\"#000000\" stroke=\"#000000\" points=\"56.0014,-125.4361 49.5187,-117.0561 49.3607,-127.6498 56.0014,-125.4361\"/>\n",
       "</g>\n",
       "<!-- 6 -->\n",
       "<g id=\"node7\" class=\"node\">\n",
       "<title>6</title>\n",
       "<text text-anchor=\"middle\" x=\"82\" y=\"-105.8\" font-family=\"Times,serif\" font-size=\"14.00\" fill=\"#000000\">a</text>\n",
       "</g>\n",
       "<!-- 0&#45;&gt;6 -->\n",
       "<g id=\"edge6\" class=\"edge\">\n",
       "<title>0&#45;&gt;6</title>\n",
       "<path fill=\"none\" stroke=\"#000000\" d=\"M66.656,-152.9748C69.102,-146.0443 72.8201,-135.5097 75.9836,-126.5464\"/>\n",
       "<polygon fill=\"#000000\" stroke=\"#000000\" points=\"79.3053,-127.6509 79.3331,-117.0561 72.7044,-125.3211 79.3053,-127.6509\"/>\n",
       "</g>\n",
       "<!-- 2 -->\n",
       "<g id=\"node3\" class=\"node\">\n",
       "<title>2</title>\n",
       "<text text-anchor=\"middle\" x=\"30\" y=\"-54.8\" font-family=\"Times,serif\" font-size=\"14.00\" fill=\"#000000\">&lt;A&gt;</text>\n",
       "</g>\n",
       "<!-- 1&#45;&gt;2 -->\n",
       "<g id=\"edge2\" class=\"edge\">\n",
       "<title>1&#45;&gt;2</title>\n",
       "<path fill=\"none\" stroke=\"#000000\" d=\"M44.4916,-101.9748C42.1814,-95.0443 38.6699,-84.5097 35.6821,-75.5464\"/>\n",
       "<polygon fill=\"#000000\" stroke=\"#000000\" points=\"39.0014,-74.4361 32.5187,-66.0561 32.3607,-76.6498 39.0014,-74.4361\"/>\n",
       "</g>\n",
       "<!-- 5 -->\n",
       "<g id=\"node6\" class=\"node\">\n",
       "<title>5</title>\n",
       "<text text-anchor=\"middle\" x=\"65\" y=\"-54.8\" font-family=\"Times,serif\" font-size=\"14.00\" fill=\"#000000\">a</text>\n",
       "</g>\n",
       "<!-- 1&#45;&gt;5 -->\n",
       "<g id=\"edge5\" class=\"edge\">\n",
       "<title>1&#45;&gt;5</title>\n",
       "<path fill=\"none\" stroke=\"#000000\" d=\"M49.656,-101.9748C52.102,-95.0443 55.8201,-84.5097 58.9836,-75.5464\"/>\n",
       "<polygon fill=\"#000000\" stroke=\"#000000\" points=\"62.3053,-76.6509 62.3331,-66.0561 55.7044,-74.3211 62.3053,-76.6509\"/>\n",
       "</g>\n",
       "<!-- 3 -->\n",
       "<g id=\"node4\" class=\"node\">\n",
       "<title>3</title>\n",
       "<text text-anchor=\"middle\" x=\"13\" y=\"-3.8\" font-family=\"Times,serif\" font-size=\"14.00\" fill=\"#000000\">&lt;A&gt;</text>\n",
       "</g>\n",
       "<!-- 2&#45;&gt;3 -->\n",
       "<g id=\"edge3\" class=\"edge\">\n",
       "<title>2&#45;&gt;3</title>\n",
       "<path fill=\"none\" stroke=\"#000000\" d=\"M27.4916,-50.9748C25.1814,-44.0443 21.6699,-33.5097 18.6821,-24.5464\"/>\n",
       "<polygon fill=\"#000000\" stroke=\"#000000\" points=\"22.0014,-23.4361 15.5187,-15.0561 15.3607,-25.6498 22.0014,-23.4361\"/>\n",
       "</g>\n",
       "<!-- 4 -->\n",
       "<g id=\"node5\" class=\"node\">\n",
       "<title>4</title>\n",
       "<text text-anchor=\"middle\" x=\"48\" y=\"-3.8\" font-family=\"Times,serif\" font-size=\"14.00\" fill=\"#000000\">a</text>\n",
       "</g>\n",
       "<!-- 2&#45;&gt;4 -->\n",
       "<g id=\"edge4\" class=\"edge\">\n",
       "<title>2&#45;&gt;4</title>\n",
       "<path fill=\"none\" stroke=\"#000000\" d=\"M32.656,-50.9748C35.102,-44.0443 38.8201,-33.5097 41.9836,-24.5464\"/>\n",
       "<polygon fill=\"#000000\" stroke=\"#000000\" points=\"45.3053,-25.6509 45.3331,-15.0561 38.7044,-23.3211 45.3053,-25.6509\"/>\n",
       "</g>\n",
       "</g>\n",
       "</svg>\n"
      ],
      "text/plain": [
       "<graphviz.dot.Digraph at 0x113f12278>"
      ]
     },
     "metadata": {},
     "output_type": "display_data"
    }
   ],
   "source": [
    "mystring = 'aaaaaa'\n",
    "display_tree(('<start>', (('<A>', (('<A>', (('<A>', []), ('a', []))), ('a', []))), ('a', []))))"
   ]
  },
  {
   "cell_type": "markdown",
   "metadata": {
    "slideshow": {
     "slide_type": "subslide"
    }
   },
   "source": [
    "A grammar is indirectly left-recursive if any\n",
    "of the left-most symbols can be expanded using their definitions to\n",
    "produce the nonterminal as the left-most symbol of the expansion. The left\n",
    "recursion is called a _hidden-left-recursion_ if during the series of\n",
    "expansions of  a nonterminal, one reaches a rule where the rule contains\n",
    "the same nonterminal after a prefix of other symbols, and these symbols can\n",
    "derive the empty string. For example, in `A1_GRAMMAR`, `<integer>` will be\n",
    "considered hidden-left recursive if `<digit>` could derive an empty string.\n",
    "\n",
    "Right recursive grammars are defined similarly.\n",
    "Below is the derivation tree for the right recursive grammar that represents the same\n",
    "language as that of `LR_GRAMMAR`."
   ]
  },
  {
   "cell_type": "code",
   "execution_count": 36,
   "metadata": {
    "slideshow": {
     "slide_type": "subslide"
    }
   },
   "outputs": [],
   "source": [
    "RR_GRAMMAR = {\n",
    "    '<start>': ['<A>'],\n",
    "    '<A>': ['a<A>', ''],\n",
    "}"
   ]
  },
  {
   "cell_type": "code",
   "execution_count": 37,
   "metadata": {
    "slideshow": {
     "slide_type": "fragment"
    }
   },
   "outputs": [
    {
     "name": "stdout",
     "output_type": "stream",
     "text": [
      "start\n"
     ]
    },
    {
     "data": {
      "image/svg+xml": [
       "<svg class=\"railroad-diagram\" height=\"62\" viewBox=\"0 0 148.5 62\" width=\"148.5\" xmlns=\"http://www.w3.org/2000/svg\">\n",
       "<g transform=\"translate(.5 .5)\">\n",
       "<style>/* <![CDATA[ */\n",
       "    svg.railroad-diagram {\n",
       "        background-color:hsl(100,100%,100%);\n",
       "    }\n",
       "    svg.railroad-diagram path {\n",
       "        stroke-width:3;\n",
       "        stroke:black;\n",
       "        fill:rgba(0,0,0,0);\n",
       "    }\n",
       "    svg.railroad-diagram text {\n",
       "        font:bold 14px monospace;\n",
       "        text-anchor:middle;\n",
       "    }\n",
       "    svg.railroad-diagram text.label{\n",
       "        text-anchor:start;\n",
       "    }\n",
       "    svg.railroad-diagram text.comment{\n",
       "        font:italic 12px monospace;\n",
       "    }\n",
       "    svg.railroad-diagram rect{\n",
       "        stroke-width:3;\n",
       "        stroke:black;\n",
       "        fill:hsl(0,62%,82%);\n",
       "    }\n",
       "\n",
       "/* ]]> */\n",
       "</style><g>\n",
       "<path d=\"M20 21v20m10 -20v20m-10 -10h20\"/></g><g>\n",
       "<path d=\"M40 31h0.0\"/><path d=\"M108.5 31h0.0\"/><path d=\"M40.0 31h20\"/><g>\n",
       "<path d=\"M60.0 31h0.0\"/><path d=\"M88.5 31h0.0\"/><g class=\"non-terminal\">\n",
       "<path d=\"M60.0 31h0.0\"/><path d=\"M88.5 31h0.0\"/><rect height=\"22\" width=\"28.5\" x=\"60.0\" y=\"20\"/><text x=\"74.25\" y=\"35\">A</text></g></g><path d=\"M88.5 31h20\"/></g><path d=\"M 108.5 31 h 20 m -10 -10 v 20 m 10 -20 v 20\"/></g></svg>"
      ],
      "text/plain": [
       "<IPython.core.display.SVG object>"
      ]
     },
     "metadata": {},
     "output_type": "display_data"
    },
    {
     "name": "stdout",
     "output_type": "stream",
     "text": [
      "A\n"
     ]
    },
    {
     "data": {
      "image/svg+xml": [
       "<svg class=\"railroad-diagram\" height=\"92\" viewBox=\"0 0 197.0 92\" width=\"197.0\" xmlns=\"http://www.w3.org/2000/svg\">\n",
       "<g transform=\"translate(.5 .5)\">\n",
       "<style>/* <![CDATA[ */\n",
       "    svg.railroad-diagram {\n",
       "        background-color:hsl(100,100%,100%);\n",
       "    }\n",
       "    svg.railroad-diagram path {\n",
       "        stroke-width:3;\n",
       "        stroke:black;\n",
       "        fill:rgba(0,0,0,0);\n",
       "    }\n",
       "    svg.railroad-diagram text {\n",
       "        font:bold 14px monospace;\n",
       "        text-anchor:middle;\n",
       "    }\n",
       "    svg.railroad-diagram text.label{\n",
       "        text-anchor:start;\n",
       "    }\n",
       "    svg.railroad-diagram text.comment{\n",
       "        font:italic 12px monospace;\n",
       "    }\n",
       "    svg.railroad-diagram rect{\n",
       "        stroke-width:3;\n",
       "        stroke:black;\n",
       "        fill:hsl(0,62%,82%);\n",
       "    }\n",
       "\n",
       "/* ]]> */\n",
       "</style><g>\n",
       "<path d=\"M20 51v20m10 -20v20m-10 -10h20\"/></g><g>\n",
       "<path d=\"M40 61h0.0\"/><path d=\"M157.0 61h0.0\"/><path d=\"M40.0 61a10 10 0 0 0 10 -10v-10a10 10 0 0 1 10 -10\"/><g>\n",
       "<path d=\"M60.0 31h0.0\"/><path d=\"M137.0 31h0.0\"/><g class=\"terminal\">\n",
       "<path d=\"M60.0 31h0.0\"/><path d=\"M88.5 31h0.0\"/><rect height=\"22\" rx=\"10\" ry=\"10\" width=\"28.5\" x=\"60.0\" y=\"20\"/><text x=\"74.25\" y=\"35\">a</text></g><path d=\"M88.5 31h10\"/><path d=\"M98.5 31h10\"/><g class=\"non-terminal\">\n",
       "<path d=\"M108.5 31h0.0\"/><path d=\"M137.0 31h0.0\"/><rect height=\"22\" width=\"28.5\" x=\"108.5\" y=\"20\"/><text x=\"122.75\" y=\"35\">A</text></g></g><path d=\"M137.0 31a10 10 0 0 1 10 10v10a10 10 0 0 0 10 10\"/><path d=\"M40.0 61h20\"/><g>\n",
       "<path d=\"M60.0 61h28.5\"/><path d=\"M108.5 61h28.5\"/><g class=\"terminal\">\n",
       "<path d=\"M88.5 61h0.0\"/><path d=\"M108.5 61h0.0\"/><rect height=\"22\" rx=\"10\" ry=\"10\" width=\"20.0\" x=\"88.5\" y=\"50\"/><text x=\"98.5\" y=\"65\"/></g></g><path d=\"M137.0 61h20\"/></g><path d=\"M 157.0 61 h 20 m -10 -10 v 20 m 10 -20 v 20\"/></g></svg>"
      ],
      "text/plain": [
       "<IPython.core.display.SVG object>"
      ]
     },
     "metadata": {},
     "output_type": "display_data"
    }
   ],
   "source": [
    "syntax_diagram(RR_GRAMMAR)"
   ]
  },
  {
   "cell_type": "code",
   "execution_count": 38,
   "metadata": {
    "slideshow": {
     "slide_type": "fragment"
    }
   },
   "outputs": [
    {
     "data": {
      "image/svg+xml": [
       "<?xml version=\"1.0\" encoding=\"UTF-8\" standalone=\"no\"?>\n",
       "<!DOCTYPE svg PUBLIC \"-//W3C//DTD SVG 1.1//EN\"\n",
       " \"http://www.w3.org/Graphics/SVG/1.1/DTD/svg11.dtd\">\n",
       "<!-- Generated by graphviz version 2.40.1 (20161225.0304)\n",
       " -->\n",
       "<!-- Title: %3 Pages: 1 -->\n",
       "<svg width=\"94pt\" height=\"227pt\"\n",
       " viewBox=\"0.00 0.00 93.50 227.00\" xmlns=\"http://www.w3.org/2000/svg\" xmlns:xlink=\"http://www.w3.org/1999/xlink\">\n",
       "<g id=\"graph0\" class=\"graph\" transform=\"scale(1 1) rotate(0) translate(4 223)\">\n",
       "<title>%3</title>\n",
       "<polygon fill=\"#ffffff\" stroke=\"transparent\" points=\"-4,4 -4,-223 89.5,-223 89.5,4 -4,4\"/>\n",
       "<!-- 0 -->\n",
       "<g id=\"node1\" class=\"node\">\n",
       "<title>0</title>\n",
       "<text text-anchor=\"middle\" x=\"20.5\" y=\"-207.8\" font-family=\"Times,serif\" font-size=\"14.00\" fill=\"#000000\">&lt;start&gt;</text>\n",
       "</g>\n",
       "<!-- 1 -->\n",
       "<g id=\"node2\" class=\"node\">\n",
       "<title>1</title>\n",
       "<text text-anchor=\"middle\" x=\"20.5\" y=\"-156.8\" font-family=\"Times,serif\" font-size=\"14.00\" fill=\"#000000\">&lt;A&gt;</text>\n",
       "</g>\n",
       "<!-- 0&#45;&gt;1 -->\n",
       "<g id=\"edge1\" class=\"edge\">\n",
       "<title>0&#45;&gt;1</title>\n",
       "<path fill=\"none\" stroke=\"#000000\" d=\"M20.5,-203.9748C20.5,-197.195 20.5,-186.966 20.5,-178.1331\"/>\n",
       "<polygon fill=\"#000000\" stroke=\"#000000\" points=\"24.0001,-178.0561 20.5,-168.0561 17.0001,-178.0561 24.0001,-178.0561\"/>\n",
       "</g>\n",
       "<!-- 2 -->\n",
       "<g id=\"node3\" class=\"node\">\n",
       "<title>2</title>\n",
       "<text text-anchor=\"middle\" x=\"3.5\" y=\"-105.8\" font-family=\"Times,serif\" font-size=\"14.00\" fill=\"#000000\">a</text>\n",
       "</g>\n",
       "<!-- 1&#45;&gt;2 -->\n",
       "<g id=\"edge2\" class=\"edge\">\n",
       "<title>1&#45;&gt;2</title>\n",
       "<path fill=\"none\" stroke=\"#000000\" d=\"M17.9916,-152.9748C15.6814,-146.0443 12.1699,-135.5097 9.1821,-126.5464\"/>\n",
       "<polygon fill=\"#000000\" stroke=\"#000000\" points=\"12.5014,-125.4361 6.0187,-117.0561 5.8607,-127.6498 12.5014,-125.4361\"/>\n",
       "</g>\n",
       "<!-- 3 -->\n",
       "<g id=\"node4\" class=\"node\">\n",
       "<title>3</title>\n",
       "<text text-anchor=\"middle\" x=\"38.5\" y=\"-105.8\" font-family=\"Times,serif\" font-size=\"14.00\" fill=\"#000000\">&lt;A&gt;</text>\n",
       "</g>\n",
       "<!-- 1&#45;&gt;3 -->\n",
       "<g id=\"edge3\" class=\"edge\">\n",
       "<title>1&#45;&gt;3</title>\n",
       "<path fill=\"none\" stroke=\"#000000\" d=\"M23.156,-152.9748C25.602,-146.0443 29.3201,-135.5097 32.4836,-126.5464\"/>\n",
       "<polygon fill=\"#000000\" stroke=\"#000000\" points=\"35.8053,-127.6509 35.8331,-117.0561 29.2044,-125.3211 35.8053,-127.6509\"/>\n",
       "</g>\n",
       "<!-- 4 -->\n",
       "<g id=\"node5\" class=\"node\">\n",
       "<title>4</title>\n",
       "<text text-anchor=\"middle\" x=\"20.5\" y=\"-54.8\" font-family=\"Times,serif\" font-size=\"14.00\" fill=\"#000000\">a</text>\n",
       "</g>\n",
       "<!-- 3&#45;&gt;4 -->\n",
       "<g id=\"edge4\" class=\"edge\">\n",
       "<title>3&#45;&gt;4</title>\n",
       "<path fill=\"none\" stroke=\"#000000\" d=\"M35.844,-101.9748C33.398,-95.0443 29.6799,-84.5097 26.5164,-75.5464\"/>\n",
       "<polygon fill=\"#000000\" stroke=\"#000000\" points=\"29.7956,-74.3211 23.1669,-66.0561 23.1947,-76.6509 29.7956,-74.3211\"/>\n",
       "</g>\n",
       "<!-- 5 -->\n",
       "<g id=\"node6\" class=\"node\">\n",
       "<title>5</title>\n",
       "<text text-anchor=\"middle\" x=\"55.5\" y=\"-54.8\" font-family=\"Times,serif\" font-size=\"14.00\" fill=\"#000000\">&lt;A&gt;</text>\n",
       "</g>\n",
       "<!-- 3&#45;&gt;5 -->\n",
       "<g id=\"edge5\" class=\"edge\">\n",
       "<title>3&#45;&gt;5</title>\n",
       "<path fill=\"none\" stroke=\"#000000\" d=\"M41.0084,-101.9748C43.3186,-95.0443 46.8301,-84.5097 49.8179,-75.5464\"/>\n",
       "<polygon fill=\"#000000\" stroke=\"#000000\" points=\"53.1393,-76.6498 52.9813,-66.0561 46.4986,-74.4361 53.1393,-76.6498\"/>\n",
       "</g>\n",
       "<!-- 6 -->\n",
       "<g id=\"node7\" class=\"node\">\n",
       "<title>6</title>\n",
       "<text text-anchor=\"middle\" x=\"37.5\" y=\"-3.8\" font-family=\"Times,serif\" font-size=\"14.00\" fill=\"#000000\">a</text>\n",
       "</g>\n",
       "<!-- 5&#45;&gt;6 -->\n",
       "<g id=\"edge6\" class=\"edge\">\n",
       "<title>5&#45;&gt;6</title>\n",
       "<path fill=\"none\" stroke=\"#000000\" d=\"M52.844,-50.9748C50.398,-44.0443 46.6799,-33.5097 43.5164,-24.5464\"/>\n",
       "<polygon fill=\"#000000\" stroke=\"#000000\" points=\"46.7956,-23.3211 40.1669,-15.0561 40.1947,-25.6509 46.7956,-23.3211\"/>\n",
       "</g>\n",
       "<!-- 7 -->\n",
       "<g id=\"node8\" class=\"node\">\n",
       "<title>7</title>\n",
       "<text text-anchor=\"middle\" x=\"72.5\" y=\"-3.8\" font-family=\"Times,serif\" font-size=\"14.00\" fill=\"#000000\">&lt;A&gt;</text>\n",
       "</g>\n",
       "<!-- 5&#45;&gt;7 -->\n",
       "<g id=\"edge7\" class=\"edge\">\n",
       "<title>5&#45;&gt;7</title>\n",
       "<path fill=\"none\" stroke=\"#000000\" d=\"M58.0084,-50.9748C60.3186,-44.0443 63.8301,-33.5097 66.8179,-24.5464\"/>\n",
       "<polygon fill=\"#000000\" stroke=\"#000000\" points=\"70.1393,-25.6498 69.9813,-15.0561 63.4986,-23.4361 70.1393,-25.6498\"/>\n",
       "</g>\n",
       "</g>\n",
       "</svg>\n"
      ],
      "text/plain": [
       "<graphviz.dot.Digraph at 0x113ea5e10>"
      ]
     },
     "metadata": {},
     "output_type": "display_data"
    }
   ],
   "source": [
    "display_tree(('<start>', (('<A>', (('a', []), ('<A>', (('a', []), ('<A>', (('a', []), ('<A>', []))))))),)))"
   ]
  },
  {
   "cell_type": "markdown",
   "metadata": {
    "slideshow": {
     "slide_type": "subslide"
    }
   },
   "source": [
    "#### Ambiguity\n",
    "\n",
    "To complicate matters further, there could be\n",
    "multiple derivation trees – also called _parses_ – corresponding to the\n",
    "same string from the same grammar. For example, a string `1+2+3` can be parsed\n",
    "in two ways as we see below using the `A1_GRAMMAR`"
   ]
  },
  {
   "cell_type": "code",
   "execution_count": 39,
   "metadata": {
    "slideshow": {
     "slide_type": "subslide"
    }
   },
   "outputs": [
    {
     "data": {
      "image/svg+xml": [
       "<?xml version=\"1.0\" encoding=\"UTF-8\" standalone=\"no\"?>\n",
       "<!DOCTYPE svg PUBLIC \"-//W3C//DTD SVG 1.1//EN\"\n",
       " \"http://www.w3.org/Graphics/SVG/1.1/DTD/svg11.dtd\">\n",
       "<!-- Generated by graphviz version 2.40.1 (20161225.0304)\n",
       " -->\n",
       "<!-- Title: %3 Pages: 1 -->\n",
       "<svg width=\"215pt\" height=\"329pt\"\n",
       " viewBox=\"0.00 0.00 215.00 329.00\" xmlns=\"http://www.w3.org/2000/svg\" xmlns:xlink=\"http://www.w3.org/1999/xlink\">\n",
       "<g id=\"graph0\" class=\"graph\" transform=\"scale(1 1) rotate(0) translate(4 325)\">\n",
       "<title>%3</title>\n",
       "<polygon fill=\"#ffffff\" stroke=\"transparent\" points=\"-4,4 -4,-325 211,-325 211,4 -4,4\"/>\n",
       "<!-- 0 -->\n",
       "<g id=\"node1\" class=\"node\">\n",
       "<title>0</title>\n",
       "<text text-anchor=\"middle\" x=\"130.5\" y=\"-309.8\" font-family=\"Times,serif\" font-size=\"14.00\" fill=\"#000000\">&lt;start&gt;</text>\n",
       "</g>\n",
       "<!-- 1 -->\n",
       "<g id=\"node2\" class=\"node\">\n",
       "<title>1</title>\n",
       "<text text-anchor=\"middle\" x=\"130.5\" y=\"-258.8\" font-family=\"Times,serif\" font-size=\"14.00\" fill=\"#000000\">&lt;expr&gt;</text>\n",
       "</g>\n",
       "<!-- 0&#45;&gt;1 -->\n",
       "<g id=\"edge1\" class=\"edge\">\n",
       "<title>0&#45;&gt;1</title>\n",
       "<path fill=\"none\" stroke=\"#000000\" d=\"M130.5,-305.9748C130.5,-299.195 130.5,-288.966 130.5,-280.1331\"/>\n",
       "<polygon fill=\"#000000\" stroke=\"#000000\" points=\"134.0001,-280.0561 130.5,-270.0561 127.0001,-280.0561 134.0001,-280.0561\"/>\n",
       "</g>\n",
       "<!-- 2 -->\n",
       "<g id=\"node3\" class=\"node\">\n",
       "<title>2</title>\n",
       "<text text-anchor=\"middle\" x=\"81.5\" y=\"-207.8\" font-family=\"Times,serif\" font-size=\"14.00\" fill=\"#000000\">&lt;expr&gt;</text>\n",
       "</g>\n",
       "<!-- 1&#45;&gt;2 -->\n",
       "<g id=\"edge2\" class=\"edge\">\n",
       "<title>1&#45;&gt;2</title>\n",
       "<path fill=\"none\" stroke=\"#000000\" d=\"M123.2699,-254.9748C116.1046,-247.517 104.9294,-235.8857 95.9406,-226.53\"/>\n",
       "<polygon fill=\"#000000\" stroke=\"#000000\" points=\"98.2119,-223.8423 88.7598,-219.0561 93.1642,-228.6921 98.2119,-223.8423\"/>\n",
       "</g>\n",
       "<!-- 12 -->\n",
       "<g id=\"node13\" class=\"node\">\n",
       "<title>12</title>\n",
       "<text text-anchor=\"middle\" x=\"130.5\" y=\"-207.8\" font-family=\"Times,serif\" font-size=\"14.00\" fill=\"#000000\">+</text>\n",
       "</g>\n",
       "<!-- 1&#45;&gt;12 -->\n",
       "<g id=\"edge12\" class=\"edge\">\n",
       "<title>1&#45;&gt;12</title>\n",
       "<path fill=\"none\" stroke=\"#000000\" d=\"M130.5,-254.9748C130.5,-248.195 130.5,-237.966 130.5,-229.1331\"/>\n",
       "<polygon fill=\"#000000\" stroke=\"#000000\" points=\"134.0001,-229.0561 130.5,-219.0561 127.0001,-229.0561 134.0001,-229.0561\"/>\n",
       "</g>\n",
       "<!-- 13 -->\n",
       "<g id=\"node14\" class=\"node\">\n",
       "<title>13</title>\n",
       "<text text-anchor=\"middle\" x=\"176.5\" y=\"-207.8\" font-family=\"Times,serif\" font-size=\"14.00\" fill=\"#000000\">&lt;expr&gt;</text>\n",
       "</g>\n",
       "<!-- 1&#45;&gt;13 -->\n",
       "<g id=\"edge13\" class=\"edge\">\n",
       "<title>1&#45;&gt;13</title>\n",
       "<path fill=\"none\" stroke=\"#000000\" d=\"M137.2875,-254.9748C144.0141,-247.517 154.505,-235.8857 162.9436,-226.53\"/>\n",
       "<polygon fill=\"#000000\" stroke=\"#000000\" points=\"165.586,-228.826 169.6847,-219.0561 160.388,-224.1376 165.586,-228.826\"/>\n",
       "</g>\n",
       "<!-- 3 -->\n",
       "<g id=\"node4\" class=\"node\">\n",
       "<title>3</title>\n",
       "<text text-anchor=\"middle\" x=\"27.5\" y=\"-156.8\" font-family=\"Times,serif\" font-size=\"14.00\" fill=\"#000000\">&lt;expr&gt;</text>\n",
       "</g>\n",
       "<!-- 2&#45;&gt;3 -->\n",
       "<g id=\"edge3\" class=\"edge\">\n",
       "<title>2&#45;&gt;3</title>\n",
       "<path fill=\"none\" stroke=\"#000000\" d=\"M73.5321,-203.9748C65.4761,-196.3663 52.8208,-184.4141 42.8167,-174.9658\"/>\n",
       "<polygon fill=\"#000000\" stroke=\"#000000\" points=\"45.1739,-172.3778 35.5006,-168.0561 40.3675,-177.4669 45.1739,-172.3778\"/>\n",
       "</g>\n",
       "<!-- 7 -->\n",
       "<g id=\"node8\" class=\"node\">\n",
       "<title>7</title>\n",
       "<text text-anchor=\"middle\" x=\"70.5\" y=\"-156.8\" font-family=\"Times,serif\" font-size=\"14.00\" fill=\"#000000\">+</text>\n",
       "</g>\n",
       "<!-- 2&#45;&gt;7 -->\n",
       "<g id=\"edge7\" class=\"edge\">\n",
       "<title>2&#45;&gt;7</title>\n",
       "<path fill=\"none\" stroke=\"#000000\" d=\"M79.8769,-203.9748C78.3984,-197.1196 76.1592,-186.7383 74.2398,-177.8392\"/>\n",
       "<polygon fill=\"#000000\" stroke=\"#000000\" points=\"77.6595,-177.0934 72.1297,-168.0561 70.8169,-178.5693 77.6595,-177.0934\"/>\n",
       "</g>\n",
       "<!-- 8 -->\n",
       "<g id=\"node9\" class=\"node\">\n",
       "<title>8</title>\n",
       "<text text-anchor=\"middle\" x=\"113.5\" y=\"-156.8\" font-family=\"Times,serif\" font-size=\"14.00\" fill=\"#000000\">&lt;expr&gt;</text>\n",
       "</g>\n",
       "<!-- 2&#45;&gt;8 -->\n",
       "<g id=\"edge8\" class=\"edge\">\n",
       "<title>2&#45;&gt;8</title>\n",
       "<path fill=\"none\" stroke=\"#000000\" d=\"M86.2217,-203.9748C90.712,-196.8183 97.6137,-185.8188 103.3512,-176.6747\"/>\n",
       "<polygon fill=\"#000000\" stroke=\"#000000\" points=\"106.4087,-178.387 108.7589,-168.0561 100.4792,-174.6665 106.4087,-178.387\"/>\n",
       "</g>\n",
       "<!-- 4 -->\n",
       "<g id=\"node5\" class=\"node\">\n",
       "<title>4</title>\n",
       "<text text-anchor=\"middle\" x=\"27.5\" y=\"-105.8\" font-family=\"Times,serif\" font-size=\"14.00\" fill=\"#000000\">&lt;integer&gt;</text>\n",
       "</g>\n",
       "<!-- 3&#45;&gt;4 -->\n",
       "<g id=\"edge4\" class=\"edge\">\n",
       "<title>3&#45;&gt;4</title>\n",
       "<path fill=\"none\" stroke=\"#000000\" d=\"M27.5,-152.9748C27.5,-146.195 27.5,-135.966 27.5,-127.1331\"/>\n",
       "<polygon fill=\"#000000\" stroke=\"#000000\" points=\"31.0001,-127.0561 27.5,-117.0561 24.0001,-127.0561 31.0001,-127.0561\"/>\n",
       "</g>\n",
       "<!-- 5 -->\n",
       "<g id=\"node6\" class=\"node\">\n",
       "<title>5</title>\n",
       "<text text-anchor=\"middle\" x=\"27.5\" y=\"-54.8\" font-family=\"Times,serif\" font-size=\"14.00\" fill=\"#000000\">&lt;digit&gt;</text>\n",
       "</g>\n",
       "<!-- 4&#45;&gt;5 -->\n",
       "<g id=\"edge5\" class=\"edge\">\n",
       "<title>4&#45;&gt;5</title>\n",
       "<path fill=\"none\" stroke=\"#000000\" d=\"M27.5,-101.9748C27.5,-95.195 27.5,-84.966 27.5,-76.1331\"/>\n",
       "<polygon fill=\"#000000\" stroke=\"#000000\" points=\"31.0001,-76.0561 27.5,-66.0561 24.0001,-76.0561 31.0001,-76.0561\"/>\n",
       "</g>\n",
       "<!-- 6 -->\n",
       "<g id=\"node7\" class=\"node\">\n",
       "<title>6</title>\n",
       "<text text-anchor=\"middle\" x=\"27.5\" y=\"-3.8\" font-family=\"Times,serif\" font-size=\"14.00\" fill=\"#000000\">1</text>\n",
       "</g>\n",
       "<!-- 5&#45;&gt;6 -->\n",
       "<g id=\"edge6\" class=\"edge\">\n",
       "<title>5&#45;&gt;6</title>\n",
       "<path fill=\"none\" stroke=\"#000000\" d=\"M27.5,-50.9748C27.5,-44.195 27.5,-33.966 27.5,-25.1331\"/>\n",
       "<polygon fill=\"#000000\" stroke=\"#000000\" points=\"31.0001,-25.0561 27.5,-15.0561 24.0001,-25.0561 31.0001,-25.0561\"/>\n",
       "</g>\n",
       "<!-- 9 -->\n",
       "<g id=\"node10\" class=\"node\">\n",
       "<title>9</title>\n",
       "<text text-anchor=\"middle\" x=\"112.5\" y=\"-105.8\" font-family=\"Times,serif\" font-size=\"14.00\" fill=\"#000000\">&lt;integer&gt;</text>\n",
       "</g>\n",
       "<!-- 8&#45;&gt;9 -->\n",
       "<g id=\"edge9\" class=\"edge\">\n",
       "<title>8&#45;&gt;9</title>\n",
       "<path fill=\"none\" stroke=\"#000000\" d=\"M113.3524,-152.9748C113.2195,-146.195 113.0189,-135.966 112.8457,-127.1331\"/>\n",
       "<polygon fill=\"#000000\" stroke=\"#000000\" points=\"116.3436,-126.9855 112.6482,-117.0561 109.345,-127.1228 116.3436,-126.9855\"/>\n",
       "</g>\n",
       "<!-- 10 -->\n",
       "<g id=\"node11\" class=\"node\">\n",
       "<title>10</title>\n",
       "<text text-anchor=\"middle\" x=\"112.5\" y=\"-54.8\" font-family=\"Times,serif\" font-size=\"14.00\" fill=\"#000000\">&lt;digit&gt;</text>\n",
       "</g>\n",
       "<!-- 9&#45;&gt;10 -->\n",
       "<g id=\"edge10\" class=\"edge\">\n",
       "<title>9&#45;&gt;10</title>\n",
       "<path fill=\"none\" stroke=\"#000000\" d=\"M112.5,-101.9748C112.5,-95.195 112.5,-84.966 112.5,-76.1331\"/>\n",
       "<polygon fill=\"#000000\" stroke=\"#000000\" points=\"116.0001,-76.0561 112.5,-66.0561 109.0001,-76.0561 116.0001,-76.0561\"/>\n",
       "</g>\n",
       "<!-- 11 -->\n",
       "<g id=\"node12\" class=\"node\">\n",
       "<title>11</title>\n",
       "<text text-anchor=\"middle\" x=\"112.5\" y=\"-3.8\" font-family=\"Times,serif\" font-size=\"14.00\" fill=\"#000000\">2</text>\n",
       "</g>\n",
       "<!-- 10&#45;&gt;11 -->\n",
       "<g id=\"edge11\" class=\"edge\">\n",
       "<title>10&#45;&gt;11</title>\n",
       "<path fill=\"none\" stroke=\"#000000\" d=\"M112.5,-50.9748C112.5,-44.195 112.5,-33.966 112.5,-25.1331\"/>\n",
       "<polygon fill=\"#000000\" stroke=\"#000000\" points=\"116.0001,-25.0561 112.5,-15.0561 109.0001,-25.0561 116.0001,-25.0561\"/>\n",
       "</g>\n",
       "<!-- 14 -->\n",
       "<g id=\"node15\" class=\"node\">\n",
       "<title>14</title>\n",
       "<text text-anchor=\"middle\" x=\"179.5\" y=\"-156.8\" font-family=\"Times,serif\" font-size=\"14.00\" fill=\"#000000\">&lt;integer&gt;</text>\n",
       "</g>\n",
       "<!-- 13&#45;&gt;14 -->\n",
       "<g id=\"edge14\" class=\"edge\">\n",
       "<title>13&#45;&gt;14</title>\n",
       "<path fill=\"none\" stroke=\"#000000\" d=\"M176.9427,-203.9748C177.3415,-197.195 177.9432,-186.966 178.4628,-178.1331\"/>\n",
       "<polygon fill=\"#000000\" stroke=\"#000000\" points=\"181.9622,-178.2444 179.0555,-168.0561 174.9742,-177.8333 181.9622,-178.2444\"/>\n",
       "</g>\n",
       "<!-- 15 -->\n",
       "<g id=\"node16\" class=\"node\">\n",
       "<title>15</title>\n",
       "<text text-anchor=\"middle\" x=\"179.5\" y=\"-105.8\" font-family=\"Times,serif\" font-size=\"14.00\" fill=\"#000000\">&lt;digit&gt;</text>\n",
       "</g>\n",
       "<!-- 14&#45;&gt;15 -->\n",
       "<g id=\"edge15\" class=\"edge\">\n",
       "<title>14&#45;&gt;15</title>\n",
       "<path fill=\"none\" stroke=\"#000000\" d=\"M179.5,-152.9748C179.5,-146.195 179.5,-135.966 179.5,-127.1331\"/>\n",
       "<polygon fill=\"#000000\" stroke=\"#000000\" points=\"183.0001,-127.0561 179.5,-117.0561 176.0001,-127.0561 183.0001,-127.0561\"/>\n",
       "</g>\n",
       "<!-- 16 -->\n",
       "<g id=\"node17\" class=\"node\">\n",
       "<title>16</title>\n",
       "<text text-anchor=\"middle\" x=\"179.5\" y=\"-54.8\" font-family=\"Times,serif\" font-size=\"14.00\" fill=\"#000000\">3</text>\n",
       "</g>\n",
       "<!-- 15&#45;&gt;16 -->\n",
       "<g id=\"edge16\" class=\"edge\">\n",
       "<title>15&#45;&gt;16</title>\n",
       "<path fill=\"none\" stroke=\"#000000\" d=\"M179.5,-101.9748C179.5,-95.195 179.5,-84.966 179.5,-76.1331\"/>\n",
       "<polygon fill=\"#000000\" stroke=\"#000000\" points=\"183.0001,-76.0561 179.5,-66.0561 176.0001,-76.0561 183.0001,-76.0561\"/>\n",
       "</g>\n",
       "</g>\n",
       "</svg>\n"
      ],
      "text/plain": [
       "<graphviz.dot.Digraph at 0x113e55748>"
      ]
     },
     "metadata": {},
     "output_type": "display_data"
    }
   ],
   "source": [
    "mystring = '1+2+3'\n",
    "tree = ('<start>',\n",
    "        [('<expr>',\n",
    "          [('<expr>', [('<expr>', [('<integer>', [('<digit>', [('1', [])])])]),\n",
    "                       ('+', []),\n",
    "                       ('<expr>', [('<integer>',\n",
    "                                    [('<digit>', [('2', [])])])])]), ('+', []),\n",
    "           ('<expr>', [('<integer>', [('<digit>', [('3', [])])])])])])\n",
    "assert mystring == tree_to_string(tree)\n",
    "display_tree(tree)"
   ]
  },
  {
   "cell_type": "code",
   "execution_count": 40,
   "metadata": {
    "slideshow": {
     "slide_type": "subslide"
    }
   },
   "outputs": [
    {
     "data": {
      "image/svg+xml": [
       "<?xml version=\"1.0\" encoding=\"UTF-8\" standalone=\"no\"?>\n",
       "<!DOCTYPE svg PUBLIC \"-//W3C//DTD SVG 1.1//EN\"\n",
       " \"http://www.w3.org/Graphics/SVG/1.1/DTD/svg11.dtd\">\n",
       "<!-- Generated by graphviz version 2.40.1 (20161225.0304)\n",
       " -->\n",
       "<!-- Title: %3 Pages: 1 -->\n",
       "<svg width=\"215pt\" height=\"329pt\"\n",
       " viewBox=\"0.00 0.00 215.00 329.00\" xmlns=\"http://www.w3.org/2000/svg\" xmlns:xlink=\"http://www.w3.org/1999/xlink\">\n",
       "<g id=\"graph0\" class=\"graph\" transform=\"scale(1 1) rotate(0) translate(4 325)\">\n",
       "<title>%3</title>\n",
       "<polygon fill=\"#ffffff\" stroke=\"transparent\" points=\"-4,4 -4,-325 211,-325 211,4 -4,4\"/>\n",
       "<!-- 0 -->\n",
       "<g id=\"node1\" class=\"node\">\n",
       "<title>0</title>\n",
       "<text text-anchor=\"middle\" x=\"87.5\" y=\"-309.8\" font-family=\"Times,serif\" font-size=\"14.00\" fill=\"#000000\">&lt;start&gt;</text>\n",
       "</g>\n",
       "<!-- 1 -->\n",
       "<g id=\"node2\" class=\"node\">\n",
       "<title>1</title>\n",
       "<text text-anchor=\"middle\" x=\"87.5\" y=\"-258.8\" font-family=\"Times,serif\" font-size=\"14.00\" fill=\"#000000\">&lt;expr&gt;</text>\n",
       "</g>\n",
       "<!-- 0&#45;&gt;1 -->\n",
       "<g id=\"edge1\" class=\"edge\">\n",
       "<title>0&#45;&gt;1</title>\n",
       "<path fill=\"none\" stroke=\"#000000\" d=\"M87.5,-305.9748C87.5,-299.195 87.5,-288.966 87.5,-280.1331\"/>\n",
       "<polygon fill=\"#000000\" stroke=\"#000000\" points=\"91.0001,-280.0561 87.5,-270.0561 84.0001,-280.0561 91.0001,-280.0561\"/>\n",
       "</g>\n",
       "<!-- 2 -->\n",
       "<g id=\"node3\" class=\"node\">\n",
       "<title>2</title>\n",
       "<text text-anchor=\"middle\" x=\"38.5\" y=\"-207.8\" font-family=\"Times,serif\" font-size=\"14.00\" fill=\"#000000\">&lt;expr&gt;</text>\n",
       "</g>\n",
       "<!-- 1&#45;&gt;2 -->\n",
       "<g id=\"edge2\" class=\"edge\">\n",
       "<title>1&#45;&gt;2</title>\n",
       "<path fill=\"none\" stroke=\"#000000\" d=\"M80.2699,-254.9748C73.1046,-247.517 61.9294,-235.8857 52.9406,-226.53\"/>\n",
       "<polygon fill=\"#000000\" stroke=\"#000000\" points=\"55.2119,-223.8423 45.7598,-219.0561 50.1642,-228.6921 55.2119,-223.8423\"/>\n",
       "</g>\n",
       "<!-- 6 -->\n",
       "<g id=\"node7\" class=\"node\">\n",
       "<title>6</title>\n",
       "<text text-anchor=\"middle\" x=\"87.5\" y=\"-207.8\" font-family=\"Times,serif\" font-size=\"14.00\" fill=\"#000000\">+</text>\n",
       "</g>\n",
       "<!-- 1&#45;&gt;6 -->\n",
       "<g id=\"edge6\" class=\"edge\">\n",
       "<title>1&#45;&gt;6</title>\n",
       "<path fill=\"none\" stroke=\"#000000\" d=\"M87.5,-254.9748C87.5,-248.195 87.5,-237.966 87.5,-229.1331\"/>\n",
       "<polygon fill=\"#000000\" stroke=\"#000000\" points=\"91.0001,-229.0561 87.5,-219.0561 84.0001,-229.0561 91.0001,-229.0561\"/>\n",
       "</g>\n",
       "<!-- 7 -->\n",
       "<g id=\"node8\" class=\"node\">\n",
       "<title>7</title>\n",
       "<text text-anchor=\"middle\" x=\"133.5\" y=\"-207.8\" font-family=\"Times,serif\" font-size=\"14.00\" fill=\"#000000\">&lt;expr&gt;</text>\n",
       "</g>\n",
       "<!-- 1&#45;&gt;7 -->\n",
       "<g id=\"edge7\" class=\"edge\">\n",
       "<title>1&#45;&gt;7</title>\n",
       "<path fill=\"none\" stroke=\"#000000\" d=\"M94.2875,-254.9748C101.0141,-247.517 111.505,-235.8857 119.9436,-226.53\"/>\n",
       "<polygon fill=\"#000000\" stroke=\"#000000\" points=\"122.586,-228.826 126.6847,-219.0561 117.388,-224.1376 122.586,-228.826\"/>\n",
       "</g>\n",
       "<!-- 3 -->\n",
       "<g id=\"node4\" class=\"node\">\n",
       "<title>3</title>\n",
       "<text text-anchor=\"middle\" x=\"27.5\" y=\"-156.8\" font-family=\"Times,serif\" font-size=\"14.00\" fill=\"#000000\">&lt;integer&gt;</text>\n",
       "</g>\n",
       "<!-- 2&#45;&gt;3 -->\n",
       "<g id=\"edge3\" class=\"edge\">\n",
       "<title>2&#45;&gt;3</title>\n",
       "<path fill=\"none\" stroke=\"#000000\" d=\"M36.8769,-203.9748C35.3984,-197.1196 33.1592,-186.7383 31.2398,-177.8392\"/>\n",
       "<polygon fill=\"#000000\" stroke=\"#000000\" points=\"34.6595,-177.0934 29.1297,-168.0561 27.8169,-178.5693 34.6595,-177.0934\"/>\n",
       "</g>\n",
       "<!-- 4 -->\n",
       "<g id=\"node5\" class=\"node\">\n",
       "<title>4</title>\n",
       "<text text-anchor=\"middle\" x=\"27.5\" y=\"-105.8\" font-family=\"Times,serif\" font-size=\"14.00\" fill=\"#000000\">&lt;digit&gt;</text>\n",
       "</g>\n",
       "<!-- 3&#45;&gt;4 -->\n",
       "<g id=\"edge4\" class=\"edge\">\n",
       "<title>3&#45;&gt;4</title>\n",
       "<path fill=\"none\" stroke=\"#000000\" d=\"M27.5,-152.9748C27.5,-146.195 27.5,-135.966 27.5,-127.1331\"/>\n",
       "<polygon fill=\"#000000\" stroke=\"#000000\" points=\"31.0001,-127.0561 27.5,-117.0561 24.0001,-127.0561 31.0001,-127.0561\"/>\n",
       "</g>\n",
       "<!-- 5 -->\n",
       "<g id=\"node6\" class=\"node\">\n",
       "<title>5</title>\n",
       "<text text-anchor=\"middle\" x=\"27.5\" y=\"-54.8\" font-family=\"Times,serif\" font-size=\"14.00\" fill=\"#000000\">1</text>\n",
       "</g>\n",
       "<!-- 4&#45;&gt;5 -->\n",
       "<g id=\"edge5\" class=\"edge\">\n",
       "<title>4&#45;&gt;5</title>\n",
       "<path fill=\"none\" stroke=\"#000000\" d=\"M27.5,-101.9748C27.5,-95.195 27.5,-84.966 27.5,-76.1331\"/>\n",
       "<polygon fill=\"#000000\" stroke=\"#000000\" points=\"31.0001,-76.0561 27.5,-66.0561 24.0001,-76.0561 31.0001,-76.0561\"/>\n",
       "</g>\n",
       "<!-- 8 -->\n",
       "<g id=\"node9\" class=\"node\">\n",
       "<title>8</title>\n",
       "<text text-anchor=\"middle\" x=\"93.5\" y=\"-156.8\" font-family=\"Times,serif\" font-size=\"14.00\" fill=\"#000000\">&lt;expr&gt;</text>\n",
       "</g>\n",
       "<!-- 7&#45;&gt;8 -->\n",
       "<g id=\"edge8\" class=\"edge\">\n",
       "<title>7&#45;&gt;8</title>\n",
       "<path fill=\"none\" stroke=\"#000000\" d=\"M127.5979,-203.9748C121.8668,-196.6677 112.9933,-185.354 105.7351,-176.0997\"/>\n",
       "<polygon fill=\"#000000\" stroke=\"#000000\" points=\"108.3518,-173.7647 99.4264,-168.0561 102.8438,-178.0847 108.3518,-173.7647\"/>\n",
       "</g>\n",
       "<!-- 12 -->\n",
       "<g id=\"node13\" class=\"node\">\n",
       "<title>12</title>\n",
       "<text text-anchor=\"middle\" x=\"136.5\" y=\"-156.8\" font-family=\"Times,serif\" font-size=\"14.00\" fill=\"#000000\">+</text>\n",
       "</g>\n",
       "<!-- 7&#45;&gt;12 -->\n",
       "<g id=\"edge12\" class=\"edge\">\n",
       "<title>7&#45;&gt;12</title>\n",
       "<path fill=\"none\" stroke=\"#000000\" d=\"M133.9427,-203.9748C134.3415,-197.195 134.9432,-186.966 135.4628,-178.1331\"/>\n",
       "<polygon fill=\"#000000\" stroke=\"#000000\" points=\"138.9622,-178.2444 136.0555,-168.0561 131.9742,-177.8333 138.9622,-178.2444\"/>\n",
       "</g>\n",
       "<!-- 13 -->\n",
       "<g id=\"node14\" class=\"node\">\n",
       "<title>13</title>\n",
       "<text text-anchor=\"middle\" x=\"179.5\" y=\"-156.8\" font-family=\"Times,serif\" font-size=\"14.00\" fill=\"#000000\">&lt;expr&gt;</text>\n",
       "</g>\n",
       "<!-- 7&#45;&gt;13 -->\n",
       "<g id=\"edge13\" class=\"edge\">\n",
       "<title>7&#45;&gt;13</title>\n",
       "<path fill=\"none\" stroke=\"#000000\" d=\"M140.2875,-203.9748C147.0141,-196.517 157.505,-184.8857 165.9436,-175.53\"/>\n",
       "<polygon fill=\"#000000\" stroke=\"#000000\" points=\"168.586,-177.826 172.6847,-168.0561 163.388,-173.1376 168.586,-177.826\"/>\n",
       "</g>\n",
       "<!-- 9 -->\n",
       "<g id=\"node10\" class=\"node\">\n",
       "<title>9</title>\n",
       "<text text-anchor=\"middle\" x=\"94.5\" y=\"-105.8\" font-family=\"Times,serif\" font-size=\"14.00\" fill=\"#000000\">&lt;integer&gt;</text>\n",
       "</g>\n",
       "<!-- 8&#45;&gt;9 -->\n",
       "<g id=\"edge9\" class=\"edge\">\n",
       "<title>8&#45;&gt;9</title>\n",
       "<path fill=\"none\" stroke=\"#000000\" d=\"M93.6476,-152.9748C93.7805,-146.195 93.9811,-135.966 94.1543,-127.1331\"/>\n",
       "<polygon fill=\"#000000\" stroke=\"#000000\" points=\"97.655,-127.1228 94.3518,-117.0561 90.6564,-126.9855 97.655,-127.1228\"/>\n",
       "</g>\n",
       "<!-- 10 -->\n",
       "<g id=\"node11\" class=\"node\">\n",
       "<title>10</title>\n",
       "<text text-anchor=\"middle\" x=\"94.5\" y=\"-54.8\" font-family=\"Times,serif\" font-size=\"14.00\" fill=\"#000000\">&lt;digit&gt;</text>\n",
       "</g>\n",
       "<!-- 9&#45;&gt;10 -->\n",
       "<g id=\"edge10\" class=\"edge\">\n",
       "<title>9&#45;&gt;10</title>\n",
       "<path fill=\"none\" stroke=\"#000000\" d=\"M94.5,-101.9748C94.5,-95.195 94.5,-84.966 94.5,-76.1331\"/>\n",
       "<polygon fill=\"#000000\" stroke=\"#000000\" points=\"98.0001,-76.0561 94.5,-66.0561 91.0001,-76.0561 98.0001,-76.0561\"/>\n",
       "</g>\n",
       "<!-- 11 -->\n",
       "<g id=\"node12\" class=\"node\">\n",
       "<title>11</title>\n",
       "<text text-anchor=\"middle\" x=\"94.5\" y=\"-3.8\" font-family=\"Times,serif\" font-size=\"14.00\" fill=\"#000000\">2</text>\n",
       "</g>\n",
       "<!-- 10&#45;&gt;11 -->\n",
       "<g id=\"edge11\" class=\"edge\">\n",
       "<title>10&#45;&gt;11</title>\n",
       "<path fill=\"none\" stroke=\"#000000\" d=\"M94.5,-50.9748C94.5,-44.195 94.5,-33.966 94.5,-25.1331\"/>\n",
       "<polygon fill=\"#000000\" stroke=\"#000000\" points=\"98.0001,-25.0561 94.5,-15.0561 91.0001,-25.0561 98.0001,-25.0561\"/>\n",
       "</g>\n",
       "<!-- 14 -->\n",
       "<g id=\"node15\" class=\"node\">\n",
       "<title>14</title>\n",
       "<text text-anchor=\"middle\" x=\"179.5\" y=\"-105.8\" font-family=\"Times,serif\" font-size=\"14.00\" fill=\"#000000\">&lt;integer&gt;</text>\n",
       "</g>\n",
       "<!-- 13&#45;&gt;14 -->\n",
       "<g id=\"edge14\" class=\"edge\">\n",
       "<title>13&#45;&gt;14</title>\n",
       "<path fill=\"none\" stroke=\"#000000\" d=\"M179.5,-152.9748C179.5,-146.195 179.5,-135.966 179.5,-127.1331\"/>\n",
       "<polygon fill=\"#000000\" stroke=\"#000000\" points=\"183.0001,-127.0561 179.5,-117.0561 176.0001,-127.0561 183.0001,-127.0561\"/>\n",
       "</g>\n",
       "<!-- 15 -->\n",
       "<g id=\"node16\" class=\"node\">\n",
       "<title>15</title>\n",
       "<text text-anchor=\"middle\" x=\"179.5\" y=\"-54.8\" font-family=\"Times,serif\" font-size=\"14.00\" fill=\"#000000\">&lt;digit&gt;</text>\n",
       "</g>\n",
       "<!-- 14&#45;&gt;15 -->\n",
       "<g id=\"edge15\" class=\"edge\">\n",
       "<title>14&#45;&gt;15</title>\n",
       "<path fill=\"none\" stroke=\"#000000\" d=\"M179.5,-101.9748C179.5,-95.195 179.5,-84.966 179.5,-76.1331\"/>\n",
       "<polygon fill=\"#000000\" stroke=\"#000000\" points=\"183.0001,-76.0561 179.5,-66.0561 176.0001,-76.0561 183.0001,-76.0561\"/>\n",
       "</g>\n",
       "<!-- 16 -->\n",
       "<g id=\"node17\" class=\"node\">\n",
       "<title>16</title>\n",
       "<text text-anchor=\"middle\" x=\"179.5\" y=\"-3.8\" font-family=\"Times,serif\" font-size=\"14.00\" fill=\"#000000\">3</text>\n",
       "</g>\n",
       "<!-- 15&#45;&gt;16 -->\n",
       "<g id=\"edge16\" class=\"edge\">\n",
       "<title>15&#45;&gt;16</title>\n",
       "<path fill=\"none\" stroke=\"#000000\" d=\"M179.5,-50.9748C179.5,-44.195 179.5,-33.966 179.5,-25.1331\"/>\n",
       "<polygon fill=\"#000000\" stroke=\"#000000\" points=\"183.0001,-25.0561 179.5,-15.0561 176.0001,-25.0561 183.0001,-25.0561\"/>\n",
       "</g>\n",
       "</g>\n",
       "</svg>\n"
      ],
      "text/plain": [
       "<graphviz.dot.Digraph at 0x113d41eb8>"
      ]
     },
     "metadata": {},
     "output_type": "display_data"
    }
   ],
   "source": [
    "tree = ('<start>',\n",
    "        [('<expr>', [('<expr>', [('<integer>', [('<digit>', [('1', [])])])]),\n",
    "                     ('+', []),\n",
    "                     ('<expr>',\n",
    "                      [('<expr>', [('<integer>', [('<digit>', [('2', [])])])]),\n",
    "                       ('+', []),\n",
    "                       ('<expr>', [('<integer>', [('<digit>', [('3',\n",
    "                                                                [])])])])])])])\n",
    "assert tree_to_string(tree) == mystring\n",
    "display_tree(tree)"
   ]
  },
  {
   "cell_type": "markdown",
   "metadata": {
    "slideshow": {
     "slide_type": "subslide"
    }
   },
   "source": [
    "There are many ways to resolve ambiguities. One approach taken by *Parsing Expression Grammars* explained in the next section is to specify a particular order of resolution, and choose the first one. Another approach is to simply return all possible derivation trees, which is the approach taken by *Earley parser* we develop later."
   ]
  },
  {
   "cell_type": "markdown",
   "metadata": {
    "slideshow": {
     "slide_type": "subslide"
    }
   },
   "source": [
    "Next, we develop different parsers. To do that, we define a minimal interface for parsing that is obeyed by all parsers. There are two approaches to parsing a string using a grammar.\n",
    "\n",
    "1. The traditional approach is to use a *lexer* (also called a *tokenizer* or a *scanner*) to first tokenize the incoming string, and feed the grammar one token at a time. The lexer is typically a smaller parser that accepts a *regular language*. The advantage of this approach is that the grammar used by the parser can eschew the details of tokenization. Further, one gets a shallow derivation tree at the end of the parsing which can be directly used for generating the *Abstract Syntax Tree*.\n",
    "2. The second approach is to use a tree pruner after the complete parse. With this approach, one uses a grammar that incorporates complete details of the syntax. Next, the nodes corresponding to tokens are pruned and replaced with their corresponding strings as leaf nodes. The utility of this approach is that the parser is more powerful, and further there is no artificial distinction between *lexing* and *parsing*.\n",
    "\n",
    "In this chapter, we use the second approach. This approach is implemented in the `prune_tree` method."
   ]
  },
  {
   "cell_type": "markdown",
   "metadata": {
    "slideshow": {
     "slide_type": "subslide"
    }
   },
   "source": [
    "The *Parser* class we define below provides the minimal interface. The main methods that need to be implemented by the classes implementing this interface are `parse_prefix` and `parse`. The `parse_prefix` returns a tuple, which contains the index until which parsing was completed successfully, and the parse forest until that index. The method `parse` returns a list of derivation trees if the parse was successful."
   ]
  },
  {
   "cell_type": "code",
   "execution_count": 41,
   "metadata": {
    "slideshow": {
     "slide_type": "subslide"
    }
   },
   "outputs": [],
   "source": [
    "class Parser(object):\n",
    "    def __init__(self, grammar, **kwargs):\n",
    "        self._grammar = grammar\n",
    "        self.start_symbol = kwargs.get('start_symbol', default=START_SYMBOL)\n",
    "        self.log = kwargs.get('log', default=False)\n",
    "        self.coalesce = kwargs.get('coalesce', default=True)\n",
    "        self.tokens = kwargs.get('tokens', default=set())\n",
    "\n",
    "    def grammar(self):\n",
    "        return self._grammar\n",
    "\n",
    "    def parse_prefix(self, text):\n",
    "        \"\"\"Return pair (cursor, forest) for longest prefix of text\"\"\"\n",
    "        raise NotImplemented()\n",
    "\n",
    "    def parse(self, text):\n",
    "        cursor, forest = self.parse_prefix(text)\n",
    "        if cursor < len(text):\n",
    "            raise SyntaxError(\"at \" + repr(text[cursor:]))\n",
    "        return [self.prune_tree(tree) for tree in forest]\n",
    "    \n",
    "    def coalesce(self, children):\n",
    "        last = ''\n",
    "        new_lst = []\n",
    "        for cn, cc in children:\n",
    "            if cn not in self._grammar:\n",
    "                last += cn\n",
    "            else:\n",
    "                if last:\n",
    "                    new_lst.append((last, []))\n",
    "                    last = ''\n",
    "                new_lst.append((cn, cc))\n",
    "        if last:\n",
    "            new_lst.append((last, []))\n",
    "        return new_lst\n",
    "                \n",
    "    def prune_tree(self, tree):\n",
    "        name, children = tree\n",
    "        if self.coalesce:\n",
    "            children = self.coalesce(children)\n",
    "        if name in self.tokens:\n",
    "            return (name, [(tree_to_string(tree), [])])\n",
    "        else:\n",
    "            return (name, [self.prune_tree(c) for c in children])"
   ]
  },
  {
   "cell_type": "markdown",
   "metadata": {
    "slideshow": {
     "slide_type": "slide"
    },
    "toc-hr-collapsed": true
   },
   "source": [
    "## Parsing Expression Grammars"
   ]
  },
  {
   "cell_type": "markdown",
   "metadata": {
    "slideshow": {
     "slide_type": "subslide"
    }
   },
   "source": [
    "A _[Parsing Expression Grammar](http://bford.info/pub/lang/peg)_ (*PEG*) \\cite{Ford2004} is a type of _recognition based formal grammar_ that specifies the sequence of steps to take to parse a given string.\n",
    "A _parsing expression grammar_ is very similar to a _context-free grammar_ (*CFG*) such as the ones we saw in the [chapter on grammars](Grammars.ipynb). As in a CFG, a parsing expression grammar is represented by a set of nonterminals and corresponding alternatives representing how to match each. For example, here is a PEG that matches `a` or `b`."
   ]
  },
  {
   "cell_type": "code",
   "execution_count": 42,
   "metadata": {
    "slideshow": {
     "slide_type": "fragment"
    }
   },
   "outputs": [],
   "source": [
    "PEG1 = {\n",
    "    '<start>': ['a', 'b']\n",
    "}"
   ]
  },
  {
   "cell_type": "markdown",
   "metadata": {
    "slideshow": {
     "slide_type": "notes"
    }
   },
   "source": [
    "However, unlike the _CFG_, the alternatives represent *ordered choice*. That is, rather than choosing all rules that can potentially match, we stop at the first match that succeed. For example, the below _PEG_ can match `ab` but not `abc` unlike a _CFG_ which will match both. (We call the sequence of ordered choice expressions *choice expressions*  rather than alternatives to make the distinction from _CFG_ clear.)"
   ]
  },
  {
   "cell_type": "code",
   "execution_count": 43,
   "metadata": {
    "slideshow": {
     "slide_type": "subslide"
    }
   },
   "outputs": [],
   "source": [
    "PEG2 = {\n",
    "    '<start>': ['ab', 'abc']\n",
    "}"
   ]
  },
  {
   "cell_type": "markdown",
   "metadata": {
    "slideshow": {
     "slide_type": "notes"
    }
   },
   "source": [
    "Each choice in a _choice expression_ represents a rule on how to satisfy that particular choice. The choice is a sequence of symbols (terminals and nonterminals) that are matched against a given text as in a _CFG_."
   ]
  },
  {
   "cell_type": "markdown",
   "metadata": {
    "slideshow": {
     "slide_type": "skip"
    }
   },
   "source": [
    "Beyond the syntax of grammar definitions we have seen so far, a _PEG_ can also contain a few additional elements. See the exercises at the end of the chapter for additional information.\n",
    "\n",
    "The PEGs model the typical practice in handwritten recursive descent parsers, and hence it may be considered more intuitive to understand. We look at parsers for PEGs next."
   ]
  },
  {
   "cell_type": "markdown",
   "metadata": {
    "slideshow": {
     "slide_type": "subslide"
    }
   },
   "source": [
    "### The Packrat Parser for Predicate Expression Grammars\n",
    "\n",
    "Short of hand rolling a parser, _Packrat_ parsing is one of the simplest parsing techniques, and is one of the techniques for parsing PEGs.\n",
    "The _Packrat_ parser is so named because it tries to cache all results from simpler problems in the hope that these solutions can be used to avoid re-computation later. We develop a minimal _Packrat_ parser next.\n",
    "\n",
    "But before that, we need to implement a few supporting tools."
   ]
  },
  {
   "cell_type": "markdown",
   "metadata": {
    "slideshow": {
     "slide_type": "skip"
    }
   },
   "source": [
    "The  `EXPR_GRAMMAR` we import from the [chapter on grammars](Grammars.ipynb) is oriented towards generation. In particular, the production rules are stored as strings. We need to massage this representation a little to conform to a canonical representation where each token in a rule is represented separately. The `canonical` format uses separate tokens to represent each symbol in an expansion."
   ]
  },
  {
   "cell_type": "code",
   "execution_count": 44,
   "metadata": {
    "slideshow": {
     "slide_type": "skip"
    }
   },
   "outputs": [],
   "source": [
    "import re"
   ]
  },
  {
   "cell_type": "code",
   "execution_count": 45,
   "metadata": {
    "slideshow": {
     "slide_type": "skip"
    }
   },
   "outputs": [],
   "source": [
    "def canonical(grammar, letters=False):\n",
    "    def split(expansion):\n",
    "        if isinstance(expansion, tuple):\n",
    "            expansion = expansion[0]\n",
    "\n",
    "        return [token for token in re.split(RE_NONTERMINAL, expansion) if token]\n",
    "\n",
    "    def tokenize(word):\n",
    "        return list(word) if letters else [word]\n",
    "\n",
    "    def canonical_expr(expression):\n",
    "        return [\n",
    "            token for word in split(expression)\n",
    "            for token in ([word] if word in grammar else tokenize(word))\n",
    "        ]\n",
    "\n",
    "    return {\n",
    "        k: [canonical_expr(expression) for expression in alternatives]\n",
    "        for k, alternatives in grammar.items()\n",
    "    }"
   ]
  },
  {
   "cell_type": "code",
   "execution_count": 46,
   "metadata": {
    "slideshow": {
     "slide_type": "skip"
    }
   },
   "outputs": [
    {
     "data": {
      "text/plain": [
       "{'<start>': [['<expr>']],\n",
       " '<expr>': [['<term>', ' + ', '<expr>'],\n",
       "  ['<term>', ' - ', '<expr>'],\n",
       "  ['<term>']],\n",
       " '<term>': [['<factor>', ' * ', '<term>'],\n",
       "  ['<factor>', ' / ', '<term>'],\n",
       "  ['<factor>']],\n",
       " '<factor>': [['+', '<factor>'],\n",
       "  ['-', '<factor>'],\n",
       "  ['(', '<expr>', ')'],\n",
       "  ['<integer>', '.', '<integer>'],\n",
       "  ['<integer>']],\n",
       " '<integer>': [['<digit>', '<integer>'], ['<digit>']],\n",
       " '<digit>': [['0'],\n",
       "  ['1'],\n",
       "  ['2'],\n",
       "  ['3'],\n",
       "  ['4'],\n",
       "  ['5'],\n",
       "  ['6'],\n",
       "  ['7'],\n",
       "  ['8'],\n",
       "  ['9']]}"
      ]
     },
     "execution_count": 46,
     "metadata": {},
     "output_type": "execute_result"
    }
   ],
   "source": [
    "canonical(EXPR_GRAMMAR)"
   ]
  },
  {
   "cell_type": "markdown",
   "metadata": {
    "slideshow": {
     "slide_type": "skip"
    }
   },
   "source": [
    "It is easier to work with the `canonical` representation during parsing. Hence, we update our parser class to store the `canonical` representation also."
   ]
  },
  {
   "cell_type": "code",
   "execution_count": 47,
   "metadata": {
    "slideshow": {
     "slide_type": "subslide"
    }
   },
   "outputs": [],
   "source": [
    "class Parser(Parser):\n",
    "    def __init__(self, grammar, **kwargs):\n",
    "        self._grammar = grammar\n",
    "        self.start_symbol = kwargs.get('start_symbol') or START_SYMBOL\n",
    "        self.log = kwargs.get('log') or False\n",
    "        self.tokens = kwargs.get('tokens') or set()\n",
    "        self.cgrammar = canonical(grammar)"
   ]
  },
  {
   "cell_type": "markdown",
   "metadata": {
    "slideshow": {
     "slide_type": "subslide"
    },
    "toc-hr-collapsed": false
   },
   "source": [
    "### The Parser\n",
    "\n",
    "We derive from the `Parser` base class first, and we accept the text to be parsed in the `parse()` method, which in turn calls `unify_key()` with the `start_symbol`.\n",
    "\n",
    "__Note.__ While our PEG parser can produce only a single unambiguous parse tree, other parsers can produce multiple parses for ambiguous grammars. Hence, we return a list of trees (in this case with a single element)."
   ]
  },
  {
   "cell_type": "code",
   "execution_count": 48,
   "metadata": {
    "slideshow": {
     "slide_type": "subslide"
    }
   },
   "outputs": [],
   "source": [
    "class PEGParser(Parser):\n",
    "    def parse_prefix(self, text):\n",
    "        cursor, tree = self.unify_key(self.start_symbol, text, 0)\n",
    "        return cursor, [tree]"
   ]
  },
  {
   "cell_type": "markdown",
   "metadata": {
    "slideshow": {
     "slide_type": "notes"
    }
   },
   "source": [
    "#### Unify Key\n",
    "The `unify_key()` algorithm is simple. If given a terminal symbol, it tries to match the symbol with the current position in the text. If the symbol and text match, it returns successfully with the new parse index `at`.\n",
    "\n",
    "If on the other hand, it was given a nonterminal, it retrieves the choice expression corresponding to the key, and tries to match each choice *in order* using `unify_rule()`. If **any** of the rules succeed in being unified with the given text, the parse is considered a success, and we return with the new parse index returned by `unify_rule()`."
   ]
  },
  {
   "cell_type": "code",
   "execution_count": 49,
   "metadata": {
    "button": false,
    "code_folding": [],
    "new_sheet": false,
    "run_control": {
     "read_only": false
    },
    "slideshow": {
     "slide_type": "subslide"
    }
   },
   "outputs": [],
   "source": [
    "class PEGParser(PEGParser):\n",
    "    def unify_key(self, key, text, at=0):\n",
    "        if self.log:\n",
    "            print(\"unify_key: %s with %s\" % (repr(key), repr(text[at:])))\n",
    "        if key not in self.cgrammar:\n",
    "            if text[at:].startswith(key):\n",
    "                return at + len(key), (key, [])\n",
    "            else:\n",
    "                return at, None\n",
    "        for rule in self.cgrammar[key]:\n",
    "            to, res = self.unify_rule(rule, text, at)\n",
    "            if res:\n",
    "                return (to, (key, res))\n",
    "        return 0, None"
   ]
  },
  {
   "cell_type": "code",
   "execution_count": 50,
   "metadata": {
    "slideshow": {
     "slide_type": "subslide"
    }
   },
   "outputs": [
    {
     "name": "stdout",
     "output_type": "stream",
     "text": [
      "unify_key: '1' with '1'\n"
     ]
    },
    {
     "data": {
      "text/plain": [
       "(1, ('1', []))"
      ]
     },
     "execution_count": 50,
     "metadata": {},
     "output_type": "execute_result"
    }
   ],
   "source": [
    "mystring = \"1\"\n",
    "peg = PEGParser(EXPR_GRAMMAR, log=True)\n",
    "peg.unify_key('1', mystring)"
   ]
  },
  {
   "cell_type": "code",
   "execution_count": 51,
   "metadata": {
    "slideshow": {
     "slide_type": "fragment"
    }
   },
   "outputs": [
    {
     "name": "stdout",
     "output_type": "stream",
     "text": [
      "unify_key: '1' with '2'\n"
     ]
    },
    {
     "data": {
      "text/plain": [
       "(0, None)"
      ]
     },
     "execution_count": 51,
     "metadata": {},
     "output_type": "execute_result"
    }
   ],
   "source": [
    "mystring = \"2\"\n",
    "peg.unify_key('1', mystring)"
   ]
  },
  {
   "cell_type": "markdown",
   "metadata": {
    "slideshow": {
     "slide_type": "notes"
    }
   },
   "source": [
    "#### Unify Rule\n",
    "\n",
    "The `unify_rule()` method is similar. It retrieves the tokens corresponding to the rule that it needs to unify with the text, and calls `unify_key()` on them in sequence. If **all** tokens are successfully unified with the text, the parse is a success."
   ]
  },
  {
   "cell_type": "code",
   "execution_count": 52,
   "metadata": {
    "slideshow": {
     "slide_type": "subslide"
    }
   },
   "outputs": [],
   "source": [
    "class PEGParser(PEGParser):\n",
    "    def unify_rule(self, rule, text, at):\n",
    "        if self.log:\n",
    "            print('unify_rule: %s with %s' % (repr(rule), repr(text[at:])))\n",
    "        results = []\n",
    "        for token in rule:\n",
    "            at, res = self.unify_key(token, text, at)\n",
    "            if res is None:\n",
    "                return at, None\n",
    "            results.append(res)\n",
    "        return at, results"
   ]
  },
  {
   "cell_type": "code",
   "execution_count": 53,
   "metadata": {
    "slideshow": {
     "slide_type": "subslide"
    }
   },
   "outputs": [
    {
     "name": "stdout",
     "output_type": "stream",
     "text": [
      "unify_rule: ['0'] with '0'\n",
      "unify_key: '0' with '0'\n"
     ]
    },
    {
     "data": {
      "text/plain": [
       "(1, [('0', [])])"
      ]
     },
     "execution_count": 53,
     "metadata": {},
     "output_type": "execute_result"
    }
   ],
   "source": [
    "mystring = \"0\"\n",
    "peg = PEGParser(EXPR_GRAMMAR, log=True)\n",
    "peg.unify_rule(peg.cgrammar['<digit>'][0], mystring, 0)"
   ]
  },
  {
   "cell_type": "code",
   "execution_count": 54,
   "metadata": {
    "slideshow": {
     "slide_type": "subslide"
    }
   },
   "outputs": [
    {
     "name": "stdout",
     "output_type": "stream",
     "text": [
      "unify_rule: ['<digit>', '<integer>'] with '12'\n",
      "unify_key: '<digit>' with '12'\n",
      "unify_rule: ['0'] with '12'\n",
      "unify_key: '0' with '12'\n",
      "unify_rule: ['1'] with '12'\n",
      "unify_key: '1' with '12'\n",
      "unify_key: '<integer>' with '2'\n",
      "unify_rule: ['<digit>', '<integer>'] with '2'\n",
      "unify_key: '<digit>' with '2'\n",
      "unify_rule: ['0'] with '2'\n",
      "unify_key: '0' with '2'\n",
      "unify_rule: ['1'] with '2'\n",
      "unify_key: '1' with '2'\n",
      "unify_rule: ['2'] with '2'\n",
      "unify_key: '2' with '2'\n",
      "unify_key: '<integer>' with ''\n",
      "unify_rule: ['<digit>', '<integer>'] with ''\n",
      "unify_key: '<digit>' with ''\n",
      "unify_rule: ['0'] with ''\n",
      "unify_key: '0' with ''\n",
      "unify_rule: ['1'] with ''\n",
      "unify_key: '1' with ''\n",
      "unify_rule: ['2'] with ''\n",
      "unify_key: '2' with ''\n",
      "unify_rule: ['3'] with ''\n",
      "unify_key: '3' with ''\n",
      "unify_rule: ['4'] with ''\n",
      "unify_key: '4' with ''\n",
      "unify_rule: ['5'] with ''\n",
      "unify_key: '5' with ''\n",
      "unify_rule: ['6'] with ''\n",
      "unify_key: '6' with ''\n",
      "unify_rule: ['7'] with ''\n",
      "unify_key: '7' with ''\n",
      "unify_rule: ['8'] with ''\n",
      "unify_key: '8' with ''\n",
      "unify_rule: ['9'] with ''\n",
      "unify_key: '9' with ''\n",
      "unify_rule: ['<digit>'] with ''\n",
      "unify_key: '<digit>' with ''\n",
      "unify_rule: ['0'] with ''\n",
      "unify_key: '0' with ''\n",
      "unify_rule: ['1'] with ''\n",
      "unify_key: '1' with ''\n",
      "unify_rule: ['2'] with ''\n",
      "unify_key: '2' with ''\n",
      "unify_rule: ['3'] with ''\n",
      "unify_key: '3' with ''\n",
      "unify_rule: ['4'] with ''\n",
      "unify_key: '4' with ''\n",
      "unify_rule: ['5'] with ''\n",
      "unify_key: '5' with ''\n",
      "unify_rule: ['6'] with ''\n",
      "unify_key: '6' with ''\n",
      "unify_rule: ['7'] with ''\n",
      "unify_key: '7' with ''\n",
      "unify_rule: ['8'] with ''\n",
      "unify_key: '8' with ''\n",
      "unify_rule: ['9'] with ''\n",
      "unify_key: '9' with ''\n",
      "unify_rule: ['<digit>'] with '2'\n",
      "unify_key: '<digit>' with '2'\n",
      "unify_rule: ['0'] with '2'\n",
      "unify_key: '0' with '2'\n",
      "unify_rule: ['1'] with '2'\n",
      "unify_key: '1' with '2'\n",
      "unify_rule: ['2'] with '2'\n",
      "unify_key: '2' with '2'\n"
     ]
    },
    {
     "data": {
      "text/plain": [
       "(2, [('<digit>', [('1', [])]), ('<integer>', [('<digit>', [('2', [])])])])"
      ]
     },
     "execution_count": 54,
     "metadata": {},
     "output_type": "execute_result"
    }
   ],
   "source": [
    "mystring = \"12\"\n",
    "peg.unify_rule(peg.cgrammar['<integer>'][0], mystring, 0)"
   ]
  },
  {
   "cell_type": "code",
   "execution_count": 55,
   "metadata": {
    "slideshow": {
     "slide_type": "subslide"
    }
   },
   "outputs": [
    {
     "data": {
      "text/plain": [
       "[('<start>',\n",
       "  [('<expr>',\n",
       "    [('<term>', [('<factor>', [('<integer>', [('<digit>', [('1', [])])])])]),\n",
       "     (' + ', []),\n",
       "     ('<expr>',\n",
       "      [('<term>',\n",
       "        [('<factor>', [('<integer>', [('<digit>', [('2', [])])])])])])])])]"
      ]
     },
     "execution_count": 55,
     "metadata": {},
     "output_type": "execute_result"
    }
   ],
   "source": [
    "mystring = \"1 + 2\"\n",
    "peg = PEGParser(EXPR_GRAMMAR, log=False)\n",
    "peg.parse(mystring)"
   ]
  },
  {
   "cell_type": "markdown",
   "metadata": {
    "slideshow": {
     "slide_type": "notes"
    }
   },
   "source": [
    "The two methods are mutually recursive, and given that `unify_key()` tries each alternative until it succeeds, `unify_key` can be called multiple times with the same arguments. Hence, it is important to memoize the results of `unify_key`. Python provides a simple decorator `lru_cache` for memoizing any function call that has hashable arguments. We add that to our implementation so that repeated calls to `unify_key()` with the same argument get cached results.\n",
    "\n",
    "This memoization gives the algorithm its name – _Packrat_."
   ]
  },
  {
   "cell_type": "code",
   "execution_count": 56,
   "metadata": {
    "slideshow": {
     "slide_type": "skip"
    }
   },
   "outputs": [],
   "source": [
    "from functools import lru_cache"
   ]
  },
  {
   "cell_type": "code",
   "execution_count": 57,
   "metadata": {
    "slideshow": {
     "slide_type": "subslide"
    }
   },
   "outputs": [],
   "source": [
    "class PEGParser(PEGParser):\n",
    "    @lru_cache(maxsize=None)\n",
    "    def unify_key(self, key, text, at=0):\n",
    "        if key not in self.cgrammar:\n",
    "            if text[at:].startswith(key):\n",
    "                return at + len(key), (key, [])\n",
    "            else:\n",
    "                return at, None\n",
    "        for rule in self.cgrammar[key]:\n",
    "            to, res = self.unify_rule(rule, text, at)\n",
    "            if res:\n",
    "                return (to, (key, res))\n",
    "        return 0, None"
   ]
  },
  {
   "cell_type": "markdown",
   "metadata": {
    "slideshow": {
     "slide_type": "notes"
    }
   },
   "source": [
    "We wrap initialization and calling of `PEGParser` in a method `parse()` already implemented in the `Parser` base class that accepts the text to be parsed along with the grammar."
   ]
  },
  {
   "cell_type": "markdown",
   "metadata": {
    "slideshow": {
     "slide_type": "notes"
    }
   },
   "source": [
    "Here are a few examples of our parser in action."
   ]
  },
  {
   "cell_type": "code",
   "execution_count": 58,
   "metadata": {
    "slideshow": {
     "slide_type": "subslide"
    }
   },
   "outputs": [
    {
     "data": {
      "image/svg+xml": [
       "<?xml version=\"1.0\" encoding=\"UTF-8\" standalone=\"no\"?>\n",
       "<!DOCTYPE svg PUBLIC \"-//W3C//DTD SVG 1.1//EN\"\n",
       " \"http://www.w3.org/Graphics/SVG/1.1/DTD/svg11.dtd\">\n",
       "<!-- Generated by graphviz version 2.40.1 (20161225.0304)\n",
       " -->\n",
       "<!-- Title: %3 Pages: 1 -->\n",
       "<svg width=\"203pt\" height=\"584pt\"\n",
       " viewBox=\"0.00 0.00 203.00 584.00\" xmlns=\"http://www.w3.org/2000/svg\" xmlns:xlink=\"http://www.w3.org/1999/xlink\">\n",
       "<g id=\"graph0\" class=\"graph\" transform=\"scale(1 1) rotate(0) translate(4 580)\">\n",
       "<title>%3</title>\n",
       "<polygon fill=\"#ffffff\" stroke=\"transparent\" points=\"-4,4 -4,-580 199,-580 199,4 -4,4\"/>\n",
       "<!-- 0 -->\n",
       "<g id=\"node1\" class=\"node\">\n",
       "<title>0</title>\n",
       "<text text-anchor=\"middle\" x=\"74.5\" y=\"-564.8\" font-family=\"Times,serif\" font-size=\"14.00\" fill=\"#000000\">&lt;start&gt;</text>\n",
       "</g>\n",
       "<!-- 1 -->\n",
       "<g id=\"node2\" class=\"node\">\n",
       "<title>1</title>\n",
       "<text text-anchor=\"middle\" x=\"74.5\" y=\"-513.8\" font-family=\"Times,serif\" font-size=\"14.00\" fill=\"#000000\">&lt;expr&gt;</text>\n",
       "</g>\n",
       "<!-- 0&#45;&gt;1 -->\n",
       "<g id=\"edge1\" class=\"edge\">\n",
       "<title>0&#45;&gt;1</title>\n",
       "<path fill=\"none\" stroke=\"#000000\" d=\"M74.5,-560.9748C74.5,-554.195 74.5,-543.966 74.5,-535.1331\"/>\n",
       "<polygon fill=\"#000000\" stroke=\"#000000\" points=\"78.0001,-535.0561 74.5,-525.0561 71.0001,-535.0561 78.0001,-535.0561\"/>\n",
       "</g>\n",
       "<!-- 2 -->\n",
       "<g id=\"node3\" class=\"node\">\n",
       "<title>2</title>\n",
       "<text text-anchor=\"middle\" x=\"27.5\" y=\"-462.8\" font-family=\"Times,serif\" font-size=\"14.00\" fill=\"#000000\">&lt;term&gt;</text>\n",
       "</g>\n",
       "<!-- 1&#45;&gt;2 -->\n",
       "<g id=\"edge2\" class=\"edge\">\n",
       "<title>1&#45;&gt;2</title>\n",
       "<path fill=\"none\" stroke=\"#000000\" d=\"M67.565,-509.9748C60.6921,-502.517 49.9731,-490.8857 41.3512,-481.53\"/>\n",
       "<polygon fill=\"#000000\" stroke=\"#000000\" points=\"43.8141,-479.0378 34.4635,-474.0561 38.6666,-483.7816 43.8141,-479.0378\"/>\n",
       "</g>\n",
       "<!-- 7 -->\n",
       "<g id=\"node8\" class=\"node\">\n",
       "<title>7</title>\n",
       "<text text-anchor=\"middle\" x=\"74.5\" y=\"-462.8\" font-family=\"Times,serif\" font-size=\"14.00\" fill=\"#000000\"> + </text>\n",
       "</g>\n",
       "<!-- 1&#45;&gt;7 -->\n",
       "<g id=\"edge7\" class=\"edge\">\n",
       "<title>1&#45;&gt;7</title>\n",
       "<path fill=\"none\" stroke=\"#000000\" d=\"M74.5,-509.9748C74.5,-503.195 74.5,-492.966 74.5,-484.1331\"/>\n",
       "<polygon fill=\"#000000\" stroke=\"#000000\" points=\"78.0001,-484.0561 74.5,-474.0561 71.0001,-484.0561 78.0001,-484.0561\"/>\n",
       "</g>\n",
       "<!-- 8 -->\n",
       "<g id=\"node9\" class=\"node\">\n",
       "<title>8</title>\n",
       "<text text-anchor=\"middle\" x=\"120.5\" y=\"-462.8\" font-family=\"Times,serif\" font-size=\"14.00\" fill=\"#000000\">&lt;expr&gt;</text>\n",
       "</g>\n",
       "<!-- 1&#45;&gt;8 -->\n",
       "<g id=\"edge8\" class=\"edge\">\n",
       "<title>1&#45;&gt;8</title>\n",
       "<path fill=\"none\" stroke=\"#000000\" d=\"M81.2875,-509.9748C88.0141,-502.517 98.505,-490.8857 106.9436,-481.53\"/>\n",
       "<polygon fill=\"#000000\" stroke=\"#000000\" points=\"109.586,-483.826 113.6847,-474.0561 104.388,-479.1376 109.586,-483.826\"/>\n",
       "</g>\n",
       "<!-- 3 -->\n",
       "<g id=\"node4\" class=\"node\">\n",
       "<title>3</title>\n",
       "<text text-anchor=\"middle\" x=\"27.5\" y=\"-411.8\" font-family=\"Times,serif\" font-size=\"14.00\" fill=\"#000000\">&lt;factor&gt;</text>\n",
       "</g>\n",
       "<!-- 2&#45;&gt;3 -->\n",
       "<g id=\"edge3\" class=\"edge\">\n",
       "<title>2&#45;&gt;3</title>\n",
       "<path fill=\"none\" stroke=\"#000000\" d=\"M27.5,-458.9748C27.5,-452.195 27.5,-441.966 27.5,-433.1331\"/>\n",
       "<polygon fill=\"#000000\" stroke=\"#000000\" points=\"31.0001,-433.0561 27.5,-423.0561 24.0001,-433.0561 31.0001,-433.0561\"/>\n",
       "</g>\n",
       "<!-- 4 -->\n",
       "<g id=\"node5\" class=\"node\">\n",
       "<title>4</title>\n",
       "<text text-anchor=\"middle\" x=\"27.5\" y=\"-360.8\" font-family=\"Times,serif\" font-size=\"14.00\" fill=\"#000000\">&lt;integer&gt;</text>\n",
       "</g>\n",
       "<!-- 3&#45;&gt;4 -->\n",
       "<g id=\"edge4\" class=\"edge\">\n",
       "<title>3&#45;&gt;4</title>\n",
       "<path fill=\"none\" stroke=\"#000000\" d=\"M27.5,-407.9748C27.5,-401.195 27.5,-390.966 27.5,-382.1331\"/>\n",
       "<polygon fill=\"#000000\" stroke=\"#000000\" points=\"31.0001,-382.0561 27.5,-372.0561 24.0001,-382.0561 31.0001,-382.0561\"/>\n",
       "</g>\n",
       "<!-- 5 -->\n",
       "<g id=\"node6\" class=\"node\">\n",
       "<title>5</title>\n",
       "<text text-anchor=\"middle\" x=\"27.5\" y=\"-309.8\" font-family=\"Times,serif\" font-size=\"14.00\" fill=\"#000000\">&lt;digit&gt;</text>\n",
       "</g>\n",
       "<!-- 4&#45;&gt;5 -->\n",
       "<g id=\"edge5\" class=\"edge\">\n",
       "<title>4&#45;&gt;5</title>\n",
       "<path fill=\"none\" stroke=\"#000000\" d=\"M27.5,-356.9748C27.5,-350.195 27.5,-339.966 27.5,-331.1331\"/>\n",
       "<polygon fill=\"#000000\" stroke=\"#000000\" points=\"31.0001,-331.0561 27.5,-321.0561 24.0001,-331.0561 31.0001,-331.0561\"/>\n",
       "</g>\n",
       "<!-- 6 -->\n",
       "<g id=\"node7\" class=\"node\">\n",
       "<title>6</title>\n",
       "<text text-anchor=\"middle\" x=\"27.5\" y=\"-258.8\" font-family=\"Times,serif\" font-size=\"14.00\" fill=\"#000000\">1</text>\n",
       "</g>\n",
       "<!-- 5&#45;&gt;6 -->\n",
       "<g id=\"edge6\" class=\"edge\">\n",
       "<title>5&#45;&gt;6</title>\n",
       "<path fill=\"none\" stroke=\"#000000\" d=\"M27.5,-305.9748C27.5,-299.195 27.5,-288.966 27.5,-280.1331\"/>\n",
       "<polygon fill=\"#000000\" stroke=\"#000000\" points=\"31.0001,-280.0561 27.5,-270.0561 24.0001,-280.0561 31.0001,-280.0561\"/>\n",
       "</g>\n",
       "<!-- 9 -->\n",
       "<g id=\"node10\" class=\"node\">\n",
       "<title>9</title>\n",
       "<text text-anchor=\"middle\" x=\"120.5\" y=\"-411.8\" font-family=\"Times,serif\" font-size=\"14.00\" fill=\"#000000\">&lt;term&gt;</text>\n",
       "</g>\n",
       "<!-- 8&#45;&gt;9 -->\n",
       "<g id=\"edge9\" class=\"edge\">\n",
       "<title>8&#45;&gt;9</title>\n",
       "<path fill=\"none\" stroke=\"#000000\" d=\"M120.5,-458.9748C120.5,-452.195 120.5,-441.966 120.5,-433.1331\"/>\n",
       "<polygon fill=\"#000000\" stroke=\"#000000\" points=\"124.0001,-433.0561 120.5,-423.0561 117.0001,-433.0561 124.0001,-433.0561\"/>\n",
       "</g>\n",
       "<!-- 10 -->\n",
       "<g id=\"node11\" class=\"node\">\n",
       "<title>10</title>\n",
       "<text text-anchor=\"middle\" x=\"120.5\" y=\"-360.8\" font-family=\"Times,serif\" font-size=\"14.00\" fill=\"#000000\">&lt;factor&gt;</text>\n",
       "</g>\n",
       "<!-- 9&#45;&gt;10 -->\n",
       "<g id=\"edge10\" class=\"edge\">\n",
       "<title>9&#45;&gt;10</title>\n",
       "<path fill=\"none\" stroke=\"#000000\" d=\"M120.5,-407.9748C120.5,-401.195 120.5,-390.966 120.5,-382.1331\"/>\n",
       "<polygon fill=\"#000000\" stroke=\"#000000\" points=\"124.0001,-382.0561 120.5,-372.0561 117.0001,-382.0561 124.0001,-382.0561\"/>\n",
       "</g>\n",
       "<!-- 11 -->\n",
       "<g id=\"node12\" class=\"node\">\n",
       "<title>11</title>\n",
       "<text text-anchor=\"middle\" x=\"79.5\" y=\"-309.8\" font-family=\"Times,serif\" font-size=\"14.00\" fill=\"#000000\">(</text>\n",
       "</g>\n",
       "<!-- 10&#45;&gt;11 -->\n",
       "<g id=\"edge11\" class=\"edge\">\n",
       "<title>10&#45;&gt;11</title>\n",
       "<path fill=\"none\" stroke=\"#000000\" d=\"M114.4503,-356.9748C107.6341,-348.4961 96.4814,-334.6232 88.6104,-324.8324\"/>\n",
       "<polygon fill=\"#000000\" stroke=\"#000000\" points=\"91.1088,-322.3541 82.1154,-316.7533 85.6531,-326.74 91.1088,-322.3541\"/>\n",
       "</g>\n",
       "<!-- 12 -->\n",
       "<g id=\"node13\" class=\"node\">\n",
       "<title>12</title>\n",
       "<text text-anchor=\"middle\" x=\"120.5\" y=\"-309.8\" font-family=\"Times,serif\" font-size=\"14.00\" fill=\"#000000\">&lt;expr&gt;</text>\n",
       "</g>\n",
       "<!-- 10&#45;&gt;12 -->\n",
       "<g id=\"edge12\" class=\"edge\">\n",
       "<title>10&#45;&gt;12</title>\n",
       "<path fill=\"none\" stroke=\"#000000\" d=\"M120.5,-356.9748C120.5,-350.195 120.5,-339.966 120.5,-331.1331\"/>\n",
       "<polygon fill=\"#000000\" stroke=\"#000000\" points=\"124.0001,-331.0561 120.5,-321.0561 117.0001,-331.0561 124.0001,-331.0561\"/>\n",
       "</g>\n",
       "<!-- 24 -->\n",
       "<g id=\"node25\" class=\"node\">\n",
       "<title>24</title>\n",
       "<text text-anchor=\"middle\" x=\"161.5\" y=\"-309.8\" font-family=\"Times,serif\" font-size=\"14.00\" fill=\"#000000\">)</text>\n",
       "</g>\n",
       "<!-- 10&#45;&gt;24 -->\n",
       "<g id=\"edge24\" class=\"edge\">\n",
       "<title>10&#45;&gt;24</title>\n",
       "<path fill=\"none\" stroke=\"#000000\" d=\"M126.5497,-356.9748C133.3659,-348.4961 144.5186,-334.6232 152.3896,-324.8324\"/>\n",
       "<polygon fill=\"#000000\" stroke=\"#000000\" points=\"155.3469,-326.74 158.8846,-316.7533 149.8912,-322.3541 155.3469,-326.74\"/>\n",
       "</g>\n",
       "<!-- 13 -->\n",
       "<g id=\"node14\" class=\"node\">\n",
       "<title>13</title>\n",
       "<text text-anchor=\"middle\" x=\"120.5\" y=\"-258.8\" font-family=\"Times,serif\" font-size=\"14.00\" fill=\"#000000\">&lt;term&gt;</text>\n",
       "</g>\n",
       "<!-- 12&#45;&gt;13 -->\n",
       "<g id=\"edge13\" class=\"edge\">\n",
       "<title>12&#45;&gt;13</title>\n",
       "<path fill=\"none\" stroke=\"#000000\" d=\"M120.5,-305.9748C120.5,-299.195 120.5,-288.966 120.5,-280.1331\"/>\n",
       "<polygon fill=\"#000000\" stroke=\"#000000\" points=\"124.0001,-280.0561 120.5,-270.0561 117.0001,-280.0561 124.0001,-280.0561\"/>\n",
       "</g>\n",
       "<!-- 14 -->\n",
       "<g id=\"node15\" class=\"node\">\n",
       "<title>14</title>\n",
       "<text text-anchor=\"middle\" x=\"70.5\" y=\"-207.8\" font-family=\"Times,serif\" font-size=\"14.00\" fill=\"#000000\">&lt;factor&gt;</text>\n",
       "</g>\n",
       "<!-- 13&#45;&gt;14 -->\n",
       "<g id=\"edge14\" class=\"edge\">\n",
       "<title>13&#45;&gt;14</title>\n",
       "<path fill=\"none\" stroke=\"#000000\" d=\"M113.1223,-254.9748C105.7369,-247.4417 94.1768,-235.6503 84.958,-226.2472\"/>\n",
       "<polygon fill=\"#000000\" stroke=\"#000000\" points=\"87.4079,-223.7466 77.9079,-219.0561 82.4094,-228.6471 87.4079,-223.7466\"/>\n",
       "</g>\n",
       "<!-- 18 -->\n",
       "<g id=\"node19\" class=\"node\">\n",
       "<title>18</title>\n",
       "<text text-anchor=\"middle\" x=\"120.5\" y=\"-207.8\" font-family=\"Times,serif\" font-size=\"14.00\" fill=\"#000000\"> * </text>\n",
       "</g>\n",
       "<!-- 13&#45;&gt;18 -->\n",
       "<g id=\"edge18\" class=\"edge\">\n",
       "<title>13&#45;&gt;18</title>\n",
       "<path fill=\"none\" stroke=\"#000000\" d=\"M120.5,-254.9748C120.5,-248.195 120.5,-237.966 120.5,-229.1331\"/>\n",
       "<polygon fill=\"#000000\" stroke=\"#000000\" points=\"124.0001,-229.0561 120.5,-219.0561 117.0001,-229.0561 124.0001,-229.0561\"/>\n",
       "</g>\n",
       "<!-- 19 -->\n",
       "<g id=\"node20\" class=\"node\">\n",
       "<title>19</title>\n",
       "<text text-anchor=\"middle\" x=\"167.5\" y=\"-207.8\" font-family=\"Times,serif\" font-size=\"14.00\" fill=\"#000000\">&lt;term&gt;</text>\n",
       "</g>\n",
       "<!-- 13&#45;&gt;19 -->\n",
       "<g id=\"edge19\" class=\"edge\">\n",
       "<title>13&#45;&gt;19</title>\n",
       "<path fill=\"none\" stroke=\"#000000\" d=\"M127.435,-254.9748C134.3079,-247.517 145.0269,-235.8857 153.6488,-226.53\"/>\n",
       "<polygon fill=\"#000000\" stroke=\"#000000\" points=\"156.3334,-228.7816 160.5365,-219.0561 151.1859,-224.0378 156.3334,-228.7816\"/>\n",
       "</g>\n",
       "<!-- 15 -->\n",
       "<g id=\"node16\" class=\"node\">\n",
       "<title>15</title>\n",
       "<text text-anchor=\"middle\" x=\"70.5\" y=\"-156.8\" font-family=\"Times,serif\" font-size=\"14.00\" fill=\"#000000\">&lt;integer&gt;</text>\n",
       "</g>\n",
       "<!-- 14&#45;&gt;15 -->\n",
       "<g id=\"edge15\" class=\"edge\">\n",
       "<title>14&#45;&gt;15</title>\n",
       "<path fill=\"none\" stroke=\"#000000\" d=\"M70.5,-203.9748C70.5,-197.195 70.5,-186.966 70.5,-178.1331\"/>\n",
       "<polygon fill=\"#000000\" stroke=\"#000000\" points=\"74.0001,-178.0561 70.5,-168.0561 67.0001,-178.0561 74.0001,-178.0561\"/>\n",
       "</g>\n",
       "<!-- 16 -->\n",
       "<g id=\"node17\" class=\"node\">\n",
       "<title>16</title>\n",
       "<text text-anchor=\"middle\" x=\"70.5\" y=\"-105.8\" font-family=\"Times,serif\" font-size=\"14.00\" fill=\"#000000\">&lt;digit&gt;</text>\n",
       "</g>\n",
       "<!-- 15&#45;&gt;16 -->\n",
       "<g id=\"edge16\" class=\"edge\">\n",
       "<title>15&#45;&gt;16</title>\n",
       "<path fill=\"none\" stroke=\"#000000\" d=\"M70.5,-152.9748C70.5,-146.195 70.5,-135.966 70.5,-127.1331\"/>\n",
       "<polygon fill=\"#000000\" stroke=\"#000000\" points=\"74.0001,-127.0561 70.5,-117.0561 67.0001,-127.0561 74.0001,-127.0561\"/>\n",
       "</g>\n",
       "<!-- 17 -->\n",
       "<g id=\"node18\" class=\"node\">\n",
       "<title>17</title>\n",
       "<text text-anchor=\"middle\" x=\"70.5\" y=\"-54.8\" font-family=\"Times,serif\" font-size=\"14.00\" fill=\"#000000\">2</text>\n",
       "</g>\n",
       "<!-- 16&#45;&gt;17 -->\n",
       "<g id=\"edge17\" class=\"edge\">\n",
       "<title>16&#45;&gt;17</title>\n",
       "<path fill=\"none\" stroke=\"#000000\" d=\"M70.5,-101.9748C70.5,-95.195 70.5,-84.966 70.5,-76.1331\"/>\n",
       "<polygon fill=\"#000000\" stroke=\"#000000\" points=\"74.0001,-76.0561 70.5,-66.0561 67.0001,-76.0561 74.0001,-76.0561\"/>\n",
       "</g>\n",
       "<!-- 20 -->\n",
       "<g id=\"node21\" class=\"node\">\n",
       "<title>20</title>\n",
       "<text text-anchor=\"middle\" x=\"167.5\" y=\"-156.8\" font-family=\"Times,serif\" font-size=\"14.00\" fill=\"#000000\">&lt;factor&gt;</text>\n",
       "</g>\n",
       "<!-- 19&#45;&gt;20 -->\n",
       "<g id=\"edge20\" class=\"edge\">\n",
       "<title>19&#45;&gt;20</title>\n",
       "<path fill=\"none\" stroke=\"#000000\" d=\"M167.5,-203.9748C167.5,-197.195 167.5,-186.966 167.5,-178.1331\"/>\n",
       "<polygon fill=\"#000000\" stroke=\"#000000\" points=\"171.0001,-178.0561 167.5,-168.0561 164.0001,-178.0561 171.0001,-178.0561\"/>\n",
       "</g>\n",
       "<!-- 21 -->\n",
       "<g id=\"node22\" class=\"node\">\n",
       "<title>21</title>\n",
       "<text text-anchor=\"middle\" x=\"167.5\" y=\"-105.8\" font-family=\"Times,serif\" font-size=\"14.00\" fill=\"#000000\">&lt;integer&gt;</text>\n",
       "</g>\n",
       "<!-- 20&#45;&gt;21 -->\n",
       "<g id=\"edge21\" class=\"edge\">\n",
       "<title>20&#45;&gt;21</title>\n",
       "<path fill=\"none\" stroke=\"#000000\" d=\"M167.5,-152.9748C167.5,-146.195 167.5,-135.966 167.5,-127.1331\"/>\n",
       "<polygon fill=\"#000000\" stroke=\"#000000\" points=\"171.0001,-127.0561 167.5,-117.0561 164.0001,-127.0561 171.0001,-127.0561\"/>\n",
       "</g>\n",
       "<!-- 22 -->\n",
       "<g id=\"node23\" class=\"node\">\n",
       "<title>22</title>\n",
       "<text text-anchor=\"middle\" x=\"167.5\" y=\"-54.8\" font-family=\"Times,serif\" font-size=\"14.00\" fill=\"#000000\">&lt;digit&gt;</text>\n",
       "</g>\n",
       "<!-- 21&#45;&gt;22 -->\n",
       "<g id=\"edge22\" class=\"edge\">\n",
       "<title>21&#45;&gt;22</title>\n",
       "<path fill=\"none\" stroke=\"#000000\" d=\"M167.5,-101.9748C167.5,-95.195 167.5,-84.966 167.5,-76.1331\"/>\n",
       "<polygon fill=\"#000000\" stroke=\"#000000\" points=\"171.0001,-76.0561 167.5,-66.0561 164.0001,-76.0561 171.0001,-76.0561\"/>\n",
       "</g>\n",
       "<!-- 23 -->\n",
       "<g id=\"node24\" class=\"node\">\n",
       "<title>23</title>\n",
       "<text text-anchor=\"middle\" x=\"167.5\" y=\"-3.8\" font-family=\"Times,serif\" font-size=\"14.00\" fill=\"#000000\">3</text>\n",
       "</g>\n",
       "<!-- 22&#45;&gt;23 -->\n",
       "<g id=\"edge23\" class=\"edge\">\n",
       "<title>22&#45;&gt;23</title>\n",
       "<path fill=\"none\" stroke=\"#000000\" d=\"M167.5,-50.9748C167.5,-44.195 167.5,-33.966 167.5,-25.1331\"/>\n",
       "<polygon fill=\"#000000\" stroke=\"#000000\" points=\"171.0001,-25.0561 167.5,-15.0561 164.0001,-25.0561 171.0001,-25.0561\"/>\n",
       "</g>\n",
       "</g>\n",
       "</svg>\n"
      ],
      "text/plain": [
       "<graphviz.dot.Digraph at 0x113efed68>"
      ]
     },
     "metadata": {},
     "output_type": "display_data"
    }
   ],
   "source": [
    "mystring = \"1 + (2 * 3)\"\n",
    "peg = PEGParser(EXPR_GRAMMAR)\n",
    "for tree in peg.parse(mystring):\n",
    "    assert tree_to_string(tree) == mystring\n",
    "    display_tree(tree)"
   ]
  },
  {
   "cell_type": "code",
   "execution_count": 59,
   "metadata": {
    "slideshow": {
     "slide_type": "subslide"
    }
   },
   "outputs": [
    {
     "data": {
      "image/svg+xml": [
       "<?xml version=\"1.0\" encoding=\"UTF-8\" standalone=\"no\"?>\n",
       "<!DOCTYPE svg PUBLIC \"-//W3C//DTD SVG 1.1//EN\"\n",
       " \"http://www.w3.org/Graphics/SVG/1.1/DTD/svg11.dtd\">\n",
       "<!-- Generated by graphviz version 2.40.1 (20161225.0304)\n",
       " -->\n",
       "<!-- Title: %3 Pages: 1 -->\n",
       "<svg width=\"308pt\" height=\"635pt\"\n",
       " viewBox=\"0.00 0.00 308.00 635.00\" xmlns=\"http://www.w3.org/2000/svg\" xmlns:xlink=\"http://www.w3.org/1999/xlink\">\n",
       "<g id=\"graph0\" class=\"graph\" transform=\"scale(1 1) rotate(0) translate(4 631)\">\n",
       "<title>%3</title>\n",
       "<polygon fill=\"#ffffff\" stroke=\"transparent\" points=\"-4,4 -4,-631 304,-631 304,4 -4,4\"/>\n",
       "<!-- 0 -->\n",
       "<g id=\"node1\" class=\"node\">\n",
       "<title>0</title>\n",
       "<text text-anchor=\"middle\" x=\"77.5\" y=\"-615.8\" font-family=\"Times,serif\" font-size=\"14.00\" fill=\"#000000\">&lt;start&gt;</text>\n",
       "</g>\n",
       "<!-- 1 -->\n",
       "<g id=\"node2\" class=\"node\">\n",
       "<title>1</title>\n",
       "<text text-anchor=\"middle\" x=\"77.5\" y=\"-564.8\" font-family=\"Times,serif\" font-size=\"14.00\" fill=\"#000000\">&lt;expr&gt;</text>\n",
       "</g>\n",
       "<!-- 0&#45;&gt;1 -->\n",
       "<g id=\"edge1\" class=\"edge\">\n",
       "<title>0&#45;&gt;1</title>\n",
       "<path fill=\"none\" stroke=\"#000000\" d=\"M77.5,-611.9748C77.5,-605.195 77.5,-594.966 77.5,-586.1331\"/>\n",
       "<polygon fill=\"#000000\" stroke=\"#000000\" points=\"81.0001,-586.0561 77.5,-576.0561 74.0001,-586.0561 81.0001,-586.0561\"/>\n",
       "</g>\n",
       "<!-- 2 -->\n",
       "<g id=\"node3\" class=\"node\">\n",
       "<title>2</title>\n",
       "<text text-anchor=\"middle\" x=\"77.5\" y=\"-513.8\" font-family=\"Times,serif\" font-size=\"14.00\" fill=\"#000000\">&lt;term&gt;</text>\n",
       "</g>\n",
       "<!-- 1&#45;&gt;2 -->\n",
       "<g id=\"edge2\" class=\"edge\">\n",
       "<title>1&#45;&gt;2</title>\n",
       "<path fill=\"none\" stroke=\"#000000\" d=\"M77.5,-560.9748C77.5,-554.195 77.5,-543.966 77.5,-535.1331\"/>\n",
       "<polygon fill=\"#000000\" stroke=\"#000000\" points=\"81.0001,-535.0561 77.5,-525.0561 74.0001,-535.0561 81.0001,-535.0561\"/>\n",
       "</g>\n",
       "<!-- 3 -->\n",
       "<g id=\"node4\" class=\"node\">\n",
       "<title>3</title>\n",
       "<text text-anchor=\"middle\" x=\"27.5\" y=\"-462.8\" font-family=\"Times,serif\" font-size=\"14.00\" fill=\"#000000\">&lt;factor&gt;</text>\n",
       "</g>\n",
       "<!-- 2&#45;&gt;3 -->\n",
       "<g id=\"edge3\" class=\"edge\">\n",
       "<title>2&#45;&gt;3</title>\n",
       "<path fill=\"none\" stroke=\"#000000\" d=\"M70.1223,-509.9748C62.7369,-502.4417 51.1768,-490.6503 41.958,-481.2472\"/>\n",
       "<polygon fill=\"#000000\" stroke=\"#000000\" points=\"44.4079,-478.7466 34.9079,-474.0561 39.4094,-483.6471 44.4079,-478.7466\"/>\n",
       "</g>\n",
       "<!-- 7 -->\n",
       "<g id=\"node8\" class=\"node\">\n",
       "<title>7</title>\n",
       "<text text-anchor=\"middle\" x=\"77.5\" y=\"-462.8\" font-family=\"Times,serif\" font-size=\"14.00\" fill=\"#000000\"> * </text>\n",
       "</g>\n",
       "<!-- 2&#45;&gt;7 -->\n",
       "<g id=\"edge7\" class=\"edge\">\n",
       "<title>2&#45;&gt;7</title>\n",
       "<path fill=\"none\" stroke=\"#000000\" d=\"M77.5,-509.9748C77.5,-503.195 77.5,-492.966 77.5,-484.1331\"/>\n",
       "<polygon fill=\"#000000\" stroke=\"#000000\" points=\"81.0001,-484.0561 77.5,-474.0561 74.0001,-484.0561 81.0001,-484.0561\"/>\n",
       "</g>\n",
       "<!-- 8 -->\n",
       "<g id=\"node9\" class=\"node\">\n",
       "<title>8</title>\n",
       "<text text-anchor=\"middle\" x=\"124.5\" y=\"-462.8\" font-family=\"Times,serif\" font-size=\"14.00\" fill=\"#000000\">&lt;term&gt;</text>\n",
       "</g>\n",
       "<!-- 2&#45;&gt;8 -->\n",
       "<g id=\"edge8\" class=\"edge\">\n",
       "<title>2&#45;&gt;8</title>\n",
       "<path fill=\"none\" stroke=\"#000000\" d=\"M84.435,-509.9748C91.3079,-502.517 102.0269,-490.8857 110.6488,-481.53\"/>\n",
       "<polygon fill=\"#000000\" stroke=\"#000000\" points=\"113.3334,-483.7816 117.5365,-474.0561 108.1859,-479.0378 113.3334,-483.7816\"/>\n",
       "</g>\n",
       "<!-- 4 -->\n",
       "<g id=\"node5\" class=\"node\">\n",
       "<title>4</title>\n",
       "<text text-anchor=\"middle\" x=\"27.5\" y=\"-411.8\" font-family=\"Times,serif\" font-size=\"14.00\" fill=\"#000000\">&lt;integer&gt;</text>\n",
       "</g>\n",
       "<!-- 3&#45;&gt;4 -->\n",
       "<g id=\"edge4\" class=\"edge\">\n",
       "<title>3&#45;&gt;4</title>\n",
       "<path fill=\"none\" stroke=\"#000000\" d=\"M27.5,-458.9748C27.5,-452.195 27.5,-441.966 27.5,-433.1331\"/>\n",
       "<polygon fill=\"#000000\" stroke=\"#000000\" points=\"31.0001,-433.0561 27.5,-423.0561 24.0001,-433.0561 31.0001,-433.0561\"/>\n",
       "</g>\n",
       "<!-- 5 -->\n",
       "<g id=\"node6\" class=\"node\">\n",
       "<title>5</title>\n",
       "<text text-anchor=\"middle\" x=\"27.5\" y=\"-360.8\" font-family=\"Times,serif\" font-size=\"14.00\" fill=\"#000000\">&lt;digit&gt;</text>\n",
       "</g>\n",
       "<!-- 4&#45;&gt;5 -->\n",
       "<g id=\"edge5\" class=\"edge\">\n",
       "<title>4&#45;&gt;5</title>\n",
       "<path fill=\"none\" stroke=\"#000000\" d=\"M27.5,-407.9748C27.5,-401.195 27.5,-390.966 27.5,-382.1331\"/>\n",
       "<polygon fill=\"#000000\" stroke=\"#000000\" points=\"31.0001,-382.0561 27.5,-372.0561 24.0001,-382.0561 31.0001,-382.0561\"/>\n",
       "</g>\n",
       "<!-- 6 -->\n",
       "<g id=\"node7\" class=\"node\">\n",
       "<title>6</title>\n",
       "<text text-anchor=\"middle\" x=\"27.5\" y=\"-309.8\" font-family=\"Times,serif\" font-size=\"14.00\" fill=\"#000000\">1</text>\n",
       "</g>\n",
       "<!-- 5&#45;&gt;6 -->\n",
       "<g id=\"edge6\" class=\"edge\">\n",
       "<title>5&#45;&gt;6</title>\n",
       "<path fill=\"none\" stroke=\"#000000\" d=\"M27.5,-356.9748C27.5,-350.195 27.5,-339.966 27.5,-331.1331\"/>\n",
       "<polygon fill=\"#000000\" stroke=\"#000000\" points=\"31.0001,-331.0561 27.5,-321.0561 24.0001,-331.0561 31.0001,-331.0561\"/>\n",
       "</g>\n",
       "<!-- 9 -->\n",
       "<g id=\"node10\" class=\"node\">\n",
       "<title>9</title>\n",
       "<text text-anchor=\"middle\" x=\"124.5\" y=\"-411.8\" font-family=\"Times,serif\" font-size=\"14.00\" fill=\"#000000\">&lt;factor&gt;</text>\n",
       "</g>\n",
       "<!-- 8&#45;&gt;9 -->\n",
       "<g id=\"edge9\" class=\"edge\">\n",
       "<title>8&#45;&gt;9</title>\n",
       "<path fill=\"none\" stroke=\"#000000\" d=\"M124.5,-458.9748C124.5,-452.195 124.5,-441.966 124.5,-433.1331\"/>\n",
       "<polygon fill=\"#000000\" stroke=\"#000000\" points=\"128.0001,-433.0561 124.5,-423.0561 121.0001,-433.0561 128.0001,-433.0561\"/>\n",
       "</g>\n",
       "<!-- 10 -->\n",
       "<g id=\"node11\" class=\"node\">\n",
       "<title>10</title>\n",
       "<text text-anchor=\"middle\" x=\"83.5\" y=\"-360.8\" font-family=\"Times,serif\" font-size=\"14.00\" fill=\"#000000\">(</text>\n",
       "</g>\n",
       "<!-- 9&#45;&gt;10 -->\n",
       "<g id=\"edge10\" class=\"edge\">\n",
       "<title>9&#45;&gt;10</title>\n",
       "<path fill=\"none\" stroke=\"#000000\" d=\"M118.4503,-407.9748C111.6341,-399.4961 100.4814,-385.6232 92.6104,-375.8324\"/>\n",
       "<polygon fill=\"#000000\" stroke=\"#000000\" points=\"95.1088,-373.3541 86.1154,-367.7533 89.6531,-377.74 95.1088,-373.3541\"/>\n",
       "</g>\n",
       "<!-- 11 -->\n",
       "<g id=\"node12\" class=\"node\">\n",
       "<title>11</title>\n",
       "<text text-anchor=\"middle\" x=\"124.5\" y=\"-360.8\" font-family=\"Times,serif\" font-size=\"14.00\" fill=\"#000000\">&lt;expr&gt;</text>\n",
       "</g>\n",
       "<!-- 9&#45;&gt;11 -->\n",
       "<g id=\"edge11\" class=\"edge\">\n",
       "<title>9&#45;&gt;11</title>\n",
       "<path fill=\"none\" stroke=\"#000000\" d=\"M124.5,-407.9748C124.5,-401.195 124.5,-390.966 124.5,-382.1331\"/>\n",
       "<polygon fill=\"#000000\" stroke=\"#000000\" points=\"128.0001,-382.0561 124.5,-372.0561 121.0001,-382.0561 128.0001,-382.0561\"/>\n",
       "</g>\n",
       "<!-- 31 -->\n",
       "<g id=\"node32\" class=\"node\">\n",
       "<title>31</title>\n",
       "<text text-anchor=\"middle\" x=\"165.5\" y=\"-360.8\" font-family=\"Times,serif\" font-size=\"14.00\" fill=\"#000000\">)</text>\n",
       "</g>\n",
       "<!-- 9&#45;&gt;31 -->\n",
       "<g id=\"edge31\" class=\"edge\">\n",
       "<title>9&#45;&gt;31</title>\n",
       "<path fill=\"none\" stroke=\"#000000\" d=\"M130.5497,-407.9748C137.3659,-399.4961 148.5186,-385.6232 156.3896,-375.8324\"/>\n",
       "<polygon fill=\"#000000\" stroke=\"#000000\" points=\"159.3469,-377.74 162.8846,-367.7533 153.8912,-373.3541 159.3469,-377.74\"/>\n",
       "</g>\n",
       "<!-- 12 -->\n",
       "<g id=\"node13\" class=\"node\">\n",
       "<title>12</title>\n",
       "<text text-anchor=\"middle\" x=\"76.5\" y=\"-309.8\" font-family=\"Times,serif\" font-size=\"14.00\" fill=\"#000000\">&lt;term&gt;</text>\n",
       "</g>\n",
       "<!-- 11&#45;&gt;12 -->\n",
       "<g id=\"edge12\" class=\"edge\">\n",
       "<title>11&#45;&gt;12</title>\n",
       "<path fill=\"none\" stroke=\"#000000\" d=\"M117.4174,-356.9748C110.3983,-349.517 99.4513,-337.8857 90.6459,-328.53\"/>\n",
       "<polygon fill=\"#000000\" stroke=\"#000000\" points=\"93.014,-325.9393 83.6116,-321.0561 87.9166,-330.7369 93.014,-325.9393\"/>\n",
       "</g>\n",
       "<!-- 17 -->\n",
       "<g id=\"node18\" class=\"node\">\n",
       "<title>17</title>\n",
       "<text text-anchor=\"middle\" x=\"124.5\" y=\"-309.8\" font-family=\"Times,serif\" font-size=\"14.00\" fill=\"#000000\"> + </text>\n",
       "</g>\n",
       "<!-- 11&#45;&gt;17 -->\n",
       "<g id=\"edge17\" class=\"edge\">\n",
       "<title>11&#45;&gt;17</title>\n",
       "<path fill=\"none\" stroke=\"#000000\" d=\"M124.5,-356.9748C124.5,-350.195 124.5,-339.966 124.5,-331.1331\"/>\n",
       "<polygon fill=\"#000000\" stroke=\"#000000\" points=\"128.0001,-331.0561 124.5,-321.0561 121.0001,-331.0561 128.0001,-331.0561\"/>\n",
       "</g>\n",
       "<!-- 18 -->\n",
       "<g id=\"node19\" class=\"node\">\n",
       "<title>18</title>\n",
       "<text text-anchor=\"middle\" x=\"171.5\" y=\"-309.8\" font-family=\"Times,serif\" font-size=\"14.00\" fill=\"#000000\">&lt;expr&gt;</text>\n",
       "</g>\n",
       "<!-- 11&#45;&gt;18 -->\n",
       "<g id=\"edge18\" class=\"edge\">\n",
       "<title>11&#45;&gt;18</title>\n",
       "<path fill=\"none\" stroke=\"#000000\" d=\"M131.435,-356.9748C138.3079,-349.517 149.0269,-337.8857 157.6488,-328.53\"/>\n",
       "<polygon fill=\"#000000\" stroke=\"#000000\" points=\"160.3334,-330.7816 164.5365,-321.0561 155.1859,-326.0378 160.3334,-330.7816\"/>\n",
       "</g>\n",
       "<!-- 13 -->\n",
       "<g id=\"node14\" class=\"node\">\n",
       "<title>13</title>\n",
       "<text text-anchor=\"middle\" x=\"76.5\" y=\"-258.8\" font-family=\"Times,serif\" font-size=\"14.00\" fill=\"#000000\">&lt;factor&gt;</text>\n",
       "</g>\n",
       "<!-- 12&#45;&gt;13 -->\n",
       "<g id=\"edge13\" class=\"edge\">\n",
       "<title>12&#45;&gt;13</title>\n",
       "<path fill=\"none\" stroke=\"#000000\" d=\"M76.5,-305.9748C76.5,-299.195 76.5,-288.966 76.5,-280.1331\"/>\n",
       "<polygon fill=\"#000000\" stroke=\"#000000\" points=\"80.0001,-280.0561 76.5,-270.0561 73.0001,-280.0561 80.0001,-280.0561\"/>\n",
       "</g>\n",
       "<!-- 14 -->\n",
       "<g id=\"node15\" class=\"node\">\n",
       "<title>14</title>\n",
       "<text text-anchor=\"middle\" x=\"71.5\" y=\"-207.8\" font-family=\"Times,serif\" font-size=\"14.00\" fill=\"#000000\">&lt;integer&gt;</text>\n",
       "</g>\n",
       "<!-- 13&#45;&gt;14 -->\n",
       "<g id=\"edge14\" class=\"edge\">\n",
       "<title>13&#45;&gt;14</title>\n",
       "<path fill=\"none\" stroke=\"#000000\" d=\"M75.7622,-254.9748C75.0975,-248.195 74.0947,-237.966 73.2287,-229.1331\"/>\n",
       "<polygon fill=\"#000000\" stroke=\"#000000\" points=\"76.6999,-228.6669 72.2408,-219.0561 69.7333,-229.3499 76.6999,-228.6669\"/>\n",
       "</g>\n",
       "<!-- 15 -->\n",
       "<g id=\"node16\" class=\"node\">\n",
       "<title>15</title>\n",
       "<text text-anchor=\"middle\" x=\"60.5\" y=\"-156.8\" font-family=\"Times,serif\" font-size=\"14.00\" fill=\"#000000\">&lt;digit&gt;</text>\n",
       "</g>\n",
       "<!-- 14&#45;&gt;15 -->\n",
       "<g id=\"edge15\" class=\"edge\">\n",
       "<title>14&#45;&gt;15</title>\n",
       "<path fill=\"none\" stroke=\"#000000\" d=\"M69.8769,-203.9748C68.3984,-197.1196 66.1592,-186.7383 64.2398,-177.8392\"/>\n",
       "<polygon fill=\"#000000\" stroke=\"#000000\" points=\"67.6595,-177.0934 62.1297,-168.0561 60.8169,-178.5693 67.6595,-177.0934\"/>\n",
       "</g>\n",
       "<!-- 16 -->\n",
       "<g id=\"node17\" class=\"node\">\n",
       "<title>16</title>\n",
       "<text text-anchor=\"middle\" x=\"60.5\" y=\"-105.8\" font-family=\"Times,serif\" font-size=\"14.00\" fill=\"#000000\">2</text>\n",
       "</g>\n",
       "<!-- 15&#45;&gt;16 -->\n",
       "<g id=\"edge16\" class=\"edge\">\n",
       "<title>15&#45;&gt;16</title>\n",
       "<path fill=\"none\" stroke=\"#000000\" d=\"M60.5,-152.9748C60.5,-146.195 60.5,-135.966 60.5,-127.1331\"/>\n",
       "<polygon fill=\"#000000\" stroke=\"#000000\" points=\"64.0001,-127.0561 60.5,-117.0561 57.0001,-127.0561 64.0001,-127.0561\"/>\n",
       "</g>\n",
       "<!-- 19 -->\n",
       "<g id=\"node20\" class=\"node\">\n",
       "<title>19</title>\n",
       "<text text-anchor=\"middle\" x=\"171.5\" y=\"-258.8\" font-family=\"Times,serif\" font-size=\"14.00\" fill=\"#000000\">&lt;term&gt;</text>\n",
       "</g>\n",
       "<!-- 18&#45;&gt;19 -->\n",
       "<g id=\"edge19\" class=\"edge\">\n",
       "<title>18&#45;&gt;19</title>\n",
       "<path fill=\"none\" stroke=\"#000000\" d=\"M171.5,-305.9748C171.5,-299.195 171.5,-288.966 171.5,-280.1331\"/>\n",
       "<polygon fill=\"#000000\" stroke=\"#000000\" points=\"175.0001,-280.0561 171.5,-270.0561 168.0001,-280.0561 175.0001,-280.0561\"/>\n",
       "</g>\n",
       "<!-- 20 -->\n",
       "<g id=\"node21\" class=\"node\">\n",
       "<title>20</title>\n",
       "<text text-anchor=\"middle\" x=\"174.5\" y=\"-207.8\" font-family=\"Times,serif\" font-size=\"14.00\" fill=\"#000000\">&lt;factor&gt;</text>\n",
       "</g>\n",
       "<!-- 19&#45;&gt;20 -->\n",
       "<g id=\"edge20\" class=\"edge\">\n",
       "<title>19&#45;&gt;20</title>\n",
       "<path fill=\"none\" stroke=\"#000000\" d=\"M171.9427,-254.9748C172.3415,-248.195 172.9432,-237.966 173.4628,-229.1331\"/>\n",
       "<polygon fill=\"#000000\" stroke=\"#000000\" points=\"176.9622,-229.2444 174.0555,-219.0561 169.9742,-228.8333 176.9622,-229.2444\"/>\n",
       "</g>\n",
       "<!-- 21 -->\n",
       "<g id=\"node22\" class=\"node\">\n",
       "<title>21</title>\n",
       "<text text-anchor=\"middle\" x=\"127.5\" y=\"-156.8\" font-family=\"Times,serif\" font-size=\"14.00\" fill=\"#000000\">&lt;integer&gt;</text>\n",
       "</g>\n",
       "<!-- 20&#45;&gt;21 -->\n",
       "<g id=\"edge21\" class=\"edge\">\n",
       "<title>20&#45;&gt;21</title>\n",
       "<path fill=\"none\" stroke=\"#000000\" d=\"M167.565,-203.9748C160.6921,-196.517 149.9731,-184.8857 141.3512,-175.53\"/>\n",
       "<polygon fill=\"#000000\" stroke=\"#000000\" points=\"143.8141,-173.0378 134.4635,-168.0561 138.6666,-177.7816 143.8141,-173.0378\"/>\n",
       "</g>\n",
       "<!-- 24 -->\n",
       "<g id=\"node25\" class=\"node\">\n",
       "<title>24</title>\n",
       "<text text-anchor=\"middle\" x=\"175.5\" y=\"-156.8\" font-family=\"Times,serif\" font-size=\"14.00\" fill=\"#000000\">.</text>\n",
       "</g>\n",
       "<!-- 20&#45;&gt;24 -->\n",
       "<g id=\"edge24\" class=\"edge\">\n",
       "<title>20&#45;&gt;24</title>\n",
       "<path fill=\"none\" stroke=\"#000000\" d=\"M174.6476,-203.9748C174.7805,-197.195 174.9811,-186.966 175.1543,-178.1331\"/>\n",
       "<polygon fill=\"#000000\" stroke=\"#000000\" points=\"178.655,-178.1228 175.3518,-168.0561 171.6564,-177.9855 178.655,-178.1228\"/>\n",
       "</g>\n",
       "<!-- 25 -->\n",
       "<g id=\"node26\" class=\"node\">\n",
       "<title>25</title>\n",
       "<text text-anchor=\"middle\" x=\"223.5\" y=\"-156.8\" font-family=\"Times,serif\" font-size=\"14.00\" fill=\"#000000\">&lt;integer&gt;</text>\n",
       "</g>\n",
       "<!-- 20&#45;&gt;25 -->\n",
       "<g id=\"edge25\" class=\"edge\">\n",
       "<title>20&#45;&gt;25</title>\n",
       "<path fill=\"none\" stroke=\"#000000\" d=\"M181.7301,-203.9748C188.8954,-196.517 200.0706,-184.8857 209.0594,-175.53\"/>\n",
       "<polygon fill=\"#000000\" stroke=\"#000000\" points=\"211.8358,-177.6921 216.2402,-168.0561 206.7881,-172.8423 211.8358,-177.6921\"/>\n",
       "</g>\n",
       "<!-- 22 -->\n",
       "<g id=\"node23\" class=\"node\">\n",
       "<title>22</title>\n",
       "<text text-anchor=\"middle\" x=\"127.5\" y=\"-105.8\" font-family=\"Times,serif\" font-size=\"14.00\" fill=\"#000000\">&lt;digit&gt;</text>\n",
       "</g>\n",
       "<!-- 21&#45;&gt;22 -->\n",
       "<g id=\"edge22\" class=\"edge\">\n",
       "<title>21&#45;&gt;22</title>\n",
       "<path fill=\"none\" stroke=\"#000000\" d=\"M127.5,-152.9748C127.5,-146.195 127.5,-135.966 127.5,-127.1331\"/>\n",
       "<polygon fill=\"#000000\" stroke=\"#000000\" points=\"131.0001,-127.0561 127.5,-117.0561 124.0001,-127.0561 131.0001,-127.0561\"/>\n",
       "</g>\n",
       "<!-- 23 -->\n",
       "<g id=\"node24\" class=\"node\">\n",
       "<title>23</title>\n",
       "<text text-anchor=\"middle\" x=\"127.5\" y=\"-54.8\" font-family=\"Times,serif\" font-size=\"14.00\" fill=\"#000000\">3</text>\n",
       "</g>\n",
       "<!-- 22&#45;&gt;23 -->\n",
       "<g id=\"edge23\" class=\"edge\">\n",
       "<title>22&#45;&gt;23</title>\n",
       "<path fill=\"none\" stroke=\"#000000\" d=\"M127.5,-101.9748C127.5,-95.195 127.5,-84.966 127.5,-76.1331\"/>\n",
       "<polygon fill=\"#000000\" stroke=\"#000000\" points=\"131.0001,-76.0561 127.5,-66.0561 124.0001,-76.0561 131.0001,-76.0561\"/>\n",
       "</g>\n",
       "<!-- 26 -->\n",
       "<g id=\"node27\" class=\"node\">\n",
       "<title>26</title>\n",
       "<text text-anchor=\"middle\" x=\"205.5\" y=\"-105.8\" font-family=\"Times,serif\" font-size=\"14.00\" fill=\"#000000\">&lt;digit&gt;</text>\n",
       "</g>\n",
       "<!-- 25&#45;&gt;26 -->\n",
       "<g id=\"edge26\" class=\"edge\">\n",
       "<title>25&#45;&gt;26</title>\n",
       "<path fill=\"none\" stroke=\"#000000\" d=\"M220.844,-152.9748C218.398,-146.0443 214.6799,-135.5097 211.5164,-126.5464\"/>\n",
       "<polygon fill=\"#000000\" stroke=\"#000000\" points=\"214.7956,-125.3211 208.1669,-117.0561 208.1947,-127.6509 214.7956,-125.3211\"/>\n",
       "</g>\n",
       "<!-- 28 -->\n",
       "<g id=\"node29\" class=\"node\">\n",
       "<title>28</title>\n",
       "<text text-anchor=\"middle\" x=\"272.5\" y=\"-105.8\" font-family=\"Times,serif\" font-size=\"14.00\" fill=\"#000000\">&lt;integer&gt;</text>\n",
       "</g>\n",
       "<!-- 25&#45;&gt;28 -->\n",
       "<g id=\"edge28\" class=\"edge\">\n",
       "<title>25&#45;&gt;28</title>\n",
       "<path fill=\"none\" stroke=\"#000000\" d=\"M230.7301,-152.9748C237.8954,-145.517 249.0706,-133.8857 258.0594,-124.53\"/>\n",
       "<polygon fill=\"#000000\" stroke=\"#000000\" points=\"260.8358,-126.6921 265.2402,-117.0561 255.7881,-121.8423 260.8358,-126.6921\"/>\n",
       "</g>\n",
       "<!-- 27 -->\n",
       "<g id=\"node28\" class=\"node\">\n",
       "<title>27</title>\n",
       "<text text-anchor=\"middle\" x=\"205.5\" y=\"-54.8\" font-family=\"Times,serif\" font-size=\"14.00\" fill=\"#000000\">3</text>\n",
       "</g>\n",
       "<!-- 26&#45;&gt;27 -->\n",
       "<g id=\"edge27\" class=\"edge\">\n",
       "<title>26&#45;&gt;27</title>\n",
       "<path fill=\"none\" stroke=\"#000000\" d=\"M205.5,-101.9748C205.5,-95.195 205.5,-84.966 205.5,-76.1331\"/>\n",
       "<polygon fill=\"#000000\" stroke=\"#000000\" points=\"209.0001,-76.0561 205.5,-66.0561 202.0001,-76.0561 209.0001,-76.0561\"/>\n",
       "</g>\n",
       "<!-- 29 -->\n",
       "<g id=\"node30\" class=\"node\">\n",
       "<title>29</title>\n",
       "<text text-anchor=\"middle\" x=\"272.5\" y=\"-54.8\" font-family=\"Times,serif\" font-size=\"14.00\" fill=\"#000000\">&lt;digit&gt;</text>\n",
       "</g>\n",
       "<!-- 28&#45;&gt;29 -->\n",
       "<g id=\"edge29\" class=\"edge\">\n",
       "<title>28&#45;&gt;29</title>\n",
       "<path fill=\"none\" stroke=\"#000000\" d=\"M272.5,-101.9748C272.5,-95.195 272.5,-84.966 272.5,-76.1331\"/>\n",
       "<polygon fill=\"#000000\" stroke=\"#000000\" points=\"276.0001,-76.0561 272.5,-66.0561 269.0001,-76.0561 276.0001,-76.0561\"/>\n",
       "</g>\n",
       "<!-- 30 -->\n",
       "<g id=\"node31\" class=\"node\">\n",
       "<title>30</title>\n",
       "<text text-anchor=\"middle\" x=\"272.5\" y=\"-3.8\" font-family=\"Times,serif\" font-size=\"14.00\" fill=\"#000000\">5</text>\n",
       "</g>\n",
       "<!-- 29&#45;&gt;30 -->\n",
       "<g id=\"edge30\" class=\"edge\">\n",
       "<title>29&#45;&gt;30</title>\n",
       "<path fill=\"none\" stroke=\"#000000\" d=\"M272.5,-50.9748C272.5,-44.195 272.5,-33.966 272.5,-25.1331\"/>\n",
       "<polygon fill=\"#000000\" stroke=\"#000000\" points=\"276.0001,-25.0561 272.5,-15.0561 269.0001,-25.0561 276.0001,-25.0561\"/>\n",
       "</g>\n",
       "</g>\n",
       "</svg>\n"
      ],
      "text/plain": [
       "<graphviz.dot.Digraph at 0x113efe5c0>"
      ]
     },
     "metadata": {},
     "output_type": "display_data"
    }
   ],
   "source": [
    "mystring = \"1 * (2 + 3.35)\"\n",
    "for tree in peg.parse(mystring):\n",
    "    assert tree_to_string(tree) == mystring\n",
    "    display_tree(tree)"
   ]
  },
  {
   "cell_type": "markdown",
   "metadata": {
    "slideshow": {
     "slide_type": "notes"
    }
   },
   "source": [
    "One should be aware that while the grammar looks like a *CFG*, the language described by a *PEG* may be different. Indeed, only *LL(1)* grammars are guaranteed to represent the same language for both PEGs and other parsers. Behavior of PEGs for other classes of grammars could be surprising \\cite{redziejowski2008}. "
   ]
  },
  {
   "cell_type": "markdown",
   "metadata": {
    "slideshow": {
     "slide_type": "fragment"
    }
   },
   "source": [
    "We previously showed how using fragments of existing data can help quite a bit with fuzzing. We now explore this idea in more detail."
   ]
  },
  {
   "cell_type": "markdown",
   "metadata": {
    "slideshow": {
     "slide_type": "slide"
    },
    "toc-hr-collapsed": true
   },
   "source": [
    "## Recombining Parsed Inputs"
   ]
  },
  {
   "cell_type": "markdown",
   "metadata": {
    "slideshow": {
     "slide_type": "notes"
    }
   },
   "source": [
    "Recombining parsed inputs was pioneered by _Langfuzz_ \\cite{Holler2012}. The main challenge is that program inputs often carry additional constraints beyond what is described by the syntax. For example, in Java, one needs to declare a variable (using a specific format for declaration) before it can be used in an expression. This restriction is not captured in the _Java CFG_. Checking for type correctness is another example for additional restrictions carried by program definitions."
   ]
  },
  {
   "cell_type": "markdown",
   "metadata": {
    "slideshow": {
     "slide_type": "notes"
    }
   },
   "source": [
    "When fuzzing compilers and interpreters, naive generation of programs using the language *CFG* often fails to achieve significant deeper coverage due to these kinds of checks external to the grammar. Holler et al. suggests using pre-existing valid code fragments to get around these restrictions. The idea is that the pre-existing valid code fragments already conform to the restrictions external to the grammar, and can often provide a means to evade validity checks."
   ]
  },
  {
   "cell_type": "markdown",
   "metadata": {
    "slideshow": {
     "slide_type": "subslide"
    }
   },
   "source": [
    "### A Grammar-based Mutational Fuzzer\n",
    "\n",
    "The idea is that one can treat the derivation tree of a preexisting program as the scaffolding, poke holes in it, and patch it with generated inputs from our grammar. Given below is a grammar for a language that allows assignment of variables."
   ]
  },
  {
   "cell_type": "code",
   "execution_count": 60,
   "metadata": {
    "slideshow": {
     "slide_type": "subslide"
    }
   },
   "outputs": [],
   "source": [
    "import string"
   ]
  },
  {
   "cell_type": "code",
   "execution_count": 61,
   "metadata": {
    "slideshow": {
     "slide_type": "skip"
    }
   },
   "outputs": [],
   "source": [
    "from Grammars import crange"
   ]
  },
  {
   "cell_type": "code",
   "execution_count": 62,
   "metadata": {
    "slideshow": {
     "slide_type": "subslide"
    }
   },
   "outputs": [],
   "source": [
    "VAR_GRAMMAR = {\n",
    "    '<start>': ['<statements>'],\n",
    "    '<statements>': ['<statement>;<statements>', '<statement>'],\n",
    "    '<statement>': ['<assignment>'],\n",
    "    '<assignment>': ['<identifier>=<expr>'],\n",
    "    '<identifier>': ['<word>'],\n",
    "    '<word>': ['<alpha><word>', '<alpha>'],\n",
    "    '<alpha>': list(string.ascii_letters),\n",
    "    '<expr>': ['<term>+<expr>', '<term>-<expr>', '<term>'],\n",
    "    '<term>': ['<factor>*<term>', '<factor>/<term>', '<factor>'],\n",
    "    '<factor>':\n",
    "    ['+<factor>', '-<factor>', '(<expr>)', '<identifier>', '<number>'],\n",
    "    '<number>': ['<integer>.<integer>', '<integer>'],\n",
    "    '<integer>': ['<digit><integer>', '<digit>'],\n",
    "    '<digit>': crange('0', '9')\n",
    "}"
   ]
  },
  {
   "cell_type": "code",
   "execution_count": 63,
   "metadata": {
    "slideshow": {
     "slide_type": "subslide"
    }
   },
   "outputs": [
    {
     "name": "stdout",
     "output_type": "stream",
     "text": [
      "start\n"
     ]
    },
    {
     "data": {
      "image/svg+xml": [
       "<svg class=\"railroad-diagram\" height=\"62\" viewBox=\"0 0 225.0 62\" width=\"225.0\" xmlns=\"http://www.w3.org/2000/svg\">\n",
       "<g transform=\"translate(.5 .5)\">\n",
       "<style>/* <![CDATA[ */\n",
       "    svg.railroad-diagram {\n",
       "        background-color:hsl(100,100%,100%);\n",
       "    }\n",
       "    svg.railroad-diagram path {\n",
       "        stroke-width:3;\n",
       "        stroke:black;\n",
       "        fill:rgba(0,0,0,0);\n",
       "    }\n",
       "    svg.railroad-diagram text {\n",
       "        font:bold 14px monospace;\n",
       "        text-anchor:middle;\n",
       "    }\n",
       "    svg.railroad-diagram text.label{\n",
       "        text-anchor:start;\n",
       "    }\n",
       "    svg.railroad-diagram text.comment{\n",
       "        font:italic 12px monospace;\n",
       "    }\n",
       "    svg.railroad-diagram rect{\n",
       "        stroke-width:3;\n",
       "        stroke:black;\n",
       "        fill:hsl(0,62%,82%);\n",
       "    }\n",
       "\n",
       "/* ]]> */\n",
       "</style><g>\n",
       "<path d=\"M20 21v20m10 -20v20m-10 -10h20\"/></g><g>\n",
       "<path d=\"M40 31h0.0\"/><path d=\"M185.0 31h0.0\"/><path d=\"M40.0 31h20\"/><g>\n",
       "<path d=\"M60.0 31h0.0\"/><path d=\"M165.0 31h0.0\"/><g class=\"non-terminal\">\n",
       "<path d=\"M60.0 31h0.0\"/><path d=\"M165.0 31h0.0\"/><rect height=\"22\" width=\"105.0\" x=\"60.0\" y=\"20\"/><text x=\"112.5\" y=\"35\">statements</text></g></g><path d=\"M165.0 31h20\"/></g><path d=\"M 185.0 31 h 20 m -10 -10 v 20 m 10 -20 v 20\"/></g></svg>"
      ],
      "text/plain": [
       "<IPython.core.display.SVG object>"
      ]
     },
     "metadata": {},
     "output_type": "display_data"
    },
    {
     "name": "stdout",
     "output_type": "stream",
     "text": [
      "statements\n"
     ]
    },
    {
     "data": {
      "image/svg+xml": [
       "<svg class=\"railroad-diagram\" height=\"92\" viewBox=\"0 0 390.0 92\" width=\"390.0\" xmlns=\"http://www.w3.org/2000/svg\">\n",
       "<g transform=\"translate(.5 .5)\">\n",
       "<style>/* <![CDATA[ */\n",
       "    svg.railroad-diagram {\n",
       "        background-color:hsl(100,100%,100%);\n",
       "    }\n",
       "    svg.railroad-diagram path {\n",
       "        stroke-width:3;\n",
       "        stroke:black;\n",
       "        fill:rgba(0,0,0,0);\n",
       "    }\n",
       "    svg.railroad-diagram text {\n",
       "        font:bold 14px monospace;\n",
       "        text-anchor:middle;\n",
       "    }\n",
       "    svg.railroad-diagram text.label{\n",
       "        text-anchor:start;\n",
       "    }\n",
       "    svg.railroad-diagram text.comment{\n",
       "        font:italic 12px monospace;\n",
       "    }\n",
       "    svg.railroad-diagram rect{\n",
       "        stroke-width:3;\n",
       "        stroke:black;\n",
       "        fill:hsl(0,62%,82%);\n",
       "    }\n",
       "\n",
       "/* ]]> */\n",
       "</style><g>\n",
       "<path d=\"M20 51v20m10 -20v20m-10 -10h20\"/></g><g>\n",
       "<path d=\"M40 61h0.0\"/><path d=\"M350.0 61h0.0\"/><path d=\"M40.0 61a10 10 0 0 0 10 -10v-10a10 10 0 0 1 10 -10\"/><g>\n",
       "<path d=\"M60.0 31h0.0\"/><path d=\"M330.0 31h0.0\"/><g class=\"non-terminal\">\n",
       "<path d=\"M60.0 31h0.0\"/><path d=\"M156.5 31h0.0\"/><rect height=\"22\" width=\"96.5\" x=\"60.0\" y=\"20\"/><text x=\"108.25\" y=\"35\">statement</text></g><path d=\"M156.5 31h10\"/><path d=\"M166.5 31h10\"/><g class=\"terminal\">\n",
       "<path d=\"M176.5 31h0.0\"/><path d=\"M205.0 31h0.0\"/><rect height=\"22\" rx=\"10\" ry=\"10\" width=\"28.5\" x=\"176.5\" y=\"20\"/><text x=\"190.75\" y=\"35\">;</text></g><path d=\"M205.0 31h10\"/><path d=\"M215.0 31h10\"/><g class=\"non-terminal\">\n",
       "<path d=\"M225.0 31h0.0\"/><path d=\"M330.0 31h0.0\"/><rect height=\"22\" width=\"105.0\" x=\"225.0\" y=\"20\"/><text x=\"277.5\" y=\"35\">statements</text></g></g><path d=\"M330.0 31a10 10 0 0 1 10 10v10a10 10 0 0 0 10 10\"/><path d=\"M40.0 61h20\"/><g>\n",
       "<path d=\"M60.0 61h86.75\"/><path d=\"M243.25 61h86.75\"/><g class=\"non-terminal\">\n",
       "<path d=\"M146.75 61h0.0\"/><path d=\"M243.25 61h0.0\"/><rect height=\"22\" width=\"96.5\" x=\"146.75\" y=\"50\"/><text x=\"195.0\" y=\"65\">statement</text></g></g><path d=\"M330.0 61h20\"/></g><path d=\"M 350.0 61 h 20 m -10 -10 v 20 m 10 -20 v 20\"/></g></svg>"
      ],
      "text/plain": [
       "<IPython.core.display.SVG object>"
      ]
     },
     "metadata": {},
     "output_type": "display_data"
    },
    {
     "name": "stdout",
     "output_type": "stream",
     "text": [
      "statement\n"
     ]
    },
    {
     "data": {
      "image/svg+xml": [
       "<svg class=\"railroad-diagram\" height=\"62\" viewBox=\"0 0 225.0 62\" width=\"225.0\" xmlns=\"http://www.w3.org/2000/svg\">\n",
       "<g transform=\"translate(.5 .5)\">\n",
       "<style>/* <![CDATA[ */\n",
       "    svg.railroad-diagram {\n",
       "        background-color:hsl(100,100%,100%);\n",
       "    }\n",
       "    svg.railroad-diagram path {\n",
       "        stroke-width:3;\n",
       "        stroke:black;\n",
       "        fill:rgba(0,0,0,0);\n",
       "    }\n",
       "    svg.railroad-diagram text {\n",
       "        font:bold 14px monospace;\n",
       "        text-anchor:middle;\n",
       "    }\n",
       "    svg.railroad-diagram text.label{\n",
       "        text-anchor:start;\n",
       "    }\n",
       "    svg.railroad-diagram text.comment{\n",
       "        font:italic 12px monospace;\n",
       "    }\n",
       "    svg.railroad-diagram rect{\n",
       "        stroke-width:3;\n",
       "        stroke:black;\n",
       "        fill:hsl(0,62%,82%);\n",
       "    }\n",
       "\n",
       "/* ]]> */\n",
       "</style><g>\n",
       "<path d=\"M20 21v20m10 -20v20m-10 -10h20\"/></g><g>\n",
       "<path d=\"M40 31h0.0\"/><path d=\"M185.0 31h0.0\"/><path d=\"M40.0 31h20\"/><g>\n",
       "<path d=\"M60.0 31h0.0\"/><path d=\"M165.0 31h0.0\"/><g class=\"non-terminal\">\n",
       "<path d=\"M60.0 31h0.0\"/><path d=\"M165.0 31h0.0\"/><rect height=\"22\" width=\"105.0\" x=\"60.0\" y=\"20\"/><text x=\"112.5\" y=\"35\">assignment</text></g></g><path d=\"M165.0 31h20\"/></g><path d=\"M 185.0 31 h 20 m -10 -10 v 20 m 10 -20 v 20\"/></g></svg>"
      ],
      "text/plain": [
       "<IPython.core.display.SVG object>"
      ]
     },
     "metadata": {},
     "output_type": "display_data"
    },
    {
     "name": "stdout",
     "output_type": "stream",
     "text": [
      "assignment\n"
     ]
    },
    {
     "data": {
      "image/svg+xml": [
       "<svg class=\"railroad-diagram\" height=\"62\" viewBox=\"0 0 347.5 62\" width=\"347.5\" xmlns=\"http://www.w3.org/2000/svg\">\n",
       "<g transform=\"translate(.5 .5)\">\n",
       "<style>/* <![CDATA[ */\n",
       "    svg.railroad-diagram {\n",
       "        background-color:hsl(100,100%,100%);\n",
       "    }\n",
       "    svg.railroad-diagram path {\n",
       "        stroke-width:3;\n",
       "        stroke:black;\n",
       "        fill:rgba(0,0,0,0);\n",
       "    }\n",
       "    svg.railroad-diagram text {\n",
       "        font:bold 14px monospace;\n",
       "        text-anchor:middle;\n",
       "    }\n",
       "    svg.railroad-diagram text.label{\n",
       "        text-anchor:start;\n",
       "    }\n",
       "    svg.railroad-diagram text.comment{\n",
       "        font:italic 12px monospace;\n",
       "    }\n",
       "    svg.railroad-diagram rect{\n",
       "        stroke-width:3;\n",
       "        stroke:black;\n",
       "        fill:hsl(0,62%,82%);\n",
       "    }\n",
       "\n",
       "/* ]]> */\n",
       "</style><g>\n",
       "<path d=\"M20 21v20m10 -20v20m-10 -10h20\"/></g><g>\n",
       "<path d=\"M40 31h0.0\"/><path d=\"M307.5 31h0.0\"/><path d=\"M40.0 31h20\"/><g>\n",
       "<path d=\"M60.0 31h0.0\"/><path d=\"M287.5 31h0.0\"/><g class=\"non-terminal\">\n",
       "<path d=\"M60.0 31h0.0\"/><path d=\"M165.0 31h0.0\"/><rect height=\"22\" width=\"105.0\" x=\"60.0\" y=\"20\"/><text x=\"112.5\" y=\"35\">identifier</text></g><path d=\"M165.0 31h10\"/><path d=\"M175.0 31h10\"/><g class=\"terminal\">\n",
       "<path d=\"M185.0 31h0.0\"/><path d=\"M213.5 31h0.0\"/><rect height=\"22\" rx=\"10\" ry=\"10\" width=\"28.5\" x=\"185.0\" y=\"20\"/><text x=\"199.25\" y=\"35\">=</text></g><path d=\"M213.5 31h10\"/><path d=\"M223.5 31h10\"/><g class=\"non-terminal\">\n",
       "<path d=\"M233.5 31h0.0\"/><path d=\"M287.5 31h0.0\"/><rect height=\"22\" width=\"54.0\" x=\"233.5\" y=\"20\"/><text x=\"260.5\" y=\"35\">expr</text></g></g><path d=\"M287.5 31h20\"/></g><path d=\"M 307.5 31 h 20 m -10 -10 v 20 m 10 -20 v 20\"/></g></svg>"
      ],
      "text/plain": [
       "<IPython.core.display.SVG object>"
      ]
     },
     "metadata": {},
     "output_type": "display_data"
    },
    {
     "name": "stdout",
     "output_type": "stream",
     "text": [
      "identifier\n"
     ]
    },
    {
     "data": {
      "image/svg+xml": [
       "<svg class=\"railroad-diagram\" height=\"62\" viewBox=\"0 0 174.0 62\" width=\"174.0\" xmlns=\"http://www.w3.org/2000/svg\">\n",
       "<g transform=\"translate(.5 .5)\">\n",
       "<style>/* <![CDATA[ */\n",
       "    svg.railroad-diagram {\n",
       "        background-color:hsl(100,100%,100%);\n",
       "    }\n",
       "    svg.railroad-diagram path {\n",
       "        stroke-width:3;\n",
       "        stroke:black;\n",
       "        fill:rgba(0,0,0,0);\n",
       "    }\n",
       "    svg.railroad-diagram text {\n",
       "        font:bold 14px monospace;\n",
       "        text-anchor:middle;\n",
       "    }\n",
       "    svg.railroad-diagram text.label{\n",
       "        text-anchor:start;\n",
       "    }\n",
       "    svg.railroad-diagram text.comment{\n",
       "        font:italic 12px monospace;\n",
       "    }\n",
       "    svg.railroad-diagram rect{\n",
       "        stroke-width:3;\n",
       "        stroke:black;\n",
       "        fill:hsl(0,62%,82%);\n",
       "    }\n",
       "\n",
       "/* ]]> */\n",
       "</style><g>\n",
       "<path d=\"M20 21v20m10 -20v20m-10 -10h20\"/></g><g>\n",
       "<path d=\"M40 31h0.0\"/><path d=\"M134.0 31h0.0\"/><path d=\"M40.0 31h20\"/><g>\n",
       "<path d=\"M60.0 31h0.0\"/><path d=\"M114.0 31h0.0\"/><g class=\"non-terminal\">\n",
       "<path d=\"M60.0 31h0.0\"/><path d=\"M114.0 31h0.0\"/><rect height=\"22\" width=\"54.0\" x=\"60.0\" y=\"20\"/><text x=\"87.0\" y=\"35\">word</text></g></g><path d=\"M114.0 31h20\"/></g><path d=\"M 134.0 31 h 20 m -10 -10 v 20 m 10 -20 v 20\"/></g></svg>"
      ],
      "text/plain": [
       "<IPython.core.display.SVG object>"
      ]
     },
     "metadata": {},
     "output_type": "display_data"
    },
    {
     "name": "stdout",
     "output_type": "stream",
     "text": [
      "word\n"
     ]
    },
    {
     "data": {
      "image/svg+xml": [
       "<svg class=\"railroad-diagram\" height=\"92\" viewBox=\"0 0 256.5 92\" width=\"256.5\" xmlns=\"http://www.w3.org/2000/svg\">\n",
       "<g transform=\"translate(.5 .5)\">\n",
       "<style>/* <![CDATA[ */\n",
       "    svg.railroad-diagram {\n",
       "        background-color:hsl(100,100%,100%);\n",
       "    }\n",
       "    svg.railroad-diagram path {\n",
       "        stroke-width:3;\n",
       "        stroke:black;\n",
       "        fill:rgba(0,0,0,0);\n",
       "    }\n",
       "    svg.railroad-diagram text {\n",
       "        font:bold 14px monospace;\n",
       "        text-anchor:middle;\n",
       "    }\n",
       "    svg.railroad-diagram text.label{\n",
       "        text-anchor:start;\n",
       "    }\n",
       "    svg.railroad-diagram text.comment{\n",
       "        font:italic 12px monospace;\n",
       "    }\n",
       "    svg.railroad-diagram rect{\n",
       "        stroke-width:3;\n",
       "        stroke:black;\n",
       "        fill:hsl(0,62%,82%);\n",
       "    }\n",
       "\n",
       "/* ]]> */\n",
       "</style><g>\n",
       "<path d=\"M20 51v20m10 -20v20m-10 -10h20\"/></g><g>\n",
       "<path d=\"M40 61h0.0\"/><path d=\"M216.5 61h0.0\"/><path d=\"M40.0 61a10 10 0 0 0 10 -10v-10a10 10 0 0 1 10 -10\"/><g>\n",
       "<path d=\"M60.0 31h0.0\"/><path d=\"M196.5 31h0.0\"/><g class=\"non-terminal\">\n",
       "<path d=\"M60.0 31h0.0\"/><path d=\"M122.5 31h0.0\"/><rect height=\"22\" width=\"62.5\" x=\"60.0\" y=\"20\"/><text x=\"91.25\" y=\"35\">alpha</text></g><path d=\"M122.5 31h10\"/><path d=\"M132.5 31h10\"/><g class=\"non-terminal\">\n",
       "<path d=\"M142.5 31h0.0\"/><path d=\"M196.5 31h0.0\"/><rect height=\"22\" width=\"54.0\" x=\"142.5\" y=\"20\"/><text x=\"169.5\" y=\"35\">word</text></g></g><path d=\"M196.5 31a10 10 0 0 1 10 10v10a10 10 0 0 0 10 10\"/><path d=\"M40.0 61h20\"/><g>\n",
       "<path d=\"M60.0 61h37.0\"/><path d=\"M159.5 61h37.0\"/><g class=\"non-terminal\">\n",
       "<path d=\"M97.0 61h0.0\"/><path d=\"M159.5 61h0.0\"/><rect height=\"22\" width=\"62.5\" x=\"97.0\" y=\"50\"/><text x=\"128.25\" y=\"65\">alpha</text></g></g><path d=\"M196.5 61h20\"/></g><path d=\"M 216.5 61 h 20 m -10 -10 v 20 m 10 -20 v 20\"/></g></svg>"
      ],
      "text/plain": [
       "<IPython.core.display.SVG object>"
      ]
     },
     "metadata": {},
     "output_type": "display_data"
    },
    {
     "name": "stdout",
     "output_type": "stream",
     "text": [
      "alpha\n"
     ]
    },
    {
     "data": {
      "image/svg+xml": [
       "<svg class=\"railroad-diagram\" height=\"348\" viewBox=\"0 0 611.0 348\" width=\"611.0\" xmlns=\"http://www.w3.org/2000/svg\">\n",
       "<g transform=\"translate(.5 .5)\">\n",
       "<style>/* <![CDATA[ */\n",
       "    svg.railroad-diagram {\n",
       "        background-color:hsl(100,100%,100%);\n",
       "    }\n",
       "    svg.railroad-diagram path {\n",
       "        stroke-width:3;\n",
       "        stroke:black;\n",
       "        fill:rgba(0,0,0,0);\n",
       "    }\n",
       "    svg.railroad-diagram text {\n",
       "        font:bold 14px monospace;\n",
       "        text-anchor:middle;\n",
       "    }\n",
       "    svg.railroad-diagram text.label{\n",
       "        text-anchor:start;\n",
       "    }\n",
       "    svg.railroad-diagram text.comment{\n",
       "        font:italic 12px monospace;\n",
       "    }\n",
       "    svg.railroad-diagram rect{\n",
       "        stroke-width:3;\n",
       "        stroke:black;\n",
       "        fill:hsl(0,62%,82%);\n",
       "    }\n",
       "\n",
       "/* ]]> */\n",
       "</style><g>\n",
       "<path d=\"M20 179v20m10 -20v20m-10 -10h20\"/></g><g>\n",
       "<path d=\"M40 189h0.0\"/><path d=\"M571.0 189h0.0\"/><path d=\"M40.0 189a10 10 0 0 0 10 -10v-149a10 10 0 0 1 10 -10h412.5\"/><path d=\"M138.5 328h412.5a10 10 0 0 0 10 -10v-119a10 10 0 0 1 10 -10\"/><path d=\"M40.0 189h10\"/><g>\n",
       "<path d=\"M50.0 189h0.0\"/><path d=\"M118.5 189h0.0\"/><path d=\"M50.0 189a10 10 0 0 0 10 -10v-10a10 10 0 0 1 10 -10\"/><g>\n",
       "<path d=\"M70.0 159h0.0\"/><path d=\"M98.5 159h0.0\"/><g class=\"terminal\">\n",
       "<path d=\"M70.0 159h0.0\"/><path d=\"M98.5 159h0.0\"/><rect height=\"22\" rx=\"10\" ry=\"10\" width=\"28.5\" x=\"70.0\" y=\"148\"/><text x=\"84.25\" y=\"163\">e</text></g></g><path d=\"M98.5 159a10 10 0 0 1 10 10v10a10 10 0 0 0 10 10\"/><path d=\"M50.0 189a10 10 0 0 0 10 -10v-40a10 10 0 0 1 10 -10\"/><g>\n",
       "<path d=\"M70.0 129h0.0\"/><path d=\"M98.5 129h0.0\"/><g class=\"terminal\">\n",
       "<path d=\"M70.0 129h0.0\"/><path d=\"M98.5 129h0.0\"/><rect height=\"22\" rx=\"10\" ry=\"10\" width=\"28.5\" x=\"70.0\" y=\"118\"/><text x=\"84.25\" y=\"133\">d</text></g></g><path d=\"M98.5 129a10 10 0 0 1 10 10v40a10 10 0 0 0 10 10\"/><path d=\"M50.0 189a10 10 0 0 0 10 -10v-70a10 10 0 0 1 10 -10\"/><g>\n",
       "<path d=\"M70.0 99h0.0\"/><path d=\"M98.5 99h0.0\"/><g class=\"terminal\">\n",
       "<path d=\"M70.0 99h0.0\"/><path d=\"M98.5 99h0.0\"/><rect height=\"22\" rx=\"10\" ry=\"10\" width=\"28.5\" x=\"70.0\" y=\"88\"/><text x=\"84.25\" y=\"103\">c</text></g></g><path d=\"M98.5 99a10 10 0 0 1 10 10v70a10 10 0 0 0 10 10\"/><path d=\"M50.0 189a10 10 0 0 0 10 -10v-100a10 10 0 0 1 10 -10\"/><g>\n",
       "<path d=\"M70.0 69h0.0\"/><path d=\"M98.5 69h0.0\"/><g class=\"terminal\">\n",
       "<path d=\"M70.0 69h0.0\"/><path d=\"M98.5 69h0.0\"/><rect height=\"22\" rx=\"10\" ry=\"10\" width=\"28.5\" x=\"70.0\" y=\"58\"/><text x=\"84.25\" y=\"73\">b</text></g></g><path d=\"M98.5 69a10 10 0 0 1 10 10v100a10 10 0 0 0 10 10\"/><path d=\"M50.0 189a10 10 0 0 0 10 -10v-130a10 10 0 0 1 10 -10\"/><g>\n",
       "<path d=\"M70.0 39h0.0\"/><path d=\"M98.5 39h0.0\"/><g class=\"terminal\">\n",
       "<path d=\"M70.0 39h0.0\"/><path d=\"M98.5 39h0.0\"/><rect height=\"22\" rx=\"10\" ry=\"10\" width=\"28.5\" x=\"70.0\" y=\"28\"/><text x=\"84.25\" y=\"43\">a</text></g></g><path d=\"M98.5 39a10 10 0 0 1 10 10v130a10 10 0 0 0 10 10\"/><path d=\"M50.0 189h20\"/><g>\n",
       "<path d=\"M70.0 189h0.0\"/><path d=\"M98.5 189h0.0\"/><g class=\"terminal\">\n",
       "<path d=\"M70.0 189h0.0\"/><path d=\"M98.5 189h0.0\"/><rect height=\"22\" rx=\"10\" ry=\"10\" width=\"28.5\" x=\"70.0\" y=\"178\"/><text x=\"84.25\" y=\"193\">f</text></g></g><path d=\"M98.5 189h20\"/><path d=\"M50.0 189a10 10 0 0 1 10 10v10a10 10 0 0 0 10 10\"/><g>\n",
       "<path d=\"M70.0 219h0.0\"/><path d=\"M98.5 219h0.0\"/><g class=\"terminal\">\n",
       "<path d=\"M70.0 219h0.0\"/><path d=\"M98.5 219h0.0\"/><rect height=\"22\" rx=\"10\" ry=\"10\" width=\"28.5\" x=\"70.0\" y=\"208\"/><text x=\"84.25\" y=\"223\">g</text></g></g><path d=\"M98.5 219a10 10 0 0 0 10 -10v-10a10 10 0 0 1 10 -10\"/><path d=\"M50.0 189a10 10 0 0 1 10 10v40a10 10 0 0 0 10 10\"/><g>\n",
       "<path d=\"M70.0 249h0.0\"/><path d=\"M98.5 249h0.0\"/><g class=\"terminal\">\n",
       "<path d=\"M70.0 249h0.0\"/><path d=\"M98.5 249h0.0\"/><rect height=\"22\" rx=\"10\" ry=\"10\" width=\"28.5\" x=\"70.0\" y=\"238\"/><text x=\"84.25\" y=\"253\">h</text></g></g><path d=\"M98.5 249a10 10 0 0 0 10 -10v-40a10 10 0 0 1 10 -10\"/><path d=\"M50.0 189a10 10 0 0 1 10 10v70a10 10 0 0 0 10 10\"/><g>\n",
       "<path d=\"M70.0 279h0.0\"/><path d=\"M98.5 279h0.0\"/><g class=\"terminal\">\n",
       "<path d=\"M70.0 279h0.0\"/><path d=\"M98.5 279h0.0\"/><rect height=\"22\" rx=\"10\" ry=\"10\" width=\"28.5\" x=\"70.0\" y=\"268\"/><text x=\"84.25\" y=\"283\">i</text></g></g><path d=\"M98.5 279a10 10 0 0 0 10 -10v-70a10 10 0 0 1 10 -10\"/><path d=\"M50.0 189a10 10 0 0 1 10 10v100a10 10 0 0 0 10 10\"/><g>\n",
       "<path d=\"M70.0 309h0.0\"/><path d=\"M98.5 309h0.0\"/><g class=\"terminal\">\n",
       "<path d=\"M70.0 309h0.0\"/><path d=\"M98.5 309h0.0\"/><rect height=\"22\" rx=\"10\" ry=\"10\" width=\"28.5\" x=\"70.0\" y=\"298\"/><text x=\"84.25\" y=\"313\">j</text></g></g><path d=\"M98.5 309a10 10 0 0 0 10 -10v-100a10 10 0 0 1 10 -10\"/></g><path d=\"M118.5 189a10 10 0 0 1 10 10v119a10 10 0 0 0 10 10\"/><path d=\"M118.5 20a10 10 0 0 1 10 10v149a10 10 0 0 0 10 10\"/><g>\n",
       "<path d=\"M138.5 189h0.0\"/><path d=\"M207.0 189h0.0\"/><path d=\"M138.5 189a10 10 0 0 0 10 -10v-10a10 10 0 0 1 10 -10\"/><g>\n",
       "<path d=\"M158.5 159h0.0\"/><path d=\"M187.0 159h0.0\"/><g class=\"terminal\">\n",
       "<path d=\"M158.5 159h0.0\"/><path d=\"M187.0 159h0.0\"/><rect height=\"22\" rx=\"10\" ry=\"10\" width=\"28.5\" x=\"158.5\" y=\"148\"/><text x=\"172.75\" y=\"163\">o</text></g></g><path d=\"M187.0 159a10 10 0 0 1 10 10v10a10 10 0 0 0 10 10\"/><path d=\"M138.5 189a10 10 0 0 0 10 -10v-40a10 10 0 0 1 10 -10\"/><g>\n",
       "<path d=\"M158.5 129h0.0\"/><path d=\"M187.0 129h0.0\"/><g class=\"terminal\">\n",
       "<path d=\"M158.5 129h0.0\"/><path d=\"M187.0 129h0.0\"/><rect height=\"22\" rx=\"10\" ry=\"10\" width=\"28.5\" x=\"158.5\" y=\"118\"/><text x=\"172.75\" y=\"133\">n</text></g></g><path d=\"M187.0 129a10 10 0 0 1 10 10v40a10 10 0 0 0 10 10\"/><path d=\"M138.5 189a10 10 0 0 0 10 -10v-70a10 10 0 0 1 10 -10\"/><g>\n",
       "<path d=\"M158.5 99h0.0\"/><path d=\"M187.0 99h0.0\"/><g class=\"terminal\">\n",
       "<path d=\"M158.5 99h0.0\"/><path d=\"M187.0 99h0.0\"/><rect height=\"22\" rx=\"10\" ry=\"10\" width=\"28.5\" x=\"158.5\" y=\"88\"/><text x=\"172.75\" y=\"103\">m</text></g></g><path d=\"M187.0 99a10 10 0 0 1 10 10v70a10 10 0 0 0 10 10\"/><path d=\"M138.5 189a10 10 0 0 0 10 -10v-100a10 10 0 0 1 10 -10\"/><g>\n",
       "<path d=\"M158.5 69h0.0\"/><path d=\"M187.0 69h0.0\"/><g class=\"terminal\">\n",
       "<path d=\"M158.5 69h0.0\"/><path d=\"M187.0 69h0.0\"/><rect height=\"22\" rx=\"10\" ry=\"10\" width=\"28.5\" x=\"158.5\" y=\"58\"/><text x=\"172.75\" y=\"73\">l</text></g></g><path d=\"M187.0 69a10 10 0 0 1 10 10v100a10 10 0 0 0 10 10\"/><path d=\"M138.5 189a10 10 0 0 0 10 -10v-130a10 10 0 0 1 10 -10\"/><g>\n",
       "<path d=\"M158.5 39h0.0\"/><path d=\"M187.0 39h0.0\"/><g class=\"terminal\">\n",
       "<path d=\"M158.5 39h0.0\"/><path d=\"M187.0 39h0.0\"/><rect height=\"22\" rx=\"10\" ry=\"10\" width=\"28.5\" x=\"158.5\" y=\"28\"/><text x=\"172.75\" y=\"43\">k</text></g></g><path d=\"M187.0 39a10 10 0 0 1 10 10v130a10 10 0 0 0 10 10\"/><path d=\"M138.5 189h20\"/><g>\n",
       "<path d=\"M158.5 189h0.0\"/><path d=\"M187.0 189h0.0\"/><g class=\"terminal\">\n",
       "<path d=\"M158.5 189h0.0\"/><path d=\"M187.0 189h0.0\"/><rect height=\"22\" rx=\"10\" ry=\"10\" width=\"28.5\" x=\"158.5\" y=\"178\"/><text x=\"172.75\" y=\"193\">p</text></g></g><path d=\"M187.0 189h20\"/><path d=\"M138.5 189a10 10 0 0 1 10 10v10a10 10 0 0 0 10 10\"/><g>\n",
       "<path d=\"M158.5 219h0.0\"/><path d=\"M187.0 219h0.0\"/><g class=\"terminal\">\n",
       "<path d=\"M158.5 219h0.0\"/><path d=\"M187.0 219h0.0\"/><rect height=\"22\" rx=\"10\" ry=\"10\" width=\"28.5\" x=\"158.5\" y=\"208\"/><text x=\"172.75\" y=\"223\">q</text></g></g><path d=\"M187.0 219a10 10 0 0 0 10 -10v-10a10 10 0 0 1 10 -10\"/><path d=\"M138.5 189a10 10 0 0 1 10 10v40a10 10 0 0 0 10 10\"/><g>\n",
       "<path d=\"M158.5 249h0.0\"/><path d=\"M187.0 249h0.0\"/><g class=\"terminal\">\n",
       "<path d=\"M158.5 249h0.0\"/><path d=\"M187.0 249h0.0\"/><rect height=\"22\" rx=\"10\" ry=\"10\" width=\"28.5\" x=\"158.5\" y=\"238\"/><text x=\"172.75\" y=\"253\">r</text></g></g><path d=\"M187.0 249a10 10 0 0 0 10 -10v-40a10 10 0 0 1 10 -10\"/><path d=\"M138.5 189a10 10 0 0 1 10 10v70a10 10 0 0 0 10 10\"/><g>\n",
       "<path d=\"M158.5 279h0.0\"/><path d=\"M187.0 279h0.0\"/><g class=\"terminal\">\n",
       "<path d=\"M158.5 279h0.0\"/><path d=\"M187.0 279h0.0\"/><rect height=\"22\" rx=\"10\" ry=\"10\" width=\"28.5\" x=\"158.5\" y=\"268\"/><text x=\"172.75\" y=\"283\">s</text></g></g><path d=\"M187.0 279a10 10 0 0 0 10 -10v-70a10 10 0 0 1 10 -10\"/><path d=\"M138.5 189a10 10 0 0 1 10 10v100a10 10 0 0 0 10 10\"/><g>\n",
       "<path d=\"M158.5 309h0.0\"/><path d=\"M187.0 309h0.0\"/><g class=\"terminal\">\n",
       "<path d=\"M158.5 309h0.0\"/><path d=\"M187.0 309h0.0\"/><rect height=\"22\" rx=\"10\" ry=\"10\" width=\"28.5\" x=\"158.5\" y=\"298\"/><text x=\"172.75\" y=\"313\">t</text></g></g><path d=\"M187.0 309a10 10 0 0 0 10 -10v-100a10 10 0 0 1 10 -10\"/></g><path d=\"M207.0 189a10 10 0 0 1 10 10v119a10 10 0 0 0 10 10\"/><path d=\"M207.0 20a10 10 0 0 1 10 10v149a10 10 0 0 0 10 10\"/><g>\n",
       "<path d=\"M227.0 189h0.0\"/><path d=\"M295.5 189h0.0\"/><path d=\"M227.0 189a10 10 0 0 0 10 -10v-10a10 10 0 0 1 10 -10\"/><g>\n",
       "<path d=\"M247.0 159h0.0\"/><path d=\"M275.5 159h0.0\"/><g class=\"terminal\">\n",
       "<path d=\"M247.0 159h0.0\"/><path d=\"M275.5 159h0.0\"/><rect height=\"22\" rx=\"10\" ry=\"10\" width=\"28.5\" x=\"247.0\" y=\"148\"/><text x=\"261.25\" y=\"163\">y</text></g></g><path d=\"M275.5 159a10 10 0 0 1 10 10v10a10 10 0 0 0 10 10\"/><path d=\"M227.0 189a10 10 0 0 0 10 -10v-40a10 10 0 0 1 10 -10\"/><g>\n",
       "<path d=\"M247.0 129h0.0\"/><path d=\"M275.5 129h0.0\"/><g class=\"terminal\">\n",
       "<path d=\"M247.0 129h0.0\"/><path d=\"M275.5 129h0.0\"/><rect height=\"22\" rx=\"10\" ry=\"10\" width=\"28.5\" x=\"247.0\" y=\"118\"/><text x=\"261.25\" y=\"133\">x</text></g></g><path d=\"M275.5 129a10 10 0 0 1 10 10v40a10 10 0 0 0 10 10\"/><path d=\"M227.0 189a10 10 0 0 0 10 -10v-70a10 10 0 0 1 10 -10\"/><g>\n",
       "<path d=\"M247.0 99h0.0\"/><path d=\"M275.5 99h0.0\"/><g class=\"terminal\">\n",
       "<path d=\"M247.0 99h0.0\"/><path d=\"M275.5 99h0.0\"/><rect height=\"22\" rx=\"10\" ry=\"10\" width=\"28.5\" x=\"247.0\" y=\"88\"/><text x=\"261.25\" y=\"103\">w</text></g></g><path d=\"M275.5 99a10 10 0 0 1 10 10v70a10 10 0 0 0 10 10\"/><path d=\"M227.0 189a10 10 0 0 0 10 -10v-100a10 10 0 0 1 10 -10\"/><g>\n",
       "<path d=\"M247.0 69h0.0\"/><path d=\"M275.5 69h0.0\"/><g class=\"terminal\">\n",
       "<path d=\"M247.0 69h0.0\"/><path d=\"M275.5 69h0.0\"/><rect height=\"22\" rx=\"10\" ry=\"10\" width=\"28.5\" x=\"247.0\" y=\"58\"/><text x=\"261.25\" y=\"73\">v</text></g></g><path d=\"M275.5 69a10 10 0 0 1 10 10v100a10 10 0 0 0 10 10\"/><path d=\"M227.0 189a10 10 0 0 0 10 -10v-130a10 10 0 0 1 10 -10\"/><g>\n",
       "<path d=\"M247.0 39h0.0\"/><path d=\"M275.5 39h0.0\"/><g class=\"terminal\">\n",
       "<path d=\"M247.0 39h0.0\"/><path d=\"M275.5 39h0.0\"/><rect height=\"22\" rx=\"10\" ry=\"10\" width=\"28.5\" x=\"247.0\" y=\"28\"/><text x=\"261.25\" y=\"43\">u</text></g></g><path d=\"M275.5 39a10 10 0 0 1 10 10v130a10 10 0 0 0 10 10\"/><path d=\"M227.0 189h20\"/><g>\n",
       "<path d=\"M247.0 189h0.0\"/><path d=\"M275.5 189h0.0\"/><g class=\"terminal\">\n",
       "<path d=\"M247.0 189h0.0\"/><path d=\"M275.5 189h0.0\"/><rect height=\"22\" rx=\"10\" ry=\"10\" width=\"28.5\" x=\"247.0\" y=\"178\"/><text x=\"261.25\" y=\"193\">z</text></g></g><path d=\"M275.5 189h20\"/><path d=\"M227.0 189a10 10 0 0 1 10 10v10a10 10 0 0 0 10 10\"/><g>\n",
       "<path d=\"M247.0 219h0.0\"/><path d=\"M275.5 219h0.0\"/><g class=\"terminal\">\n",
       "<path d=\"M247.0 219h0.0\"/><path d=\"M275.5 219h0.0\"/><rect height=\"22\" rx=\"10\" ry=\"10\" width=\"28.5\" x=\"247.0\" y=\"208\"/><text x=\"261.25\" y=\"223\">A</text></g></g><path d=\"M275.5 219a10 10 0 0 0 10 -10v-10a10 10 0 0 1 10 -10\"/><path d=\"M227.0 189a10 10 0 0 1 10 10v40a10 10 0 0 0 10 10\"/><g>\n",
       "<path d=\"M247.0 249h0.0\"/><path d=\"M275.5 249h0.0\"/><g class=\"terminal\">\n",
       "<path d=\"M247.0 249h0.0\"/><path d=\"M275.5 249h0.0\"/><rect height=\"22\" rx=\"10\" ry=\"10\" width=\"28.5\" x=\"247.0\" y=\"238\"/><text x=\"261.25\" y=\"253\">B</text></g></g><path d=\"M275.5 249a10 10 0 0 0 10 -10v-40a10 10 0 0 1 10 -10\"/><path d=\"M227.0 189a10 10 0 0 1 10 10v70a10 10 0 0 0 10 10\"/><g>\n",
       "<path d=\"M247.0 279h0.0\"/><path d=\"M275.5 279h0.0\"/><g class=\"terminal\">\n",
       "<path d=\"M247.0 279h0.0\"/><path d=\"M275.5 279h0.0\"/><rect height=\"22\" rx=\"10\" ry=\"10\" width=\"28.5\" x=\"247.0\" y=\"268\"/><text x=\"261.25\" y=\"283\">C</text></g></g><path d=\"M275.5 279a10 10 0 0 0 10 -10v-70a10 10 0 0 1 10 -10\"/><path d=\"M227.0 189a10 10 0 0 1 10 10v100a10 10 0 0 0 10 10\"/><g>\n",
       "<path d=\"M247.0 309h0.0\"/><path d=\"M275.5 309h0.0\"/><g class=\"terminal\">\n",
       "<path d=\"M247.0 309h0.0\"/><path d=\"M275.5 309h0.0\"/><rect height=\"22\" rx=\"10\" ry=\"10\" width=\"28.5\" x=\"247.0\" y=\"298\"/><text x=\"261.25\" y=\"313\">D</text></g></g><path d=\"M275.5 309a10 10 0 0 0 10 -10v-100a10 10 0 0 1 10 -10\"/></g><path d=\"M295.5 189a10 10 0 0 1 10 10v119a10 10 0 0 0 10 10\"/><path d=\"M295.5 20a10 10 0 0 1 10 10v149a10 10 0 0 0 10 10\"/><g>\n",
       "<path d=\"M315.5 189h0.0\"/><path d=\"M384.0 189h0.0\"/><path d=\"M315.5 189a10 10 0 0 0 10 -10v-10a10 10 0 0 1 10 -10\"/><g>\n",
       "<path d=\"M335.5 159h0.0\"/><path d=\"M364.0 159h0.0\"/><g class=\"terminal\">\n",
       "<path d=\"M335.5 159h0.0\"/><path d=\"M364.0 159h0.0\"/><rect height=\"22\" rx=\"10\" ry=\"10\" width=\"28.5\" x=\"335.5\" y=\"148\"/><text x=\"349.75\" y=\"163\">I</text></g></g><path d=\"M364.0 159a10 10 0 0 1 10 10v10a10 10 0 0 0 10 10\"/><path d=\"M315.5 189a10 10 0 0 0 10 -10v-40a10 10 0 0 1 10 -10\"/><g>\n",
       "<path d=\"M335.5 129h0.0\"/><path d=\"M364.0 129h0.0\"/><g class=\"terminal\">\n",
       "<path d=\"M335.5 129h0.0\"/><path d=\"M364.0 129h0.0\"/><rect height=\"22\" rx=\"10\" ry=\"10\" width=\"28.5\" x=\"335.5\" y=\"118\"/><text x=\"349.75\" y=\"133\">H</text></g></g><path d=\"M364.0 129a10 10 0 0 1 10 10v40a10 10 0 0 0 10 10\"/><path d=\"M315.5 189a10 10 0 0 0 10 -10v-70a10 10 0 0 1 10 -10\"/><g>\n",
       "<path d=\"M335.5 99h0.0\"/><path d=\"M364.0 99h0.0\"/><g class=\"terminal\">\n",
       "<path d=\"M335.5 99h0.0\"/><path d=\"M364.0 99h0.0\"/><rect height=\"22\" rx=\"10\" ry=\"10\" width=\"28.5\" x=\"335.5\" y=\"88\"/><text x=\"349.75\" y=\"103\">G</text></g></g><path d=\"M364.0 99a10 10 0 0 1 10 10v70a10 10 0 0 0 10 10\"/><path d=\"M315.5 189a10 10 0 0 0 10 -10v-100a10 10 0 0 1 10 -10\"/><g>\n",
       "<path d=\"M335.5 69h0.0\"/><path d=\"M364.0 69h0.0\"/><g class=\"terminal\">\n",
       "<path d=\"M335.5 69h0.0\"/><path d=\"M364.0 69h0.0\"/><rect height=\"22\" rx=\"10\" ry=\"10\" width=\"28.5\" x=\"335.5\" y=\"58\"/><text x=\"349.75\" y=\"73\">F</text></g></g><path d=\"M364.0 69a10 10 0 0 1 10 10v100a10 10 0 0 0 10 10\"/><path d=\"M315.5 189a10 10 0 0 0 10 -10v-130a10 10 0 0 1 10 -10\"/><g>\n",
       "<path d=\"M335.5 39h0.0\"/><path d=\"M364.0 39h0.0\"/><g class=\"terminal\">\n",
       "<path d=\"M335.5 39h0.0\"/><path d=\"M364.0 39h0.0\"/><rect height=\"22\" rx=\"10\" ry=\"10\" width=\"28.5\" x=\"335.5\" y=\"28\"/><text x=\"349.75\" y=\"43\">E</text></g></g><path d=\"M364.0 39a10 10 0 0 1 10 10v130a10 10 0 0 0 10 10\"/><path d=\"M315.5 189h20\"/><g>\n",
       "<path d=\"M335.5 189h0.0\"/><path d=\"M364.0 189h0.0\"/><g class=\"terminal\">\n",
       "<path d=\"M335.5 189h0.0\"/><path d=\"M364.0 189h0.0\"/><rect height=\"22\" rx=\"10\" ry=\"10\" width=\"28.5\" x=\"335.5\" y=\"178\"/><text x=\"349.75\" y=\"193\">J</text></g></g><path d=\"M364.0 189h20\"/><path d=\"M315.5 189a10 10 0 0 1 10 10v10a10 10 0 0 0 10 10\"/><g>\n",
       "<path d=\"M335.5 219h0.0\"/><path d=\"M364.0 219h0.0\"/><g class=\"terminal\">\n",
       "<path d=\"M335.5 219h0.0\"/><path d=\"M364.0 219h0.0\"/><rect height=\"22\" rx=\"10\" ry=\"10\" width=\"28.5\" x=\"335.5\" y=\"208\"/><text x=\"349.75\" y=\"223\">K</text></g></g><path d=\"M364.0 219a10 10 0 0 0 10 -10v-10a10 10 0 0 1 10 -10\"/><path d=\"M315.5 189a10 10 0 0 1 10 10v40a10 10 0 0 0 10 10\"/><g>\n",
       "<path d=\"M335.5 249h0.0\"/><path d=\"M364.0 249h0.0\"/><g class=\"terminal\">\n",
       "<path d=\"M335.5 249h0.0\"/><path d=\"M364.0 249h0.0\"/><rect height=\"22\" rx=\"10\" ry=\"10\" width=\"28.5\" x=\"335.5\" y=\"238\"/><text x=\"349.75\" y=\"253\">L</text></g></g><path d=\"M364.0 249a10 10 0 0 0 10 -10v-40a10 10 0 0 1 10 -10\"/><path d=\"M315.5 189a10 10 0 0 1 10 10v70a10 10 0 0 0 10 10\"/><g>\n",
       "<path d=\"M335.5 279h0.0\"/><path d=\"M364.0 279h0.0\"/><g class=\"terminal\">\n",
       "<path d=\"M335.5 279h0.0\"/><path d=\"M364.0 279h0.0\"/><rect height=\"22\" rx=\"10\" ry=\"10\" width=\"28.5\" x=\"335.5\" y=\"268\"/><text x=\"349.75\" y=\"283\">M</text></g></g><path d=\"M364.0 279a10 10 0 0 0 10 -10v-70a10 10 0 0 1 10 -10\"/><path d=\"M315.5 189a10 10 0 0 1 10 10v100a10 10 0 0 0 10 10\"/><g>\n",
       "<path d=\"M335.5 309h0.0\"/><path d=\"M364.0 309h0.0\"/><g class=\"terminal\">\n",
       "<path d=\"M335.5 309h0.0\"/><path d=\"M364.0 309h0.0\"/><rect height=\"22\" rx=\"10\" ry=\"10\" width=\"28.5\" x=\"335.5\" y=\"298\"/><text x=\"349.75\" y=\"313\">N</text></g></g><path d=\"M364.0 309a10 10 0 0 0 10 -10v-100a10 10 0 0 1 10 -10\"/></g><path d=\"M384.0 189a10 10 0 0 1 10 10v119a10 10 0 0 0 10 10\"/><path d=\"M384.0 20a10 10 0 0 1 10 10v149a10 10 0 0 0 10 10\"/><g>\n",
       "<path d=\"M404.0 189h0.0\"/><path d=\"M472.5 189h0.0\"/><path d=\"M404.0 189a10 10 0 0 0 10 -10v-10a10 10 0 0 1 10 -10\"/><g>\n",
       "<path d=\"M424.0 159h0.0\"/><path d=\"M452.5 159h0.0\"/><g class=\"terminal\">\n",
       "<path d=\"M424.0 159h0.0\"/><path d=\"M452.5 159h0.0\"/><rect height=\"22\" rx=\"10\" ry=\"10\" width=\"28.5\" x=\"424.0\" y=\"148\"/><text x=\"438.25\" y=\"163\">S</text></g></g><path d=\"M452.5 159a10 10 0 0 1 10 10v10a10 10 0 0 0 10 10\"/><path d=\"M404.0 189a10 10 0 0 0 10 -10v-40a10 10 0 0 1 10 -10\"/><g>\n",
       "<path d=\"M424.0 129h0.0\"/><path d=\"M452.5 129h0.0\"/><g class=\"terminal\">\n",
       "<path d=\"M424.0 129h0.0\"/><path d=\"M452.5 129h0.0\"/><rect height=\"22\" rx=\"10\" ry=\"10\" width=\"28.5\" x=\"424.0\" y=\"118\"/><text x=\"438.25\" y=\"133\">R</text></g></g><path d=\"M452.5 129a10 10 0 0 1 10 10v40a10 10 0 0 0 10 10\"/><path d=\"M404.0 189a10 10 0 0 0 10 -10v-70a10 10 0 0 1 10 -10\"/><g>\n",
       "<path d=\"M424.0 99h0.0\"/><path d=\"M452.5 99h0.0\"/><g class=\"terminal\">\n",
       "<path d=\"M424.0 99h0.0\"/><path d=\"M452.5 99h0.0\"/><rect height=\"22\" rx=\"10\" ry=\"10\" width=\"28.5\" x=\"424.0\" y=\"88\"/><text x=\"438.25\" y=\"103\">Q</text></g></g><path d=\"M452.5 99a10 10 0 0 1 10 10v70a10 10 0 0 0 10 10\"/><path d=\"M404.0 189a10 10 0 0 0 10 -10v-100a10 10 0 0 1 10 -10\"/><g>\n",
       "<path d=\"M424.0 69h0.0\"/><path d=\"M452.5 69h0.0\"/><g class=\"terminal\">\n",
       "<path d=\"M424.0 69h0.0\"/><path d=\"M452.5 69h0.0\"/><rect height=\"22\" rx=\"10\" ry=\"10\" width=\"28.5\" x=\"424.0\" y=\"58\"/><text x=\"438.25\" y=\"73\">P</text></g></g><path d=\"M452.5 69a10 10 0 0 1 10 10v100a10 10 0 0 0 10 10\"/><path d=\"M404.0 189a10 10 0 0 0 10 -10v-130a10 10 0 0 1 10 -10\"/><g>\n",
       "<path d=\"M424.0 39h0.0\"/><path d=\"M452.5 39h0.0\"/><g class=\"terminal\">\n",
       "<path d=\"M424.0 39h0.0\"/><path d=\"M452.5 39h0.0\"/><rect height=\"22\" rx=\"10\" ry=\"10\" width=\"28.5\" x=\"424.0\" y=\"28\"/><text x=\"438.25\" y=\"43\">O</text></g></g><path d=\"M452.5 39a10 10 0 0 1 10 10v130a10 10 0 0 0 10 10\"/><path d=\"M404.0 189h20\"/><g>\n",
       "<path d=\"M424.0 189h0.0\"/><path d=\"M452.5 189h0.0\"/><g class=\"terminal\">\n",
       "<path d=\"M424.0 189h0.0\"/><path d=\"M452.5 189h0.0\"/><rect height=\"22\" rx=\"10\" ry=\"10\" width=\"28.5\" x=\"424.0\" y=\"178\"/><text x=\"438.25\" y=\"193\">T</text></g></g><path d=\"M452.5 189h20\"/><path d=\"M404.0 189a10 10 0 0 1 10 10v10a10 10 0 0 0 10 10\"/><g>\n",
       "<path d=\"M424.0 219h0.0\"/><path d=\"M452.5 219h0.0\"/><g class=\"terminal\">\n",
       "<path d=\"M424.0 219h0.0\"/><path d=\"M452.5 219h0.0\"/><rect height=\"22\" rx=\"10\" ry=\"10\" width=\"28.5\" x=\"424.0\" y=\"208\"/><text x=\"438.25\" y=\"223\">U</text></g></g><path d=\"M452.5 219a10 10 0 0 0 10 -10v-10a10 10 0 0 1 10 -10\"/><path d=\"M404.0 189a10 10 0 0 1 10 10v40a10 10 0 0 0 10 10\"/><g>\n",
       "<path d=\"M424.0 249h0.0\"/><path d=\"M452.5 249h0.0\"/><g class=\"terminal\">\n",
       "<path d=\"M424.0 249h0.0\"/><path d=\"M452.5 249h0.0\"/><rect height=\"22\" rx=\"10\" ry=\"10\" width=\"28.5\" x=\"424.0\" y=\"238\"/><text x=\"438.25\" y=\"253\">V</text></g></g><path d=\"M452.5 249a10 10 0 0 0 10 -10v-40a10 10 0 0 1 10 -10\"/><path d=\"M404.0 189a10 10 0 0 1 10 10v70a10 10 0 0 0 10 10\"/><g>\n",
       "<path d=\"M424.0 279h0.0\"/><path d=\"M452.5 279h0.0\"/><g class=\"terminal\">\n",
       "<path d=\"M424.0 279h0.0\"/><path d=\"M452.5 279h0.0\"/><rect height=\"22\" rx=\"10\" ry=\"10\" width=\"28.5\" x=\"424.0\" y=\"268\"/><text x=\"438.25\" y=\"283\">W</text></g></g><path d=\"M452.5 279a10 10 0 0 0 10 -10v-70a10 10 0 0 1 10 -10\"/><path d=\"M404.0 189a10 10 0 0 1 10 10v100a10 10 0 0 0 10 10\"/><g>\n",
       "<path d=\"M424.0 309h0.0\"/><path d=\"M452.5 309h0.0\"/><g class=\"terminal\">\n",
       "<path d=\"M424.0 309h0.0\"/><path d=\"M452.5 309h0.0\"/><rect height=\"22\" rx=\"10\" ry=\"10\" width=\"28.5\" x=\"424.0\" y=\"298\"/><text x=\"438.25\" y=\"313\">X</text></g></g><path d=\"M452.5 309a10 10 0 0 0 10 -10v-100a10 10 0 0 1 10 -10\"/></g><path d=\"M472.5 189a10 10 0 0 1 10 10v119a10 10 0 0 0 10 10\"/><path d=\"M472.5 20a10 10 0 0 1 10 10v149a10 10 0 0 0 10 10\"/><g>\n",
       "<path d=\"M492.5 189h0.0\"/><path d=\"M561.0 189h0.0\"/><path d=\"M492.5 189a10 10 0 0 0 10 -10v-10a10 10 0 0 1 10 -10\"/><g>\n",
       "<path d=\"M512.5 159h0.0\"/><path d=\"M541.0 159h0.0\"/><g class=\"terminal\">\n",
       "<path d=\"M512.5 159h0.0\"/><path d=\"M541.0 159h0.0\"/><rect height=\"22\" rx=\"10\" ry=\"10\" width=\"28.5\" x=\"512.5\" y=\"148\"/><text x=\"526.75\" y=\"163\">Y</text></g></g><path d=\"M541.0 159a10 10 0 0 1 10 10v10a10 10 0 0 0 10 10\"/><path d=\"M492.5 189h20\"/><g>\n",
       "<path d=\"M512.5 189h0.0\"/><path d=\"M541.0 189h0.0\"/><g class=\"terminal\">\n",
       "<path d=\"M512.5 189h0.0\"/><path d=\"M541.0 189h0.0\"/><rect height=\"22\" rx=\"10\" ry=\"10\" width=\"28.5\" x=\"512.5\" y=\"178\"/><text x=\"526.75\" y=\"193\">Z</text></g></g><path d=\"M541.0 189h20\"/></g><path d=\"M561.0 189h10\"/></g><path d=\"M 571.0 189 h 20 m -10 -10 v 20 m 10 -20 v 20\"/></g></svg>"
      ],
      "text/plain": [
       "<IPython.core.display.SVG object>"
      ]
     },
     "metadata": {},
     "output_type": "display_data"
    },
    {
     "name": "stdout",
     "output_type": "stream",
     "text": [
      "expr\n"
     ]
    },
    {
     "data": {
      "image/svg+xml": [
       "<svg class=\"railroad-diagram\" height=\"122\" viewBox=\"0 0 296.5 122\" width=\"296.5\" xmlns=\"http://www.w3.org/2000/svg\">\n",
       "<g transform=\"translate(.5 .5)\">\n",
       "<style>/* <![CDATA[ */\n",
       "    svg.railroad-diagram {\n",
       "        background-color:hsl(100,100%,100%);\n",
       "    }\n",
       "    svg.railroad-diagram path {\n",
       "        stroke-width:3;\n",
       "        stroke:black;\n",
       "        fill:rgba(0,0,0,0);\n",
       "    }\n",
       "    svg.railroad-diagram text {\n",
       "        font:bold 14px monospace;\n",
       "        text-anchor:middle;\n",
       "    }\n",
       "    svg.railroad-diagram text.label{\n",
       "        text-anchor:start;\n",
       "    }\n",
       "    svg.railroad-diagram text.comment{\n",
       "        font:italic 12px monospace;\n",
       "    }\n",
       "    svg.railroad-diagram rect{\n",
       "        stroke-width:3;\n",
       "        stroke:black;\n",
       "        fill:hsl(0,62%,82%);\n",
       "    }\n",
       "\n",
       "/* ]]> */\n",
       "</style><g>\n",
       "<path d=\"M20 51v20m10 -20v20m-10 -10h20\"/></g><g>\n",
       "<path d=\"M40 61h0.0\"/><path d=\"M256.5 61h0.0\"/><path d=\"M40.0 61a10 10 0 0 0 10 -10v-10a10 10 0 0 1 10 -10\"/><g>\n",
       "<path d=\"M60.0 31h0.0\"/><path d=\"M236.5 31h0.0\"/><g class=\"non-terminal\">\n",
       "<path d=\"M60.0 31h0.0\"/><path d=\"M114.0 31h0.0\"/><rect height=\"22\" width=\"54.0\" x=\"60.0\" y=\"20\"/><text x=\"87.0\" y=\"35\">term</text></g><path d=\"M114.0 31h10\"/><path d=\"M124.0 31h10\"/><g class=\"terminal\">\n",
       "<path d=\"M134.0 31h0.0\"/><path d=\"M162.5 31h0.0\"/><rect height=\"22\" rx=\"10\" ry=\"10\" width=\"28.5\" x=\"134.0\" y=\"20\"/><text x=\"148.25\" y=\"35\">+</text></g><path d=\"M162.5 31h10\"/><path d=\"M172.5 31h10\"/><g class=\"non-terminal\">\n",
       "<path d=\"M182.5 31h0.0\"/><path d=\"M236.5 31h0.0\"/><rect height=\"22\" width=\"54.0\" x=\"182.5\" y=\"20\"/><text x=\"209.5\" y=\"35\">expr</text></g></g><path d=\"M236.5 31a10 10 0 0 1 10 10v10a10 10 0 0 0 10 10\"/><path d=\"M40.0 61h20\"/><g>\n",
       "<path d=\"M60.0 61h0.0\"/><path d=\"M236.5 61h0.0\"/><g class=\"non-terminal\">\n",
       "<path d=\"M60.0 61h0.0\"/><path d=\"M114.0 61h0.0\"/><rect height=\"22\" width=\"54.0\" x=\"60.0\" y=\"50\"/><text x=\"87.0\" y=\"65\">term</text></g><path d=\"M114.0 61h10\"/><path d=\"M124.0 61h10\"/><g class=\"terminal\">\n",
       "<path d=\"M134.0 61h0.0\"/><path d=\"M162.5 61h0.0\"/><rect height=\"22\" rx=\"10\" ry=\"10\" width=\"28.5\" x=\"134.0\" y=\"50\"/><text x=\"148.25\" y=\"65\">-</text></g><path d=\"M162.5 61h10\"/><path d=\"M172.5 61h10\"/><g class=\"non-terminal\">\n",
       "<path d=\"M182.5 61h0.0\"/><path d=\"M236.5 61h0.0\"/><rect height=\"22\" width=\"54.0\" x=\"182.5\" y=\"50\"/><text x=\"209.5\" y=\"65\">expr</text></g></g><path d=\"M236.5 61h20\"/><path d=\"M40.0 61a10 10 0 0 1 10 10v10a10 10 0 0 0 10 10\"/><g>\n",
       "<path d=\"M60.0 91h61.25\"/><path d=\"M175.25 91h61.25\"/><g class=\"non-terminal\">\n",
       "<path d=\"M121.25 91h0.0\"/><path d=\"M175.25 91h0.0\"/><rect height=\"22\" width=\"54.0\" x=\"121.25\" y=\"80\"/><text x=\"148.25\" y=\"95\">term</text></g></g><path d=\"M236.5 91a10 10 0 0 0 10 -10v-10a10 10 0 0 1 10 -10\"/></g><path d=\"M 256.5 61 h 20 m -10 -10 v 20 m 10 -20 v 20\"/></g></svg>"
      ],
      "text/plain": [
       "<IPython.core.display.SVG object>"
      ]
     },
     "metadata": {},
     "output_type": "display_data"
    },
    {
     "name": "stdout",
     "output_type": "stream",
     "text": [
      "term\n"
     ]
    },
    {
     "data": {
      "image/svg+xml": [
       "<svg class=\"railroad-diagram\" height=\"122\" viewBox=\"0 0 313.5 122\" width=\"313.5\" xmlns=\"http://www.w3.org/2000/svg\">\n",
       "<g transform=\"translate(.5 .5)\">\n",
       "<style>/* <![CDATA[ */\n",
       "    svg.railroad-diagram {\n",
       "        background-color:hsl(100,100%,100%);\n",
       "    }\n",
       "    svg.railroad-diagram path {\n",
       "        stroke-width:3;\n",
       "        stroke:black;\n",
       "        fill:rgba(0,0,0,0);\n",
       "    }\n",
       "    svg.railroad-diagram text {\n",
       "        font:bold 14px monospace;\n",
       "        text-anchor:middle;\n",
       "    }\n",
       "    svg.railroad-diagram text.label{\n",
       "        text-anchor:start;\n",
       "    }\n",
       "    svg.railroad-diagram text.comment{\n",
       "        font:italic 12px monospace;\n",
       "    }\n",
       "    svg.railroad-diagram rect{\n",
       "        stroke-width:3;\n",
       "        stroke:black;\n",
       "        fill:hsl(0,62%,82%);\n",
       "    }\n",
       "\n",
       "/* ]]> */\n",
       "</style><g>\n",
       "<path d=\"M20 51v20m10 -20v20m-10 -10h20\"/></g><g>\n",
       "<path d=\"M40 61h0.0\"/><path d=\"M273.5 61h0.0\"/><path d=\"M40.0 61a10 10 0 0 0 10 -10v-10a10 10 0 0 1 10 -10\"/><g>\n",
       "<path d=\"M60.0 31h0.0\"/><path d=\"M253.5 31h0.0\"/><g class=\"non-terminal\">\n",
       "<path d=\"M60.0 31h0.0\"/><path d=\"M131.0 31h0.0\"/><rect height=\"22\" width=\"71.0\" x=\"60.0\" y=\"20\"/><text x=\"95.5\" y=\"35\">factor</text></g><path d=\"M131.0 31h10\"/><path d=\"M141.0 31h10\"/><g class=\"terminal\">\n",
       "<path d=\"M151.0 31h0.0\"/><path d=\"M179.5 31h0.0\"/><rect height=\"22\" rx=\"10\" ry=\"10\" width=\"28.5\" x=\"151.0\" y=\"20\"/><text x=\"165.25\" y=\"35\">*</text></g><path d=\"M179.5 31h10\"/><path d=\"M189.5 31h10\"/><g class=\"non-terminal\">\n",
       "<path d=\"M199.5 31h0.0\"/><path d=\"M253.5 31h0.0\"/><rect height=\"22\" width=\"54.0\" x=\"199.5\" y=\"20\"/><text x=\"226.5\" y=\"35\">term</text></g></g><path d=\"M253.5 31a10 10 0 0 1 10 10v10a10 10 0 0 0 10 10\"/><path d=\"M40.0 61h20\"/><g>\n",
       "<path d=\"M60.0 61h0.0\"/><path d=\"M253.5 61h0.0\"/><g class=\"non-terminal\">\n",
       "<path d=\"M60.0 61h0.0\"/><path d=\"M131.0 61h0.0\"/><rect height=\"22\" width=\"71.0\" x=\"60.0\" y=\"50\"/><text x=\"95.5\" y=\"65\">factor</text></g><path d=\"M131.0 61h10\"/><path d=\"M141.0 61h10\"/><g class=\"terminal\">\n",
       "<path d=\"M151.0 61h0.0\"/><path d=\"M179.5 61h0.0\"/><rect height=\"22\" rx=\"10\" ry=\"10\" width=\"28.5\" x=\"151.0\" y=\"50\"/><text x=\"165.25\" y=\"65\">/</text></g><path d=\"M179.5 61h10\"/><path d=\"M189.5 61h10\"/><g class=\"non-terminal\">\n",
       "<path d=\"M199.5 61h0.0\"/><path d=\"M253.5 61h0.0\"/><rect height=\"22\" width=\"54.0\" x=\"199.5\" y=\"50\"/><text x=\"226.5\" y=\"65\">term</text></g></g><path d=\"M253.5 61h20\"/><path d=\"M40.0 61a10 10 0 0 1 10 10v10a10 10 0 0 0 10 10\"/><g>\n",
       "<path d=\"M60.0 91h61.25\"/><path d=\"M192.25 91h61.25\"/><g class=\"non-terminal\">\n",
       "<path d=\"M121.25 91h0.0\"/><path d=\"M192.25 91h0.0\"/><rect height=\"22\" width=\"71.0\" x=\"121.25\" y=\"80\"/><text x=\"156.75\" y=\"95\">factor</text></g></g><path d=\"M253.5 91a10 10 0 0 0 10 -10v-10a10 10 0 0 1 10 -10\"/></g><path d=\"M 273.5 61 h 20 m -10 -10 v 20 m 10 -20 v 20\"/></g></svg>"
      ],
      "text/plain": [
       "<IPython.core.display.SVG object>"
      ]
     },
     "metadata": {},
     "output_type": "display_data"
    },
    {
     "name": "stdout",
     "output_type": "stream",
     "text": [
      "factor\n"
     ]
    },
    {
     "data": {
      "image/svg+xml": [
       "<svg class=\"railroad-diagram\" height=\"182\" viewBox=\"0 0 271.0 182\" width=\"271.0\" xmlns=\"http://www.w3.org/2000/svg\">\n",
       "<g transform=\"translate(.5 .5)\">\n",
       "<style>/* <![CDATA[ */\n",
       "    svg.railroad-diagram {\n",
       "        background-color:hsl(100,100%,100%);\n",
       "    }\n",
       "    svg.railroad-diagram path {\n",
       "        stroke-width:3;\n",
       "        stroke:black;\n",
       "        fill:rgba(0,0,0,0);\n",
       "    }\n",
       "    svg.railroad-diagram text {\n",
       "        font:bold 14px monospace;\n",
       "        text-anchor:middle;\n",
       "    }\n",
       "    svg.railroad-diagram text.label{\n",
       "        text-anchor:start;\n",
       "    }\n",
       "    svg.railroad-diagram text.comment{\n",
       "        font:italic 12px monospace;\n",
       "    }\n",
       "    svg.railroad-diagram rect{\n",
       "        stroke-width:3;\n",
       "        stroke:black;\n",
       "        fill:hsl(0,62%,82%);\n",
       "    }\n",
       "\n",
       "/* ]]> */\n",
       "</style><g>\n",
       "<path d=\"M20 81v20m10 -20v20m-10 -10h20\"/></g><g>\n",
       "<path d=\"M40 91h0.0\"/><path d=\"M231.0 91h0.0\"/><path d=\"M40.0 91a10 10 0 0 0 10 -10v-10a10 10 0 0 1 10 -10\"/><g>\n",
       "<path d=\"M60.0 61h15.75\"/><path d=\"M195.25 61h15.75\"/><g class=\"terminal\">\n",
       "<path d=\"M75.75 61h0.0\"/><path d=\"M104.25 61h0.0\"/><rect height=\"22\" rx=\"10\" ry=\"10\" width=\"28.5\" x=\"75.75\" y=\"50\"/><text x=\"90.0\" y=\"65\">-</text></g><path d=\"M104.25 61h10\"/><path d=\"M114.25 61h10\"/><g class=\"non-terminal\">\n",
       "<path d=\"M124.25 61h0.0\"/><path d=\"M195.25 61h0.0\"/><rect height=\"22\" width=\"71.0\" x=\"124.25\" y=\"50\"/><text x=\"159.75\" y=\"65\">factor</text></g></g><path d=\"M211.0 61a10 10 0 0 1 10 10v10a10 10 0 0 0 10 10\"/><path d=\"M40.0 91a10 10 0 0 0 10 -10v-40a10 10 0 0 1 10 -10\"/><g>\n",
       "<path d=\"M60.0 31h15.75\"/><path d=\"M195.25 31h15.75\"/><g class=\"terminal\">\n",
       "<path d=\"M75.75 31h0.0\"/><path d=\"M104.25 31h0.0\"/><rect height=\"22\" rx=\"10\" ry=\"10\" width=\"28.5\" x=\"75.75\" y=\"20\"/><text x=\"90.0\" y=\"35\">+</text></g><path d=\"M104.25 31h10\"/><path d=\"M114.25 31h10\"/><g class=\"non-terminal\">\n",
       "<path d=\"M124.25 31h0.0\"/><path d=\"M195.25 31h0.0\"/><rect height=\"22\" width=\"71.0\" x=\"124.25\" y=\"20\"/><text x=\"159.75\" y=\"35\">factor</text></g></g><path d=\"M211.0 31a10 10 0 0 1 10 10v40a10 10 0 0 0 10 10\"/><path d=\"M40.0 91h20\"/><g>\n",
       "<path d=\"M60.0 91h0.0\"/><path d=\"M211.0 91h0.0\"/><g class=\"terminal\">\n",
       "<path d=\"M60.0 91h0.0\"/><path d=\"M88.5 91h0.0\"/><rect height=\"22\" rx=\"10\" ry=\"10\" width=\"28.5\" x=\"60.0\" y=\"80\"/><text x=\"74.25\" y=\"95\">(</text></g><path d=\"M88.5 91h10\"/><path d=\"M98.5 91h10\"/><g class=\"non-terminal\">\n",
       "<path d=\"M108.5 91h0.0\"/><path d=\"M162.5 91h0.0\"/><rect height=\"22\" width=\"54.0\" x=\"108.5\" y=\"80\"/><text x=\"135.5\" y=\"95\">expr</text></g><path d=\"M162.5 91h10\"/><path d=\"M172.5 91h10\"/><g class=\"terminal\">\n",
       "<path d=\"M182.5 91h0.0\"/><path d=\"M211.0 91h0.0\"/><rect height=\"22\" rx=\"10\" ry=\"10\" width=\"28.5\" x=\"182.5\" y=\"80\"/><text x=\"196.75\" y=\"95\">)</text></g></g><path d=\"M211.0 91h20\"/><path d=\"M40.0 91a10 10 0 0 1 10 10v10a10 10 0 0 0 10 10\"/><g>\n",
       "<path d=\"M60.0 121h23.0\"/><path d=\"M188.0 121h23.0\"/><g class=\"non-terminal\">\n",
       "<path d=\"M83.0 121h0.0\"/><path d=\"M188.0 121h0.0\"/><rect height=\"22\" width=\"105.0\" x=\"83.0\" y=\"110\"/><text x=\"135.5\" y=\"125\">identifier</text></g></g><path d=\"M211.0 121a10 10 0 0 0 10 -10v-10a10 10 0 0 1 10 -10\"/><path d=\"M40.0 91a10 10 0 0 1 10 10v40a10 10 0 0 0 10 10\"/><g>\n",
       "<path d=\"M60.0 151h40.0\"/><path d=\"M171.0 151h40.0\"/><g class=\"non-terminal\">\n",
       "<path d=\"M100.0 151h0.0\"/><path d=\"M171.0 151h0.0\"/><rect height=\"22\" width=\"71.0\" x=\"100.0\" y=\"140\"/><text x=\"135.5\" y=\"155\">number</text></g></g><path d=\"M211.0 151a10 10 0 0 0 10 -10v-40a10 10 0 0 1 10 -10\"/></g><path d=\"M 231.0 91 h 20 m -10 -10 v 20 m 10 -20 v 20\"/></g></svg>"
      ],
      "text/plain": [
       "<IPython.core.display.SVG object>"
      ]
     },
     "metadata": {},
     "output_type": "display_data"
    },
    {
     "name": "stdout",
     "output_type": "stream",
     "text": [
      "number\n"
     ]
    },
    {
     "data": {
      "image/svg+xml": [
       "<svg class=\"railroad-diagram\" height=\"92\" viewBox=\"0 0 347.5 92\" width=\"347.5\" xmlns=\"http://www.w3.org/2000/svg\">\n",
       "<g transform=\"translate(.5 .5)\">\n",
       "<style>/* <![CDATA[ */\n",
       "    svg.railroad-diagram {\n",
       "        background-color:hsl(100,100%,100%);\n",
       "    }\n",
       "    svg.railroad-diagram path {\n",
       "        stroke-width:3;\n",
       "        stroke:black;\n",
       "        fill:rgba(0,0,0,0);\n",
       "    }\n",
       "    svg.railroad-diagram text {\n",
       "        font:bold 14px monospace;\n",
       "        text-anchor:middle;\n",
       "    }\n",
       "    svg.railroad-diagram text.label{\n",
       "        text-anchor:start;\n",
       "    }\n",
       "    svg.railroad-diagram text.comment{\n",
       "        font:italic 12px monospace;\n",
       "    }\n",
       "    svg.railroad-diagram rect{\n",
       "        stroke-width:3;\n",
       "        stroke:black;\n",
       "        fill:hsl(0,62%,82%);\n",
       "    }\n",
       "\n",
       "/* ]]> */\n",
       "</style><g>\n",
       "<path d=\"M20 51v20m10 -20v20m-10 -10h20\"/></g><g>\n",
       "<path d=\"M40 61h0.0\"/><path d=\"M307.5 61h0.0\"/><path d=\"M40.0 61a10 10 0 0 0 10 -10v-10a10 10 0 0 1 10 -10\"/><g>\n",
       "<path d=\"M60.0 31h0.0\"/><path d=\"M287.5 31h0.0\"/><g class=\"non-terminal\">\n",
       "<path d=\"M60.0 31h0.0\"/><path d=\"M139.5 31h0.0\"/><rect height=\"22\" width=\"79.5\" x=\"60.0\" y=\"20\"/><text x=\"99.75\" y=\"35\">integer</text></g><path d=\"M139.5 31h10\"/><path d=\"M149.5 31h10\"/><g class=\"terminal\">\n",
       "<path d=\"M159.5 31h0.0\"/><path d=\"M188.0 31h0.0\"/><rect height=\"22\" rx=\"10\" ry=\"10\" width=\"28.5\" x=\"159.5\" y=\"20\"/><text x=\"173.75\" y=\"35\">.</text></g><path d=\"M188.0 31h10\"/><path d=\"M198.0 31h10\"/><g class=\"non-terminal\">\n",
       "<path d=\"M208.0 31h0.0\"/><path d=\"M287.5 31h0.0\"/><rect height=\"22\" width=\"79.5\" x=\"208.0\" y=\"20\"/><text x=\"247.75\" y=\"35\">integer</text></g></g><path d=\"M287.5 31a10 10 0 0 1 10 10v10a10 10 0 0 0 10 10\"/><path d=\"M40.0 61h20\"/><g>\n",
       "<path d=\"M60.0 61h74.0\"/><path d=\"M213.5 61h74.0\"/><g class=\"non-terminal\">\n",
       "<path d=\"M134.0 61h0.0\"/><path d=\"M213.5 61h0.0\"/><rect height=\"22\" width=\"79.5\" x=\"134.0\" y=\"50\"/><text x=\"173.75\" y=\"65\">integer</text></g></g><path d=\"M287.5 61h20\"/></g><path d=\"M 307.5 61 h 20 m -10 -10 v 20 m 10 -20 v 20\"/></g></svg>"
      ],
      "text/plain": [
       "<IPython.core.display.SVG object>"
      ]
     },
     "metadata": {},
     "output_type": "display_data"
    },
    {
     "name": "stdout",
     "output_type": "stream",
     "text": [
      "integer\n"
     ]
    },
    {
     "data": {
      "image/svg+xml": [
       "<svg class=\"railroad-diagram\" height=\"92\" viewBox=\"0 0 282.0 92\" width=\"282.0\" xmlns=\"http://www.w3.org/2000/svg\">\n",
       "<g transform=\"translate(.5 .5)\">\n",
       "<style>/* <![CDATA[ */\n",
       "    svg.railroad-diagram {\n",
       "        background-color:hsl(100,100%,100%);\n",
       "    }\n",
       "    svg.railroad-diagram path {\n",
       "        stroke-width:3;\n",
       "        stroke:black;\n",
       "        fill:rgba(0,0,0,0);\n",
       "    }\n",
       "    svg.railroad-diagram text {\n",
       "        font:bold 14px monospace;\n",
       "        text-anchor:middle;\n",
       "    }\n",
       "    svg.railroad-diagram text.label{\n",
       "        text-anchor:start;\n",
       "    }\n",
       "    svg.railroad-diagram text.comment{\n",
       "        font:italic 12px monospace;\n",
       "    }\n",
       "    svg.railroad-diagram rect{\n",
       "        stroke-width:3;\n",
       "        stroke:black;\n",
       "        fill:hsl(0,62%,82%);\n",
       "    }\n",
       "\n",
       "/* ]]> */\n",
       "</style><g>\n",
       "<path d=\"M20 51v20m10 -20v20m-10 -10h20\"/></g><g>\n",
       "<path d=\"M40 61h0.0\"/><path d=\"M242.0 61h0.0\"/><path d=\"M40.0 61a10 10 0 0 0 10 -10v-10a10 10 0 0 1 10 -10\"/><g>\n",
       "<path d=\"M60.0 31h0.0\"/><path d=\"M222.0 31h0.0\"/><g class=\"non-terminal\">\n",
       "<path d=\"M60.0 31h0.0\"/><path d=\"M122.5 31h0.0\"/><rect height=\"22\" width=\"62.5\" x=\"60.0\" y=\"20\"/><text x=\"91.25\" y=\"35\">digit</text></g><path d=\"M122.5 31h10\"/><path d=\"M132.5 31h10\"/><g class=\"non-terminal\">\n",
       "<path d=\"M142.5 31h0.0\"/><path d=\"M222.0 31h0.0\"/><rect height=\"22\" width=\"79.5\" x=\"142.5\" y=\"20\"/><text x=\"182.25\" y=\"35\">integer</text></g></g><path d=\"M222.0 31a10 10 0 0 1 10 10v10a10 10 0 0 0 10 10\"/><path d=\"M40.0 61h20\"/><g>\n",
       "<path d=\"M60.0 61h49.75\"/><path d=\"M172.25 61h49.75\"/><g class=\"non-terminal\">\n",
       "<path d=\"M109.75 61h0.0\"/><path d=\"M172.25 61h0.0\"/><rect height=\"22\" width=\"62.5\" x=\"109.75\" y=\"50\"/><text x=\"141.0\" y=\"65\">digit</text></g></g><path d=\"M222.0 61h20\"/></g><path d=\"M 242.0 61 h 20 m -10 -10 v 20 m 10 -20 v 20\"/></g></svg>"
      ],
      "text/plain": [
       "<IPython.core.display.SVG object>"
      ]
     },
     "metadata": {},
     "output_type": "display_data"
    },
    {
     "name": "stdout",
     "output_type": "stream",
     "text": [
      "digit\n"
     ]
    },
    {
     "data": {
      "image/svg+xml": [
       "<svg class=\"railroad-diagram\" height=\"109\" viewBox=\"0 0 522.5 109\" width=\"522.5\" xmlns=\"http://www.w3.org/2000/svg\">\n",
       "<g transform=\"translate(.5 .5)\">\n",
       "<style>/* <![CDATA[ */\n",
       "    svg.railroad-diagram {\n",
       "        background-color:hsl(100,100%,100%);\n",
       "    }\n",
       "    svg.railroad-diagram path {\n",
       "        stroke-width:3;\n",
       "        stroke:black;\n",
       "        fill:rgba(0,0,0,0);\n",
       "    }\n",
       "    svg.railroad-diagram text {\n",
       "        font:bold 14px monospace;\n",
       "        text-anchor:middle;\n",
       "    }\n",
       "    svg.railroad-diagram text.label{\n",
       "        text-anchor:start;\n",
       "    }\n",
       "    svg.railroad-diagram text.comment{\n",
       "        font:italic 12px monospace;\n",
       "    }\n",
       "    svg.railroad-diagram rect{\n",
       "        stroke-width:3;\n",
       "        stroke:black;\n",
       "        fill:hsl(0,62%,82%);\n",
       "    }\n",
       "\n",
       "/* ]]> */\n",
       "</style><g>\n",
       "<path d=\"M20 59v20m10 -20v20m-10 -10h20\"/></g><g>\n",
       "<path d=\"M40 69h0.0\"/><path d=\"M482.5 69h0.0\"/><path d=\"M40.0 69a10 10 0 0 0 10 -10v-29a10 10 0 0 1 10 -10h324.0\"/><path d=\"M138.5 89h324.0a10 10 0 0 0 10 -10v0a10 10 0 0 1 10 -10\"/><path d=\"M40.0 69h10\"/><g>\n",
       "<path d=\"M50.0 69h0.0\"/><path d=\"M118.5 69h0.0\"/><path d=\"M50.0 69a10 10 0 0 0 10 -10v-10a10 10 0 0 1 10 -10\"/><g>\n",
       "<path d=\"M70.0 39h0.0\"/><path d=\"M98.5 39h0.0\"/><g class=\"terminal\">\n",
       "<path d=\"M70.0 39h0.0\"/><path d=\"M98.5 39h0.0\"/><rect height=\"22\" rx=\"10\" ry=\"10\" width=\"28.5\" x=\"70.0\" y=\"28\"/><text x=\"84.25\" y=\"43\">0</text></g></g><path d=\"M98.5 39a10 10 0 0 1 10 10v10a10 10 0 0 0 10 10\"/><path d=\"M50.0 69h20\"/><g>\n",
       "<path d=\"M70.0 69h0.0\"/><path d=\"M98.5 69h0.0\"/><g class=\"terminal\">\n",
       "<path d=\"M70.0 69h0.0\"/><path d=\"M98.5 69h0.0\"/><rect height=\"22\" rx=\"10\" ry=\"10\" width=\"28.5\" x=\"70.0\" y=\"58\"/><text x=\"84.25\" y=\"73\">1</text></g></g><path d=\"M98.5 69h20\"/></g><path d=\"M118.5 69a10 10 0 0 1 10 10v0a10 10 0 0 0 10 10\"/><path d=\"M118.5 20a10 10 0 0 1 10 10v29a10 10 0 0 0 10 10\"/><g>\n",
       "<path d=\"M138.5 69h0.0\"/><path d=\"M207.0 69h0.0\"/><path d=\"M138.5 69a10 10 0 0 0 10 -10v-10a10 10 0 0 1 10 -10\"/><g>\n",
       "<path d=\"M158.5 39h0.0\"/><path d=\"M187.0 39h0.0\"/><g class=\"terminal\">\n",
       "<path d=\"M158.5 39h0.0\"/><path d=\"M187.0 39h0.0\"/><rect height=\"22\" rx=\"10\" ry=\"10\" width=\"28.5\" x=\"158.5\" y=\"28\"/><text x=\"172.75\" y=\"43\">2</text></g></g><path d=\"M187.0 39a10 10 0 0 1 10 10v10a10 10 0 0 0 10 10\"/><path d=\"M138.5 69h20\"/><g>\n",
       "<path d=\"M158.5 69h0.0\"/><path d=\"M187.0 69h0.0\"/><g class=\"terminal\">\n",
       "<path d=\"M158.5 69h0.0\"/><path d=\"M187.0 69h0.0\"/><rect height=\"22\" rx=\"10\" ry=\"10\" width=\"28.5\" x=\"158.5\" y=\"58\"/><text x=\"172.75\" y=\"73\">3</text></g></g><path d=\"M187.0 69h20\"/></g><path d=\"M207.0 69a10 10 0 0 1 10 10v0a10 10 0 0 0 10 10\"/><path d=\"M207.0 20a10 10 0 0 1 10 10v29a10 10 0 0 0 10 10\"/><g>\n",
       "<path d=\"M227.0 69h0.0\"/><path d=\"M295.5 69h0.0\"/><path d=\"M227.0 69a10 10 0 0 0 10 -10v-10a10 10 0 0 1 10 -10\"/><g>\n",
       "<path d=\"M247.0 39h0.0\"/><path d=\"M275.5 39h0.0\"/><g class=\"terminal\">\n",
       "<path d=\"M247.0 39h0.0\"/><path d=\"M275.5 39h0.0\"/><rect height=\"22\" rx=\"10\" ry=\"10\" width=\"28.5\" x=\"247.0\" y=\"28\"/><text x=\"261.25\" y=\"43\">4</text></g></g><path d=\"M275.5 39a10 10 0 0 1 10 10v10a10 10 0 0 0 10 10\"/><path d=\"M227.0 69h20\"/><g>\n",
       "<path d=\"M247.0 69h0.0\"/><path d=\"M275.5 69h0.0\"/><g class=\"terminal\">\n",
       "<path d=\"M247.0 69h0.0\"/><path d=\"M275.5 69h0.0\"/><rect height=\"22\" rx=\"10\" ry=\"10\" width=\"28.5\" x=\"247.0\" y=\"58\"/><text x=\"261.25\" y=\"73\">5</text></g></g><path d=\"M275.5 69h20\"/></g><path d=\"M295.5 69a10 10 0 0 1 10 10v0a10 10 0 0 0 10 10\"/><path d=\"M295.5 20a10 10 0 0 1 10 10v29a10 10 0 0 0 10 10\"/><g>\n",
       "<path d=\"M315.5 69h0.0\"/><path d=\"M384.0 69h0.0\"/><path d=\"M315.5 69a10 10 0 0 0 10 -10v-10a10 10 0 0 1 10 -10\"/><g>\n",
       "<path d=\"M335.5 39h0.0\"/><path d=\"M364.0 39h0.0\"/><g class=\"terminal\">\n",
       "<path d=\"M335.5 39h0.0\"/><path d=\"M364.0 39h0.0\"/><rect height=\"22\" rx=\"10\" ry=\"10\" width=\"28.5\" x=\"335.5\" y=\"28\"/><text x=\"349.75\" y=\"43\">6</text></g></g><path d=\"M364.0 39a10 10 0 0 1 10 10v10a10 10 0 0 0 10 10\"/><path d=\"M315.5 69h20\"/><g>\n",
       "<path d=\"M335.5 69h0.0\"/><path d=\"M364.0 69h0.0\"/><g class=\"terminal\">\n",
       "<path d=\"M335.5 69h0.0\"/><path d=\"M364.0 69h0.0\"/><rect height=\"22\" rx=\"10\" ry=\"10\" width=\"28.5\" x=\"335.5\" y=\"58\"/><text x=\"349.75\" y=\"73\">7</text></g></g><path d=\"M364.0 69h20\"/></g><path d=\"M384.0 69a10 10 0 0 1 10 10v0a10 10 0 0 0 10 10\"/><path d=\"M384.0 20a10 10 0 0 1 10 10v29a10 10 0 0 0 10 10\"/><g>\n",
       "<path d=\"M404.0 69h0.0\"/><path d=\"M472.5 69h0.0\"/><path d=\"M404.0 69a10 10 0 0 0 10 -10v-10a10 10 0 0 1 10 -10\"/><g>\n",
       "<path d=\"M424.0 39h0.0\"/><path d=\"M452.5 39h0.0\"/><g class=\"terminal\">\n",
       "<path d=\"M424.0 39h0.0\"/><path d=\"M452.5 39h0.0\"/><rect height=\"22\" rx=\"10\" ry=\"10\" width=\"28.5\" x=\"424.0\" y=\"28\"/><text x=\"438.25\" y=\"43\">8</text></g></g><path d=\"M452.5 39a10 10 0 0 1 10 10v10a10 10 0 0 0 10 10\"/><path d=\"M404.0 69h20\"/><g>\n",
       "<path d=\"M424.0 69h0.0\"/><path d=\"M452.5 69h0.0\"/><g class=\"terminal\">\n",
       "<path d=\"M424.0 69h0.0\"/><path d=\"M452.5 69h0.0\"/><rect height=\"22\" rx=\"10\" ry=\"10\" width=\"28.5\" x=\"424.0\" y=\"58\"/><text x=\"438.25\" y=\"73\">9</text></g></g><path d=\"M452.5 69h20\"/></g><path d=\"M472.5 69h10\"/></g><path d=\"M 482.5 69 h 20 m -10 -10 v 20 m 10 -20 v 20\"/></g></svg>"
      ],
      "text/plain": [
       "<IPython.core.display.SVG object>"
      ]
     },
     "metadata": {},
     "output_type": "display_data"
    }
   ],
   "source": [
    "syntax_diagram(VAR_GRAMMAR)"
   ]
  },
  {
   "cell_type": "markdown",
   "metadata": {
    "slideshow": {
     "slide_type": "notes"
    }
   },
   "source": [
    "Let us use our new grammar to parse a program."
   ]
  },
  {
   "cell_type": "code",
   "execution_count": 64,
   "metadata": {
    "slideshow": {
     "slide_type": "fragment"
    }
   },
   "outputs": [
    {
     "data": {
      "image/svg+xml": [
       "<?xml version=\"1.0\" encoding=\"UTF-8\" standalone=\"no\"?>\n",
       "<!DOCTYPE svg PUBLIC \"-//W3C//DTD SVG 1.1//EN\"\n",
       " \"http://www.w3.org/Graphics/SVG/1.1/DTD/svg11.dtd\">\n",
       "<!-- Generated by graphviz version 2.40.1 (20161225.0304)\n",
       " -->\n",
       "<!-- Title: %3 Pages: 1 -->\n",
       "<svg width=\"437pt\" height=\"635pt\"\n",
       " viewBox=\"0.00 0.00 437.00 635.00\" xmlns=\"http://www.w3.org/2000/svg\" xmlns:xlink=\"http://www.w3.org/1999/xlink\">\n",
       "<g id=\"graph0\" class=\"graph\" transform=\"scale(1 1) rotate(0) translate(4 631)\">\n",
       "<title>%3</title>\n",
       "<polygon fill=\"#ffffff\" stroke=\"transparent\" points=\"-4,4 -4,-631 433,-631 433,4 -4,4\"/>\n",
       "<!-- 0 -->\n",
       "<g id=\"node1\" class=\"node\">\n",
       "<title>0</title>\n",
       "<text text-anchor=\"middle\" x=\"190.5\" y=\"-615.8\" font-family=\"Times,serif\" font-size=\"14.00\" fill=\"#000000\">&lt;start&gt;</text>\n",
       "</g>\n",
       "<!-- 1 -->\n",
       "<g id=\"node2\" class=\"node\">\n",
       "<title>1</title>\n",
       "<text text-anchor=\"middle\" x=\"190.5\" y=\"-564.8\" font-family=\"Times,serif\" font-size=\"14.00\" fill=\"#000000\">&lt;statements&gt;</text>\n",
       "</g>\n",
       "<!-- 0&#45;&gt;1 -->\n",
       "<g id=\"edge1\" class=\"edge\">\n",
       "<title>0&#45;&gt;1</title>\n",
       "<path fill=\"none\" stroke=\"#000000\" d=\"M190.5,-611.9748C190.5,-605.195 190.5,-594.966 190.5,-586.1331\"/>\n",
       "<polygon fill=\"#000000\" stroke=\"#000000\" points=\"194.0001,-586.0561 190.5,-576.0561 187.0001,-586.0561 194.0001,-586.0561\"/>\n",
       "</g>\n",
       "<!-- 2 -->\n",
       "<g id=\"node3\" class=\"node\">\n",
       "<title>2</title>\n",
       "<text text-anchor=\"middle\" x=\"133.5\" y=\"-513.8\" font-family=\"Times,serif\" font-size=\"14.00\" fill=\"#000000\">&lt;statement&gt;</text>\n",
       "</g>\n",
       "<!-- 1&#45;&gt;2 -->\n",
       "<g id=\"edge2\" class=\"edge\">\n",
       "<title>1&#45;&gt;2</title>\n",
       "<path fill=\"none\" stroke=\"#000000\" d=\"M182.0895,-560.9748C173.5859,-553.3663 160.2275,-541.4141 149.6677,-531.9658\"/>\n",
       "<polygon fill=\"#000000\" stroke=\"#000000\" points=\"151.7313,-529.1157 141.9451,-525.0561 147.0637,-534.3324 151.7313,-529.1157\"/>\n",
       "</g>\n",
       "<!-- 22 -->\n",
       "<g id=\"node23\" class=\"node\">\n",
       "<title>22</title>\n",
       "<text text-anchor=\"middle\" x=\"190.5\" y=\"-513.8\" font-family=\"Times,serif\" font-size=\"14.00\" fill=\"#000000\">;</text>\n",
       "</g>\n",
       "<!-- 1&#45;&gt;22 -->\n",
       "<g id=\"edge22\" class=\"edge\">\n",
       "<title>1&#45;&gt;22</title>\n",
       "<path fill=\"none\" stroke=\"#000000\" d=\"M190.5,-560.9748C190.5,-554.195 190.5,-543.966 190.5,-535.1331\"/>\n",
       "<polygon fill=\"#000000\" stroke=\"#000000\" points=\"194.0001,-535.0561 190.5,-525.0561 187.0001,-535.0561 194.0001,-535.0561\"/>\n",
       "</g>\n",
       "<!-- 23 -->\n",
       "<g id=\"node24\" class=\"node\">\n",
       "<title>23</title>\n",
       "<text text-anchor=\"middle\" x=\"249.5\" y=\"-513.8\" font-family=\"Times,serif\" font-size=\"14.00\" fill=\"#000000\">&lt;statements&gt;</text>\n",
       "</g>\n",
       "<!-- 1&#45;&gt;23 -->\n",
       "<g id=\"edge23\" class=\"edge\">\n",
       "<title>1&#45;&gt;23</title>\n",
       "<path fill=\"none\" stroke=\"#000000\" d=\"M199.2057,-560.9748C208.0947,-553.291 222.109,-541.177 233.0889,-531.6859\"/>\n",
       "<polygon fill=\"#000000\" stroke=\"#000000\" points=\"235.4821,-534.2435 240.7586,-525.0561 230.9044,-528.9478 235.4821,-534.2435\"/>\n",
       "</g>\n",
       "<!-- 3 -->\n",
       "<g id=\"node4\" class=\"node\">\n",
       "<title>3</title>\n",
       "<text text-anchor=\"middle\" x=\"129.5\" y=\"-462.8\" font-family=\"Times,serif\" font-size=\"14.00\" fill=\"#000000\">&lt;assignment&gt;</text>\n",
       "</g>\n",
       "<!-- 2&#45;&gt;3 -->\n",
       "<g id=\"edge3\" class=\"edge\">\n",
       "<title>2&#45;&gt;3</title>\n",
       "<path fill=\"none\" stroke=\"#000000\" d=\"M132.9098,-509.9748C132.378,-503.195 131.5758,-492.966 130.883,-484.1331\"/>\n",
       "<polygon fill=\"#000000\" stroke=\"#000000\" points=\"134.3639,-483.7518 130.0926,-474.0561 127.3854,-484.2992 134.3639,-483.7518\"/>\n",
       "</g>\n",
       "<!-- 4 -->\n",
       "<g id=\"node5\" class=\"node\">\n",
       "<title>4</title>\n",
       "<text text-anchor=\"middle\" x=\"73.5\" y=\"-411.8\" font-family=\"Times,serif\" font-size=\"14.00\" fill=\"#ff0000\">&lt;identifier&gt;</text>\n",
       "</g>\n",
       "<!-- 3&#45;&gt;4 -->\n",
       "<g id=\"edge4\" class=\"edge\">\n",
       "<title>3&#45;&gt;4</title>\n",
       "<path fill=\"none\" stroke=\"#000000\" d=\"M121.237,-458.9748C112.8826,-451.3663 99.7586,-439.4141 89.384,-429.9658\"/>\n",
       "<polygon fill=\"#000000\" stroke=\"#000000\" points=\"91.547,-427.2017 81.7969,-423.0561 86.8337,-432.3771 91.547,-427.2017\"/>\n",
       "</g>\n",
       "<!-- 11 -->\n",
       "<g id=\"node12\" class=\"node\">\n",
       "<title>11</title>\n",
       "<text text-anchor=\"middle\" x=\"129.5\" y=\"-411.8\" font-family=\"Times,serif\" font-size=\"14.00\" fill=\"#000000\">=</text>\n",
       "</g>\n",
       "<!-- 3&#45;&gt;11 -->\n",
       "<g id=\"edge11\" class=\"edge\">\n",
       "<title>3&#45;&gt;11</title>\n",
       "<path fill=\"none\" stroke=\"#000000\" d=\"M129.5,-458.9748C129.5,-452.195 129.5,-441.966 129.5,-433.1331\"/>\n",
       "<polygon fill=\"#000000\" stroke=\"#000000\" points=\"133.0001,-433.0561 129.5,-423.0561 126.0001,-433.0561 133.0001,-433.0561\"/>\n",
       "</g>\n",
       "<!-- 12 -->\n",
       "<g id=\"node13\" class=\"node\">\n",
       "<title>12</title>\n",
       "<text text-anchor=\"middle\" x=\"172.5\" y=\"-411.8\" font-family=\"Times,serif\" font-size=\"14.00\" fill=\"#000000\">&lt;expr&gt;</text>\n",
       "</g>\n",
       "<!-- 3&#45;&gt;12 -->\n",
       "<g id=\"edge12\" class=\"edge\">\n",
       "<title>3&#45;&gt;12</title>\n",
       "<path fill=\"none\" stroke=\"#000000\" d=\"M135.8448,-458.9748C142.0692,-451.5923 151.7417,-440.1203 159.5881,-430.8142\"/>\n",
       "<polygon fill=\"#000000\" stroke=\"#000000\" points=\"162.359,-432.9574 166.1292,-423.0561 157.0073,-428.4452 162.359,-432.9574\"/>\n",
       "</g>\n",
       "<!-- 5 -->\n",
       "<g id=\"node6\" class=\"node\">\n",
       "<title>5</title>\n",
       "<text text-anchor=\"middle\" x=\"73.5\" y=\"-360.8\" font-family=\"Times,serif\" font-size=\"14.00\" fill=\"#000000\">&lt;word&gt;</text>\n",
       "</g>\n",
       "<!-- 4&#45;&gt;5 -->\n",
       "<g id=\"edge5\" class=\"edge\">\n",
       "<title>4&#45;&gt;5</title>\n",
       "<path fill=\"none\" stroke=\"#000000\" d=\"M73.5,-407.9748C73.5,-401.195 73.5,-390.966 73.5,-382.1331\"/>\n",
       "<polygon fill=\"#000000\" stroke=\"#000000\" points=\"77.0001,-382.0561 73.5,-372.0561 70.0001,-382.0561 77.0001,-382.0561\"/>\n",
       "</g>\n",
       "<!-- 6 -->\n",
       "<g id=\"node7\" class=\"node\">\n",
       "<title>6</title>\n",
       "<text text-anchor=\"middle\" x=\"23.5\" y=\"-309.8\" font-family=\"Times,serif\" font-size=\"14.00\" fill=\"#000000\">&lt;alpha&gt;</text>\n",
       "</g>\n",
       "<!-- 5&#45;&gt;6 -->\n",
       "<g id=\"edge6\" class=\"edge\">\n",
       "<title>5&#45;&gt;6</title>\n",
       "<path fill=\"none\" stroke=\"#000000\" d=\"M66.1223,-356.9748C58.7369,-349.4417 47.1768,-337.6503 37.958,-328.2472\"/>\n",
       "<polygon fill=\"#000000\" stroke=\"#000000\" points=\"40.4079,-325.7466 30.9079,-321.0561 35.4094,-330.6471 40.4079,-325.7466\"/>\n",
       "</g>\n",
       "<!-- 8 -->\n",
       "<g id=\"node9\" class=\"node\">\n",
       "<title>8</title>\n",
       "<text text-anchor=\"middle\" x=\"87.5\" y=\"-309.8\" font-family=\"Times,serif\" font-size=\"14.00\" fill=\"#000000\">&lt;word&gt;</text>\n",
       "</g>\n",
       "<!-- 5&#45;&gt;8 -->\n",
       "<g id=\"edge8\" class=\"edge\">\n",
       "<title>5&#45;&gt;8</title>\n",
       "<path fill=\"none\" stroke=\"#000000\" d=\"M75.5657,-356.9748C77.4476,-350.1196 80.2973,-339.7383 82.7402,-330.8392\"/>\n",
       "<polygon fill=\"#000000\" stroke=\"#000000\" points=\"86.1537,-331.6259 85.4258,-321.0561 79.4034,-329.7728 86.1537,-331.6259\"/>\n",
       "</g>\n",
       "<!-- 7 -->\n",
       "<g id=\"node8\" class=\"node\">\n",
       "<title>7</title>\n",
       "<text text-anchor=\"middle\" x=\"23.5\" y=\"-258.8\" font-family=\"Times,serif\" font-size=\"14.00\" fill=\"#000000\">v</text>\n",
       "</g>\n",
       "<!-- 6&#45;&gt;7 -->\n",
       "<g id=\"edge7\" class=\"edge\">\n",
       "<title>6&#45;&gt;7</title>\n",
       "<path fill=\"none\" stroke=\"#000000\" d=\"M23.5,-305.9748C23.5,-299.195 23.5,-288.966 23.5,-280.1331\"/>\n",
       "<polygon fill=\"#000000\" stroke=\"#000000\" points=\"27.0001,-280.0561 23.5,-270.0561 20.0001,-280.0561 27.0001,-280.0561\"/>\n",
       "</g>\n",
       "<!-- 9 -->\n",
       "<g id=\"node10\" class=\"node\">\n",
       "<title>9</title>\n",
       "<text text-anchor=\"middle\" x=\"87.5\" y=\"-258.8\" font-family=\"Times,serif\" font-size=\"14.00\" fill=\"#000000\">&lt;alpha&gt;</text>\n",
       "</g>\n",
       "<!-- 8&#45;&gt;9 -->\n",
       "<g id=\"edge9\" class=\"edge\">\n",
       "<title>8&#45;&gt;9</title>\n",
       "<path fill=\"none\" stroke=\"#000000\" d=\"M87.5,-305.9748C87.5,-299.195 87.5,-288.966 87.5,-280.1331\"/>\n",
       "<polygon fill=\"#000000\" stroke=\"#000000\" points=\"91.0001,-280.0561 87.5,-270.0561 84.0001,-280.0561 91.0001,-280.0561\"/>\n",
       "</g>\n",
       "<!-- 10 -->\n",
       "<g id=\"node11\" class=\"node\">\n",
       "<title>10</title>\n",
       "<text text-anchor=\"middle\" x=\"87.5\" y=\"-207.8\" font-family=\"Times,serif\" font-size=\"14.00\" fill=\"#000000\">a</text>\n",
       "</g>\n",
       "<!-- 9&#45;&gt;10 -->\n",
       "<g id=\"edge10\" class=\"edge\">\n",
       "<title>9&#45;&gt;10</title>\n",
       "<path fill=\"none\" stroke=\"#000000\" d=\"M87.5,-254.9748C87.5,-248.195 87.5,-237.966 87.5,-229.1331\"/>\n",
       "<polygon fill=\"#000000\" stroke=\"#000000\" points=\"91.0001,-229.0561 87.5,-219.0561 84.0001,-229.0561 91.0001,-229.0561\"/>\n",
       "</g>\n",
       "<!-- 13 -->\n",
       "<g id=\"node14\" class=\"node\">\n",
       "<title>13</title>\n",
       "<text text-anchor=\"middle\" x=\"168.5\" y=\"-360.8\" font-family=\"Times,serif\" font-size=\"14.00\" fill=\"#000000\">&lt;term&gt;</text>\n",
       "</g>\n",
       "<!-- 12&#45;&gt;13 -->\n",
       "<g id=\"edge13\" class=\"edge\">\n",
       "<title>12&#45;&gt;13</title>\n",
       "<path fill=\"none\" stroke=\"#000000\" d=\"M171.9098,-407.9748C171.378,-401.195 170.5758,-390.966 169.883,-382.1331\"/>\n",
       "<polygon fill=\"#000000\" stroke=\"#000000\" points=\"173.3639,-381.7518 169.0926,-372.0561 166.3854,-382.2992 173.3639,-381.7518\"/>\n",
       "</g>\n",
       "<!-- 14 -->\n",
       "<g id=\"node15\" class=\"node\">\n",
       "<title>14</title>\n",
       "<text text-anchor=\"middle\" x=\"166.5\" y=\"-309.8\" font-family=\"Times,serif\" font-size=\"14.00\" fill=\"#000000\">&lt;factor&gt;</text>\n",
       "</g>\n",
       "<!-- 13&#45;&gt;14 -->\n",
       "<g id=\"edge14\" class=\"edge\">\n",
       "<title>13&#45;&gt;14</title>\n",
       "<path fill=\"none\" stroke=\"#000000\" d=\"M168.2049,-356.9748C167.939,-350.195 167.5379,-339.966 167.1915,-331.1331\"/>\n",
       "<polygon fill=\"#000000\" stroke=\"#000000\" points=\"170.6856,-330.9112 166.7963,-321.0561 163.691,-331.1856 170.6856,-330.9112\"/>\n",
       "</g>\n",
       "<!-- 15 -->\n",
       "<g id=\"node16\" class=\"node\">\n",
       "<title>15</title>\n",
       "<text text-anchor=\"middle\" x=\"164.5\" y=\"-258.8\" font-family=\"Times,serif\" font-size=\"14.00\" fill=\"#ff0000\">&lt;number&gt;</text>\n",
       "</g>\n",
       "<!-- 14&#45;&gt;15 -->\n",
       "<g id=\"edge15\" class=\"edge\">\n",
       "<title>14&#45;&gt;15</title>\n",
       "<path fill=\"none\" stroke=\"#000000\" d=\"M166.2049,-305.9748C165.939,-299.195 165.5379,-288.966 165.1915,-280.1331\"/>\n",
       "<polygon fill=\"#000000\" stroke=\"#000000\" points=\"168.6856,-279.9112 164.7963,-270.0561 161.691,-280.1856 168.6856,-279.9112\"/>\n",
       "</g>\n",
       "<!-- 16 -->\n",
       "<g id=\"node17\" class=\"node\">\n",
       "<title>16</title>\n",
       "<text text-anchor=\"middle\" x=\"164.5\" y=\"-207.8\" font-family=\"Times,serif\" font-size=\"14.00\" fill=\"#000000\">&lt;integer&gt;</text>\n",
       "</g>\n",
       "<!-- 15&#45;&gt;16 -->\n",
       "<g id=\"edge16\" class=\"edge\">\n",
       "<title>15&#45;&gt;16</title>\n",
       "<path fill=\"none\" stroke=\"#000000\" d=\"M164.5,-254.9748C164.5,-248.195 164.5,-237.966 164.5,-229.1331\"/>\n",
       "<polygon fill=\"#000000\" stroke=\"#000000\" points=\"168.0001,-229.0561 164.5,-219.0561 161.0001,-229.0561 168.0001,-229.0561\"/>\n",
       "</g>\n",
       "<!-- 17 -->\n",
       "<g id=\"node18\" class=\"node\">\n",
       "<title>17</title>\n",
       "<text text-anchor=\"middle\" x=\"131.5\" y=\"-156.8\" font-family=\"Times,serif\" font-size=\"14.00\" fill=\"#000000\">&lt;digit&gt;</text>\n",
       "</g>\n",
       "<!-- 16&#45;&gt;17 -->\n",
       "<g id=\"edge17\" class=\"edge\">\n",
       "<title>16&#45;&gt;17</title>\n",
       "<path fill=\"none\" stroke=\"#000000\" d=\"M159.6307,-203.9748C155.0001,-196.8183 147.8828,-185.8188 141.966,-176.6747\"/>\n",
       "<polygon fill=\"#000000\" stroke=\"#000000\" points=\"144.7603,-174.5504 136.3892,-168.0561 138.8833,-178.3532 144.7603,-174.5504\"/>\n",
       "</g>\n",
       "<!-- 19 -->\n",
       "<g id=\"node20\" class=\"node\">\n",
       "<title>19</title>\n",
       "<text text-anchor=\"middle\" x=\"198.5\" y=\"-156.8\" font-family=\"Times,serif\" font-size=\"14.00\" fill=\"#000000\">&lt;integer&gt;</text>\n",
       "</g>\n",
       "<!-- 16&#45;&gt;19 -->\n",
       "<g id=\"edge19\" class=\"edge\">\n",
       "<title>16&#45;&gt;19</title>\n",
       "<path fill=\"none\" stroke=\"#000000\" d=\"M169.5168,-203.9748C174.338,-196.743 181.7754,-185.5868 187.9089,-176.3866\"/>\n",
       "<polygon fill=\"#000000\" stroke=\"#000000\" points=\"190.8277,-178.3181 193.4626,-168.0561 185.0034,-174.4352 190.8277,-178.3181\"/>\n",
       "</g>\n",
       "<!-- 18 -->\n",
       "<g id=\"node19\" class=\"node\">\n",
       "<title>18</title>\n",
       "<text text-anchor=\"middle\" x=\"131.5\" y=\"-105.8\" font-family=\"Times,serif\" font-size=\"14.00\" fill=\"#000000\">1</text>\n",
       "</g>\n",
       "<!-- 17&#45;&gt;18 -->\n",
       "<g id=\"edge18\" class=\"edge\">\n",
       "<title>17&#45;&gt;18</title>\n",
       "<path fill=\"none\" stroke=\"#000000\" d=\"M131.5,-152.9748C131.5,-146.195 131.5,-135.966 131.5,-127.1331\"/>\n",
       "<polygon fill=\"#000000\" stroke=\"#000000\" points=\"135.0001,-127.0561 131.5,-117.0561 128.0001,-127.0561 135.0001,-127.0561\"/>\n",
       "</g>\n",
       "<!-- 20 -->\n",
       "<g id=\"node21\" class=\"node\">\n",
       "<title>20</title>\n",
       "<text text-anchor=\"middle\" x=\"198.5\" y=\"-105.8\" font-family=\"Times,serif\" font-size=\"14.00\" fill=\"#000000\">&lt;digit&gt;</text>\n",
       "</g>\n",
       "<!-- 19&#45;&gt;20 -->\n",
       "<g id=\"edge20\" class=\"edge\">\n",
       "<title>19&#45;&gt;20</title>\n",
       "<path fill=\"none\" stroke=\"#000000\" d=\"M198.5,-152.9748C198.5,-146.195 198.5,-135.966 198.5,-127.1331\"/>\n",
       "<polygon fill=\"#000000\" stroke=\"#000000\" points=\"202.0001,-127.0561 198.5,-117.0561 195.0001,-127.0561 202.0001,-127.0561\"/>\n",
       "</g>\n",
       "<!-- 21 -->\n",
       "<g id=\"node22\" class=\"node\">\n",
       "<title>21</title>\n",
       "<text text-anchor=\"middle\" x=\"198.5\" y=\"-54.8\" font-family=\"Times,serif\" font-size=\"14.00\" fill=\"#000000\">0</text>\n",
       "</g>\n",
       "<!-- 20&#45;&gt;21 -->\n",
       "<g id=\"edge21\" class=\"edge\">\n",
       "<title>20&#45;&gt;21</title>\n",
       "<path fill=\"none\" stroke=\"#000000\" d=\"M198.5,-101.9748C198.5,-95.195 198.5,-84.966 198.5,-76.1331\"/>\n",
       "<polygon fill=\"#000000\" stroke=\"#000000\" points=\"202.0001,-76.0561 198.5,-66.0561 195.0001,-76.0561 202.0001,-76.0561\"/>\n",
       "</g>\n",
       "<!-- 24 -->\n",
       "<g id=\"node25\" class=\"node\">\n",
       "<title>24</title>\n",
       "<text text-anchor=\"middle\" x=\"255.5\" y=\"-462.8\" font-family=\"Times,serif\" font-size=\"14.00\" fill=\"#000000\">&lt;statement&gt;</text>\n",
       "</g>\n",
       "<!-- 23&#45;&gt;24 -->\n",
       "<g id=\"edge24\" class=\"edge\">\n",
       "<title>23&#45;&gt;24</title>\n",
       "<path fill=\"none\" stroke=\"#000000\" d=\"M250.3853,-509.9748C251.1829,-503.195 252.3864,-492.966 253.4255,-484.1331\"/>\n",
       "<polygon fill=\"#000000\" stroke=\"#000000\" points=\"256.9186,-484.3966 254.611,-474.0561 249.9665,-483.5786 256.9186,-484.3966\"/>\n",
       "</g>\n",
       "<!-- 25 -->\n",
       "<g id=\"node26\" class=\"node\">\n",
       "<title>25</title>\n",
       "<text text-anchor=\"middle\" x=\"261.5\" y=\"-411.8\" font-family=\"Times,serif\" font-size=\"14.00\" fill=\"#000000\">&lt;assignment&gt;</text>\n",
       "</g>\n",
       "<!-- 24&#45;&gt;25 -->\n",
       "<g id=\"edge25\" class=\"edge\">\n",
       "<title>24&#45;&gt;25</title>\n",
       "<path fill=\"none\" stroke=\"#000000\" d=\"M256.3853,-458.9748C257.1829,-452.195 258.3864,-441.966 259.4255,-433.1331\"/>\n",
       "<polygon fill=\"#000000\" stroke=\"#000000\" points=\"262.9186,-433.3966 260.611,-423.0561 255.9665,-432.5786 262.9186,-433.3966\"/>\n",
       "</g>\n",
       "<!-- 26 -->\n",
       "<g id=\"node27\" class=\"node\">\n",
       "<title>26</title>\n",
       "<text text-anchor=\"middle\" x=\"248.5\" y=\"-360.8\" font-family=\"Times,serif\" font-size=\"14.00\" fill=\"#ff0000\">&lt;identifier&gt;</text>\n",
       "</g>\n",
       "<!-- 25&#45;&gt;26 -->\n",
       "<g id=\"edge26\" class=\"edge\">\n",
       "<title>25&#45;&gt;26</title>\n",
       "<path fill=\"none\" stroke=\"#000000\" d=\"M259.5818,-407.9748C257.8344,-401.1196 255.1882,-390.7383 252.9198,-381.8392\"/>\n",
       "<polygon fill=\"#000000\" stroke=\"#000000\" points=\"256.2877,-380.8817 250.4261,-372.0561 249.5046,-382.6108 256.2877,-380.8817\"/>\n",
       "</g>\n",
       "<!-- 33 -->\n",
       "<g id=\"node34\" class=\"node\">\n",
       "<title>33</title>\n",
       "<text text-anchor=\"middle\" x=\"304.5\" y=\"-360.8\" font-family=\"Times,serif\" font-size=\"14.00\" fill=\"#000000\">=</text>\n",
       "</g>\n",
       "<!-- 25&#45;&gt;33 -->\n",
       "<g id=\"edge33\" class=\"edge\">\n",
       "<title>25&#45;&gt;33</title>\n",
       "<path fill=\"none\" stroke=\"#000000\" d=\"M267.8448,-407.9748C274.7131,-399.8286 285.7798,-386.703 293.9587,-377.0025\"/>\n",
       "<polygon fill=\"#000000\" stroke=\"#000000\" points=\"296.6845,-379.1993 300.4547,-369.298 291.3328,-374.6871 296.6845,-379.1993\"/>\n",
       "</g>\n",
       "<!-- 34 -->\n",
       "<g id=\"node35\" class=\"node\">\n",
       "<title>34</title>\n",
       "<text text-anchor=\"middle\" x=\"350.5\" y=\"-360.8\" font-family=\"Times,serif\" font-size=\"14.00\" fill=\"#000000\">&lt;expr&gt;</text>\n",
       "</g>\n",
       "<!-- 25&#45;&gt;34 -->\n",
       "<g id=\"edge34\" class=\"edge\">\n",
       "<title>25&#45;&gt;34</title>\n",
       "<path fill=\"none\" stroke=\"#000000\" d=\"M274.6323,-407.9748C288.83,-399.839 311.6952,-386.7365 328.6171,-377.0397\"/>\n",
       "<polygon fill=\"#000000\" stroke=\"#000000\" points=\"330.3776,-380.0648 337.3139,-372.0561 326.8972,-373.9913 330.3776,-380.0648\"/>\n",
       "</g>\n",
       "<!-- 27 -->\n",
       "<g id=\"node28\" class=\"node\">\n",
       "<title>27</title>\n",
       "<text text-anchor=\"middle\" x=\"248.5\" y=\"-309.8\" font-family=\"Times,serif\" font-size=\"14.00\" fill=\"#000000\">&lt;word&gt;</text>\n",
       "</g>\n",
       "<!-- 26&#45;&gt;27 -->\n",
       "<g id=\"edge27\" class=\"edge\">\n",
       "<title>26&#45;&gt;27</title>\n",
       "<path fill=\"none\" stroke=\"#000000\" d=\"M248.5,-356.9748C248.5,-350.195 248.5,-339.966 248.5,-331.1331\"/>\n",
       "<polygon fill=\"#000000\" stroke=\"#000000\" points=\"252.0001,-331.0561 248.5,-321.0561 245.0001,-331.0561 252.0001,-331.0561\"/>\n",
       "</g>\n",
       "<!-- 28 -->\n",
       "<g id=\"node29\" class=\"node\">\n",
       "<title>28</title>\n",
       "<text text-anchor=\"middle\" x=\"235.5\" y=\"-258.8\" font-family=\"Times,serif\" font-size=\"14.00\" fill=\"#000000\">&lt;alpha&gt;</text>\n",
       "</g>\n",
       "<!-- 27&#45;&gt;28 -->\n",
       "<g id=\"edge28\" class=\"edge\">\n",
       "<title>27&#45;&gt;28</title>\n",
       "<path fill=\"none\" stroke=\"#000000\" d=\"M246.5818,-305.9748C244.8344,-299.1196 242.1882,-288.7383 239.9198,-279.8392\"/>\n",
       "<polygon fill=\"#000000\" stroke=\"#000000\" points=\"243.2877,-278.8817 237.4261,-270.0561 236.5046,-280.6108 243.2877,-278.8817\"/>\n",
       "</g>\n",
       "<!-- 30 -->\n",
       "<g id=\"node31\" class=\"node\">\n",
       "<title>30</title>\n",
       "<text text-anchor=\"middle\" x=\"299.5\" y=\"-258.8\" font-family=\"Times,serif\" font-size=\"14.00\" fill=\"#000000\">&lt;word&gt;</text>\n",
       "</g>\n",
       "<!-- 27&#45;&gt;30 -->\n",
       "<g id=\"edge30\" class=\"edge\">\n",
       "<title>27&#45;&gt;30</title>\n",
       "<path fill=\"none\" stroke=\"#000000\" d=\"M256.0252,-305.9748C263.5583,-298.4417 275.3497,-286.6503 284.7528,-277.2472\"/>\n",
       "<polygon fill=\"#000000\" stroke=\"#000000\" points=\"287.3477,-279.6021 291.9439,-270.0561 282.3979,-274.6523 287.3477,-279.6021\"/>\n",
       "</g>\n",
       "<!-- 29 -->\n",
       "<g id=\"node30\" class=\"node\">\n",
       "<title>29</title>\n",
       "<text text-anchor=\"middle\" x=\"235.5\" y=\"-207.8\" font-family=\"Times,serif\" font-size=\"14.00\" fill=\"#000000\">v</text>\n",
       "</g>\n",
       "<!-- 28&#45;&gt;29 -->\n",
       "<g id=\"edge29\" class=\"edge\">\n",
       "<title>28&#45;&gt;29</title>\n",
       "<path fill=\"none\" stroke=\"#000000\" d=\"M235.5,-254.9748C235.5,-248.195 235.5,-237.966 235.5,-229.1331\"/>\n",
       "<polygon fill=\"#000000\" stroke=\"#000000\" points=\"239.0001,-229.0561 235.5,-219.0561 232.0001,-229.0561 239.0001,-229.0561\"/>\n",
       "</g>\n",
       "<!-- 31 -->\n",
       "<g id=\"node32\" class=\"node\">\n",
       "<title>31</title>\n",
       "<text text-anchor=\"middle\" x=\"297.5\" y=\"-207.8\" font-family=\"Times,serif\" font-size=\"14.00\" fill=\"#000000\">&lt;alpha&gt;</text>\n",
       "</g>\n",
       "<!-- 30&#45;&gt;31 -->\n",
       "<g id=\"edge31\" class=\"edge\">\n",
       "<title>30&#45;&gt;31</title>\n",
       "<path fill=\"none\" stroke=\"#000000\" d=\"M299.2049,-254.9748C298.939,-248.195 298.5379,-237.966 298.1915,-229.1331\"/>\n",
       "<polygon fill=\"#000000\" stroke=\"#000000\" points=\"301.6856,-228.9112 297.7963,-219.0561 294.691,-229.1856 301.6856,-228.9112\"/>\n",
       "</g>\n",
       "<!-- 32 -->\n",
       "<g id=\"node33\" class=\"node\">\n",
       "<title>32</title>\n",
       "<text text-anchor=\"middle\" x=\"297.5\" y=\"-156.8\" font-family=\"Times,serif\" font-size=\"14.00\" fill=\"#000000\">b</text>\n",
       "</g>\n",
       "<!-- 31&#45;&gt;32 -->\n",
       "<g id=\"edge32\" class=\"edge\">\n",
       "<title>31&#45;&gt;32</title>\n",
       "<path fill=\"none\" stroke=\"#000000\" d=\"M297.5,-203.9748C297.5,-197.195 297.5,-186.966 297.5,-178.1331\"/>\n",
       "<polygon fill=\"#000000\" stroke=\"#000000\" points=\"301.0001,-178.0561 297.5,-168.0561 294.0001,-178.0561 301.0001,-178.0561\"/>\n",
       "</g>\n",
       "<!-- 35 -->\n",
       "<g id=\"node36\" class=\"node\">\n",
       "<title>35</title>\n",
       "<text text-anchor=\"middle\" x=\"364.5\" y=\"-309.8\" font-family=\"Times,serif\" font-size=\"14.00\" fill=\"#000000\">&lt;term&gt;</text>\n",
       "</g>\n",
       "<!-- 34&#45;&gt;35 -->\n",
       "<g id=\"edge35\" class=\"edge\">\n",
       "<title>34&#45;&gt;35</title>\n",
       "<path fill=\"none\" stroke=\"#000000\" d=\"M352.5657,-356.9748C354.4476,-350.1196 357.2973,-339.7383 359.7402,-330.8392\"/>\n",
       "<polygon fill=\"#000000\" stroke=\"#000000\" points=\"363.1537,-331.6259 362.4258,-321.0561 356.4034,-329.7728 363.1537,-331.6259\"/>\n",
       "</g>\n",
       "<!-- 36 -->\n",
       "<g id=\"node37\" class=\"node\">\n",
       "<title>36</title>\n",
       "<text text-anchor=\"middle\" x=\"367.5\" y=\"-258.8\" font-family=\"Times,serif\" font-size=\"14.00\" fill=\"#000000\">&lt;factor&gt;</text>\n",
       "</g>\n",
       "<!-- 35&#45;&gt;36 -->\n",
       "<g id=\"edge36\" class=\"edge\">\n",
       "<title>35&#45;&gt;36</title>\n",
       "<path fill=\"none\" stroke=\"#000000\" d=\"M364.9427,-305.9748C365.3415,-299.195 365.9432,-288.966 366.4628,-280.1331\"/>\n",
       "<polygon fill=\"#000000\" stroke=\"#000000\" points=\"369.9622,-280.2444 367.0555,-270.0561 362.9742,-279.8333 369.9622,-280.2444\"/>\n",
       "</g>\n",
       "<!-- 37 -->\n",
       "<g id=\"node38\" class=\"node\">\n",
       "<title>37</title>\n",
       "<text text-anchor=\"middle\" x=\"368.5\" y=\"-207.8\" font-family=\"Times,serif\" font-size=\"14.00\" fill=\"#ff0000\">&lt;number&gt;</text>\n",
       "</g>\n",
       "<!-- 36&#45;&gt;37 -->\n",
       "<g id=\"edge37\" class=\"edge\">\n",
       "<title>36&#45;&gt;37</title>\n",
       "<path fill=\"none\" stroke=\"#000000\" d=\"M367.6476,-254.9748C367.7805,-248.195 367.9811,-237.966 368.1543,-229.1331\"/>\n",
       "<polygon fill=\"#000000\" stroke=\"#000000\" points=\"371.655,-229.1228 368.3518,-219.0561 364.6564,-228.9855 371.655,-229.1228\"/>\n",
       "</g>\n",
       "<!-- 38 -->\n",
       "<g id=\"node39\" class=\"node\">\n",
       "<title>38</title>\n",
       "<text text-anchor=\"middle\" x=\"368.5\" y=\"-156.8\" font-family=\"Times,serif\" font-size=\"14.00\" fill=\"#000000\">&lt;integer&gt;</text>\n",
       "</g>\n",
       "<!-- 37&#45;&gt;38 -->\n",
       "<g id=\"edge38\" class=\"edge\">\n",
       "<title>37&#45;&gt;38</title>\n",
       "<path fill=\"none\" stroke=\"#000000\" d=\"M368.5,-203.9748C368.5,-197.195 368.5,-186.966 368.5,-178.1331\"/>\n",
       "<polygon fill=\"#000000\" stroke=\"#000000\" points=\"372.0001,-178.0561 368.5,-168.0561 365.0001,-178.0561 372.0001,-178.0561\"/>\n",
       "</g>\n",
       "<!-- 39 -->\n",
       "<g id=\"node40\" class=\"node\">\n",
       "<title>39</title>\n",
       "<text text-anchor=\"middle\" x=\"334.5\" y=\"-105.8\" font-family=\"Times,serif\" font-size=\"14.00\" fill=\"#000000\">&lt;digit&gt;</text>\n",
       "</g>\n",
       "<!-- 38&#45;&gt;39 -->\n",
       "<g id=\"edge39\" class=\"edge\">\n",
       "<title>38&#45;&gt;39</title>\n",
       "<path fill=\"none\" stroke=\"#000000\" d=\"M363.4832,-152.9748C358.662,-145.743 351.2246,-134.5868 345.0911,-125.3866\"/>\n",
       "<polygon fill=\"#000000\" stroke=\"#000000\" points=\"347.9966,-123.4352 339.5374,-117.0561 342.1723,-127.3181 347.9966,-123.4352\"/>\n",
       "</g>\n",
       "<!-- 41 -->\n",
       "<g id=\"node42\" class=\"node\">\n",
       "<title>41</title>\n",
       "<text text-anchor=\"middle\" x=\"401.5\" y=\"-105.8\" font-family=\"Times,serif\" font-size=\"14.00\" fill=\"#000000\">&lt;integer&gt;</text>\n",
       "</g>\n",
       "<!-- 38&#45;&gt;41 -->\n",
       "<g id=\"edge41\" class=\"edge\">\n",
       "<title>38&#45;&gt;41</title>\n",
       "<path fill=\"none\" stroke=\"#000000\" d=\"M373.3693,-152.9748C377.9999,-145.8183 385.1172,-134.8188 391.034,-125.6747\"/>\n",
       "<polygon fill=\"#000000\" stroke=\"#000000\" points=\"394.1167,-127.3532 396.6108,-117.0561 388.2397,-123.5504 394.1167,-127.3532\"/>\n",
       "</g>\n",
       "<!-- 40 -->\n",
       "<g id=\"node41\" class=\"node\">\n",
       "<title>40</title>\n",
       "<text text-anchor=\"middle\" x=\"334.5\" y=\"-54.8\" font-family=\"Times,serif\" font-size=\"14.00\" fill=\"#000000\">2</text>\n",
       "</g>\n",
       "<!-- 39&#45;&gt;40 -->\n",
       "<g id=\"edge40\" class=\"edge\">\n",
       "<title>39&#45;&gt;40</title>\n",
       "<path fill=\"none\" stroke=\"#000000\" d=\"M334.5,-101.9748C334.5,-95.195 334.5,-84.966 334.5,-76.1331\"/>\n",
       "<polygon fill=\"#000000\" stroke=\"#000000\" points=\"338.0001,-76.0561 334.5,-66.0561 331.0001,-76.0561 338.0001,-76.0561\"/>\n",
       "</g>\n",
       "<!-- 42 -->\n",
       "<g id=\"node43\" class=\"node\">\n",
       "<title>42</title>\n",
       "<text text-anchor=\"middle\" x=\"401.5\" y=\"-54.8\" font-family=\"Times,serif\" font-size=\"14.00\" fill=\"#000000\">&lt;digit&gt;</text>\n",
       "</g>\n",
       "<!-- 41&#45;&gt;42 -->\n",
       "<g id=\"edge42\" class=\"edge\">\n",
       "<title>41&#45;&gt;42</title>\n",
       "<path fill=\"none\" stroke=\"#000000\" d=\"M401.5,-101.9748C401.5,-95.195 401.5,-84.966 401.5,-76.1331\"/>\n",
       "<polygon fill=\"#000000\" stroke=\"#000000\" points=\"405.0001,-76.0561 401.5,-66.0561 398.0001,-76.0561 405.0001,-76.0561\"/>\n",
       "</g>\n",
       "<!-- 43 -->\n",
       "<g id=\"node44\" class=\"node\">\n",
       "<title>43</title>\n",
       "<text text-anchor=\"middle\" x=\"401.5\" y=\"-3.8\" font-family=\"Times,serif\" font-size=\"14.00\" fill=\"#000000\">0</text>\n",
       "</g>\n",
       "<!-- 42&#45;&gt;43 -->\n",
       "<g id=\"edge43\" class=\"edge\">\n",
       "<title>42&#45;&gt;43</title>\n",
       "<path fill=\"none\" stroke=\"#000000\" d=\"M401.5,-50.9748C401.5,-44.195 401.5,-33.966 401.5,-25.1331\"/>\n",
       "<polygon fill=\"#000000\" stroke=\"#000000\" points=\"405.0001,-25.0561 401.5,-15.0561 398.0001,-25.0561 405.0001,-25.0561\"/>\n",
       "</g>\n",
       "</g>\n",
       "</svg>\n"
      ],
      "text/plain": [
       "<graphviz.dot.Digraph at 0x113fdddd8>"
      ]
     },
     "metadata": {},
     "output_type": "display_data"
    }
   ],
   "source": [
    "mystring = 'va=10;vb=20'\n",
    "hl_predicate = lambda _d,_n,symbol,_a: symbol in {'<number>', '<identifier>'}\n",
    "\n",
    "parser = PEGParser(VAR_GRAMMAR)\n",
    "for tree in parser.parse(mystring):\n",
    "    display_tree(tree, node_attr=highlight_node(hl_predicate))"
   ]
  },
  {
   "cell_type": "markdown",
   "metadata": {
    "slideshow": {
     "slide_type": "fragment"
    }
   },
   "source": [
    "As can be seen from the above example, our grammar is rather detailed. So we need to define our token nodes, which correspond to the *red* nodes above."
   ]
  },
  {
   "cell_type": "code",
   "execution_count": 65,
   "metadata": {
    "slideshow": {
     "slide_type": "fragment"
    }
   },
   "outputs": [],
   "source": [
    "VAR_TOKENS = {'<number>', '<identifier>'}"
   ]
  },
  {
   "cell_type": "markdown",
   "metadata": {
    "slideshow": {
     "slide_type": "subslide"
    }
   },
   "source": [
    "These tokens are pruned using the `prune_tree` method that we mentioned previously.\n",
    "Here is a slightly more complex program to parse, but with the tree pruned using tokens:"
   ]
  },
  {
   "cell_type": "code",
   "execution_count": 66,
   "metadata": {
    "slideshow": {
     "slide_type": "subslide"
    }
   },
   "outputs": [
    {
     "data": {
      "image/svg+xml": [
       "<?xml version=\"1.0\" encoding=\"UTF-8\" standalone=\"no\"?>\n",
       "<!DOCTYPE svg PUBLIC \"-//W3C//DTD SVG 1.1//EN\"\n",
       " \"http://www.w3.org/Graphics/SVG/1.1/DTD/svg11.dtd\">\n",
       "<!-- Generated by graphviz version 2.40.1 (20161225.0304)\n",
       " -->\n",
       "<!-- Title: %3 Pages: 1 -->\n",
       "<svg width=\"469pt\" height=\"788pt\"\n",
       " viewBox=\"0.00 0.00 469.00 788.00\" xmlns=\"http://www.w3.org/2000/svg\" xmlns:xlink=\"http://www.w3.org/1999/xlink\">\n",
       "<g id=\"graph0\" class=\"graph\" transform=\"scale(1 1) rotate(0) translate(4 784)\">\n",
       "<title>%3</title>\n",
       "<polygon fill=\"#ffffff\" stroke=\"transparent\" points=\"-4,4 -4,-784 465,-784 465,4 -4,4\"/>\n",
       "<!-- 0 -->\n",
       "<g id=\"node1\" class=\"node\">\n",
       "<title>0</title>\n",
       "<text text-anchor=\"middle\" x=\"150.5\" y=\"-768.8\" font-family=\"Times,serif\" font-size=\"14.00\" fill=\"#000000\">&lt;start&gt;</text>\n",
       "</g>\n",
       "<!-- 1 -->\n",
       "<g id=\"node2\" class=\"node\">\n",
       "<title>1</title>\n",
       "<text text-anchor=\"middle\" x=\"150.5\" y=\"-717.8\" font-family=\"Times,serif\" font-size=\"14.00\" fill=\"#000000\">&lt;statements&gt;</text>\n",
       "</g>\n",
       "<!-- 0&#45;&gt;1 -->\n",
       "<g id=\"edge1\" class=\"edge\">\n",
       "<title>0&#45;&gt;1</title>\n",
       "<path fill=\"none\" stroke=\"#000000\" d=\"M150.5,-764.9748C150.5,-758.195 150.5,-747.966 150.5,-739.1331\"/>\n",
       "<polygon fill=\"#000000\" stroke=\"#000000\" points=\"154.0001,-739.0561 150.5,-729.0561 147.0001,-739.0561 154.0001,-739.0561\"/>\n",
       "</g>\n",
       "<!-- 2 -->\n",
       "<g id=\"node3\" class=\"node\">\n",
       "<title>2</title>\n",
       "<text text-anchor=\"middle\" x=\"93.5\" y=\"-666.8\" font-family=\"Times,serif\" font-size=\"14.00\" fill=\"#000000\">&lt;statement&gt;</text>\n",
       "</g>\n",
       "<!-- 1&#45;&gt;2 -->\n",
       "<g id=\"edge2\" class=\"edge\">\n",
       "<title>1&#45;&gt;2</title>\n",
       "<path fill=\"none\" stroke=\"#000000\" d=\"M142.0895,-713.9748C133.5859,-706.3663 120.2275,-694.4141 109.6677,-684.9658\"/>\n",
       "<polygon fill=\"#000000\" stroke=\"#000000\" points=\"111.7313,-682.1157 101.9451,-678.0561 107.0637,-687.3324 111.7313,-682.1157\"/>\n",
       "</g>\n",
       "<!-- 12 -->\n",
       "<g id=\"node13\" class=\"node\">\n",
       "<title>12</title>\n",
       "<text text-anchor=\"middle\" x=\"150.5\" y=\"-666.8\" font-family=\"Times,serif\" font-size=\"14.00\" fill=\"#000000\">;</text>\n",
       "</g>\n",
       "<!-- 1&#45;&gt;12 -->\n",
       "<g id=\"edge12\" class=\"edge\">\n",
       "<title>1&#45;&gt;12</title>\n",
       "<path fill=\"none\" stroke=\"#000000\" d=\"M150.5,-713.9748C150.5,-707.195 150.5,-696.966 150.5,-688.1331\"/>\n",
       "<polygon fill=\"#000000\" stroke=\"#000000\" points=\"154.0001,-688.0561 150.5,-678.0561 147.0001,-688.0561 154.0001,-688.0561\"/>\n",
       "</g>\n",
       "<!-- 13 -->\n",
       "<g id=\"node14\" class=\"node\">\n",
       "<title>13</title>\n",
       "<text text-anchor=\"middle\" x=\"209.5\" y=\"-666.8\" font-family=\"Times,serif\" font-size=\"14.00\" fill=\"#000000\">&lt;statements&gt;</text>\n",
       "</g>\n",
       "<!-- 1&#45;&gt;13 -->\n",
       "<g id=\"edge13\" class=\"edge\">\n",
       "<title>1&#45;&gt;13</title>\n",
       "<path fill=\"none\" stroke=\"#000000\" d=\"M159.2057,-713.9748C168.0947,-706.291 182.109,-694.177 193.0889,-684.6859\"/>\n",
       "<polygon fill=\"#000000\" stroke=\"#000000\" points=\"195.4821,-687.2435 200.7586,-678.0561 190.9044,-681.9478 195.4821,-687.2435\"/>\n",
       "</g>\n",
       "<!-- 3 -->\n",
       "<g id=\"node4\" class=\"node\">\n",
       "<title>3</title>\n",
       "<text text-anchor=\"middle\" x=\"89.5\" y=\"-615.8\" font-family=\"Times,serif\" font-size=\"14.00\" fill=\"#000000\">&lt;assignment&gt;</text>\n",
       "</g>\n",
       "<!-- 2&#45;&gt;3 -->\n",
       "<g id=\"edge3\" class=\"edge\">\n",
       "<title>2&#45;&gt;3</title>\n",
       "<path fill=\"none\" stroke=\"#000000\" d=\"M92.9098,-662.9748C92.378,-656.195 91.5758,-645.966 90.883,-637.1331\"/>\n",
       "<polygon fill=\"#000000\" stroke=\"#000000\" points=\"94.3639,-636.7518 90.0926,-627.0561 87.3854,-637.2992 94.3639,-636.7518\"/>\n",
       "</g>\n",
       "<!-- 4 -->\n",
       "<g id=\"node5\" class=\"node\">\n",
       "<title>4</title>\n",
       "<text text-anchor=\"middle\" x=\"33.5\" y=\"-564.8\" font-family=\"Times,serif\" font-size=\"14.00\" fill=\"#ff0000\">&lt;identifier&gt;</text>\n",
       "</g>\n",
       "<!-- 3&#45;&gt;4 -->\n",
       "<g id=\"edge4\" class=\"edge\">\n",
       "<title>3&#45;&gt;4</title>\n",
       "<path fill=\"none\" stroke=\"#000000\" d=\"M81.237,-611.9748C72.8826,-604.3663 59.7586,-592.4141 49.384,-582.9658\"/>\n",
       "<polygon fill=\"#000000\" stroke=\"#000000\" points=\"51.547,-580.2017 41.7969,-576.0561 46.8337,-585.3771 51.547,-580.2017\"/>\n",
       "</g>\n",
       "<!-- 6 -->\n",
       "<g id=\"node7\" class=\"node\">\n",
       "<title>6</title>\n",
       "<text text-anchor=\"middle\" x=\"89.5\" y=\"-564.8\" font-family=\"Times,serif\" font-size=\"14.00\" fill=\"#000000\">=</text>\n",
       "</g>\n",
       "<!-- 3&#45;&gt;6 -->\n",
       "<g id=\"edge6\" class=\"edge\">\n",
       "<title>3&#45;&gt;6</title>\n",
       "<path fill=\"none\" stroke=\"#000000\" d=\"M89.5,-611.9748C89.5,-605.195 89.5,-594.966 89.5,-586.1331\"/>\n",
       "<polygon fill=\"#000000\" stroke=\"#000000\" points=\"93.0001,-586.0561 89.5,-576.0561 86.0001,-586.0561 93.0001,-586.0561\"/>\n",
       "</g>\n",
       "<!-- 7 -->\n",
       "<g id=\"node8\" class=\"node\">\n",
       "<title>7</title>\n",
       "<text text-anchor=\"middle\" x=\"132.5\" y=\"-564.8\" font-family=\"Times,serif\" font-size=\"14.00\" fill=\"#000000\">&lt;expr&gt;</text>\n",
       "</g>\n",
       "<!-- 3&#45;&gt;7 -->\n",
       "<g id=\"edge7\" class=\"edge\">\n",
       "<title>3&#45;&gt;7</title>\n",
       "<path fill=\"none\" stroke=\"#000000\" d=\"M95.8448,-611.9748C102.0692,-604.5923 111.7417,-593.1203 119.5881,-583.8142\"/>\n",
       "<polygon fill=\"#000000\" stroke=\"#000000\" points=\"122.359,-585.9574 126.1292,-576.0561 117.0073,-581.4452 122.359,-585.9574\"/>\n",
       "</g>\n",
       "<!-- 5 -->\n",
       "<g id=\"node6\" class=\"node\">\n",
       "<title>5</title>\n",
       "<text text-anchor=\"middle\" x=\"33.5\" y=\"-513.8\" font-family=\"Times,serif\" font-size=\"14.00\" fill=\"#000000\">avar</text>\n",
       "</g>\n",
       "<!-- 4&#45;&gt;5 -->\n",
       "<g id=\"edge5\" class=\"edge\">\n",
       "<title>4&#45;&gt;5</title>\n",
       "<path fill=\"none\" stroke=\"#000000\" d=\"M33.5,-560.9748C33.5,-554.195 33.5,-543.966 33.5,-535.1331\"/>\n",
       "<polygon fill=\"#000000\" stroke=\"#000000\" points=\"37.0001,-535.0561 33.5,-525.0561 30.0001,-535.0561 37.0001,-535.0561\"/>\n",
       "</g>\n",
       "<!-- 8 -->\n",
       "<g id=\"node9\" class=\"node\">\n",
       "<title>8</title>\n",
       "<text text-anchor=\"middle\" x=\"108.5\" y=\"-513.8\" font-family=\"Times,serif\" font-size=\"14.00\" fill=\"#000000\">&lt;term&gt;</text>\n",
       "</g>\n",
       "<!-- 7&#45;&gt;8 -->\n",
       "<g id=\"edge8\" class=\"edge\">\n",
       "<title>7&#45;&gt;8</title>\n",
       "<path fill=\"none\" stroke=\"#000000\" d=\"M128.9587,-560.9748C125.6619,-553.969 120.6319,-543.2803 116.3845,-534.2547\"/>\n",
       "<polygon fill=\"#000000\" stroke=\"#000000\" points=\"119.4807,-532.614 112.0558,-525.0561 113.147,-535.5946 119.4807,-532.614\"/>\n",
       "</g>\n",
       "<!-- 9 -->\n",
       "<g id=\"node10\" class=\"node\">\n",
       "<title>9</title>\n",
       "<text text-anchor=\"middle\" x=\"108.5\" y=\"-462.8\" font-family=\"Times,serif\" font-size=\"14.00\" fill=\"#000000\">&lt;factor&gt;</text>\n",
       "</g>\n",
       "<!-- 8&#45;&gt;9 -->\n",
       "<g id=\"edge9\" class=\"edge\">\n",
       "<title>8&#45;&gt;9</title>\n",
       "<path fill=\"none\" stroke=\"#000000\" d=\"M108.5,-509.9748C108.5,-503.195 108.5,-492.966 108.5,-484.1331\"/>\n",
       "<polygon fill=\"#000000\" stroke=\"#000000\" points=\"112.0001,-484.0561 108.5,-474.0561 105.0001,-484.0561 112.0001,-484.0561\"/>\n",
       "</g>\n",
       "<!-- 10 -->\n",
       "<g id=\"node11\" class=\"node\">\n",
       "<title>10</title>\n",
       "<text text-anchor=\"middle\" x=\"108.5\" y=\"-411.8\" font-family=\"Times,serif\" font-size=\"14.00\" fill=\"#ff0000\">&lt;number&gt;</text>\n",
       "</g>\n",
       "<!-- 9&#45;&gt;10 -->\n",
       "<g id=\"edge10\" class=\"edge\">\n",
       "<title>9&#45;&gt;10</title>\n",
       "<path fill=\"none\" stroke=\"#000000\" d=\"M108.5,-458.9748C108.5,-452.195 108.5,-441.966 108.5,-433.1331\"/>\n",
       "<polygon fill=\"#000000\" stroke=\"#000000\" points=\"112.0001,-433.0561 108.5,-423.0561 105.0001,-433.0561 112.0001,-433.0561\"/>\n",
       "</g>\n",
       "<!-- 11 -->\n",
       "<g id=\"node12\" class=\"node\">\n",
       "<title>11</title>\n",
       "<text text-anchor=\"middle\" x=\"108.5\" y=\"-360.8\" font-family=\"Times,serif\" font-size=\"14.00\" fill=\"#000000\">1.3</text>\n",
       "</g>\n",
       "<!-- 10&#45;&gt;11 -->\n",
       "<g id=\"edge11\" class=\"edge\">\n",
       "<title>10&#45;&gt;11</title>\n",
       "<path fill=\"none\" stroke=\"#000000\" d=\"M108.5,-407.9748C108.5,-401.195 108.5,-390.966 108.5,-382.1331\"/>\n",
       "<polygon fill=\"#000000\" stroke=\"#000000\" points=\"112.0001,-382.0561 108.5,-372.0561 105.0001,-382.0561 112.0001,-382.0561\"/>\n",
       "</g>\n",
       "<!-- 14 -->\n",
       "<g id=\"node15\" class=\"node\">\n",
       "<title>14</title>\n",
       "<text text-anchor=\"middle\" x=\"210.5\" y=\"-615.8\" font-family=\"Times,serif\" font-size=\"14.00\" fill=\"#000000\">&lt;statement&gt;</text>\n",
       "</g>\n",
       "<!-- 13&#45;&gt;14 -->\n",
       "<g id=\"edge14\" class=\"edge\">\n",
       "<title>13&#45;&gt;14</title>\n",
       "<path fill=\"none\" stroke=\"#000000\" d=\"M209.6476,-662.9748C209.7805,-656.195 209.9811,-645.966 210.1543,-637.1331\"/>\n",
       "<polygon fill=\"#000000\" stroke=\"#000000\" points=\"213.655,-637.1228 210.3518,-627.0561 206.6564,-636.9855 213.655,-637.1228\"/>\n",
       "</g>\n",
       "<!-- 15 -->\n",
       "<g id=\"node16\" class=\"node\">\n",
       "<title>15</title>\n",
       "<text text-anchor=\"middle\" x=\"212.5\" y=\"-564.8\" font-family=\"Times,serif\" font-size=\"14.00\" fill=\"#000000\">&lt;assignment&gt;</text>\n",
       "</g>\n",
       "<!-- 14&#45;&gt;15 -->\n",
       "<g id=\"edge15\" class=\"edge\">\n",
       "<title>14&#45;&gt;15</title>\n",
       "<path fill=\"none\" stroke=\"#000000\" d=\"M210.7951,-611.9748C211.061,-605.195 211.4621,-594.966 211.8085,-586.1331\"/>\n",
       "<polygon fill=\"#000000\" stroke=\"#000000\" points=\"215.309,-586.1856 212.2037,-576.0561 208.3144,-585.9112 215.309,-586.1856\"/>\n",
       "</g>\n",
       "<!-- 16 -->\n",
       "<g id=\"node17\" class=\"node\">\n",
       "<title>16</title>\n",
       "<text text-anchor=\"middle\" x=\"181.5\" y=\"-513.8\" font-family=\"Times,serif\" font-size=\"14.00\" fill=\"#ff0000\">&lt;identifier&gt;</text>\n",
       "</g>\n",
       "<!-- 15&#45;&gt;16 -->\n",
       "<g id=\"edge16\" class=\"edge\">\n",
       "<title>15&#45;&gt;16</title>\n",
       "<path fill=\"none\" stroke=\"#000000\" d=\"M207.9258,-560.9748C203.5758,-553.8183 196.8899,-542.8188 191.3317,-533.6747\"/>\n",
       "<polygon fill=\"#000000\" stroke=\"#000000\" points=\"194.278,-531.7834 186.0929,-525.0561 188.2963,-535.4193 194.278,-531.7834\"/>\n",
       "</g>\n",
       "<!-- 18 -->\n",
       "<g id=\"node19\" class=\"node\">\n",
       "<title>18</title>\n",
       "<text text-anchor=\"middle\" x=\"237.5\" y=\"-513.8\" font-family=\"Times,serif\" font-size=\"14.00\" fill=\"#000000\">=</text>\n",
       "</g>\n",
       "<!-- 15&#45;&gt;18 -->\n",
       "<g id=\"edge18\" class=\"edge\">\n",
       "<title>15&#45;&gt;18</title>\n",
       "<path fill=\"none\" stroke=\"#000000\" d=\"M216.1888,-560.9748C219.6231,-553.969 224.8626,-543.2803 229.2869,-534.2547\"/>\n",
       "<polygon fill=\"#000000\" stroke=\"#000000\" points=\"232.5371,-535.5759 233.796,-525.0561 226.2517,-532.4947 232.5371,-535.5759\"/>\n",
       "</g>\n",
       "<!-- 19 -->\n",
       "<g id=\"node20\" class=\"node\">\n",
       "<title>19</title>\n",
       "<text text-anchor=\"middle\" x=\"280.5\" y=\"-513.8\" font-family=\"Times,serif\" font-size=\"14.00\" fill=\"#000000\">&lt;expr&gt;</text>\n",
       "</g>\n",
       "<!-- 15&#45;&gt;19 -->\n",
       "<g id=\"edge19\" class=\"edge\">\n",
       "<title>15&#45;&gt;19</title>\n",
       "<path fill=\"none\" stroke=\"#000000\" d=\"M222.5336,-560.9748C232.9796,-553.1403 249.5664,-540.7002 262.3258,-531.1307\"/>\n",
       "<polygon fill=\"#000000\" stroke=\"#000000\" points=\"264.5252,-533.8561 270.4252,-525.0561 260.3252,-528.2561 264.5252,-533.8561\"/>\n",
       "</g>\n",
       "<!-- 17 -->\n",
       "<g id=\"node18\" class=\"node\">\n",
       "<title>17</title>\n",
       "<text text-anchor=\"middle\" x=\"181.5\" y=\"-462.8\" font-family=\"Times,serif\" font-size=\"14.00\" fill=\"#000000\">bvar</text>\n",
       "</g>\n",
       "<!-- 16&#45;&gt;17 -->\n",
       "<g id=\"edge17\" class=\"edge\">\n",
       "<title>16&#45;&gt;17</title>\n",
       "<path fill=\"none\" stroke=\"#000000\" d=\"M181.5,-509.9748C181.5,-503.195 181.5,-492.966 181.5,-484.1331\"/>\n",
       "<polygon fill=\"#000000\" stroke=\"#000000\" points=\"185.0001,-484.0561 181.5,-474.0561 178.0001,-484.0561 185.0001,-484.0561\"/>\n",
       "</g>\n",
       "<!-- 20 -->\n",
       "<g id=\"node21\" class=\"node\">\n",
       "<title>20</title>\n",
       "<text text-anchor=\"middle\" x=\"236.5\" y=\"-462.8\" font-family=\"Times,serif\" font-size=\"14.00\" fill=\"#000000\">&lt;term&gt;</text>\n",
       "</g>\n",
       "<!-- 19&#45;&gt;20 -->\n",
       "<g id=\"edge20\" class=\"edge\">\n",
       "<title>19&#45;&gt;20</title>\n",
       "<path fill=\"none\" stroke=\"#000000\" d=\"M274.0076,-509.9748C267.6385,-502.5923 257.741,-491.1203 249.7122,-481.8142\"/>\n",
       "<polygon fill=\"#000000\" stroke=\"#000000\" points=\"252.2014,-479.3414 243.019,-474.0561 246.9013,-483.914 252.2014,-479.3414\"/>\n",
       "</g>\n",
       "<!-- 24 -->\n",
       "<g id=\"node25\" class=\"node\">\n",
       "<title>24</title>\n",
       "<text text-anchor=\"middle\" x=\"280.5\" y=\"-462.8\" font-family=\"Times,serif\" font-size=\"14.00\" fill=\"#000000\">&#45;</text>\n",
       "</g>\n",
       "<!-- 19&#45;&gt;24 -->\n",
       "<g id=\"edge24\" class=\"edge\">\n",
       "<title>19&#45;&gt;24</title>\n",
       "<path fill=\"none\" stroke=\"#000000\" d=\"M280.5,-509.9748C280.5,-503.195 280.5,-492.966 280.5,-484.1331\"/>\n",
       "<polygon fill=\"#000000\" stroke=\"#000000\" points=\"284.0001,-484.0561 280.5,-474.0561 277.0001,-484.0561 284.0001,-484.0561\"/>\n",
       "</g>\n",
       "<!-- 25 -->\n",
       "<g id=\"node26\" class=\"node\">\n",
       "<title>25</title>\n",
       "<text text-anchor=\"middle\" x=\"340.5\" y=\"-462.8\" font-family=\"Times,serif\" font-size=\"14.00\" fill=\"#000000\">&lt;expr&gt;</text>\n",
       "</g>\n",
       "<!-- 19&#45;&gt;25 -->\n",
       "<g id=\"edge25\" class=\"edge\">\n",
       "<title>19&#45;&gt;25</title>\n",
       "<path fill=\"none\" stroke=\"#000000\" d=\"M289.3532,-509.9748C298.3929,-502.291 312.6447,-490.177 323.8107,-480.6859\"/>\n",
       "<polygon fill=\"#000000\" stroke=\"#000000\" points=\"326.2578,-483.1994 331.6105,-474.0561 321.7243,-477.8658 326.2578,-483.1994\"/>\n",
       "</g>\n",
       "<!-- 21 -->\n",
       "<g id=\"node22\" class=\"node\">\n",
       "<title>21</title>\n",
       "<text text-anchor=\"middle\" x=\"231.5\" y=\"-411.8\" font-family=\"Times,serif\" font-size=\"14.00\" fill=\"#000000\">&lt;factor&gt;</text>\n",
       "</g>\n",
       "<!-- 20&#45;&gt;21 -->\n",
       "<g id=\"edge21\" class=\"edge\">\n",
       "<title>20&#45;&gt;21</title>\n",
       "<path fill=\"none\" stroke=\"#000000\" d=\"M235.7622,-458.9748C235.0975,-452.195 234.0947,-441.966 233.2287,-433.1331\"/>\n",
       "<polygon fill=\"#000000\" stroke=\"#000000\" points=\"236.6999,-432.6669 232.2408,-423.0561 229.7333,-433.3499 236.6999,-432.6669\"/>\n",
       "</g>\n",
       "<!-- 22 -->\n",
       "<g id=\"node23\" class=\"node\">\n",
       "<title>22</title>\n",
       "<text text-anchor=\"middle\" x=\"222.5\" y=\"-360.8\" font-family=\"Times,serif\" font-size=\"14.00\" fill=\"#ff0000\">&lt;identifier&gt;</text>\n",
       "</g>\n",
       "<!-- 21&#45;&gt;22 -->\n",
       "<g id=\"edge22\" class=\"edge\">\n",
       "<title>21&#45;&gt;22</title>\n",
       "<path fill=\"none\" stroke=\"#000000\" d=\"M230.172,-407.9748C228.9756,-401.195 227.1705,-390.966 225.6117,-382.1331\"/>\n",
       "<polygon fill=\"#000000\" stroke=\"#000000\" points=\"229.0181,-381.2957 223.8334,-372.0561 222.1246,-382.5122 229.0181,-381.2957\"/>\n",
       "</g>\n",
       "<!-- 23 -->\n",
       "<g id=\"node24\" class=\"node\">\n",
       "<title>23</title>\n",
       "<text text-anchor=\"middle\" x=\"222.5\" y=\"-309.8\" font-family=\"Times,serif\" font-size=\"14.00\" fill=\"#000000\">avar</text>\n",
       "</g>\n",
       "<!-- 22&#45;&gt;23 -->\n",
       "<g id=\"edge23\" class=\"edge\">\n",
       "<title>22&#45;&gt;23</title>\n",
       "<path fill=\"none\" stroke=\"#000000\" d=\"M222.5,-356.9748C222.5,-350.195 222.5,-339.966 222.5,-331.1331\"/>\n",
       "<polygon fill=\"#000000\" stroke=\"#000000\" points=\"226.0001,-331.0561 222.5,-321.0561 219.0001,-331.0561 226.0001,-331.0561\"/>\n",
       "</g>\n",
       "<!-- 26 -->\n",
       "<g id=\"node27\" class=\"node\">\n",
       "<title>26</title>\n",
       "<text text-anchor=\"middle\" x=\"342.5\" y=\"-411.8\" font-family=\"Times,serif\" font-size=\"14.00\" fill=\"#000000\">&lt;term&gt;</text>\n",
       "</g>\n",
       "<!-- 25&#45;&gt;26 -->\n",
       "<g id=\"edge26\" class=\"edge\">\n",
       "<title>25&#45;&gt;26</title>\n",
       "<path fill=\"none\" stroke=\"#000000\" d=\"M340.7951,-458.9748C341.061,-452.195 341.4621,-441.966 341.8085,-433.1331\"/>\n",
       "<polygon fill=\"#000000\" stroke=\"#000000\" points=\"345.309,-433.1856 342.2037,-423.0561 338.3144,-432.9112 345.309,-433.1856\"/>\n",
       "</g>\n",
       "<!-- 27 -->\n",
       "<g id=\"node28\" class=\"node\">\n",
       "<title>27</title>\n",
       "<text text-anchor=\"middle\" x=\"298.5\" y=\"-360.8\" font-family=\"Times,serif\" font-size=\"14.00\" fill=\"#000000\">&lt;factor&gt;</text>\n",
       "</g>\n",
       "<!-- 26&#45;&gt;27 -->\n",
       "<g id=\"edge27\" class=\"edge\">\n",
       "<title>26&#45;&gt;27</title>\n",
       "<path fill=\"none\" stroke=\"#000000\" d=\"M336.0076,-407.9748C329.6385,-400.5923 319.741,-389.1203 311.7122,-379.8142\"/>\n",
       "<polygon fill=\"#000000\" stroke=\"#000000\" points=\"314.2014,-377.3414 305.019,-372.0561 308.9013,-381.914 314.2014,-377.3414\"/>\n",
       "</g>\n",
       "<!-- 30 -->\n",
       "<g id=\"node31\" class=\"node\">\n",
       "<title>30</title>\n",
       "<text text-anchor=\"middle\" x=\"345.5\" y=\"-360.8\" font-family=\"Times,serif\" font-size=\"14.00\" fill=\"#000000\">*</text>\n",
       "</g>\n",
       "<!-- 26&#45;&gt;30 -->\n",
       "<g id=\"edge30\" class=\"edge\">\n",
       "<title>26&#45;&gt;30</title>\n",
       "<path fill=\"none\" stroke=\"#000000\" d=\"M342.9427,-407.9748C343.3415,-401.195 343.9432,-390.966 344.4628,-382.1331\"/>\n",
       "<polygon fill=\"#000000\" stroke=\"#000000\" points=\"347.9622,-382.2444 345.0555,-372.0561 340.9742,-381.8333 347.9622,-382.2444\"/>\n",
       "</g>\n",
       "<!-- 31 -->\n",
       "<g id=\"node32\" class=\"node\">\n",
       "<title>31</title>\n",
       "<text text-anchor=\"middle\" x=\"388.5\" y=\"-360.8\" font-family=\"Times,serif\" font-size=\"14.00\" fill=\"#000000\">&lt;term&gt;</text>\n",
       "</g>\n",
       "<!-- 26&#45;&gt;31 -->\n",
       "<g id=\"edge31\" class=\"edge\">\n",
       "<title>26&#45;&gt;31</title>\n",
       "<path fill=\"none\" stroke=\"#000000\" d=\"M349.2875,-407.9748C356.0141,-400.517 366.505,-388.8857 374.9436,-379.53\"/>\n",
       "<polygon fill=\"#000000\" stroke=\"#000000\" points=\"377.586,-381.826 381.6847,-372.0561 372.388,-377.1376 377.586,-381.826\"/>\n",
       "</g>\n",
       "<!-- 28 -->\n",
       "<g id=\"node29\" class=\"node\">\n",
       "<title>28</title>\n",
       "<text text-anchor=\"middle\" x=\"298.5\" y=\"-309.8\" font-family=\"Times,serif\" font-size=\"14.00\" fill=\"#ff0000\">&lt;number&gt;</text>\n",
       "</g>\n",
       "<!-- 27&#45;&gt;28 -->\n",
       "<g id=\"edge28\" class=\"edge\">\n",
       "<title>27&#45;&gt;28</title>\n",
       "<path fill=\"none\" stroke=\"#000000\" d=\"M298.5,-356.9748C298.5,-350.195 298.5,-339.966 298.5,-331.1331\"/>\n",
       "<polygon fill=\"#000000\" stroke=\"#000000\" points=\"302.0001,-331.0561 298.5,-321.0561 295.0001,-331.0561 302.0001,-331.0561\"/>\n",
       "</g>\n",
       "<!-- 29 -->\n",
       "<g id=\"node30\" class=\"node\">\n",
       "<title>29</title>\n",
       "<text text-anchor=\"middle\" x=\"298.5\" y=\"-258.8\" font-family=\"Times,serif\" font-size=\"14.00\" fill=\"#000000\">3</text>\n",
       "</g>\n",
       "<!-- 28&#45;&gt;29 -->\n",
       "<g id=\"edge29\" class=\"edge\">\n",
       "<title>28&#45;&gt;29</title>\n",
       "<path fill=\"none\" stroke=\"#000000\" d=\"M298.5,-305.9748C298.5,-299.195 298.5,-288.966 298.5,-280.1331\"/>\n",
       "<polygon fill=\"#000000\" stroke=\"#000000\" points=\"302.0001,-280.0561 298.5,-270.0561 295.0001,-280.0561 302.0001,-280.0561\"/>\n",
       "</g>\n",
       "<!-- 32 -->\n",
       "<g id=\"node33\" class=\"node\">\n",
       "<title>32</title>\n",
       "<text text-anchor=\"middle\" x=\"388.5\" y=\"-309.8\" font-family=\"Times,serif\" font-size=\"14.00\" fill=\"#000000\">&lt;factor&gt;</text>\n",
       "</g>\n",
       "<!-- 31&#45;&gt;32 -->\n",
       "<g id=\"edge32\" class=\"edge\">\n",
       "<title>31&#45;&gt;32</title>\n",
       "<path fill=\"none\" stroke=\"#000000\" d=\"M388.5,-356.9748C388.5,-350.195 388.5,-339.966 388.5,-331.1331\"/>\n",
       "<polygon fill=\"#000000\" stroke=\"#000000\" points=\"392.0001,-331.0561 388.5,-321.0561 385.0001,-331.0561 392.0001,-331.0561\"/>\n",
       "</g>\n",
       "<!-- 33 -->\n",
       "<g id=\"node34\" class=\"node\">\n",
       "<title>33</title>\n",
       "<text text-anchor=\"middle\" x=\"347.5\" y=\"-258.8\" font-family=\"Times,serif\" font-size=\"14.00\" fill=\"#000000\">(</text>\n",
       "</g>\n",
       "<!-- 32&#45;&gt;33 -->\n",
       "<g id=\"edge33\" class=\"edge\">\n",
       "<title>32&#45;&gt;33</title>\n",
       "<path fill=\"none\" stroke=\"#000000\" d=\"M382.4503,-305.9748C375.6341,-297.4961 364.4814,-283.6232 356.6104,-273.8324\"/>\n",
       "<polygon fill=\"#000000\" stroke=\"#000000\" points=\"359.1088,-271.3541 350.1154,-265.7533 353.6531,-275.74 359.1088,-271.3541\"/>\n",
       "</g>\n",
       "<!-- 34 -->\n",
       "<g id=\"node35\" class=\"node\">\n",
       "<title>34</title>\n",
       "<text text-anchor=\"middle\" x=\"388.5\" y=\"-258.8\" font-family=\"Times,serif\" font-size=\"14.00\" fill=\"#000000\">&lt;expr&gt;</text>\n",
       "</g>\n",
       "<!-- 32&#45;&gt;34 -->\n",
       "<g id=\"edge34\" class=\"edge\">\n",
       "<title>32&#45;&gt;34</title>\n",
       "<path fill=\"none\" stroke=\"#000000\" d=\"M388.5,-305.9748C388.5,-299.195 388.5,-288.966 388.5,-280.1331\"/>\n",
       "<polygon fill=\"#000000\" stroke=\"#000000\" points=\"392.0001,-280.0561 388.5,-270.0561 385.0001,-280.0561 392.0001,-280.0561\"/>\n",
       "</g>\n",
       "<!-- 45 -->\n",
       "<g id=\"node46\" class=\"node\">\n",
       "<title>45</title>\n",
       "<text text-anchor=\"middle\" x=\"429.5\" y=\"-258.8\" font-family=\"Times,serif\" font-size=\"14.00\" fill=\"#000000\">)</text>\n",
       "</g>\n",
       "<!-- 32&#45;&gt;45 -->\n",
       "<g id=\"edge45\" class=\"edge\">\n",
       "<title>32&#45;&gt;45</title>\n",
       "<path fill=\"none\" stroke=\"#000000\" d=\"M394.5497,-305.9748C401.3659,-297.4961 412.5186,-283.6232 420.3896,-273.8324\"/>\n",
       "<polygon fill=\"#000000\" stroke=\"#000000\" points=\"423.3469,-275.74 426.8846,-265.7533 417.8912,-271.3541 423.3469,-275.74\"/>\n",
       "</g>\n",
       "<!-- 35 -->\n",
       "<g id=\"node36\" class=\"node\">\n",
       "<title>35</title>\n",
       "<text text-anchor=\"middle\" x=\"345.5\" y=\"-207.8\" font-family=\"Times,serif\" font-size=\"14.00\" fill=\"#000000\">&lt;term&gt;</text>\n",
       "</g>\n",
       "<!-- 34&#45;&gt;35 -->\n",
       "<g id=\"edge35\" class=\"edge\">\n",
       "<title>34&#45;&gt;35</title>\n",
       "<path fill=\"none\" stroke=\"#000000\" d=\"M382.1552,-254.9748C375.9308,-247.5923 366.2583,-236.1203 358.4119,-226.8142\"/>\n",
       "<polygon fill=\"#000000\" stroke=\"#000000\" points=\"360.9927,-224.4452 351.8708,-219.0561 355.641,-228.9574 360.9927,-224.4452\"/>\n",
       "</g>\n",
       "<!-- 39 -->\n",
       "<g id=\"node40\" class=\"node\">\n",
       "<title>39</title>\n",
       "<text text-anchor=\"middle\" x=\"388.5\" y=\"-207.8\" font-family=\"Times,serif\" font-size=\"14.00\" fill=\"#000000\">+</text>\n",
       "</g>\n",
       "<!-- 34&#45;&gt;39 -->\n",
       "<g id=\"edge39\" class=\"edge\">\n",
       "<title>34&#45;&gt;39</title>\n",
       "<path fill=\"none\" stroke=\"#000000\" d=\"M388.5,-254.9748C388.5,-248.195 388.5,-237.966 388.5,-229.1331\"/>\n",
       "<polygon fill=\"#000000\" stroke=\"#000000\" points=\"392.0001,-229.0561 388.5,-219.0561 385.0001,-229.0561 392.0001,-229.0561\"/>\n",
       "</g>\n",
       "<!-- 40 -->\n",
       "<g id=\"node41\" class=\"node\">\n",
       "<title>40</title>\n",
       "<text text-anchor=\"middle\" x=\"431.5\" y=\"-207.8\" font-family=\"Times,serif\" font-size=\"14.00\" fill=\"#000000\">&lt;expr&gt;</text>\n",
       "</g>\n",
       "<!-- 34&#45;&gt;40 -->\n",
       "<g id=\"edge40\" class=\"edge\">\n",
       "<title>34&#45;&gt;40</title>\n",
       "<path fill=\"none\" stroke=\"#000000\" d=\"M394.8448,-254.9748C401.0692,-247.5923 410.7417,-236.1203 418.5881,-226.8142\"/>\n",
       "<polygon fill=\"#000000\" stroke=\"#000000\" points=\"421.359,-228.9574 425.1292,-219.0561 416.0073,-224.4452 421.359,-228.9574\"/>\n",
       "</g>\n",
       "<!-- 36 -->\n",
       "<g id=\"node37\" class=\"node\">\n",
       "<title>36</title>\n",
       "<text text-anchor=\"middle\" x=\"345.5\" y=\"-156.8\" font-family=\"Times,serif\" font-size=\"14.00\" fill=\"#000000\">&lt;factor&gt;</text>\n",
       "</g>\n",
       "<!-- 35&#45;&gt;36 -->\n",
       "<g id=\"edge36\" class=\"edge\">\n",
       "<title>35&#45;&gt;36</title>\n",
       "<path fill=\"none\" stroke=\"#000000\" d=\"M345.5,-203.9748C345.5,-197.195 345.5,-186.966 345.5,-178.1331\"/>\n",
       "<polygon fill=\"#000000\" stroke=\"#000000\" points=\"349.0001,-178.0561 345.5,-168.0561 342.0001,-178.0561 349.0001,-178.0561\"/>\n",
       "</g>\n",
       "<!-- 37 -->\n",
       "<g id=\"node38\" class=\"node\">\n",
       "<title>37</title>\n",
       "<text text-anchor=\"middle\" x=\"345.5\" y=\"-105.8\" font-family=\"Times,serif\" font-size=\"14.00\" fill=\"#ff0000\">&lt;number&gt;</text>\n",
       "</g>\n",
       "<!-- 36&#45;&gt;37 -->\n",
       "<g id=\"edge37\" class=\"edge\">\n",
       "<title>36&#45;&gt;37</title>\n",
       "<path fill=\"none\" stroke=\"#000000\" d=\"M345.5,-152.9748C345.5,-146.195 345.5,-135.966 345.5,-127.1331\"/>\n",
       "<polygon fill=\"#000000\" stroke=\"#000000\" points=\"349.0001,-127.0561 345.5,-117.0561 342.0001,-127.0561 349.0001,-127.0561\"/>\n",
       "</g>\n",
       "<!-- 38 -->\n",
       "<g id=\"node39\" class=\"node\">\n",
       "<title>38</title>\n",
       "<text text-anchor=\"middle\" x=\"345.5\" y=\"-54.8\" font-family=\"Times,serif\" font-size=\"14.00\" fill=\"#000000\">4</text>\n",
       "</g>\n",
       "<!-- 37&#45;&gt;38 -->\n",
       "<g id=\"edge38\" class=\"edge\">\n",
       "<title>37&#45;&gt;38</title>\n",
       "<path fill=\"none\" stroke=\"#000000\" d=\"M345.5,-101.9748C345.5,-95.195 345.5,-84.966 345.5,-76.1331\"/>\n",
       "<polygon fill=\"#000000\" stroke=\"#000000\" points=\"349.0001,-76.0561 345.5,-66.0561 342.0001,-76.0561 349.0001,-76.0561\"/>\n",
       "</g>\n",
       "<!-- 41 -->\n",
       "<g id=\"node42\" class=\"node\">\n",
       "<title>41</title>\n",
       "<text text-anchor=\"middle\" x=\"431.5\" y=\"-156.8\" font-family=\"Times,serif\" font-size=\"14.00\" fill=\"#000000\">&lt;term&gt;</text>\n",
       "</g>\n",
       "<!-- 40&#45;&gt;41 -->\n",
       "<g id=\"edge41\" class=\"edge\">\n",
       "<title>40&#45;&gt;41</title>\n",
       "<path fill=\"none\" stroke=\"#000000\" d=\"M431.5,-203.9748C431.5,-197.195 431.5,-186.966 431.5,-178.1331\"/>\n",
       "<polygon fill=\"#000000\" stroke=\"#000000\" points=\"435.0001,-178.0561 431.5,-168.0561 428.0001,-178.0561 435.0001,-178.0561\"/>\n",
       "</g>\n",
       "<!-- 42 -->\n",
       "<g id=\"node43\" class=\"node\">\n",
       "<title>42</title>\n",
       "<text text-anchor=\"middle\" x=\"431.5\" y=\"-105.8\" font-family=\"Times,serif\" font-size=\"14.00\" fill=\"#000000\">&lt;factor&gt;</text>\n",
       "</g>\n",
       "<!-- 41&#45;&gt;42 -->\n",
       "<g id=\"edge42\" class=\"edge\">\n",
       "<title>41&#45;&gt;42</title>\n",
       "<path fill=\"none\" stroke=\"#000000\" d=\"M431.5,-152.9748C431.5,-146.195 431.5,-135.966 431.5,-127.1331\"/>\n",
       "<polygon fill=\"#000000\" stroke=\"#000000\" points=\"435.0001,-127.0561 431.5,-117.0561 428.0001,-127.0561 435.0001,-127.0561\"/>\n",
       "</g>\n",
       "<!-- 43 -->\n",
       "<g id=\"node44\" class=\"node\">\n",
       "<title>43</title>\n",
       "<text text-anchor=\"middle\" x=\"431.5\" y=\"-54.8\" font-family=\"Times,serif\" font-size=\"14.00\" fill=\"#ff0000\">&lt;number&gt;</text>\n",
       "</g>\n",
       "<!-- 42&#45;&gt;43 -->\n",
       "<g id=\"edge43\" class=\"edge\">\n",
       "<title>42&#45;&gt;43</title>\n",
       "<path fill=\"none\" stroke=\"#000000\" d=\"M431.5,-101.9748C431.5,-95.195 431.5,-84.966 431.5,-76.1331\"/>\n",
       "<polygon fill=\"#000000\" stroke=\"#000000\" points=\"435.0001,-76.0561 431.5,-66.0561 428.0001,-76.0561 435.0001,-76.0561\"/>\n",
       "</g>\n",
       "<!-- 44 -->\n",
       "<g id=\"node45\" class=\"node\">\n",
       "<title>44</title>\n",
       "<text text-anchor=\"middle\" x=\"431.5\" y=\"-3.8\" font-family=\"Times,serif\" font-size=\"14.00\" fill=\"#000000\">300</text>\n",
       "</g>\n",
       "<!-- 43&#45;&gt;44 -->\n",
       "<g id=\"edge44\" class=\"edge\">\n",
       "<title>43&#45;&gt;44</title>\n",
       "<path fill=\"none\" stroke=\"#000000\" d=\"M431.5,-50.9748C431.5,-44.195 431.5,-33.966 431.5,-25.1331\"/>\n",
       "<polygon fill=\"#000000\" stroke=\"#000000\" points=\"435.0001,-25.0561 431.5,-15.0561 428.0001,-25.0561 435.0001,-25.0561\"/>\n",
       "</g>\n",
       "</g>\n",
       "</svg>\n"
      ],
      "text/plain": [
       "<graphviz.dot.Digraph at 0x113fdd978>"
      ]
     },
     "metadata": {},
     "output_type": "display_data"
    }
   ],
   "source": [
    "mystring = 'avar=1.3;bvar=avar-3*(4+300)'\n",
    "parser = PEGParser(VAR_GRAMMAR, tokens=VAR_TOKENS)\n",
    "for tree in parser.parse(mystring):\n",
    "    display_tree(tree, node_attr=highlight_node(hl_predicate))"
   ]
  },
  {
   "cell_type": "markdown",
   "metadata": {
    "slideshow": {
     "slide_type": "notes"
    }
   },
   "source": [
    "We develop a `LangFuzzer` class that generates recombined inputs. To apply the _Langfuzz_ approach, we need a few parsed strings."
   ]
  },
  {
   "cell_type": "code",
   "execution_count": 67,
   "metadata": {
    "slideshow": {
     "slide_type": "fragment"
    }
   },
   "outputs": [],
   "source": [
    "mystrings = [\n",
    "    'abc=12+(3+3.3)',\n",
    "    'a=1;b=2;c=a+b',\n",
    "    'avar=1.3;bvar=avar-3*(4+300)',\n",
    "    'a=1.3;b=a-1*(4+3+(2/a))',\n",
    "    'a=10;b=20;c=34;d=-b+(b*b-4*a*c)/(2*a)',\n",
    "    'x=10;y=20;z=(x+y)*(x-y)',\n",
    "    'x=23;y=51;z=x*x-y*y',\n",
    "]"
   ]
  },
  {
   "cell_type": "markdown",
   "metadata": {
    "slideshow": {
     "slide_type": "notes"
    }
   },
   "source": [
    "We recurse through any given tree, collecting parsed fragments corresponding to each nonterminal. Further, we also name each node so that we can address each node separately."
   ]
  },
  {
   "cell_type": "code",
   "execution_count": 68,
   "metadata": {
    "slideshow": {
     "slide_type": "subslide"
    }
   },
   "outputs": [],
   "source": [
    "class LangFuzzer(Fuzzer):\n",
    "    def __init__(self, parser):\n",
    "        self.parser = parser\n",
    "        self.fragments = {k: [] for k in self.parser.cgrammar}\n",
    "\n",
    "    def traverse_tree(self, node):\n",
    "        counter = 1\n",
    "        nodes = {}\n",
    "\n",
    "        def helper(node, id):\n",
    "            nonlocal counter\n",
    "            name, children = node\n",
    "            new_children = []\n",
    "            nodes[id] = node\n",
    "            for child in children:\n",
    "                counter += 1\n",
    "                new_children.append(helper(child, counter))\n",
    "            return name, new_children, id\n",
    "\n",
    "        return helper(node, counter), nodes\n",
    "\n",
    "    def fragment(self, strings):\n",
    "        self.trees = []\n",
    "        for string in strings:\n",
    "            for tree in self.parser.parse(string):\n",
    "                tree, nodes = self.traverse_tree(tree)\n",
    "                self.trees.append((tree, nodes))\n",
    "                for node in nodes:\n",
    "                    symbol = nodes[node][0]\n",
    "                    if symbol in self.fragments:\n",
    "                        self.fragments[symbol].append(nodes[node])\n",
    "        return self.fragments"
   ]
  },
  {
   "cell_type": "markdown",
   "metadata": {
    "slideshow": {
     "slide_type": "skip"
    }
   },
   "source": [
    "We thus obtain all valid fragments from our parsed strings."
   ]
  },
  {
   "cell_type": "code",
   "execution_count": 69,
   "metadata": {
    "slideshow": {
     "slide_type": "subslide"
    }
   },
   "outputs": [
    {
     "name": "stdout",
     "output_type": "stream",
     "text": [
      "<start>: 7\n",
      "<statements>: 18\n",
      "<statement>: 18\n",
      "<assignment>: 18\n",
      "<identifier>: 37\n",
      "<word>: 0\n",
      "<alpha>: 0\n",
      "<expr>: 39\n",
      "<term>: 50\n",
      "<factor>: 51\n",
      "<number>: 23\n",
      "<integer>: 0\n",
      "<digit>: 0\n"
     ]
    }
   ],
   "source": [
    "lf = LangFuzzer(PEGParser(VAR_GRAMMAR, tokens=VAR_TOKENS))\n",
    "fragments = lf.fragment(mystrings)\n",
    "for key in fragments:\n",
    "    print(\"%s: %d\" % (key, len(fragments[key])))"
   ]
  },
  {
   "cell_type": "markdown",
   "metadata": {
    "slideshow": {
     "slide_type": "notes"
    }
   },
   "source": [
    "All that remains is to actually find a place to poke a hole using `candidate()`, and patch that hole using `generate_new_tree()`. We will explain how to do this next.\n",
    "\n",
    "But before that, we update our `initialization` method with a call to `fragment()."
   ]
  },
  {
   "cell_type": "code",
   "execution_count": 70,
   "metadata": {
    "slideshow": {
     "slide_type": "subslide"
    }
   },
   "outputs": [],
   "source": [
    "import random"
   ]
  },
  {
   "cell_type": "code",
   "execution_count": 71,
   "metadata": {
    "slideshow": {
     "slide_type": "fragment"
    }
   },
   "outputs": [],
   "source": [
    "class LangFuzzer(LangFuzzer):\n",
    "    def __init__(self, parser, strings):\n",
    "        self.parser = parser\n",
    "        self.fragments = {k: [] for k in self.parser.cgrammar}\n",
    "        self.fragment(strings)"
   ]
  },
  {
   "cell_type": "markdown",
   "metadata": {
    "slideshow": {
     "slide_type": "subslide"
    }
   },
   "source": [
    "#### Candidate\n",
    "`LangFuzzer` accepts a list of strings, which are stored as derivation trees in the object.\n",
    "\n",
    "The method `candidate()` chooses one of the derivation trees randomly as the template, and identifies a node such that it can be replaced by another node that is different from itself. That is, it chooses a node such that, if the non-terminal name of the node is `node_type`, there is at least one other entry in `fragment[node_type])` "
   ]
  },
  {
   "cell_type": "code",
   "execution_count": 72,
   "metadata": {
    "slideshow": {
     "slide_type": "subslide"
    }
   },
   "outputs": [],
   "source": [
    "class LangFuzzer(LangFuzzer):\n",
    "    def candidate(self):\n",
    "        tree, nodes = random.choice(self.trees)\n",
    "        interesting_nodes = [\n",
    "            n for n in nodes if nodes[n][0] in self.fragments\n",
    "            and len(self.fragments[nodes[n][0]]) > 1\n",
    "        ]\n",
    "        node = random.choice(interesting_nodes)\n",
    "        return tree, node"
   ]
  },
  {
   "cell_type": "markdown",
   "metadata": {
    "slideshow": {
     "slide_type": "fragment"
    }
   },
   "source": [
    "Here is how it is used -- the *red* node is the node chosen."
   ]
  },
  {
   "cell_type": "code",
   "execution_count": 73,
   "metadata": {
    "slideshow": {
     "slide_type": "subslide"
    }
   },
   "outputs": [
    {
     "data": {
      "image/svg+xml": [
       "<?xml version=\"1.0\" encoding=\"UTF-8\" standalone=\"no\"?>\n",
       "<!DOCTYPE svg PUBLIC \"-//W3C//DTD SVG 1.1//EN\"\n",
       " \"http://www.w3.org/Graphics/SVG/1.1/DTD/svg11.dtd\">\n",
       "<!-- Generated by graphviz version 2.40.1 (20161225.0304)\n",
       " -->\n",
       "<!-- Title: %3 Pages: 1 -->\n",
       "<svg width=\"511pt\" height=\"584pt\"\n",
       " viewBox=\"0.00 0.00 511.00 584.00\" xmlns=\"http://www.w3.org/2000/svg\" xmlns:xlink=\"http://www.w3.org/1999/xlink\">\n",
       "<g id=\"graph0\" class=\"graph\" transform=\"scale(1 1) rotate(0) translate(4 580)\">\n",
       "<title>%3</title>\n",
       "<polygon fill=\"#ffffff\" stroke=\"transparent\" points=\"-4,4 -4,-580 507,-580 507,4 -4,4\"/>\n",
       "<!-- 0 -->\n",
       "<g id=\"node1\" class=\"node\">\n",
       "<title>0</title>\n",
       "<text text-anchor=\"middle\" x=\"198.5\" y=\"-564.8\" font-family=\"Times,serif\" font-size=\"14.00\" fill=\"#000000\">&lt;start&gt;</text>\n",
       "</g>\n",
       "<!-- 1 -->\n",
       "<g id=\"node2\" class=\"node\">\n",
       "<title>1</title>\n",
       "<text text-anchor=\"middle\" x=\"198.5\" y=\"-513.8\" font-family=\"Times,serif\" font-size=\"14.00\" fill=\"#000000\">&lt;statements&gt;</text>\n",
       "</g>\n",
       "<!-- 0&#45;&gt;1 -->\n",
       "<g id=\"edge1\" class=\"edge\">\n",
       "<title>0&#45;&gt;1</title>\n",
       "<path fill=\"none\" stroke=\"#000000\" d=\"M198.5,-560.9748C198.5,-554.195 198.5,-543.966 198.5,-535.1331\"/>\n",
       "<polygon fill=\"#000000\" stroke=\"#000000\" points=\"202.0001,-535.0561 198.5,-525.0561 195.0001,-535.0561 202.0001,-535.0561\"/>\n",
       "</g>\n",
       "<!-- 2 -->\n",
       "<g id=\"node3\" class=\"node\">\n",
       "<title>2</title>\n",
       "<text text-anchor=\"middle\" x=\"134.5\" y=\"-462.8\" font-family=\"Times,serif\" font-size=\"14.00\" fill=\"#000000\">&lt;statement&gt;</text>\n",
       "</g>\n",
       "<!-- 1&#45;&gt;2 -->\n",
       "<g id=\"edge2\" class=\"edge\">\n",
       "<title>1&#45;&gt;2</title>\n",
       "<path fill=\"none\" stroke=\"#000000\" d=\"M189.0566,-509.9748C179.3197,-502.2157 163.9137,-489.939 151.9526,-480.4075\"/>\n",
       "<polygon fill=\"#000000\" stroke=\"#000000\" points=\"153.984,-477.551 143.9822,-474.0561 149.6216,-483.0254 153.984,-477.551\"/>\n",
       "</g>\n",
       "<!-- 12 -->\n",
       "<g id=\"node13\" class=\"node\">\n",
       "<title>12</title>\n",
       "<text text-anchor=\"middle\" x=\"198.5\" y=\"-462.8\" font-family=\"Times,serif\" font-size=\"14.00\" fill=\"#000000\">;</text>\n",
       "</g>\n",
       "<!-- 1&#45;&gt;12 -->\n",
       "<g id=\"edge12\" class=\"edge\">\n",
       "<title>1&#45;&gt;12</title>\n",
       "<path fill=\"none\" stroke=\"#000000\" d=\"M198.5,-509.9748C198.5,-503.195 198.5,-492.966 198.5,-484.1331\"/>\n",
       "<polygon fill=\"#000000\" stroke=\"#000000\" points=\"202.0001,-484.0561 198.5,-474.0561 195.0001,-484.0561 202.0001,-484.0561\"/>\n",
       "</g>\n",
       "<!-- 13 -->\n",
       "<g id=\"node14\" class=\"node\">\n",
       "<title>13</title>\n",
       "<text text-anchor=\"middle\" x=\"260.5\" y=\"-462.8\" font-family=\"Times,serif\" font-size=\"14.00\" fill=\"#000000\">&lt;statements&gt;</text>\n",
       "</g>\n",
       "<!-- 1&#45;&gt;13 -->\n",
       "<g id=\"edge13\" class=\"edge\">\n",
       "<title>1&#45;&gt;13</title>\n",
       "<path fill=\"none\" stroke=\"#000000\" d=\"M207.6483,-509.9748C216.9894,-502.291 231.7162,-490.177 243.2544,-480.6859\"/>\n",
       "<polygon fill=\"#000000\" stroke=\"#000000\" points=\"245.8147,-483.1119 251.3142,-474.0561 241.3678,-477.7058 245.8147,-483.1119\"/>\n",
       "</g>\n",
       "<!-- 3 -->\n",
       "<g id=\"node4\" class=\"node\">\n",
       "<title>3</title>\n",
       "<text text-anchor=\"middle\" x=\"117.5\" y=\"-411.8\" font-family=\"Times,serif\" font-size=\"14.00\" fill=\"#000000\">&lt;assignment&gt;</text>\n",
       "</g>\n",
       "<!-- 2&#45;&gt;3 -->\n",
       "<g id=\"edge3\" class=\"edge\">\n",
       "<title>2&#45;&gt;3</title>\n",
       "<path fill=\"none\" stroke=\"#000000\" d=\"M131.9916,-458.9748C129.6814,-452.0443 126.1699,-441.5097 123.1821,-432.5464\"/>\n",
       "<polygon fill=\"#000000\" stroke=\"#000000\" points=\"126.5014,-431.4361 120.0187,-423.0561 119.8607,-433.6498 126.5014,-431.4361\"/>\n",
       "</g>\n",
       "<!-- 4 -->\n",
       "<g id=\"node5\" class=\"node\">\n",
       "<title>4</title>\n",
       "<text text-anchor=\"middle\" x=\"33.5\" y=\"-360.8\" font-family=\"Times,serif\" font-size=\"14.00\" fill=\"#000000\">&lt;identifier&gt;</text>\n",
       "</g>\n",
       "<!-- 3&#45;&gt;4 -->\n",
       "<g id=\"edge4\" class=\"edge\">\n",
       "<title>3&#45;&gt;4</title>\n",
       "<path fill=\"none\" stroke=\"#000000\" d=\"M105.1055,-407.9748C91.8295,-399.9143 70.5237,-386.9787 54.5986,-377.3099\"/>\n",
       "<polygon fill=\"#000000\" stroke=\"#000000\" points=\"56.3097,-374.2542 45.9453,-372.0561 52.6768,-380.2377 56.3097,-374.2542\"/>\n",
       "</g>\n",
       "<!-- 6 -->\n",
       "<g id=\"node7\" class=\"node\">\n",
       "<title>6</title>\n",
       "<text text-anchor=\"middle\" x=\"89.5\" y=\"-360.8\" font-family=\"Times,serif\" font-size=\"14.00\" fill=\"#000000\">=</text>\n",
       "</g>\n",
       "<!-- 3&#45;&gt;6 -->\n",
       "<g id=\"edge6\" class=\"edge\">\n",
       "<title>3&#45;&gt;6</title>\n",
       "<path fill=\"none\" stroke=\"#000000\" d=\"M113.3685,-407.9748C109.4808,-400.8936 103.5274,-390.05 98.5391,-380.9641\"/>\n",
       "<polygon fill=\"#000000\" stroke=\"#000000\" points=\"101.5291,-379.1375 93.6484,-372.0561 95.3931,-382.5063 101.5291,-379.1375\"/>\n",
       "</g>\n",
       "<!-- 7 -->\n",
       "<g id=\"node8\" class=\"node\">\n",
       "<title>7</title>\n",
       "<text text-anchor=\"middle\" x=\"132.5\" y=\"-360.8\" font-family=\"Times,serif\" font-size=\"14.00\" fill=\"#000000\">&lt;expr&gt;</text>\n",
       "</g>\n",
       "<!-- 3&#45;&gt;7 -->\n",
       "<g id=\"edge7\" class=\"edge\">\n",
       "<title>3&#45;&gt;7</title>\n",
       "<path fill=\"none\" stroke=\"#000000\" d=\"M119.7133,-407.9748C121.7295,-401.1196 124.7829,-390.7383 127.4002,-381.8392\"/>\n",
       "<polygon fill=\"#000000\" stroke=\"#000000\" points=\"130.8137,-382.6374 130.2776,-372.0561 124.0981,-380.6622 130.8137,-382.6374\"/>\n",
       "</g>\n",
       "<!-- 5 -->\n",
       "<g id=\"node6\" class=\"node\">\n",
       "<title>5</title>\n",
       "<text text-anchor=\"middle\" x=\"33.5\" y=\"-309.8\" font-family=\"Times,serif\" font-size=\"14.00\" fill=\"#000000\">a</text>\n",
       "</g>\n",
       "<!-- 4&#45;&gt;5 -->\n",
       "<g id=\"edge5\" class=\"edge\">\n",
       "<title>4&#45;&gt;5</title>\n",
       "<path fill=\"none\" stroke=\"#000000\" d=\"M33.5,-356.9748C33.5,-350.195 33.5,-339.966 33.5,-331.1331\"/>\n",
       "<polygon fill=\"#000000\" stroke=\"#000000\" points=\"37.0001,-331.0561 33.5,-321.0561 30.0001,-331.0561 37.0001,-331.0561\"/>\n",
       "</g>\n",
       "<!-- 8 -->\n",
       "<g id=\"node9\" class=\"node\">\n",
       "<title>8</title>\n",
       "<text text-anchor=\"middle\" x=\"95.5\" y=\"-309.8\" font-family=\"Times,serif\" font-size=\"14.00\" fill=\"#000000\">&lt;term&gt;</text>\n",
       "</g>\n",
       "<!-- 7&#45;&gt;8 -->\n",
       "<g id=\"edge8\" class=\"edge\">\n",
       "<title>7&#45;&gt;8</title>\n",
       "<path fill=\"none\" stroke=\"#000000\" d=\"M127.0405,-356.9748C121.7939,-349.743 113.7002,-338.5868 107.0256,-329.3866\"/>\n",
       "<polygon fill=\"#000000\" stroke=\"#000000\" points=\"109.6872,-327.095 100.9819,-321.0561 104.0212,-331.2056 109.6872,-327.095\"/>\n",
       "</g>\n",
       "<!-- 9 -->\n",
       "<g id=\"node10\" class=\"node\">\n",
       "<title>9</title>\n",
       "<text text-anchor=\"middle\" x=\"95.5\" y=\"-258.8\" font-family=\"Times,serif\" font-size=\"14.00\" fill=\"#000000\">&lt;factor&gt;</text>\n",
       "</g>\n",
       "<!-- 8&#45;&gt;9 -->\n",
       "<g id=\"edge9\" class=\"edge\">\n",
       "<title>8&#45;&gt;9</title>\n",
       "<path fill=\"none\" stroke=\"#000000\" d=\"M95.5,-305.9748C95.5,-299.195 95.5,-288.966 95.5,-280.1331\"/>\n",
       "<polygon fill=\"#000000\" stroke=\"#000000\" points=\"99.0001,-280.0561 95.5,-270.0561 92.0001,-280.0561 99.0001,-280.0561\"/>\n",
       "</g>\n",
       "<!-- 10 -->\n",
       "<g id=\"node11\" class=\"node\">\n",
       "<title>10</title>\n",
       "<text text-anchor=\"middle\" x=\"95.5\" y=\"-207.8\" font-family=\"Times,serif\" font-size=\"14.00\" fill=\"#000000\">&lt;number&gt;</text>\n",
       "</g>\n",
       "<!-- 9&#45;&gt;10 -->\n",
       "<g id=\"edge10\" class=\"edge\">\n",
       "<title>9&#45;&gt;10</title>\n",
       "<path fill=\"none\" stroke=\"#000000\" d=\"M95.5,-254.9748C95.5,-248.195 95.5,-237.966 95.5,-229.1331\"/>\n",
       "<polygon fill=\"#000000\" stroke=\"#000000\" points=\"99.0001,-229.0561 95.5,-219.0561 92.0001,-229.0561 99.0001,-229.0561\"/>\n",
       "</g>\n",
       "<!-- 11 -->\n",
       "<g id=\"node12\" class=\"node\">\n",
       "<title>11</title>\n",
       "<text text-anchor=\"middle\" x=\"95.5\" y=\"-156.8\" font-family=\"Times,serif\" font-size=\"14.00\" fill=\"#000000\">1</text>\n",
       "</g>\n",
       "<!-- 10&#45;&gt;11 -->\n",
       "<g id=\"edge11\" class=\"edge\">\n",
       "<title>10&#45;&gt;11</title>\n",
       "<path fill=\"none\" stroke=\"#000000\" d=\"M95.5,-203.9748C95.5,-197.195 95.5,-186.966 95.5,-178.1331\"/>\n",
       "<polygon fill=\"#000000\" stroke=\"#000000\" points=\"99.0001,-178.0561 95.5,-168.0561 92.0001,-178.0561 99.0001,-178.0561\"/>\n",
       "</g>\n",
       "<!-- 14 -->\n",
       "<g id=\"node15\" class=\"node\">\n",
       "<title>14</title>\n",
       "<text text-anchor=\"middle\" x=\"224.5\" y=\"-411.8\" font-family=\"Times,serif\" font-size=\"14.00\" fill=\"#000000\">&lt;statement&gt;</text>\n",
       "</g>\n",
       "<!-- 13&#45;&gt;14 -->\n",
       "<g id=\"edge14\" class=\"edge\">\n",
       "<title>13&#45;&gt;14</title>\n",
       "<path fill=\"none\" stroke=\"#000000\" d=\"M255.1881,-458.9748C250.0833,-451.743 242.2084,-440.5868 235.7141,-431.3866\"/>\n",
       "<polygon fill=\"#000000\" stroke=\"#000000\" points=\"238.46,-429.2074 229.8337,-423.0561 232.7412,-433.2442 238.46,-429.2074\"/>\n",
       "</g>\n",
       "<!-- 24 -->\n",
       "<g id=\"node25\" class=\"node\">\n",
       "<title>24</title>\n",
       "<text text-anchor=\"middle\" x=\"279.5\" y=\"-411.8\" font-family=\"Times,serif\" font-size=\"14.00\" fill=\"#000000\">;</text>\n",
       "</g>\n",
       "<!-- 13&#45;&gt;24 -->\n",
       "<g id=\"edge24\" class=\"edge\">\n",
       "<title>13&#45;&gt;24</title>\n",
       "<path fill=\"none\" stroke=\"#000000\" d=\"M263.3035,-458.9748C266.0635,-451.5663 270.3578,-440.0395 273.8313,-430.716\"/>\n",
       "<polygon fill=\"#000000\" stroke=\"#000000\" points=\"277.1793,-431.7547 277.3906,-421.162 270.6197,-429.3109 277.1793,-431.7547\"/>\n",
       "</g>\n",
       "<!-- 25 -->\n",
       "<g id=\"node26\" class=\"node\">\n",
       "<title>25</title>\n",
       "<text text-anchor=\"middle\" x=\"339.5\" y=\"-411.8\" font-family=\"Times,serif\" font-size=\"14.00\" fill=\"#000000\">&lt;statements&gt;</text>\n",
       "</g>\n",
       "<!-- 13&#45;&gt;25 -->\n",
       "<g id=\"edge25\" class=\"edge\">\n",
       "<title>13&#45;&gt;25</title>\n",
       "<path fill=\"none\" stroke=\"#000000\" d=\"M272.1567,-458.9748C284.5258,-450.9897 304.3062,-438.22 319.236,-428.5818\"/>\n",
       "<polygon fill=\"#000000\" stroke=\"#000000\" points=\"321.2923,-431.4203 327.7955,-423.0561 317.4957,-425.5393 321.2923,-431.4203\"/>\n",
       "</g>\n",
       "<!-- 15 -->\n",
       "<g id=\"node16\" class=\"node\">\n",
       "<title>15</title>\n",
       "<text text-anchor=\"middle\" x=\"224.5\" y=\"-360.8\" font-family=\"Times,serif\" font-size=\"14.00\" fill=\"#000000\">&lt;assignment&gt;</text>\n",
       "</g>\n",
       "<!-- 14&#45;&gt;15 -->\n",
       "<g id=\"edge15\" class=\"edge\">\n",
       "<title>14&#45;&gt;15</title>\n",
       "<path fill=\"none\" stroke=\"#000000\" d=\"M224.5,-407.9748C224.5,-401.195 224.5,-390.966 224.5,-382.1331\"/>\n",
       "<polygon fill=\"#000000\" stroke=\"#000000\" points=\"228.0001,-382.0561 224.5,-372.0561 221.0001,-382.0561 228.0001,-382.0561\"/>\n",
       "</g>\n",
       "<!-- 16 -->\n",
       "<g id=\"node17\" class=\"node\">\n",
       "<title>16</title>\n",
       "<text text-anchor=\"middle\" x=\"168.5\" y=\"-309.8\" font-family=\"Times,serif\" font-size=\"14.00\" fill=\"#000000\">&lt;identifier&gt;</text>\n",
       "</g>\n",
       "<!-- 15&#45;&gt;16 -->\n",
       "<g id=\"edge16\" class=\"edge\">\n",
       "<title>15&#45;&gt;16</title>\n",
       "<path fill=\"none\" stroke=\"#000000\" d=\"M216.237,-356.9748C207.8826,-349.3663 194.7586,-337.4141 184.384,-327.9658\"/>\n",
       "<polygon fill=\"#000000\" stroke=\"#000000\" points=\"186.547,-325.2017 176.7969,-321.0561 181.8337,-330.3771 186.547,-325.2017\"/>\n",
       "</g>\n",
       "<!-- 18 -->\n",
       "<g id=\"node19\" class=\"node\">\n",
       "<title>18</title>\n",
       "<text text-anchor=\"middle\" x=\"224.5\" y=\"-309.8\" font-family=\"Times,serif\" font-size=\"14.00\" fill=\"#000000\">=</text>\n",
       "</g>\n",
       "<!-- 15&#45;&gt;18 -->\n",
       "<g id=\"edge18\" class=\"edge\">\n",
       "<title>15&#45;&gt;18</title>\n",
       "<path fill=\"none\" stroke=\"#000000\" d=\"M224.5,-356.9748C224.5,-350.195 224.5,-339.966 224.5,-331.1331\"/>\n",
       "<polygon fill=\"#000000\" stroke=\"#000000\" points=\"228.0001,-331.0561 224.5,-321.0561 221.0001,-331.0561 228.0001,-331.0561\"/>\n",
       "</g>\n",
       "<!-- 19 -->\n",
       "<g id=\"node20\" class=\"node\">\n",
       "<title>19</title>\n",
       "<text text-anchor=\"middle\" x=\"267.5\" y=\"-309.8\" font-family=\"Times,serif\" font-size=\"14.00\" fill=\"#000000\">&lt;expr&gt;</text>\n",
       "</g>\n",
       "<!-- 15&#45;&gt;19 -->\n",
       "<g id=\"edge19\" class=\"edge\">\n",
       "<title>15&#45;&gt;19</title>\n",
       "<path fill=\"none\" stroke=\"#000000\" d=\"M230.8448,-356.9748C237.0692,-349.5923 246.7417,-338.1203 254.5881,-328.8142\"/>\n",
       "<polygon fill=\"#000000\" stroke=\"#000000\" points=\"257.359,-330.9574 261.1292,-321.0561 252.0073,-326.4452 257.359,-330.9574\"/>\n",
       "</g>\n",
       "<!-- 17 -->\n",
       "<g id=\"node18\" class=\"node\">\n",
       "<title>17</title>\n",
       "<text text-anchor=\"middle\" x=\"168.5\" y=\"-258.8\" font-family=\"Times,serif\" font-size=\"14.00\" fill=\"#000000\">b</text>\n",
       "</g>\n",
       "<!-- 16&#45;&gt;17 -->\n",
       "<g id=\"edge17\" class=\"edge\">\n",
       "<title>16&#45;&gt;17</title>\n",
       "<path fill=\"none\" stroke=\"#000000\" d=\"M168.5,-305.9748C168.5,-299.195 168.5,-288.966 168.5,-280.1331\"/>\n",
       "<polygon fill=\"#000000\" stroke=\"#000000\" points=\"172.0001,-280.0561 168.5,-270.0561 165.0001,-280.0561 172.0001,-280.0561\"/>\n",
       "</g>\n",
       "<!-- 20 -->\n",
       "<g id=\"node21\" class=\"node\">\n",
       "<title>20</title>\n",
       "<text text-anchor=\"middle\" x=\"254.5\" y=\"-258.8\" font-family=\"Times,serif\" font-size=\"14.00\" fill=\"#000000\">&lt;term&gt;</text>\n",
       "</g>\n",
       "<!-- 19&#45;&gt;20 -->\n",
       "<g id=\"edge20\" class=\"edge\">\n",
       "<title>19&#45;&gt;20</title>\n",
       "<path fill=\"none\" stroke=\"#000000\" d=\"M265.5818,-305.9748C263.8344,-299.1196 261.1882,-288.7383 258.9198,-279.8392\"/>\n",
       "<polygon fill=\"#000000\" stroke=\"#000000\" points=\"262.2877,-278.8817 256.4261,-270.0561 255.5046,-280.6108 262.2877,-278.8817\"/>\n",
       "</g>\n",
       "<!-- 21 -->\n",
       "<g id=\"node22\" class=\"node\">\n",
       "<title>21</title>\n",
       "<text text-anchor=\"middle\" x=\"254.5\" y=\"-207.8\" font-family=\"Times,serif\" font-size=\"14.00\" fill=\"#000000\">&lt;factor&gt;</text>\n",
       "</g>\n",
       "<!-- 20&#45;&gt;21 -->\n",
       "<g id=\"edge21\" class=\"edge\">\n",
       "<title>20&#45;&gt;21</title>\n",
       "<path fill=\"none\" stroke=\"#000000\" d=\"M254.5,-254.9748C254.5,-248.195 254.5,-237.966 254.5,-229.1331\"/>\n",
       "<polygon fill=\"#000000\" stroke=\"#000000\" points=\"258.0001,-229.0561 254.5,-219.0561 251.0001,-229.0561 258.0001,-229.0561\"/>\n",
       "</g>\n",
       "<!-- 22 -->\n",
       "<g id=\"node23\" class=\"node\">\n",
       "<title>22</title>\n",
       "<text text-anchor=\"middle\" x=\"254.5\" y=\"-156.8\" font-family=\"Times,serif\" font-size=\"14.00\" fill=\"#000000\">&lt;number&gt;</text>\n",
       "</g>\n",
       "<!-- 21&#45;&gt;22 -->\n",
       "<g id=\"edge22\" class=\"edge\">\n",
       "<title>21&#45;&gt;22</title>\n",
       "<path fill=\"none\" stroke=\"#000000\" d=\"M254.5,-203.9748C254.5,-197.195 254.5,-186.966 254.5,-178.1331\"/>\n",
       "<polygon fill=\"#000000\" stroke=\"#000000\" points=\"258.0001,-178.0561 254.5,-168.0561 251.0001,-178.0561 258.0001,-178.0561\"/>\n",
       "</g>\n",
       "<!-- 23 -->\n",
       "<g id=\"node24\" class=\"node\">\n",
       "<title>23</title>\n",
       "<text text-anchor=\"middle\" x=\"254.5\" y=\"-105.8\" font-family=\"Times,serif\" font-size=\"14.00\" fill=\"#000000\">2</text>\n",
       "</g>\n",
       "<!-- 22&#45;&gt;23 -->\n",
       "<g id=\"edge23\" class=\"edge\">\n",
       "<title>22&#45;&gt;23</title>\n",
       "<path fill=\"none\" stroke=\"#000000\" d=\"M254.5,-152.9748C254.5,-146.195 254.5,-135.966 254.5,-127.1331\"/>\n",
       "<polygon fill=\"#000000\" stroke=\"#000000\" points=\"258.0001,-127.0561 254.5,-117.0561 251.0001,-127.0561 258.0001,-127.0561\"/>\n",
       "</g>\n",
       "<!-- 26 -->\n",
       "<g id=\"node27\" class=\"node\">\n",
       "<title>26</title>\n",
       "<text text-anchor=\"middle\" x=\"343.5\" y=\"-360.8\" font-family=\"Times,serif\" font-size=\"14.00\" fill=\"#000000\">&lt;statement&gt;</text>\n",
       "</g>\n",
       "<!-- 25&#45;&gt;26 -->\n",
       "<g id=\"edge26\" class=\"edge\">\n",
       "<title>25&#45;&gt;26</title>\n",
       "<path fill=\"none\" stroke=\"#000000\" d=\"M340.0902,-407.9748C340.622,-401.195 341.4242,-390.966 342.117,-382.1331\"/>\n",
       "<polygon fill=\"#000000\" stroke=\"#000000\" points=\"345.6146,-382.2992 342.9074,-372.0561 338.6361,-381.7518 345.6146,-382.2992\"/>\n",
       "</g>\n",
       "<!-- 27 -->\n",
       "<g id=\"node28\" class=\"node\">\n",
       "<title>27</title>\n",
       "<text text-anchor=\"middle\" x=\"370.5\" y=\"-309.8\" font-family=\"Times,serif\" font-size=\"14.00\" fill=\"#ff0000\">&lt;assignment&gt;</text>\n",
       "</g>\n",
       "<!-- 26&#45;&gt;27 -->\n",
       "<g id=\"edge27\" class=\"edge\">\n",
       "<title>26&#45;&gt;27</title>\n",
       "<path fill=\"none\" stroke=\"#000000\" d=\"M347.4839,-356.9748C351.2328,-349.8936 356.9735,-339.05 361.7837,-329.9641\"/>\n",
       "<polygon fill=\"#000000\" stroke=\"#000000\" points=\"364.914,-331.5316 366.4997,-321.0561 358.7275,-328.2564 364.914,-331.5316\"/>\n",
       "</g>\n",
       "<!-- 28 -->\n",
       "<g id=\"node29\" class=\"node\">\n",
       "<title>28</title>\n",
       "<text text-anchor=\"middle\" x=\"327.5\" y=\"-258.8\" font-family=\"Times,serif\" font-size=\"14.00\" fill=\"#000000\">&lt;identifier&gt;</text>\n",
       "</g>\n",
       "<!-- 27&#45;&gt;28 -->\n",
       "<g id=\"edge28\" class=\"edge\">\n",
       "<title>27&#45;&gt;28</title>\n",
       "<path fill=\"none\" stroke=\"#000000\" d=\"M364.1552,-305.9748C357.9308,-298.5923 348.2583,-287.1203 340.4119,-277.8142\"/>\n",
       "<polygon fill=\"#000000\" stroke=\"#000000\" points=\"342.9927,-275.4452 333.8708,-270.0561 337.641,-279.9574 342.9927,-275.4452\"/>\n",
       "</g>\n",
       "<!-- 30 -->\n",
       "<g id=\"node31\" class=\"node\">\n",
       "<title>30</title>\n",
       "<text text-anchor=\"middle\" x=\"383.5\" y=\"-258.8\" font-family=\"Times,serif\" font-size=\"14.00\" fill=\"#000000\">=</text>\n",
       "</g>\n",
       "<!-- 27&#45;&gt;30 -->\n",
       "<g id=\"edge30\" class=\"edge\">\n",
       "<title>27&#45;&gt;30</title>\n",
       "<path fill=\"none\" stroke=\"#000000\" d=\"M372.4182,-305.9748C374.1656,-299.1196 376.8118,-288.7383 379.0802,-279.8392\"/>\n",
       "<polygon fill=\"#000000\" stroke=\"#000000\" points=\"382.4954,-280.6108 381.5739,-270.0561 375.7123,-278.8817 382.4954,-280.6108\"/>\n",
       "</g>\n",
       "<!-- 31 -->\n",
       "<g id=\"node32\" class=\"node\">\n",
       "<title>31</title>\n",
       "<text text-anchor=\"middle\" x=\"426.5\" y=\"-258.8\" font-family=\"Times,serif\" font-size=\"14.00\" fill=\"#000000\">&lt;expr&gt;</text>\n",
       "</g>\n",
       "<!-- 27&#45;&gt;31 -->\n",
       "<g id=\"edge31\" class=\"edge\">\n",
       "<title>27&#45;&gt;31</title>\n",
       "<path fill=\"none\" stroke=\"#000000\" d=\"M378.763,-305.9748C387.1174,-298.3663 400.2414,-286.4141 410.616,-276.9658\"/>\n",
       "<polygon fill=\"#000000\" stroke=\"#000000\" points=\"413.1663,-279.3771 418.2031,-270.0561 408.453,-274.2017 413.1663,-279.3771\"/>\n",
       "</g>\n",
       "<!-- 29 -->\n",
       "<g id=\"node30\" class=\"node\">\n",
       "<title>29</title>\n",
       "<text text-anchor=\"middle\" x=\"327.5\" y=\"-207.8\" font-family=\"Times,serif\" font-size=\"14.00\" fill=\"#000000\">c</text>\n",
       "</g>\n",
       "<!-- 28&#45;&gt;29 -->\n",
       "<g id=\"edge29\" class=\"edge\">\n",
       "<title>28&#45;&gt;29</title>\n",
       "<path fill=\"none\" stroke=\"#000000\" d=\"M327.5,-254.9748C327.5,-248.195 327.5,-237.966 327.5,-229.1331\"/>\n",
       "<polygon fill=\"#000000\" stroke=\"#000000\" points=\"331.0001,-229.0561 327.5,-219.0561 324.0001,-229.0561 331.0001,-229.0561\"/>\n",
       "</g>\n",
       "<!-- 32 -->\n",
       "<g id=\"node33\" class=\"node\">\n",
       "<title>32</title>\n",
       "<text text-anchor=\"middle\" x=\"383.5\" y=\"-207.8\" font-family=\"Times,serif\" font-size=\"14.00\" fill=\"#000000\">&lt;term&gt;</text>\n",
       "</g>\n",
       "<!-- 31&#45;&gt;32 -->\n",
       "<g id=\"edge32\" class=\"edge\">\n",
       "<title>31&#45;&gt;32</title>\n",
       "<path fill=\"none\" stroke=\"#000000\" d=\"M420.1552,-254.9748C413.9308,-247.5923 404.2583,-236.1203 396.4119,-226.8142\"/>\n",
       "<polygon fill=\"#000000\" stroke=\"#000000\" points=\"398.9927,-224.4452 389.8708,-219.0561 393.641,-228.9574 398.9927,-224.4452\"/>\n",
       "</g>\n",
       "<!-- 36 -->\n",
       "<g id=\"node37\" class=\"node\">\n",
       "<title>36</title>\n",
       "<text text-anchor=\"middle\" x=\"426.5\" y=\"-207.8\" font-family=\"Times,serif\" font-size=\"14.00\" fill=\"#000000\">+</text>\n",
       "</g>\n",
       "<!-- 31&#45;&gt;36 -->\n",
       "<g id=\"edge36\" class=\"edge\">\n",
       "<title>31&#45;&gt;36</title>\n",
       "<path fill=\"none\" stroke=\"#000000\" d=\"M426.5,-254.9748C426.5,-248.195 426.5,-237.966 426.5,-229.1331\"/>\n",
       "<polygon fill=\"#000000\" stroke=\"#000000\" points=\"430.0001,-229.0561 426.5,-219.0561 423.0001,-229.0561 430.0001,-229.0561\"/>\n",
       "</g>\n",
       "<!-- 37 -->\n",
       "<g id=\"node38\" class=\"node\">\n",
       "<title>37</title>\n",
       "<text text-anchor=\"middle\" x=\"469.5\" y=\"-207.8\" font-family=\"Times,serif\" font-size=\"14.00\" fill=\"#000000\">&lt;expr&gt;</text>\n",
       "</g>\n",
       "<!-- 31&#45;&gt;37 -->\n",
       "<g id=\"edge37\" class=\"edge\">\n",
       "<title>31&#45;&gt;37</title>\n",
       "<path fill=\"none\" stroke=\"#000000\" d=\"M432.8448,-254.9748C439.0692,-247.5923 448.7417,-236.1203 456.5881,-226.8142\"/>\n",
       "<polygon fill=\"#000000\" stroke=\"#000000\" points=\"459.359,-228.9574 463.1292,-219.0561 454.0073,-224.4452 459.359,-228.9574\"/>\n",
       "</g>\n",
       "<!-- 33 -->\n",
       "<g id=\"node34\" class=\"node\">\n",
       "<title>33</title>\n",
       "<text text-anchor=\"middle\" x=\"383.5\" y=\"-156.8\" font-family=\"Times,serif\" font-size=\"14.00\" fill=\"#000000\">&lt;factor&gt;</text>\n",
       "</g>\n",
       "<!-- 32&#45;&gt;33 -->\n",
       "<g id=\"edge33\" class=\"edge\">\n",
       "<title>32&#45;&gt;33</title>\n",
       "<path fill=\"none\" stroke=\"#000000\" d=\"M383.5,-203.9748C383.5,-197.195 383.5,-186.966 383.5,-178.1331\"/>\n",
       "<polygon fill=\"#000000\" stroke=\"#000000\" points=\"387.0001,-178.0561 383.5,-168.0561 380.0001,-178.0561 387.0001,-178.0561\"/>\n",
       "</g>\n",
       "<!-- 34 -->\n",
       "<g id=\"node35\" class=\"node\">\n",
       "<title>34</title>\n",
       "<text text-anchor=\"middle\" x=\"383.5\" y=\"-105.8\" font-family=\"Times,serif\" font-size=\"14.00\" fill=\"#000000\">&lt;identifier&gt;</text>\n",
       "</g>\n",
       "<!-- 33&#45;&gt;34 -->\n",
       "<g id=\"edge34\" class=\"edge\">\n",
       "<title>33&#45;&gt;34</title>\n",
       "<path fill=\"none\" stroke=\"#000000\" d=\"M383.5,-152.9748C383.5,-146.195 383.5,-135.966 383.5,-127.1331\"/>\n",
       "<polygon fill=\"#000000\" stroke=\"#000000\" points=\"387.0001,-127.0561 383.5,-117.0561 380.0001,-127.0561 387.0001,-127.0561\"/>\n",
       "</g>\n",
       "<!-- 35 -->\n",
       "<g id=\"node36\" class=\"node\">\n",
       "<title>35</title>\n",
       "<text text-anchor=\"middle\" x=\"383.5\" y=\"-54.8\" font-family=\"Times,serif\" font-size=\"14.00\" fill=\"#000000\">a</text>\n",
       "</g>\n",
       "<!-- 34&#45;&gt;35 -->\n",
       "<g id=\"edge35\" class=\"edge\">\n",
       "<title>34&#45;&gt;35</title>\n",
       "<path fill=\"none\" stroke=\"#000000\" d=\"M383.5,-101.9748C383.5,-95.195 383.5,-84.966 383.5,-76.1331\"/>\n",
       "<polygon fill=\"#000000\" stroke=\"#000000\" points=\"387.0001,-76.0561 383.5,-66.0561 380.0001,-76.0561 387.0001,-76.0561\"/>\n",
       "</g>\n",
       "<!-- 38 -->\n",
       "<g id=\"node39\" class=\"node\">\n",
       "<title>38</title>\n",
       "<text text-anchor=\"middle\" x=\"469.5\" y=\"-156.8\" font-family=\"Times,serif\" font-size=\"14.00\" fill=\"#000000\">&lt;term&gt;</text>\n",
       "</g>\n",
       "<!-- 37&#45;&gt;38 -->\n",
       "<g id=\"edge38\" class=\"edge\">\n",
       "<title>37&#45;&gt;38</title>\n",
       "<path fill=\"none\" stroke=\"#000000\" d=\"M469.5,-203.9748C469.5,-197.195 469.5,-186.966 469.5,-178.1331\"/>\n",
       "<polygon fill=\"#000000\" stroke=\"#000000\" points=\"473.0001,-178.0561 469.5,-168.0561 466.0001,-178.0561 473.0001,-178.0561\"/>\n",
       "</g>\n",
       "<!-- 39 -->\n",
       "<g id=\"node40\" class=\"node\">\n",
       "<title>39</title>\n",
       "<text text-anchor=\"middle\" x=\"469.5\" y=\"-105.8\" font-family=\"Times,serif\" font-size=\"14.00\" fill=\"#000000\">&lt;factor&gt;</text>\n",
       "</g>\n",
       "<!-- 38&#45;&gt;39 -->\n",
       "<g id=\"edge39\" class=\"edge\">\n",
       "<title>38&#45;&gt;39</title>\n",
       "<path fill=\"none\" stroke=\"#000000\" d=\"M469.5,-152.9748C469.5,-146.195 469.5,-135.966 469.5,-127.1331\"/>\n",
       "<polygon fill=\"#000000\" stroke=\"#000000\" points=\"473.0001,-127.0561 469.5,-117.0561 466.0001,-127.0561 473.0001,-127.0561\"/>\n",
       "</g>\n",
       "<!-- 40 -->\n",
       "<g id=\"node41\" class=\"node\">\n",
       "<title>40</title>\n",
       "<text text-anchor=\"middle\" x=\"469.5\" y=\"-54.8\" font-family=\"Times,serif\" font-size=\"14.00\" fill=\"#000000\">&lt;identifier&gt;</text>\n",
       "</g>\n",
       "<!-- 39&#45;&gt;40 -->\n",
       "<g id=\"edge40\" class=\"edge\">\n",
       "<title>39&#45;&gt;40</title>\n",
       "<path fill=\"none\" stroke=\"#000000\" d=\"M469.5,-101.9748C469.5,-95.195 469.5,-84.966 469.5,-76.1331\"/>\n",
       "<polygon fill=\"#000000\" stroke=\"#000000\" points=\"473.0001,-76.0561 469.5,-66.0561 466.0001,-76.0561 473.0001,-76.0561\"/>\n",
       "</g>\n",
       "<!-- 41 -->\n",
       "<g id=\"node42\" class=\"node\">\n",
       "<title>41</title>\n",
       "<text text-anchor=\"middle\" x=\"469.5\" y=\"-3.8\" font-family=\"Times,serif\" font-size=\"14.00\" fill=\"#000000\">b</text>\n",
       "</g>\n",
       "<!-- 40&#45;&gt;41 -->\n",
       "<g id=\"edge41\" class=\"edge\">\n",
       "<title>40&#45;&gt;41</title>\n",
       "<path fill=\"none\" stroke=\"#000000\" d=\"M469.5,-50.9748C469.5,-44.195 469.5,-33.966 469.5,-25.1331\"/>\n",
       "<polygon fill=\"#000000\" stroke=\"#000000\" points=\"473.0001,-25.0561 469.5,-15.0561 466.0001,-25.0561 473.0001,-25.0561\"/>\n",
       "</g>\n",
       "</g>\n",
       "</svg>\n"
      ],
      "text/plain": [
       "<graphviz.dot.Digraph at 0x113ffb1d0>"
      ]
     },
     "metadata": {},
     "output_type": "display_data"
    }
   ],
   "source": [
    "random.seed(1)\n",
    "lf = LangFuzzer(PEGParser(VAR_GRAMMAR, tokens=VAR_TOKENS), mystrings)\n",
    "tree, node = lf.candidate()\n",
    "hl_predicate = lambda _d,nid,_s,_a: nid in {node}\n",
    "display_tree(tree, node_attr=highlight_node(hl_predicate))"
   ]
  },
  {
   "cell_type": "markdown",
   "metadata": {
    "slideshow": {
     "slide_type": "subslide"
    }
   },
   "source": [
    "#### Generate New Tree\n",
    "Once we have identified the node, one can generate a new tree by replacing that node with another node of similar type from our fragment pool."
   ]
  },
  {
   "cell_type": "code",
   "execution_count": 74,
   "metadata": {
    "slideshow": {
     "slide_type": "fragment"
    }
   },
   "outputs": [],
   "source": [
    "class LangFuzzer(LangFuzzer):\n",
    "    def generate_new_tree(self, node, choice):\n",
    "        name, children, id = node\n",
    "        if id == choice:\n",
    "            return random.choice(self.fragments[name])\n",
    "        else:\n",
    "            return (name, [self.generate_new_tree(c, choice)\n",
    "                           for c in children])"
   ]
  },
  {
   "cell_type": "markdown",
   "metadata": {
    "slideshow": {
     "slide_type": "fragment"
    }
   },
   "source": [
    "Again, the red node indicates where the replacement has occurred."
   ]
  },
  {
   "cell_type": "code",
   "execution_count": 75,
   "metadata": {
    "slideshow": {
     "slide_type": "subslide"
    }
   },
   "outputs": [
    {
     "name": "stdout",
     "output_type": "stream",
     "text": [
      "a=1;b=2;c=a+b\n",
      "a=1;b=2;b=2\n"
     ]
    },
    {
     "data": {
      "image/svg+xml": [
       "<?xml version=\"1.0\" encoding=\"UTF-8\" standalone=\"no\"?>\n",
       "<!DOCTYPE svg PUBLIC \"-//W3C//DTD SVG 1.1//EN\"\n",
       " \"http://www.w3.org/Graphics/SVG/1.1/DTD/svg11.dtd\">\n",
       "<!-- Generated by graphviz version 2.40.1 (20161225.0304)\n",
       " -->\n",
       "<!-- Title: %3 Pages: 1 -->\n",
       "<svg width=\"464pt\" height=\"533pt\"\n",
       " viewBox=\"0.00 0.00 464.00 533.00\" xmlns=\"http://www.w3.org/2000/svg\" xmlns:xlink=\"http://www.w3.org/1999/xlink\">\n",
       "<g id=\"graph0\" class=\"graph\" transform=\"scale(1 1) rotate(0) translate(4 529)\">\n",
       "<title>%3</title>\n",
       "<polygon fill=\"#ffffff\" stroke=\"transparent\" points=\"-4,4 -4,-529 460,-529 460,4 -4,4\"/>\n",
       "<!-- 0 -->\n",
       "<g id=\"node1\" class=\"node\">\n",
       "<title>0</title>\n",
       "<text text-anchor=\"middle\" x=\"198.5\" y=\"-513.8\" font-family=\"Times,serif\" font-size=\"14.00\" fill=\"#000000\">&lt;start&gt;</text>\n",
       "</g>\n",
       "<!-- 1 -->\n",
       "<g id=\"node2\" class=\"node\">\n",
       "<title>1</title>\n",
       "<text text-anchor=\"middle\" x=\"198.5\" y=\"-462.8\" font-family=\"Times,serif\" font-size=\"14.00\" fill=\"#000000\">&lt;statements&gt;</text>\n",
       "</g>\n",
       "<!-- 0&#45;&gt;1 -->\n",
       "<g id=\"edge1\" class=\"edge\">\n",
       "<title>0&#45;&gt;1</title>\n",
       "<path fill=\"none\" stroke=\"#000000\" d=\"M198.5,-509.9748C198.5,-503.195 198.5,-492.966 198.5,-484.1331\"/>\n",
       "<polygon fill=\"#000000\" stroke=\"#000000\" points=\"202.0001,-484.0561 198.5,-474.0561 195.0001,-484.0561 202.0001,-484.0561\"/>\n",
       "</g>\n",
       "<!-- 2 -->\n",
       "<g id=\"node3\" class=\"node\">\n",
       "<title>2</title>\n",
       "<text text-anchor=\"middle\" x=\"134.5\" y=\"-411.8\" font-family=\"Times,serif\" font-size=\"14.00\" fill=\"#000000\">&lt;statement&gt;</text>\n",
       "</g>\n",
       "<!-- 1&#45;&gt;2 -->\n",
       "<g id=\"edge2\" class=\"edge\">\n",
       "<title>1&#45;&gt;2</title>\n",
       "<path fill=\"none\" stroke=\"#000000\" d=\"M189.0566,-458.9748C179.3197,-451.2157 163.9137,-438.939 151.9526,-429.4075\"/>\n",
       "<polygon fill=\"#000000\" stroke=\"#000000\" points=\"153.984,-426.551 143.9822,-423.0561 149.6216,-432.0254 153.984,-426.551\"/>\n",
       "</g>\n",
       "<!-- 12 -->\n",
       "<g id=\"node13\" class=\"node\">\n",
       "<title>12</title>\n",
       "<text text-anchor=\"middle\" x=\"198.5\" y=\"-411.8\" font-family=\"Times,serif\" font-size=\"14.00\" fill=\"#000000\">;</text>\n",
       "</g>\n",
       "<!-- 1&#45;&gt;12 -->\n",
       "<g id=\"edge12\" class=\"edge\">\n",
       "<title>1&#45;&gt;12</title>\n",
       "<path fill=\"none\" stroke=\"#000000\" d=\"M198.5,-458.9748C198.5,-452.195 198.5,-441.966 198.5,-433.1331\"/>\n",
       "<polygon fill=\"#000000\" stroke=\"#000000\" points=\"202.0001,-433.0561 198.5,-423.0561 195.0001,-433.0561 202.0001,-433.0561\"/>\n",
       "</g>\n",
       "<!-- 13 -->\n",
       "<g id=\"node14\" class=\"node\">\n",
       "<title>13</title>\n",
       "<text text-anchor=\"middle\" x=\"260.5\" y=\"-411.8\" font-family=\"Times,serif\" font-size=\"14.00\" fill=\"#000000\">&lt;statements&gt;</text>\n",
       "</g>\n",
       "<!-- 1&#45;&gt;13 -->\n",
       "<g id=\"edge13\" class=\"edge\">\n",
       "<title>1&#45;&gt;13</title>\n",
       "<path fill=\"none\" stroke=\"#000000\" d=\"M207.6483,-458.9748C216.9894,-451.291 231.7162,-439.177 243.2544,-429.6859\"/>\n",
       "<polygon fill=\"#000000\" stroke=\"#000000\" points=\"245.8147,-432.1119 251.3142,-423.0561 241.3678,-426.7058 245.8147,-432.1119\"/>\n",
       "</g>\n",
       "<!-- 3 -->\n",
       "<g id=\"node4\" class=\"node\">\n",
       "<title>3</title>\n",
       "<text text-anchor=\"middle\" x=\"117.5\" y=\"-360.8\" font-family=\"Times,serif\" font-size=\"14.00\" fill=\"#000000\">&lt;assignment&gt;</text>\n",
       "</g>\n",
       "<!-- 2&#45;&gt;3 -->\n",
       "<g id=\"edge3\" class=\"edge\">\n",
       "<title>2&#45;&gt;3</title>\n",
       "<path fill=\"none\" stroke=\"#000000\" d=\"M131.9916,-407.9748C129.6814,-401.0443 126.1699,-390.5097 123.1821,-381.5464\"/>\n",
       "<polygon fill=\"#000000\" stroke=\"#000000\" points=\"126.5014,-380.4361 120.0187,-372.0561 119.8607,-382.6498 126.5014,-380.4361\"/>\n",
       "</g>\n",
       "<!-- 4 -->\n",
       "<g id=\"node5\" class=\"node\">\n",
       "<title>4</title>\n",
       "<text text-anchor=\"middle\" x=\"33.5\" y=\"-309.8\" font-family=\"Times,serif\" font-size=\"14.00\" fill=\"#000000\">&lt;identifier&gt;</text>\n",
       "</g>\n",
       "<!-- 3&#45;&gt;4 -->\n",
       "<g id=\"edge4\" class=\"edge\">\n",
       "<title>3&#45;&gt;4</title>\n",
       "<path fill=\"none\" stroke=\"#000000\" d=\"M105.1055,-356.9748C91.8295,-348.9143 70.5237,-335.9787 54.5986,-326.3099\"/>\n",
       "<polygon fill=\"#000000\" stroke=\"#000000\" points=\"56.3097,-323.2542 45.9453,-321.0561 52.6768,-329.2377 56.3097,-323.2542\"/>\n",
       "</g>\n",
       "<!-- 6 -->\n",
       "<g id=\"node7\" class=\"node\">\n",
       "<title>6</title>\n",
       "<text text-anchor=\"middle\" x=\"89.5\" y=\"-309.8\" font-family=\"Times,serif\" font-size=\"14.00\" fill=\"#000000\">=</text>\n",
       "</g>\n",
       "<!-- 3&#45;&gt;6 -->\n",
       "<g id=\"edge6\" class=\"edge\">\n",
       "<title>3&#45;&gt;6</title>\n",
       "<path fill=\"none\" stroke=\"#000000\" d=\"M113.3685,-356.9748C109.4808,-349.8936 103.5274,-339.05 98.5391,-329.9641\"/>\n",
       "<polygon fill=\"#000000\" stroke=\"#000000\" points=\"101.5291,-328.1375 93.6484,-321.0561 95.3931,-331.5063 101.5291,-328.1375\"/>\n",
       "</g>\n",
       "<!-- 7 -->\n",
       "<g id=\"node8\" class=\"node\">\n",
       "<title>7</title>\n",
       "<text text-anchor=\"middle\" x=\"132.5\" y=\"-309.8\" font-family=\"Times,serif\" font-size=\"14.00\" fill=\"#000000\">&lt;expr&gt;</text>\n",
       "</g>\n",
       "<!-- 3&#45;&gt;7 -->\n",
       "<g id=\"edge7\" class=\"edge\">\n",
       "<title>3&#45;&gt;7</title>\n",
       "<path fill=\"none\" stroke=\"#000000\" d=\"M119.7133,-356.9748C121.7295,-350.1196 124.7829,-339.7383 127.4002,-330.8392\"/>\n",
       "<polygon fill=\"#000000\" stroke=\"#000000\" points=\"130.8137,-331.6374 130.2776,-321.0561 124.0981,-329.6622 130.8137,-331.6374\"/>\n",
       "</g>\n",
       "<!-- 5 -->\n",
       "<g id=\"node6\" class=\"node\">\n",
       "<title>5</title>\n",
       "<text text-anchor=\"middle\" x=\"33.5\" y=\"-258.8\" font-family=\"Times,serif\" font-size=\"14.00\" fill=\"#000000\">a</text>\n",
       "</g>\n",
       "<!-- 4&#45;&gt;5 -->\n",
       "<g id=\"edge5\" class=\"edge\">\n",
       "<title>4&#45;&gt;5</title>\n",
       "<path fill=\"none\" stroke=\"#000000\" d=\"M33.5,-305.9748C33.5,-299.195 33.5,-288.966 33.5,-280.1331\"/>\n",
       "<polygon fill=\"#000000\" stroke=\"#000000\" points=\"37.0001,-280.0561 33.5,-270.0561 30.0001,-280.0561 37.0001,-280.0561\"/>\n",
       "</g>\n",
       "<!-- 8 -->\n",
       "<g id=\"node9\" class=\"node\">\n",
       "<title>8</title>\n",
       "<text text-anchor=\"middle\" x=\"95.5\" y=\"-258.8\" font-family=\"Times,serif\" font-size=\"14.00\" fill=\"#000000\">&lt;term&gt;</text>\n",
       "</g>\n",
       "<!-- 7&#45;&gt;8 -->\n",
       "<g id=\"edge8\" class=\"edge\">\n",
       "<title>7&#45;&gt;8</title>\n",
       "<path fill=\"none\" stroke=\"#000000\" d=\"M127.0405,-305.9748C121.7939,-298.743 113.7002,-287.5868 107.0256,-278.3866\"/>\n",
       "<polygon fill=\"#000000\" stroke=\"#000000\" points=\"109.6872,-276.095 100.9819,-270.0561 104.0212,-280.2056 109.6872,-276.095\"/>\n",
       "</g>\n",
       "<!-- 9 -->\n",
       "<g id=\"node10\" class=\"node\">\n",
       "<title>9</title>\n",
       "<text text-anchor=\"middle\" x=\"95.5\" y=\"-207.8\" font-family=\"Times,serif\" font-size=\"14.00\" fill=\"#000000\">&lt;factor&gt;</text>\n",
       "</g>\n",
       "<!-- 8&#45;&gt;9 -->\n",
       "<g id=\"edge9\" class=\"edge\">\n",
       "<title>8&#45;&gt;9</title>\n",
       "<path fill=\"none\" stroke=\"#000000\" d=\"M95.5,-254.9748C95.5,-248.195 95.5,-237.966 95.5,-229.1331\"/>\n",
       "<polygon fill=\"#000000\" stroke=\"#000000\" points=\"99.0001,-229.0561 95.5,-219.0561 92.0001,-229.0561 99.0001,-229.0561\"/>\n",
       "</g>\n",
       "<!-- 10 -->\n",
       "<g id=\"node11\" class=\"node\">\n",
       "<title>10</title>\n",
       "<text text-anchor=\"middle\" x=\"95.5\" y=\"-156.8\" font-family=\"Times,serif\" font-size=\"14.00\" fill=\"#000000\">&lt;number&gt;</text>\n",
       "</g>\n",
       "<!-- 9&#45;&gt;10 -->\n",
       "<g id=\"edge10\" class=\"edge\">\n",
       "<title>9&#45;&gt;10</title>\n",
       "<path fill=\"none\" stroke=\"#000000\" d=\"M95.5,-203.9748C95.5,-197.195 95.5,-186.966 95.5,-178.1331\"/>\n",
       "<polygon fill=\"#000000\" stroke=\"#000000\" points=\"99.0001,-178.0561 95.5,-168.0561 92.0001,-178.0561 99.0001,-178.0561\"/>\n",
       "</g>\n",
       "<!-- 11 -->\n",
       "<g id=\"node12\" class=\"node\">\n",
       "<title>11</title>\n",
       "<text text-anchor=\"middle\" x=\"95.5\" y=\"-105.8\" font-family=\"Times,serif\" font-size=\"14.00\" fill=\"#000000\">1</text>\n",
       "</g>\n",
       "<!-- 10&#45;&gt;11 -->\n",
       "<g id=\"edge11\" class=\"edge\">\n",
       "<title>10&#45;&gt;11</title>\n",
       "<path fill=\"none\" stroke=\"#000000\" d=\"M95.5,-152.9748C95.5,-146.195 95.5,-135.966 95.5,-127.1331\"/>\n",
       "<polygon fill=\"#000000\" stroke=\"#000000\" points=\"99.0001,-127.0561 95.5,-117.0561 92.0001,-127.0561 99.0001,-127.0561\"/>\n",
       "</g>\n",
       "<!-- 14 -->\n",
       "<g id=\"node15\" class=\"node\">\n",
       "<title>14</title>\n",
       "<text text-anchor=\"middle\" x=\"224.5\" y=\"-360.8\" font-family=\"Times,serif\" font-size=\"14.00\" fill=\"#000000\">&lt;statement&gt;</text>\n",
       "</g>\n",
       "<!-- 13&#45;&gt;14 -->\n",
       "<g id=\"edge14\" class=\"edge\">\n",
       "<title>13&#45;&gt;14</title>\n",
       "<path fill=\"none\" stroke=\"#000000\" d=\"M255.1881,-407.9748C250.0833,-400.743 242.2084,-389.5868 235.7141,-380.3866\"/>\n",
       "<polygon fill=\"#000000\" stroke=\"#000000\" points=\"238.46,-378.2074 229.8337,-372.0561 232.7412,-382.2442 238.46,-378.2074\"/>\n",
       "</g>\n",
       "<!-- 24 -->\n",
       "<g id=\"node25\" class=\"node\">\n",
       "<title>24</title>\n",
       "<text text-anchor=\"middle\" x=\"279.5\" y=\"-360.8\" font-family=\"Times,serif\" font-size=\"14.00\" fill=\"#000000\">;</text>\n",
       "</g>\n",
       "<!-- 13&#45;&gt;24 -->\n",
       "<g id=\"edge24\" class=\"edge\">\n",
       "<title>13&#45;&gt;24</title>\n",
       "<path fill=\"none\" stroke=\"#000000\" d=\"M263.3035,-407.9748C266.0635,-400.5663 270.3578,-389.0395 273.8313,-379.716\"/>\n",
       "<polygon fill=\"#000000\" stroke=\"#000000\" points=\"277.1793,-380.7547 277.3906,-370.162 270.6197,-378.3109 277.1793,-380.7547\"/>\n",
       "</g>\n",
       "<!-- 25 -->\n",
       "<g id=\"node26\" class=\"node\">\n",
       "<title>25</title>\n",
       "<text text-anchor=\"middle\" x=\"339.5\" y=\"-360.8\" font-family=\"Times,serif\" font-size=\"14.00\" fill=\"#000000\">&lt;statements&gt;</text>\n",
       "</g>\n",
       "<!-- 13&#45;&gt;25 -->\n",
       "<g id=\"edge25\" class=\"edge\">\n",
       "<title>13&#45;&gt;25</title>\n",
       "<path fill=\"none\" stroke=\"#000000\" d=\"M272.1567,-407.9748C284.5258,-399.9897 304.3062,-387.22 319.236,-377.5818\"/>\n",
       "<polygon fill=\"#000000\" stroke=\"#000000\" points=\"321.2923,-380.4203 327.7955,-372.0561 317.4957,-374.5393 321.2923,-380.4203\"/>\n",
       "</g>\n",
       "<!-- 15 -->\n",
       "<g id=\"node16\" class=\"node\">\n",
       "<title>15</title>\n",
       "<text text-anchor=\"middle\" x=\"224.5\" y=\"-309.8\" font-family=\"Times,serif\" font-size=\"14.00\" fill=\"#000000\">&lt;assignment&gt;</text>\n",
       "</g>\n",
       "<!-- 14&#45;&gt;15 -->\n",
       "<g id=\"edge15\" class=\"edge\">\n",
       "<title>14&#45;&gt;15</title>\n",
       "<path fill=\"none\" stroke=\"#000000\" d=\"M224.5,-356.9748C224.5,-350.195 224.5,-339.966 224.5,-331.1331\"/>\n",
       "<polygon fill=\"#000000\" stroke=\"#000000\" points=\"228.0001,-331.0561 224.5,-321.0561 221.0001,-331.0561 228.0001,-331.0561\"/>\n",
       "</g>\n",
       "<!-- 16 -->\n",
       "<g id=\"node17\" class=\"node\">\n",
       "<title>16</title>\n",
       "<text text-anchor=\"middle\" x=\"168.5\" y=\"-258.8\" font-family=\"Times,serif\" font-size=\"14.00\" fill=\"#000000\">&lt;identifier&gt;</text>\n",
       "</g>\n",
       "<!-- 15&#45;&gt;16 -->\n",
       "<g id=\"edge16\" class=\"edge\">\n",
       "<title>15&#45;&gt;16</title>\n",
       "<path fill=\"none\" stroke=\"#000000\" d=\"M216.237,-305.9748C207.8826,-298.3663 194.7586,-286.4141 184.384,-276.9658\"/>\n",
       "<polygon fill=\"#000000\" stroke=\"#000000\" points=\"186.547,-274.2017 176.7969,-270.0561 181.8337,-279.3771 186.547,-274.2017\"/>\n",
       "</g>\n",
       "<!-- 18 -->\n",
       "<g id=\"node19\" class=\"node\">\n",
       "<title>18</title>\n",
       "<text text-anchor=\"middle\" x=\"224.5\" y=\"-258.8\" font-family=\"Times,serif\" font-size=\"14.00\" fill=\"#000000\">=</text>\n",
       "</g>\n",
       "<!-- 15&#45;&gt;18 -->\n",
       "<g id=\"edge18\" class=\"edge\">\n",
       "<title>15&#45;&gt;18</title>\n",
       "<path fill=\"none\" stroke=\"#000000\" d=\"M224.5,-305.9748C224.5,-299.195 224.5,-288.966 224.5,-280.1331\"/>\n",
       "<polygon fill=\"#000000\" stroke=\"#000000\" points=\"228.0001,-280.0561 224.5,-270.0561 221.0001,-280.0561 228.0001,-280.0561\"/>\n",
       "</g>\n",
       "<!-- 19 -->\n",
       "<g id=\"node20\" class=\"node\">\n",
       "<title>19</title>\n",
       "<text text-anchor=\"middle\" x=\"267.5\" y=\"-258.8\" font-family=\"Times,serif\" font-size=\"14.00\" fill=\"#000000\">&lt;expr&gt;</text>\n",
       "</g>\n",
       "<!-- 15&#45;&gt;19 -->\n",
       "<g id=\"edge19\" class=\"edge\">\n",
       "<title>15&#45;&gt;19</title>\n",
       "<path fill=\"none\" stroke=\"#000000\" d=\"M230.8448,-305.9748C237.0692,-298.5923 246.7417,-287.1203 254.5881,-277.8142\"/>\n",
       "<polygon fill=\"#000000\" stroke=\"#000000\" points=\"257.359,-279.9574 261.1292,-270.0561 252.0073,-275.4452 257.359,-279.9574\"/>\n",
       "</g>\n",
       "<!-- 17 -->\n",
       "<g id=\"node18\" class=\"node\">\n",
       "<title>17</title>\n",
       "<text text-anchor=\"middle\" x=\"168.5\" y=\"-207.8\" font-family=\"Times,serif\" font-size=\"14.00\" fill=\"#000000\">b</text>\n",
       "</g>\n",
       "<!-- 16&#45;&gt;17 -->\n",
       "<g id=\"edge17\" class=\"edge\">\n",
       "<title>16&#45;&gt;17</title>\n",
       "<path fill=\"none\" stroke=\"#000000\" d=\"M168.5,-254.9748C168.5,-248.195 168.5,-237.966 168.5,-229.1331\"/>\n",
       "<polygon fill=\"#000000\" stroke=\"#000000\" points=\"172.0001,-229.0561 168.5,-219.0561 165.0001,-229.0561 172.0001,-229.0561\"/>\n",
       "</g>\n",
       "<!-- 20 -->\n",
       "<g id=\"node21\" class=\"node\">\n",
       "<title>20</title>\n",
       "<text text-anchor=\"middle\" x=\"254.5\" y=\"-207.8\" font-family=\"Times,serif\" font-size=\"14.00\" fill=\"#000000\">&lt;term&gt;</text>\n",
       "</g>\n",
       "<!-- 19&#45;&gt;20 -->\n",
       "<g id=\"edge20\" class=\"edge\">\n",
       "<title>19&#45;&gt;20</title>\n",
       "<path fill=\"none\" stroke=\"#000000\" d=\"M265.5818,-254.9748C263.8344,-248.1196 261.1882,-237.7383 258.9198,-228.8392\"/>\n",
       "<polygon fill=\"#000000\" stroke=\"#000000\" points=\"262.2877,-227.8817 256.4261,-219.0561 255.5046,-229.6108 262.2877,-227.8817\"/>\n",
       "</g>\n",
       "<!-- 21 -->\n",
       "<g id=\"node22\" class=\"node\">\n",
       "<title>21</title>\n",
       "<text text-anchor=\"middle\" x=\"254.5\" y=\"-156.8\" font-family=\"Times,serif\" font-size=\"14.00\" fill=\"#000000\">&lt;factor&gt;</text>\n",
       "</g>\n",
       "<!-- 20&#45;&gt;21 -->\n",
       "<g id=\"edge21\" class=\"edge\">\n",
       "<title>20&#45;&gt;21</title>\n",
       "<path fill=\"none\" stroke=\"#000000\" d=\"M254.5,-203.9748C254.5,-197.195 254.5,-186.966 254.5,-178.1331\"/>\n",
       "<polygon fill=\"#000000\" stroke=\"#000000\" points=\"258.0001,-178.0561 254.5,-168.0561 251.0001,-178.0561 258.0001,-178.0561\"/>\n",
       "</g>\n",
       "<!-- 22 -->\n",
       "<g id=\"node23\" class=\"node\">\n",
       "<title>22</title>\n",
       "<text text-anchor=\"middle\" x=\"254.5\" y=\"-105.8\" font-family=\"Times,serif\" font-size=\"14.00\" fill=\"#000000\">&lt;number&gt;</text>\n",
       "</g>\n",
       "<!-- 21&#45;&gt;22 -->\n",
       "<g id=\"edge22\" class=\"edge\">\n",
       "<title>21&#45;&gt;22</title>\n",
       "<path fill=\"none\" stroke=\"#000000\" d=\"M254.5,-152.9748C254.5,-146.195 254.5,-135.966 254.5,-127.1331\"/>\n",
       "<polygon fill=\"#000000\" stroke=\"#000000\" points=\"258.0001,-127.0561 254.5,-117.0561 251.0001,-127.0561 258.0001,-127.0561\"/>\n",
       "</g>\n",
       "<!-- 23 -->\n",
       "<g id=\"node24\" class=\"node\">\n",
       "<title>23</title>\n",
       "<text text-anchor=\"middle\" x=\"254.5\" y=\"-54.8\" font-family=\"Times,serif\" font-size=\"14.00\" fill=\"#000000\">2</text>\n",
       "</g>\n",
       "<!-- 22&#45;&gt;23 -->\n",
       "<g id=\"edge23\" class=\"edge\">\n",
       "<title>22&#45;&gt;23</title>\n",
       "<path fill=\"none\" stroke=\"#000000\" d=\"M254.5,-101.9748C254.5,-95.195 254.5,-84.966 254.5,-76.1331\"/>\n",
       "<polygon fill=\"#000000\" stroke=\"#000000\" points=\"258.0001,-76.0561 254.5,-66.0561 251.0001,-76.0561 258.0001,-76.0561\"/>\n",
       "</g>\n",
       "<!-- 26 -->\n",
       "<g id=\"node27\" class=\"node\">\n",
       "<title>26</title>\n",
       "<text text-anchor=\"middle\" x=\"343.5\" y=\"-309.8\" font-family=\"Times,serif\" font-size=\"14.00\" fill=\"#000000\">&lt;statement&gt;</text>\n",
       "</g>\n",
       "<!-- 25&#45;&gt;26 -->\n",
       "<g id=\"edge26\" class=\"edge\">\n",
       "<title>25&#45;&gt;26</title>\n",
       "<path fill=\"none\" stroke=\"#000000\" d=\"M340.0902,-356.9748C340.622,-350.195 341.4242,-339.966 342.117,-331.1331\"/>\n",
       "<polygon fill=\"#000000\" stroke=\"#000000\" points=\"345.6146,-331.2992 342.9074,-321.0561 338.6361,-330.7518 345.6146,-331.2992\"/>\n",
       "</g>\n",
       "<!-- 27 -->\n",
       "<g id=\"node28\" class=\"node\">\n",
       "<title>27</title>\n",
       "<text text-anchor=\"middle\" x=\"370.5\" y=\"-258.8\" font-family=\"Times,serif\" font-size=\"14.00\" fill=\"#ff0000\">&lt;assignment&gt;</text>\n",
       "</g>\n",
       "<!-- 26&#45;&gt;27 -->\n",
       "<g id=\"edge27\" class=\"edge\">\n",
       "<title>26&#45;&gt;27</title>\n",
       "<path fill=\"none\" stroke=\"#000000\" d=\"M347.4839,-305.9748C351.2328,-298.8936 356.9735,-288.05 361.7837,-278.9641\"/>\n",
       "<polygon fill=\"#000000\" stroke=\"#000000\" points=\"364.914,-280.5316 366.4997,-270.0561 358.7275,-277.2564 364.914,-280.5316\"/>\n",
       "</g>\n",
       "<!-- 28 -->\n",
       "<g id=\"node29\" class=\"node\">\n",
       "<title>28</title>\n",
       "<text text-anchor=\"middle\" x=\"327.5\" y=\"-207.8\" font-family=\"Times,serif\" font-size=\"14.00\" fill=\"#000000\">&lt;identifier&gt;</text>\n",
       "</g>\n",
       "<!-- 27&#45;&gt;28 -->\n",
       "<g id=\"edge28\" class=\"edge\">\n",
       "<title>27&#45;&gt;28</title>\n",
       "<path fill=\"none\" stroke=\"#000000\" d=\"M364.1552,-254.9748C357.9308,-247.5923 348.2583,-236.1203 340.4119,-226.8142\"/>\n",
       "<polygon fill=\"#000000\" stroke=\"#000000\" points=\"342.9927,-224.4452 333.8708,-219.0561 337.641,-228.9574 342.9927,-224.4452\"/>\n",
       "</g>\n",
       "<!-- 30 -->\n",
       "<g id=\"node31\" class=\"node\">\n",
       "<title>30</title>\n",
       "<text text-anchor=\"middle\" x=\"383.5\" y=\"-207.8\" font-family=\"Times,serif\" font-size=\"14.00\" fill=\"#000000\">=</text>\n",
       "</g>\n",
       "<!-- 27&#45;&gt;30 -->\n",
       "<g id=\"edge30\" class=\"edge\">\n",
       "<title>27&#45;&gt;30</title>\n",
       "<path fill=\"none\" stroke=\"#000000\" d=\"M372.4182,-254.9748C374.1656,-248.1196 376.8118,-237.7383 379.0802,-228.8392\"/>\n",
       "<polygon fill=\"#000000\" stroke=\"#000000\" points=\"382.4954,-229.6108 381.5739,-219.0561 375.7123,-227.8817 382.4954,-229.6108\"/>\n",
       "</g>\n",
       "<!-- 31 -->\n",
       "<g id=\"node32\" class=\"node\">\n",
       "<title>31</title>\n",
       "<text text-anchor=\"middle\" x=\"426.5\" y=\"-207.8\" font-family=\"Times,serif\" font-size=\"14.00\" fill=\"#000000\">&lt;expr&gt;</text>\n",
       "</g>\n",
       "<!-- 27&#45;&gt;31 -->\n",
       "<g id=\"edge31\" class=\"edge\">\n",
       "<title>27&#45;&gt;31</title>\n",
       "<path fill=\"none\" stroke=\"#000000\" d=\"M378.763,-254.9748C387.1174,-247.3663 400.2414,-235.4141 410.616,-225.9658\"/>\n",
       "<polygon fill=\"#000000\" stroke=\"#000000\" points=\"413.1663,-228.3771 418.2031,-219.0561 408.453,-223.2017 413.1663,-228.3771\"/>\n",
       "</g>\n",
       "<!-- 29 -->\n",
       "<g id=\"node30\" class=\"node\">\n",
       "<title>29</title>\n",
       "<text text-anchor=\"middle\" x=\"327.5\" y=\"-156.8\" font-family=\"Times,serif\" font-size=\"14.00\" fill=\"#000000\">b</text>\n",
       "</g>\n",
       "<!-- 28&#45;&gt;29 -->\n",
       "<g id=\"edge29\" class=\"edge\">\n",
       "<title>28&#45;&gt;29</title>\n",
       "<path fill=\"none\" stroke=\"#000000\" d=\"M327.5,-203.9748C327.5,-197.195 327.5,-186.966 327.5,-178.1331\"/>\n",
       "<polygon fill=\"#000000\" stroke=\"#000000\" points=\"331.0001,-178.0561 327.5,-168.0561 324.0001,-178.0561 331.0001,-178.0561\"/>\n",
       "</g>\n",
       "<!-- 32 -->\n",
       "<g id=\"node33\" class=\"node\">\n",
       "<title>32</title>\n",
       "<text text-anchor=\"middle\" x=\"426.5\" y=\"-156.8\" font-family=\"Times,serif\" font-size=\"14.00\" fill=\"#000000\">&lt;term&gt;</text>\n",
       "</g>\n",
       "<!-- 31&#45;&gt;32 -->\n",
       "<g id=\"edge32\" class=\"edge\">\n",
       "<title>31&#45;&gt;32</title>\n",
       "<path fill=\"none\" stroke=\"#000000\" d=\"M426.5,-203.9748C426.5,-197.195 426.5,-186.966 426.5,-178.1331\"/>\n",
       "<polygon fill=\"#000000\" stroke=\"#000000\" points=\"430.0001,-178.0561 426.5,-168.0561 423.0001,-178.0561 430.0001,-178.0561\"/>\n",
       "</g>\n",
       "<!-- 33 -->\n",
       "<g id=\"node34\" class=\"node\">\n",
       "<title>33</title>\n",
       "<text text-anchor=\"middle\" x=\"426.5\" y=\"-105.8\" font-family=\"Times,serif\" font-size=\"14.00\" fill=\"#000000\">&lt;factor&gt;</text>\n",
       "</g>\n",
       "<!-- 32&#45;&gt;33 -->\n",
       "<g id=\"edge33\" class=\"edge\">\n",
       "<title>32&#45;&gt;33</title>\n",
       "<path fill=\"none\" stroke=\"#000000\" d=\"M426.5,-152.9748C426.5,-146.195 426.5,-135.966 426.5,-127.1331\"/>\n",
       "<polygon fill=\"#000000\" stroke=\"#000000\" points=\"430.0001,-127.0561 426.5,-117.0561 423.0001,-127.0561 430.0001,-127.0561\"/>\n",
       "</g>\n",
       "<!-- 34 -->\n",
       "<g id=\"node35\" class=\"node\">\n",
       "<title>34</title>\n",
       "<text text-anchor=\"middle\" x=\"426.5\" y=\"-54.8\" font-family=\"Times,serif\" font-size=\"14.00\" fill=\"#000000\">&lt;number&gt;</text>\n",
       "</g>\n",
       "<!-- 33&#45;&gt;34 -->\n",
       "<g id=\"edge34\" class=\"edge\">\n",
       "<title>33&#45;&gt;34</title>\n",
       "<path fill=\"none\" stroke=\"#000000\" d=\"M426.5,-101.9748C426.5,-95.195 426.5,-84.966 426.5,-76.1331\"/>\n",
       "<polygon fill=\"#000000\" stroke=\"#000000\" points=\"430.0001,-76.0561 426.5,-66.0561 423.0001,-76.0561 430.0001,-76.0561\"/>\n",
       "</g>\n",
       "<!-- 35 -->\n",
       "<g id=\"node36\" class=\"node\">\n",
       "<title>35</title>\n",
       "<text text-anchor=\"middle\" x=\"426.5\" y=\"-3.8\" font-family=\"Times,serif\" font-size=\"14.00\" fill=\"#000000\">2</text>\n",
       "</g>\n",
       "<!-- 34&#45;&gt;35 -->\n",
       "<g id=\"edge35\" class=\"edge\">\n",
       "<title>34&#45;&gt;35</title>\n",
       "<path fill=\"none\" stroke=\"#000000\" d=\"M426.5,-50.9748C426.5,-44.195 426.5,-33.966 426.5,-25.1331\"/>\n",
       "<polygon fill=\"#000000\" stroke=\"#000000\" points=\"430.0001,-25.0561 426.5,-15.0561 423.0001,-25.0561 430.0001,-25.0561\"/>\n",
       "</g>\n",
       "</g>\n",
       "</svg>\n"
      ],
      "text/plain": [
       "<graphviz.dot.Digraph at 0x113d416d8>"
      ]
     },
     "metadata": {},
     "output_type": "display_data"
    }
   ],
   "source": [
    "random.seed(1)\n",
    "lf = LangFuzzer(PEGParser(VAR_GRAMMAR, tokens=VAR_TOKENS), mystrings)\n",
    "tree, node = lf.candidate()\n",
    "hl_predicate = lambda _d,nid,_s,_a: nid in {node}\n",
    "new_tree = lf.generate_new_tree(tree, node)\n",
    "for s in [tree_to_string(i) for i in [tree, new_tree]]:\n",
    "    print(s)\n",
    "display_tree(new_tree, node_attr=highlight_node(hl_predicate))"
   ]
  },
  {
   "cell_type": "markdown",
   "metadata": {
    "slideshow": {
     "slide_type": "subslide"
    }
   },
   "source": [
    "#### Fuzz\n",
    "\n",
    "The `fuzz()` method simply calls the procedures defined before in order."
   ]
  },
  {
   "cell_type": "code",
   "execution_count": 76,
   "metadata": {
    "slideshow": {
     "slide_type": "fragment"
    }
   },
   "outputs": [],
   "source": [
    "class LangFuzzer(LangFuzzer):\n",
    "    def fuzz(self):\n",
    "        tree, node = self.candidate()\n",
    "        modified = self.generate_new_tree(tree, node)\n",
    "        return tree_to_string(modified)"
   ]
  },
  {
   "cell_type": "markdown",
   "metadata": {
    "slideshow": {
     "slide_type": "notes"
    }
   },
   "source": [
    "Here is our fuzzer in action."
   ]
  },
  {
   "cell_type": "code",
   "execution_count": 77,
   "metadata": {
    "slideshow": {
     "slide_type": "subslide"
    }
   },
   "outputs": [
    {
     "name": "stdout",
     "output_type": "stream",
     "text": [
      "x=23;bvar=avar-3*(4+300)\n",
      "x=23;y=51;z=x*x-(x+y)*(x-y)\n",
      "x=10;y=20;z=(1.3)*(x-y)\n",
      "abc=12+(12+3.3)\n",
      "x=23;y=51;z=y*x-y*y\n",
      "a=10;b=20;c=34;d=-b+(b*b-4*y)/(2*a)\n",
      "abc=12+((4+3+(2/a))+3.3)\n",
      "x=10;y=20;z=(x+y)*(x-y)\n",
      "abc=12+(3+3.3)\n",
      "x=10;y=20;z=(x+y)*(x-y)\n"
     ]
    }
   ],
   "source": [
    "lf = LangFuzzer(PEGParser(VAR_GRAMMAR, tokens=VAR_TOKENS), mystrings)\n",
    "for i in range(10):\n",
    "    print(lf.fuzz())"
   ]
  },
  {
   "cell_type": "markdown",
   "metadata": {
    "slideshow": {
     "slide_type": "fragment"
    }
   },
   "source": [
    "How effective was our fuzzing? Let us find out!"
   ]
  },
  {
   "cell_type": "code",
   "execution_count": 78,
   "metadata": {
    "slideshow": {
     "slide_type": "subslide"
    }
   },
   "outputs": [
    {
     "name": "stdout",
     "output_type": "stream",
     "text": [
      "61 valid strings, that is LangFuzzer generated 61.000000% valid entries\n",
      "Total time of 0.010842 seconds\n"
     ]
    }
   ],
   "source": [
    "trials = 100\n",
    "\n",
    "lf = LangFuzzer(PEGParser(VAR_GRAMMAR, tokens=VAR_TOKENS), mystrings)\n",
    "valid = []\n",
    "time = 0\n",
    "for i in range(trials):\n",
    "    with Timer() as t:\n",
    "        s = lf.fuzz()\n",
    "        try:\n",
    "            exec(s,{},{})\n",
    "            valid.append((s, t.elapsed_time()))\n",
    "        except:\n",
    "            pass\n",
    "        time += t.elapsed_time()\n",
    "print(\"%d valid strings, that is LangFuzzer generated %f%% valid entries\" % (len(valid), len(valid)*100.0/trials ))\n",
    "print(\"Total time of %f seconds\" % time)"
   ]
  },
  {
   "cell_type": "code",
   "execution_count": 79,
   "metadata": {
    "slideshow": {
     "slide_type": "subslide"
    }
   },
   "outputs": [
    {
     "name": "stdout",
     "output_type": "stream",
     "text": [
      "4 valid strings, that is GrammarFuzzer generated 4.000000% valid entries\n",
      "Total time of 1.372786 seconds\n"
     ]
    }
   ],
   "source": [
    "gf = GrammarFuzzer(VAR_GRAMMAR)\n",
    "valid = []\n",
    "time = 0\n",
    "for i in range(trials):\n",
    "    with Timer() as t:\n",
    "        s = gf.fuzz()\n",
    "        try:\n",
    "            exec(s,{},{})\n",
    "            valid.append(s)\n",
    "        except:\n",
    "            pass\n",
    "        time += t.elapsed_time()\n",
    "print(\"%d valid strings, that is GrammarFuzzer generated %f%% valid entries\" % (len(valid), len(valid)*100.0/trials ))\n",
    "print(\"Total time of %f seconds\" % time)"
   ]
  },
  {
   "cell_type": "markdown",
   "metadata": {
    "slideshow": {
     "slide_type": "subslide"
    }
   },
   "source": [
    "That is, our `LangFuzzer` is rather effective on generating valid entries when compared to the `GrammarFuzzer`."
   ]
  },
  {
   "cell_type": "markdown",
   "metadata": {
    "slideshow": {
     "slide_type": "slide"
    },
    "toc-hr-collapsed": true
   },
   "source": [
    "## Parsing Context-Free Grammars"
   ]
  },
  {
   "cell_type": "markdown",
   "metadata": {
    "slideshow": {
     "slide_type": "slide"
    }
   },
   "source": [
    "###  Problems with PEG\n",
    "While _PEGs_ are simple at first sight, their behavior in some cases might be a bit unintuitive. For example, here is an example \\cite{redziejowski}:"
   ]
  },
  {
   "cell_type": "code",
   "execution_count": 80,
   "metadata": {
    "slideshow": {
     "slide_type": "subslide"
    }
   },
   "outputs": [],
   "source": [
    "PEG_SURPRISE = {\n",
    "    \"<A>\": [\"a<A>a\", \"aa\"]\n",
    "}"
   ]
  },
  {
   "cell_type": "markdown",
   "metadata": {
    "slideshow": {
     "slide_type": "notes"
    }
   },
   "source": [
    "When interpreted as a *CFG* and used as a string generator, it will produce strings of the form `aa, aaaa, aaaaaa` that is, it produces strings where the number of `a` is $ 2*n $ where $ n > 0 $."
   ]
  },
  {
   "cell_type": "code",
   "execution_count": 81,
   "metadata": {
    "slideshow": {
     "slide_type": "subslide"
    }
   },
   "outputs": [
    {
     "data": {
      "image/svg+xml": [
       "<?xml version=\"1.0\" encoding=\"UTF-8\" standalone=\"no\"?>\n",
       "<!DOCTYPE svg PUBLIC \"-//W3C//DTD SVG 1.1//EN\"\n",
       " \"http://www.w3.org/Graphics/SVG/1.1/DTD/svg11.dtd\">\n",
       "<!-- Generated by graphviz version 2.40.1 (20161225.0304)\n",
       " -->\n",
       "<!-- Title: %3 Pages: 1 -->\n",
       "<svg width=\"34pt\" height=\"74pt\"\n",
       " viewBox=\"0.00 0.00 34.00 74.00\" xmlns=\"http://www.w3.org/2000/svg\" xmlns:xlink=\"http://www.w3.org/1999/xlink\">\n",
       "<g id=\"graph0\" class=\"graph\" transform=\"scale(1 1) rotate(0) translate(4 70)\">\n",
       "<title>%3</title>\n",
       "<polygon fill=\"#ffffff\" stroke=\"transparent\" points=\"-4,4 -4,-70 30,-70 30,4 -4,4\"/>\n",
       "<!-- 0 -->\n",
       "<g id=\"node1\" class=\"node\">\n",
       "<title>0</title>\n",
       "<text text-anchor=\"middle\" x=\"13\" y=\"-54.8\" font-family=\"Times,serif\" font-size=\"14.00\" fill=\"#000000\">&lt;A&gt;</text>\n",
       "</g>\n",
       "<!-- 1 -->\n",
       "<g id=\"node2\" class=\"node\">\n",
       "<title>1</title>\n",
       "<text text-anchor=\"middle\" x=\"13\" y=\"-3.8\" font-family=\"Times,serif\" font-size=\"14.00\" fill=\"#000000\">aa</text>\n",
       "</g>\n",
       "<!-- 0&#45;&gt;1 -->\n",
       "<g id=\"edge1\" class=\"edge\">\n",
       "<title>0&#45;&gt;1</title>\n",
       "<path fill=\"none\" stroke=\"#000000\" d=\"M13,-50.9748C13,-44.195 13,-33.966 13,-25.1331\"/>\n",
       "<polygon fill=\"#000000\" stroke=\"#000000\" points=\"16.5001,-25.0561 13,-15.0561 9.5001,-25.0561 16.5001,-25.0561\"/>\n",
       "</g>\n",
       "</g>\n",
       "</svg>\n"
      ],
      "text/plain": [
       "<graphviz.dot.Digraph at 0x113fbb668>"
      ]
     },
     "metadata": {},
     "output_type": "display_data"
    },
    {
     "data": {
      "image/svg+xml": [
       "<?xml version=\"1.0\" encoding=\"UTF-8\" standalone=\"no\"?>\n",
       "<!DOCTYPE svg PUBLIC \"-//W3C//DTD SVG 1.1//EN\"\n",
       " \"http://www.w3.org/Graphics/SVG/1.1/DTD/svg11.dtd\">\n",
       "<!-- Generated by graphviz version 2.40.1 (20161225.0304)\n",
       " -->\n",
       "<!-- Title: %3 Pages: 1 -->\n",
       "<svg width=\"85pt\" height=\"125pt\"\n",
       " viewBox=\"0.00 0.00 85.00 125.00\" xmlns=\"http://www.w3.org/2000/svg\" xmlns:xlink=\"http://www.w3.org/1999/xlink\">\n",
       "<g id=\"graph0\" class=\"graph\" transform=\"scale(1 1) rotate(0) translate(4 121)\">\n",
       "<title>%3</title>\n",
       "<polygon fill=\"#ffffff\" stroke=\"transparent\" points=\"-4,4 -4,-121 81,-121 81,4 -4,4\"/>\n",
       "<!-- 0 -->\n",
       "<g id=\"node1\" class=\"node\">\n",
       "<title>0</title>\n",
       "<text text-anchor=\"middle\" x=\"38.5\" y=\"-105.8\" font-family=\"Times,serif\" font-size=\"14.00\" fill=\"#000000\">&lt;A&gt;</text>\n",
       "</g>\n",
       "<!-- 1 -->\n",
       "<g id=\"node2\" class=\"node\">\n",
       "<title>1</title>\n",
       "<text text-anchor=\"middle\" x=\"3.5\" y=\"-54.8\" font-family=\"Times,serif\" font-size=\"14.00\" fill=\"#000000\">a</text>\n",
       "</g>\n",
       "<!-- 0&#45;&gt;1 -->\n",
       "<g id=\"edge1\" class=\"edge\">\n",
       "<title>0&#45;&gt;1</title>\n",
       "<path fill=\"none\" stroke=\"#000000\" d=\"M33.3356,-101.9748C27.9733,-94.1611 19.467,-81.7662 12.9067,-72.2069\"/>\n",
       "<polygon fill=\"#000000\" stroke=\"#000000\" points=\"15.7279,-70.1322 7.1836,-63.8675 9.9562,-74.0931 15.7279,-70.1322\"/>\n",
       "</g>\n",
       "<!-- 2 -->\n",
       "<g id=\"node3\" class=\"node\">\n",
       "<title>2</title>\n",
       "<text text-anchor=\"middle\" x=\"38.5\" y=\"-54.8\" font-family=\"Times,serif\" font-size=\"14.00\" fill=\"#000000\">&lt;A&gt;</text>\n",
       "</g>\n",
       "<!-- 0&#45;&gt;2 -->\n",
       "<g id=\"edge2\" class=\"edge\">\n",
       "<title>0&#45;&gt;2</title>\n",
       "<path fill=\"none\" stroke=\"#000000\" d=\"M38.5,-101.9748C38.5,-95.195 38.5,-84.966 38.5,-76.1331\"/>\n",
       "<polygon fill=\"#000000\" stroke=\"#000000\" points=\"42.0001,-76.0561 38.5,-66.0561 35.0001,-76.0561 42.0001,-76.0561\"/>\n",
       "</g>\n",
       "<!-- 4 -->\n",
       "<g id=\"node5\" class=\"node\">\n",
       "<title>4</title>\n",
       "<text text-anchor=\"middle\" x=\"73.5\" y=\"-54.8\" font-family=\"Times,serif\" font-size=\"14.00\" fill=\"#000000\">a</text>\n",
       "</g>\n",
       "<!-- 0&#45;&gt;4 -->\n",
       "<g id=\"edge4\" class=\"edge\">\n",
       "<title>0&#45;&gt;4</title>\n",
       "<path fill=\"none\" stroke=\"#000000\" d=\"M43.6644,-101.9748C49.0267,-94.1611 57.533,-81.7662 64.0933,-72.2069\"/>\n",
       "<polygon fill=\"#000000\" stroke=\"#000000\" points=\"67.0438,-74.0931 69.8164,-63.8675 61.2721,-70.1322 67.0438,-74.0931\"/>\n",
       "</g>\n",
       "<!-- 3 -->\n",
       "<g id=\"node4\" class=\"node\">\n",
       "<title>3</title>\n",
       "<text text-anchor=\"middle\" x=\"38.5\" y=\"-3.8\" font-family=\"Times,serif\" font-size=\"14.00\" fill=\"#000000\">aa</text>\n",
       "</g>\n",
       "<!-- 2&#45;&gt;3 -->\n",
       "<g id=\"edge3\" class=\"edge\">\n",
       "<title>2&#45;&gt;3</title>\n",
       "<path fill=\"none\" stroke=\"#000000\" d=\"M38.5,-50.9748C38.5,-44.195 38.5,-33.966 38.5,-25.1331\"/>\n",
       "<polygon fill=\"#000000\" stroke=\"#000000\" points=\"42.0001,-25.0561 38.5,-15.0561 35.0001,-25.0561 42.0001,-25.0561\"/>\n",
       "</g>\n",
       "</g>\n",
       "</svg>\n"
      ],
      "text/plain": [
       "<graphviz.dot.Digraph at 0x113fbb240>"
      ]
     },
     "metadata": {},
     "output_type": "display_data"
    },
    {
     "data": {
      "image/svg+xml": [
       "<?xml version=\"1.0\" encoding=\"UTF-8\" standalone=\"no\"?>\n",
       "<!DOCTYPE svg PUBLIC \"-//W3C//DTD SVG 1.1//EN\"\n",
       " \"http://www.w3.org/Graphics/SVG/1.1/DTD/svg11.dtd\">\n",
       "<!-- Generated by graphviz version 2.40.1 (20161225.0304)\n",
       " -->\n",
       "<!-- Title: %3 Pages: 1 -->\n",
       "<svg width=\"85pt\" height=\"176pt\"\n",
       " viewBox=\"0.00 0.00 85.00 176.00\" xmlns=\"http://www.w3.org/2000/svg\" xmlns:xlink=\"http://www.w3.org/1999/xlink\">\n",
       "<g id=\"graph0\" class=\"graph\" transform=\"scale(1 1) rotate(0) translate(4 172)\">\n",
       "<title>%3</title>\n",
       "<polygon fill=\"#ffffff\" stroke=\"transparent\" points=\"-4,4 -4,-172 81,-172 81,4 -4,4\"/>\n",
       "<!-- 0 -->\n",
       "<g id=\"node1\" class=\"node\">\n",
       "<title>0</title>\n",
       "<text text-anchor=\"middle\" x=\"38.5\" y=\"-156.8\" font-family=\"Times,serif\" font-size=\"14.00\" fill=\"#000000\">&lt;A&gt;</text>\n",
       "</g>\n",
       "<!-- 1 -->\n",
       "<g id=\"node2\" class=\"node\">\n",
       "<title>1</title>\n",
       "<text text-anchor=\"middle\" x=\"3.5\" y=\"-105.8\" font-family=\"Times,serif\" font-size=\"14.00\" fill=\"#000000\">a</text>\n",
       "</g>\n",
       "<!-- 0&#45;&gt;1 -->\n",
       "<g id=\"edge1\" class=\"edge\">\n",
       "<title>0&#45;&gt;1</title>\n",
       "<path fill=\"none\" stroke=\"#000000\" d=\"M33.3356,-152.9748C27.9733,-145.1611 19.467,-132.7662 12.9067,-123.2069\"/>\n",
       "<polygon fill=\"#000000\" stroke=\"#000000\" points=\"15.7279,-121.1322 7.1836,-114.8675 9.9562,-125.0931 15.7279,-121.1322\"/>\n",
       "</g>\n",
       "<!-- 2 -->\n",
       "<g id=\"node3\" class=\"node\">\n",
       "<title>2</title>\n",
       "<text text-anchor=\"middle\" x=\"38.5\" y=\"-105.8\" font-family=\"Times,serif\" font-size=\"14.00\" fill=\"#000000\">&lt;A&gt;</text>\n",
       "</g>\n",
       "<!-- 0&#45;&gt;2 -->\n",
       "<g id=\"edge2\" class=\"edge\">\n",
       "<title>0&#45;&gt;2</title>\n",
       "<path fill=\"none\" stroke=\"#000000\" d=\"M38.5,-152.9748C38.5,-146.195 38.5,-135.966 38.5,-127.1331\"/>\n",
       "<polygon fill=\"#000000\" stroke=\"#000000\" points=\"42.0001,-127.0561 38.5,-117.0561 35.0001,-127.0561 42.0001,-127.0561\"/>\n",
       "</g>\n",
       "<!-- 7 -->\n",
       "<g id=\"node8\" class=\"node\">\n",
       "<title>7</title>\n",
       "<text text-anchor=\"middle\" x=\"73.5\" y=\"-105.8\" font-family=\"Times,serif\" font-size=\"14.00\" fill=\"#000000\">a</text>\n",
       "</g>\n",
       "<!-- 0&#45;&gt;7 -->\n",
       "<g id=\"edge7\" class=\"edge\">\n",
       "<title>0&#45;&gt;7</title>\n",
       "<path fill=\"none\" stroke=\"#000000\" d=\"M43.6644,-152.9748C49.0267,-145.1611 57.533,-132.7662 64.0933,-123.2069\"/>\n",
       "<polygon fill=\"#000000\" stroke=\"#000000\" points=\"67.0438,-125.0931 69.8164,-114.8675 61.2721,-121.1322 67.0438,-125.0931\"/>\n",
       "</g>\n",
       "<!-- 3 -->\n",
       "<g id=\"node4\" class=\"node\">\n",
       "<title>3</title>\n",
       "<text text-anchor=\"middle\" x=\"3.5\" y=\"-54.8\" font-family=\"Times,serif\" font-size=\"14.00\" fill=\"#000000\">a</text>\n",
       "</g>\n",
       "<!-- 2&#45;&gt;3 -->\n",
       "<g id=\"edge3\" class=\"edge\">\n",
       "<title>2&#45;&gt;3</title>\n",
       "<path fill=\"none\" stroke=\"#000000\" d=\"M33.3356,-101.9748C27.9733,-94.1611 19.467,-81.7662 12.9067,-72.2069\"/>\n",
       "<polygon fill=\"#000000\" stroke=\"#000000\" points=\"15.7279,-70.1322 7.1836,-63.8675 9.9562,-74.0931 15.7279,-70.1322\"/>\n",
       "</g>\n",
       "<!-- 4 -->\n",
       "<g id=\"node5\" class=\"node\">\n",
       "<title>4</title>\n",
       "<text text-anchor=\"middle\" x=\"38.5\" y=\"-54.8\" font-family=\"Times,serif\" font-size=\"14.00\" fill=\"#000000\">&lt;A&gt;</text>\n",
       "</g>\n",
       "<!-- 2&#45;&gt;4 -->\n",
       "<g id=\"edge4\" class=\"edge\">\n",
       "<title>2&#45;&gt;4</title>\n",
       "<path fill=\"none\" stroke=\"#000000\" d=\"M38.5,-101.9748C38.5,-95.195 38.5,-84.966 38.5,-76.1331\"/>\n",
       "<polygon fill=\"#000000\" stroke=\"#000000\" points=\"42.0001,-76.0561 38.5,-66.0561 35.0001,-76.0561 42.0001,-76.0561\"/>\n",
       "</g>\n",
       "<!-- 6 -->\n",
       "<g id=\"node7\" class=\"node\">\n",
       "<title>6</title>\n",
       "<text text-anchor=\"middle\" x=\"73.5\" y=\"-54.8\" font-family=\"Times,serif\" font-size=\"14.00\" fill=\"#000000\">a</text>\n",
       "</g>\n",
       "<!-- 2&#45;&gt;6 -->\n",
       "<g id=\"edge6\" class=\"edge\">\n",
       "<title>2&#45;&gt;6</title>\n",
       "<path fill=\"none\" stroke=\"#000000\" d=\"M43.6644,-101.9748C49.0267,-94.1611 57.533,-81.7662 64.0933,-72.2069\"/>\n",
       "<polygon fill=\"#000000\" stroke=\"#000000\" points=\"67.0438,-74.0931 69.8164,-63.8675 61.2721,-70.1322 67.0438,-74.0931\"/>\n",
       "</g>\n",
       "<!-- 5 -->\n",
       "<g id=\"node6\" class=\"node\">\n",
       "<title>5</title>\n",
       "<text text-anchor=\"middle\" x=\"38.5\" y=\"-3.8\" font-family=\"Times,serif\" font-size=\"14.00\" fill=\"#000000\">aa</text>\n",
       "</g>\n",
       "<!-- 4&#45;&gt;5 -->\n",
       "<g id=\"edge5\" class=\"edge\">\n",
       "<title>4&#45;&gt;5</title>\n",
       "<path fill=\"none\" stroke=\"#000000\" d=\"M38.5,-50.9748C38.5,-44.195 38.5,-33.966 38.5,-25.1331\"/>\n",
       "<polygon fill=\"#000000\" stroke=\"#000000\" points=\"42.0001,-25.0561 38.5,-15.0561 35.0001,-25.0561 42.0001,-25.0561\"/>\n",
       "</g>\n",
       "</g>\n",
       "</svg>\n"
      ],
      "text/plain": [
       "<graphviz.dot.Digraph at 0x113fbbd30>"
      ]
     },
     "metadata": {},
     "output_type": "display_data"
    },
    {
     "data": {
      "image/svg+xml": [
       "<?xml version=\"1.0\" encoding=\"UTF-8\" standalone=\"no\"?>\n",
       "<!DOCTYPE svg PUBLIC \"-//W3C//DTD SVG 1.1//EN\"\n",
       " \"http://www.w3.org/Graphics/SVG/1.1/DTD/svg11.dtd\">\n",
       "<!-- Generated by graphviz version 2.40.1 (20161225.0304)\n",
       " -->\n",
       "<!-- Title: %3 Pages: 1 -->\n",
       "<svg width=\"85pt\" height=\"227pt\"\n",
       " viewBox=\"0.00 0.00 85.00 227.00\" xmlns=\"http://www.w3.org/2000/svg\" xmlns:xlink=\"http://www.w3.org/1999/xlink\">\n",
       "<g id=\"graph0\" class=\"graph\" transform=\"scale(1 1) rotate(0) translate(4 223)\">\n",
       "<title>%3</title>\n",
       "<polygon fill=\"#ffffff\" stroke=\"transparent\" points=\"-4,4 -4,-223 81,-223 81,4 -4,4\"/>\n",
       "<!-- 0 -->\n",
       "<g id=\"node1\" class=\"node\">\n",
       "<title>0</title>\n",
       "<text text-anchor=\"middle\" x=\"38.5\" y=\"-207.8\" font-family=\"Times,serif\" font-size=\"14.00\" fill=\"#000000\">&lt;A&gt;</text>\n",
       "</g>\n",
       "<!-- 1 -->\n",
       "<g id=\"node2\" class=\"node\">\n",
       "<title>1</title>\n",
       "<text text-anchor=\"middle\" x=\"3.5\" y=\"-156.8\" font-family=\"Times,serif\" font-size=\"14.00\" fill=\"#000000\">a</text>\n",
       "</g>\n",
       "<!-- 0&#45;&gt;1 -->\n",
       "<g id=\"edge1\" class=\"edge\">\n",
       "<title>0&#45;&gt;1</title>\n",
       "<path fill=\"none\" stroke=\"#000000\" d=\"M33.3356,-203.9748C27.9733,-196.1611 19.467,-183.7662 12.9067,-174.2069\"/>\n",
       "<polygon fill=\"#000000\" stroke=\"#000000\" points=\"15.7279,-172.1322 7.1836,-165.8675 9.9562,-176.0931 15.7279,-172.1322\"/>\n",
       "</g>\n",
       "<!-- 2 -->\n",
       "<g id=\"node3\" class=\"node\">\n",
       "<title>2</title>\n",
       "<text text-anchor=\"middle\" x=\"38.5\" y=\"-156.8\" font-family=\"Times,serif\" font-size=\"14.00\" fill=\"#000000\">&lt;A&gt;</text>\n",
       "</g>\n",
       "<!-- 0&#45;&gt;2 -->\n",
       "<g id=\"edge2\" class=\"edge\">\n",
       "<title>0&#45;&gt;2</title>\n",
       "<path fill=\"none\" stroke=\"#000000\" d=\"M38.5,-203.9748C38.5,-197.195 38.5,-186.966 38.5,-178.1331\"/>\n",
       "<polygon fill=\"#000000\" stroke=\"#000000\" points=\"42.0001,-178.0561 38.5,-168.0561 35.0001,-178.0561 42.0001,-178.0561\"/>\n",
       "</g>\n",
       "<!-- 10 -->\n",
       "<g id=\"node11\" class=\"node\">\n",
       "<title>10</title>\n",
       "<text text-anchor=\"middle\" x=\"73.5\" y=\"-156.8\" font-family=\"Times,serif\" font-size=\"14.00\" fill=\"#000000\">a</text>\n",
       "</g>\n",
       "<!-- 0&#45;&gt;10 -->\n",
       "<g id=\"edge10\" class=\"edge\">\n",
       "<title>0&#45;&gt;10</title>\n",
       "<path fill=\"none\" stroke=\"#000000\" d=\"M43.6644,-203.9748C49.0267,-196.1611 57.533,-183.7662 64.0933,-174.2069\"/>\n",
       "<polygon fill=\"#000000\" stroke=\"#000000\" points=\"67.0438,-176.0931 69.8164,-165.8675 61.2721,-172.1322 67.0438,-176.0931\"/>\n",
       "</g>\n",
       "<!-- 3 -->\n",
       "<g id=\"node4\" class=\"node\">\n",
       "<title>3</title>\n",
       "<text text-anchor=\"middle\" x=\"3.5\" y=\"-105.8\" font-family=\"Times,serif\" font-size=\"14.00\" fill=\"#000000\">a</text>\n",
       "</g>\n",
       "<!-- 2&#45;&gt;3 -->\n",
       "<g id=\"edge3\" class=\"edge\">\n",
       "<title>2&#45;&gt;3</title>\n",
       "<path fill=\"none\" stroke=\"#000000\" d=\"M33.3356,-152.9748C27.9733,-145.1611 19.467,-132.7662 12.9067,-123.2069\"/>\n",
       "<polygon fill=\"#000000\" stroke=\"#000000\" points=\"15.7279,-121.1322 7.1836,-114.8675 9.9562,-125.0931 15.7279,-121.1322\"/>\n",
       "</g>\n",
       "<!-- 4 -->\n",
       "<g id=\"node5\" class=\"node\">\n",
       "<title>4</title>\n",
       "<text text-anchor=\"middle\" x=\"38.5\" y=\"-105.8\" font-family=\"Times,serif\" font-size=\"14.00\" fill=\"#000000\">&lt;A&gt;</text>\n",
       "</g>\n",
       "<!-- 2&#45;&gt;4 -->\n",
       "<g id=\"edge4\" class=\"edge\">\n",
       "<title>2&#45;&gt;4</title>\n",
       "<path fill=\"none\" stroke=\"#000000\" d=\"M38.5,-152.9748C38.5,-146.195 38.5,-135.966 38.5,-127.1331\"/>\n",
       "<polygon fill=\"#000000\" stroke=\"#000000\" points=\"42.0001,-127.0561 38.5,-117.0561 35.0001,-127.0561 42.0001,-127.0561\"/>\n",
       "</g>\n",
       "<!-- 9 -->\n",
       "<g id=\"node10\" class=\"node\">\n",
       "<title>9</title>\n",
       "<text text-anchor=\"middle\" x=\"73.5\" y=\"-105.8\" font-family=\"Times,serif\" font-size=\"14.00\" fill=\"#000000\">a</text>\n",
       "</g>\n",
       "<!-- 2&#45;&gt;9 -->\n",
       "<g id=\"edge9\" class=\"edge\">\n",
       "<title>2&#45;&gt;9</title>\n",
       "<path fill=\"none\" stroke=\"#000000\" d=\"M43.6644,-152.9748C49.0267,-145.1611 57.533,-132.7662 64.0933,-123.2069\"/>\n",
       "<polygon fill=\"#000000\" stroke=\"#000000\" points=\"67.0438,-125.0931 69.8164,-114.8675 61.2721,-121.1322 67.0438,-125.0931\"/>\n",
       "</g>\n",
       "<!-- 5 -->\n",
       "<g id=\"node6\" class=\"node\">\n",
       "<title>5</title>\n",
       "<text text-anchor=\"middle\" x=\"3.5\" y=\"-54.8\" font-family=\"Times,serif\" font-size=\"14.00\" fill=\"#000000\">a</text>\n",
       "</g>\n",
       "<!-- 4&#45;&gt;5 -->\n",
       "<g id=\"edge5\" class=\"edge\">\n",
       "<title>4&#45;&gt;5</title>\n",
       "<path fill=\"none\" stroke=\"#000000\" d=\"M33.3356,-101.9748C27.9733,-94.1611 19.467,-81.7662 12.9067,-72.2069\"/>\n",
       "<polygon fill=\"#000000\" stroke=\"#000000\" points=\"15.7279,-70.1322 7.1836,-63.8675 9.9562,-74.0931 15.7279,-70.1322\"/>\n",
       "</g>\n",
       "<!-- 6 -->\n",
       "<g id=\"node7\" class=\"node\">\n",
       "<title>6</title>\n",
       "<text text-anchor=\"middle\" x=\"38.5\" y=\"-54.8\" font-family=\"Times,serif\" font-size=\"14.00\" fill=\"#000000\">&lt;A&gt;</text>\n",
       "</g>\n",
       "<!-- 4&#45;&gt;6 -->\n",
       "<g id=\"edge6\" class=\"edge\">\n",
       "<title>4&#45;&gt;6</title>\n",
       "<path fill=\"none\" stroke=\"#000000\" d=\"M38.5,-101.9748C38.5,-95.195 38.5,-84.966 38.5,-76.1331\"/>\n",
       "<polygon fill=\"#000000\" stroke=\"#000000\" points=\"42.0001,-76.0561 38.5,-66.0561 35.0001,-76.0561 42.0001,-76.0561\"/>\n",
       "</g>\n",
       "<!-- 8 -->\n",
       "<g id=\"node9\" class=\"node\">\n",
       "<title>8</title>\n",
       "<text text-anchor=\"middle\" x=\"73.5\" y=\"-54.8\" font-family=\"Times,serif\" font-size=\"14.00\" fill=\"#000000\">a</text>\n",
       "</g>\n",
       "<!-- 4&#45;&gt;8 -->\n",
       "<g id=\"edge8\" class=\"edge\">\n",
       "<title>4&#45;&gt;8</title>\n",
       "<path fill=\"none\" stroke=\"#000000\" d=\"M43.6644,-101.9748C49.0267,-94.1611 57.533,-81.7662 64.0933,-72.2069\"/>\n",
       "<polygon fill=\"#000000\" stroke=\"#000000\" points=\"67.0438,-74.0931 69.8164,-63.8675 61.2721,-70.1322 67.0438,-74.0931\"/>\n",
       "</g>\n",
       "<!-- 7 -->\n",
       "<g id=\"node8\" class=\"node\">\n",
       "<title>7</title>\n",
       "<text text-anchor=\"middle\" x=\"38.5\" y=\"-3.8\" font-family=\"Times,serif\" font-size=\"14.00\" fill=\"#000000\">aa</text>\n",
       "</g>\n",
       "<!-- 6&#45;&gt;7 -->\n",
       "<g id=\"edge7\" class=\"edge\">\n",
       "<title>6&#45;&gt;7</title>\n",
       "<path fill=\"none\" stroke=\"#000000\" d=\"M38.5,-50.9748C38.5,-44.195 38.5,-33.966 38.5,-25.1331\"/>\n",
       "<polygon fill=\"#000000\" stroke=\"#000000\" points=\"42.0001,-25.0561 38.5,-15.0561 35.0001,-25.0561 42.0001,-25.0561\"/>\n",
       "</g>\n",
       "</g>\n",
       "</svg>\n"
      ],
      "text/plain": [
       "<graphviz.dot.Digraph at 0x113fbb278>"
      ]
     },
     "metadata": {},
     "output_type": "display_data"
    },
    {
     "data": {
      "text/plain": [
       "['aa', 'aaaa', 'aaaaaa', 'aaaaaaaa']"
      ]
     },
     "execution_count": 81,
     "metadata": {},
     "output_type": "execute_result"
    }
   ],
   "source": [
    "strings = []\n",
    "for e in range(4):\n",
    "    f = GrammarFuzzer(PEG_SURPRISE, start_symbol='<A>')\n",
    "    tree = ('<A>', None)\n",
    "    for _ in range(e):\n",
    "        tree = f.expand_tree_once(tree)\n",
    "    tree = f.expand_tree_with_strategy(tree, f.expand_node_min_cost)\n",
    "    strings.append(tree_to_string(tree))\n",
    "    display_tree(tree)\n",
    "strings"
   ]
  },
  {
   "cell_type": "markdown",
   "metadata": {
    "slideshow": {
     "slide_type": "subslide"
    }
   },
   "source": [
    "However, the _PEG_ parser can only recognize strings of the form $2^n$"
   ]
  },
  {
   "cell_type": "code",
   "execution_count": 82,
   "metadata": {
    "slideshow": {
     "slide_type": "subslide"
    }
   },
   "outputs": [
    {
     "data": {
      "image/svg+xml": [
       "<?xml version=\"1.0\" encoding=\"UTF-8\" standalone=\"no\"?>\n",
       "<!DOCTYPE svg PUBLIC \"-//W3C//DTD SVG 1.1//EN\"\n",
       " \"http://www.w3.org/Graphics/SVG/1.1/DTD/svg11.dtd\">\n",
       "<!-- Generated by graphviz version 2.40.1 (20161225.0304)\n",
       " -->\n",
       "<!-- Title: %3 Pages: 1 -->\n",
       "<svg width=\"34pt\" height=\"74pt\"\n",
       " viewBox=\"0.00 0.00 34.00 74.00\" xmlns=\"http://www.w3.org/2000/svg\" xmlns:xlink=\"http://www.w3.org/1999/xlink\">\n",
       "<g id=\"graph0\" class=\"graph\" transform=\"scale(1 1) rotate(0) translate(4 70)\">\n",
       "<title>%3</title>\n",
       "<polygon fill=\"#ffffff\" stroke=\"transparent\" points=\"-4,4 -4,-70 30,-70 30,4 -4,4\"/>\n",
       "<!-- 0 -->\n",
       "<g id=\"node1\" class=\"node\">\n",
       "<title>0</title>\n",
       "<text text-anchor=\"middle\" x=\"13\" y=\"-54.8\" font-family=\"Times,serif\" font-size=\"14.00\" fill=\"#000000\">&lt;A&gt;</text>\n",
       "</g>\n",
       "<!-- 1 -->\n",
       "<g id=\"node2\" class=\"node\">\n",
       "<title>1</title>\n",
       "<text text-anchor=\"middle\" x=\"13\" y=\"-3.8\" font-family=\"Times,serif\" font-size=\"14.00\" fill=\"#000000\">aa</text>\n",
       "</g>\n",
       "<!-- 0&#45;&gt;1 -->\n",
       "<g id=\"edge1\" class=\"edge\">\n",
       "<title>0&#45;&gt;1</title>\n",
       "<path fill=\"none\" stroke=\"#000000\" d=\"M13,-50.9748C13,-44.195 13,-33.966 13,-25.1331\"/>\n",
       "<polygon fill=\"#000000\" stroke=\"#000000\" points=\"16.5001,-25.0561 13,-15.0561 9.5001,-25.0561 16.5001,-25.0561\"/>\n",
       "</g>\n",
       "</g>\n",
       "</svg>\n"
      ],
      "text/plain": [
       "<graphviz.dot.Digraph at 0x113ffb550>"
      ]
     },
     "metadata": {},
     "output_type": "display_data"
    },
    {
     "name": "stdout",
     "output_type": "stream",
     "text": [
      "aa\n"
     ]
    },
    {
     "data": {
      "image/svg+xml": [
       "<?xml version=\"1.0\" encoding=\"UTF-8\" standalone=\"no\"?>\n",
       "<!DOCTYPE svg PUBLIC \"-//W3C//DTD SVG 1.1//EN\"\n",
       " \"http://www.w3.org/Graphics/SVG/1.1/DTD/svg11.dtd\">\n",
       "<!-- Generated by graphviz version 2.40.1 (20161225.0304)\n",
       " -->\n",
       "<!-- Title: %3 Pages: 1 -->\n",
       "<svg width=\"85pt\" height=\"125pt\"\n",
       " viewBox=\"0.00 0.00 85.00 125.00\" xmlns=\"http://www.w3.org/2000/svg\" xmlns:xlink=\"http://www.w3.org/1999/xlink\">\n",
       "<g id=\"graph0\" class=\"graph\" transform=\"scale(1 1) rotate(0) translate(4 121)\">\n",
       "<title>%3</title>\n",
       "<polygon fill=\"#ffffff\" stroke=\"transparent\" points=\"-4,4 -4,-121 81,-121 81,4 -4,4\"/>\n",
       "<!-- 0 -->\n",
       "<g id=\"node1\" class=\"node\">\n",
       "<title>0</title>\n",
       "<text text-anchor=\"middle\" x=\"38.5\" y=\"-105.8\" font-family=\"Times,serif\" font-size=\"14.00\" fill=\"#000000\">&lt;A&gt;</text>\n",
       "</g>\n",
       "<!-- 1 -->\n",
       "<g id=\"node2\" class=\"node\">\n",
       "<title>1</title>\n",
       "<text text-anchor=\"middle\" x=\"3.5\" y=\"-54.8\" font-family=\"Times,serif\" font-size=\"14.00\" fill=\"#000000\">a</text>\n",
       "</g>\n",
       "<!-- 0&#45;&gt;1 -->\n",
       "<g id=\"edge1\" class=\"edge\">\n",
       "<title>0&#45;&gt;1</title>\n",
       "<path fill=\"none\" stroke=\"#000000\" d=\"M33.3356,-101.9748C27.9733,-94.1611 19.467,-81.7662 12.9067,-72.2069\"/>\n",
       "<polygon fill=\"#000000\" stroke=\"#000000\" points=\"15.7279,-70.1322 7.1836,-63.8675 9.9562,-74.0931 15.7279,-70.1322\"/>\n",
       "</g>\n",
       "<!-- 2 -->\n",
       "<g id=\"node3\" class=\"node\">\n",
       "<title>2</title>\n",
       "<text text-anchor=\"middle\" x=\"38.5\" y=\"-54.8\" font-family=\"Times,serif\" font-size=\"14.00\" fill=\"#000000\">&lt;A&gt;</text>\n",
       "</g>\n",
       "<!-- 0&#45;&gt;2 -->\n",
       "<g id=\"edge2\" class=\"edge\">\n",
       "<title>0&#45;&gt;2</title>\n",
       "<path fill=\"none\" stroke=\"#000000\" d=\"M38.5,-101.9748C38.5,-95.195 38.5,-84.966 38.5,-76.1331\"/>\n",
       "<polygon fill=\"#000000\" stroke=\"#000000\" points=\"42.0001,-76.0561 38.5,-66.0561 35.0001,-76.0561 42.0001,-76.0561\"/>\n",
       "</g>\n",
       "<!-- 4 -->\n",
       "<g id=\"node5\" class=\"node\">\n",
       "<title>4</title>\n",
       "<text text-anchor=\"middle\" x=\"73.5\" y=\"-54.8\" font-family=\"Times,serif\" font-size=\"14.00\" fill=\"#000000\">a</text>\n",
       "</g>\n",
       "<!-- 0&#45;&gt;4 -->\n",
       "<g id=\"edge4\" class=\"edge\">\n",
       "<title>0&#45;&gt;4</title>\n",
       "<path fill=\"none\" stroke=\"#000000\" d=\"M43.6644,-101.9748C49.0267,-94.1611 57.533,-81.7662 64.0933,-72.2069\"/>\n",
       "<polygon fill=\"#000000\" stroke=\"#000000\" points=\"67.0438,-74.0931 69.8164,-63.8675 61.2721,-70.1322 67.0438,-74.0931\"/>\n",
       "</g>\n",
       "<!-- 3 -->\n",
       "<g id=\"node4\" class=\"node\">\n",
       "<title>3</title>\n",
       "<text text-anchor=\"middle\" x=\"38.5\" y=\"-3.8\" font-family=\"Times,serif\" font-size=\"14.00\" fill=\"#000000\">aa</text>\n",
       "</g>\n",
       "<!-- 2&#45;&gt;3 -->\n",
       "<g id=\"edge3\" class=\"edge\">\n",
       "<title>2&#45;&gt;3</title>\n",
       "<path fill=\"none\" stroke=\"#000000\" d=\"M38.5,-50.9748C38.5,-44.195 38.5,-33.966 38.5,-25.1331\"/>\n",
       "<polygon fill=\"#000000\" stroke=\"#000000\" points=\"42.0001,-25.0561 38.5,-15.0561 35.0001,-25.0561 42.0001,-25.0561\"/>\n",
       "</g>\n",
       "</g>\n",
       "</svg>\n"
      ],
      "text/plain": [
       "<graphviz.dot.Digraph at 0x113fbb710>"
      ]
     },
     "metadata": {},
     "output_type": "display_data"
    },
    {
     "name": "stdout",
     "output_type": "stream",
     "text": [
      "aaaa\n"
     ]
    },
    {
     "name": "stderr",
     "output_type": "stream",
     "text": [
      "Traceback (most recent call last):\n",
      "  File \"<ipython-input-82-dec55ebf796e>\", line 4, in <module>\n",
      "    for tree in peg.parse(s):\n",
      "  File \"<ipython-input-41-5d528e2a45db>\", line 19, in parse\n",
      "    raise SyntaxError(\"at \" + repr(text[cursor:]))\n",
      "  File \"<string>\", line None\n",
      "SyntaxError: at 'aa' (expected)\n"
     ]
    },
    {
     "data": {
      "image/svg+xml": [
       "<?xml version=\"1.0\" encoding=\"UTF-8\" standalone=\"no\"?>\n",
       "<!DOCTYPE svg PUBLIC \"-//W3C//DTD SVG 1.1//EN\"\n",
       " \"http://www.w3.org/Graphics/SVG/1.1/DTD/svg11.dtd\">\n",
       "<!-- Generated by graphviz version 2.40.1 (20161225.0304)\n",
       " -->\n",
       "<!-- Title: %3 Pages: 1 -->\n",
       "<svg width=\"85pt\" height=\"227pt\"\n",
       " viewBox=\"0.00 0.00 85.00 227.00\" xmlns=\"http://www.w3.org/2000/svg\" xmlns:xlink=\"http://www.w3.org/1999/xlink\">\n",
       "<g id=\"graph0\" class=\"graph\" transform=\"scale(1 1) rotate(0) translate(4 223)\">\n",
       "<title>%3</title>\n",
       "<polygon fill=\"#ffffff\" stroke=\"transparent\" points=\"-4,4 -4,-223 81,-223 81,4 -4,4\"/>\n",
       "<!-- 0 -->\n",
       "<g id=\"node1\" class=\"node\">\n",
       "<title>0</title>\n",
       "<text text-anchor=\"middle\" x=\"38.5\" y=\"-207.8\" font-family=\"Times,serif\" font-size=\"14.00\" fill=\"#000000\">&lt;A&gt;</text>\n",
       "</g>\n",
       "<!-- 1 -->\n",
       "<g id=\"node2\" class=\"node\">\n",
       "<title>1</title>\n",
       "<text text-anchor=\"middle\" x=\"3.5\" y=\"-156.8\" font-family=\"Times,serif\" font-size=\"14.00\" fill=\"#000000\">a</text>\n",
       "</g>\n",
       "<!-- 0&#45;&gt;1 -->\n",
       "<g id=\"edge1\" class=\"edge\">\n",
       "<title>0&#45;&gt;1</title>\n",
       "<path fill=\"none\" stroke=\"#000000\" d=\"M33.3356,-203.9748C27.9733,-196.1611 19.467,-183.7662 12.9067,-174.2069\"/>\n",
       "<polygon fill=\"#000000\" stroke=\"#000000\" points=\"15.7279,-172.1322 7.1836,-165.8675 9.9562,-176.0931 15.7279,-172.1322\"/>\n",
       "</g>\n",
       "<!-- 2 -->\n",
       "<g id=\"node3\" class=\"node\">\n",
       "<title>2</title>\n",
       "<text text-anchor=\"middle\" x=\"38.5\" y=\"-156.8\" font-family=\"Times,serif\" font-size=\"14.00\" fill=\"#000000\">&lt;A&gt;</text>\n",
       "</g>\n",
       "<!-- 0&#45;&gt;2 -->\n",
       "<g id=\"edge2\" class=\"edge\">\n",
       "<title>0&#45;&gt;2</title>\n",
       "<path fill=\"none\" stroke=\"#000000\" d=\"M38.5,-203.9748C38.5,-197.195 38.5,-186.966 38.5,-178.1331\"/>\n",
       "<polygon fill=\"#000000\" stroke=\"#000000\" points=\"42.0001,-178.0561 38.5,-168.0561 35.0001,-178.0561 42.0001,-178.0561\"/>\n",
       "</g>\n",
       "<!-- 10 -->\n",
       "<g id=\"node11\" class=\"node\">\n",
       "<title>10</title>\n",
       "<text text-anchor=\"middle\" x=\"73.5\" y=\"-156.8\" font-family=\"Times,serif\" font-size=\"14.00\" fill=\"#000000\">a</text>\n",
       "</g>\n",
       "<!-- 0&#45;&gt;10 -->\n",
       "<g id=\"edge10\" class=\"edge\">\n",
       "<title>0&#45;&gt;10</title>\n",
       "<path fill=\"none\" stroke=\"#000000\" d=\"M43.6644,-203.9748C49.0267,-196.1611 57.533,-183.7662 64.0933,-174.2069\"/>\n",
       "<polygon fill=\"#000000\" stroke=\"#000000\" points=\"67.0438,-176.0931 69.8164,-165.8675 61.2721,-172.1322 67.0438,-176.0931\"/>\n",
       "</g>\n",
       "<!-- 3 -->\n",
       "<g id=\"node4\" class=\"node\">\n",
       "<title>3</title>\n",
       "<text text-anchor=\"middle\" x=\"3.5\" y=\"-105.8\" font-family=\"Times,serif\" font-size=\"14.00\" fill=\"#000000\">a</text>\n",
       "</g>\n",
       "<!-- 2&#45;&gt;3 -->\n",
       "<g id=\"edge3\" class=\"edge\">\n",
       "<title>2&#45;&gt;3</title>\n",
       "<path fill=\"none\" stroke=\"#000000\" d=\"M33.3356,-152.9748C27.9733,-145.1611 19.467,-132.7662 12.9067,-123.2069\"/>\n",
       "<polygon fill=\"#000000\" stroke=\"#000000\" points=\"15.7279,-121.1322 7.1836,-114.8675 9.9562,-125.0931 15.7279,-121.1322\"/>\n",
       "</g>\n",
       "<!-- 4 -->\n",
       "<g id=\"node5\" class=\"node\">\n",
       "<title>4</title>\n",
       "<text text-anchor=\"middle\" x=\"38.5\" y=\"-105.8\" font-family=\"Times,serif\" font-size=\"14.00\" fill=\"#000000\">&lt;A&gt;</text>\n",
       "</g>\n",
       "<!-- 2&#45;&gt;4 -->\n",
       "<g id=\"edge4\" class=\"edge\">\n",
       "<title>2&#45;&gt;4</title>\n",
       "<path fill=\"none\" stroke=\"#000000\" d=\"M38.5,-152.9748C38.5,-146.195 38.5,-135.966 38.5,-127.1331\"/>\n",
       "<polygon fill=\"#000000\" stroke=\"#000000\" points=\"42.0001,-127.0561 38.5,-117.0561 35.0001,-127.0561 42.0001,-127.0561\"/>\n",
       "</g>\n",
       "<!-- 9 -->\n",
       "<g id=\"node10\" class=\"node\">\n",
       "<title>9</title>\n",
       "<text text-anchor=\"middle\" x=\"73.5\" y=\"-105.8\" font-family=\"Times,serif\" font-size=\"14.00\" fill=\"#000000\">a</text>\n",
       "</g>\n",
       "<!-- 2&#45;&gt;9 -->\n",
       "<g id=\"edge9\" class=\"edge\">\n",
       "<title>2&#45;&gt;9</title>\n",
       "<path fill=\"none\" stroke=\"#000000\" d=\"M43.6644,-152.9748C49.0267,-145.1611 57.533,-132.7662 64.0933,-123.2069\"/>\n",
       "<polygon fill=\"#000000\" stroke=\"#000000\" points=\"67.0438,-125.0931 69.8164,-114.8675 61.2721,-121.1322 67.0438,-125.0931\"/>\n",
       "</g>\n",
       "<!-- 5 -->\n",
       "<g id=\"node6\" class=\"node\">\n",
       "<title>5</title>\n",
       "<text text-anchor=\"middle\" x=\"3.5\" y=\"-54.8\" font-family=\"Times,serif\" font-size=\"14.00\" fill=\"#000000\">a</text>\n",
       "</g>\n",
       "<!-- 4&#45;&gt;5 -->\n",
       "<g id=\"edge5\" class=\"edge\">\n",
       "<title>4&#45;&gt;5</title>\n",
       "<path fill=\"none\" stroke=\"#000000\" d=\"M33.3356,-101.9748C27.9733,-94.1611 19.467,-81.7662 12.9067,-72.2069\"/>\n",
       "<polygon fill=\"#000000\" stroke=\"#000000\" points=\"15.7279,-70.1322 7.1836,-63.8675 9.9562,-74.0931 15.7279,-70.1322\"/>\n",
       "</g>\n",
       "<!-- 6 -->\n",
       "<g id=\"node7\" class=\"node\">\n",
       "<title>6</title>\n",
       "<text text-anchor=\"middle\" x=\"38.5\" y=\"-54.8\" font-family=\"Times,serif\" font-size=\"14.00\" fill=\"#000000\">&lt;A&gt;</text>\n",
       "</g>\n",
       "<!-- 4&#45;&gt;6 -->\n",
       "<g id=\"edge6\" class=\"edge\">\n",
       "<title>4&#45;&gt;6</title>\n",
       "<path fill=\"none\" stroke=\"#000000\" d=\"M38.5,-101.9748C38.5,-95.195 38.5,-84.966 38.5,-76.1331\"/>\n",
       "<polygon fill=\"#000000\" stroke=\"#000000\" points=\"42.0001,-76.0561 38.5,-66.0561 35.0001,-76.0561 42.0001,-76.0561\"/>\n",
       "</g>\n",
       "<!-- 8 -->\n",
       "<g id=\"node9\" class=\"node\">\n",
       "<title>8</title>\n",
       "<text text-anchor=\"middle\" x=\"73.5\" y=\"-54.8\" font-family=\"Times,serif\" font-size=\"14.00\" fill=\"#000000\">a</text>\n",
       "</g>\n",
       "<!-- 4&#45;&gt;8 -->\n",
       "<g id=\"edge8\" class=\"edge\">\n",
       "<title>4&#45;&gt;8</title>\n",
       "<path fill=\"none\" stroke=\"#000000\" d=\"M43.6644,-101.9748C49.0267,-94.1611 57.533,-81.7662 64.0933,-72.2069\"/>\n",
       "<polygon fill=\"#000000\" stroke=\"#000000\" points=\"67.0438,-74.0931 69.8164,-63.8675 61.2721,-70.1322 67.0438,-74.0931\"/>\n",
       "</g>\n",
       "<!-- 7 -->\n",
       "<g id=\"node8\" class=\"node\">\n",
       "<title>7</title>\n",
       "<text text-anchor=\"middle\" x=\"38.5\" y=\"-3.8\" font-family=\"Times,serif\" font-size=\"14.00\" fill=\"#000000\">aa</text>\n",
       "</g>\n",
       "<!-- 6&#45;&gt;7 -->\n",
       "<g id=\"edge7\" class=\"edge\">\n",
       "<title>6&#45;&gt;7</title>\n",
       "<path fill=\"none\" stroke=\"#000000\" d=\"M38.5,-50.9748C38.5,-44.195 38.5,-33.966 38.5,-25.1331\"/>\n",
       "<polygon fill=\"#000000\" stroke=\"#000000\" points=\"42.0001,-25.0561 38.5,-15.0561 35.0001,-25.0561 42.0001,-25.0561\"/>\n",
       "</g>\n",
       "</g>\n",
       "</svg>\n"
      ],
      "text/plain": [
       "<graphviz.dot.Digraph at 0x113fbb208>"
      ]
     },
     "metadata": {},
     "output_type": "display_data"
    },
    {
     "name": "stdout",
     "output_type": "stream",
     "text": [
      "aaaaaaaa\n"
     ]
    }
   ],
   "source": [
    "peg = PEGParser(PEG_SURPRISE, start_symbol='<A>')\n",
    "for s in strings:\n",
    "    with ExpectError():\n",
    "        for tree in peg.parse(s):\n",
    "            display_tree(tree)\n",
    "        print(s)"
   ]
  },
  {
   "cell_type": "markdown",
   "metadata": {
    "slideshow": {
     "slide_type": "notes"
    }
   },
   "source": [
    "This is not the only problem with _Parsing Expression Grammars_. While  *PEGs* are expressive and the *packrat* parser for parsing them is simple and intuitive, *PEGs* suffer from a major deficiency for our purposes. *PEGs* are oriented towards language recognition, and it is not clear how to translate an arbitrary *PEG* to a *CFG*. As we mentioned earlier, a naive re-interpretation of a *PEG* as a *CFG* does not work very well. Further, it is not clear what is the exact relation between the class of languages represented by *PEG* and the class of languages represented by *CFG*. Since our primary focus is *fuzzing* – that is _generation_ of strings – , we next look at _parsers that can accept context-free grammars_."
   ]
  },
  {
   "cell_type": "markdown",
   "metadata": {
    "slideshow": {
     "slide_type": "fragment"
    }
   },
   "source": [
    "The general idea of *CFG* parser is the following: Peek at the input text for the allowed number of characters, and use these, and our parser state to determine which rules can be applied to complete parsing. We next look at a typical *CFG* parsing algorithm, the Earley Parser."
   ]
  },
  {
   "cell_type": "markdown",
   "metadata": {
    "slideshow": {
     "slide_type": "slide"
    },
    "toc-hr-collapsed": false
   },
   "source": [
    "### The Earley Parser"
   ]
  },
  {
   "cell_type": "markdown",
   "metadata": {
    "slideshow": {
     "slide_type": "notes"
    }
   },
   "source": [
    "The Earley parser is a general parser that is able to parse any arbitrary *CFG*. It was invented by Jay Earley \\cite{Earley1970} for use in computational linguistics. While its computational complexity is $O(n^3)$ for parsing strings with arbitrary grammars, it can parse strings with unambiguous grammars in $O(n^2)$ time, and all *[LR(k)](https://en.wikipedia.org/wiki/LR_parser)* grammars in linear time ($O(n)$ \\cite{Leo1991}). Further improvements – notably handling epsilon rules – were invented by Aycock et al. \\cite{Aycock2002}."
   ]
  },
  {
   "cell_type": "markdown",
   "metadata": {
    "slideshow": {
     "slide_type": "notes"
    }
   },
   "source": [
    "Note that one restriction of our implementation is that the start symbol can have only one alternative in its alternative expressions. This is not a restriction in practice because any grammar with multiple alternatives for its start symbol can be extended with a new start symbol that has the original start symbol as its only choice. That is, given a grammar as below,\n",
    "\n",
    "```\n",
    "grammar = {\n",
    "    '<start>': ['<A>', '<B>'],\n",
    "    ...\n",
    "}\n",
    "```\n",
    "one may rewrite it as below to conform to the *single-alternative* rule.\n",
    "```\n",
    "grammar = {\n",
    "    '<start>': ['<start_>'],\n",
    "    '<start_>': ['<A>', '<B>'],\n",
    "    ...\n",
    "}\n",
    "```"
   ]
  },
  {
   "cell_type": "markdown",
   "metadata": {
    "slideshow": {
     "slide_type": "notes"
    }
   },
   "source": [
    "We first implement a simpler parser that is a parser for nearly all *CFGs*, but not quite. In particular, our parser does not understand _epsilon rules_ – rules that derive empty string. We show later how the parser can be extended to handle these."
   ]
  },
  {
   "cell_type": "markdown",
   "metadata": {
    "slideshow": {
     "slide_type": "fragment"
    }
   },
   "source": [
    "We use the following grammar in our examples below."
   ]
  },
  {
   "cell_type": "code",
   "execution_count": 83,
   "metadata": {
    "slideshow": {
     "slide_type": "fragment"
    }
   },
   "outputs": [],
   "source": [
    "SAMPLE_GRAMMAR = {\n",
    "    '<start>': ['<A><B>'],\n",
    "    '<A>': ['a<B>c', 'a<A>'],\n",
    "    '<B>': ['b<C>', '<D>'],\n",
    "    '<C>': ['c'],\n",
    "    '<D>': ['d']\n",
    "}\n",
    "C_SAMPLE_GRAMMAR = canonical(SAMPLE_GRAMMAR)"
   ]
  },
  {
   "cell_type": "code",
   "execution_count": 84,
   "metadata": {
    "slideshow": {
     "slide_type": "subslide"
    }
   },
   "outputs": [
    {
     "name": "stdout",
     "output_type": "stream",
     "text": [
      "start\n"
     ]
    },
    {
     "data": {
      "image/svg+xml": [
       "<svg class=\"railroad-diagram\" height=\"62\" viewBox=\"0 0 197.0 62\" width=\"197.0\" xmlns=\"http://www.w3.org/2000/svg\">\n",
       "<g transform=\"translate(.5 .5)\">\n",
       "<style>/* <![CDATA[ */\n",
       "    svg.railroad-diagram {\n",
       "        background-color:hsl(100,100%,100%);\n",
       "    }\n",
       "    svg.railroad-diagram path {\n",
       "        stroke-width:3;\n",
       "        stroke:black;\n",
       "        fill:rgba(0,0,0,0);\n",
       "    }\n",
       "    svg.railroad-diagram text {\n",
       "        font:bold 14px monospace;\n",
       "        text-anchor:middle;\n",
       "    }\n",
       "    svg.railroad-diagram text.label{\n",
       "        text-anchor:start;\n",
       "    }\n",
       "    svg.railroad-diagram text.comment{\n",
       "        font:italic 12px monospace;\n",
       "    }\n",
       "    svg.railroad-diagram rect{\n",
       "        stroke-width:3;\n",
       "        stroke:black;\n",
       "        fill:hsl(0,62%,82%);\n",
       "    }\n",
       "\n",
       "/* ]]> */\n",
       "</style><g>\n",
       "<path d=\"M20 21v20m10 -20v20m-10 -10h20\"/></g><g>\n",
       "<path d=\"M40 31h0.0\"/><path d=\"M157.0 31h0.0\"/><path d=\"M40.0 31h20\"/><g>\n",
       "<path d=\"M60.0 31h0.0\"/><path d=\"M137.0 31h0.0\"/><g class=\"non-terminal\">\n",
       "<path d=\"M60.0 31h0.0\"/><path d=\"M88.5 31h0.0\"/><rect height=\"22\" width=\"28.5\" x=\"60.0\" y=\"20\"/><text x=\"74.25\" y=\"35\">A</text></g><path d=\"M88.5 31h10\"/><path d=\"M98.5 31h10\"/><g class=\"non-terminal\">\n",
       "<path d=\"M108.5 31h0.0\"/><path d=\"M137.0 31h0.0\"/><rect height=\"22\" width=\"28.5\" x=\"108.5\" y=\"20\"/><text x=\"122.75\" y=\"35\">B</text></g></g><path d=\"M137.0 31h20\"/></g><path d=\"M 157.0 31 h 20 m -10 -10 v 20 m 10 -20 v 20\"/></g></svg>"
      ],
      "text/plain": [
       "<IPython.core.display.SVG object>"
      ]
     },
     "metadata": {},
     "output_type": "display_data"
    },
    {
     "name": "stdout",
     "output_type": "stream",
     "text": [
      "A\n"
     ]
    },
    {
     "data": {
      "image/svg+xml": [
       "<svg class=\"railroad-diagram\" height=\"92\" viewBox=\"0 0 245.5 92\" width=\"245.5\" xmlns=\"http://www.w3.org/2000/svg\">\n",
       "<g transform=\"translate(.5 .5)\">\n",
       "<style>/* <![CDATA[ */\n",
       "    svg.railroad-diagram {\n",
       "        background-color:hsl(100,100%,100%);\n",
       "    }\n",
       "    svg.railroad-diagram path {\n",
       "        stroke-width:3;\n",
       "        stroke:black;\n",
       "        fill:rgba(0,0,0,0);\n",
       "    }\n",
       "    svg.railroad-diagram text {\n",
       "        font:bold 14px monospace;\n",
       "        text-anchor:middle;\n",
       "    }\n",
       "    svg.railroad-diagram text.label{\n",
       "        text-anchor:start;\n",
       "    }\n",
       "    svg.railroad-diagram text.comment{\n",
       "        font:italic 12px monospace;\n",
       "    }\n",
       "    svg.railroad-diagram rect{\n",
       "        stroke-width:3;\n",
       "        stroke:black;\n",
       "        fill:hsl(0,62%,82%);\n",
       "    }\n",
       "\n",
       "/* ]]> */\n",
       "</style><g>\n",
       "<path d=\"M20 51v20m10 -20v20m-10 -10h20\"/></g><g>\n",
       "<path d=\"M40 61h0.0\"/><path d=\"M205.5 61h0.0\"/><path d=\"M40.0 61a10 10 0 0 0 10 -10v-10a10 10 0 0 1 10 -10\"/><g>\n",
       "<path d=\"M60.0 31h0.0\"/><path d=\"M185.5 31h0.0\"/><g class=\"terminal\">\n",
       "<path d=\"M60.0 31h0.0\"/><path d=\"M88.5 31h0.0\"/><rect height=\"22\" rx=\"10\" ry=\"10\" width=\"28.5\" x=\"60.0\" y=\"20\"/><text x=\"74.25\" y=\"35\">a</text></g><path d=\"M88.5 31h10\"/><path d=\"M98.5 31h10\"/><g class=\"non-terminal\">\n",
       "<path d=\"M108.5 31h0.0\"/><path d=\"M137.0 31h0.0\"/><rect height=\"22\" width=\"28.5\" x=\"108.5\" y=\"20\"/><text x=\"122.75\" y=\"35\">B</text></g><path d=\"M137.0 31h10\"/><path d=\"M147.0 31h10\"/><g class=\"terminal\">\n",
       "<path d=\"M157.0 31h0.0\"/><path d=\"M185.5 31h0.0\"/><rect height=\"22\" rx=\"10\" ry=\"10\" width=\"28.5\" x=\"157.0\" y=\"20\"/><text x=\"171.25\" y=\"35\">c</text></g></g><path d=\"M185.5 31a10 10 0 0 1 10 10v10a10 10 0 0 0 10 10\"/><path d=\"M40.0 61h20\"/><g>\n",
       "<path d=\"M60.0 61h24.25\"/><path d=\"M161.25 61h24.25\"/><g class=\"terminal\">\n",
       "<path d=\"M84.25 61h0.0\"/><path d=\"M112.75 61h0.0\"/><rect height=\"22\" rx=\"10\" ry=\"10\" width=\"28.5\" x=\"84.25\" y=\"50\"/><text x=\"98.5\" y=\"65\">a</text></g><path d=\"M112.75 61h10\"/><path d=\"M122.75 61h10\"/><g class=\"non-terminal\">\n",
       "<path d=\"M132.75 61h0.0\"/><path d=\"M161.25 61h0.0\"/><rect height=\"22\" width=\"28.5\" x=\"132.75\" y=\"50\"/><text x=\"147.0\" y=\"65\">A</text></g></g><path d=\"M185.5 61h20\"/></g><path d=\"M 205.5 61 h 20 m -10 -10 v 20 m 10 -20 v 20\"/></g></svg>"
      ],
      "text/plain": [
       "<IPython.core.display.SVG object>"
      ]
     },
     "metadata": {},
     "output_type": "display_data"
    },
    {
     "name": "stdout",
     "output_type": "stream",
     "text": [
      "B\n"
     ]
    },
    {
     "data": {
      "image/svg+xml": [
       "<svg class=\"railroad-diagram\" height=\"92\" viewBox=\"0 0 197.0 92\" width=\"197.0\" xmlns=\"http://www.w3.org/2000/svg\">\n",
       "<g transform=\"translate(.5 .5)\">\n",
       "<style>/* <![CDATA[ */\n",
       "    svg.railroad-diagram {\n",
       "        background-color:hsl(100,100%,100%);\n",
       "    }\n",
       "    svg.railroad-diagram path {\n",
       "        stroke-width:3;\n",
       "        stroke:black;\n",
       "        fill:rgba(0,0,0,0);\n",
       "    }\n",
       "    svg.railroad-diagram text {\n",
       "        font:bold 14px monospace;\n",
       "        text-anchor:middle;\n",
       "    }\n",
       "    svg.railroad-diagram text.label{\n",
       "        text-anchor:start;\n",
       "    }\n",
       "    svg.railroad-diagram text.comment{\n",
       "        font:italic 12px monospace;\n",
       "    }\n",
       "    svg.railroad-diagram rect{\n",
       "        stroke-width:3;\n",
       "        stroke:black;\n",
       "        fill:hsl(0,62%,82%);\n",
       "    }\n",
       "\n",
       "/* ]]> */\n",
       "</style><g>\n",
       "<path d=\"M20 51v20m10 -20v20m-10 -10h20\"/></g><g>\n",
       "<path d=\"M40 61h0.0\"/><path d=\"M157.0 61h0.0\"/><path d=\"M40.0 61a10 10 0 0 0 10 -10v-10a10 10 0 0 1 10 -10\"/><g>\n",
       "<path d=\"M60.0 31h0.0\"/><path d=\"M137.0 31h0.0\"/><g class=\"terminal\">\n",
       "<path d=\"M60.0 31h0.0\"/><path d=\"M88.5 31h0.0\"/><rect height=\"22\" rx=\"10\" ry=\"10\" width=\"28.5\" x=\"60.0\" y=\"20\"/><text x=\"74.25\" y=\"35\">b</text></g><path d=\"M88.5 31h10\"/><path d=\"M98.5 31h10\"/><g class=\"non-terminal\">\n",
       "<path d=\"M108.5 31h0.0\"/><path d=\"M137.0 31h0.0\"/><rect height=\"22\" width=\"28.5\" x=\"108.5\" y=\"20\"/><text x=\"122.75\" y=\"35\">C</text></g></g><path d=\"M137.0 31a10 10 0 0 1 10 10v10a10 10 0 0 0 10 10\"/><path d=\"M40.0 61h20\"/><g>\n",
       "<path d=\"M60.0 61h24.25\"/><path d=\"M112.75 61h24.25\"/><g class=\"non-terminal\">\n",
       "<path d=\"M84.25 61h0.0\"/><path d=\"M112.75 61h0.0\"/><rect height=\"22\" width=\"28.5\" x=\"84.25\" y=\"50\"/><text x=\"98.5\" y=\"65\">D</text></g></g><path d=\"M137.0 61h20\"/></g><path d=\"M 157.0 61 h 20 m -10 -10 v 20 m 10 -20 v 20\"/></g></svg>"
      ],
      "text/plain": [
       "<IPython.core.display.SVG object>"
      ]
     },
     "metadata": {},
     "output_type": "display_data"
    },
    {
     "name": "stdout",
     "output_type": "stream",
     "text": [
      "C\n"
     ]
    },
    {
     "data": {
      "image/svg+xml": [
       "<svg class=\"railroad-diagram\" height=\"62\" viewBox=\"0 0 148.5 62\" width=\"148.5\" xmlns=\"http://www.w3.org/2000/svg\">\n",
       "<g transform=\"translate(.5 .5)\">\n",
       "<style>/* <![CDATA[ */\n",
       "    svg.railroad-diagram {\n",
       "        background-color:hsl(100,100%,100%);\n",
       "    }\n",
       "    svg.railroad-diagram path {\n",
       "        stroke-width:3;\n",
       "        stroke:black;\n",
       "        fill:rgba(0,0,0,0);\n",
       "    }\n",
       "    svg.railroad-diagram text {\n",
       "        font:bold 14px monospace;\n",
       "        text-anchor:middle;\n",
       "    }\n",
       "    svg.railroad-diagram text.label{\n",
       "        text-anchor:start;\n",
       "    }\n",
       "    svg.railroad-diagram text.comment{\n",
       "        font:italic 12px monospace;\n",
       "    }\n",
       "    svg.railroad-diagram rect{\n",
       "        stroke-width:3;\n",
       "        stroke:black;\n",
       "        fill:hsl(0,62%,82%);\n",
       "    }\n",
       "\n",
       "/* ]]> */\n",
       "</style><g>\n",
       "<path d=\"M20 21v20m10 -20v20m-10 -10h20\"/></g><g>\n",
       "<path d=\"M40 31h0.0\"/><path d=\"M108.5 31h0.0\"/><path d=\"M40.0 31h20\"/><g>\n",
       "<path d=\"M60.0 31h0.0\"/><path d=\"M88.5 31h0.0\"/><g class=\"terminal\">\n",
       "<path d=\"M60.0 31h0.0\"/><path d=\"M88.5 31h0.0\"/><rect height=\"22\" rx=\"10\" ry=\"10\" width=\"28.5\" x=\"60.0\" y=\"20\"/><text x=\"74.25\" y=\"35\">c</text></g></g><path d=\"M88.5 31h20\"/></g><path d=\"M 108.5 31 h 20 m -10 -10 v 20 m 10 -20 v 20\"/></g></svg>"
      ],
      "text/plain": [
       "<IPython.core.display.SVG object>"
      ]
     },
     "metadata": {},
     "output_type": "display_data"
    },
    {
     "name": "stdout",
     "output_type": "stream",
     "text": [
      "D\n"
     ]
    },
    {
     "data": {
      "image/svg+xml": [
       "<svg class=\"railroad-diagram\" height=\"62\" viewBox=\"0 0 148.5 62\" width=\"148.5\" xmlns=\"http://www.w3.org/2000/svg\">\n",
       "<g transform=\"translate(.5 .5)\">\n",
       "<style>/* <![CDATA[ */\n",
       "    svg.railroad-diagram {\n",
       "        background-color:hsl(100,100%,100%);\n",
       "    }\n",
       "    svg.railroad-diagram path {\n",
       "        stroke-width:3;\n",
       "        stroke:black;\n",
       "        fill:rgba(0,0,0,0);\n",
       "    }\n",
       "    svg.railroad-diagram text {\n",
       "        font:bold 14px monospace;\n",
       "        text-anchor:middle;\n",
       "    }\n",
       "    svg.railroad-diagram text.label{\n",
       "        text-anchor:start;\n",
       "    }\n",
       "    svg.railroad-diagram text.comment{\n",
       "        font:italic 12px monospace;\n",
       "    }\n",
       "    svg.railroad-diagram rect{\n",
       "        stroke-width:3;\n",
       "        stroke:black;\n",
       "        fill:hsl(0,62%,82%);\n",
       "    }\n",
       "\n",
       "/* ]]> */\n",
       "</style><g>\n",
       "<path d=\"M20 21v20m10 -20v20m-10 -10h20\"/></g><g>\n",
       "<path d=\"M40 31h0.0\"/><path d=\"M108.5 31h0.0\"/><path d=\"M40.0 31h20\"/><g>\n",
       "<path d=\"M60.0 31h0.0\"/><path d=\"M88.5 31h0.0\"/><g class=\"terminal\">\n",
       "<path d=\"M60.0 31h0.0\"/><path d=\"M88.5 31h0.0\"/><rect height=\"22\" rx=\"10\" ry=\"10\" width=\"28.5\" x=\"60.0\" y=\"20\"/><text x=\"74.25\" y=\"35\">d</text></g></g><path d=\"M88.5 31h20\"/></g><path d=\"M 108.5 31 h 20 m -10 -10 v 20 m 10 -20 v 20\"/></g></svg>"
      ],
      "text/plain": [
       "<IPython.core.display.SVG object>"
      ]
     },
     "metadata": {},
     "output_type": "display_data"
    }
   ],
   "source": [
    "syntax_diagram(SAMPLE_GRAMMAR)"
   ]
  },
  {
   "cell_type": "markdown",
   "metadata": {
    "slideshow": {
     "slide_type": "notes"
    }
   },
   "source": [
    "The basic idea of Earley parsing is the following\n",
    "* Start with the alternative expressions corresponding to the START_SYMBOL. These represent the possible ways to parse the string from a high level. Essentially each expression represents a parsing path. Queue each expression in our set of possible parses of the string. The parsed index of an expression is the part of expression that has already been recognized. In the beginning of parse, the parsed index of all expressions is at the beginning. Further, each letter gets a queue of expressions that recognizes that letter at that point in our parse.\n",
    "* Examine our queue of possible parses and check if any of them start with a nonterminal. If it does, then that nonterminal needs to be recognized from the input before the given rule can be parsed. Hence, add the alternative expressions corresponding to the nonterminal to the queue. Do this recursively.\n",
    "* At this point, we are ready to advance. Examine the current letter in the input, and select all expressions that have that particular letter at the parsed index. These expressions can now advance one step. Advance these selected expressions by incrementing their parsed index and add them to the queue of expressions in line for recognizing the next input letter.\n",
    "* If while doing these things, we find that any of the expressions have finished parsing, we fetch its corresponding nonterminal, and advance all expressions that have that nonterminal at their parsed index.\n",
    "* Continue this procedure recursively until all expressions that we have queued for the current letter have been processed. Then start processing the queue for the next letter.\n",
    "\n",
    "We explain each step in detail with examples in the coming sections.\n",
    "\n",
    "The parser uses dynamic programming to generate a table containing a _forest of possible parses_ at each letter index – the table contains as many columns as there are letters in the input, and each column contains different parsing rules at various stages of the parse.\n",
    "\n",
    "For example, given an input `adcd`, the Column 0 would contain the following:\n",
    "```\n",
    "<start> : ● <A> <B>\n",
    "```\n",
    "which is the starting rule that indicates that we are currently parsing the rule `<start>`, and the parsing state is just before identifying the symbol `<A>`. It would also contain the following which are two alternative paths it could take to complete the parsing.\n",
    "\n",
    "```\n",
    "<A> : ● a <B> c\n",
    "<A> : ● a <A>\n",
    "```\n",
    "\n",
    "Column 1 would contain the following, which represents the possible completion after reading `a`.\n",
    "```\n",
    "<A> : a ● <B> c\n",
    "<A> : a ● <A>\n",
    "<B> : ● b <C>\n",
    "<B> : ● <D>\n",
    "<A> : ● a <B> c\n",
    "<A> : ● a <A>\n",
    "<D> : ● d\n",
    "```\n",
    "Column 2 would contain the following after reading `d`\n",
    "```\n",
    "<D> : d ●\n",
    "<B> : <D> ●\n",
    "<A> : a <B> ● c\n",
    "```\n",
    "Similarly, Column 3 would contain the following after reading `c`\n",
    "```\n",
    "<A> : a <B> c ●\n",
    "<start> : <A> ● <B>\n",
    "<B> : ● b <C>\n",
    "<B> : ● <D>\n",
    "<D> : ● d\n",
    "```\n",
    "Finally, Column 4 would contain the following after reading `d`, with the `●` at the end of the `<start>` rule indicating that the parse was successful.\n",
    "```\n",
    "<D> : d ●\n",
    "<B> : <D> ●\n",
    "<start> : <A> <B> ●\n",
    "```\n",
    "\n",
    "As you can see from above, we are essentially filling a table (a table is also called a **chart**) of entries based on each letter we read, and the grammar rules that can be applied. This chart gives the parser its other name -- Chart parsing."
   ]
  },
  {
   "cell_type": "markdown",
   "metadata": {
    "slideshow": {
     "slide_type": "notes"
    }
   },
   "source": [
    "### Columns\n",
    "\n",
    "We define the `Column` first. The `Column` is initialized by its own `index` in the input string, and the `letter` at that index. Internally, we also keep track of the states that are added to the column as the parsing progresses."
   ]
  },
  {
   "cell_type": "code",
   "execution_count": 85,
   "metadata": {
    "slideshow": {
     "slide_type": "subslide"
    }
   },
   "outputs": [],
   "source": [
    "class Column(object):\n",
    "    def __init__(self, index, letter):\n",
    "        self.index, self.letter = index, letter\n",
    "        self.states, self._unique = [], {}\n",
    "\n",
    "    def __str__(self):\n",
    "        return \"%s chart[%d]\\n%s\" % (self.letter, self.index, \"\\n\".join(\n",
    "            str(state) for state in self.states if state.finished()))"
   ]
  },
  {
   "cell_type": "markdown",
   "metadata": {
    "slideshow": {
     "slide_type": "notes"
    }
   },
   "source": [
    "The `Column` only stores unique `states`. Hence, when a new `state` is `added` to our `Column`, we check whether it is already known."
   ]
  },
  {
   "cell_type": "code",
   "execution_count": 86,
   "metadata": {
    "slideshow": {
     "slide_type": "subslide"
    }
   },
   "outputs": [],
   "source": [
    "class Column(Column):\n",
    "    def add(self, state):\n",
    "        if state in self._unique:\n",
    "            return self._unique[state]\n",
    "        self._unique[state] = state\n",
    "        self.states.append(state)\n",
    "        state.e_col = self\n",
    "        return self._unique[state]"
   ]
  },
  {
   "cell_type": "markdown",
   "metadata": {
    "slideshow": {
     "slide_type": "notes"
    }
   },
   "source": [
    "### Items\n",
    "\n",
    "An item represents a _parse in progress for a specific rule._ Hence the item contains the name of the nonterminal, and the corresponding alternative expression (`expr`) which together form the rule, and the current position of parsing in this expression -- `dot`.\n",
    "\n",
    "\n",
    "**Note.** If you are familiar with [LR parsing](https://en.wikipedia.org/wiki/LR_parser), you will notice that an item is simply an `LR0` item."
   ]
  },
  {
   "cell_type": "code",
   "execution_count": 87,
   "metadata": {
    "slideshow": {
     "slide_type": "subslide"
    }
   },
   "outputs": [],
   "source": [
    "class Item(object):\n",
    "    def __init__(self, name, expr, dot):\n",
    "        self.name, self.expr, self.dot = name, expr, dot"
   ]
  },
  {
   "cell_type": "markdown",
   "metadata": {
    "slideshow": {
     "slide_type": "notes"
    }
   },
   "source": [
    "We also provide a few convenience methods. The method `finished()` checks if the `dot` has moved beyond the last element in `expr`. The method `advance()` produces a new `Item` with the `dot` advanced one token, and represents an advance of the parsing.  The method `at_dot()` returns the current symbol being parsed."
   ]
  },
  {
   "cell_type": "code",
   "execution_count": 88,
   "metadata": {
    "slideshow": {
     "slide_type": "subslide"
    }
   },
   "outputs": [],
   "source": [
    "class Item(Item):\n",
    "    def finished(self):\n",
    "        return self.dot >= len(self.expr)\n",
    "\n",
    "    def advance(self):\n",
    "        return Item(self.name, self.expr, self.dot + 1)\n",
    "\n",
    "    def at_dot(self):\n",
    "        return self.expr[self.dot] if self.dot < len(self.expr) else None"
   ]
  },
  {
   "cell_type": "markdown",
   "metadata": {
    "slideshow": {
     "slide_type": "fragment"
    }
   },
   "source": [
    "Here is how an item could be used. We first define our item"
   ]
  },
  {
   "cell_type": "code",
   "execution_count": 89,
   "metadata": {
    "slideshow": {
     "slide_type": "subslide"
    }
   },
   "outputs": [],
   "source": [
    "item_name = '<B>'\n",
    "item_expr = C_SAMPLE_GRAMMAR[item_name][1]\n",
    "an_item = Item(item_name,tuple(item_expr), 0)"
   ]
  },
  {
   "cell_type": "markdown",
   "metadata": {
    "slideshow": {
     "slide_type": "fragment"
    }
   },
   "source": [
    "To determine where the status of parsing, we use `at_dot()`"
   ]
  },
  {
   "cell_type": "code",
   "execution_count": 90,
   "metadata": {
    "slideshow": {
     "slide_type": "fragment"
    }
   },
   "outputs": [
    {
     "data": {
      "text/plain": [
       "'<D>'"
      ]
     },
     "execution_count": 90,
     "metadata": {},
     "output_type": "execute_result"
    }
   ],
   "source": [
    "an_item.at_dot()"
   ]
  },
  {
   "cell_type": "markdown",
   "metadata": {
    "slideshow": {
     "slide_type": "fragment"
    }
   },
   "source": [
    "That is, the next symbol to be parsed is `<D>`"
   ]
  },
  {
   "cell_type": "markdown",
   "metadata": {
    "slideshow": {
     "slide_type": "fragment"
    }
   },
   "source": [
    "If we advance the item, we get another item that represents the finished parsing rule `<B>`."
   ]
  },
  {
   "cell_type": "code",
   "execution_count": 91,
   "metadata": {
    "slideshow": {
     "slide_type": "fragment"
    }
   },
   "outputs": [],
   "source": [
    "another_item = an_item.advance()"
   ]
  },
  {
   "cell_type": "code",
   "execution_count": 92,
   "metadata": {
    "slideshow": {
     "slide_type": "fragment"
    }
   },
   "outputs": [
    {
     "data": {
      "text/plain": [
       "True"
      ]
     },
     "execution_count": 92,
     "metadata": {},
     "output_type": "execute_result"
    }
   ],
   "source": [
    "another_item.finished()"
   ]
  },
  {
   "cell_type": "markdown",
   "metadata": {
    "slideshow": {
     "slide_type": "notes"
    }
   },
   "source": [
    "### States\n",
    "\n",
    "For `Earley` parsing, the state of the parsing is simply one `Item` along with some meta information such as the starting `s_col`  and ending column `e_col` for each state. Hence we inherit from `Item` to create a `State`.\n",
    "We also store a reference to all the child states (that is, all states that originate from nonterminals in the `expr`). Since we are interested in comparing states, we define `hash()` and `eq()` with the corresponding methods."
   ]
  },
  {
   "cell_type": "code",
   "execution_count": 93,
   "metadata": {
    "slideshow": {
     "slide_type": "subslide"
    }
   },
   "outputs": [],
   "source": [
    "class State(Item):\n",
    "    def __init__(self, name, expr, dot, s_col):\n",
    "        super().__init__(name, expr, dot)\n",
    "        self.s_col, self.e_col = s_col, None\n",
    "\n",
    "    def __str__(self):\n",
    "        return self.name + ':= ' + ' '.join([\n",
    "            str(p)\n",
    "            for p in [*self.expr[:self.dot], '|', *self.expr[self.dot:]]\n",
    "        ]) + \"(%d,%d)\" % (self.s_col.index, self.e_col.index)\n",
    "    \n",
    "    def copy(self):\n",
    "        return State(self.name, self.expr, self.dot, self.s_col)\n",
    "\n",
    "    def _t(self):\n",
    "        return (self.name, self.expr, self.dot, self.s_col.index)\n",
    "\n",
    "    def __hash__(self):\n",
    "        return hash(self._t())\n",
    "\n",
    "    def __eq__(self, other):\n",
    "        return self._t() == other._t()\n",
    "\n",
    "    def advance(self):\n",
    "        return State(self.name, self.expr, self.dot + 1, self.s_col)"
   ]
  },
  {
   "cell_type": "markdown",
   "metadata": {
    "slideshow": {
     "slide_type": "subslide"
    }
   },
   "source": [
    "The usage of `State` is similar to that of `Item`. The only difference is that it is used along with the `Column` to track the parsing state. For example, we initialize the first column as follows:"
   ]
  },
  {
   "cell_type": "code",
   "execution_count": 94,
   "metadata": {
    "slideshow": {
     "slide_type": "fragment"
    }
   },
   "outputs": [
    {
     "data": {
      "text/plain": [
       "'<A>'"
      ]
     },
     "execution_count": 94,
     "metadata": {},
     "output_type": "execute_result"
    }
   ],
   "source": [
    "col_0 = Column(0, None)\n",
    "item_expr = tuple(*C_SAMPLE_GRAMMAR[START_SYMBOL])\n",
    "start_state = State(START_SYMBOL, item_expr, 0, col_0)\n",
    "col_0.add(start_state)\n",
    "start_state.at_dot()"
   ]
  },
  {
   "cell_type": "markdown",
   "metadata": {
    "slideshow": {
     "slide_type": "fragment"
    }
   },
   "source": [
    "The first column is then updated by using `add()` method of `Column`"
   ]
  },
  {
   "cell_type": "code",
   "execution_count": 95,
   "metadata": {
    "slideshow": {
     "slide_type": "subslide"
    }
   },
   "outputs": [
    {
     "name": "stdout",
     "output_type": "stream",
     "text": [
      "<start>:= | <A> <B>(0,0)\n",
      "<A>:= | a <B> c(0,0)\n",
      "<A>:= | a <A>(0,0)\n"
     ]
    }
   ],
   "source": [
    "sym = start_state.at_dot()\n",
    "for alt in C_SAMPLE_GRAMMAR[sym]:\n",
    "    col_0.add(State(sym, tuple(alt), 0, col_0))\n",
    "for s in col_0.states:\n",
    "    print(s)"
   ]
  },
  {
   "cell_type": "markdown",
   "metadata": {
    "slideshow": {
     "slide_type": "subslide"
    },
    "toc-hr-collapsed": false
   },
   "source": [
    "### The Parsing Algorithm"
   ]
  },
  {
   "cell_type": "markdown",
   "metadata": {
    "slideshow": {
     "slide_type": "notes"
    }
   },
   "source": [
    "The _Earley_ algorithm starts by initializing the chart with columns (as many as there are letters in the input). We also seed the first column with a state representing the expression corresponding to the start symbol. In our case, the state corresponds to the start symbol with the `dot` at `0` is represented as below. The `●` symbol represents the parsing status. In this case, we have not parsed anything.\n",
    "\n",
    "```\n",
    "<start>: ● <A> <B>\n",
    "```\n",
    "We pass this partial chart to a method for filling the rest of the parse chart."
   ]
  },
  {
   "cell_type": "code",
   "execution_count": 96,
   "metadata": {
    "slideshow": {
     "slide_type": "subslide"
    }
   },
   "outputs": [],
   "source": [
    "class EarleyParser(Parser):\n",
    "    def __init__(self, grammar, **kwargs):\n",
    "        super().__init__(grammar, **kwargs)\n",
    "        self.cgrammar = canonical(grammar, letters=True)"
   ]
  },
  {
   "cell_type": "markdown",
   "metadata": {
    "slideshow": {
     "slide_type": "notes"
    }
   },
   "source": [
    "Before starting to parse, we seed the chart with the state representing the ongoing parse of the start symbol."
   ]
  },
  {
   "cell_type": "code",
   "execution_count": 97,
   "metadata": {
    "slideshow": {
     "slide_type": "subslide"
    }
   },
   "outputs": [],
   "source": [
    "class EarleyParser(EarleyParser):\n",
    "    def chart_parse(self, words, start):\n",
    "        alt = tuple(*self.cgrammar[start])\n",
    "        chart = [Column(i, tok) for i, tok in enumerate([None, *words])]\n",
    "        chart[0].add(State(start, alt, 0, chart[0]))\n",
    "        return self.fill_chart(chart)"
   ]
  },
  {
   "cell_type": "markdown",
   "metadata": {
    "slideshow": {
     "slide_type": "notes"
    }
   },
   "source": [
    "The main parsing loop in `fill_chart()` has three fundamental operations. `predict()`, `scan()`, and `complete()`. We discuss `predict` next."
   ]
  },
  {
   "cell_type": "markdown",
   "metadata": {
    "slideshow": {
     "slide_type": "notes"
    }
   },
   "source": [
    "### Predicting States\n",
    "\n",
    "We have already seeded `chart[0]` with a state `[<A>,<B>]` with `dot` at `0`. Next, given that `<A>` is a nonterminal, we `predict` the possible parse continuations of this state. That is, it could be either `a <B> c` or `A <A>`.\n",
    "\n",
    "The general idea of `predict()` is as follows: Say you have a state with name `<A>` from the above grammar, and expression containing `[a,<B>,c]`. Imagine that you have seen `a` already, which means that the `dot` will be on `<B>`. Below, is a representation of our parse status. The left hand side of ● represents the portion already parsed (`a`), and the right hand side represents the portion yet to be parsed (`<B> c`).\n",
    "\n",
    "```\n",
    "<A>: a  ●  <B> c\n",
    "```"
   ]
  },
  {
   "cell_type": "markdown",
   "metadata": {
    "slideshow": {
     "slide_type": "notes"
    }
   },
   "source": [
    "To recognize `<B>`, we look at the definition of `<B>`, which has different alternative expressions. The `predict()` step adds each of these alternatives to the set of states, with `dot` at `0`.\n",
    "\n",
    "```\n",
    "<A>: a ● <B> c\n",
    "<B>: ● b c\n",
    "<B>: ● <D>\n",
    "```\n",
    "\n",
    "In essence, the `predict()` method, when called with the current nonterminal, fetches the alternative expressions corresponding to this nonterminal, and adds these as predicted _child_ states to the _current_ column."
   ]
  },
  {
   "cell_type": "code",
   "execution_count": 98,
   "metadata": {
    "slideshow": {
     "slide_type": "subslide"
    }
   },
   "outputs": [],
   "source": [
    "class EarleyParser(EarleyParser):\n",
    "    def predict(self, col, sym, state):\n",
    "        for alt in self.cgrammar[sym]:\n",
    "            col.add(State(sym, tuple(alt), 0, col))"
   ]
  },
  {
   "cell_type": "markdown",
   "metadata": {
    "slideshow": {
     "slide_type": "fragment"
    }
   },
   "source": [
    "To see how to use `predict`, we first construct the 0th column as before, and we assign the constructed column to an instance of the EarleyParser."
   ]
  },
  {
   "cell_type": "code",
   "execution_count": 99,
   "metadata": {
    "slideshow": {
     "slide_type": "fragment"
    }
   },
   "outputs": [],
   "source": [
    "col_0 = Column(0, None)\n",
    "col_0.add(start_state)\n",
    "ep = EarleyParser(SAMPLE_GRAMMAR)\n",
    "ep.chart = [col_0]"
   ]
  },
  {
   "cell_type": "markdown",
   "metadata": {
    "slideshow": {
     "slide_type": "fragment"
    }
   },
   "source": [
    "It should contain a single state -- `<start> at 0`"
   ]
  },
  {
   "cell_type": "code",
   "execution_count": 100,
   "metadata": {
    "slideshow": {
     "slide_type": "subslide"
    }
   },
   "outputs": [
    {
     "name": "stdout",
     "output_type": "stream",
     "text": [
      "<start>:= | <A> <B>(0,0)\n"
     ]
    }
   ],
   "source": [
    "for s in ep.chart[0].states:\n",
    "    print(s)"
   ]
  },
  {
   "cell_type": "markdown",
   "metadata": {
    "slideshow": {
     "slide_type": "fragment"
    }
   },
   "source": [
    "We apply predict to fill out the 0th column, and the column should contain the possible parse paths."
   ]
  },
  {
   "cell_type": "code",
   "execution_count": 101,
   "metadata": {
    "slideshow": {
     "slide_type": "fragment"
    }
   },
   "outputs": [
    {
     "name": "stdout",
     "output_type": "stream",
     "text": [
      "<start>:= | <A> <B>(0,0)\n",
      "<A>:= | a <B> c(0,0)\n",
      "<A>:= | a <A>(0,0)\n"
     ]
    }
   ],
   "source": [
    "ep.predict(col_0, '<A>', s)\n",
    "for s in ep.chart[0].states:\n",
    "    print(s)"
   ]
  },
  {
   "cell_type": "markdown",
   "metadata": {
    "slideshow": {
     "slide_type": "notes"
    }
   },
   "source": [
    "### Scanning Tokens\n",
    "\n",
    "What if rather than a nonterminal, the state contained a terminal symbol such as a letter? In that case, we are ready to make some progress. For example, consider the second state:\n",
    "```\n",
    "<B>: ● b c\n",
    "```\n",
    "We `scan` the next column's letter. Say the next token is `b`.\n",
    "If the letter matches what we have, then create a new state by advancing the current state by one letter.\n",
    "\n",
    "```\n",
    "<B>: b ● c\n",
    "```\n",
    "This new state is added to the next column (i.e the column that has the matched letter)."
   ]
  },
  {
   "cell_type": "code",
   "execution_count": 102,
   "metadata": {
    "slideshow": {
     "slide_type": "subslide"
    }
   },
   "outputs": [],
   "source": [
    "class EarleyParser(EarleyParser):\n",
    "    def scan(self, col, state, letter):\n",
    "        if letter == col.letter:\n",
    "            col.add(state.advance())"
   ]
  },
  {
   "cell_type": "markdown",
   "metadata": {
    "slideshow": {
     "slide_type": "fragment"
    }
   },
   "source": [
    "As before, we construct the partial parse first, this time adding a new column so that we can observe the effects of `scan()`"
   ]
  },
  {
   "cell_type": "code",
   "execution_count": 103,
   "metadata": {
    "slideshow": {
     "slide_type": "fragment"
    }
   },
   "outputs": [],
   "source": [
    "ep = EarleyParser(SAMPLE_GRAMMAR)\n",
    "col_1 = Column(1, 'a')\n",
    "ep.chart = [col_0, col_1]"
   ]
  },
  {
   "cell_type": "code",
   "execution_count": 104,
   "metadata": {
    "slideshow": {
     "slide_type": "fragment"
    }
   },
   "outputs": [
    {
     "name": "stdout",
     "output_type": "stream",
     "text": [
      "<A>:= | a <B> c(0,0)\n"
     ]
    }
   ],
   "source": [
    "new_state = ep.chart[0].states[1]\n",
    "print(new_state)"
   ]
  },
  {
   "cell_type": "code",
   "execution_count": 105,
   "metadata": {
    "slideshow": {
     "slide_type": "subslide"
    }
   },
   "outputs": [
    {
     "name": "stdout",
     "output_type": "stream",
     "text": [
      "<A>:= a | <B> c(0,1)\n"
     ]
    }
   ],
   "source": [
    "ep.scan(col_1, new_state, 'a')\n",
    "for s in ep.chart[1].states:\n",
    "    print(s)"
   ]
  },
  {
   "cell_type": "markdown",
   "metadata": {
    "slideshow": {
     "slide_type": "notes"
    }
   },
   "source": [
    "### Completing Processing\n",
    "\n",
    "When we advance, what if we actually `complete()` the processing of the current rule? If so, we want to update not just this state, but also all the _parent_ states from which this state was derived.\n",
    "For example, say we have states as below.\n",
    "```\n",
    "<A>: a ● <B> c\n",
    "<B>: b c ● \n",
    "```\n",
    "The state `<B>: b c ●` is now complete. So, we need to advance `<A>: a ● <B> c` one step forward.\n",
    "\n",
    "How do we determine the parent states? Note from `predict` that we added the predicted child states to the _same_ column as that of the inspected state. Hence, we look at the starting column of the current state, with the same symbol `at_dot` as that of the name of the completed state.\n",
    "\n",
    "For each such parent found, we advance that parent (because we have just finished parsing that non terminal for their `at_dot`) and add the new states to the current column."
   ]
  },
  {
   "cell_type": "code",
   "execution_count": 106,
   "metadata": {
    "slideshow": {
     "slide_type": "subslide"
    }
   },
   "outputs": [],
   "source": [
    "class EarleyParser(EarleyParser):\n",
    "    def complete(self, col, state):\n",
    "        return self.earley_complete(col, state)\n",
    "\n",
    "    def earley_complete(self, col, state):\n",
    "        parent_states = [\n",
    "            st for st in state.s_col.states if st.at_dot() == state.name\n",
    "        ]\n",
    "        for st in parent_states:\n",
    "            col.add(st.advance())"
   ]
  },
  {
   "cell_type": "markdown",
   "metadata": {
    "slideshow": {
     "slide_type": "fragment"
    }
   },
   "source": [
    "Here is an example of completed processing. First we complete the Column 0"
   ]
  },
  {
   "cell_type": "code",
   "execution_count": 107,
   "metadata": {
    "slideshow": {
     "slide_type": "subslide"
    }
   },
   "outputs": [
    {
     "name": "stdout",
     "output_type": "stream",
     "text": [
      "<start>:= | <A> <B>(0,0)\n",
      "<A>:= | a <B> c(0,0)\n",
      "<A>:= | a <A>(0,0)\n"
     ]
    }
   ],
   "source": [
    "ep = EarleyParser(SAMPLE_GRAMMAR)\n",
    "col_1 = Column(1, 'a')\n",
    "col_2 = Column(2, 'd')\n",
    "ep.chart = [col_0, col_1,col_2]\n",
    "ep.predict(col_0, '<A>', s)\n",
    "for s in ep.chart[0].states:\n",
    "    print(s)"
   ]
  },
  {
   "cell_type": "markdown",
   "metadata": {
    "slideshow": {
     "slide_type": "fragment"
    }
   },
   "source": [
    "Then we use `scan()` to populate Column 1"
   ]
  },
  {
   "cell_type": "code",
   "execution_count": 108,
   "metadata": {
    "slideshow": {
     "slide_type": "subslide"
    }
   },
   "outputs": [
    {
     "name": "stdout",
     "output_type": "stream",
     "text": [
      "<A>:= a | <B> c(0,1)\n",
      "<A>:= a | <A>(0,1)\n"
     ]
    }
   ],
   "source": [
    "for state in ep.chart[0].states:\n",
    "    if state.at_dot() not in SAMPLE_GRAMMAR:\n",
    "        ep.scan(col_1, state, 'a')\n",
    "for s in ep.chart[1].states:\n",
    "    print(s)"
   ]
  },
  {
   "cell_type": "code",
   "execution_count": 109,
   "metadata": {
    "slideshow": {
     "slide_type": "subslide"
    }
   },
   "outputs": [
    {
     "name": "stdout",
     "output_type": "stream",
     "text": [
      "<A>:= a | <B> c(0,1)\n",
      "<A>:= a | <A>(0,1)\n",
      "<B>:= | b <C>(1,1)\n",
      "<B>:= | <D>(1,1)\n",
      "<A>:= | a <B> c(1,1)\n",
      "<A>:= | a <A>(1,1)\n",
      "<D>:= | d(1,1)\n"
     ]
    }
   ],
   "source": [
    "for state in ep.chart[1].states:\n",
    "    if state.at_dot() in SAMPLE_GRAMMAR:\n",
    "        ep.predict(col_1, state.at_dot(), state)\n",
    "for s in ep.chart[1].states:\n",
    "    print(s)"
   ]
  },
  {
   "cell_type": "markdown",
   "metadata": {
    "slideshow": {
     "slide_type": "fragment"
    }
   },
   "source": [
    "Then we use `scan()` again to populate Column 2"
   ]
  },
  {
   "cell_type": "code",
   "execution_count": 110,
   "metadata": {
    "slideshow": {
     "slide_type": "subslide"
    }
   },
   "outputs": [
    {
     "name": "stdout",
     "output_type": "stream",
     "text": [
      "<D>:= d |(1,2)\n"
     ]
    }
   ],
   "source": [
    "for state in ep.chart[1].states:\n",
    "    if state.at_dot() not in SAMPLE_GRAMMAR:\n",
    "        ep.scan(col_2, state, state.at_dot())\n",
    "\n",
    "for s in ep.chart[2].states:\n",
    "    print(s)"
   ]
  },
  {
   "cell_type": "markdown",
   "metadata": {
    "slideshow": {
     "slide_type": "fragment"
    }
   },
   "source": [
    "Now, we can use `complete()`:"
   ]
  },
  {
   "cell_type": "code",
   "execution_count": 111,
   "metadata": {
    "slideshow": {
     "slide_type": "subslide"
    }
   },
   "outputs": [
    {
     "name": "stdout",
     "output_type": "stream",
     "text": [
      "<D>:= d |(1,2)\n",
      "<B>:= <D> |(1,2)\n",
      "<A>:= a <B> | c(0,2)\n"
     ]
    }
   ],
   "source": [
    "for state in ep.chart[2].states:\n",
    "    if state.finished():\n",
    "        ep.complete(col_2, state)\n",
    "\n",
    "for s in ep.chart[2].states:\n",
    "    print(s)"
   ]
  },
  {
   "cell_type": "markdown",
   "metadata": {
    "slideshow": {
     "slide_type": "notes"
    }
   },
   "source": [
    "### Filling the Chart\n",
    "\n",
    "The main driving loop in `fill_chart()` essentially calls these operations in order. We loop over each column in order.\n",
    "* For each column, fetch one state in the column at a time, and check if the state is `finished`. \n",
    "    * If it is, then we `complete()` all the parent states depending on this state. \n",
    "* If the state was not finished, we check to see if the state's current symbol `at_dot` is a nonterminal. \n",
    "    * If it is a nonterminal, we `predict()` possible continuations, and update the current column with these states. \n",
    "    * If it was not, we `scan()` the next column and advance the current state if it matches the next letter."
   ]
  },
  {
   "cell_type": "code",
   "execution_count": 112,
   "metadata": {
    "slideshow": {
     "slide_type": "subslide"
    }
   },
   "outputs": [],
   "source": [
    "class EarleyParser(EarleyParser):\n",
    "    def fill_chart(self, chart):\n",
    "        for i, col in enumerate(chart):\n",
    "            for state in col.states:\n",
    "                if state.finished():\n",
    "                    self.complete(col, state)\n",
    "                else:\n",
    "                    sym = state.at_dot()\n",
    "                    if sym in self.cgrammar:\n",
    "                        self.predict(col, sym, state)\n",
    "                    else:\n",
    "                        if i + 1 >= len(chart):\n",
    "                            continue\n",
    "                        self.scan(chart[i + 1], state, sym)\n",
    "            if self.log:\n",
    "                print(col)\n",
    "        return chart"
   ]
  },
  {
   "cell_type": "markdown",
   "metadata": {
    "slideshow": {
     "slide_type": "subslide"
    }
   },
   "source": [
    "We now can recognize a given string as belonging to a language represented by a grammar."
   ]
  },
  {
   "cell_type": "code",
   "execution_count": 113,
   "metadata": {
    "slideshow": {
     "slide_type": "subslide"
    }
   },
   "outputs": [
    {
     "name": "stdout",
     "output_type": "stream",
     "text": [
      "None chart[0]\n",
      "\n",
      "a chart[1]\n",
      "\n",
      "d chart[2]\n",
      "<D>:= d |(1,2)\n",
      "<B>:= <D> |(1,2)\n",
      "c chart[3]\n",
      "<A>:= a <B> c |(0,3)\n",
      "d chart[4]\n",
      "<D>:= d |(3,4)\n",
      "<B>:= <D> |(3,4)\n",
      "<start>:= <A> <B> |(0,4)\n"
     ]
    }
   ],
   "source": [
    "ep = EarleyParser(SAMPLE_GRAMMAR, log=True)\n",
    "columns = ep.chart_parse('adcd', START_SYMBOL)"
   ]
  },
  {
   "cell_type": "markdown",
   "metadata": {
    "slideshow": {
     "slide_type": "subslide"
    }
   },
   "source": [
    "The chart we printed above only shows completed entries at each index. The parenthesized expression indicates the column just before the first character was recognized, and the ending column.\n",
    "\n",
    "Notice how the `<start>` nonterminal shows fully parsed status."
   ]
  },
  {
   "cell_type": "code",
   "execution_count": 114,
   "metadata": {
    "slideshow": {
     "slide_type": "fragment"
    }
   },
   "outputs": [
    {
     "name": "stdout",
     "output_type": "stream",
     "text": [
      "<start>:= <A> <B> |(0,4)\n"
     ]
    }
   ],
   "source": [
    "last_col = columns[-1]\n",
    "for s in last_col.states:\n",
    "    if s.name == '<start>':\n",
    "        print(s)"
   ]
  },
  {
   "cell_type": "markdown",
   "metadata": {
    "slideshow": {
     "slide_type": "notes"
    }
   },
   "source": [
    "Since `chart_parse()` returns the completed table, we now need to extract the derivation trees."
   ]
  },
  {
   "cell_type": "markdown",
   "metadata": {
    "slideshow": {
     "slide_type": "notes"
    }
   },
   "source": [
    "### The Parse Method\n",
    "\n",
    "For determining how far we have managed to parse, we simply look for the last index from `chart_parse()` where the `start_symbol` was found."
   ]
  },
  {
   "cell_type": "code",
   "execution_count": 115,
   "metadata": {
    "slideshow": {
     "slide_type": "subslide"
    }
   },
   "outputs": [],
   "source": [
    "class EarleyParser(EarleyParser):\n",
    "    def parse_prefix(self, text):\n",
    "        self.table = self.chart_parse(text, self.start_symbol)\n",
    "        for col in reversed(self.table):\n",
    "            states = [st for st in col.states if st.name == self.start_symbol]\n",
    "            if states:\n",
    "                return col.index, states\n",
    "        return -1, []"
   ]
  },
  {
   "cell_type": "markdown",
   "metadata": {
    "slideshow": {
     "slide_type": "fragment"
    }
   },
   "source": [
    "Here is the `parse_prefix()` in action."
   ]
  },
  {
   "cell_type": "code",
   "execution_count": 116,
   "metadata": {
    "slideshow": {
     "slide_type": "subslide"
    }
   },
   "outputs": [
    {
     "name": "stdout",
     "output_type": "stream",
     "text": [
      "4 ['<start>:= <A> <B> |(0,4)']\n"
     ]
    }
   ],
   "source": [
    "ep = EarleyParser(SAMPLE_GRAMMAR)\n",
    "cursor, last_states = ep.parse_prefix('adcd')\n",
    "print(cursor, [str(s) for s in last_states])"
   ]
  },
  {
   "cell_type": "markdown",
   "metadata": {
    "slideshow": {
     "slide_type": "subslide"
    }
   },
   "source": [
    "The following is adapted from the excellent reference on Earley parsing by [Loup Vaillant](http://loup-vaillant.fr/tutorials/earley-parsing/).\n",
    "\n",
    "The `parse()` method has to construct the parsed forest. Our chart is a table of states that contains production rules that end at that index. For easier parsing, we switch to a table that contains rules that begin at that index."
   ]
  },
  {
   "cell_type": "markdown",
   "metadata": {
    "slideshow": {
     "slide_type": "fragment"
    }
   },
   "source": [
    "We define a `reverse()` method to parse and extract the parse forest. We need to extract the parse forest from the chart as we show in the next section."
   ]
  },
  {
   "cell_type": "code",
   "execution_count": 117,
   "metadata": {
    "code_folding": [],
    "slideshow": {
     "slide_type": "subslide"
    }
   },
   "outputs": [],
   "source": [
    "class EarleyParser(EarleyParser):\n",
    "    def reverse(self, table):\n",
    "        f_table = [Column(c.index, c.letter) for c in table]\n",
    "        for col in table:\n",
    "            finished = [s for s in col.states if s.finished()]\n",
    "            for s in finished:\n",
    "                f_table[s.s_col.index].states.append(s)\n",
    "        return f_table"
   ]
  },
  {
   "cell_type": "markdown",
   "metadata": {
    "slideshow": {
     "slide_type": "fragment"
    }
   },
   "source": [
    "Here is the reversed table"
   ]
  },
  {
   "cell_type": "code",
   "execution_count": 118,
   "metadata": {
    "slideshow": {
     "slide_type": "subslide"
    }
   },
   "outputs": [
    {
     "name": "stdout",
     "output_type": "stream",
     "text": [
      "None chart[0]\n",
      "<A>:= a <B> c |(0,3)\n",
      "<start>:= <A> <B> |(0,4)\n",
      "a chart[1]\n",
      "<D>:= d |(1,2)\n",
      "<B>:= <D> |(1,2)\n",
      "d chart[2]\n",
      "\n",
      "c chart[3]\n",
      "<D>:= d |(3,4)\n",
      "<B>:= <D> |(3,4)\n",
      "d chart[4]\n",
      "\n"
     ]
    }
   ],
   "source": [
    "ep = EarleyParser(SAMPLE_GRAMMAR)\n",
    "reversed_table = ep.reverse(columns)\n",
    "for col in reversed_table:\n",
    "    print(col)"
   ]
  },
  {
   "cell_type": "markdown",
   "metadata": {
    "slideshow": {
     "slide_type": "subslide"
    }
   },
   "source": [
    "Our `parse()` method is as follows. It depends on two methods `parse_forest()` and `extract_trees()` that will be defined next."
   ]
  },
  {
   "cell_type": "code",
   "execution_count": 119,
   "metadata": {
    "slideshow": {
     "slide_type": "subslide"
    }
   },
   "outputs": [],
   "source": [
    "class EarleyParser(EarleyParser):\n",
    "    def parse(self, text):\n",
    "        cursor, states = self.parse_prefix(text)\n",
    "        if cursor < len(text):\n",
    "            raise SyntaxError(\"at \" + repr(text[cursor:]))\n",
    "\n",
    "        f_table = self.reverse(self.table)\n",
    "        start = next(s for s in states if s.finished())\n",
    "        forest = self.extract_trees(self.parse_forest(f_table, start))\n",
    "\n",
    "        return [self.prune_tree(tree) for tree in forest]"
   ]
  },
  {
   "cell_type": "markdown",
   "metadata": {
    "slideshow": {
     "slide_type": "notes"
    }
   },
   "source": [
    "### Parsing Paths\n",
    "\n",
    "The `parse_paths()` method tries to unify the given expression in `named_expr` with the parsed string. For that, it extracts the first symbol in `named_expr` and checks if it is a terminal symbol. If it is, then it checks the chart to see if the letter corresponding to the position matches the terminal symbol. If it does, advance our start index by the length of the symbol.\n",
    "\n",
    "If the symbol was a nonterminal symbol, then we retrieve the parsed states at the current start index that correspond to the nonterminal symbol, and collect the end index. These are the start indexes for the remaining expression.\n",
    "\n",
    "Given our list of start indexes, we obtain the parse paths from the remaining expression. If we can obtain any, then we return the parse paths. If not, we return an empty list."
   ]
  },
  {
   "cell_type": "code",
   "execution_count": 120,
   "metadata": {
    "slideshow": {
     "slide_type": "subslide"
    }
   },
   "outputs": [],
   "source": [
    "class EarleyParser(EarleyParser):\n",
    "    def parse_paths(self, named_expr, chart, frm, til):\n",
    "        var, *expr = named_expr\n",
    "        starts = None\n",
    "        if var not in self.cgrammar:\n",
    "            starts = ([(var, frm + len(var))]\n",
    "                      if frm < til and chart[frm + 1].letter == var else [])\n",
    "        else:\n",
    "            starts = [(s, s.e_col.index) for s in chart[frm].states\n",
    "                      if s.name == var]\n",
    "\n",
    "        paths = []\n",
    "        for state, start in starts:\n",
    "            if not expr:\n",
    "                paths.extend([[state]] if start == til else [])\n",
    "            else:\n",
    "                res = self.parse_paths(expr, chart, start, til)\n",
    "                paths.extend([[state] + r for r in res])\n",
    "        return paths"
   ]
  },
  {
   "cell_type": "markdown",
   "metadata": {
    "slideshow": {
     "slide_type": "subslide"
    }
   },
   "source": [
    "Here is the `parse_paths()` in action"
   ]
  },
  {
   "cell_type": "code",
   "execution_count": 121,
   "metadata": {
    "slideshow": {
     "slide_type": "fragment"
    }
   },
   "outputs": [
    {
     "name": "stdout",
     "output_type": "stream",
     "text": [
      "['<A><B>']\n",
      "['<A>:= a <B> c |(0,3)', '<B>:= <D> |(3,4)']\n"
     ]
    }
   ],
   "source": [
    "print(SAMPLE_GRAMMAR['<start>'])\n",
    "ep = EarleyParser(SAMPLE_GRAMMAR)\n",
    "completed_start = last_states[0]\n",
    "reversed_table = ep.reverse(columns)\n",
    "paths = ep.parse_paths(completed_start.expr, reversed_table, 0, 4)\n",
    "for path in paths:\n",
    "    print([str(s) for s in path])"
   ]
  },
  {
   "cell_type": "markdown",
   "metadata": {
    "slideshow": {
     "slide_type": "subslide"
    }
   },
   "source": [
    "That is, the parse path for `<start>` given the input `adcd` included recognizing the expression `<A><B>`. This was recognized by the two states: `<A>` from input(0) to input(2) which further involved recognizing the rule `a<B>c`, and the next state `<B>` from input(3) which involved recognizing the rule `<D>`."
   ]
  },
  {
   "cell_type": "markdown",
   "metadata": {
    "slideshow": {
     "slide_type": "notes"
    }
   },
   "source": [
    "### Parsing Forests\n",
    "\n",
    "The `parse_forest()` method takes the state which represents the completed parse, and determines the possible ways that its expressions corresponded to the parsed expression. For example, say we are parsing `1+2+3`, and the state has `[<expr>,+,<expr>]` in `expr`. It could have been parsed as either `[{<expr>:1+2},+,{<expr>:3}]` or `[{<expr>:1},+,{<expr>:2+3}]`."
   ]
  },
  {
   "cell_type": "code",
   "execution_count": 122,
   "metadata": {
    "slideshow": {
     "slide_type": "subslide"
    }
   },
   "outputs": [],
   "source": [
    "class EarleyParser(EarleyParser):\n",
    "    def parse_forest(self, chart, state):\n",
    "        if not state.expr:\n",
    "            return (state.name, [])\n",
    "        pathexprs = self.parse_paths(state.expr, chart, state.s_col.index,\n",
    "                                     state.e_col.index)\n",
    "        paths_ = []\n",
    "        for pathexpr in pathexprs:\n",
    "            pathexpr_ = []\n",
    "            for varexpr in pathexpr:\n",
    "                completion = (self.parse_forest(chart, varexpr) if isinstance(\n",
    "                    varexpr, State) else (varexpr, []))\n",
    "                pathexpr_.append(completion)\n",
    "            paths_.append(pathexpr_)\n",
    "        return (state.name, paths_)"
   ]
  },
  {
   "cell_type": "code",
   "execution_count": 123,
   "metadata": {
    "slideshow": {
     "slide_type": "subslide"
    }
   },
   "outputs": [
    {
     "data": {
      "text/plain": [
       "('<start>',\n",
       " [[('<A>', [[('a', []), ('<B>', [[('<D>', [[('d', [])]])]]), ('c', [])]]),\n",
       "   ('<B>', [[('<D>', [[('d', [])]])]])]])"
      ]
     },
     "execution_count": 123,
     "metadata": {},
     "output_type": "execute_result"
    }
   ],
   "source": [
    "ep = EarleyParser(SAMPLE_GRAMMAR)\n",
    "reversed_table = ep.reverse(columns)\n",
    "result = ep.parse_forest(reversed_table, last_states[0])\n",
    "result"
   ]
  },
  {
   "cell_type": "markdown",
   "metadata": {
    "slideshow": {
     "slide_type": "notes"
    }
   },
   "source": [
    "### Extracting Trees"
   ]
  },
  {
   "cell_type": "markdown",
   "metadata": {
    "slideshow": {
     "slide_type": "notes"
    }
   },
   "source": [
    "What we have from `parse_forest()` is a forest of trees. We need to extract a single tree from that forest. That is accomplished as follows."
   ]
  },
  {
   "cell_type": "markdown",
   "metadata": {
    "slideshow": {
     "slide_type": "skip"
    }
   },
   "source": [
    "(For now, we return the first available derivation tree. To do that, we need to extract the parse forest from the state corresponding to `start`.)"
   ]
  },
  {
   "cell_type": "code",
   "execution_count": 124,
   "metadata": {
    "slideshow": {
     "slide_type": "subslide"
    }
   },
   "outputs": [],
   "source": [
    "class EarleyParser(EarleyParser):\n",
    "    def extract_a_tree(self, forest_node):\n",
    "        name, paths = forest_node\n",
    "        if not paths:\n",
    "            return (name, [])\n",
    "        return (name, [self.extract_a_tree(p) for p in paths[0]])\n",
    "\n",
    "    def extract_trees(self, forest):\n",
    "        return [self.extract_a_tree(forest)]"
   ]
  },
  {
   "cell_type": "markdown",
   "metadata": {
    "slideshow": {
     "slide_type": "skip"
    }
   },
   "source": [
    "We now verify that our parser can parse a given expression."
   ]
  },
  {
   "cell_type": "code",
   "execution_count": 125,
   "metadata": {
    "slideshow": {
     "slide_type": "subslide"
    }
   },
   "outputs": [],
   "source": [
    "A3_GRAMMAR = {\n",
    "    \"<start>\": [\"<expr>\"],\n",
    "    \"<expr>\": [\"<expr>+<expr>\", \"<expr>-<expr>\", \"(<expr>)\", \"<integer>\"],\n",
    "    \"<integer>\": [\"<digit><integer>\", \"<digit>\"],\n",
    "    \"<digit>\": [\"0\", \"1\", \"2\", \"3\", \"4\", \"5\", \"6\", \"7\", \"8\", \"9\"]\n",
    "}"
   ]
  },
  {
   "cell_type": "code",
   "execution_count": 126,
   "metadata": {
    "slideshow": {
     "slide_type": "subslide"
    }
   },
   "outputs": [
    {
     "name": "stdout",
     "output_type": "stream",
     "text": [
      "start\n"
     ]
    },
    {
     "data": {
      "image/svg+xml": [
       "<svg class=\"railroad-diagram\" height=\"62\" viewBox=\"0 0 174.0 62\" width=\"174.0\" xmlns=\"http://www.w3.org/2000/svg\">\n",
       "<g transform=\"translate(.5 .5)\">\n",
       "<style>/* <![CDATA[ */\n",
       "    svg.railroad-diagram {\n",
       "        background-color:hsl(100,100%,100%);\n",
       "    }\n",
       "    svg.railroad-diagram path {\n",
       "        stroke-width:3;\n",
       "        stroke:black;\n",
       "        fill:rgba(0,0,0,0);\n",
       "    }\n",
       "    svg.railroad-diagram text {\n",
       "        font:bold 14px monospace;\n",
       "        text-anchor:middle;\n",
       "    }\n",
       "    svg.railroad-diagram text.label{\n",
       "        text-anchor:start;\n",
       "    }\n",
       "    svg.railroad-diagram text.comment{\n",
       "        font:italic 12px monospace;\n",
       "    }\n",
       "    svg.railroad-diagram rect{\n",
       "        stroke-width:3;\n",
       "        stroke:black;\n",
       "        fill:hsl(0,62%,82%);\n",
       "    }\n",
       "\n",
       "/* ]]> */\n",
       "</style><g>\n",
       "<path d=\"M20 21v20m10 -20v20m-10 -10h20\"/></g><g>\n",
       "<path d=\"M40 31h0.0\"/><path d=\"M134.0 31h0.0\"/><path d=\"M40.0 31h20\"/><g>\n",
       "<path d=\"M60.0 31h0.0\"/><path d=\"M114.0 31h0.0\"/><g class=\"non-terminal\">\n",
       "<path d=\"M60.0 31h0.0\"/><path d=\"M114.0 31h0.0\"/><rect height=\"22\" width=\"54.0\" x=\"60.0\" y=\"20\"/><text x=\"87.0\" y=\"35\">expr</text></g></g><path d=\"M114.0 31h20\"/></g><path d=\"M 134.0 31 h 20 m -10 -10 v 20 m 10 -20 v 20\"/></g></svg>"
      ],
      "text/plain": [
       "<IPython.core.display.SVG object>"
      ]
     },
     "metadata": {},
     "output_type": "display_data"
    },
    {
     "name": "stdout",
     "output_type": "stream",
     "text": [
      "expr\n"
     ]
    },
    {
     "data": {
      "image/svg+xml": [
       "<svg class=\"railroad-diagram\" height=\"152\" viewBox=\"0 0 296.5 152\" width=\"296.5\" xmlns=\"http://www.w3.org/2000/svg\">\n",
       "<g transform=\"translate(.5 .5)\">\n",
       "<style>/* <![CDATA[ */\n",
       "    svg.railroad-diagram {\n",
       "        background-color:hsl(100,100%,100%);\n",
       "    }\n",
       "    svg.railroad-diagram path {\n",
       "        stroke-width:3;\n",
       "        stroke:black;\n",
       "        fill:rgba(0,0,0,0);\n",
       "    }\n",
       "    svg.railroad-diagram text {\n",
       "        font:bold 14px monospace;\n",
       "        text-anchor:middle;\n",
       "    }\n",
       "    svg.railroad-diagram text.label{\n",
       "        text-anchor:start;\n",
       "    }\n",
       "    svg.railroad-diagram text.comment{\n",
       "        font:italic 12px monospace;\n",
       "    }\n",
       "    svg.railroad-diagram rect{\n",
       "        stroke-width:3;\n",
       "        stroke:black;\n",
       "        fill:hsl(0,62%,82%);\n",
       "    }\n",
       "\n",
       "/* ]]> */\n",
       "</style><g>\n",
       "<path d=\"M20 81v20m10 -20v20m-10 -10h20\"/></g><g>\n",
       "<path d=\"M40 91h0.0\"/><path d=\"M256.5 91h0.0\"/><path d=\"M40.0 91a10 10 0 0 0 10 -10v-10a10 10 0 0 1 10 -10\"/><g>\n",
       "<path d=\"M60.0 61h0.0\"/><path d=\"M236.5 61h0.0\"/><g class=\"non-terminal\">\n",
       "<path d=\"M60.0 61h0.0\"/><path d=\"M114.0 61h0.0\"/><rect height=\"22\" width=\"54.0\" x=\"60.0\" y=\"50\"/><text x=\"87.0\" y=\"65\">expr</text></g><path d=\"M114.0 61h10\"/><path d=\"M124.0 61h10\"/><g class=\"terminal\">\n",
       "<path d=\"M134.0 61h0.0\"/><path d=\"M162.5 61h0.0\"/><rect height=\"22\" rx=\"10\" ry=\"10\" width=\"28.5\" x=\"134.0\" y=\"50\"/><text x=\"148.25\" y=\"65\">-</text></g><path d=\"M162.5 61h10\"/><path d=\"M172.5 61h10\"/><g class=\"non-terminal\">\n",
       "<path d=\"M182.5 61h0.0\"/><path d=\"M236.5 61h0.0\"/><rect height=\"22\" width=\"54.0\" x=\"182.5\" y=\"50\"/><text x=\"209.5\" y=\"65\">expr</text></g></g><path d=\"M236.5 61a10 10 0 0 1 10 10v10a10 10 0 0 0 10 10\"/><path d=\"M40.0 91a10 10 0 0 0 10 -10v-40a10 10 0 0 1 10 -10\"/><g>\n",
       "<path d=\"M60.0 31h0.0\"/><path d=\"M236.5 31h0.0\"/><g class=\"non-terminal\">\n",
       "<path d=\"M60.0 31h0.0\"/><path d=\"M114.0 31h0.0\"/><rect height=\"22\" width=\"54.0\" x=\"60.0\" y=\"20\"/><text x=\"87.0\" y=\"35\">expr</text></g><path d=\"M114.0 31h10\"/><path d=\"M124.0 31h10\"/><g class=\"terminal\">\n",
       "<path d=\"M134.0 31h0.0\"/><path d=\"M162.5 31h0.0\"/><rect height=\"22\" rx=\"10\" ry=\"10\" width=\"28.5\" x=\"134.0\" y=\"20\"/><text x=\"148.25\" y=\"35\">+</text></g><path d=\"M162.5 31h10\"/><path d=\"M172.5 31h10\"/><g class=\"non-terminal\">\n",
       "<path d=\"M182.5 31h0.0\"/><path d=\"M236.5 31h0.0\"/><rect height=\"22\" width=\"54.0\" x=\"182.5\" y=\"20\"/><text x=\"209.5\" y=\"35\">expr</text></g></g><path d=\"M236.5 31a10 10 0 0 1 10 10v40a10 10 0 0 0 10 10\"/><path d=\"M40.0 91h20\"/><g>\n",
       "<path d=\"M60.0 91h12.75\"/><path d=\"M223.75 91h12.75\"/><g class=\"terminal\">\n",
       "<path d=\"M72.75 91h0.0\"/><path d=\"M101.25 91h0.0\"/><rect height=\"22\" rx=\"10\" ry=\"10\" width=\"28.5\" x=\"72.75\" y=\"80\"/><text x=\"87.0\" y=\"95\">(</text></g><path d=\"M101.25 91h10\"/><path d=\"M111.25 91h10\"/><g class=\"non-terminal\">\n",
       "<path d=\"M121.25 91h0.0\"/><path d=\"M175.25 91h0.0\"/><rect height=\"22\" width=\"54.0\" x=\"121.25\" y=\"80\"/><text x=\"148.25\" y=\"95\">expr</text></g><path d=\"M175.25 91h10\"/><path d=\"M185.25 91h10\"/><g class=\"terminal\">\n",
       "<path d=\"M195.25 91h0.0\"/><path d=\"M223.75 91h0.0\"/><rect height=\"22\" rx=\"10\" ry=\"10\" width=\"28.5\" x=\"195.25\" y=\"80\"/><text x=\"209.5\" y=\"95\">)</text></g></g><path d=\"M236.5 91h20\"/><path d=\"M40.0 91a10 10 0 0 1 10 10v10a10 10 0 0 0 10 10\"/><g>\n",
       "<path d=\"M60.0 121h48.5\"/><path d=\"M188.0 121h48.5\"/><g class=\"non-terminal\">\n",
       "<path d=\"M108.5 121h0.0\"/><path d=\"M188.0 121h0.0\"/><rect height=\"22\" width=\"79.5\" x=\"108.5\" y=\"110\"/><text x=\"148.25\" y=\"125\">integer</text></g></g><path d=\"M236.5 121a10 10 0 0 0 10 -10v-10a10 10 0 0 1 10 -10\"/></g><path d=\"M 256.5 91 h 20 m -10 -10 v 20 m 10 -20 v 20\"/></g></svg>"
      ],
      "text/plain": [
       "<IPython.core.display.SVG object>"
      ]
     },
     "metadata": {},
     "output_type": "display_data"
    },
    {
     "name": "stdout",
     "output_type": "stream",
     "text": [
      "integer\n"
     ]
    },
    {
     "data": {
      "image/svg+xml": [
       "<svg class=\"railroad-diagram\" height=\"92\" viewBox=\"0 0 282.0 92\" width=\"282.0\" xmlns=\"http://www.w3.org/2000/svg\">\n",
       "<g transform=\"translate(.5 .5)\">\n",
       "<style>/* <![CDATA[ */\n",
       "    svg.railroad-diagram {\n",
       "        background-color:hsl(100,100%,100%);\n",
       "    }\n",
       "    svg.railroad-diagram path {\n",
       "        stroke-width:3;\n",
       "        stroke:black;\n",
       "        fill:rgba(0,0,0,0);\n",
       "    }\n",
       "    svg.railroad-diagram text {\n",
       "        font:bold 14px monospace;\n",
       "        text-anchor:middle;\n",
       "    }\n",
       "    svg.railroad-diagram text.label{\n",
       "        text-anchor:start;\n",
       "    }\n",
       "    svg.railroad-diagram text.comment{\n",
       "        font:italic 12px monospace;\n",
       "    }\n",
       "    svg.railroad-diagram rect{\n",
       "        stroke-width:3;\n",
       "        stroke:black;\n",
       "        fill:hsl(0,62%,82%);\n",
       "    }\n",
       "\n",
       "/* ]]> */\n",
       "</style><g>\n",
       "<path d=\"M20 51v20m10 -20v20m-10 -10h20\"/></g><g>\n",
       "<path d=\"M40 61h0.0\"/><path d=\"M242.0 61h0.0\"/><path d=\"M40.0 61a10 10 0 0 0 10 -10v-10a10 10 0 0 1 10 -10\"/><g>\n",
       "<path d=\"M60.0 31h0.0\"/><path d=\"M222.0 31h0.0\"/><g class=\"non-terminal\">\n",
       "<path d=\"M60.0 31h0.0\"/><path d=\"M122.5 31h0.0\"/><rect height=\"22\" width=\"62.5\" x=\"60.0\" y=\"20\"/><text x=\"91.25\" y=\"35\">digit</text></g><path d=\"M122.5 31h10\"/><path d=\"M132.5 31h10\"/><g class=\"non-terminal\">\n",
       "<path d=\"M142.5 31h0.0\"/><path d=\"M222.0 31h0.0\"/><rect height=\"22\" width=\"79.5\" x=\"142.5\" y=\"20\"/><text x=\"182.25\" y=\"35\">integer</text></g></g><path d=\"M222.0 31a10 10 0 0 1 10 10v10a10 10 0 0 0 10 10\"/><path d=\"M40.0 61h20\"/><g>\n",
       "<path d=\"M60.0 61h49.75\"/><path d=\"M172.25 61h49.75\"/><g class=\"non-terminal\">\n",
       "<path d=\"M109.75 61h0.0\"/><path d=\"M172.25 61h0.0\"/><rect height=\"22\" width=\"62.5\" x=\"109.75\" y=\"50\"/><text x=\"141.0\" y=\"65\">digit</text></g></g><path d=\"M222.0 61h20\"/></g><path d=\"M 242.0 61 h 20 m -10 -10 v 20 m 10 -20 v 20\"/></g></svg>"
      ],
      "text/plain": [
       "<IPython.core.display.SVG object>"
      ]
     },
     "metadata": {},
     "output_type": "display_data"
    },
    {
     "name": "stdout",
     "output_type": "stream",
     "text": [
      "digit\n"
     ]
    },
    {
     "data": {
      "image/svg+xml": [
       "<svg class=\"railroad-diagram\" height=\"109\" viewBox=\"0 0 522.5 109\" width=\"522.5\" xmlns=\"http://www.w3.org/2000/svg\">\n",
       "<g transform=\"translate(.5 .5)\">\n",
       "<style>/* <![CDATA[ */\n",
       "    svg.railroad-diagram {\n",
       "        background-color:hsl(100,100%,100%);\n",
       "    }\n",
       "    svg.railroad-diagram path {\n",
       "        stroke-width:3;\n",
       "        stroke:black;\n",
       "        fill:rgba(0,0,0,0);\n",
       "    }\n",
       "    svg.railroad-diagram text {\n",
       "        font:bold 14px monospace;\n",
       "        text-anchor:middle;\n",
       "    }\n",
       "    svg.railroad-diagram text.label{\n",
       "        text-anchor:start;\n",
       "    }\n",
       "    svg.railroad-diagram text.comment{\n",
       "        font:italic 12px monospace;\n",
       "    }\n",
       "    svg.railroad-diagram rect{\n",
       "        stroke-width:3;\n",
       "        stroke:black;\n",
       "        fill:hsl(0,62%,82%);\n",
       "    }\n",
       "\n",
       "/* ]]> */\n",
       "</style><g>\n",
       "<path d=\"M20 59v20m10 -20v20m-10 -10h20\"/></g><g>\n",
       "<path d=\"M40 69h0.0\"/><path d=\"M482.5 69h0.0\"/><path d=\"M40.0 69a10 10 0 0 0 10 -10v-29a10 10 0 0 1 10 -10h324.0\"/><path d=\"M138.5 89h324.0a10 10 0 0 0 10 -10v0a10 10 0 0 1 10 -10\"/><path d=\"M40.0 69h10\"/><g>\n",
       "<path d=\"M50.0 69h0.0\"/><path d=\"M118.5 69h0.0\"/><path d=\"M50.0 69a10 10 0 0 0 10 -10v-10a10 10 0 0 1 10 -10\"/><g>\n",
       "<path d=\"M70.0 39h0.0\"/><path d=\"M98.5 39h0.0\"/><g class=\"terminal\">\n",
       "<path d=\"M70.0 39h0.0\"/><path d=\"M98.5 39h0.0\"/><rect height=\"22\" rx=\"10\" ry=\"10\" width=\"28.5\" x=\"70.0\" y=\"28\"/><text x=\"84.25\" y=\"43\">0</text></g></g><path d=\"M98.5 39a10 10 0 0 1 10 10v10a10 10 0 0 0 10 10\"/><path d=\"M50.0 69h20\"/><g>\n",
       "<path d=\"M70.0 69h0.0\"/><path d=\"M98.5 69h0.0\"/><g class=\"terminal\">\n",
       "<path d=\"M70.0 69h0.0\"/><path d=\"M98.5 69h0.0\"/><rect height=\"22\" rx=\"10\" ry=\"10\" width=\"28.5\" x=\"70.0\" y=\"58\"/><text x=\"84.25\" y=\"73\">1</text></g></g><path d=\"M98.5 69h20\"/></g><path d=\"M118.5 69a10 10 0 0 1 10 10v0a10 10 0 0 0 10 10\"/><path d=\"M118.5 20a10 10 0 0 1 10 10v29a10 10 0 0 0 10 10\"/><g>\n",
       "<path d=\"M138.5 69h0.0\"/><path d=\"M207.0 69h0.0\"/><path d=\"M138.5 69a10 10 0 0 0 10 -10v-10a10 10 0 0 1 10 -10\"/><g>\n",
       "<path d=\"M158.5 39h0.0\"/><path d=\"M187.0 39h0.0\"/><g class=\"terminal\">\n",
       "<path d=\"M158.5 39h0.0\"/><path d=\"M187.0 39h0.0\"/><rect height=\"22\" rx=\"10\" ry=\"10\" width=\"28.5\" x=\"158.5\" y=\"28\"/><text x=\"172.75\" y=\"43\">2</text></g></g><path d=\"M187.0 39a10 10 0 0 1 10 10v10a10 10 0 0 0 10 10\"/><path d=\"M138.5 69h20\"/><g>\n",
       "<path d=\"M158.5 69h0.0\"/><path d=\"M187.0 69h0.0\"/><g class=\"terminal\">\n",
       "<path d=\"M158.5 69h0.0\"/><path d=\"M187.0 69h0.0\"/><rect height=\"22\" rx=\"10\" ry=\"10\" width=\"28.5\" x=\"158.5\" y=\"58\"/><text x=\"172.75\" y=\"73\">3</text></g></g><path d=\"M187.0 69h20\"/></g><path d=\"M207.0 69a10 10 0 0 1 10 10v0a10 10 0 0 0 10 10\"/><path d=\"M207.0 20a10 10 0 0 1 10 10v29a10 10 0 0 0 10 10\"/><g>\n",
       "<path d=\"M227.0 69h0.0\"/><path d=\"M295.5 69h0.0\"/><path d=\"M227.0 69a10 10 0 0 0 10 -10v-10a10 10 0 0 1 10 -10\"/><g>\n",
       "<path d=\"M247.0 39h0.0\"/><path d=\"M275.5 39h0.0\"/><g class=\"terminal\">\n",
       "<path d=\"M247.0 39h0.0\"/><path d=\"M275.5 39h0.0\"/><rect height=\"22\" rx=\"10\" ry=\"10\" width=\"28.5\" x=\"247.0\" y=\"28\"/><text x=\"261.25\" y=\"43\">4</text></g></g><path d=\"M275.5 39a10 10 0 0 1 10 10v10a10 10 0 0 0 10 10\"/><path d=\"M227.0 69h20\"/><g>\n",
       "<path d=\"M247.0 69h0.0\"/><path d=\"M275.5 69h0.0\"/><g class=\"terminal\">\n",
       "<path d=\"M247.0 69h0.0\"/><path d=\"M275.5 69h0.0\"/><rect height=\"22\" rx=\"10\" ry=\"10\" width=\"28.5\" x=\"247.0\" y=\"58\"/><text x=\"261.25\" y=\"73\">5</text></g></g><path d=\"M275.5 69h20\"/></g><path d=\"M295.5 69a10 10 0 0 1 10 10v0a10 10 0 0 0 10 10\"/><path d=\"M295.5 20a10 10 0 0 1 10 10v29a10 10 0 0 0 10 10\"/><g>\n",
       "<path d=\"M315.5 69h0.0\"/><path d=\"M384.0 69h0.0\"/><path d=\"M315.5 69a10 10 0 0 0 10 -10v-10a10 10 0 0 1 10 -10\"/><g>\n",
       "<path d=\"M335.5 39h0.0\"/><path d=\"M364.0 39h0.0\"/><g class=\"terminal\">\n",
       "<path d=\"M335.5 39h0.0\"/><path d=\"M364.0 39h0.0\"/><rect height=\"22\" rx=\"10\" ry=\"10\" width=\"28.5\" x=\"335.5\" y=\"28\"/><text x=\"349.75\" y=\"43\">6</text></g></g><path d=\"M364.0 39a10 10 0 0 1 10 10v10a10 10 0 0 0 10 10\"/><path d=\"M315.5 69h20\"/><g>\n",
       "<path d=\"M335.5 69h0.0\"/><path d=\"M364.0 69h0.0\"/><g class=\"terminal\">\n",
       "<path d=\"M335.5 69h0.0\"/><path d=\"M364.0 69h0.0\"/><rect height=\"22\" rx=\"10\" ry=\"10\" width=\"28.5\" x=\"335.5\" y=\"58\"/><text x=\"349.75\" y=\"73\">7</text></g></g><path d=\"M364.0 69h20\"/></g><path d=\"M384.0 69a10 10 0 0 1 10 10v0a10 10 0 0 0 10 10\"/><path d=\"M384.0 20a10 10 0 0 1 10 10v29a10 10 0 0 0 10 10\"/><g>\n",
       "<path d=\"M404.0 69h0.0\"/><path d=\"M472.5 69h0.0\"/><path d=\"M404.0 69a10 10 0 0 0 10 -10v-10a10 10 0 0 1 10 -10\"/><g>\n",
       "<path d=\"M424.0 39h0.0\"/><path d=\"M452.5 39h0.0\"/><g class=\"terminal\">\n",
       "<path d=\"M424.0 39h0.0\"/><path d=\"M452.5 39h0.0\"/><rect height=\"22\" rx=\"10\" ry=\"10\" width=\"28.5\" x=\"424.0\" y=\"28\"/><text x=\"438.25\" y=\"43\">8</text></g></g><path d=\"M452.5 39a10 10 0 0 1 10 10v10a10 10 0 0 0 10 10\"/><path d=\"M404.0 69h20\"/><g>\n",
       "<path d=\"M424.0 69h0.0\"/><path d=\"M452.5 69h0.0\"/><g class=\"terminal\">\n",
       "<path d=\"M424.0 69h0.0\"/><path d=\"M452.5 69h0.0\"/><rect height=\"22\" rx=\"10\" ry=\"10\" width=\"28.5\" x=\"424.0\" y=\"58\"/><text x=\"438.25\" y=\"73\">9</text></g></g><path d=\"M452.5 69h20\"/></g><path d=\"M472.5 69h10\"/></g><path d=\"M 482.5 69 h 20 m -10 -10 v 20 m 10 -20 v 20\"/></g></svg>"
      ],
      "text/plain": [
       "<IPython.core.display.SVG object>"
      ]
     },
     "metadata": {},
     "output_type": "display_data"
    }
   ],
   "source": [
    "syntax_diagram(A3_GRAMMAR)"
   ]
  },
  {
   "cell_type": "code",
   "execution_count": 127,
   "metadata": {
    "slideshow": {
     "slide_type": "subslide"
    }
   },
   "outputs": [
    {
     "data": {
      "image/svg+xml": [
       "<?xml version=\"1.0\" encoding=\"UTF-8\" standalone=\"no\"?>\n",
       "<!DOCTYPE svg PUBLIC \"-//W3C//DTD SVG 1.1//EN\"\n",
       " \"http://www.w3.org/Graphics/SVG/1.1/DTD/svg11.dtd\">\n",
       "<!-- Generated by graphviz version 2.40.1 (20161225.0304)\n",
       " -->\n",
       "<!-- Title: %3 Pages: 1 -->\n",
       "<svg width=\"276pt\" height=\"431pt\"\n",
       " viewBox=\"0.00 0.00 276.00 431.00\" xmlns=\"http://www.w3.org/2000/svg\" xmlns:xlink=\"http://www.w3.org/1999/xlink\">\n",
       "<g id=\"graph0\" class=\"graph\" transform=\"scale(1 1) rotate(0) translate(4 427)\">\n",
       "<title>%3</title>\n",
       "<polygon fill=\"#ffffff\" stroke=\"transparent\" points=\"-4,4 -4,-427 272,-427 272,4 -4,4\"/>\n",
       "<!-- 0 -->\n",
       "<g id=\"node1\" class=\"node\">\n",
       "<title>0</title>\n",
       "<text text-anchor=\"middle\" x=\"127.5\" y=\"-411.8\" font-family=\"Times,serif\" font-size=\"14.00\" fill=\"#000000\">&lt;start&gt;</text>\n",
       "</g>\n",
       "<!-- 1 -->\n",
       "<g id=\"node2\" class=\"node\">\n",
       "<title>1</title>\n",
       "<text text-anchor=\"middle\" x=\"127.5\" y=\"-360.8\" font-family=\"Times,serif\" font-size=\"14.00\" fill=\"#000000\">&lt;expr&gt;</text>\n",
       "</g>\n",
       "<!-- 0&#45;&gt;1 -->\n",
       "<g id=\"edge1\" class=\"edge\">\n",
       "<title>0&#45;&gt;1</title>\n",
       "<path fill=\"none\" stroke=\"#000000\" d=\"M127.5,-407.9748C127.5,-401.195 127.5,-390.966 127.5,-382.1331\"/>\n",
       "<polygon fill=\"#000000\" stroke=\"#000000\" points=\"131.0001,-382.0561 127.5,-372.0561 124.0001,-382.0561 131.0001,-382.0561\"/>\n",
       "</g>\n",
       "<!-- 2 -->\n",
       "<g id=\"node3\" class=\"node\">\n",
       "<title>2</title>\n",
       "<text text-anchor=\"middle\" x=\"81.5\" y=\"-309.8\" font-family=\"Times,serif\" font-size=\"14.00\" fill=\"#000000\">&lt;expr&gt;</text>\n",
       "</g>\n",
       "<!-- 1&#45;&gt;2 -->\n",
       "<g id=\"edge2\" class=\"edge\">\n",
       "<title>1&#45;&gt;2</title>\n",
       "<path fill=\"none\" stroke=\"#000000\" d=\"M120.7125,-356.9748C113.9859,-349.517 103.495,-337.8857 95.0564,-328.53\"/>\n",
       "<polygon fill=\"#000000\" stroke=\"#000000\" points=\"97.612,-326.1376 88.3153,-321.0561 92.414,-330.826 97.612,-326.1376\"/>\n",
       "</g>\n",
       "<!-- 18 -->\n",
       "<g id=\"node19\" class=\"node\">\n",
       "<title>18</title>\n",
       "<text text-anchor=\"middle\" x=\"127.5\" y=\"-309.8\" font-family=\"Times,serif\" font-size=\"14.00\" fill=\"#000000\">&#45;</text>\n",
       "</g>\n",
       "<!-- 1&#45;&gt;18 -->\n",
       "<g id=\"edge18\" class=\"edge\">\n",
       "<title>1&#45;&gt;18</title>\n",
       "<path fill=\"none\" stroke=\"#000000\" d=\"M127.5,-356.9748C127.5,-350.195 127.5,-339.966 127.5,-331.1331\"/>\n",
       "<polygon fill=\"#000000\" stroke=\"#000000\" points=\"131.0001,-331.0561 127.5,-321.0561 124.0001,-331.0561 131.0001,-331.0561\"/>\n",
       "</g>\n",
       "<!-- 19 -->\n",
       "<g id=\"node20\" class=\"node\">\n",
       "<title>19</title>\n",
       "<text text-anchor=\"middle\" x=\"171.5\" y=\"-309.8\" font-family=\"Times,serif\" font-size=\"14.00\" fill=\"#000000\">&lt;expr&gt;</text>\n",
       "</g>\n",
       "<!-- 1&#45;&gt;19 -->\n",
       "<g id=\"edge19\" class=\"edge\">\n",
       "<title>1&#45;&gt;19</title>\n",
       "<path fill=\"none\" stroke=\"#000000\" d=\"M133.9924,-356.9748C140.3615,-349.5923 150.259,-338.1203 158.2878,-328.8142\"/>\n",
       "<polygon fill=\"#000000\" stroke=\"#000000\" points=\"161.0987,-330.914 164.981,-321.0561 155.7986,-326.3414 161.0987,-330.914\"/>\n",
       "</g>\n",
       "<!-- 3 -->\n",
       "<g id=\"node4\" class=\"node\">\n",
       "<title>3</title>\n",
       "<text text-anchor=\"middle\" x=\"30.5\" y=\"-258.8\" font-family=\"Times,serif\" font-size=\"14.00\" fill=\"#000000\">(</text>\n",
       "</g>\n",
       "<!-- 2&#45;&gt;3 -->\n",
       "<g id=\"edge3\" class=\"edge\">\n",
       "<title>2&#45;&gt;3</title>\n",
       "<path fill=\"none\" stroke=\"#000000\" d=\"M73.9748,-305.9748C65.1498,-297.1498 50.4808,-282.4808 40.6536,-272.6536\"/>\n",
       "<polygon fill=\"#000000\" stroke=\"#000000\" points=\"42.8424,-269.8926 33.2964,-265.2964 37.8926,-274.8424 42.8424,-269.8926\"/>\n",
       "</g>\n",
       "<!-- 4 -->\n",
       "<g id=\"node5\" class=\"node\">\n",
       "<title>4</title>\n",
       "<text text-anchor=\"middle\" x=\"71.5\" y=\"-258.8\" font-family=\"Times,serif\" font-size=\"14.00\" fill=\"#000000\">&lt;expr&gt;</text>\n",
       "</g>\n",
       "<!-- 2&#45;&gt;4 -->\n",
       "<g id=\"edge4\" class=\"edge\">\n",
       "<title>2&#45;&gt;4</title>\n",
       "<path fill=\"none\" stroke=\"#000000\" d=\"M80.0245,-305.9748C78.6951,-299.195 76.6894,-288.966 74.9575,-280.1331\"/>\n",
       "<polygon fill=\"#000000\" stroke=\"#000000\" points=\"78.3404,-279.1958 72.9816,-270.0561 71.4712,-280.5427 78.3404,-279.1958\"/>\n",
       "</g>\n",
       "<!-- 17 -->\n",
       "<g id=\"node18\" class=\"node\">\n",
       "<title>17</title>\n",
       "<text text-anchor=\"middle\" x=\"112.5\" y=\"-258.8\" font-family=\"Times,serif\" font-size=\"14.00\" fill=\"#000000\">)</text>\n",
       "</g>\n",
       "<!-- 2&#45;&gt;17 -->\n",
       "<g id=\"edge17\" class=\"edge\">\n",
       "<title>2&#45;&gt;17</title>\n",
       "<path fill=\"none\" stroke=\"#000000\" d=\"M86.0742,-305.9748C90.9742,-297.9135 98.8382,-284.9759 104.7155,-275.3068\"/>\n",
       "<polygon fill=\"#000000\" stroke=\"#000000\" points=\"107.7102,-277.1183 109.9136,-266.7551 101.7286,-273.4823 107.7102,-277.1183\"/>\n",
       "</g>\n",
       "<!-- 5 -->\n",
       "<g id=\"node6\" class=\"node\">\n",
       "<title>5</title>\n",
       "<text text-anchor=\"middle\" x=\"27.5\" y=\"-207.8\" font-family=\"Times,serif\" font-size=\"14.00\" fill=\"#000000\">&lt;expr&gt;</text>\n",
       "</g>\n",
       "<!-- 4&#45;&gt;5 -->\n",
       "<g id=\"edge5\" class=\"edge\">\n",
       "<title>4&#45;&gt;5</title>\n",
       "<path fill=\"none\" stroke=\"#000000\" d=\"M65.0076,-254.9748C58.6385,-247.5923 48.741,-236.1203 40.7122,-226.8142\"/>\n",
       "<polygon fill=\"#000000\" stroke=\"#000000\" points=\"43.2014,-224.3414 34.019,-219.0561 37.9013,-228.914 43.2014,-224.3414\"/>\n",
       "</g>\n",
       "<!-- 9 -->\n",
       "<g id=\"node10\" class=\"node\">\n",
       "<title>9</title>\n",
       "<text text-anchor=\"middle\" x=\"70.5\" y=\"-207.8\" font-family=\"Times,serif\" font-size=\"14.00\" fill=\"#000000\">+</text>\n",
       "</g>\n",
       "<!-- 4&#45;&gt;9 -->\n",
       "<g id=\"edge9\" class=\"edge\">\n",
       "<title>4&#45;&gt;9</title>\n",
       "<path fill=\"none\" stroke=\"#000000\" d=\"M71.3524,-254.9748C71.2195,-248.195 71.0189,-237.966 70.8457,-229.1331\"/>\n",
       "<polygon fill=\"#000000\" stroke=\"#000000\" points=\"74.3436,-228.9855 70.6482,-219.0561 67.345,-229.1228 74.3436,-228.9855\"/>\n",
       "</g>\n",
       "<!-- 10 -->\n",
       "<g id=\"node11\" class=\"node\">\n",
       "<title>10</title>\n",
       "<text text-anchor=\"middle\" x=\"113.5\" y=\"-207.8\" font-family=\"Times,serif\" font-size=\"14.00\" fill=\"#000000\">&lt;expr&gt;</text>\n",
       "</g>\n",
       "<!-- 4&#45;&gt;10 -->\n",
       "<g id=\"edge10\" class=\"edge\">\n",
       "<title>4&#45;&gt;10</title>\n",
       "<path fill=\"none\" stroke=\"#000000\" d=\"M77.6972,-254.9748C83.7769,-247.5923 93.2245,-236.1203 100.8883,-226.8142\"/>\n",
       "<polygon fill=\"#000000\" stroke=\"#000000\" points=\"103.622,-229.0004 107.2773,-219.0561 98.2185,-224.5504 103.622,-229.0004\"/>\n",
       "</g>\n",
       "<!-- 6 -->\n",
       "<g id=\"node7\" class=\"node\">\n",
       "<title>6</title>\n",
       "<text text-anchor=\"middle\" x=\"27.5\" y=\"-156.8\" font-family=\"Times,serif\" font-size=\"14.00\" fill=\"#000000\">&lt;integer&gt;</text>\n",
       "</g>\n",
       "<!-- 5&#45;&gt;6 -->\n",
       "<g id=\"edge6\" class=\"edge\">\n",
       "<title>5&#45;&gt;6</title>\n",
       "<path fill=\"none\" stroke=\"#000000\" d=\"M27.5,-203.9748C27.5,-197.195 27.5,-186.966 27.5,-178.1331\"/>\n",
       "<polygon fill=\"#000000\" stroke=\"#000000\" points=\"31.0001,-178.0561 27.5,-168.0561 24.0001,-178.0561 31.0001,-178.0561\"/>\n",
       "</g>\n",
       "<!-- 7 -->\n",
       "<g id=\"node8\" class=\"node\">\n",
       "<title>7</title>\n",
       "<text text-anchor=\"middle\" x=\"27.5\" y=\"-105.8\" font-family=\"Times,serif\" font-size=\"14.00\" fill=\"#000000\">&lt;digit&gt;</text>\n",
       "</g>\n",
       "<!-- 6&#45;&gt;7 -->\n",
       "<g id=\"edge7\" class=\"edge\">\n",
       "<title>6&#45;&gt;7</title>\n",
       "<path fill=\"none\" stroke=\"#000000\" d=\"M27.5,-152.9748C27.5,-146.195 27.5,-135.966 27.5,-127.1331\"/>\n",
       "<polygon fill=\"#000000\" stroke=\"#000000\" points=\"31.0001,-127.0561 27.5,-117.0561 24.0001,-127.0561 31.0001,-127.0561\"/>\n",
       "</g>\n",
       "<!-- 8 -->\n",
       "<g id=\"node9\" class=\"node\">\n",
       "<title>8</title>\n",
       "<text text-anchor=\"middle\" x=\"27.5\" y=\"-54.8\" font-family=\"Times,serif\" font-size=\"14.00\" fill=\"#000000\">1</text>\n",
       "</g>\n",
       "<!-- 7&#45;&gt;8 -->\n",
       "<g id=\"edge8\" class=\"edge\">\n",
       "<title>7&#45;&gt;8</title>\n",
       "<path fill=\"none\" stroke=\"#000000\" d=\"M27.5,-101.9748C27.5,-95.195 27.5,-84.966 27.5,-76.1331\"/>\n",
       "<polygon fill=\"#000000\" stroke=\"#000000\" points=\"31.0001,-76.0561 27.5,-66.0561 24.0001,-76.0561 31.0001,-76.0561\"/>\n",
       "</g>\n",
       "<!-- 11 -->\n",
       "<g id=\"node12\" class=\"node\">\n",
       "<title>11</title>\n",
       "<text text-anchor=\"middle\" x=\"113.5\" y=\"-156.8\" font-family=\"Times,serif\" font-size=\"14.00\" fill=\"#000000\">&lt;integer&gt;</text>\n",
       "</g>\n",
       "<!-- 10&#45;&gt;11 -->\n",
       "<g id=\"edge11\" class=\"edge\">\n",
       "<title>10&#45;&gt;11</title>\n",
       "<path fill=\"none\" stroke=\"#000000\" d=\"M113.5,-203.9748C113.5,-197.195 113.5,-186.966 113.5,-178.1331\"/>\n",
       "<polygon fill=\"#000000\" stroke=\"#000000\" points=\"117.0001,-178.0561 113.5,-168.0561 110.0001,-178.0561 117.0001,-178.0561\"/>\n",
       "</g>\n",
       "<!-- 12 -->\n",
       "<g id=\"node13\" class=\"node\">\n",
       "<title>12</title>\n",
       "<text text-anchor=\"middle\" x=\"100.5\" y=\"-105.8\" font-family=\"Times,serif\" font-size=\"14.00\" fill=\"#000000\">&lt;digit&gt;</text>\n",
       "</g>\n",
       "<!-- 11&#45;&gt;12 -->\n",
       "<g id=\"edge12\" class=\"edge\">\n",
       "<title>11&#45;&gt;12</title>\n",
       "<path fill=\"none\" stroke=\"#000000\" d=\"M111.5818,-152.9748C109.8344,-146.1196 107.1882,-135.7383 104.9198,-126.8392\"/>\n",
       "<polygon fill=\"#000000\" stroke=\"#000000\" points=\"108.2877,-125.8817 102.4261,-117.0561 101.5046,-127.6108 108.2877,-125.8817\"/>\n",
       "</g>\n",
       "<!-- 14 -->\n",
       "<g id=\"node15\" class=\"node\">\n",
       "<title>14</title>\n",
       "<text text-anchor=\"middle\" x=\"167.5\" y=\"-105.8\" font-family=\"Times,serif\" font-size=\"14.00\" fill=\"#000000\">&lt;integer&gt;</text>\n",
       "</g>\n",
       "<!-- 11&#45;&gt;14 -->\n",
       "<g id=\"edge14\" class=\"edge\">\n",
       "<title>11&#45;&gt;14</title>\n",
       "<path fill=\"none\" stroke=\"#000000\" d=\"M121.4679,-152.9748C129.5239,-145.3663 142.1792,-133.4141 152.1833,-123.9658\"/>\n",
       "<polygon fill=\"#000000\" stroke=\"#000000\" points=\"154.6325,-126.4669 159.4994,-117.0561 149.8261,-121.3778 154.6325,-126.4669\"/>\n",
       "</g>\n",
       "<!-- 13 -->\n",
       "<g id=\"node14\" class=\"node\">\n",
       "<title>13</title>\n",
       "<text text-anchor=\"middle\" x=\"100.5\" y=\"-54.8\" font-family=\"Times,serif\" font-size=\"14.00\" fill=\"#000000\">2</text>\n",
       "</g>\n",
       "<!-- 12&#45;&gt;13 -->\n",
       "<g id=\"edge13\" class=\"edge\">\n",
       "<title>12&#45;&gt;13</title>\n",
       "<path fill=\"none\" stroke=\"#000000\" d=\"M100.5,-101.9748C100.5,-95.195 100.5,-84.966 100.5,-76.1331\"/>\n",
       "<polygon fill=\"#000000\" stroke=\"#000000\" points=\"104.0001,-76.0561 100.5,-66.0561 97.0001,-76.0561 104.0001,-76.0561\"/>\n",
       "</g>\n",
       "<!-- 15 -->\n",
       "<g id=\"node16\" class=\"node\">\n",
       "<title>15</title>\n",
       "<text text-anchor=\"middle\" x=\"167.5\" y=\"-54.8\" font-family=\"Times,serif\" font-size=\"14.00\" fill=\"#000000\">&lt;digit&gt;</text>\n",
       "</g>\n",
       "<!-- 14&#45;&gt;15 -->\n",
       "<g id=\"edge15\" class=\"edge\">\n",
       "<title>14&#45;&gt;15</title>\n",
       "<path fill=\"none\" stroke=\"#000000\" d=\"M167.5,-101.9748C167.5,-95.195 167.5,-84.966 167.5,-76.1331\"/>\n",
       "<polygon fill=\"#000000\" stroke=\"#000000\" points=\"171.0001,-76.0561 167.5,-66.0561 164.0001,-76.0561 171.0001,-76.0561\"/>\n",
       "</g>\n",
       "<!-- 16 -->\n",
       "<g id=\"node17\" class=\"node\">\n",
       "<title>16</title>\n",
       "<text text-anchor=\"middle\" x=\"167.5\" y=\"-3.8\" font-family=\"Times,serif\" font-size=\"14.00\" fill=\"#000000\">4</text>\n",
       "</g>\n",
       "<!-- 15&#45;&gt;16 -->\n",
       "<g id=\"edge16\" class=\"edge\">\n",
       "<title>15&#45;&gt;16</title>\n",
       "<path fill=\"none\" stroke=\"#000000\" d=\"M167.5,-50.9748C167.5,-44.195 167.5,-33.966 167.5,-25.1331\"/>\n",
       "<polygon fill=\"#000000\" stroke=\"#000000\" points=\"171.0001,-25.0561 167.5,-15.0561 164.0001,-25.0561 171.0001,-25.0561\"/>\n",
       "</g>\n",
       "<!-- 20 -->\n",
       "<g id=\"node21\" class=\"node\">\n",
       "<title>20</title>\n",
       "<text text-anchor=\"middle\" x=\"173.5\" y=\"-258.8\" font-family=\"Times,serif\" font-size=\"14.00\" fill=\"#000000\">&lt;integer&gt;</text>\n",
       "</g>\n",
       "<!-- 19&#45;&gt;20 -->\n",
       "<g id=\"edge20\" class=\"edge\">\n",
       "<title>19&#45;&gt;20</title>\n",
       "<path fill=\"none\" stroke=\"#000000\" d=\"M171.7951,-305.9748C172.061,-299.195 172.4621,-288.966 172.8085,-280.1331\"/>\n",
       "<polygon fill=\"#000000\" stroke=\"#000000\" points=\"176.309,-280.1856 173.2037,-270.0561 169.3144,-279.9112 176.309,-280.1856\"/>\n",
       "</g>\n",
       "<!-- 21 -->\n",
       "<g id=\"node22\" class=\"node\">\n",
       "<title>21</title>\n",
       "<text text-anchor=\"middle\" x=\"173.5\" y=\"-207.8\" font-family=\"Times,serif\" font-size=\"14.00\" fill=\"#000000\">&lt;digit&gt;</text>\n",
       "</g>\n",
       "<!-- 20&#45;&gt;21 -->\n",
       "<g id=\"edge21\" class=\"edge\">\n",
       "<title>20&#45;&gt;21</title>\n",
       "<path fill=\"none\" stroke=\"#000000\" d=\"M173.5,-254.9748C173.5,-248.195 173.5,-237.966 173.5,-229.1331\"/>\n",
       "<polygon fill=\"#000000\" stroke=\"#000000\" points=\"177.0001,-229.0561 173.5,-219.0561 170.0001,-229.0561 177.0001,-229.0561\"/>\n",
       "</g>\n",
       "<!-- 23 -->\n",
       "<g id=\"node24\" class=\"node\">\n",
       "<title>23</title>\n",
       "<text text-anchor=\"middle\" x=\"240.5\" y=\"-207.8\" font-family=\"Times,serif\" font-size=\"14.00\" fill=\"#000000\">&lt;integer&gt;</text>\n",
       "</g>\n",
       "<!-- 20&#45;&gt;23 -->\n",
       "<g id=\"edge23\" class=\"edge\">\n",
       "<title>20&#45;&gt;23</title>\n",
       "<path fill=\"none\" stroke=\"#000000\" d=\"M183.3861,-254.9748C193.6784,-247.1403 210.0213,-234.7002 222.593,-225.1307\"/>\n",
       "<polygon fill=\"#000000\" stroke=\"#000000\" points=\"224.7362,-227.898 230.5734,-219.0561 220.4964,-222.328 224.7362,-227.898\"/>\n",
       "</g>\n",
       "<!-- 22 -->\n",
       "<g id=\"node23\" class=\"node\">\n",
       "<title>22</title>\n",
       "<text text-anchor=\"middle\" x=\"173.5\" y=\"-156.8\" font-family=\"Times,serif\" font-size=\"14.00\" fill=\"#000000\">3</text>\n",
       "</g>\n",
       "<!-- 21&#45;&gt;22 -->\n",
       "<g id=\"edge22\" class=\"edge\">\n",
       "<title>21&#45;&gt;22</title>\n",
       "<path fill=\"none\" stroke=\"#000000\" d=\"M173.5,-203.9748C173.5,-197.195 173.5,-186.966 173.5,-178.1331\"/>\n",
       "<polygon fill=\"#000000\" stroke=\"#000000\" points=\"177.0001,-178.0561 173.5,-168.0561 170.0001,-178.0561 177.0001,-178.0561\"/>\n",
       "</g>\n",
       "<!-- 24 -->\n",
       "<g id=\"node25\" class=\"node\">\n",
       "<title>24</title>\n",
       "<text text-anchor=\"middle\" x=\"240.5\" y=\"-156.8\" font-family=\"Times,serif\" font-size=\"14.00\" fill=\"#000000\">&lt;digit&gt;</text>\n",
       "</g>\n",
       "<!-- 23&#45;&gt;24 -->\n",
       "<g id=\"edge24\" class=\"edge\">\n",
       "<title>23&#45;&gt;24</title>\n",
       "<path fill=\"none\" stroke=\"#000000\" d=\"M240.5,-203.9748C240.5,-197.195 240.5,-186.966 240.5,-178.1331\"/>\n",
       "<polygon fill=\"#000000\" stroke=\"#000000\" points=\"244.0001,-178.0561 240.5,-168.0561 237.0001,-178.0561 244.0001,-178.0561\"/>\n",
       "</g>\n",
       "<!-- 25 -->\n",
       "<g id=\"node26\" class=\"node\">\n",
       "<title>25</title>\n",
       "<text text-anchor=\"middle\" x=\"240.5\" y=\"-105.8\" font-family=\"Times,serif\" font-size=\"14.00\" fill=\"#000000\">3</text>\n",
       "</g>\n",
       "<!-- 24&#45;&gt;25 -->\n",
       "<g id=\"edge25\" class=\"edge\">\n",
       "<title>24&#45;&gt;25</title>\n",
       "<path fill=\"none\" stroke=\"#000000\" d=\"M240.5,-152.9748C240.5,-146.195 240.5,-135.966 240.5,-127.1331\"/>\n",
       "<polygon fill=\"#000000\" stroke=\"#000000\" points=\"244.0001,-127.0561 240.5,-117.0561 237.0001,-127.0561 244.0001,-127.0561\"/>\n",
       "</g>\n",
       "</g>\n",
       "</svg>\n"
      ],
      "text/plain": [
       "<graphviz.dot.Digraph at 0x113fe8b70>"
      ]
     },
     "metadata": {},
     "output_type": "display_data"
    }
   ],
   "source": [
    "mystring = '(1+24)-33'\n",
    "parser = EarleyParser(A3_GRAMMAR)\n",
    "for tree in parser.parse(mystring):\n",
    "    assert tree_to_string(tree) == mystring\n",
    "    display_tree(tree)"
   ]
  },
  {
   "cell_type": "markdown",
   "metadata": {
    "slideshow": {
     "slide_type": "fragment"
    }
   },
   "source": [
    "We now have a complete parser that can parse almost arbitrary *CFG*. There remains a small corner to fix -- the case of epsilon rules as we will see later."
   ]
  },
  {
   "cell_type": "markdown",
   "metadata": {
    "slideshow": {
     "slide_type": "skip"
    }
   },
   "source": [
    "### Ambiguous Parsing"
   ]
  },
  {
   "cell_type": "markdown",
   "metadata": {
    "slideshow": {
     "slide_type": "skip"
    }
   },
   "source": [
    "Ambiguous grammars are grammars that can produce multiple derivation trees for some given string. For example, the `A3_GRAMMAR` can parse `1+2+3` in two different ways – `[1+2]+3` and `1+[2+3]`.\n",
    "\n",
    "Extracting a single tree might be reasonable for unambiguous parses. However, what if the given grammar produces ambiguity when given a string? We need to extract all derivation trees in that case. We enhance our `extract_trees()` method to extract multiple derivation trees."
   ]
  },
  {
   "cell_type": "code",
   "execution_count": 128,
   "metadata": {
    "slideshow": {
     "slide_type": "subslide"
    }
   },
   "outputs": [],
   "source": [
    "class EarleyParser(EarleyParser):\n",
    "    def extract_trees(self, forest_node):\n",
    "        name, paths = forest_node\n",
    "        if not paths:\n",
    "            return [(name, [])]\n",
    "        results = []\n",
    "        for path in paths:\n",
    "            ptrees = zip(*[self.extract_trees(p) for p in path])\n",
    "            results.extend([(name, p) for p in ptrees])\n",
    "        return results"
   ]
  },
  {
   "cell_type": "markdown",
   "metadata": {
    "slideshow": {
     "slide_type": "skip"
    }
   },
   "source": [
    "As before, we verify that everything works."
   ]
  },
  {
   "cell_type": "code",
   "execution_count": 129,
   "metadata": {
    "slideshow": {
     "slide_type": "skip"
    }
   },
   "outputs": [
    {
     "data": {
      "image/svg+xml": [
       "<?xml version=\"1.0\" encoding=\"UTF-8\" standalone=\"no\"?>\n",
       "<!DOCTYPE svg PUBLIC \"-//W3C//DTD SVG 1.1//EN\"\n",
       " \"http://www.w3.org/Graphics/SVG/1.1/DTD/svg11.dtd\">\n",
       "<!-- Generated by graphviz version 2.40.1 (20161225.0304)\n",
       " -->\n",
       "<!-- Title: %3 Pages: 1 -->\n",
       "<svg width=\"363pt\" height=\"380pt\"\n",
       " viewBox=\"0.00 0.00 362.50 380.00\" xmlns=\"http://www.w3.org/2000/svg\" xmlns:xlink=\"http://www.w3.org/1999/xlink\">\n",
       "<g id=\"graph0\" class=\"graph\" transform=\"scale(1 1) rotate(0) translate(4 376)\">\n",
       "<title>%3</title>\n",
       "<polygon fill=\"#ffffff\" stroke=\"transparent\" points=\"-4,4 -4,-376 358.5,-376 358.5,4 -4,4\"/>\n",
       "<!-- 0 -->\n",
       "<g id=\"node1\" class=\"node\">\n",
       "<title>0</title>\n",
       "<text text-anchor=\"middle\" x=\"210\" y=\"-360.8\" font-family=\"Times,serif\" font-size=\"14.00\" fill=\"#000000\">&lt;start&gt;</text>\n",
       "</g>\n",
       "<!-- 1 -->\n",
       "<g id=\"node2\" class=\"node\">\n",
       "<title>1</title>\n",
       "<text text-anchor=\"middle\" x=\"210\" y=\"-309.8\" font-family=\"Times,serif\" font-size=\"14.00\" fill=\"#000000\">&lt;expr&gt;</text>\n",
       "</g>\n",
       "<!-- 0&#45;&gt;1 -->\n",
       "<g id=\"edge1\" class=\"edge\">\n",
       "<title>0&#45;&gt;1</title>\n",
       "<path fill=\"none\" stroke=\"#000000\" d=\"M210,-356.9748C210,-350.195 210,-339.966 210,-331.1331\"/>\n",
       "<polygon fill=\"#000000\" stroke=\"#000000\" points=\"213.5001,-331.0561 210,-321.0561 206.5001,-331.0561 213.5001,-331.0561\"/>\n",
       "</g>\n",
       "<!-- 2 -->\n",
       "<g id=\"node3\" class=\"node\">\n",
       "<title>2</title>\n",
       "<text text-anchor=\"middle\" x=\"162\" y=\"-258.8\" font-family=\"Times,serif\" font-size=\"14.00\" fill=\"#000000\">&lt;expr&gt;</text>\n",
       "</g>\n",
       "<!-- 1&#45;&gt;2 -->\n",
       "<g id=\"edge2\" class=\"edge\">\n",
       "<title>1&#45;&gt;2</title>\n",
       "<path fill=\"none\" stroke=\"#000000\" d=\"M202.9174,-305.9748C195.8983,-298.517 184.9513,-286.8857 176.1459,-277.53\"/>\n",
       "<polygon fill=\"#000000\" stroke=\"#000000\" points=\"178.514,-274.9393 169.1116,-270.0561 173.4166,-279.7369 178.514,-274.9393\"/>\n",
       "</g>\n",
       "<!-- 18 -->\n",
       "<g id=\"node19\" class=\"node\">\n",
       "<title>18</title>\n",
       "<text text-anchor=\"middle\" x=\"210\" y=\"-258.8\" font-family=\"Times,serif\" font-size=\"14.00\" fill=\"#000000\">&#45;</text>\n",
       "</g>\n",
       "<!-- 1&#45;&gt;18 -->\n",
       "<g id=\"edge18\" class=\"edge\">\n",
       "<title>1&#45;&gt;18</title>\n",
       "<path fill=\"none\" stroke=\"#000000\" d=\"M210,-305.9748C210,-299.195 210,-288.966 210,-280.1331\"/>\n",
       "<polygon fill=\"#000000\" stroke=\"#000000\" points=\"213.5001,-280.0561 210,-270.0561 206.5001,-280.0561 213.5001,-280.0561\"/>\n",
       "</g>\n",
       "<!-- 19 -->\n",
       "<g id=\"node20\" class=\"node\">\n",
       "<title>19</title>\n",
       "<text text-anchor=\"middle\" x=\"254\" y=\"-258.8\" font-family=\"Times,serif\" font-size=\"14.00\" fill=\"#000000\">&lt;expr&gt;</text>\n",
       "</g>\n",
       "<!-- 1&#45;&gt;19 -->\n",
       "<g id=\"edge19\" class=\"edge\">\n",
       "<title>1&#45;&gt;19</title>\n",
       "<path fill=\"none\" stroke=\"#000000\" d=\"M216.4924,-305.9748C222.8615,-298.5923 232.759,-287.1203 240.7878,-277.8142\"/>\n",
       "<polygon fill=\"#000000\" stroke=\"#000000\" points=\"243.5987,-279.914 247.481,-270.0561 238.2986,-275.3414 243.5987,-279.914\"/>\n",
       "</g>\n",
       "<!-- 3 -->\n",
       "<g id=\"node4\" class=\"node\">\n",
       "<title>3</title>\n",
       "<text text-anchor=\"middle\" x=\"102\" y=\"-207.8\" font-family=\"Times,serif\" font-size=\"14.00\" fill=\"#000000\">&lt;expr&gt;</text>\n",
       "</g>\n",
       "<!-- 2&#45;&gt;3 -->\n",
       "<g id=\"edge3\" class=\"edge\">\n",
       "<title>2&#45;&gt;3</title>\n",
       "<path fill=\"none\" stroke=\"#000000\" d=\"M153.1468,-254.9748C144.1071,-247.291 129.8553,-235.177 118.6893,-225.6859\"/>\n",
       "<polygon fill=\"#000000\" stroke=\"#000000\" points=\"120.7757,-222.8658 110.8895,-219.0561 116.2422,-228.1994 120.7757,-222.8658\"/>\n",
       "</g>\n",
       "<!-- 10 -->\n",
       "<g id=\"node11\" class=\"node\">\n",
       "<title>10</title>\n",
       "<text text-anchor=\"middle\" x=\"148\" y=\"-207.8\" font-family=\"Times,serif\" font-size=\"14.00\" fill=\"#000000\">+</text>\n",
       "</g>\n",
       "<!-- 2&#45;&gt;10 -->\n",
       "<g id=\"edge10\" class=\"edge\">\n",
       "<title>2&#45;&gt;10</title>\n",
       "<path fill=\"none\" stroke=\"#000000\" d=\"M159.9343,-254.9748C158.0524,-248.1196 155.2027,-237.7383 152.7598,-228.8392\"/>\n",
       "<polygon fill=\"#000000\" stroke=\"#000000\" points=\"156.0966,-227.7728 150.0742,-219.0561 149.3463,-229.6259 156.0966,-227.7728\"/>\n",
       "</g>\n",
       "<!-- 11 -->\n",
       "<g id=\"node12\" class=\"node\">\n",
       "<title>11</title>\n",
       "<text text-anchor=\"middle\" x=\"191\" y=\"-207.8\" font-family=\"Times,serif\" font-size=\"14.00\" fill=\"#000000\">&lt;expr&gt;</text>\n",
       "</g>\n",
       "<!-- 2&#45;&gt;11 -->\n",
       "<g id=\"edge11\" class=\"edge\">\n",
       "<title>2&#45;&gt;11</title>\n",
       "<path fill=\"none\" stroke=\"#000000\" d=\"M166.279,-254.9748C170.3056,-247.8936 176.4716,-237.05 181.6381,-227.9641\"/>\n",
       "<polygon fill=\"#000000\" stroke=\"#000000\" points=\"184.8028,-229.4791 186.7034,-219.0561 178.7178,-226.0189 184.8028,-229.4791\"/>\n",
       "</g>\n",
       "<!-- 4 -->\n",
       "<g id=\"node5\" class=\"node\">\n",
       "<title>4</title>\n",
       "<text text-anchor=\"middle\" x=\"88\" y=\"-156.8\" font-family=\"Times,serif\" font-size=\"14.00\" fill=\"#000000\">&lt;integer&gt;</text>\n",
       "</g>\n",
       "<!-- 3&#45;&gt;4 -->\n",
       "<g id=\"edge4\" class=\"edge\">\n",
       "<title>3&#45;&gt;4</title>\n",
       "<path fill=\"none\" stroke=\"#000000\" d=\"M99.9343,-203.9748C98.0524,-197.1196 95.2027,-186.7383 92.7598,-177.8392\"/>\n",
       "<polygon fill=\"#000000\" stroke=\"#000000\" points=\"96.0966,-176.7728 90.0742,-168.0561 89.3463,-178.6259 96.0966,-176.7728\"/>\n",
       "</g>\n",
       "<!-- 5 -->\n",
       "<g id=\"node6\" class=\"node\">\n",
       "<title>5</title>\n",
       "<text text-anchor=\"middle\" x=\"21\" y=\"-105.8\" font-family=\"Times,serif\" font-size=\"14.00\" fill=\"#000000\">&lt;digit&gt;</text>\n",
       "</g>\n",
       "<!-- 4&#45;&gt;5 -->\n",
       "<g id=\"edge5\" class=\"edge\">\n",
       "<title>4&#45;&gt;5</title>\n",
       "<path fill=\"none\" stroke=\"#000000\" d=\"M78.1139,-152.9748C67.8216,-145.1403 51.4787,-132.7002 38.907,-123.1307\"/>\n",
       "<polygon fill=\"#000000\" stroke=\"#000000\" points=\"41.0036,-120.328 30.9266,-117.0561 36.7638,-125.898 41.0036,-120.328\"/>\n",
       "</g>\n",
       "<!-- 7 -->\n",
       "<g id=\"node8\" class=\"node\">\n",
       "<title>7</title>\n",
       "<text text-anchor=\"middle\" x=\"88\" y=\"-105.8\" font-family=\"Times,serif\" font-size=\"14.00\" fill=\"#000000\">&lt;integer&gt;</text>\n",
       "</g>\n",
       "<!-- 4&#45;&gt;7 -->\n",
       "<g id=\"edge7\" class=\"edge\">\n",
       "<title>4&#45;&gt;7</title>\n",
       "<path fill=\"none\" stroke=\"#000000\" d=\"M88,-152.9748C88,-146.195 88,-135.966 88,-127.1331\"/>\n",
       "<polygon fill=\"#000000\" stroke=\"#000000\" points=\"91.5001,-127.0561 88,-117.0561 84.5001,-127.0561 91.5001,-127.0561\"/>\n",
       "</g>\n",
       "<!-- 6 -->\n",
       "<g id=\"node7\" class=\"node\">\n",
       "<title>6</title>\n",
       "<text text-anchor=\"middle\" x=\"21\" y=\"-54.8\" font-family=\"Times,serif\" font-size=\"14.00\" fill=\"#000000\">1</text>\n",
       "</g>\n",
       "<!-- 5&#45;&gt;6 -->\n",
       "<g id=\"edge6\" class=\"edge\">\n",
       "<title>5&#45;&gt;6</title>\n",
       "<path fill=\"none\" stroke=\"#000000\" d=\"M21,-101.9748C21,-95.195 21,-84.966 21,-76.1331\"/>\n",
       "<polygon fill=\"#000000\" stroke=\"#000000\" points=\"24.5001,-76.0561 21,-66.0561 17.5001,-76.0561 24.5001,-76.0561\"/>\n",
       "</g>\n",
       "<!-- 8 -->\n",
       "<g id=\"node9\" class=\"node\">\n",
       "<title>8</title>\n",
       "<text text-anchor=\"middle\" x=\"88\" y=\"-54.8\" font-family=\"Times,serif\" font-size=\"14.00\" fill=\"#000000\">&lt;digit&gt;</text>\n",
       "</g>\n",
       "<!-- 7&#45;&gt;8 -->\n",
       "<g id=\"edge8\" class=\"edge\">\n",
       "<title>7&#45;&gt;8</title>\n",
       "<path fill=\"none\" stroke=\"#000000\" d=\"M88,-101.9748C88,-95.195 88,-84.966 88,-76.1331\"/>\n",
       "<polygon fill=\"#000000\" stroke=\"#000000\" points=\"91.5001,-76.0561 88,-66.0561 84.5001,-76.0561 91.5001,-76.0561\"/>\n",
       "</g>\n",
       "<!-- 9 -->\n",
       "<g id=\"node10\" class=\"node\">\n",
       "<title>9</title>\n",
       "<text text-anchor=\"middle\" x=\"88\" y=\"-3.8\" font-family=\"Times,serif\" font-size=\"14.00\" fill=\"#000000\">2</text>\n",
       "</g>\n",
       "<!-- 8&#45;&gt;9 -->\n",
       "<g id=\"edge9\" class=\"edge\">\n",
       "<title>8&#45;&gt;9</title>\n",
       "<path fill=\"none\" stroke=\"#000000\" d=\"M88,-50.9748C88,-44.195 88,-33.966 88,-25.1331\"/>\n",
       "<polygon fill=\"#000000\" stroke=\"#000000\" points=\"91.5001,-25.0561 88,-15.0561 84.5001,-25.0561 91.5001,-25.0561\"/>\n",
       "</g>\n",
       "<!-- 12 -->\n",
       "<g id=\"node13\" class=\"node\">\n",
       "<title>12</title>\n",
       "<text text-anchor=\"middle\" x=\"191\" y=\"-156.8\" font-family=\"Times,serif\" font-size=\"14.00\" fill=\"#000000\">&lt;integer&gt;</text>\n",
       "</g>\n",
       "<!-- 11&#45;&gt;12 -->\n",
       "<g id=\"edge12\" class=\"edge\">\n",
       "<title>11&#45;&gt;12</title>\n",
       "<path fill=\"none\" stroke=\"#000000\" d=\"M191,-203.9748C191,-197.195 191,-186.966 191,-178.1331\"/>\n",
       "<polygon fill=\"#000000\" stroke=\"#000000\" points=\"194.5001,-178.0561 191,-168.0561 187.5001,-178.0561 194.5001,-178.0561\"/>\n",
       "</g>\n",
       "<!-- 13 -->\n",
       "<g id=\"node14\" class=\"node\">\n",
       "<title>13</title>\n",
       "<text text-anchor=\"middle\" x=\"155\" y=\"-105.8\" font-family=\"Times,serif\" font-size=\"14.00\" fill=\"#000000\">&lt;digit&gt;</text>\n",
       "</g>\n",
       "<!-- 12&#45;&gt;13 -->\n",
       "<g id=\"edge13\" class=\"edge\">\n",
       "<title>12&#45;&gt;13</title>\n",
       "<path fill=\"none\" stroke=\"#000000\" d=\"M185.6881,-152.9748C180.5833,-145.743 172.7084,-134.5868 166.2141,-125.3866\"/>\n",
       "<polygon fill=\"#000000\" stroke=\"#000000\" points=\"168.96,-123.2074 160.3337,-117.0561 163.2412,-127.2442 168.96,-123.2074\"/>\n",
       "</g>\n",
       "<!-- 15 -->\n",
       "<g id=\"node16\" class=\"node\">\n",
       "<title>15</title>\n",
       "<text text-anchor=\"middle\" x=\"222\" y=\"-105.8\" font-family=\"Times,serif\" font-size=\"14.00\" fill=\"#000000\">&lt;integer&gt;</text>\n",
       "</g>\n",
       "<!-- 12&#45;&gt;15 -->\n",
       "<g id=\"edge15\" class=\"edge\">\n",
       "<title>12&#45;&gt;15</title>\n",
       "<path fill=\"none\" stroke=\"#000000\" d=\"M195.5742,-152.9748C199.9242,-145.8183 206.6101,-134.8188 212.1683,-125.6747\"/>\n",
       "<polygon fill=\"#000000\" stroke=\"#000000\" points=\"215.2037,-127.4193 217.4071,-117.0561 209.222,-123.7834 215.2037,-127.4193\"/>\n",
       "</g>\n",
       "<!-- 14 -->\n",
       "<g id=\"node15\" class=\"node\">\n",
       "<title>14</title>\n",
       "<text text-anchor=\"middle\" x=\"155\" y=\"-54.8\" font-family=\"Times,serif\" font-size=\"14.00\" fill=\"#000000\">2</text>\n",
       "</g>\n",
       "<!-- 13&#45;&gt;14 -->\n",
       "<g id=\"edge14\" class=\"edge\">\n",
       "<title>13&#45;&gt;14</title>\n",
       "<path fill=\"none\" stroke=\"#000000\" d=\"M155,-101.9748C155,-95.195 155,-84.966 155,-76.1331\"/>\n",
       "<polygon fill=\"#000000\" stroke=\"#000000\" points=\"158.5001,-76.0561 155,-66.0561 151.5001,-76.0561 158.5001,-76.0561\"/>\n",
       "</g>\n",
       "<!-- 16 -->\n",
       "<g id=\"node17\" class=\"node\">\n",
       "<title>16</title>\n",
       "<text text-anchor=\"middle\" x=\"222\" y=\"-54.8\" font-family=\"Times,serif\" font-size=\"14.00\" fill=\"#000000\">&lt;digit&gt;</text>\n",
       "</g>\n",
       "<!-- 15&#45;&gt;16 -->\n",
       "<g id=\"edge16\" class=\"edge\">\n",
       "<title>15&#45;&gt;16</title>\n",
       "<path fill=\"none\" stroke=\"#000000\" d=\"M222,-101.9748C222,-95.195 222,-84.966 222,-76.1331\"/>\n",
       "<polygon fill=\"#000000\" stroke=\"#000000\" points=\"225.5001,-76.0561 222,-66.0561 218.5001,-76.0561 225.5001,-76.0561\"/>\n",
       "</g>\n",
       "<!-- 17 -->\n",
       "<g id=\"node18\" class=\"node\">\n",
       "<title>17</title>\n",
       "<text text-anchor=\"middle\" x=\"222\" y=\"-3.8\" font-family=\"Times,serif\" font-size=\"14.00\" fill=\"#000000\">3</text>\n",
       "</g>\n",
       "<!-- 16&#45;&gt;17 -->\n",
       "<g id=\"edge17\" class=\"edge\">\n",
       "<title>16&#45;&gt;17</title>\n",
       "<path fill=\"none\" stroke=\"#000000\" d=\"M222,-50.9748C222,-44.195 222,-33.966 222,-25.1331\"/>\n",
       "<polygon fill=\"#000000\" stroke=\"#000000\" points=\"225.5001,-25.0561 222,-15.0561 218.5001,-25.0561 225.5001,-25.0561\"/>\n",
       "</g>\n",
       "<!-- 20 -->\n",
       "<g id=\"node21\" class=\"node\">\n",
       "<title>20</title>\n",
       "<text text-anchor=\"middle\" x=\"260\" y=\"-207.8\" font-family=\"Times,serif\" font-size=\"14.00\" fill=\"#000000\">&lt;integer&gt;</text>\n",
       "</g>\n",
       "<!-- 19&#45;&gt;20 -->\n",
       "<g id=\"edge20\" class=\"edge\">\n",
       "<title>19&#45;&gt;20</title>\n",
       "<path fill=\"none\" stroke=\"#000000\" d=\"M254.8853,-254.9748C255.6829,-248.195 256.8864,-237.966 257.9255,-229.1331\"/>\n",
       "<polygon fill=\"#000000\" stroke=\"#000000\" points=\"261.4186,-229.3966 259.111,-219.0561 254.4665,-228.5786 261.4186,-229.3966\"/>\n",
       "</g>\n",
       "<!-- 21 -->\n",
       "<g id=\"node22\" class=\"node\">\n",
       "<title>21</title>\n",
       "<text text-anchor=\"middle\" x=\"260\" y=\"-156.8\" font-family=\"Times,serif\" font-size=\"14.00\" fill=\"#000000\">&lt;digit&gt;</text>\n",
       "</g>\n",
       "<!-- 20&#45;&gt;21 -->\n",
       "<g id=\"edge21\" class=\"edge\">\n",
       "<title>20&#45;&gt;21</title>\n",
       "<path fill=\"none\" stroke=\"#000000\" d=\"M260,-203.9748C260,-197.195 260,-186.966 260,-178.1331\"/>\n",
       "<polygon fill=\"#000000\" stroke=\"#000000\" points=\"263.5001,-178.0561 260,-168.0561 256.5001,-178.0561 263.5001,-178.0561\"/>\n",
       "</g>\n",
       "<!-- 23 -->\n",
       "<g id=\"node24\" class=\"node\">\n",
       "<title>23</title>\n",
       "<text text-anchor=\"middle\" x=\"327\" y=\"-156.8\" font-family=\"Times,serif\" font-size=\"14.00\" fill=\"#000000\">&lt;integer&gt;</text>\n",
       "</g>\n",
       "<!-- 20&#45;&gt;23 -->\n",
       "<g id=\"edge23\" class=\"edge\">\n",
       "<title>20&#45;&gt;23</title>\n",
       "<path fill=\"none\" stroke=\"#000000\" d=\"M269.8861,-203.9748C280.1784,-196.1403 296.5213,-183.7002 309.093,-174.1307\"/>\n",
       "<polygon fill=\"#000000\" stroke=\"#000000\" points=\"311.2362,-176.898 317.0734,-168.0561 306.9964,-171.328 311.2362,-176.898\"/>\n",
       "</g>\n",
       "<!-- 22 -->\n",
       "<g id=\"node23\" class=\"node\">\n",
       "<title>22</title>\n",
       "<text text-anchor=\"middle\" x=\"272\" y=\"-105.8\" font-family=\"Times,serif\" font-size=\"14.00\" fill=\"#000000\">3</text>\n",
       "</g>\n",
       "<!-- 21&#45;&gt;22 -->\n",
       "<g id=\"edge22\" class=\"edge\">\n",
       "<title>21&#45;&gt;22</title>\n",
       "<path fill=\"none\" stroke=\"#000000\" d=\"M261.7706,-152.9748C263.3836,-146.1196 265.8263,-135.7383 267.9202,-126.8392\"/>\n",
       "<polygon fill=\"#000000\" stroke=\"#000000\" points=\"271.3386,-127.5919 270.2221,-117.0561 264.5247,-125.9886 271.3386,-127.5919\"/>\n",
       "</g>\n",
       "<!-- 24 -->\n",
       "<g id=\"node25\" class=\"node\">\n",
       "<title>24</title>\n",
       "<text text-anchor=\"middle\" x=\"327\" y=\"-105.8\" font-family=\"Times,serif\" font-size=\"14.00\" fill=\"#000000\">&lt;digit&gt;</text>\n",
       "</g>\n",
       "<!-- 23&#45;&gt;24 -->\n",
       "<g id=\"edge24\" class=\"edge\">\n",
       "<title>23&#45;&gt;24</title>\n",
       "<path fill=\"none\" stroke=\"#000000\" d=\"M327,-152.9748C327,-146.195 327,-135.966 327,-127.1331\"/>\n",
       "<polygon fill=\"#000000\" stroke=\"#000000\" points=\"330.5001,-127.0561 327,-117.0561 323.5001,-127.0561 330.5001,-127.0561\"/>\n",
       "</g>\n",
       "<!-- 25 -->\n",
       "<g id=\"node26\" class=\"node\">\n",
       "<title>25</title>\n",
       "<text text-anchor=\"middle\" x=\"327\" y=\"-54.8\" font-family=\"Times,serif\" font-size=\"14.00\" fill=\"#000000\">4</text>\n",
       "</g>\n",
       "<!-- 24&#45;&gt;25 -->\n",
       "<g id=\"edge25\" class=\"edge\">\n",
       "<title>24&#45;&gt;25</title>\n",
       "<path fill=\"none\" stroke=\"#000000\" d=\"M327,-101.9748C327,-95.195 327,-84.966 327,-76.1331\"/>\n",
       "<polygon fill=\"#000000\" stroke=\"#000000\" points=\"330.5001,-76.0561 327,-66.0561 323.5001,-76.0561 330.5001,-76.0561\"/>\n",
       "</g>\n",
       "</g>\n",
       "</svg>\n"
      ],
      "text/plain": [
       "<graphviz.dot.Digraph at 0x1142cbf98>"
      ]
     },
     "metadata": {},
     "output_type": "display_data"
    },
    {
     "data": {
      "image/svg+xml": [
       "<?xml version=\"1.0\" encoding=\"UTF-8\" standalone=\"no\"?>\n",
       "<!DOCTYPE svg PUBLIC \"-//W3C//DTD SVG 1.1//EN\"\n",
       " \"http://www.w3.org/Graphics/SVG/1.1/DTD/svg11.dtd\">\n",
       "<!-- Generated by graphviz version 2.40.1 (20161225.0304)\n",
       " -->\n",
       "<!-- Title: %3 Pages: 1 -->\n",
       "<svg width=\"373pt\" height=\"380pt\"\n",
       " viewBox=\"0.00 0.00 372.50 380.00\" xmlns=\"http://www.w3.org/2000/svg\" xmlns:xlink=\"http://www.w3.org/1999/xlink\">\n",
       "<g id=\"graph0\" class=\"graph\" transform=\"scale(1 1) rotate(0) translate(4 376)\">\n",
       "<title>%3</title>\n",
       "<polygon fill=\"#ffffff\" stroke=\"transparent\" points=\"-4,4 -4,-376 368.5,-376 368.5,4 -4,4\"/>\n",
       "<!-- 0 -->\n",
       "<g id=\"node1\" class=\"node\">\n",
       "<title>0</title>\n",
       "<text text-anchor=\"middle\" x=\"152\" y=\"-360.8\" font-family=\"Times,serif\" font-size=\"14.00\" fill=\"#000000\">&lt;start&gt;</text>\n",
       "</g>\n",
       "<!-- 1 -->\n",
       "<g id=\"node2\" class=\"node\">\n",
       "<title>1</title>\n",
       "<text text-anchor=\"middle\" x=\"152\" y=\"-309.8\" font-family=\"Times,serif\" font-size=\"14.00\" fill=\"#000000\">&lt;expr&gt;</text>\n",
       "</g>\n",
       "<!-- 0&#45;&gt;1 -->\n",
       "<g id=\"edge1\" class=\"edge\">\n",
       "<title>0&#45;&gt;1</title>\n",
       "<path fill=\"none\" stroke=\"#000000\" d=\"M152,-356.9748C152,-350.195 152,-339.966 152,-331.1331\"/>\n",
       "<polygon fill=\"#000000\" stroke=\"#000000\" points=\"155.5001,-331.0561 152,-321.0561 148.5001,-331.0561 155.5001,-331.0561\"/>\n",
       "</g>\n",
       "<!-- 2 -->\n",
       "<g id=\"node3\" class=\"node\">\n",
       "<title>2</title>\n",
       "<text text-anchor=\"middle\" x=\"102\" y=\"-258.8\" font-family=\"Times,serif\" font-size=\"14.00\" fill=\"#000000\">&lt;expr&gt;</text>\n",
       "</g>\n",
       "<!-- 1&#45;&gt;2 -->\n",
       "<g id=\"edge2\" class=\"edge\">\n",
       "<title>1&#45;&gt;2</title>\n",
       "<path fill=\"none\" stroke=\"#000000\" d=\"M144.6223,-305.9748C137.2369,-298.4417 125.6768,-286.6503 116.458,-277.2472\"/>\n",
       "<polygon fill=\"#000000\" stroke=\"#000000\" points=\"118.9079,-274.7466 109.4079,-270.0561 113.9094,-279.6471 118.9079,-274.7466\"/>\n",
       "</g>\n",
       "<!-- 9 -->\n",
       "<g id=\"node10\" class=\"node\">\n",
       "<title>9</title>\n",
       "<text text-anchor=\"middle\" x=\"152\" y=\"-258.8\" font-family=\"Times,serif\" font-size=\"14.00\" fill=\"#000000\">+</text>\n",
       "</g>\n",
       "<!-- 1&#45;&gt;9 -->\n",
       "<g id=\"edge9\" class=\"edge\">\n",
       "<title>1&#45;&gt;9</title>\n",
       "<path fill=\"none\" stroke=\"#000000\" d=\"M152,-305.9748C152,-299.195 152,-288.966 152,-280.1331\"/>\n",
       "<polygon fill=\"#000000\" stroke=\"#000000\" points=\"155.5001,-280.0561 152,-270.0561 148.5001,-280.0561 155.5001,-280.0561\"/>\n",
       "</g>\n",
       "<!-- 10 -->\n",
       "<g id=\"node11\" class=\"node\">\n",
       "<title>10</title>\n",
       "<text text-anchor=\"middle\" x=\"198\" y=\"-258.8\" font-family=\"Times,serif\" font-size=\"14.00\" fill=\"#000000\">&lt;expr&gt;</text>\n",
       "</g>\n",
       "<!-- 1&#45;&gt;10 -->\n",
       "<g id=\"edge10\" class=\"edge\">\n",
       "<title>1&#45;&gt;10</title>\n",
       "<path fill=\"none\" stroke=\"#000000\" d=\"M158.7875,-305.9748C165.5141,-298.517 176.005,-286.8857 184.4436,-277.53\"/>\n",
       "<polygon fill=\"#000000\" stroke=\"#000000\" points=\"187.086,-279.826 191.1847,-270.0561 181.888,-275.1376 187.086,-279.826\"/>\n",
       "</g>\n",
       "<!-- 3 -->\n",
       "<g id=\"node4\" class=\"node\">\n",
       "<title>3</title>\n",
       "<text text-anchor=\"middle\" x=\"88\" y=\"-207.8\" font-family=\"Times,serif\" font-size=\"14.00\" fill=\"#000000\">&lt;integer&gt;</text>\n",
       "</g>\n",
       "<!-- 2&#45;&gt;3 -->\n",
       "<g id=\"edge3\" class=\"edge\">\n",
       "<title>2&#45;&gt;3</title>\n",
       "<path fill=\"none\" stroke=\"#000000\" d=\"M99.9343,-254.9748C98.0524,-248.1196 95.2027,-237.7383 92.7598,-228.8392\"/>\n",
       "<polygon fill=\"#000000\" stroke=\"#000000\" points=\"96.0966,-227.7728 90.0742,-219.0561 89.3463,-229.6259 96.0966,-227.7728\"/>\n",
       "</g>\n",
       "<!-- 4 -->\n",
       "<g id=\"node5\" class=\"node\">\n",
       "<title>4</title>\n",
       "<text text-anchor=\"middle\" x=\"21\" y=\"-156.8\" font-family=\"Times,serif\" font-size=\"14.00\" fill=\"#000000\">&lt;digit&gt;</text>\n",
       "</g>\n",
       "<!-- 3&#45;&gt;4 -->\n",
       "<g id=\"edge4\" class=\"edge\">\n",
       "<title>3&#45;&gt;4</title>\n",
       "<path fill=\"none\" stroke=\"#000000\" d=\"M78.1139,-203.9748C67.8216,-196.1403 51.4787,-183.7002 38.907,-174.1307\"/>\n",
       "<polygon fill=\"#000000\" stroke=\"#000000\" points=\"41.0036,-171.328 30.9266,-168.0561 36.7638,-176.898 41.0036,-171.328\"/>\n",
       "</g>\n",
       "<!-- 6 -->\n",
       "<g id=\"node7\" class=\"node\">\n",
       "<title>6</title>\n",
       "<text text-anchor=\"middle\" x=\"88\" y=\"-156.8\" font-family=\"Times,serif\" font-size=\"14.00\" fill=\"#000000\">&lt;integer&gt;</text>\n",
       "</g>\n",
       "<!-- 3&#45;&gt;6 -->\n",
       "<g id=\"edge6\" class=\"edge\">\n",
       "<title>3&#45;&gt;6</title>\n",
       "<path fill=\"none\" stroke=\"#000000\" d=\"M88,-203.9748C88,-197.195 88,-186.966 88,-178.1331\"/>\n",
       "<polygon fill=\"#000000\" stroke=\"#000000\" points=\"91.5001,-178.0561 88,-168.0561 84.5001,-178.0561 91.5001,-178.0561\"/>\n",
       "</g>\n",
       "<!-- 5 -->\n",
       "<g id=\"node6\" class=\"node\">\n",
       "<title>5</title>\n",
       "<text text-anchor=\"middle\" x=\"21\" y=\"-105.8\" font-family=\"Times,serif\" font-size=\"14.00\" fill=\"#000000\">1</text>\n",
       "</g>\n",
       "<!-- 4&#45;&gt;5 -->\n",
       "<g id=\"edge5\" class=\"edge\">\n",
       "<title>4&#45;&gt;5</title>\n",
       "<path fill=\"none\" stroke=\"#000000\" d=\"M21,-152.9748C21,-146.195 21,-135.966 21,-127.1331\"/>\n",
       "<polygon fill=\"#000000\" stroke=\"#000000\" points=\"24.5001,-127.0561 21,-117.0561 17.5001,-127.0561 24.5001,-127.0561\"/>\n",
       "</g>\n",
       "<!-- 7 -->\n",
       "<g id=\"node8\" class=\"node\">\n",
       "<title>7</title>\n",
       "<text text-anchor=\"middle\" x=\"76\" y=\"-105.8\" font-family=\"Times,serif\" font-size=\"14.00\" fill=\"#000000\">&lt;digit&gt;</text>\n",
       "</g>\n",
       "<!-- 6&#45;&gt;7 -->\n",
       "<g id=\"edge7\" class=\"edge\">\n",
       "<title>6&#45;&gt;7</title>\n",
       "<path fill=\"none\" stroke=\"#000000\" d=\"M86.2294,-152.9748C84.6164,-146.1196 82.1737,-135.7383 80.0798,-126.8392\"/>\n",
       "<polygon fill=\"#000000\" stroke=\"#000000\" points=\"83.4753,-125.9886 77.7779,-117.0561 76.6614,-127.5919 83.4753,-125.9886\"/>\n",
       "</g>\n",
       "<!-- 8 -->\n",
       "<g id=\"node9\" class=\"node\">\n",
       "<title>8</title>\n",
       "<text text-anchor=\"middle\" x=\"76\" y=\"-54.8\" font-family=\"Times,serif\" font-size=\"14.00\" fill=\"#000000\">2</text>\n",
       "</g>\n",
       "<!-- 7&#45;&gt;8 -->\n",
       "<g id=\"edge8\" class=\"edge\">\n",
       "<title>7&#45;&gt;8</title>\n",
       "<path fill=\"none\" stroke=\"#000000\" d=\"M76,-101.9748C76,-95.195 76,-84.966 76,-76.1331\"/>\n",
       "<polygon fill=\"#000000\" stroke=\"#000000\" points=\"79.5001,-76.0561 76,-66.0561 72.5001,-76.0561 79.5001,-76.0561\"/>\n",
       "</g>\n",
       "<!-- 11 -->\n",
       "<g id=\"node12\" class=\"node\">\n",
       "<title>11</title>\n",
       "<text text-anchor=\"middle\" x=\"165\" y=\"-207.8\" font-family=\"Times,serif\" font-size=\"14.00\" fill=\"#000000\">&lt;expr&gt;</text>\n",
       "</g>\n",
       "<!-- 10&#45;&gt;11 -->\n",
       "<g id=\"edge11\" class=\"edge\">\n",
       "<title>10&#45;&gt;11</title>\n",
       "<path fill=\"none\" stroke=\"#000000\" d=\"M193.1307,-254.9748C188.5001,-247.8183 181.3828,-236.8188 175.466,-227.6747\"/>\n",
       "<polygon fill=\"#000000\" stroke=\"#000000\" points=\"178.2603,-225.5504 169.8892,-219.0561 172.3833,-229.3532 178.2603,-225.5504\"/>\n",
       "</g>\n",
       "<!-- 18 -->\n",
       "<g id=\"node19\" class=\"node\">\n",
       "<title>18</title>\n",
       "<text text-anchor=\"middle\" x=\"206\" y=\"-207.8\" font-family=\"Times,serif\" font-size=\"14.00\" fill=\"#000000\">&#45;</text>\n",
       "</g>\n",
       "<!-- 10&#45;&gt;18 -->\n",
       "<g id=\"edge18\" class=\"edge\">\n",
       "<title>10&#45;&gt;18</title>\n",
       "<path fill=\"none\" stroke=\"#000000\" d=\"M199.1804,-254.9748C200.2439,-248.195 201.8485,-237.966 203.234,-229.1331\"/>\n",
       "<polygon fill=\"#000000\" stroke=\"#000000\" points=\"206.7227,-229.4777 204.8147,-219.0561 199.8073,-228.3929 206.7227,-229.4777\"/>\n",
       "</g>\n",
       "<!-- 19 -->\n",
       "<g id=\"node20\" class=\"node\">\n",
       "<title>19</title>\n",
       "<text text-anchor=\"middle\" x=\"254\" y=\"-207.8\" font-family=\"Times,serif\" font-size=\"14.00\" fill=\"#000000\">&lt;expr&gt;</text>\n",
       "</g>\n",
       "<!-- 10&#45;&gt;19 -->\n",
       "<g id=\"edge19\" class=\"edge\">\n",
       "<title>10&#45;&gt;19</title>\n",
       "<path fill=\"none\" stroke=\"#000000\" d=\"M206.263,-254.9748C214.6174,-247.3663 227.7414,-235.4141 238.116,-225.9658\"/>\n",
       "<polygon fill=\"#000000\" stroke=\"#000000\" points=\"240.6663,-228.3771 245.7031,-219.0561 235.953,-223.2017 240.6663,-228.3771\"/>\n",
       "</g>\n",
       "<!-- 12 -->\n",
       "<g id=\"node13\" class=\"node\">\n",
       "<title>12</title>\n",
       "<text text-anchor=\"middle\" x=\"165\" y=\"-156.8\" font-family=\"Times,serif\" font-size=\"14.00\" fill=\"#000000\">&lt;integer&gt;</text>\n",
       "</g>\n",
       "<!-- 11&#45;&gt;12 -->\n",
       "<g id=\"edge12\" class=\"edge\">\n",
       "<title>11&#45;&gt;12</title>\n",
       "<path fill=\"none\" stroke=\"#000000\" d=\"M165,-203.9748C165,-197.195 165,-186.966 165,-178.1331\"/>\n",
       "<polygon fill=\"#000000\" stroke=\"#000000\" points=\"168.5001,-178.0561 165,-168.0561 161.5001,-178.0561 168.5001,-178.0561\"/>\n",
       "</g>\n",
       "<!-- 13 -->\n",
       "<g id=\"node14\" class=\"node\">\n",
       "<title>13</title>\n",
       "<text text-anchor=\"middle\" x=\"136\" y=\"-105.8\" font-family=\"Times,serif\" font-size=\"14.00\" fill=\"#000000\">&lt;digit&gt;</text>\n",
       "</g>\n",
       "<!-- 12&#45;&gt;13 -->\n",
       "<g id=\"edge13\" class=\"edge\">\n",
       "<title>12&#45;&gt;13</title>\n",
       "<path fill=\"none\" stroke=\"#000000\" d=\"M160.721,-152.9748C156.6944,-145.8936 150.5284,-135.05 145.3619,-125.9641\"/>\n",
       "<polygon fill=\"#000000\" stroke=\"#000000\" points=\"148.2822,-124.0189 140.2966,-117.0561 142.1972,-127.4791 148.2822,-124.0189\"/>\n",
       "</g>\n",
       "<!-- 15 -->\n",
       "<g id=\"node16\" class=\"node\">\n",
       "<title>15</title>\n",
       "<text text-anchor=\"middle\" x=\"203\" y=\"-105.8\" font-family=\"Times,serif\" font-size=\"14.00\" fill=\"#000000\">&lt;integer&gt;</text>\n",
       "</g>\n",
       "<!-- 12&#45;&gt;15 -->\n",
       "<g id=\"edge15\" class=\"edge\">\n",
       "<title>12&#45;&gt;15</title>\n",
       "<path fill=\"none\" stroke=\"#000000\" d=\"M170.607,-152.9748C176.0516,-145.6677 184.4813,-134.354 191.3767,-125.0997\"/>\n",
       "<polygon fill=\"#000000\" stroke=\"#000000\" points=\"194.2017,-127.1661 197.37,-117.0561 188.5885,-122.9837 194.2017,-127.1661\"/>\n",
       "</g>\n",
       "<!-- 14 -->\n",
       "<g id=\"node15\" class=\"node\">\n",
       "<title>14</title>\n",
       "<text text-anchor=\"middle\" x=\"136\" y=\"-54.8\" font-family=\"Times,serif\" font-size=\"14.00\" fill=\"#000000\">2</text>\n",
       "</g>\n",
       "<!-- 13&#45;&gt;14 -->\n",
       "<g id=\"edge14\" class=\"edge\">\n",
       "<title>13&#45;&gt;14</title>\n",
       "<path fill=\"none\" stroke=\"#000000\" d=\"M136,-101.9748C136,-95.195 136,-84.966 136,-76.1331\"/>\n",
       "<polygon fill=\"#000000\" stroke=\"#000000\" points=\"139.5001,-76.0561 136,-66.0561 132.5001,-76.0561 139.5001,-76.0561\"/>\n",
       "</g>\n",
       "<!-- 16 -->\n",
       "<g id=\"node17\" class=\"node\">\n",
       "<title>16</title>\n",
       "<text text-anchor=\"middle\" x=\"203\" y=\"-54.8\" font-family=\"Times,serif\" font-size=\"14.00\" fill=\"#000000\">&lt;digit&gt;</text>\n",
       "</g>\n",
       "<!-- 15&#45;&gt;16 -->\n",
       "<g id=\"edge16\" class=\"edge\">\n",
       "<title>15&#45;&gt;16</title>\n",
       "<path fill=\"none\" stroke=\"#000000\" d=\"M203,-101.9748C203,-95.195 203,-84.966 203,-76.1331\"/>\n",
       "<polygon fill=\"#000000\" stroke=\"#000000\" points=\"206.5001,-76.0561 203,-66.0561 199.5001,-76.0561 206.5001,-76.0561\"/>\n",
       "</g>\n",
       "<!-- 17 -->\n",
       "<g id=\"node18\" class=\"node\">\n",
       "<title>17</title>\n",
       "<text text-anchor=\"middle\" x=\"203\" y=\"-3.8\" font-family=\"Times,serif\" font-size=\"14.00\" fill=\"#000000\">3</text>\n",
       "</g>\n",
       "<!-- 16&#45;&gt;17 -->\n",
       "<g id=\"edge17\" class=\"edge\">\n",
       "<title>16&#45;&gt;17</title>\n",
       "<path fill=\"none\" stroke=\"#000000\" d=\"M203,-50.9748C203,-44.195 203,-33.966 203,-25.1331\"/>\n",
       "<polygon fill=\"#000000\" stroke=\"#000000\" points=\"206.5001,-25.0561 203,-15.0561 199.5001,-25.0561 206.5001,-25.0561\"/>\n",
       "</g>\n",
       "<!-- 20 -->\n",
       "<g id=\"node21\" class=\"node\">\n",
       "<title>20</title>\n",
       "<text text-anchor=\"middle\" x=\"270\" y=\"-156.8\" font-family=\"Times,serif\" font-size=\"14.00\" fill=\"#000000\">&lt;integer&gt;</text>\n",
       "</g>\n",
       "<!-- 19&#45;&gt;20 -->\n",
       "<g id=\"edge20\" class=\"edge\">\n",
       "<title>19&#45;&gt;20</title>\n",
       "<path fill=\"none\" stroke=\"#000000\" d=\"M256.3609,-203.9748C258.5115,-197.1196 261.7684,-186.7383 264.5602,-177.8392\"/>\n",
       "<polygon fill=\"#000000\" stroke=\"#000000\" points=\"267.9755,-178.6453 267.6295,-168.0561 261.2965,-176.5499 267.9755,-178.6453\"/>\n",
       "</g>\n",
       "<!-- 21 -->\n",
       "<g id=\"node22\" class=\"node\">\n",
       "<title>21</title>\n",
       "<text text-anchor=\"middle\" x=\"270\" y=\"-105.8\" font-family=\"Times,serif\" font-size=\"14.00\" fill=\"#000000\">&lt;digit&gt;</text>\n",
       "</g>\n",
       "<!-- 20&#45;&gt;21 -->\n",
       "<g id=\"edge21\" class=\"edge\">\n",
       "<title>20&#45;&gt;21</title>\n",
       "<path fill=\"none\" stroke=\"#000000\" d=\"M270,-152.9748C270,-146.195 270,-135.966 270,-127.1331\"/>\n",
       "<polygon fill=\"#000000\" stroke=\"#000000\" points=\"273.5001,-127.0561 270,-117.0561 266.5001,-127.0561 273.5001,-127.0561\"/>\n",
       "</g>\n",
       "<!-- 23 -->\n",
       "<g id=\"node24\" class=\"node\">\n",
       "<title>23</title>\n",
       "<text text-anchor=\"middle\" x=\"337\" y=\"-105.8\" font-family=\"Times,serif\" font-size=\"14.00\" fill=\"#000000\">&lt;integer&gt;</text>\n",
       "</g>\n",
       "<!-- 20&#45;&gt;23 -->\n",
       "<g id=\"edge23\" class=\"edge\">\n",
       "<title>20&#45;&gt;23</title>\n",
       "<path fill=\"none\" stroke=\"#000000\" d=\"M279.8861,-152.9748C290.1784,-145.1403 306.5213,-132.7002 319.093,-123.1307\"/>\n",
       "<polygon fill=\"#000000\" stroke=\"#000000\" points=\"321.2362,-125.898 327.0734,-117.0561 316.9964,-120.328 321.2362,-125.898\"/>\n",
       "</g>\n",
       "<!-- 22 -->\n",
       "<g id=\"node23\" class=\"node\">\n",
       "<title>22</title>\n",
       "<text text-anchor=\"middle\" x=\"270\" y=\"-54.8\" font-family=\"Times,serif\" font-size=\"14.00\" fill=\"#000000\">3</text>\n",
       "</g>\n",
       "<!-- 21&#45;&gt;22 -->\n",
       "<g id=\"edge22\" class=\"edge\">\n",
       "<title>21&#45;&gt;22</title>\n",
       "<path fill=\"none\" stroke=\"#000000\" d=\"M270,-101.9748C270,-95.195 270,-84.966 270,-76.1331\"/>\n",
       "<polygon fill=\"#000000\" stroke=\"#000000\" points=\"273.5001,-76.0561 270,-66.0561 266.5001,-76.0561 273.5001,-76.0561\"/>\n",
       "</g>\n",
       "<!-- 24 -->\n",
       "<g id=\"node25\" class=\"node\">\n",
       "<title>24</title>\n",
       "<text text-anchor=\"middle\" x=\"337\" y=\"-54.8\" font-family=\"Times,serif\" font-size=\"14.00\" fill=\"#000000\">&lt;digit&gt;</text>\n",
       "</g>\n",
       "<!-- 23&#45;&gt;24 -->\n",
       "<g id=\"edge24\" class=\"edge\">\n",
       "<title>23&#45;&gt;24</title>\n",
       "<path fill=\"none\" stroke=\"#000000\" d=\"M337,-101.9748C337,-95.195 337,-84.966 337,-76.1331\"/>\n",
       "<polygon fill=\"#000000\" stroke=\"#000000\" points=\"340.5001,-76.0561 337,-66.0561 333.5001,-76.0561 340.5001,-76.0561\"/>\n",
       "</g>\n",
       "<!-- 25 -->\n",
       "<g id=\"node26\" class=\"node\">\n",
       "<title>25</title>\n",
       "<text text-anchor=\"middle\" x=\"337\" y=\"-3.8\" font-family=\"Times,serif\" font-size=\"14.00\" fill=\"#000000\">4</text>\n",
       "</g>\n",
       "<!-- 24&#45;&gt;25 -->\n",
       "<g id=\"edge25\" class=\"edge\">\n",
       "<title>24&#45;&gt;25</title>\n",
       "<path fill=\"none\" stroke=\"#000000\" d=\"M337,-50.9748C337,-44.195 337,-33.966 337,-25.1331\"/>\n",
       "<polygon fill=\"#000000\" stroke=\"#000000\" points=\"340.5001,-25.0561 337,-15.0561 333.5001,-25.0561 340.5001,-25.0561\"/>\n",
       "</g>\n",
       "</g>\n",
       "</svg>\n"
      ],
      "text/plain": [
       "<graphviz.dot.Digraph at 0x113ea5940>"
      ]
     },
     "metadata": {},
     "output_type": "display_data"
    }
   ],
   "source": [
    "mystring = '12+23-34'\n",
    "parser = EarleyParser(A1_GRAMMAR)\n",
    "for tree in parser.parse(mystring):\n",
    "    assert mystring == tree_to_string(tree)\n",
    "    display_tree(tree)"
   ]
  },
  {
   "cell_type": "markdown",
   "metadata": {
    "slideshow": {
     "slide_type": "fragment"
    }
   },
   "source": [
    "One can also use a `GrammarFuzzer` to verify that everything works."
   ]
  },
  {
   "cell_type": "code",
   "execution_count": 130,
   "metadata": {
    "slideshow": {
     "slide_type": "subslide"
    }
   },
   "outputs": [
    {
     "name": "stdout",
     "output_type": "stream",
     "text": [
      "0 3\n",
      "1 2-2-2-8-8-8+3-6-9+5\n",
      "2 9-48+0-5-3+9+90+5-6+8-847\n",
      "3 2-7-62-8-7+7+5-3-6+1\n",
      "4 8-1+2-5+4+9-0-4+6-1\n"
     ]
    }
   ],
   "source": [
    "gf = GrammarFuzzer(A1_GRAMMAR)\n",
    "for i in range(5):\n",
    "    s = gf.fuzz()\n",
    "    print(i, s)\n",
    "    for tree in parser.parse(s):\n",
    "        assert tree_to_string(tree) == s"
   ]
  },
  {
   "cell_type": "markdown",
   "metadata": {
    "slideshow": {
     "slide_type": "skip"
    },
    "toc-hr-collapsed": true
   },
   "source": [
    "### The Aycock Epsilon Fix\n",
    "\n",
    "While parsing, one often requires to know whether a given nonterminal can derive an empty string. For example, in the following grammar A can derive an empty string, while B can't. The nonterminals that can derive an empty string are called _nullable_ nonterminals. For example, in the below grammar `E_GRAMMAR_1`,  `<A>` is _nullable_, and since `<A>` is one of the alternatives of `<start>`, `<start>` is also _nullable_. But `<B>` is not _nullable_."
   ]
  },
  {
   "cell_type": "code",
   "execution_count": 131,
   "metadata": {
    "slideshow": {
     "slide_type": "skip"
    }
   },
   "outputs": [],
   "source": [
    "E_GRAMMAR_1 = {\n",
    "    '<start>': ['<A>', '<B>'],\n",
    "    '<A>': ['a', ''],\n",
    "    '<B>': ['b']\n",
    "}"
   ]
  },
  {
   "cell_type": "markdown",
   "metadata": {
    "slideshow": {
     "slide_type": "notes"
    }
   },
   "source": [
    "One of the problems with the original Earley implementation is that it does not handle rules that can derive empty strings very well. For example, the given grammar should match `a`"
   ]
  },
  {
   "cell_type": "code",
   "execution_count": 132,
   "metadata": {
    "slideshow": {
     "slide_type": "subslide"
    }
   },
   "outputs": [],
   "source": [
    "EPSILON = ''\n",
    "E_GRAMMAR = {\n",
    "    '<start>': ['<S>'],\n",
    "    '<S>': ['<A><A><A><A>'],\n",
    "    '<A>': ['a', '<E>'],\n",
    "    '<E>': [EPSILON]\n",
    "}"
   ]
  },
  {
   "cell_type": "code",
   "execution_count": 133,
   "metadata": {
    "slideshow": {
     "slide_type": "subslide"
    }
   },
   "outputs": [
    {
     "name": "stdout",
     "output_type": "stream",
     "text": [
      "start\n"
     ]
    },
    {
     "data": {
      "image/svg+xml": [
       "<svg class=\"railroad-diagram\" height=\"62\" viewBox=\"0 0 148.5 62\" width=\"148.5\" xmlns=\"http://www.w3.org/2000/svg\">\n",
       "<g transform=\"translate(.5 .5)\">\n",
       "<style>/* <![CDATA[ */\n",
       "    svg.railroad-diagram {\n",
       "        background-color:hsl(100,100%,100%);\n",
       "    }\n",
       "    svg.railroad-diagram path {\n",
       "        stroke-width:3;\n",
       "        stroke:black;\n",
       "        fill:rgba(0,0,0,0);\n",
       "    }\n",
       "    svg.railroad-diagram text {\n",
       "        font:bold 14px monospace;\n",
       "        text-anchor:middle;\n",
       "    }\n",
       "    svg.railroad-diagram text.label{\n",
       "        text-anchor:start;\n",
       "    }\n",
       "    svg.railroad-diagram text.comment{\n",
       "        font:italic 12px monospace;\n",
       "    }\n",
       "    svg.railroad-diagram rect{\n",
       "        stroke-width:3;\n",
       "        stroke:black;\n",
       "        fill:hsl(0,62%,82%);\n",
       "    }\n",
       "\n",
       "/* ]]> */\n",
       "</style><g>\n",
       "<path d=\"M20 21v20m10 -20v20m-10 -10h20\"/></g><g>\n",
       "<path d=\"M40 31h0.0\"/><path d=\"M108.5 31h0.0\"/><path d=\"M40.0 31h20\"/><g>\n",
       "<path d=\"M60.0 31h0.0\"/><path d=\"M88.5 31h0.0\"/><g class=\"non-terminal\">\n",
       "<path d=\"M60.0 31h0.0\"/><path d=\"M88.5 31h0.0\"/><rect height=\"22\" width=\"28.5\" x=\"60.0\" y=\"20\"/><text x=\"74.25\" y=\"35\">S</text></g></g><path d=\"M88.5 31h20\"/></g><path d=\"M 108.5 31 h 20 m -10 -10 v 20 m 10 -20 v 20\"/></g></svg>"
      ],
      "text/plain": [
       "<IPython.core.display.SVG object>"
      ]
     },
     "metadata": {},
     "output_type": "display_data"
    },
    {
     "name": "stdout",
     "output_type": "stream",
     "text": [
      "S\n"
     ]
    },
    {
     "data": {
      "image/svg+xml": [
       "<svg class=\"railroad-diagram\" height=\"62\" viewBox=\"0 0 294.0 62\" width=\"294.0\" xmlns=\"http://www.w3.org/2000/svg\">\n",
       "<g transform=\"translate(.5 .5)\">\n",
       "<style>/* <![CDATA[ */\n",
       "    svg.railroad-diagram {\n",
       "        background-color:hsl(100,100%,100%);\n",
       "    }\n",
       "    svg.railroad-diagram path {\n",
       "        stroke-width:3;\n",
       "        stroke:black;\n",
       "        fill:rgba(0,0,0,0);\n",
       "    }\n",
       "    svg.railroad-diagram text {\n",
       "        font:bold 14px monospace;\n",
       "        text-anchor:middle;\n",
       "    }\n",
       "    svg.railroad-diagram text.label{\n",
       "        text-anchor:start;\n",
       "    }\n",
       "    svg.railroad-diagram text.comment{\n",
       "        font:italic 12px monospace;\n",
       "    }\n",
       "    svg.railroad-diagram rect{\n",
       "        stroke-width:3;\n",
       "        stroke:black;\n",
       "        fill:hsl(0,62%,82%);\n",
       "    }\n",
       "\n",
       "/* ]]> */\n",
       "</style><g>\n",
       "<path d=\"M20 21v20m10 -20v20m-10 -10h20\"/></g><g>\n",
       "<path d=\"M40 31h0.0\"/><path d=\"M254.0 31h0.0\"/><path d=\"M40.0 31h20\"/><g>\n",
       "<path d=\"M60.0 31h0.0\"/><path d=\"M234.0 31h0.0\"/><g class=\"non-terminal\">\n",
       "<path d=\"M60.0 31h0.0\"/><path d=\"M88.5 31h0.0\"/><rect height=\"22\" width=\"28.5\" x=\"60.0\" y=\"20\"/><text x=\"74.25\" y=\"35\">A</text></g><path d=\"M88.5 31h10\"/><path d=\"M98.5 31h10\"/><g class=\"non-terminal\">\n",
       "<path d=\"M108.5 31h0.0\"/><path d=\"M137.0 31h0.0\"/><rect height=\"22\" width=\"28.5\" x=\"108.5\" y=\"20\"/><text x=\"122.75\" y=\"35\">A</text></g><path d=\"M137.0 31h10\"/><path d=\"M147.0 31h10\"/><g class=\"non-terminal\">\n",
       "<path d=\"M157.0 31h0.0\"/><path d=\"M185.5 31h0.0\"/><rect height=\"22\" width=\"28.5\" x=\"157.0\" y=\"20\"/><text x=\"171.25\" y=\"35\">A</text></g><path d=\"M185.5 31h10\"/><path d=\"M195.5 31h10\"/><g class=\"non-terminal\">\n",
       "<path d=\"M205.5 31h0.0\"/><path d=\"M234.0 31h0.0\"/><rect height=\"22\" width=\"28.5\" x=\"205.5\" y=\"20\"/><text x=\"219.75\" y=\"35\">A</text></g></g><path d=\"M234.0 31h20\"/></g><path d=\"M 254.0 31 h 20 m -10 -10 v 20 m 10 -20 v 20\"/></g></svg>"
      ],
      "text/plain": [
       "<IPython.core.display.SVG object>"
      ]
     },
     "metadata": {},
     "output_type": "display_data"
    },
    {
     "name": "stdout",
     "output_type": "stream",
     "text": [
      "A\n"
     ]
    },
    {
     "data": {
      "image/svg+xml": [
       "<svg class=\"railroad-diagram\" height=\"92\" viewBox=\"0 0 148.5 92\" width=\"148.5\" xmlns=\"http://www.w3.org/2000/svg\">\n",
       "<g transform=\"translate(.5 .5)\">\n",
       "<style>/* <![CDATA[ */\n",
       "    svg.railroad-diagram {\n",
       "        background-color:hsl(100,100%,100%);\n",
       "    }\n",
       "    svg.railroad-diagram path {\n",
       "        stroke-width:3;\n",
       "        stroke:black;\n",
       "        fill:rgba(0,0,0,0);\n",
       "    }\n",
       "    svg.railroad-diagram text {\n",
       "        font:bold 14px monospace;\n",
       "        text-anchor:middle;\n",
       "    }\n",
       "    svg.railroad-diagram text.label{\n",
       "        text-anchor:start;\n",
       "    }\n",
       "    svg.railroad-diagram text.comment{\n",
       "        font:italic 12px monospace;\n",
       "    }\n",
       "    svg.railroad-diagram rect{\n",
       "        stroke-width:3;\n",
       "        stroke:black;\n",
       "        fill:hsl(0,62%,82%);\n",
       "    }\n",
       "\n",
       "/* ]]> */\n",
       "</style><g>\n",
       "<path d=\"M20 51v20m10 -20v20m-10 -10h20\"/></g><g>\n",
       "<path d=\"M40 61h0.0\"/><path d=\"M108.5 61h0.0\"/><path d=\"M40.0 61a10 10 0 0 0 10 -10v-10a10 10 0 0 1 10 -10\"/><g>\n",
       "<path d=\"M60.0 31h0.0\"/><path d=\"M88.5 31h0.0\"/><g class=\"terminal\">\n",
       "<path d=\"M60.0 31h0.0\"/><path d=\"M88.5 31h0.0\"/><rect height=\"22\" rx=\"10\" ry=\"10\" width=\"28.5\" x=\"60.0\" y=\"20\"/><text x=\"74.25\" y=\"35\">a</text></g></g><path d=\"M88.5 31a10 10 0 0 1 10 10v10a10 10 0 0 0 10 10\"/><path d=\"M40.0 61h20\"/><g>\n",
       "<path d=\"M60.0 61h0.0\"/><path d=\"M88.5 61h0.0\"/><g class=\"non-terminal\">\n",
       "<path d=\"M60.0 61h0.0\"/><path d=\"M88.5 61h0.0\"/><rect height=\"22\" width=\"28.5\" x=\"60.0\" y=\"50\"/><text x=\"74.25\" y=\"65\">E</text></g></g><path d=\"M88.5 61h20\"/></g><path d=\"M 108.5 61 h 20 m -10 -10 v 20 m 10 -20 v 20\"/></g></svg>"
      ],
      "text/plain": [
       "<IPython.core.display.SVG object>"
      ]
     },
     "metadata": {},
     "output_type": "display_data"
    },
    {
     "name": "stdout",
     "output_type": "stream",
     "text": [
      "E\n"
     ]
    },
    {
     "data": {
      "image/svg+xml": [
       "<svg class=\"railroad-diagram\" height=\"62\" viewBox=\"0 0 140.0 62\" width=\"140.0\" xmlns=\"http://www.w3.org/2000/svg\">\n",
       "<g transform=\"translate(.5 .5)\">\n",
       "<style>/* <![CDATA[ */\n",
       "    svg.railroad-diagram {\n",
       "        background-color:hsl(100,100%,100%);\n",
       "    }\n",
       "    svg.railroad-diagram path {\n",
       "        stroke-width:3;\n",
       "        stroke:black;\n",
       "        fill:rgba(0,0,0,0);\n",
       "    }\n",
       "    svg.railroad-diagram text {\n",
       "        font:bold 14px monospace;\n",
       "        text-anchor:middle;\n",
       "    }\n",
       "    svg.railroad-diagram text.label{\n",
       "        text-anchor:start;\n",
       "    }\n",
       "    svg.railroad-diagram text.comment{\n",
       "        font:italic 12px monospace;\n",
       "    }\n",
       "    svg.railroad-diagram rect{\n",
       "        stroke-width:3;\n",
       "        stroke:black;\n",
       "        fill:hsl(0,62%,82%);\n",
       "    }\n",
       "\n",
       "/* ]]> */\n",
       "</style><g>\n",
       "<path d=\"M20 21v20m10 -20v20m-10 -10h20\"/></g><g>\n",
       "<path d=\"M40 31h0.0\"/><path d=\"M100.0 31h0.0\"/><path d=\"M40.0 31h20\"/><g>\n",
       "<path d=\"M60.0 31h0.0\"/><path d=\"M80.0 31h0.0\"/><g class=\"terminal\">\n",
       "<path d=\"M60.0 31h0.0\"/><path d=\"M80.0 31h0.0\"/><rect height=\"22\" rx=\"10\" ry=\"10\" width=\"20.0\" x=\"60.0\" y=\"20\"/><text x=\"70.0\" y=\"35\"/></g></g><path d=\"M80.0 31h20\"/></g><path d=\"M 100.0 31 h 20 m -10 -10 v 20 m 10 -20 v 20\"/></g></svg>"
      ],
      "text/plain": [
       "<IPython.core.display.SVG object>"
      ]
     },
     "metadata": {},
     "output_type": "display_data"
    }
   ],
   "source": [
    "syntax_diagram(E_GRAMMAR)"
   ]
  },
  {
   "cell_type": "code",
   "execution_count": 134,
   "metadata": {
    "slideshow": {
     "slide_type": "subslide"
    }
   },
   "outputs": [
    {
     "name": "stderr",
     "output_type": "stream",
     "text": [
      "Traceback (most recent call last):\n",
      "  File \"<ipython-input-134-61c19f40fd3a>\", line 4, in <module>\n",
      "    trees = parser.parse(mystring)\n",
      "  File \"<ipython-input-119-555708227559>\", line 5, in parse\n",
      "    raise SyntaxError(\"at \" + repr(text[cursor:]))\n",
      "  File \"<string>\", line None\n",
      "SyntaxError: at 'a' (expected)\n"
     ]
    }
   ],
   "source": [
    "mystring = 'a'\n",
    "parser = EarleyParser(E_GRAMMAR)\n",
    "with ExpectError():\n",
    "    trees = parser.parse(mystring)"
   ]
  },
  {
   "cell_type": "markdown",
   "metadata": {
    "slideshow": {
     "slide_type": "skip"
    }
   },
   "source": [
    "Aycock et al.\\cite{Aycock2002} suggests a simple fix. Their idea is to pre-compute the `nullable` set and use it to advance the `nullable` states. However, before we do that, we need to compute the `nullable` set. The `nullable` set consists of all nonterminals that can derive an empty string."
   ]
  },
  {
   "cell_type": "markdown",
   "metadata": {
    "slideshow": {
     "slide_type": "skip"
    }
   },
   "source": [
    "Computing the `nullable` set requires expanding each production rule in the grammar iteratively and inspecting whether a given rule can derive the empty string. Each iteration needs to take into account new terminals that have been found to be `nullable`. The procedure stops when we obtain a stable result. This procedure can be abstracted into a more general method `fixpoint`."
   ]
  },
  {
   "cell_type": "markdown",
   "metadata": {
    "slideshow": {
     "slide_type": "subslide"
    }
   },
   "source": [
    "#### Fixpoint\n",
    "\n",
    "A `fixpoint` of a function is an element in the function's domain such that it is mapped to itself. For example, 1 is a `fixpoint` of square root because `squareroot(1) == 1`.\n",
    "\n",
    "(We use `str` rather than `hash` to check for equality in `fixpoint` because the data structure `set`, which we would like to use as an argument has a good string representation but is not hashable)."
   ]
  },
  {
   "cell_type": "code",
   "execution_count": 135,
   "metadata": {
    "slideshow": {
     "slide_type": "subslide"
    }
   },
   "outputs": [],
   "source": [
    "def fixpoint(f):\n",
    "    def helper(arg):\n",
    "        while True:\n",
    "            sarg = str(arg)\n",
    "            arg_ = f(arg)\n",
    "            if str(arg_) == sarg:\n",
    "                return arg\n",
    "            arg = arg_\n",
    "\n",
    "    return helper"
   ]
  },
  {
   "cell_type": "markdown",
   "metadata": {
    "slideshow": {
     "slide_type": "skip"
    }
   },
   "source": [
    "Remember `my_sqrt()` from [the first chapter](Intro_Testing.ipynb)? We can define `my_sqrt()` using fixpoint."
   ]
  },
  {
   "cell_type": "code",
   "execution_count": 136,
   "metadata": {
    "slideshow": {
     "slide_type": "subslide"
    }
   },
   "outputs": [],
   "source": [
    "def my_sqrt(x):\n",
    "    @fixpoint\n",
    "    def _my_sqrt(approx):\n",
    "        return (approx + x / approx) / 2\n",
    "\n",
    "    return _my_sqrt(1)"
   ]
  },
  {
   "cell_type": "code",
   "execution_count": 137,
   "metadata": {
    "slideshow": {
     "slide_type": "fragment"
    }
   },
   "outputs": [
    {
     "data": {
      "text/plain": [
       "1.414213562373095"
      ]
     },
     "execution_count": 137,
     "metadata": {},
     "output_type": "execute_result"
    }
   ],
   "source": [
    "my_sqrt(2)"
   ]
  },
  {
   "cell_type": "markdown",
   "metadata": {
    "slideshow": {
     "slide_type": "subslide"
    }
   },
   "source": [
    "#### Nullable\n",
    "\n",
    "Similarly, we can define `nullable` using `fixpoint`. We essentially provide the definition of a single intermediate step. That is, assuming that `nullables` contain the current `nullable` nonterminals, we iterate over the grammar looking for productions which are `nullable` -- that is, productions where the entire sequence can yield an empty string on some expansion."
   ]
  },
  {
   "cell_type": "markdown",
   "metadata": {
    "slideshow": {
     "slide_type": "skip"
    }
   },
   "source": [
    "We need to iterate over the different alternative expressions and their corresponding nonterminals. Hence we define a `rules()` method converts our dictionary representation to this pair format."
   ]
  },
  {
   "cell_type": "code",
   "execution_count": 138,
   "metadata": {
    "slideshow": {
     "slide_type": "skip"
    }
   },
   "outputs": [],
   "source": [
    "def rules(grammar):\n",
    "    return [(key, choice)\n",
    "            for key, choices in grammar.items()\n",
    "            for choice in choices]"
   ]
  },
  {
   "cell_type": "markdown",
   "metadata": {
    "slideshow": {
     "slide_type": "skip"
    }
   },
   "source": [
    "The `terminals()` method extracts all terminal symbols from a `canonical` grammar representation."
   ]
  },
  {
   "cell_type": "code",
   "execution_count": 139,
   "metadata": {
    "slideshow": {
     "slide_type": "skip"
    }
   },
   "outputs": [],
   "source": [
    "def terminals(grammar):\n",
    "    return set(token\n",
    "               for key, choice in rules(grammar)\n",
    "               for token in choice if token not in grammar)"
   ]
  },
  {
   "cell_type": "code",
   "execution_count": 140,
   "metadata": {
    "slideshow": {
     "slide_type": "subslide"
    }
   },
   "outputs": [],
   "source": [
    "def nullable_expr(expr, nullables):\n",
    "    return all(token in nullables for token in expr)"
   ]
  },
  {
   "cell_type": "code",
   "execution_count": 141,
   "metadata": {
    "slideshow": {
     "slide_type": "subslide"
    }
   },
   "outputs": [],
   "source": [
    "def nullable(grammar):\n",
    "    productions = rules(grammar)\n",
    "\n",
    "    @fixpoint\n",
    "    def nullable_(nullables):\n",
    "        for A, expr in productions:\n",
    "            if nullable_expr(expr, nullables):\n",
    "                nullables |= {A}\n",
    "        return (nullables)\n",
    "\n",
    "    return nullable_({EPSILON})"
   ]
  },
  {
   "cell_type": "code",
   "execution_count": 142,
   "metadata": {
    "slideshow": {
     "slide_type": "subslide"
    }
   },
   "outputs": [
    {
     "name": "stdout",
     "output_type": "stream",
     "text": [
      "E_GRAMMAR {'', '<A>', '<E>', '<start>', '<S>'}\n",
      "E_GRAMMAR_1 {'', '<A>', '<start>'}\n"
     ]
    }
   ],
   "source": [
    "for key, grammar in {\n",
    "        'E_GRAMMAR': E_GRAMMAR,\n",
    "        'E_GRAMMAR_1': E_GRAMMAR_1\n",
    "}.items():\n",
    "    print(key, nullable(canonical(grammar)))"
   ]
  },
  {
   "cell_type": "markdown",
   "metadata": {
    "slideshow": {
     "slide_type": "notes"
    }
   },
   "source": [
    "So, once we have the `nullable` set, all that we need to do is, after we have called `predict` on a state corresponding to a nonterminal, check if it is `nullable` and if it is, advance and add the state to the current column."
   ]
  },
  {
   "cell_type": "code",
   "execution_count": 143,
   "metadata": {
    "slideshow": {
     "slide_type": "subslide"
    }
   },
   "outputs": [],
   "source": [
    "class EarleyParser(EarleyParser):\n",
    "    def __init__(self, grammar, **kwargs):\n",
    "        super().__init__(grammar, **kwargs)\n",
    "        self.cgrammar = canonical(grammar, letters=True)\n",
    "        self.epsilon = nullable(self.cgrammar)\n",
    "\n",
    "    def predict(self, col, sym, state):\n",
    "        for alt in self.cgrammar[sym]:\n",
    "            col.add(State(sym, tuple(alt), 0, col))\n",
    "        if sym in self.epsilon:\n",
    "            col.add(state.advance())"
   ]
  },
  {
   "cell_type": "code",
   "execution_count": 144,
   "metadata": {
    "slideshow": {
     "slide_type": "subslide"
    }
   },
   "outputs": [
    {
     "data": {
      "image/svg+xml": [
       "<?xml version=\"1.0\" encoding=\"UTF-8\" standalone=\"no\"?>\n",
       "<!DOCTYPE svg PUBLIC \"-//W3C//DTD SVG 1.1//EN\"\n",
       " \"http://www.w3.org/Graphics/SVG/1.1/DTD/svg11.dtd\">\n",
       "<!-- Generated by graphviz version 2.40.1 (20161225.0304)\n",
       " -->\n",
       "<!-- Title: %3 Pages: 1 -->\n",
       "<svg width=\"166pt\" height=\"176pt\"\n",
       " viewBox=\"0.00 0.00 166.00 176.00\" xmlns=\"http://www.w3.org/2000/svg\" xmlns:xlink=\"http://www.w3.org/1999/xlink\">\n",
       "<g id=\"graph0\" class=\"graph\" transform=\"scale(1 1) rotate(0) translate(4 172)\">\n",
       "<title>%3</title>\n",
       "<polygon fill=\"#ffffff\" stroke=\"transparent\" points=\"-4,4 -4,-172 162,-172 162,4 -4,4\"/>\n",
       "<!-- 0 -->\n",
       "<g id=\"node1\" class=\"node\">\n",
       "<title>0</title>\n",
       "<text text-anchor=\"middle\" x=\"79\" y=\"-156.8\" font-family=\"Times,serif\" font-size=\"14.00\" fill=\"#000000\">&lt;start&gt;</text>\n",
       "</g>\n",
       "<!-- 1 -->\n",
       "<g id=\"node2\" class=\"node\">\n",
       "<title>1</title>\n",
       "<text text-anchor=\"middle\" x=\"79\" y=\"-105.8\" font-family=\"Times,serif\" font-size=\"14.00\" fill=\"#000000\">&lt;S&gt;</text>\n",
       "</g>\n",
       "<!-- 0&#45;&gt;1 -->\n",
       "<g id=\"edge1\" class=\"edge\">\n",
       "<title>0&#45;&gt;1</title>\n",
       "<path fill=\"none\" stroke=\"#000000\" d=\"M79,-152.9748C79,-146.195 79,-135.966 79,-127.1331\"/>\n",
       "<polygon fill=\"#000000\" stroke=\"#000000\" points=\"82.5001,-127.0561 79,-117.0561 75.5001,-127.0561 82.5001,-127.0561\"/>\n",
       "</g>\n",
       "<!-- 2 -->\n",
       "<g id=\"node3\" class=\"node\">\n",
       "<title>2</title>\n",
       "<text text-anchor=\"middle\" x=\"13\" y=\"-54.8\" font-family=\"Times,serif\" font-size=\"14.00\" fill=\"#000000\">&lt;A&gt;</text>\n",
       "</g>\n",
       "<!-- 1&#45;&gt;2 -->\n",
       "<g id=\"edge2\" class=\"edge\">\n",
       "<title>1&#45;&gt;2</title>\n",
       "<path fill=\"none\" stroke=\"#000000\" d=\"M69.2615,-101.9748C59.2203,-94.2157 43.3329,-81.939 30.998,-72.4075\"/>\n",
       "<polygon fill=\"#000000\" stroke=\"#000000\" points=\"32.8314,-69.4011 22.7785,-66.0561 28.5513,-74.9401 32.8314,-69.4011\"/>\n",
       "</g>\n",
       "<!-- 4 -->\n",
       "<g id=\"node5\" class=\"node\">\n",
       "<title>4</title>\n",
       "<text text-anchor=\"middle\" x=\"57\" y=\"-54.8\" font-family=\"Times,serif\" font-size=\"14.00\" fill=\"#000000\">&lt;A&gt;</text>\n",
       "</g>\n",
       "<!-- 1&#45;&gt;4 -->\n",
       "<g id=\"edge4\" class=\"edge\">\n",
       "<title>1&#45;&gt;4</title>\n",
       "<path fill=\"none\" stroke=\"#000000\" d=\"M75.7538,-101.9748C72.7317,-94.969 68.1209,-84.2803 64.2275,-75.2547\"/>\n",
       "<polygon fill=\"#000000\" stroke=\"#000000\" points=\"67.4342,-73.8519 60.2595,-66.0561 61.0067,-76.6246 67.4342,-73.8519\"/>\n",
       "</g>\n",
       "<!-- 6 -->\n",
       "<g id=\"node7\" class=\"node\">\n",
       "<title>6</title>\n",
       "<text text-anchor=\"middle\" x=\"101\" y=\"-54.8\" font-family=\"Times,serif\" font-size=\"14.00\" fill=\"#000000\">&lt;A&gt;</text>\n",
       "</g>\n",
       "<!-- 1&#45;&gt;6 -->\n",
       "<g id=\"edge6\" class=\"edge\">\n",
       "<title>1&#45;&gt;6</title>\n",
       "<path fill=\"none\" stroke=\"#000000\" d=\"M82.2462,-101.9748C85.2683,-94.969 89.8791,-84.2803 93.7725,-75.2547\"/>\n",
       "<polygon fill=\"#000000\" stroke=\"#000000\" points=\"96.9933,-76.6246 97.7405,-66.0561 90.5658,-73.8519 96.9933,-76.6246\"/>\n",
       "</g>\n",
       "<!-- 8 -->\n",
       "<g id=\"node9\" class=\"node\">\n",
       "<title>8</title>\n",
       "<text text-anchor=\"middle\" x=\"145\" y=\"-54.8\" font-family=\"Times,serif\" font-size=\"14.00\" fill=\"#000000\">&lt;A&gt;</text>\n",
       "</g>\n",
       "<!-- 1&#45;&gt;8 -->\n",
       "<g id=\"edge8\" class=\"edge\">\n",
       "<title>1&#45;&gt;8</title>\n",
       "<path fill=\"none\" stroke=\"#000000\" d=\"M88.7385,-101.9748C98.7797,-94.2157 114.6671,-81.939 127.002,-72.4075\"/>\n",
       "<polygon fill=\"#000000\" stroke=\"#000000\" points=\"129.4487,-74.9401 135.2215,-66.0561 125.1686,-69.4011 129.4487,-74.9401\"/>\n",
       "</g>\n",
       "<!-- 3 -->\n",
       "<g id=\"node4\" class=\"node\">\n",
       "<title>3</title>\n",
       "<text text-anchor=\"middle\" x=\"13\" y=\"-3.8\" font-family=\"Times,serif\" font-size=\"14.00\" fill=\"#000000\">&lt;E&gt;</text>\n",
       "</g>\n",
       "<!-- 2&#45;&gt;3 -->\n",
       "<g id=\"edge3\" class=\"edge\">\n",
       "<title>2&#45;&gt;3</title>\n",
       "<path fill=\"none\" stroke=\"#000000\" d=\"M13,-50.9748C13,-44.195 13,-33.966 13,-25.1331\"/>\n",
       "<polygon fill=\"#000000\" stroke=\"#000000\" points=\"16.5001,-25.0561 13,-15.0561 9.5001,-25.0561 16.5001,-25.0561\"/>\n",
       "</g>\n",
       "<!-- 5 -->\n",
       "<g id=\"node6\" class=\"node\">\n",
       "<title>5</title>\n",
       "<text text-anchor=\"middle\" x=\"57\" y=\"-3.8\" font-family=\"Times,serif\" font-size=\"14.00\" fill=\"#000000\">&lt;E&gt;</text>\n",
       "</g>\n",
       "<!-- 4&#45;&gt;5 -->\n",
       "<g id=\"edge5\" class=\"edge\">\n",
       "<title>4&#45;&gt;5</title>\n",
       "<path fill=\"none\" stroke=\"#000000\" d=\"M57,-50.9748C57,-44.195 57,-33.966 57,-25.1331\"/>\n",
       "<polygon fill=\"#000000\" stroke=\"#000000\" points=\"60.5001,-25.0561 57,-15.0561 53.5001,-25.0561 60.5001,-25.0561\"/>\n",
       "</g>\n",
       "<!-- 7 -->\n",
       "<g id=\"node8\" class=\"node\">\n",
       "<title>7</title>\n",
       "<text text-anchor=\"middle\" x=\"101\" y=\"-3.8\" font-family=\"Times,serif\" font-size=\"14.00\" fill=\"#000000\">&lt;E&gt;</text>\n",
       "</g>\n",
       "<!-- 6&#45;&gt;7 -->\n",
       "<g id=\"edge7\" class=\"edge\">\n",
       "<title>6&#45;&gt;7</title>\n",
       "<path fill=\"none\" stroke=\"#000000\" d=\"M101,-50.9748C101,-44.195 101,-33.966 101,-25.1331\"/>\n",
       "<polygon fill=\"#000000\" stroke=\"#000000\" points=\"104.5001,-25.0561 101,-15.0561 97.5001,-25.0561 104.5001,-25.0561\"/>\n",
       "</g>\n",
       "<!-- 9 -->\n",
       "<g id=\"node10\" class=\"node\">\n",
       "<title>9</title>\n",
       "<text text-anchor=\"middle\" x=\"145\" y=\"-3.8\" font-family=\"Times,serif\" font-size=\"14.00\" fill=\"#000000\">a</text>\n",
       "</g>\n",
       "<!-- 8&#45;&gt;9 -->\n",
       "<g id=\"edge9\" class=\"edge\">\n",
       "<title>8&#45;&gt;9</title>\n",
       "<path fill=\"none\" stroke=\"#000000\" d=\"M145,-50.9748C145,-44.195 145,-33.966 145,-25.1331\"/>\n",
       "<polygon fill=\"#000000\" stroke=\"#000000\" points=\"148.5001,-25.0561 145,-15.0561 141.5001,-25.0561 148.5001,-25.0561\"/>\n",
       "</g>\n",
       "</g>\n",
       "</svg>\n"
      ],
      "text/plain": [
       "<graphviz.dot.Digraph at 0x1142bff98>"
      ]
     },
     "metadata": {},
     "output_type": "display_data"
    },
    {
     "data": {
      "image/svg+xml": [
       "<?xml version=\"1.0\" encoding=\"UTF-8\" standalone=\"no\"?>\n",
       "<!DOCTYPE svg PUBLIC \"-//W3C//DTD SVG 1.1//EN\"\n",
       " \"http://www.w3.org/Graphics/SVG/1.1/DTD/svg11.dtd\">\n",
       "<!-- Generated by graphviz version 2.40.1 (20161225.0304)\n",
       " -->\n",
       "<!-- Title: %3 Pages: 1 -->\n",
       "<svg width=\"166pt\" height=\"176pt\"\n",
       " viewBox=\"0.00 0.00 166.00 176.00\" xmlns=\"http://www.w3.org/2000/svg\" xmlns:xlink=\"http://www.w3.org/1999/xlink\">\n",
       "<g id=\"graph0\" class=\"graph\" transform=\"scale(1 1) rotate(0) translate(4 172)\">\n",
       "<title>%3</title>\n",
       "<polygon fill=\"#ffffff\" stroke=\"transparent\" points=\"-4,4 -4,-172 162,-172 162,4 -4,4\"/>\n",
       "<!-- 0 -->\n",
       "<g id=\"node1\" class=\"node\">\n",
       "<title>0</title>\n",
       "<text text-anchor=\"middle\" x=\"79\" y=\"-156.8\" font-family=\"Times,serif\" font-size=\"14.00\" fill=\"#000000\">&lt;start&gt;</text>\n",
       "</g>\n",
       "<!-- 1 -->\n",
       "<g id=\"node2\" class=\"node\">\n",
       "<title>1</title>\n",
       "<text text-anchor=\"middle\" x=\"79\" y=\"-105.8\" font-family=\"Times,serif\" font-size=\"14.00\" fill=\"#000000\">&lt;S&gt;</text>\n",
       "</g>\n",
       "<!-- 0&#45;&gt;1 -->\n",
       "<g id=\"edge1\" class=\"edge\">\n",
       "<title>0&#45;&gt;1</title>\n",
       "<path fill=\"none\" stroke=\"#000000\" d=\"M79,-152.9748C79,-146.195 79,-135.966 79,-127.1331\"/>\n",
       "<polygon fill=\"#000000\" stroke=\"#000000\" points=\"82.5001,-127.0561 79,-117.0561 75.5001,-127.0561 82.5001,-127.0561\"/>\n",
       "</g>\n",
       "<!-- 2 -->\n",
       "<g id=\"node3\" class=\"node\">\n",
       "<title>2</title>\n",
       "<text text-anchor=\"middle\" x=\"13\" y=\"-54.8\" font-family=\"Times,serif\" font-size=\"14.00\" fill=\"#000000\">&lt;A&gt;</text>\n",
       "</g>\n",
       "<!-- 1&#45;&gt;2 -->\n",
       "<g id=\"edge2\" class=\"edge\">\n",
       "<title>1&#45;&gt;2</title>\n",
       "<path fill=\"none\" stroke=\"#000000\" d=\"M69.2615,-101.9748C59.2203,-94.2157 43.3329,-81.939 30.998,-72.4075\"/>\n",
       "<polygon fill=\"#000000\" stroke=\"#000000\" points=\"32.8314,-69.4011 22.7785,-66.0561 28.5513,-74.9401 32.8314,-69.4011\"/>\n",
       "</g>\n",
       "<!-- 4 -->\n",
       "<g id=\"node5\" class=\"node\">\n",
       "<title>4</title>\n",
       "<text text-anchor=\"middle\" x=\"57\" y=\"-54.8\" font-family=\"Times,serif\" font-size=\"14.00\" fill=\"#000000\">&lt;A&gt;</text>\n",
       "</g>\n",
       "<!-- 1&#45;&gt;4 -->\n",
       "<g id=\"edge4\" class=\"edge\">\n",
       "<title>1&#45;&gt;4</title>\n",
       "<path fill=\"none\" stroke=\"#000000\" d=\"M75.7538,-101.9748C72.7317,-94.969 68.1209,-84.2803 64.2275,-75.2547\"/>\n",
       "<polygon fill=\"#000000\" stroke=\"#000000\" points=\"67.4342,-73.8519 60.2595,-66.0561 61.0067,-76.6246 67.4342,-73.8519\"/>\n",
       "</g>\n",
       "<!-- 6 -->\n",
       "<g id=\"node7\" class=\"node\">\n",
       "<title>6</title>\n",
       "<text text-anchor=\"middle\" x=\"101\" y=\"-54.8\" font-family=\"Times,serif\" font-size=\"14.00\" fill=\"#000000\">&lt;A&gt;</text>\n",
       "</g>\n",
       "<!-- 1&#45;&gt;6 -->\n",
       "<g id=\"edge6\" class=\"edge\">\n",
       "<title>1&#45;&gt;6</title>\n",
       "<path fill=\"none\" stroke=\"#000000\" d=\"M82.2462,-101.9748C85.2683,-94.969 89.8791,-84.2803 93.7725,-75.2547\"/>\n",
       "<polygon fill=\"#000000\" stroke=\"#000000\" points=\"96.9933,-76.6246 97.7405,-66.0561 90.5658,-73.8519 96.9933,-76.6246\"/>\n",
       "</g>\n",
       "<!-- 8 -->\n",
       "<g id=\"node9\" class=\"node\">\n",
       "<title>8</title>\n",
       "<text text-anchor=\"middle\" x=\"145\" y=\"-54.8\" font-family=\"Times,serif\" font-size=\"14.00\" fill=\"#000000\">&lt;A&gt;</text>\n",
       "</g>\n",
       "<!-- 1&#45;&gt;8 -->\n",
       "<g id=\"edge8\" class=\"edge\">\n",
       "<title>1&#45;&gt;8</title>\n",
       "<path fill=\"none\" stroke=\"#000000\" d=\"M88.7385,-101.9748C98.7797,-94.2157 114.6671,-81.939 127.002,-72.4075\"/>\n",
       "<polygon fill=\"#000000\" stroke=\"#000000\" points=\"129.4487,-74.9401 135.2215,-66.0561 125.1686,-69.4011 129.4487,-74.9401\"/>\n",
       "</g>\n",
       "<!-- 3 -->\n",
       "<g id=\"node4\" class=\"node\">\n",
       "<title>3</title>\n",
       "<text text-anchor=\"middle\" x=\"13\" y=\"-3.8\" font-family=\"Times,serif\" font-size=\"14.00\" fill=\"#000000\">&lt;E&gt;</text>\n",
       "</g>\n",
       "<!-- 2&#45;&gt;3 -->\n",
       "<g id=\"edge3\" class=\"edge\">\n",
       "<title>2&#45;&gt;3</title>\n",
       "<path fill=\"none\" stroke=\"#000000\" d=\"M13,-50.9748C13,-44.195 13,-33.966 13,-25.1331\"/>\n",
       "<polygon fill=\"#000000\" stroke=\"#000000\" points=\"16.5001,-25.0561 13,-15.0561 9.5001,-25.0561 16.5001,-25.0561\"/>\n",
       "</g>\n",
       "<!-- 5 -->\n",
       "<g id=\"node6\" class=\"node\">\n",
       "<title>5</title>\n",
       "<text text-anchor=\"middle\" x=\"57\" y=\"-3.8\" font-family=\"Times,serif\" font-size=\"14.00\" fill=\"#000000\">&lt;E&gt;</text>\n",
       "</g>\n",
       "<!-- 4&#45;&gt;5 -->\n",
       "<g id=\"edge5\" class=\"edge\">\n",
       "<title>4&#45;&gt;5</title>\n",
       "<path fill=\"none\" stroke=\"#000000\" d=\"M57,-50.9748C57,-44.195 57,-33.966 57,-25.1331\"/>\n",
       "<polygon fill=\"#000000\" stroke=\"#000000\" points=\"60.5001,-25.0561 57,-15.0561 53.5001,-25.0561 60.5001,-25.0561\"/>\n",
       "</g>\n",
       "<!-- 7 -->\n",
       "<g id=\"node8\" class=\"node\">\n",
       "<title>7</title>\n",
       "<text text-anchor=\"middle\" x=\"101\" y=\"-3.8\" font-family=\"Times,serif\" font-size=\"14.00\" fill=\"#000000\">a</text>\n",
       "</g>\n",
       "<!-- 6&#45;&gt;7 -->\n",
       "<g id=\"edge7\" class=\"edge\">\n",
       "<title>6&#45;&gt;7</title>\n",
       "<path fill=\"none\" stroke=\"#000000\" d=\"M101,-50.9748C101,-44.195 101,-33.966 101,-25.1331\"/>\n",
       "<polygon fill=\"#000000\" stroke=\"#000000\" points=\"104.5001,-25.0561 101,-15.0561 97.5001,-25.0561 104.5001,-25.0561\"/>\n",
       "</g>\n",
       "<!-- 9 -->\n",
       "<g id=\"node10\" class=\"node\">\n",
       "<title>9</title>\n",
       "<text text-anchor=\"middle\" x=\"145\" y=\"-3.8\" font-family=\"Times,serif\" font-size=\"14.00\" fill=\"#000000\">&lt;E&gt;</text>\n",
       "</g>\n",
       "<!-- 8&#45;&gt;9 -->\n",
       "<g id=\"edge9\" class=\"edge\">\n",
       "<title>8&#45;&gt;9</title>\n",
       "<path fill=\"none\" stroke=\"#000000\" d=\"M145,-50.9748C145,-44.195 145,-33.966 145,-25.1331\"/>\n",
       "<polygon fill=\"#000000\" stroke=\"#000000\" points=\"148.5001,-25.0561 145,-15.0561 141.5001,-25.0561 148.5001,-25.0561\"/>\n",
       "</g>\n",
       "</g>\n",
       "</svg>\n"
      ],
      "text/plain": [
       "<graphviz.dot.Digraph at 0x1142bff98>"
      ]
     },
     "metadata": {},
     "output_type": "display_data"
    },
    {
     "data": {
      "image/svg+xml": [
       "<?xml version=\"1.0\" encoding=\"UTF-8\" standalone=\"no\"?>\n",
       "<!DOCTYPE svg PUBLIC \"-//W3C//DTD SVG 1.1//EN\"\n",
       " \"http://www.w3.org/Graphics/SVG/1.1/DTD/svg11.dtd\">\n",
       "<!-- Generated by graphviz version 2.40.1 (20161225.0304)\n",
       " -->\n",
       "<!-- Title: %3 Pages: 1 -->\n",
       "<svg width=\"166pt\" height=\"176pt\"\n",
       " viewBox=\"0.00 0.00 166.00 176.00\" xmlns=\"http://www.w3.org/2000/svg\" xmlns:xlink=\"http://www.w3.org/1999/xlink\">\n",
       "<g id=\"graph0\" class=\"graph\" transform=\"scale(1 1) rotate(0) translate(4 172)\">\n",
       "<title>%3</title>\n",
       "<polygon fill=\"#ffffff\" stroke=\"transparent\" points=\"-4,4 -4,-172 162,-172 162,4 -4,4\"/>\n",
       "<!-- 0 -->\n",
       "<g id=\"node1\" class=\"node\">\n",
       "<title>0</title>\n",
       "<text text-anchor=\"middle\" x=\"79\" y=\"-156.8\" font-family=\"Times,serif\" font-size=\"14.00\" fill=\"#000000\">&lt;start&gt;</text>\n",
       "</g>\n",
       "<!-- 1 -->\n",
       "<g id=\"node2\" class=\"node\">\n",
       "<title>1</title>\n",
       "<text text-anchor=\"middle\" x=\"79\" y=\"-105.8\" font-family=\"Times,serif\" font-size=\"14.00\" fill=\"#000000\">&lt;S&gt;</text>\n",
       "</g>\n",
       "<!-- 0&#45;&gt;1 -->\n",
       "<g id=\"edge1\" class=\"edge\">\n",
       "<title>0&#45;&gt;1</title>\n",
       "<path fill=\"none\" stroke=\"#000000\" d=\"M79,-152.9748C79,-146.195 79,-135.966 79,-127.1331\"/>\n",
       "<polygon fill=\"#000000\" stroke=\"#000000\" points=\"82.5001,-127.0561 79,-117.0561 75.5001,-127.0561 82.5001,-127.0561\"/>\n",
       "</g>\n",
       "<!-- 2 -->\n",
       "<g id=\"node3\" class=\"node\">\n",
       "<title>2</title>\n",
       "<text text-anchor=\"middle\" x=\"13\" y=\"-54.8\" font-family=\"Times,serif\" font-size=\"14.00\" fill=\"#000000\">&lt;A&gt;</text>\n",
       "</g>\n",
       "<!-- 1&#45;&gt;2 -->\n",
       "<g id=\"edge2\" class=\"edge\">\n",
       "<title>1&#45;&gt;2</title>\n",
       "<path fill=\"none\" stroke=\"#000000\" d=\"M69.2615,-101.9748C59.2203,-94.2157 43.3329,-81.939 30.998,-72.4075\"/>\n",
       "<polygon fill=\"#000000\" stroke=\"#000000\" points=\"32.8314,-69.4011 22.7785,-66.0561 28.5513,-74.9401 32.8314,-69.4011\"/>\n",
       "</g>\n",
       "<!-- 4 -->\n",
       "<g id=\"node5\" class=\"node\">\n",
       "<title>4</title>\n",
       "<text text-anchor=\"middle\" x=\"57\" y=\"-54.8\" font-family=\"Times,serif\" font-size=\"14.00\" fill=\"#000000\">&lt;A&gt;</text>\n",
       "</g>\n",
       "<!-- 1&#45;&gt;4 -->\n",
       "<g id=\"edge4\" class=\"edge\">\n",
       "<title>1&#45;&gt;4</title>\n",
       "<path fill=\"none\" stroke=\"#000000\" d=\"M75.7538,-101.9748C72.7317,-94.969 68.1209,-84.2803 64.2275,-75.2547\"/>\n",
       "<polygon fill=\"#000000\" stroke=\"#000000\" points=\"67.4342,-73.8519 60.2595,-66.0561 61.0067,-76.6246 67.4342,-73.8519\"/>\n",
       "</g>\n",
       "<!-- 6 -->\n",
       "<g id=\"node7\" class=\"node\">\n",
       "<title>6</title>\n",
       "<text text-anchor=\"middle\" x=\"101\" y=\"-54.8\" font-family=\"Times,serif\" font-size=\"14.00\" fill=\"#000000\">&lt;A&gt;</text>\n",
       "</g>\n",
       "<!-- 1&#45;&gt;6 -->\n",
       "<g id=\"edge6\" class=\"edge\">\n",
       "<title>1&#45;&gt;6</title>\n",
       "<path fill=\"none\" stroke=\"#000000\" d=\"M82.2462,-101.9748C85.2683,-94.969 89.8791,-84.2803 93.7725,-75.2547\"/>\n",
       "<polygon fill=\"#000000\" stroke=\"#000000\" points=\"96.9933,-76.6246 97.7405,-66.0561 90.5658,-73.8519 96.9933,-76.6246\"/>\n",
       "</g>\n",
       "<!-- 8 -->\n",
       "<g id=\"node9\" class=\"node\">\n",
       "<title>8</title>\n",
       "<text text-anchor=\"middle\" x=\"145\" y=\"-54.8\" font-family=\"Times,serif\" font-size=\"14.00\" fill=\"#000000\">&lt;A&gt;</text>\n",
       "</g>\n",
       "<!-- 1&#45;&gt;8 -->\n",
       "<g id=\"edge8\" class=\"edge\">\n",
       "<title>1&#45;&gt;8</title>\n",
       "<path fill=\"none\" stroke=\"#000000\" d=\"M88.7385,-101.9748C98.7797,-94.2157 114.6671,-81.939 127.002,-72.4075\"/>\n",
       "<polygon fill=\"#000000\" stroke=\"#000000\" points=\"129.4487,-74.9401 135.2215,-66.0561 125.1686,-69.4011 129.4487,-74.9401\"/>\n",
       "</g>\n",
       "<!-- 3 -->\n",
       "<g id=\"node4\" class=\"node\">\n",
       "<title>3</title>\n",
       "<text text-anchor=\"middle\" x=\"13\" y=\"-3.8\" font-family=\"Times,serif\" font-size=\"14.00\" fill=\"#000000\">&lt;E&gt;</text>\n",
       "</g>\n",
       "<!-- 2&#45;&gt;3 -->\n",
       "<g id=\"edge3\" class=\"edge\">\n",
       "<title>2&#45;&gt;3</title>\n",
       "<path fill=\"none\" stroke=\"#000000\" d=\"M13,-50.9748C13,-44.195 13,-33.966 13,-25.1331\"/>\n",
       "<polygon fill=\"#000000\" stroke=\"#000000\" points=\"16.5001,-25.0561 13,-15.0561 9.5001,-25.0561 16.5001,-25.0561\"/>\n",
       "</g>\n",
       "<!-- 5 -->\n",
       "<g id=\"node6\" class=\"node\">\n",
       "<title>5</title>\n",
       "<text text-anchor=\"middle\" x=\"57\" y=\"-3.8\" font-family=\"Times,serif\" font-size=\"14.00\" fill=\"#000000\">a</text>\n",
       "</g>\n",
       "<!-- 4&#45;&gt;5 -->\n",
       "<g id=\"edge5\" class=\"edge\">\n",
       "<title>4&#45;&gt;5</title>\n",
       "<path fill=\"none\" stroke=\"#000000\" d=\"M57,-50.9748C57,-44.195 57,-33.966 57,-25.1331\"/>\n",
       "<polygon fill=\"#000000\" stroke=\"#000000\" points=\"60.5001,-25.0561 57,-15.0561 53.5001,-25.0561 60.5001,-25.0561\"/>\n",
       "</g>\n",
       "<!-- 7 -->\n",
       "<g id=\"node8\" class=\"node\">\n",
       "<title>7</title>\n",
       "<text text-anchor=\"middle\" x=\"101\" y=\"-3.8\" font-family=\"Times,serif\" font-size=\"14.00\" fill=\"#000000\">&lt;E&gt;</text>\n",
       "</g>\n",
       "<!-- 6&#45;&gt;7 -->\n",
       "<g id=\"edge7\" class=\"edge\">\n",
       "<title>6&#45;&gt;7</title>\n",
       "<path fill=\"none\" stroke=\"#000000\" d=\"M101,-50.9748C101,-44.195 101,-33.966 101,-25.1331\"/>\n",
       "<polygon fill=\"#000000\" stroke=\"#000000\" points=\"104.5001,-25.0561 101,-15.0561 97.5001,-25.0561 104.5001,-25.0561\"/>\n",
       "</g>\n",
       "<!-- 9 -->\n",
       "<g id=\"node10\" class=\"node\">\n",
       "<title>9</title>\n",
       "<text text-anchor=\"middle\" x=\"145\" y=\"-3.8\" font-family=\"Times,serif\" font-size=\"14.00\" fill=\"#000000\">&lt;E&gt;</text>\n",
       "</g>\n",
       "<!-- 8&#45;&gt;9 -->\n",
       "<g id=\"edge9\" class=\"edge\">\n",
       "<title>8&#45;&gt;9</title>\n",
       "<path fill=\"none\" stroke=\"#000000\" d=\"M145,-50.9748C145,-44.195 145,-33.966 145,-25.1331\"/>\n",
       "<polygon fill=\"#000000\" stroke=\"#000000\" points=\"148.5001,-25.0561 145,-15.0561 141.5001,-25.0561 148.5001,-25.0561\"/>\n",
       "</g>\n",
       "</g>\n",
       "</svg>\n"
      ],
      "text/plain": [
       "<graphviz.dot.Digraph at 0x1142bff98>"
      ]
     },
     "metadata": {},
     "output_type": "display_data"
    },
    {
     "data": {
      "image/svg+xml": [
       "<?xml version=\"1.0\" encoding=\"UTF-8\" standalone=\"no\"?>\n",
       "<!DOCTYPE svg PUBLIC \"-//W3C//DTD SVG 1.1//EN\"\n",
       " \"http://www.w3.org/Graphics/SVG/1.1/DTD/svg11.dtd\">\n",
       "<!-- Generated by graphviz version 2.40.1 (20161225.0304)\n",
       " -->\n",
       "<!-- Title: %3 Pages: 1 -->\n",
       "<svg width=\"166pt\" height=\"176pt\"\n",
       " viewBox=\"0.00 0.00 166.00 176.00\" xmlns=\"http://www.w3.org/2000/svg\" xmlns:xlink=\"http://www.w3.org/1999/xlink\">\n",
       "<g id=\"graph0\" class=\"graph\" transform=\"scale(1 1) rotate(0) translate(4 172)\">\n",
       "<title>%3</title>\n",
       "<polygon fill=\"#ffffff\" stroke=\"transparent\" points=\"-4,4 -4,-172 162,-172 162,4 -4,4\"/>\n",
       "<!-- 0 -->\n",
       "<g id=\"node1\" class=\"node\">\n",
       "<title>0</title>\n",
       "<text text-anchor=\"middle\" x=\"79\" y=\"-156.8\" font-family=\"Times,serif\" font-size=\"14.00\" fill=\"#000000\">&lt;start&gt;</text>\n",
       "</g>\n",
       "<!-- 1 -->\n",
       "<g id=\"node2\" class=\"node\">\n",
       "<title>1</title>\n",
       "<text text-anchor=\"middle\" x=\"79\" y=\"-105.8\" font-family=\"Times,serif\" font-size=\"14.00\" fill=\"#000000\">&lt;S&gt;</text>\n",
       "</g>\n",
       "<!-- 0&#45;&gt;1 -->\n",
       "<g id=\"edge1\" class=\"edge\">\n",
       "<title>0&#45;&gt;1</title>\n",
       "<path fill=\"none\" stroke=\"#000000\" d=\"M79,-152.9748C79,-146.195 79,-135.966 79,-127.1331\"/>\n",
       "<polygon fill=\"#000000\" stroke=\"#000000\" points=\"82.5001,-127.0561 79,-117.0561 75.5001,-127.0561 82.5001,-127.0561\"/>\n",
       "</g>\n",
       "<!-- 2 -->\n",
       "<g id=\"node3\" class=\"node\">\n",
       "<title>2</title>\n",
       "<text text-anchor=\"middle\" x=\"13\" y=\"-54.8\" font-family=\"Times,serif\" font-size=\"14.00\" fill=\"#000000\">&lt;A&gt;</text>\n",
       "</g>\n",
       "<!-- 1&#45;&gt;2 -->\n",
       "<g id=\"edge2\" class=\"edge\">\n",
       "<title>1&#45;&gt;2</title>\n",
       "<path fill=\"none\" stroke=\"#000000\" d=\"M69.2615,-101.9748C59.2203,-94.2157 43.3329,-81.939 30.998,-72.4075\"/>\n",
       "<polygon fill=\"#000000\" stroke=\"#000000\" points=\"32.8314,-69.4011 22.7785,-66.0561 28.5513,-74.9401 32.8314,-69.4011\"/>\n",
       "</g>\n",
       "<!-- 4 -->\n",
       "<g id=\"node5\" class=\"node\">\n",
       "<title>4</title>\n",
       "<text text-anchor=\"middle\" x=\"57\" y=\"-54.8\" font-family=\"Times,serif\" font-size=\"14.00\" fill=\"#000000\">&lt;A&gt;</text>\n",
       "</g>\n",
       "<!-- 1&#45;&gt;4 -->\n",
       "<g id=\"edge4\" class=\"edge\">\n",
       "<title>1&#45;&gt;4</title>\n",
       "<path fill=\"none\" stroke=\"#000000\" d=\"M75.7538,-101.9748C72.7317,-94.969 68.1209,-84.2803 64.2275,-75.2547\"/>\n",
       "<polygon fill=\"#000000\" stroke=\"#000000\" points=\"67.4342,-73.8519 60.2595,-66.0561 61.0067,-76.6246 67.4342,-73.8519\"/>\n",
       "</g>\n",
       "<!-- 6 -->\n",
       "<g id=\"node7\" class=\"node\">\n",
       "<title>6</title>\n",
       "<text text-anchor=\"middle\" x=\"101\" y=\"-54.8\" font-family=\"Times,serif\" font-size=\"14.00\" fill=\"#000000\">&lt;A&gt;</text>\n",
       "</g>\n",
       "<!-- 1&#45;&gt;6 -->\n",
       "<g id=\"edge6\" class=\"edge\">\n",
       "<title>1&#45;&gt;6</title>\n",
       "<path fill=\"none\" stroke=\"#000000\" d=\"M82.2462,-101.9748C85.2683,-94.969 89.8791,-84.2803 93.7725,-75.2547\"/>\n",
       "<polygon fill=\"#000000\" stroke=\"#000000\" points=\"96.9933,-76.6246 97.7405,-66.0561 90.5658,-73.8519 96.9933,-76.6246\"/>\n",
       "</g>\n",
       "<!-- 8 -->\n",
       "<g id=\"node9\" class=\"node\">\n",
       "<title>8</title>\n",
       "<text text-anchor=\"middle\" x=\"145\" y=\"-54.8\" font-family=\"Times,serif\" font-size=\"14.00\" fill=\"#000000\">&lt;A&gt;</text>\n",
       "</g>\n",
       "<!-- 1&#45;&gt;8 -->\n",
       "<g id=\"edge8\" class=\"edge\">\n",
       "<title>1&#45;&gt;8</title>\n",
       "<path fill=\"none\" stroke=\"#000000\" d=\"M88.7385,-101.9748C98.7797,-94.2157 114.6671,-81.939 127.002,-72.4075\"/>\n",
       "<polygon fill=\"#000000\" stroke=\"#000000\" points=\"129.4487,-74.9401 135.2215,-66.0561 125.1686,-69.4011 129.4487,-74.9401\"/>\n",
       "</g>\n",
       "<!-- 3 -->\n",
       "<g id=\"node4\" class=\"node\">\n",
       "<title>3</title>\n",
       "<text text-anchor=\"middle\" x=\"13\" y=\"-3.8\" font-family=\"Times,serif\" font-size=\"14.00\" fill=\"#000000\">a</text>\n",
       "</g>\n",
       "<!-- 2&#45;&gt;3 -->\n",
       "<g id=\"edge3\" class=\"edge\">\n",
       "<title>2&#45;&gt;3</title>\n",
       "<path fill=\"none\" stroke=\"#000000\" d=\"M13,-50.9748C13,-44.195 13,-33.966 13,-25.1331\"/>\n",
       "<polygon fill=\"#000000\" stroke=\"#000000\" points=\"16.5001,-25.0561 13,-15.0561 9.5001,-25.0561 16.5001,-25.0561\"/>\n",
       "</g>\n",
       "<!-- 5 -->\n",
       "<g id=\"node6\" class=\"node\">\n",
       "<title>5</title>\n",
       "<text text-anchor=\"middle\" x=\"57\" y=\"-3.8\" font-family=\"Times,serif\" font-size=\"14.00\" fill=\"#000000\">&lt;E&gt;</text>\n",
       "</g>\n",
       "<!-- 4&#45;&gt;5 -->\n",
       "<g id=\"edge5\" class=\"edge\">\n",
       "<title>4&#45;&gt;5</title>\n",
       "<path fill=\"none\" stroke=\"#000000\" d=\"M57,-50.9748C57,-44.195 57,-33.966 57,-25.1331\"/>\n",
       "<polygon fill=\"#000000\" stroke=\"#000000\" points=\"60.5001,-25.0561 57,-15.0561 53.5001,-25.0561 60.5001,-25.0561\"/>\n",
       "</g>\n",
       "<!-- 7 -->\n",
       "<g id=\"node8\" class=\"node\">\n",
       "<title>7</title>\n",
       "<text text-anchor=\"middle\" x=\"101\" y=\"-3.8\" font-family=\"Times,serif\" font-size=\"14.00\" fill=\"#000000\">&lt;E&gt;</text>\n",
       "</g>\n",
       "<!-- 6&#45;&gt;7 -->\n",
       "<g id=\"edge7\" class=\"edge\">\n",
       "<title>6&#45;&gt;7</title>\n",
       "<path fill=\"none\" stroke=\"#000000\" d=\"M101,-50.9748C101,-44.195 101,-33.966 101,-25.1331\"/>\n",
       "<polygon fill=\"#000000\" stroke=\"#000000\" points=\"104.5001,-25.0561 101,-15.0561 97.5001,-25.0561 104.5001,-25.0561\"/>\n",
       "</g>\n",
       "<!-- 9 -->\n",
       "<g id=\"node10\" class=\"node\">\n",
       "<title>9</title>\n",
       "<text text-anchor=\"middle\" x=\"145\" y=\"-3.8\" font-family=\"Times,serif\" font-size=\"14.00\" fill=\"#000000\">&lt;E&gt;</text>\n",
       "</g>\n",
       "<!-- 8&#45;&gt;9 -->\n",
       "<g id=\"edge9\" class=\"edge\">\n",
       "<title>8&#45;&gt;9</title>\n",
       "<path fill=\"none\" stroke=\"#000000\" d=\"M145,-50.9748C145,-44.195 145,-33.966 145,-25.1331\"/>\n",
       "<polygon fill=\"#000000\" stroke=\"#000000\" points=\"148.5001,-25.0561 145,-15.0561 141.5001,-25.0561 148.5001,-25.0561\"/>\n",
       "</g>\n",
       "</g>\n",
       "</svg>\n"
      ],
      "text/plain": [
       "<graphviz.dot.Digraph at 0x1142bff98>"
      ]
     },
     "metadata": {},
     "output_type": "display_data"
    }
   ],
   "source": [
    "mystring = 'a'\n",
    "parser = EarleyParser(E_GRAMMAR)\n",
    "for tree in parser.parse(mystring):\n",
    "    display_tree(tree)"
   ]
  },
  {
   "cell_type": "markdown",
   "metadata": {
    "slideshow": {
     "slide_type": "subslide"
    }
   },
   "source": [
    "### More Earley Parsing\n",
    "\n",
    "A number of other optimizations exist for Earley parsers. A fast industrial strength Earley parser implementation is the [Marpa parser](https://jeffreykegler.github.io/Marpa-web-site/). Further, Earley parsing need not be restricted to character data. One may also parse streams (audio and video streams) \\cite{qi2018generalized} using a generalized Earley parser."
   ]
  },
  {
   "cell_type": "markdown",
   "metadata": {
    "slideshow": {
     "slide_type": "slide"
    }
   },
   "source": [
    "## Testing the Parsers\n",
    "\n",
    "While we have defined two parser variants, it would be nice to have some confirmation that our parses work well. While it is possible to formally prove that they work, it is much more satisfying to generate random grammars, their corresponding strings, and parse them using the same grammar."
   ]
  },
  {
   "cell_type": "code",
   "execution_count": 145,
   "metadata": {
    "slideshow": {
     "slide_type": "subslide"
    }
   },
   "outputs": [],
   "source": [
    "def prod_line_grammar(nonterminals, terminals):\n",
    "    g = {\n",
    "        '<start>': ['<symbols>'],\n",
    "        '<symbols>': ['<symbol><symbols>', '<symbol>'],\n",
    "        '<symbol>': ['<nonterminals>', '<terminals>'],\n",
    "        '<nonterminals>': ['<lt><alpha><gt>'],\n",
    "        '<lt>': ['<'],\n",
    "        '<gt>': ['>'],\n",
    "        '<alpha>': nonterminals,\n",
    "        '<terminals>': terminals\n",
    "    }\n",
    "\n",
    "    if not nonterminals:\n",
    "        g['<nonterminals>'] = ['']\n",
    "        del g['<lt>']\n",
    "        del g['<alpha>']\n",
    "        del g['<gt>']\n",
    "\n",
    "    return g"
   ]
  },
  {
   "cell_type": "code",
   "execution_count": 146,
   "metadata": {
    "slideshow": {
     "slide_type": "subslide"
    }
   },
   "outputs": [
    {
     "name": "stdout",
     "output_type": "stream",
     "text": [
      "start\n"
     ]
    },
    {
     "data": {
      "image/svg+xml": [
       "<svg class=\"railroad-diagram\" height=\"62\" viewBox=\"0 0 199.5 62\" width=\"199.5\" xmlns=\"http://www.w3.org/2000/svg\">\n",
       "<g transform=\"translate(.5 .5)\">\n",
       "<style>/* <![CDATA[ */\n",
       "    svg.railroad-diagram {\n",
       "        background-color:hsl(100,100%,100%);\n",
       "    }\n",
       "    svg.railroad-diagram path {\n",
       "        stroke-width:3;\n",
       "        stroke:black;\n",
       "        fill:rgba(0,0,0,0);\n",
       "    }\n",
       "    svg.railroad-diagram text {\n",
       "        font:bold 14px monospace;\n",
       "        text-anchor:middle;\n",
       "    }\n",
       "    svg.railroad-diagram text.label{\n",
       "        text-anchor:start;\n",
       "    }\n",
       "    svg.railroad-diagram text.comment{\n",
       "        font:italic 12px monospace;\n",
       "    }\n",
       "    svg.railroad-diagram rect{\n",
       "        stroke-width:3;\n",
       "        stroke:black;\n",
       "        fill:hsl(0,62%,82%);\n",
       "    }\n",
       "\n",
       "/* ]]> */\n",
       "</style><g>\n",
       "<path d=\"M20 21v20m10 -20v20m-10 -10h20\"/></g><g>\n",
       "<path d=\"M40 31h0.0\"/><path d=\"M159.5 31h0.0\"/><path d=\"M40.0 31h20\"/><g>\n",
       "<path d=\"M60.0 31h0.0\"/><path d=\"M139.5 31h0.0\"/><g class=\"non-terminal\">\n",
       "<path d=\"M60.0 31h0.0\"/><path d=\"M139.5 31h0.0\"/><rect height=\"22\" width=\"79.5\" x=\"60.0\" y=\"20\"/><text x=\"99.75\" y=\"35\">symbols</text></g></g><path d=\"M139.5 31h20\"/></g><path d=\"M 159.5 31 h 20 m -10 -10 v 20 m 10 -20 v 20\"/></g></svg>"
      ],
      "text/plain": [
       "<IPython.core.display.SVG object>"
      ]
     },
     "metadata": {},
     "output_type": "display_data"
    },
    {
     "name": "stdout",
     "output_type": "stream",
     "text": [
      "symbols\n"
     ]
    },
    {
     "data": {
      "image/svg+xml": [
       "<svg class=\"railroad-diagram\" height=\"92\" viewBox=\"0 0 290.5 92\" width=\"290.5\" xmlns=\"http://www.w3.org/2000/svg\">\n",
       "<g transform=\"translate(.5 .5)\">\n",
       "<style>/* <![CDATA[ */\n",
       "    svg.railroad-diagram {\n",
       "        background-color:hsl(100,100%,100%);\n",
       "    }\n",
       "    svg.railroad-diagram path {\n",
       "        stroke-width:3;\n",
       "        stroke:black;\n",
       "        fill:rgba(0,0,0,0);\n",
       "    }\n",
       "    svg.railroad-diagram text {\n",
       "        font:bold 14px monospace;\n",
       "        text-anchor:middle;\n",
       "    }\n",
       "    svg.railroad-diagram text.label{\n",
       "        text-anchor:start;\n",
       "    }\n",
       "    svg.railroad-diagram text.comment{\n",
       "        font:italic 12px monospace;\n",
       "    }\n",
       "    svg.railroad-diagram rect{\n",
       "        stroke-width:3;\n",
       "        stroke:black;\n",
       "        fill:hsl(0,62%,82%);\n",
       "    }\n",
       "\n",
       "/* ]]> */\n",
       "</style><g>\n",
       "<path d=\"M20 51v20m10 -20v20m-10 -10h20\"/></g><g>\n",
       "<path d=\"M40 61h0.0\"/><path d=\"M250.5 61h0.0\"/><path d=\"M40.0 61a10 10 0 0 0 10 -10v-10a10 10 0 0 1 10 -10\"/><g>\n",
       "<path d=\"M60.0 31h0.0\"/><path d=\"M230.5 31h0.0\"/><g class=\"non-terminal\">\n",
       "<path d=\"M60.0 31h0.0\"/><path d=\"M131.0 31h0.0\"/><rect height=\"22\" width=\"71.0\" x=\"60.0\" y=\"20\"/><text x=\"95.5\" y=\"35\">symbol</text></g><path d=\"M131.0 31h10\"/><path d=\"M141.0 31h10\"/><g class=\"non-terminal\">\n",
       "<path d=\"M151.0 31h0.0\"/><path d=\"M230.5 31h0.0\"/><rect height=\"22\" width=\"79.5\" x=\"151.0\" y=\"20\"/><text x=\"190.75\" y=\"35\">symbols</text></g></g><path d=\"M230.5 31a10 10 0 0 1 10 10v10a10 10 0 0 0 10 10\"/><path d=\"M40.0 61h20\"/><g>\n",
       "<path d=\"M60.0 61h49.75\"/><path d=\"M180.75 61h49.75\"/><g class=\"non-terminal\">\n",
       "<path d=\"M109.75 61h0.0\"/><path d=\"M180.75 61h0.0\"/><rect height=\"22\" width=\"71.0\" x=\"109.75\" y=\"50\"/><text x=\"145.25\" y=\"65\">symbol</text></g></g><path d=\"M230.5 61h20\"/></g><path d=\"M 250.5 61 h 20 m -10 -10 v 20 m 10 -20 v 20\"/></g></svg>"
      ],
      "text/plain": [
       "<IPython.core.display.SVG object>"
      ]
     },
     "metadata": {},
     "output_type": "display_data"
    },
    {
     "name": "stdout",
     "output_type": "stream",
     "text": [
      "symbol\n"
     ]
    },
    {
     "data": {
      "image/svg+xml": [
       "<svg class=\"railroad-diagram\" height=\"92\" viewBox=\"0 0 242.0 92\" width=\"242.0\" xmlns=\"http://www.w3.org/2000/svg\">\n",
       "<g transform=\"translate(.5 .5)\">\n",
       "<style>/* <![CDATA[ */\n",
       "    svg.railroad-diagram {\n",
       "        background-color:hsl(100,100%,100%);\n",
       "    }\n",
       "    svg.railroad-diagram path {\n",
       "        stroke-width:3;\n",
       "        stroke:black;\n",
       "        fill:rgba(0,0,0,0);\n",
       "    }\n",
       "    svg.railroad-diagram text {\n",
       "        font:bold 14px monospace;\n",
       "        text-anchor:middle;\n",
       "    }\n",
       "    svg.railroad-diagram text.label{\n",
       "        text-anchor:start;\n",
       "    }\n",
       "    svg.railroad-diagram text.comment{\n",
       "        font:italic 12px monospace;\n",
       "    }\n",
       "    svg.railroad-diagram rect{\n",
       "        stroke-width:3;\n",
       "        stroke:black;\n",
       "        fill:hsl(0,62%,82%);\n",
       "    }\n",
       "\n",
       "/* ]]> */\n",
       "</style><g>\n",
       "<path d=\"M20 51v20m10 -20v20m-10 -10h20\"/></g><g>\n",
       "<path d=\"M40 61h0.0\"/><path d=\"M202.0 61h0.0\"/><path d=\"M40.0 61a10 10 0 0 0 10 -10v-10a10 10 0 0 1 10 -10\"/><g>\n",
       "<path d=\"M60.0 31h0.0\"/><path d=\"M182.0 31h0.0\"/><g class=\"non-terminal\">\n",
       "<path d=\"M60.0 31h0.0\"/><path d=\"M182.0 31h0.0\"/><rect height=\"22\" width=\"122.0\" x=\"60.0\" y=\"20\"/><text x=\"121.0\" y=\"35\">nonterminals</text></g></g><path d=\"M182.0 31a10 10 0 0 1 10 10v10a10 10 0 0 0 10 10\"/><path d=\"M40.0 61h20\"/><g>\n",
       "<path d=\"M60.0 61h12.75\"/><path d=\"M169.25 61h12.75\"/><g class=\"non-terminal\">\n",
       "<path d=\"M72.75 61h0.0\"/><path d=\"M169.25 61h0.0\"/><rect height=\"22\" width=\"96.5\" x=\"72.75\" y=\"50\"/><text x=\"121.0\" y=\"65\">terminals</text></g></g><path d=\"M182.0 61h20\"/></g><path d=\"M 202.0 61 h 20 m -10 -10 v 20 m 10 -20 v 20\"/></g></svg>"
      ],
      "text/plain": [
       "<IPython.core.display.SVG object>"
      ]
     },
     "metadata": {},
     "output_type": "display_data"
    },
    {
     "name": "stdout",
     "output_type": "stream",
     "text": [
      "nonterminals\n"
     ]
    },
    {
     "data": {
      "image/svg+xml": [
       "<svg class=\"railroad-diagram\" height=\"62\" viewBox=\"0 0 296.5 62\" width=\"296.5\" xmlns=\"http://www.w3.org/2000/svg\">\n",
       "<g transform=\"translate(.5 .5)\">\n",
       "<style>/* <![CDATA[ */\n",
       "    svg.railroad-diagram {\n",
       "        background-color:hsl(100,100%,100%);\n",
       "    }\n",
       "    svg.railroad-diagram path {\n",
       "        stroke-width:3;\n",
       "        stroke:black;\n",
       "        fill:rgba(0,0,0,0);\n",
       "    }\n",
       "    svg.railroad-diagram text {\n",
       "        font:bold 14px monospace;\n",
       "        text-anchor:middle;\n",
       "    }\n",
       "    svg.railroad-diagram text.label{\n",
       "        text-anchor:start;\n",
       "    }\n",
       "    svg.railroad-diagram text.comment{\n",
       "        font:italic 12px monospace;\n",
       "    }\n",
       "    svg.railroad-diagram rect{\n",
       "        stroke-width:3;\n",
       "        stroke:black;\n",
       "        fill:hsl(0,62%,82%);\n",
       "    }\n",
       "\n",
       "/* ]]> */\n",
       "</style><g>\n",
       "<path d=\"M20 21v20m10 -20v20m-10 -10h20\"/></g><g>\n",
       "<path d=\"M40 31h0.0\"/><path d=\"M256.5 31h0.0\"/><path d=\"M40.0 31h20\"/><g>\n",
       "<path d=\"M60.0 31h0.0\"/><path d=\"M236.5 31h0.0\"/><g class=\"non-terminal\">\n",
       "<path d=\"M60.0 31h0.0\"/><path d=\"M97.0 31h0.0\"/><rect height=\"22\" width=\"37.0\" x=\"60.0\" y=\"20\"/><text x=\"78.5\" y=\"35\">lt</text></g><path d=\"M97.0 31h10\"/><path d=\"M107.0 31h10\"/><g class=\"non-terminal\">\n",
       "<path d=\"M117.0 31h0.0\"/><path d=\"M179.5 31h0.0\"/><rect height=\"22\" width=\"62.5\" x=\"117.0\" y=\"20\"/><text x=\"148.25\" y=\"35\">alpha</text></g><path d=\"M179.5 31h10\"/><path d=\"M189.5 31h10\"/><g class=\"non-terminal\">\n",
       "<path d=\"M199.5 31h0.0\"/><path d=\"M236.5 31h0.0\"/><rect height=\"22\" width=\"37.0\" x=\"199.5\" y=\"20\"/><text x=\"218.0\" y=\"35\">gt</text></g></g><path d=\"M236.5 31h20\"/></g><path d=\"M 256.5 31 h 20 m -10 -10 v 20 m 10 -20 v 20\"/></g></svg>"
      ],
      "text/plain": [
       "<IPython.core.display.SVG object>"
      ]
     },
     "metadata": {},
     "output_type": "display_data"
    },
    {
     "name": "stdout",
     "output_type": "stream",
     "text": [
      "lt\n"
     ]
    },
    {
     "data": {
      "image/svg+xml": [
       "<svg class=\"railroad-diagram\" height=\"62\" viewBox=\"0 0 148.5 62\" width=\"148.5\" xmlns=\"http://www.w3.org/2000/svg\">\n",
       "<g transform=\"translate(.5 .5)\">\n",
       "<style>/* <![CDATA[ */\n",
       "    svg.railroad-diagram {\n",
       "        background-color:hsl(100,100%,100%);\n",
       "    }\n",
       "    svg.railroad-diagram path {\n",
       "        stroke-width:3;\n",
       "        stroke:black;\n",
       "        fill:rgba(0,0,0,0);\n",
       "    }\n",
       "    svg.railroad-diagram text {\n",
       "        font:bold 14px monospace;\n",
       "        text-anchor:middle;\n",
       "    }\n",
       "    svg.railroad-diagram text.label{\n",
       "        text-anchor:start;\n",
       "    }\n",
       "    svg.railroad-diagram text.comment{\n",
       "        font:italic 12px monospace;\n",
       "    }\n",
       "    svg.railroad-diagram rect{\n",
       "        stroke-width:3;\n",
       "        stroke:black;\n",
       "        fill:hsl(0,62%,82%);\n",
       "    }\n",
       "\n",
       "/* ]]> */\n",
       "</style><g>\n",
       "<path d=\"M20 21v20m10 -20v20m-10 -10h20\"/></g><g>\n",
       "<path d=\"M40 31h0.0\"/><path d=\"M108.5 31h0.0\"/><path d=\"M40.0 31h20\"/><g>\n",
       "<path d=\"M60.0 31h0.0\"/><path d=\"M88.5 31h0.0\"/><g class=\"terminal\">\n",
       "<path d=\"M60.0 31h0.0\"/><path d=\"M88.5 31h0.0\"/><rect height=\"22\" rx=\"10\" ry=\"10\" width=\"28.5\" x=\"60.0\" y=\"20\"/><text x=\"74.25\" y=\"35\">&lt;</text></g></g><path d=\"M88.5 31h20\"/></g><path d=\"M 108.5 31 h 20 m -10 -10 v 20 m 10 -20 v 20\"/></g></svg>"
      ],
      "text/plain": [
       "<IPython.core.display.SVG object>"
      ]
     },
     "metadata": {},
     "output_type": "display_data"
    },
    {
     "name": "stdout",
     "output_type": "stream",
     "text": [
      "gt\n"
     ]
    },
    {
     "data": {
      "image/svg+xml": [
       "<svg class=\"railroad-diagram\" height=\"62\" viewBox=\"0 0 148.5 62\" width=\"148.5\" xmlns=\"http://www.w3.org/2000/svg\">\n",
       "<g transform=\"translate(.5 .5)\">\n",
       "<style>/* <![CDATA[ */\n",
       "    svg.railroad-diagram {\n",
       "        background-color:hsl(100,100%,100%);\n",
       "    }\n",
       "    svg.railroad-diagram path {\n",
       "        stroke-width:3;\n",
       "        stroke:black;\n",
       "        fill:rgba(0,0,0,0);\n",
       "    }\n",
       "    svg.railroad-diagram text {\n",
       "        font:bold 14px monospace;\n",
       "        text-anchor:middle;\n",
       "    }\n",
       "    svg.railroad-diagram text.label{\n",
       "        text-anchor:start;\n",
       "    }\n",
       "    svg.railroad-diagram text.comment{\n",
       "        font:italic 12px monospace;\n",
       "    }\n",
       "    svg.railroad-diagram rect{\n",
       "        stroke-width:3;\n",
       "        stroke:black;\n",
       "        fill:hsl(0,62%,82%);\n",
       "    }\n",
       "\n",
       "/* ]]> */\n",
       "</style><g>\n",
       "<path d=\"M20 21v20m10 -20v20m-10 -10h20\"/></g><g>\n",
       "<path d=\"M40 31h0.0\"/><path d=\"M108.5 31h0.0\"/><path d=\"M40.0 31h20\"/><g>\n",
       "<path d=\"M60.0 31h0.0\"/><path d=\"M88.5 31h0.0\"/><g class=\"terminal\">\n",
       "<path d=\"M60.0 31h0.0\"/><path d=\"M88.5 31h0.0\"/><rect height=\"22\" rx=\"10\" ry=\"10\" width=\"28.5\" x=\"60.0\" y=\"20\"/><text x=\"74.25\" y=\"35\">&gt;</text></g></g><path d=\"M88.5 31h20\"/></g><path d=\"M 108.5 31 h 20 m -10 -10 v 20 m 10 -20 v 20\"/></g></svg>"
      ],
      "text/plain": [
       "<IPython.core.display.SVG object>"
      ]
     },
     "metadata": {},
     "output_type": "display_data"
    },
    {
     "name": "stdout",
     "output_type": "stream",
     "text": [
      "alpha\n"
     ]
    },
    {
     "data": {
      "image/svg+xml": [
       "<svg class=\"railroad-diagram\" height=\"122\" viewBox=\"0 0 148.5 122\" width=\"148.5\" xmlns=\"http://www.w3.org/2000/svg\">\n",
       "<g transform=\"translate(.5 .5)\">\n",
       "<style>/* <![CDATA[ */\n",
       "    svg.railroad-diagram {\n",
       "        background-color:hsl(100,100%,100%);\n",
       "    }\n",
       "    svg.railroad-diagram path {\n",
       "        stroke-width:3;\n",
       "        stroke:black;\n",
       "        fill:rgba(0,0,0,0);\n",
       "    }\n",
       "    svg.railroad-diagram text {\n",
       "        font:bold 14px monospace;\n",
       "        text-anchor:middle;\n",
       "    }\n",
       "    svg.railroad-diagram text.label{\n",
       "        text-anchor:start;\n",
       "    }\n",
       "    svg.railroad-diagram text.comment{\n",
       "        font:italic 12px monospace;\n",
       "    }\n",
       "    svg.railroad-diagram rect{\n",
       "        stroke-width:3;\n",
       "        stroke:black;\n",
       "        fill:hsl(0,62%,82%);\n",
       "    }\n",
       "\n",
       "/* ]]> */\n",
       "</style><g>\n",
       "<path d=\"M20 51v20m10 -20v20m-10 -10h20\"/></g><g>\n",
       "<path d=\"M40 61h0.0\"/><path d=\"M108.5 61h0.0\"/><path d=\"M40.0 61a10 10 0 0 0 10 -10v-10a10 10 0 0 1 10 -10\"/><g>\n",
       "<path d=\"M60.0 31h0.0\"/><path d=\"M88.5 31h0.0\"/><g class=\"terminal\">\n",
       "<path d=\"M60.0 31h0.0\"/><path d=\"M88.5 31h0.0\"/><rect height=\"22\" rx=\"10\" ry=\"10\" width=\"28.5\" x=\"60.0\" y=\"20\"/><text x=\"74.25\" y=\"35\">A</text></g></g><path d=\"M88.5 31a10 10 0 0 1 10 10v10a10 10 0 0 0 10 10\"/><path d=\"M40.0 61h20\"/><g>\n",
       "<path d=\"M60.0 61h0.0\"/><path d=\"M88.5 61h0.0\"/><g class=\"terminal\">\n",
       "<path d=\"M60.0 61h0.0\"/><path d=\"M88.5 61h0.0\"/><rect height=\"22\" rx=\"10\" ry=\"10\" width=\"28.5\" x=\"60.0\" y=\"50\"/><text x=\"74.25\" y=\"65\">B</text></g></g><path d=\"M88.5 61h20\"/><path d=\"M40.0 61a10 10 0 0 1 10 10v10a10 10 0 0 0 10 10\"/><g>\n",
       "<path d=\"M60.0 91h0.0\"/><path d=\"M88.5 91h0.0\"/><g class=\"terminal\">\n",
       "<path d=\"M60.0 91h0.0\"/><path d=\"M88.5 91h0.0\"/><rect height=\"22\" rx=\"10\" ry=\"10\" width=\"28.5\" x=\"60.0\" y=\"80\"/><text x=\"74.25\" y=\"95\">C</text></g></g><path d=\"M88.5 91a10 10 0 0 0 10 -10v-10a10 10 0 0 1 10 -10\"/></g><path d=\"M 108.5 61 h 20 m -10 -10 v 20 m 10 -20 v 20\"/></g></svg>"
      ],
      "text/plain": [
       "<IPython.core.display.SVG object>"
      ]
     },
     "metadata": {},
     "output_type": "display_data"
    },
    {
     "name": "stdout",
     "output_type": "stream",
     "text": [
      "terminals\n"
     ]
    },
    {
     "data": {
      "image/svg+xml": [
       "<svg class=\"railroad-diagram\" height=\"122\" viewBox=\"0 0 148.5 122\" width=\"148.5\" xmlns=\"http://www.w3.org/2000/svg\">\n",
       "<g transform=\"translate(.5 .5)\">\n",
       "<style>/* <![CDATA[ */\n",
       "    svg.railroad-diagram {\n",
       "        background-color:hsl(100,100%,100%);\n",
       "    }\n",
       "    svg.railroad-diagram path {\n",
       "        stroke-width:3;\n",
       "        stroke:black;\n",
       "        fill:rgba(0,0,0,0);\n",
       "    }\n",
       "    svg.railroad-diagram text {\n",
       "        font:bold 14px monospace;\n",
       "        text-anchor:middle;\n",
       "    }\n",
       "    svg.railroad-diagram text.label{\n",
       "        text-anchor:start;\n",
       "    }\n",
       "    svg.railroad-diagram text.comment{\n",
       "        font:italic 12px monospace;\n",
       "    }\n",
       "    svg.railroad-diagram rect{\n",
       "        stroke-width:3;\n",
       "        stroke:black;\n",
       "        fill:hsl(0,62%,82%);\n",
       "    }\n",
       "\n",
       "/* ]]> */\n",
       "</style><g>\n",
       "<path d=\"M20 51v20m10 -20v20m-10 -10h20\"/></g><g>\n",
       "<path d=\"M40 61h0.0\"/><path d=\"M108.5 61h0.0\"/><path d=\"M40.0 61a10 10 0 0 0 10 -10v-10a10 10 0 0 1 10 -10\"/><g>\n",
       "<path d=\"M60.0 31h0.0\"/><path d=\"M88.5 31h0.0\"/><g class=\"terminal\">\n",
       "<path d=\"M60.0 31h0.0\"/><path d=\"M88.5 31h0.0\"/><rect height=\"22\" rx=\"10\" ry=\"10\" width=\"28.5\" x=\"60.0\" y=\"20\"/><text x=\"74.25\" y=\"35\">1</text></g></g><path d=\"M88.5 31a10 10 0 0 1 10 10v10a10 10 0 0 0 10 10\"/><path d=\"M40.0 61h20\"/><g>\n",
       "<path d=\"M60.0 61h0.0\"/><path d=\"M88.5 61h0.0\"/><g class=\"terminal\">\n",
       "<path d=\"M60.0 61h0.0\"/><path d=\"M88.5 61h0.0\"/><rect height=\"22\" rx=\"10\" ry=\"10\" width=\"28.5\" x=\"60.0\" y=\"50\"/><text x=\"74.25\" y=\"65\">2</text></g></g><path d=\"M88.5 61h20\"/><path d=\"M40.0 61a10 10 0 0 1 10 10v10a10 10 0 0 0 10 10\"/><g>\n",
       "<path d=\"M60.0 91h0.0\"/><path d=\"M88.5 91h0.0\"/><g class=\"terminal\">\n",
       "<path d=\"M60.0 91h0.0\"/><path d=\"M88.5 91h0.0\"/><rect height=\"22\" rx=\"10\" ry=\"10\" width=\"28.5\" x=\"60.0\" y=\"80\"/><text x=\"74.25\" y=\"95\">3</text></g></g><path d=\"M88.5 91a10 10 0 0 0 10 -10v-10a10 10 0 0 1 10 -10\"/></g><path d=\"M 108.5 61 h 20 m -10 -10 v 20 m 10 -20 v 20\"/></g></svg>"
      ],
      "text/plain": [
       "<IPython.core.display.SVG object>"
      ]
     },
     "metadata": {},
     "output_type": "display_data"
    }
   ],
   "source": [
    "syntax_diagram(prod_line_grammar([\"A\", \"B\", \"C\"], [\"1\", \"2\", \"3\"]))"
   ]
  },
  {
   "cell_type": "code",
   "execution_count": 147,
   "metadata": {
    "slideshow": {
     "slide_type": "subslide"
    }
   },
   "outputs": [],
   "source": [
    "def make_rule(nonterminals, terminals, num_alts):\n",
    "    prod_grammar = prod_line_grammar(nonterminals, terminals)\n",
    "\n",
    "    gf = GrammarFuzzer(prod_grammar, min_nonterminals=3, max_nonterminals=5)\n",
    "    name = \"<%s>\" % ''.join(random.choices(string.ascii_uppercase, k=3))\n",
    "\n",
    "    return (name, [gf.fuzz() for _ in range(num_alts)])"
   ]
  },
  {
   "cell_type": "code",
   "execution_count": 148,
   "metadata": {
    "slideshow": {
     "slide_type": "fragment"
    }
   },
   "outputs": [
    {
     "data": {
      "text/plain": [
       "('<HDG>', ['<C>1', '<A>31', '13333'])"
      ]
     },
     "execution_count": 148,
     "metadata": {},
     "output_type": "execute_result"
    }
   ],
   "source": [
    "make_rule([\"A\", \"B\", \"C\"], [\"1\", \"2\", \"3\"], 3)"
   ]
  },
  {
   "cell_type": "code",
   "execution_count": 149,
   "metadata": {
    "slideshow": {
     "slide_type": "subslide"
    }
   },
   "outputs": [],
   "source": [
    "def make_grammar(num_symbols=3, num_alts=3):\n",
    "    terminals = list(string.ascii_lowercase)\n",
    "    grammar = {}\n",
    "    name = None\n",
    "    for _ in range(num_symbols):\n",
    "        nonterminals = [k[1:-1] for k in grammar.keys()]\n",
    "        name, expansions = \\\n",
    "            make_rule(nonterminals, terminals, num_alts)\n",
    "        grammar[name] = expansions\n",
    "\n",
    "    grammar[START_SYMBOL] = [name]\n",
    "\n",
    "    assert is_valid_grammar(grammar)\n",
    "    return grammar"
   ]
  },
  {
   "cell_type": "code",
   "execution_count": 150,
   "metadata": {
    "slideshow": {
     "slide_type": "subslide"
    }
   },
   "outputs": [
    {
     "data": {
      "text/plain": [
       "{'<LLV>': ['gz', 'eg', 's'],\n",
       " '<GDO>': ['<LLV><LLV>', 'eobqe', '<LLV>e<LLV>'],\n",
       " '<VES>': ['<GDO>ws', '<GDO><LLV>', '<LLV><LLV>s'],\n",
       " '<start>': ['<VES>']}"
      ]
     },
     "execution_count": 150,
     "metadata": {},
     "output_type": "execute_result"
    }
   ],
   "source": [
    "make_grammar()"
   ]
  },
  {
   "cell_type": "markdown",
   "metadata": {
    "slideshow": {
     "slide_type": "fragment"
    }
   },
   "source": [
    "Now we verify if our arbitrary grammars can be used by the Earley parser."
   ]
  },
  {
   "cell_type": "code",
   "execution_count": 151,
   "metadata": {
    "slideshow": {
     "slide_type": "subslide"
    }
   },
   "outputs": [
    {
     "name": "stdout",
     "output_type": "stream",
     "text": [
      "{'<EIZ>': ['q', 'ti', 'moa'], '<ISQ>': ['<EIZ>rrqy', '<EIZ>ss', 'hhb'], '<KWH>': ['v<ISQ>pd', '<ISQ>wung', '<EIZ>fo'], '<start>': ['<KWH>']}\n",
      "qfo\n"
     ]
    },
    {
     "data": {
      "image/svg+xml": [
       "<?xml version=\"1.0\" encoding=\"UTF-8\" standalone=\"no\"?>\n",
       "<!DOCTYPE svg PUBLIC \"-//W3C//DTD SVG 1.1//EN\"\n",
       " \"http://www.w3.org/Graphics/SVG/1.1/DTD/svg11.dtd\">\n",
       "<!-- Generated by graphviz version 2.40.1 (20161225.0304)\n",
       " -->\n",
       "<!-- Title: %3 Pages: 1 -->\n",
       "<svg width=\"76pt\" height=\"176pt\"\n",
       " viewBox=\"0.00 0.00 76.00 176.00\" xmlns=\"http://www.w3.org/2000/svg\" xmlns:xlink=\"http://www.w3.org/1999/xlink\">\n",
       "<g id=\"graph0\" class=\"graph\" transform=\"scale(1 1) rotate(0) translate(4 172)\">\n",
       "<title>%3</title>\n",
       "<polygon fill=\"#ffffff\" stroke=\"transparent\" points=\"-4,4 -4,-172 72,-172 72,4 -4,4\"/>\n",
       "<!-- 0 -->\n",
       "<g id=\"node1\" class=\"node\">\n",
       "<title>0</title>\n",
       "<text text-anchor=\"middle\" x=\"40\" y=\"-156.8\" font-family=\"Times,serif\" font-size=\"14.00\" fill=\"#000000\">&lt;start&gt;</text>\n",
       "</g>\n",
       "<!-- 1 -->\n",
       "<g id=\"node2\" class=\"node\">\n",
       "<title>1</title>\n",
       "<text text-anchor=\"middle\" x=\"40\" y=\"-105.8\" font-family=\"Times,serif\" font-size=\"14.00\" fill=\"#000000\">&lt;KWH&gt;</text>\n",
       "</g>\n",
       "<!-- 0&#45;&gt;1 -->\n",
       "<g id=\"edge1\" class=\"edge\">\n",
       "<title>0&#45;&gt;1</title>\n",
       "<path fill=\"none\" stroke=\"#000000\" d=\"M40,-152.9748C40,-146.195 40,-135.966 40,-127.1331\"/>\n",
       "<polygon fill=\"#000000\" stroke=\"#000000\" points=\"43.5001,-127.0561 40,-117.0561 36.5001,-127.0561 43.5001,-127.0561\"/>\n",
       "</g>\n",
       "<!-- 2 -->\n",
       "<g id=\"node3\" class=\"node\">\n",
       "<title>2</title>\n",
       "<text text-anchor=\"middle\" x=\"19\" y=\"-54.8\" font-family=\"Times,serif\" font-size=\"14.00\" fill=\"#000000\">&lt;EIZ&gt;</text>\n",
       "</g>\n",
       "<!-- 1&#45;&gt;2 -->\n",
       "<g id=\"edge2\" class=\"edge\">\n",
       "<title>1&#45;&gt;2</title>\n",
       "<path fill=\"none\" stroke=\"#000000\" d=\"M36.9014,-101.9748C34.0477,-95.0443 29.7099,-84.5097 26.0191,-75.5464\"/>\n",
       "<polygon fill=\"#000000\" stroke=\"#000000\" points=\"29.1553,-73.9702 22.1113,-66.0561 22.6825,-76.6355 29.1553,-73.9702\"/>\n",
       "</g>\n",
       "<!-- 4 -->\n",
       "<g id=\"node5\" class=\"node\">\n",
       "<title>4</title>\n",
       "<text text-anchor=\"middle\" x=\"62\" y=\"-54.8\" font-family=\"Times,serif\" font-size=\"14.00\" fill=\"#000000\">fo</text>\n",
       "</g>\n",
       "<!-- 1&#45;&gt;4 -->\n",
       "<g id=\"edge4\" class=\"edge\">\n",
       "<title>1&#45;&gt;4</title>\n",
       "<path fill=\"none\" stroke=\"#000000\" d=\"M43.2462,-101.9748C46.2683,-94.969 50.8791,-84.2803 54.7725,-75.2547\"/>\n",
       "<polygon fill=\"#000000\" stroke=\"#000000\" points=\"57.9933,-76.6246 58.7405,-66.0561 51.5658,-73.8519 57.9933,-76.6246\"/>\n",
       "</g>\n",
       "<!-- 3 -->\n",
       "<g id=\"node4\" class=\"node\">\n",
       "<title>3</title>\n",
       "<text text-anchor=\"middle\" x=\"19\" y=\"-3.8\" font-family=\"Times,serif\" font-size=\"14.00\" fill=\"#000000\">q</text>\n",
       "</g>\n",
       "<!-- 2&#45;&gt;3 -->\n",
       "<g id=\"edge3\" class=\"edge\">\n",
       "<title>2&#45;&gt;3</title>\n",
       "<path fill=\"none\" stroke=\"#000000\" d=\"M19,-50.9748C19,-44.195 19,-33.966 19,-25.1331\"/>\n",
       "<polygon fill=\"#000000\" stroke=\"#000000\" points=\"22.5001,-25.0561 19,-15.0561 15.5001,-25.0561 22.5001,-25.0561\"/>\n",
       "</g>\n",
       "</g>\n",
       "</svg>\n"
      ],
      "text/plain": [
       "<graphviz.dot.Digraph at 0x113ebff98>"
      ]
     },
     "metadata": {},
     "output_type": "display_data"
    },
    {
     "name": "stdout",
     "output_type": "stream",
     "text": [
      "{'<OUZ>': ['cr', 'eyha', 'kp'], '<BTM>': ['<OUZ>tq', 'mk<OUZ>d', 'gi<OUZ>'], '<YIO>': ['itiih', 'c<OUZ><BTM>y', '<OUZ>zx'], '<start>': ['<YIO>']}\n",
      "ceyhaeyhatqy\n"
     ]
    },
    {
     "data": {
      "image/svg+xml": [
       "<?xml version=\"1.0\" encoding=\"UTF-8\" standalone=\"no\"?>\n",
       "<!DOCTYPE svg PUBLIC \"-//W3C//DTD SVG 1.1//EN\"\n",
       " \"http://www.w3.org/Graphics/SVG/1.1/DTD/svg11.dtd\">\n",
       "<!-- Generated by graphviz version 2.40.1 (20161225.0304)\n",
       " -->\n",
       "<!-- Title: %3 Pages: 1 -->\n",
       "<svg width=\"170pt\" height=\"227pt\"\n",
       " viewBox=\"0.00 0.00 169.50 227.00\" xmlns=\"http://www.w3.org/2000/svg\" xmlns:xlink=\"http://www.w3.org/1999/xlink\">\n",
       "<g id=\"graph0\" class=\"graph\" transform=\"scale(1 1) rotate(0) translate(4 223)\">\n",
       "<title>%3</title>\n",
       "<polygon fill=\"#ffffff\" stroke=\"transparent\" points=\"-4,4 -4,-223 165.5,-223 165.5,4 -4,4\"/>\n",
       "<!-- 0 -->\n",
       "<g id=\"node1\" class=\"node\">\n",
       "<title>0</title>\n",
       "<text text-anchor=\"middle\" x=\"79.5\" y=\"-207.8\" font-family=\"Times,serif\" font-size=\"14.00\" fill=\"#000000\">&lt;start&gt;</text>\n",
       "</g>\n",
       "<!-- 1 -->\n",
       "<g id=\"node2\" class=\"node\">\n",
       "<title>1</title>\n",
       "<text text-anchor=\"middle\" x=\"79.5\" y=\"-156.8\" font-family=\"Times,serif\" font-size=\"14.00\" fill=\"#000000\">&lt;YIO&gt;</text>\n",
       "</g>\n",
       "<!-- 0&#45;&gt;1 -->\n",
       "<g id=\"edge1\" class=\"edge\">\n",
       "<title>0&#45;&gt;1</title>\n",
       "<path fill=\"none\" stroke=\"#000000\" d=\"M79.5,-203.9748C79.5,-197.195 79.5,-186.966 79.5,-178.1331\"/>\n",
       "<polygon fill=\"#000000\" stroke=\"#000000\" points=\"83.0001,-178.0561 79.5,-168.0561 76.0001,-178.0561 83.0001,-178.0561\"/>\n",
       "</g>\n",
       "<!-- 2 -->\n",
       "<g id=\"node3\" class=\"node\">\n",
       "<title>2</title>\n",
       "<text text-anchor=\"middle\" x=\"3.5\" y=\"-105.8\" font-family=\"Times,serif\" font-size=\"14.00\" fill=\"#000000\">c</text>\n",
       "</g>\n",
       "<!-- 1&#45;&gt;2 -->\n",
       "<g id=\"edge2\" class=\"edge\">\n",
       "<title>1&#45;&gt;2</title>\n",
       "<path fill=\"none\" stroke=\"#000000\" d=\"M68.2859,-152.9748C54.1982,-143.5211 30.1169,-127.3614 15.617,-117.6312\"/>\n",
       "<polygon fill=\"#000000\" stroke=\"#000000\" points=\"17.2861,-114.5362 7.0321,-111.8702 13.3855,-120.3487 17.2861,-114.5362\"/>\n",
       "</g>\n",
       "<!-- 3 -->\n",
       "<g id=\"node4\" class=\"node\">\n",
       "<title>3</title>\n",
       "<text text-anchor=\"middle\" x=\"47.5\" y=\"-105.8\" font-family=\"Times,serif\" font-size=\"14.00\" fill=\"#000000\">&lt;OUZ&gt;</text>\n",
       "</g>\n",
       "<!-- 1&#45;&gt;3 -->\n",
       "<g id=\"edge3\" class=\"edge\">\n",
       "<title>1&#45;&gt;3</title>\n",
       "<path fill=\"none\" stroke=\"#000000\" d=\"M74.7783,-152.9748C70.288,-145.8183 63.3863,-134.8188 57.6488,-125.6747\"/>\n",
       "<polygon fill=\"#000000\" stroke=\"#000000\" points=\"60.5208,-123.6665 52.2411,-117.0561 54.5913,-127.387 60.5208,-123.6665\"/>\n",
       "</g>\n",
       "<!-- 5 -->\n",
       "<g id=\"node6\" class=\"node\">\n",
       "<title>5</title>\n",
       "<text text-anchor=\"middle\" x=\"111.5\" y=\"-105.8\" font-family=\"Times,serif\" font-size=\"14.00\" fill=\"#000000\">&lt;BTM&gt;</text>\n",
       "</g>\n",
       "<!-- 1&#45;&gt;5 -->\n",
       "<g id=\"edge5\" class=\"edge\">\n",
       "<title>1&#45;&gt;5</title>\n",
       "<path fill=\"none\" stroke=\"#000000\" d=\"M84.2217,-152.9748C88.712,-145.8183 95.6137,-134.8188 101.3512,-125.6747\"/>\n",
       "<polygon fill=\"#000000\" stroke=\"#000000\" points=\"104.4087,-127.387 106.7589,-117.0561 98.4792,-123.6665 104.4087,-127.387\"/>\n",
       "</g>\n",
       "<!-- 9 -->\n",
       "<g id=\"node10\" class=\"node\">\n",
       "<title>9</title>\n",
       "<text text-anchor=\"middle\" x=\"157.5\" y=\"-105.8\" font-family=\"Times,serif\" font-size=\"14.00\" fill=\"#000000\">y</text>\n",
       "</g>\n",
       "<!-- 1&#45;&gt;9 -->\n",
       "<g id=\"edge9\" class=\"edge\">\n",
       "<title>1&#45;&gt;9</title>\n",
       "<path fill=\"none\" stroke=\"#000000\" d=\"M91.0092,-152.9748C105.3326,-143.6095 129.7217,-127.6627 144.6445,-117.9055\"/>\n",
       "<polygon fill=\"#000000\" stroke=\"#000000\" points=\"146.7688,-120.6983 153.2232,-112.2964 142.9381,-114.8395 146.7688,-120.6983\"/>\n",
       "</g>\n",
       "<!-- 4 -->\n",
       "<g id=\"node5\" class=\"node\">\n",
       "<title>4</title>\n",
       "<text text-anchor=\"middle\" x=\"47.5\" y=\"-54.8\" font-family=\"Times,serif\" font-size=\"14.00\" fill=\"#000000\">eyha</text>\n",
       "</g>\n",
       "<!-- 3&#45;&gt;4 -->\n",
       "<g id=\"edge4\" class=\"edge\">\n",
       "<title>3&#45;&gt;4</title>\n",
       "<path fill=\"none\" stroke=\"#000000\" d=\"M47.5,-101.9748C47.5,-95.195 47.5,-84.966 47.5,-76.1331\"/>\n",
       "<polygon fill=\"#000000\" stroke=\"#000000\" points=\"51.0001,-76.0561 47.5,-66.0561 44.0001,-76.0561 51.0001,-76.0561\"/>\n",
       "</g>\n",
       "<!-- 6 -->\n",
       "<g id=\"node7\" class=\"node\">\n",
       "<title>6</title>\n",
       "<text text-anchor=\"middle\" x=\"106.5\" y=\"-54.8\" font-family=\"Times,serif\" font-size=\"14.00\" fill=\"#000000\">&lt;OUZ&gt;</text>\n",
       "</g>\n",
       "<!-- 5&#45;&gt;6 -->\n",
       "<g id=\"edge6\" class=\"edge\">\n",
       "<title>5&#45;&gt;6</title>\n",
       "<path fill=\"none\" stroke=\"#000000\" d=\"M110.7622,-101.9748C110.0975,-95.195 109.0947,-84.966 108.2287,-76.1331\"/>\n",
       "<polygon fill=\"#000000\" stroke=\"#000000\" points=\"111.6999,-75.6669 107.2408,-66.0561 104.7333,-76.3499 111.6999,-75.6669\"/>\n",
       "</g>\n",
       "<!-- 8 -->\n",
       "<g id=\"node9\" class=\"node\">\n",
       "<title>8</title>\n",
       "<text text-anchor=\"middle\" x=\"152.5\" y=\"-54.8\" font-family=\"Times,serif\" font-size=\"14.00\" fill=\"#000000\">tq</text>\n",
       "</g>\n",
       "<!-- 5&#45;&gt;8 -->\n",
       "<g id=\"edge8\" class=\"edge\">\n",
       "<title>5&#45;&gt;8</title>\n",
       "<path fill=\"none\" stroke=\"#000000\" d=\"M117.5497,-101.9748C123.5591,-94.4997 132.9392,-82.8317 140.4694,-73.4648\"/>\n",
       "<polygon fill=\"#000000\" stroke=\"#000000\" points=\"143.4141,-75.388 146.9519,-65.4013 137.9585,-71.0021 143.4141,-75.388\"/>\n",
       "</g>\n",
       "<!-- 7 -->\n",
       "<g id=\"node8\" class=\"node\">\n",
       "<title>7</title>\n",
       "<text text-anchor=\"middle\" x=\"106.5\" y=\"-3.8\" font-family=\"Times,serif\" font-size=\"14.00\" fill=\"#000000\">eyha</text>\n",
       "</g>\n",
       "<!-- 6&#45;&gt;7 -->\n",
       "<g id=\"edge7\" class=\"edge\">\n",
       "<title>6&#45;&gt;7</title>\n",
       "<path fill=\"none\" stroke=\"#000000\" d=\"M106.5,-50.9748C106.5,-44.195 106.5,-33.966 106.5,-25.1331\"/>\n",
       "<polygon fill=\"#000000\" stroke=\"#000000\" points=\"110.0001,-25.0561 106.5,-15.0561 103.0001,-25.0561 110.0001,-25.0561\"/>\n",
       "</g>\n",
       "</g>\n",
       "</svg>\n"
      ],
      "text/plain": [
       "<graphviz.dot.Digraph at 0x113fe8438>"
      ]
     },
     "metadata": {},
     "output_type": "display_data"
    },
    {
     "name": "stdout",
     "output_type": "stream",
     "text": [
      "{'<HKL>': ['jy', 'oigm', ''], '<KBP>': ['<HKL>a<HKL>', '<HKL>d', '<HKL>gr'], '<UHE>': ['<KBP>kk', '<KBP>jy', 'lqy'], '<start>': ['<UHE>']}\n",
      "lqy\n"
     ]
    },
    {
     "data": {
      "image/svg+xml": [
       "<?xml version=\"1.0\" encoding=\"UTF-8\" standalone=\"no\"?>\n",
       "<!DOCTYPE svg PUBLIC \"-//W3C//DTD SVG 1.1//EN\"\n",
       " \"http://www.w3.org/Graphics/SVG/1.1/DTD/svg11.dtd\">\n",
       "<!-- Generated by graphviz version 2.40.1 (20161225.0304)\n",
       " -->\n",
       "<!-- Title: %3 Pages: 1 -->\n",
       "<svg width=\"53pt\" height=\"125pt\"\n",
       " viewBox=\"0.00 0.00 53.00 125.00\" xmlns=\"http://www.w3.org/2000/svg\" xmlns:xlink=\"http://www.w3.org/1999/xlink\">\n",
       "<g id=\"graph0\" class=\"graph\" transform=\"scale(1 1) rotate(0) translate(4 121)\">\n",
       "<title>%3</title>\n",
       "<polygon fill=\"#ffffff\" stroke=\"transparent\" points=\"-4,4 -4,-121 49,-121 49,4 -4,4\"/>\n",
       "<!-- 0 -->\n",
       "<g id=\"node1\" class=\"node\">\n",
       "<title>0</title>\n",
       "<text text-anchor=\"middle\" x=\"22.5\" y=\"-105.8\" font-family=\"Times,serif\" font-size=\"14.00\" fill=\"#000000\">&lt;start&gt;</text>\n",
       "</g>\n",
       "<!-- 1 -->\n",
       "<g id=\"node2\" class=\"node\">\n",
       "<title>1</title>\n",
       "<text text-anchor=\"middle\" x=\"22.5\" y=\"-54.8\" font-family=\"Times,serif\" font-size=\"14.00\" fill=\"#000000\">&lt;UHE&gt;</text>\n",
       "</g>\n",
       "<!-- 0&#45;&gt;1 -->\n",
       "<g id=\"edge1\" class=\"edge\">\n",
       "<title>0&#45;&gt;1</title>\n",
       "<path fill=\"none\" stroke=\"#000000\" d=\"M22.5,-101.9748C22.5,-95.195 22.5,-84.966 22.5,-76.1331\"/>\n",
       "<polygon fill=\"#000000\" stroke=\"#000000\" points=\"26.0001,-76.0561 22.5,-66.0561 19.0001,-76.0561 26.0001,-76.0561\"/>\n",
       "</g>\n",
       "<!-- 2 -->\n",
       "<g id=\"node3\" class=\"node\">\n",
       "<title>2</title>\n",
       "<text text-anchor=\"middle\" x=\"22.5\" y=\"-3.8\" font-family=\"Times,serif\" font-size=\"14.00\" fill=\"#000000\">lqy</text>\n",
       "</g>\n",
       "<!-- 1&#45;&gt;2 -->\n",
       "<g id=\"edge2\" class=\"edge\">\n",
       "<title>1&#45;&gt;2</title>\n",
       "<path fill=\"none\" stroke=\"#000000\" d=\"M22.5,-50.9748C22.5,-44.195 22.5,-33.966 22.5,-25.1331\"/>\n",
       "<polygon fill=\"#000000\" stroke=\"#000000\" points=\"26.0001,-25.0561 22.5,-15.0561 19.0001,-25.0561 26.0001,-25.0561\"/>\n",
       "</g>\n",
       "</g>\n",
       "</svg>\n"
      ],
      "text/plain": [
       "<graphviz.dot.Digraph at 0x1142cdcc0>"
      ]
     },
     "metadata": {},
     "output_type": "display_data"
    },
    {
     "name": "stdout",
     "output_type": "stream",
     "text": [
      "{'<TOR>': ['r', 'znz', 's'], '<DOX>': ['<TOR>rqri', '<TOR><TOR>', '<TOR>oa'], '<VGG>': ['<TOR>k', '<DOX>uy', '<DOX>cn'], '<start>': ['<VGG>']}\n",
      "roauy\n"
     ]
    },
    {
     "data": {
      "image/svg+xml": [
       "<?xml version=\"1.0\" encoding=\"UTF-8\" standalone=\"no\"?>\n",
       "<!DOCTYPE svg PUBLIC \"-//W3C//DTD SVG 1.1//EN\"\n",
       " \"http://www.w3.org/Graphics/SVG/1.1/DTD/svg11.dtd\">\n",
       "<!-- Generated by graphviz version 2.40.1 (20161225.0304)\n",
       " -->\n",
       "<!-- Title: %3 Pages: 1 -->\n",
       "<svg width=\"110pt\" height=\"227pt\"\n",
       " viewBox=\"0.00 0.00 109.50 227.00\" xmlns=\"http://www.w3.org/2000/svg\" xmlns:xlink=\"http://www.w3.org/1999/xlink\">\n",
       "<g id=\"graph0\" class=\"graph\" transform=\"scale(1 1) rotate(0) translate(4 223)\">\n",
       "<title>%3</title>\n",
       "<polygon fill=\"#ffffff\" stroke=\"transparent\" points=\"-4,4 -4,-223 105.5,-223 105.5,4 -4,4\"/>\n",
       "<!-- 0 -->\n",
       "<g id=\"node1\" class=\"node\">\n",
       "<title>0</title>\n",
       "<text text-anchor=\"middle\" x=\"69\" y=\"-207.8\" font-family=\"Times,serif\" font-size=\"14.00\" fill=\"#000000\">&lt;start&gt;</text>\n",
       "</g>\n",
       "<!-- 1 -->\n",
       "<g id=\"node2\" class=\"node\">\n",
       "<title>1</title>\n",
       "<text text-anchor=\"middle\" x=\"69\" y=\"-156.8\" font-family=\"Times,serif\" font-size=\"14.00\" fill=\"#000000\">&lt;VGG&gt;</text>\n",
       "</g>\n",
       "<!-- 0&#45;&gt;1 -->\n",
       "<g id=\"edge1\" class=\"edge\">\n",
       "<title>0&#45;&gt;1</title>\n",
       "<path fill=\"none\" stroke=\"#000000\" d=\"M69,-203.9748C69,-197.195 69,-186.966 69,-178.1331\"/>\n",
       "<polygon fill=\"#000000\" stroke=\"#000000\" points=\"72.5001,-178.0561 69,-168.0561 65.5001,-178.0561 72.5001,-178.0561\"/>\n",
       "</g>\n",
       "<!-- 2 -->\n",
       "<g id=\"node3\" class=\"node\">\n",
       "<title>2</title>\n",
       "<text text-anchor=\"middle\" x=\"45\" y=\"-105.8\" font-family=\"Times,serif\" font-size=\"14.00\" fill=\"#000000\">&lt;DOX&gt;</text>\n",
       "</g>\n",
       "<!-- 1&#45;&gt;2 -->\n",
       "<g id=\"edge2\" class=\"edge\">\n",
       "<title>1&#45;&gt;2</title>\n",
       "<path fill=\"none\" stroke=\"#000000\" d=\"M65.4587,-152.9748C62.1619,-145.969 57.1319,-135.2803 52.8845,-126.2547\"/>\n",
       "<polygon fill=\"#000000\" stroke=\"#000000\" points=\"55.9807,-124.614 48.5558,-117.0561 49.647,-127.5946 55.9807,-124.614\"/>\n",
       "</g>\n",
       "<!-- 6 -->\n",
       "<g id=\"node7\" class=\"node\">\n",
       "<title>6</title>\n",
       "<text text-anchor=\"middle\" x=\"94\" y=\"-105.8\" font-family=\"Times,serif\" font-size=\"14.00\" fill=\"#000000\">uy</text>\n",
       "</g>\n",
       "<!-- 1&#45;&gt;6 -->\n",
       "<g id=\"edge6\" class=\"edge\">\n",
       "<title>1&#45;&gt;6</title>\n",
       "<path fill=\"none\" stroke=\"#000000\" d=\"M72.6888,-152.9748C76.1231,-145.969 81.3626,-135.2803 85.7869,-126.2547\"/>\n",
       "<polygon fill=\"#000000\" stroke=\"#000000\" points=\"89.0371,-127.5759 90.296,-117.0561 82.7517,-124.4947 89.0371,-127.5759\"/>\n",
       "</g>\n",
       "<!-- 3 -->\n",
       "<g id=\"node4\" class=\"node\">\n",
       "<title>3</title>\n",
       "<text text-anchor=\"middle\" x=\"22\" y=\"-54.8\" font-family=\"Times,serif\" font-size=\"14.00\" fill=\"#000000\">&lt;TOR&gt;</text>\n",
       "</g>\n",
       "<!-- 2&#45;&gt;3 -->\n",
       "<g id=\"edge3\" class=\"edge\">\n",
       "<title>2&#45;&gt;3</title>\n",
       "<path fill=\"none\" stroke=\"#000000\" d=\"M41.6063,-101.9748C38.4468,-94.969 33.6264,-84.2803 29.556,-75.2547\"/>\n",
       "<polygon fill=\"#000000\" stroke=\"#000000\" points=\"32.7093,-73.7331 25.4077,-66.0561 26.3282,-76.6109 32.7093,-73.7331\"/>\n",
       "</g>\n",
       "<!-- 5 -->\n",
       "<g id=\"node6\" class=\"node\">\n",
       "<title>5</title>\n",
       "<text text-anchor=\"middle\" x=\"69\" y=\"-54.8\" font-family=\"Times,serif\" font-size=\"14.00\" fill=\"#000000\">oa</text>\n",
       "</g>\n",
       "<!-- 2&#45;&gt;5 -->\n",
       "<g id=\"edge5\" class=\"edge\">\n",
       "<title>2&#45;&gt;5</title>\n",
       "<path fill=\"none\" stroke=\"#000000\" d=\"M48.5413,-101.9748C51.8381,-94.969 56.8681,-84.2803 61.1155,-75.2547\"/>\n",
       "<polygon fill=\"#000000\" stroke=\"#000000\" points=\"64.353,-76.5946 65.4442,-66.0561 58.0193,-73.614 64.353,-76.5946\"/>\n",
       "</g>\n",
       "<!-- 4 -->\n",
       "<g id=\"node5\" class=\"node\">\n",
       "<title>4</title>\n",
       "<text text-anchor=\"middle\" x=\"22\" y=\"-3.8\" font-family=\"Times,serif\" font-size=\"14.00\" fill=\"#000000\">r</text>\n",
       "</g>\n",
       "<!-- 3&#45;&gt;4 -->\n",
       "<g id=\"edge4\" class=\"edge\">\n",
       "<title>3&#45;&gt;4</title>\n",
       "<path fill=\"none\" stroke=\"#000000\" d=\"M22,-50.9748C22,-44.195 22,-33.966 22,-25.1331\"/>\n",
       "<polygon fill=\"#000000\" stroke=\"#000000\" points=\"25.5001,-25.0561 22,-15.0561 18.5001,-25.0561 25.5001,-25.0561\"/>\n",
       "</g>\n",
       "</g>\n",
       "</svg>\n"
      ],
      "text/plain": [
       "<graphviz.dot.Digraph at 0x1142c1e48>"
      ]
     },
     "metadata": {},
     "output_type": "display_data"
    },
    {
     "name": "stdout",
     "output_type": "stream",
     "text": [
      "{'<IFU>': ['ifx', 'te', 'ver'], '<NIY>': ['<IFU>hl', '<IFU>mkt', '<IFU><IFU>'], '<JKU>': ['<IFU>i', '<IFU>xj', '<IFU>p<NIY>'], '<start>': ['<JKU>']}\n",
      "verxj\n"
     ]
    },
    {
     "data": {
      "image/svg+xml": [
       "<?xml version=\"1.0\" encoding=\"UTF-8\" standalone=\"no\"?>\n",
       "<!DOCTYPE svg PUBLIC \"-//W3C//DTD SVG 1.1//EN\"\n",
       " \"http://www.w3.org/Graphics/SVG/1.1/DTD/svg11.dtd\">\n",
       "<!-- Generated by graphviz version 2.40.1 (20161225.0304)\n",
       " -->\n",
       "<!-- Title: %3 Pages: 1 -->\n",
       "<svg width=\"76pt\" height=\"176pt\"\n",
       " viewBox=\"0.00 0.00 76.00 176.00\" xmlns=\"http://www.w3.org/2000/svg\" xmlns:xlink=\"http://www.w3.org/1999/xlink\">\n",
       "<g id=\"graph0\" class=\"graph\" transform=\"scale(1 1) rotate(0) translate(4 172)\">\n",
       "<title>%3</title>\n",
       "<polygon fill=\"#ffffff\" stroke=\"transparent\" points=\"-4,4 -4,-172 72,-172 72,4 -4,4\"/>\n",
       "<!-- 0 -->\n",
       "<g id=\"node1\" class=\"node\">\n",
       "<title>0</title>\n",
       "<text text-anchor=\"middle\" x=\"40.5\" y=\"-156.8\" font-family=\"Times,serif\" font-size=\"14.00\" fill=\"#000000\">&lt;start&gt;</text>\n",
       "</g>\n",
       "<!-- 1 -->\n",
       "<g id=\"node2\" class=\"node\">\n",
       "<title>1</title>\n",
       "<text text-anchor=\"middle\" x=\"40.5\" y=\"-105.8\" font-family=\"Times,serif\" font-size=\"14.00\" fill=\"#000000\">&lt;JKU&gt;</text>\n",
       "</g>\n",
       "<!-- 0&#45;&gt;1 -->\n",
       "<g id=\"edge1\" class=\"edge\">\n",
       "<title>0&#45;&gt;1</title>\n",
       "<path fill=\"none\" stroke=\"#000000\" d=\"M40.5,-152.9748C40.5,-146.195 40.5,-135.966 40.5,-127.1331\"/>\n",
       "<polygon fill=\"#000000\" stroke=\"#000000\" points=\"44.0001,-127.0561 40.5,-117.0561 37.0001,-127.0561 44.0001,-127.0561\"/>\n",
       "</g>\n",
       "<!-- 2 -->\n",
       "<g id=\"node3\" class=\"node\">\n",
       "<title>2</title>\n",
       "<text text-anchor=\"middle\" x=\"19.5\" y=\"-54.8\" font-family=\"Times,serif\" font-size=\"14.00\" fill=\"#000000\">&lt;IFU&gt;</text>\n",
       "</g>\n",
       "<!-- 1&#45;&gt;2 -->\n",
       "<g id=\"edge2\" class=\"edge\">\n",
       "<title>1&#45;&gt;2</title>\n",
       "<path fill=\"none\" stroke=\"#000000\" d=\"M37.4014,-101.9748C34.5477,-95.0443 30.2099,-84.5097 26.5191,-75.5464\"/>\n",
       "<polygon fill=\"#000000\" stroke=\"#000000\" points=\"29.6553,-73.9702 22.6113,-66.0561 23.1825,-76.6355 29.6553,-73.9702\"/>\n",
       "</g>\n",
       "<!-- 4 -->\n",
       "<g id=\"node5\" class=\"node\">\n",
       "<title>4</title>\n",
       "<text text-anchor=\"middle\" x=\"62.5\" y=\"-54.8\" font-family=\"Times,serif\" font-size=\"14.00\" fill=\"#000000\">xj</text>\n",
       "</g>\n",
       "<!-- 1&#45;&gt;4 -->\n",
       "<g id=\"edge4\" class=\"edge\">\n",
       "<title>1&#45;&gt;4</title>\n",
       "<path fill=\"none\" stroke=\"#000000\" d=\"M43.7462,-101.9748C46.7683,-94.969 51.3791,-84.2803 55.2725,-75.2547\"/>\n",
       "<polygon fill=\"#000000\" stroke=\"#000000\" points=\"58.4933,-76.6246 59.2405,-66.0561 52.0658,-73.8519 58.4933,-76.6246\"/>\n",
       "</g>\n",
       "<!-- 3 -->\n",
       "<g id=\"node4\" class=\"node\">\n",
       "<title>3</title>\n",
       "<text text-anchor=\"middle\" x=\"19.5\" y=\"-3.8\" font-family=\"Times,serif\" font-size=\"14.00\" fill=\"#000000\">ver</text>\n",
       "</g>\n",
       "<!-- 2&#45;&gt;3 -->\n",
       "<g id=\"edge3\" class=\"edge\">\n",
       "<title>2&#45;&gt;3</title>\n",
       "<path fill=\"none\" stroke=\"#000000\" d=\"M19.5,-50.9748C19.5,-44.195 19.5,-33.966 19.5,-25.1331\"/>\n",
       "<polygon fill=\"#000000\" stroke=\"#000000\" points=\"23.0001,-25.0561 19.5,-15.0561 16.0001,-25.0561 23.0001,-25.0561\"/>\n",
       "</g>\n",
       "</g>\n",
       "</svg>\n"
      ],
      "text/plain": [
       "<graphviz.dot.Digraph at 0x113f9d7b8>"
      ]
     },
     "metadata": {},
     "output_type": "display_data"
    }
   ],
   "source": [
    "for i in range(5):\n",
    "    my_grammar = make_grammar()\n",
    "    print(my_grammar)\n",
    "    parser = EarleyParser(my_grammar)\n",
    "    mygf = GrammarFuzzer(my_grammar)\n",
    "    s = mygf.fuzz()\n",
    "    print(s)\n",
    "    for tree in parser.parse(s):\n",
    "        assert tree_to_string(tree) == s\n",
    "        display_tree(tree)"
   ]
  },
  {
   "cell_type": "markdown",
   "metadata": {
    "slideshow": {
     "slide_type": "subslide"
    }
   },
   "source": [
    "With this, we have completed both implementation and testing of *arbitrary* CFG, which can now be used along with `LangFuzzer` to generate better fuzzing inputs."
   ]
  },
  {
   "cell_type": "markdown",
   "metadata": {
    "slideshow": {
     "slide_type": "subslide"
    }
   },
   "source": [
    "## Background\n",
    "\n",
    "\n",
    "Numerous parsing techniques exist that can parse a given string using a\n",
    "given grammar, and produce corresponding derivation tree or trees. However,\n",
    "some of these techniques work only on specific classes of grammars.\n",
    "These classes of grammars are named after the specific kind of parser\n",
    "that can accept grammars of that category. That is, the upper bound for\n",
    "the capabilities of the parser defines the grammar class named after that\n",
    "parser.\n",
    "\n",
    "The *LL* and *LR* parsing are the main traditions in parsing. Here, *LL* means left-to-right, leftmost derivation, and it represents a top-down approach. On the other hand, and LR (left-to-right, rightmost derivation) represents a bottom-up approach. Another way to look at it is that LL parsers compute the derivation tree incrementally in *pre-order* while LR parsers compute the derivation tree in *post-order* \\cite{pingali2015graphical}).\n",
    "\n",
    "Different classes of grammars differ in the features that are available to\n",
    "the user for writing a grammar of that class. That is, the corresponding\n",
    "kind of parser will be unable to parse a grammar that makes use of more\n",
    "features than allowed. For example, the `A2_GRAMMAR` is an *LL*\n",
    "grammar because it lacks left recursion, while `A1_GRAMMAR` is not an\n",
    "*LL* grammar. This is because an *LL* parser parses\n",
    "its input from left to right, and constructs the leftmost derivation of its\n",
    "input by expanding the nonterminals it encounters. If there is a left\n",
    "recursion in one of these rules, an *LL* parser will enter an infinite loop.\n",
    "\n",
    "Similarly, a grammar is LL(k) if it can be parsed by an LL parser with k lookahead token, and LR(k) grammar can only be parsed with LR parser with at least k lookahead tokens. These grammars are interesting because both LL(k) and LR(k) grammars have $O(n)$ parsers, and can be used with relatively restricted computational budget compared to other grammars.\n",
    "\n",
    "The languages for which one can provide an *LL(k)* grammar is called *LL(k)* languages (where k is the minimum lookahead required). Similarly, *LR(k)* is defined as the set of languages that have an *LR(k)* grammar. In terms of languages, LL(k) $\\subset$ LL(k+1) and LL(k) $\\subset$ LR(k), and *LR(k)* $=$ *LR(1)*. All deterministic *CFLs* have an *LR(1)* grammar. However, there exist *CFLs* that are inherently ambiguous \\cite{ogden1968helpful}, and for these, one can't provide an *LR(1)* grammar.\n",
    "\n",
    "The other main parsing algorithms for *CFGs* are GLL \\cite{scott2010gll}, GLR \\cite{tomita1987efficient,tomita2012generalized}, and CYK \\cite{grune1990parsing}.\n",
    "The ALL(\\*) (used by ANTLR) on the other hand is a grammar representation that uses *Regular Expression* like predicates (similar to advanced PEGs – see [Exercise](#Exercise-3:-PEG-Predicates)) rather than a fixed lookahead. Hence, ALL(\\*) can accept a larger class of grammars than CFGs.\n",
    "\n",
    "In terms of computational limits of parsing, the main CFG parsers have a complexity of $O(n^3)$ for arbitrary grammars. However, parsing with arbitrary *CFG* is reducible to boolean matrix multiplication \\cite{Valiant1975} (and the reverse \\cite{Lee2002}). This is at present bounded by $O(2^{23728639}$)  \\cite{LeGall2014}. Hence, worse case complexity for parsing arbitrary CFG is likely to remain close to cubic.\n",
    "\n",
    "Regarding PEGs, the actual class of languages that is expressible in *PEG* is currently unknown. In particular, we know that *PEGs* can express certain languages such as $a^n b^n c^n$. However, we do not know if there exist *CFLs* that are not expressible with *PEGs*. In Section 2.3, we provided an instance of a counter-intuitive PEG grammar. While important for our purposes (we use grammars for generation of inputs) this is not a criticism of parsing with PEGs. PEG focuses on writing grammars for recognizing a given language, and not necessarily in interpreting what language an arbitrary PEG might yield. Given a Context-Free Language to parse, it is almost always possible to write a grammar for it in PEG, and given that 1) a PEG can parse any string in $O(n)$ time, and 2) at present we know of no CFL that can't be expressed as a PEG, and 3) compared with *LR* grammars, a PEG is often more intuitive because it allows top-down interpretation, when writing a parser for a language, PEGs should be under serious consideration."
   ]
  },
  {
   "cell_type": "markdown",
   "metadata": {
    "button": false,
    "new_sheet": true,
    "run_control": {
     "read_only": false
    },
    "slideshow": {
     "slide_type": "subslide"
    }
   },
   "source": [
    "## Lessons Learned\n",
    "\n",
    "* Grammars can be used to generate derivation trees for a given string.\n",
    "* Parsing Expression Grammars are intuitive, and easy to implement, but require care to write.\n",
    "* Earley Parsers can parse arbitrary Context Free Grammars.\n",
    "* How to generate a pool of fragments using the Langfuzz approach, and use it to generate nearly valid strings."
   ]
  },
  {
   "cell_type": "markdown",
   "metadata": {
    "button": false,
    "new_sheet": false,
    "run_control": {
     "read_only": false
    },
    "slideshow": {
     "slide_type": "subslide"
    }
   },
   "source": [
    "## Next Steps\n",
    "\n",
    "* [Use the automatic grammar miner for obtaining a grammar](GrammarMiner.ipynb)"
   ]
  },
  {
   "cell_type": "markdown",
   "metadata": {
    "button": false,
    "new_sheet": true,
    "run_control": {
     "read_only": false
    },
    "slideshow": {
     "slide_type": "skip"
    },
    "toc-hr-collapsed": false
   },
   "source": [
    "## Exercises"
   ]
  },
  {
   "cell_type": "markdown",
   "metadata": {
    "slideshow": {
     "slide_type": "skip"
    },
    "solution2": "hidden",
    "solution2_first": true
   },
   "source": [
    "### Exercise 1: An Alternative Packrat\n",
    "\n",
    "In the _Packrat_ parser, we showed how one could implement a simple _PEG_ parser. That parser kept track of the current location in the text using an index. Can you modify the parser so that it simply uses the current substring rather than tracking the index? That is, it should no longer have the `at` parameter."
   ]
  },
  {
   "cell_type": "markdown",
   "metadata": {
    "slideshow": {
     "slide_type": "subslide"
    },
    "solution2": "hidden",
    "solution2_first": true
   },
   "source": [
    "**Solution.**  Here is a possible solution:"
   ]
  },
  {
   "cell_type": "code",
   "execution_count": 152,
   "metadata": {
    "slideshow": {
     "slide_type": "subslide"
    },
    "solution2": "hidden"
   },
   "outputs": [],
   "source": [
    "class PackratParser(Parser):\n",
    "    def parse_prefix(self, text):\n",
    "        txt, res = self.unify_key(self.start_symbol, text)\n",
    "        return len(txt), [res]\n",
    "\n",
    "    def parse(self, text):\n",
    "        remain, res = self.parse_prefix(text)\n",
    "        if remain:\n",
    "            raise SyntaxError(\"at \" + res)\n",
    "        return res\n",
    "\n",
    "    def unify_rule(self, rule, text):\n",
    "        results = []\n",
    "        for token in rule:\n",
    "            text, res = self.unify_key(token, text)\n",
    "            if res is None:\n",
    "                return text, None\n",
    "            results.append(res)\n",
    "        return text, results\n",
    "\n",
    "    def unify_key(self, key, text):\n",
    "        if key not in self.cgrammar:\n",
    "            if text.startswith(key):\n",
    "                return text[len(key):], (key, [])\n",
    "            else:\n",
    "                return text, None\n",
    "        for rule in self.cgrammar[key]:\n",
    "            text_, res = self.unify_rule(rule, text)\n",
    "            if res:\n",
    "                return (text_, (key, res))\n",
    "        return text, None"
   ]
  },
  {
   "cell_type": "code",
   "execution_count": 153,
   "metadata": {
    "button": false,
    "code_folding": [],
    "new_sheet": false,
    "run_control": {
     "read_only": false
    },
    "slideshow": {
     "slide_type": "subslide"
    },
    "solution2": "hidden"
   },
   "outputs": [
    {
     "data": {
      "image/svg+xml": [
       "<?xml version=\"1.0\" encoding=\"UTF-8\" standalone=\"no\"?>\n",
       "<!DOCTYPE svg PUBLIC \"-//W3C//DTD SVG 1.1//EN\"\n",
       " \"http://www.w3.org/Graphics/SVG/1.1/DTD/svg11.dtd\">\n",
       "<!-- Generated by graphviz version 2.40.1 (20161225.0304)\n",
       " -->\n",
       "<!-- Title: %3 Pages: 1 -->\n",
       "<svg width=\"203pt\" height=\"584pt\"\n",
       " viewBox=\"0.00 0.00 203.00 584.00\" xmlns=\"http://www.w3.org/2000/svg\" xmlns:xlink=\"http://www.w3.org/1999/xlink\">\n",
       "<g id=\"graph0\" class=\"graph\" transform=\"scale(1 1) rotate(0) translate(4 580)\">\n",
       "<title>%3</title>\n",
       "<polygon fill=\"#ffffff\" stroke=\"transparent\" points=\"-4,4 -4,-580 199,-580 199,4 -4,4\"/>\n",
       "<!-- 0 -->\n",
       "<g id=\"node1\" class=\"node\">\n",
       "<title>0</title>\n",
       "<text text-anchor=\"middle\" x=\"74.5\" y=\"-564.8\" font-family=\"Times,serif\" font-size=\"14.00\" fill=\"#000000\">&lt;start&gt;</text>\n",
       "</g>\n",
       "<!-- 1 -->\n",
       "<g id=\"node2\" class=\"node\">\n",
       "<title>1</title>\n",
       "<text text-anchor=\"middle\" x=\"74.5\" y=\"-513.8\" font-family=\"Times,serif\" font-size=\"14.00\" fill=\"#000000\">&lt;expr&gt;</text>\n",
       "</g>\n",
       "<!-- 0&#45;&gt;1 -->\n",
       "<g id=\"edge1\" class=\"edge\">\n",
       "<title>0&#45;&gt;1</title>\n",
       "<path fill=\"none\" stroke=\"#000000\" d=\"M74.5,-560.9748C74.5,-554.195 74.5,-543.966 74.5,-535.1331\"/>\n",
       "<polygon fill=\"#000000\" stroke=\"#000000\" points=\"78.0001,-535.0561 74.5,-525.0561 71.0001,-535.0561 78.0001,-535.0561\"/>\n",
       "</g>\n",
       "<!-- 2 -->\n",
       "<g id=\"node3\" class=\"node\">\n",
       "<title>2</title>\n",
       "<text text-anchor=\"middle\" x=\"27.5\" y=\"-462.8\" font-family=\"Times,serif\" font-size=\"14.00\" fill=\"#000000\">&lt;term&gt;</text>\n",
       "</g>\n",
       "<!-- 1&#45;&gt;2 -->\n",
       "<g id=\"edge2\" class=\"edge\">\n",
       "<title>1&#45;&gt;2</title>\n",
       "<path fill=\"none\" stroke=\"#000000\" d=\"M67.565,-509.9748C60.6921,-502.517 49.9731,-490.8857 41.3512,-481.53\"/>\n",
       "<polygon fill=\"#000000\" stroke=\"#000000\" points=\"43.8141,-479.0378 34.4635,-474.0561 38.6666,-483.7816 43.8141,-479.0378\"/>\n",
       "</g>\n",
       "<!-- 7 -->\n",
       "<g id=\"node8\" class=\"node\">\n",
       "<title>7</title>\n",
       "<text text-anchor=\"middle\" x=\"74.5\" y=\"-462.8\" font-family=\"Times,serif\" font-size=\"14.00\" fill=\"#000000\"> + </text>\n",
       "</g>\n",
       "<!-- 1&#45;&gt;7 -->\n",
       "<g id=\"edge7\" class=\"edge\">\n",
       "<title>1&#45;&gt;7</title>\n",
       "<path fill=\"none\" stroke=\"#000000\" d=\"M74.5,-509.9748C74.5,-503.195 74.5,-492.966 74.5,-484.1331\"/>\n",
       "<polygon fill=\"#000000\" stroke=\"#000000\" points=\"78.0001,-484.0561 74.5,-474.0561 71.0001,-484.0561 78.0001,-484.0561\"/>\n",
       "</g>\n",
       "<!-- 8 -->\n",
       "<g id=\"node9\" class=\"node\">\n",
       "<title>8</title>\n",
       "<text text-anchor=\"middle\" x=\"120.5\" y=\"-462.8\" font-family=\"Times,serif\" font-size=\"14.00\" fill=\"#000000\">&lt;expr&gt;</text>\n",
       "</g>\n",
       "<!-- 1&#45;&gt;8 -->\n",
       "<g id=\"edge8\" class=\"edge\">\n",
       "<title>1&#45;&gt;8</title>\n",
       "<path fill=\"none\" stroke=\"#000000\" d=\"M81.2875,-509.9748C88.0141,-502.517 98.505,-490.8857 106.9436,-481.53\"/>\n",
       "<polygon fill=\"#000000\" stroke=\"#000000\" points=\"109.586,-483.826 113.6847,-474.0561 104.388,-479.1376 109.586,-483.826\"/>\n",
       "</g>\n",
       "<!-- 3 -->\n",
       "<g id=\"node4\" class=\"node\">\n",
       "<title>3</title>\n",
       "<text text-anchor=\"middle\" x=\"27.5\" y=\"-411.8\" font-family=\"Times,serif\" font-size=\"14.00\" fill=\"#000000\">&lt;factor&gt;</text>\n",
       "</g>\n",
       "<!-- 2&#45;&gt;3 -->\n",
       "<g id=\"edge3\" class=\"edge\">\n",
       "<title>2&#45;&gt;3</title>\n",
       "<path fill=\"none\" stroke=\"#000000\" d=\"M27.5,-458.9748C27.5,-452.195 27.5,-441.966 27.5,-433.1331\"/>\n",
       "<polygon fill=\"#000000\" stroke=\"#000000\" points=\"31.0001,-433.0561 27.5,-423.0561 24.0001,-433.0561 31.0001,-433.0561\"/>\n",
       "</g>\n",
       "<!-- 4 -->\n",
       "<g id=\"node5\" class=\"node\">\n",
       "<title>4</title>\n",
       "<text text-anchor=\"middle\" x=\"27.5\" y=\"-360.8\" font-family=\"Times,serif\" font-size=\"14.00\" fill=\"#000000\">&lt;integer&gt;</text>\n",
       "</g>\n",
       "<!-- 3&#45;&gt;4 -->\n",
       "<g id=\"edge4\" class=\"edge\">\n",
       "<title>3&#45;&gt;4</title>\n",
       "<path fill=\"none\" stroke=\"#000000\" d=\"M27.5,-407.9748C27.5,-401.195 27.5,-390.966 27.5,-382.1331\"/>\n",
       "<polygon fill=\"#000000\" stroke=\"#000000\" points=\"31.0001,-382.0561 27.5,-372.0561 24.0001,-382.0561 31.0001,-382.0561\"/>\n",
       "</g>\n",
       "<!-- 5 -->\n",
       "<g id=\"node6\" class=\"node\">\n",
       "<title>5</title>\n",
       "<text text-anchor=\"middle\" x=\"27.5\" y=\"-309.8\" font-family=\"Times,serif\" font-size=\"14.00\" fill=\"#000000\">&lt;digit&gt;</text>\n",
       "</g>\n",
       "<!-- 4&#45;&gt;5 -->\n",
       "<g id=\"edge5\" class=\"edge\">\n",
       "<title>4&#45;&gt;5</title>\n",
       "<path fill=\"none\" stroke=\"#000000\" d=\"M27.5,-356.9748C27.5,-350.195 27.5,-339.966 27.5,-331.1331\"/>\n",
       "<polygon fill=\"#000000\" stroke=\"#000000\" points=\"31.0001,-331.0561 27.5,-321.0561 24.0001,-331.0561 31.0001,-331.0561\"/>\n",
       "</g>\n",
       "<!-- 6 -->\n",
       "<g id=\"node7\" class=\"node\">\n",
       "<title>6</title>\n",
       "<text text-anchor=\"middle\" x=\"27.5\" y=\"-258.8\" font-family=\"Times,serif\" font-size=\"14.00\" fill=\"#000000\">1</text>\n",
       "</g>\n",
       "<!-- 5&#45;&gt;6 -->\n",
       "<g id=\"edge6\" class=\"edge\">\n",
       "<title>5&#45;&gt;6</title>\n",
       "<path fill=\"none\" stroke=\"#000000\" d=\"M27.5,-305.9748C27.5,-299.195 27.5,-288.966 27.5,-280.1331\"/>\n",
       "<polygon fill=\"#000000\" stroke=\"#000000\" points=\"31.0001,-280.0561 27.5,-270.0561 24.0001,-280.0561 31.0001,-280.0561\"/>\n",
       "</g>\n",
       "<!-- 9 -->\n",
       "<g id=\"node10\" class=\"node\">\n",
       "<title>9</title>\n",
       "<text text-anchor=\"middle\" x=\"120.5\" y=\"-411.8\" font-family=\"Times,serif\" font-size=\"14.00\" fill=\"#000000\">&lt;term&gt;</text>\n",
       "</g>\n",
       "<!-- 8&#45;&gt;9 -->\n",
       "<g id=\"edge9\" class=\"edge\">\n",
       "<title>8&#45;&gt;9</title>\n",
       "<path fill=\"none\" stroke=\"#000000\" d=\"M120.5,-458.9748C120.5,-452.195 120.5,-441.966 120.5,-433.1331\"/>\n",
       "<polygon fill=\"#000000\" stroke=\"#000000\" points=\"124.0001,-433.0561 120.5,-423.0561 117.0001,-433.0561 124.0001,-433.0561\"/>\n",
       "</g>\n",
       "<!-- 10 -->\n",
       "<g id=\"node11\" class=\"node\">\n",
       "<title>10</title>\n",
       "<text text-anchor=\"middle\" x=\"120.5\" y=\"-360.8\" font-family=\"Times,serif\" font-size=\"14.00\" fill=\"#000000\">&lt;factor&gt;</text>\n",
       "</g>\n",
       "<!-- 9&#45;&gt;10 -->\n",
       "<g id=\"edge10\" class=\"edge\">\n",
       "<title>9&#45;&gt;10</title>\n",
       "<path fill=\"none\" stroke=\"#000000\" d=\"M120.5,-407.9748C120.5,-401.195 120.5,-390.966 120.5,-382.1331\"/>\n",
       "<polygon fill=\"#000000\" stroke=\"#000000\" points=\"124.0001,-382.0561 120.5,-372.0561 117.0001,-382.0561 124.0001,-382.0561\"/>\n",
       "</g>\n",
       "<!-- 11 -->\n",
       "<g id=\"node12\" class=\"node\">\n",
       "<title>11</title>\n",
       "<text text-anchor=\"middle\" x=\"79.5\" y=\"-309.8\" font-family=\"Times,serif\" font-size=\"14.00\" fill=\"#000000\">(</text>\n",
       "</g>\n",
       "<!-- 10&#45;&gt;11 -->\n",
       "<g id=\"edge11\" class=\"edge\">\n",
       "<title>10&#45;&gt;11</title>\n",
       "<path fill=\"none\" stroke=\"#000000\" d=\"M114.4503,-356.9748C107.6341,-348.4961 96.4814,-334.6232 88.6104,-324.8324\"/>\n",
       "<polygon fill=\"#000000\" stroke=\"#000000\" points=\"91.1088,-322.3541 82.1154,-316.7533 85.6531,-326.74 91.1088,-322.3541\"/>\n",
       "</g>\n",
       "<!-- 12 -->\n",
       "<g id=\"node13\" class=\"node\">\n",
       "<title>12</title>\n",
       "<text text-anchor=\"middle\" x=\"120.5\" y=\"-309.8\" font-family=\"Times,serif\" font-size=\"14.00\" fill=\"#000000\">&lt;expr&gt;</text>\n",
       "</g>\n",
       "<!-- 10&#45;&gt;12 -->\n",
       "<g id=\"edge12\" class=\"edge\">\n",
       "<title>10&#45;&gt;12</title>\n",
       "<path fill=\"none\" stroke=\"#000000\" d=\"M120.5,-356.9748C120.5,-350.195 120.5,-339.966 120.5,-331.1331\"/>\n",
       "<polygon fill=\"#000000\" stroke=\"#000000\" points=\"124.0001,-331.0561 120.5,-321.0561 117.0001,-331.0561 124.0001,-331.0561\"/>\n",
       "</g>\n",
       "<!-- 24 -->\n",
       "<g id=\"node25\" class=\"node\">\n",
       "<title>24</title>\n",
       "<text text-anchor=\"middle\" x=\"161.5\" y=\"-309.8\" font-family=\"Times,serif\" font-size=\"14.00\" fill=\"#000000\">)</text>\n",
       "</g>\n",
       "<!-- 10&#45;&gt;24 -->\n",
       "<g id=\"edge24\" class=\"edge\">\n",
       "<title>10&#45;&gt;24</title>\n",
       "<path fill=\"none\" stroke=\"#000000\" d=\"M126.5497,-356.9748C133.3659,-348.4961 144.5186,-334.6232 152.3896,-324.8324\"/>\n",
       "<polygon fill=\"#000000\" stroke=\"#000000\" points=\"155.3469,-326.74 158.8846,-316.7533 149.8912,-322.3541 155.3469,-326.74\"/>\n",
       "</g>\n",
       "<!-- 13 -->\n",
       "<g id=\"node14\" class=\"node\">\n",
       "<title>13</title>\n",
       "<text text-anchor=\"middle\" x=\"120.5\" y=\"-258.8\" font-family=\"Times,serif\" font-size=\"14.00\" fill=\"#000000\">&lt;term&gt;</text>\n",
       "</g>\n",
       "<!-- 12&#45;&gt;13 -->\n",
       "<g id=\"edge13\" class=\"edge\">\n",
       "<title>12&#45;&gt;13</title>\n",
       "<path fill=\"none\" stroke=\"#000000\" d=\"M120.5,-305.9748C120.5,-299.195 120.5,-288.966 120.5,-280.1331\"/>\n",
       "<polygon fill=\"#000000\" stroke=\"#000000\" points=\"124.0001,-280.0561 120.5,-270.0561 117.0001,-280.0561 124.0001,-280.0561\"/>\n",
       "</g>\n",
       "<!-- 14 -->\n",
       "<g id=\"node15\" class=\"node\">\n",
       "<title>14</title>\n",
       "<text text-anchor=\"middle\" x=\"70.5\" y=\"-207.8\" font-family=\"Times,serif\" font-size=\"14.00\" fill=\"#000000\">&lt;factor&gt;</text>\n",
       "</g>\n",
       "<!-- 13&#45;&gt;14 -->\n",
       "<g id=\"edge14\" class=\"edge\">\n",
       "<title>13&#45;&gt;14</title>\n",
       "<path fill=\"none\" stroke=\"#000000\" d=\"M113.1223,-254.9748C105.7369,-247.4417 94.1768,-235.6503 84.958,-226.2472\"/>\n",
       "<polygon fill=\"#000000\" stroke=\"#000000\" points=\"87.4079,-223.7466 77.9079,-219.0561 82.4094,-228.6471 87.4079,-223.7466\"/>\n",
       "</g>\n",
       "<!-- 18 -->\n",
       "<g id=\"node19\" class=\"node\">\n",
       "<title>18</title>\n",
       "<text text-anchor=\"middle\" x=\"120.5\" y=\"-207.8\" font-family=\"Times,serif\" font-size=\"14.00\" fill=\"#000000\"> * </text>\n",
       "</g>\n",
       "<!-- 13&#45;&gt;18 -->\n",
       "<g id=\"edge18\" class=\"edge\">\n",
       "<title>13&#45;&gt;18</title>\n",
       "<path fill=\"none\" stroke=\"#000000\" d=\"M120.5,-254.9748C120.5,-248.195 120.5,-237.966 120.5,-229.1331\"/>\n",
       "<polygon fill=\"#000000\" stroke=\"#000000\" points=\"124.0001,-229.0561 120.5,-219.0561 117.0001,-229.0561 124.0001,-229.0561\"/>\n",
       "</g>\n",
       "<!-- 19 -->\n",
       "<g id=\"node20\" class=\"node\">\n",
       "<title>19</title>\n",
       "<text text-anchor=\"middle\" x=\"167.5\" y=\"-207.8\" font-family=\"Times,serif\" font-size=\"14.00\" fill=\"#000000\">&lt;term&gt;</text>\n",
       "</g>\n",
       "<!-- 13&#45;&gt;19 -->\n",
       "<g id=\"edge19\" class=\"edge\">\n",
       "<title>13&#45;&gt;19</title>\n",
       "<path fill=\"none\" stroke=\"#000000\" d=\"M127.435,-254.9748C134.3079,-247.517 145.0269,-235.8857 153.6488,-226.53\"/>\n",
       "<polygon fill=\"#000000\" stroke=\"#000000\" points=\"156.3334,-228.7816 160.5365,-219.0561 151.1859,-224.0378 156.3334,-228.7816\"/>\n",
       "</g>\n",
       "<!-- 15 -->\n",
       "<g id=\"node16\" class=\"node\">\n",
       "<title>15</title>\n",
       "<text text-anchor=\"middle\" x=\"70.5\" y=\"-156.8\" font-family=\"Times,serif\" font-size=\"14.00\" fill=\"#000000\">&lt;integer&gt;</text>\n",
       "</g>\n",
       "<!-- 14&#45;&gt;15 -->\n",
       "<g id=\"edge15\" class=\"edge\">\n",
       "<title>14&#45;&gt;15</title>\n",
       "<path fill=\"none\" stroke=\"#000000\" d=\"M70.5,-203.9748C70.5,-197.195 70.5,-186.966 70.5,-178.1331\"/>\n",
       "<polygon fill=\"#000000\" stroke=\"#000000\" points=\"74.0001,-178.0561 70.5,-168.0561 67.0001,-178.0561 74.0001,-178.0561\"/>\n",
       "</g>\n",
       "<!-- 16 -->\n",
       "<g id=\"node17\" class=\"node\">\n",
       "<title>16</title>\n",
       "<text text-anchor=\"middle\" x=\"70.5\" y=\"-105.8\" font-family=\"Times,serif\" font-size=\"14.00\" fill=\"#000000\">&lt;digit&gt;</text>\n",
       "</g>\n",
       "<!-- 15&#45;&gt;16 -->\n",
       "<g id=\"edge16\" class=\"edge\">\n",
       "<title>15&#45;&gt;16</title>\n",
       "<path fill=\"none\" stroke=\"#000000\" d=\"M70.5,-152.9748C70.5,-146.195 70.5,-135.966 70.5,-127.1331\"/>\n",
       "<polygon fill=\"#000000\" stroke=\"#000000\" points=\"74.0001,-127.0561 70.5,-117.0561 67.0001,-127.0561 74.0001,-127.0561\"/>\n",
       "</g>\n",
       "<!-- 17 -->\n",
       "<g id=\"node18\" class=\"node\">\n",
       "<title>17</title>\n",
       "<text text-anchor=\"middle\" x=\"70.5\" y=\"-54.8\" font-family=\"Times,serif\" font-size=\"14.00\" fill=\"#000000\">2</text>\n",
       "</g>\n",
       "<!-- 16&#45;&gt;17 -->\n",
       "<g id=\"edge17\" class=\"edge\">\n",
       "<title>16&#45;&gt;17</title>\n",
       "<path fill=\"none\" stroke=\"#000000\" d=\"M70.5,-101.9748C70.5,-95.195 70.5,-84.966 70.5,-76.1331\"/>\n",
       "<polygon fill=\"#000000\" stroke=\"#000000\" points=\"74.0001,-76.0561 70.5,-66.0561 67.0001,-76.0561 74.0001,-76.0561\"/>\n",
       "</g>\n",
       "<!-- 20 -->\n",
       "<g id=\"node21\" class=\"node\">\n",
       "<title>20</title>\n",
       "<text text-anchor=\"middle\" x=\"167.5\" y=\"-156.8\" font-family=\"Times,serif\" font-size=\"14.00\" fill=\"#000000\">&lt;factor&gt;</text>\n",
       "</g>\n",
       "<!-- 19&#45;&gt;20 -->\n",
       "<g id=\"edge20\" class=\"edge\">\n",
       "<title>19&#45;&gt;20</title>\n",
       "<path fill=\"none\" stroke=\"#000000\" d=\"M167.5,-203.9748C167.5,-197.195 167.5,-186.966 167.5,-178.1331\"/>\n",
       "<polygon fill=\"#000000\" stroke=\"#000000\" points=\"171.0001,-178.0561 167.5,-168.0561 164.0001,-178.0561 171.0001,-178.0561\"/>\n",
       "</g>\n",
       "<!-- 21 -->\n",
       "<g id=\"node22\" class=\"node\">\n",
       "<title>21</title>\n",
       "<text text-anchor=\"middle\" x=\"167.5\" y=\"-105.8\" font-family=\"Times,serif\" font-size=\"14.00\" fill=\"#000000\">&lt;integer&gt;</text>\n",
       "</g>\n",
       "<!-- 20&#45;&gt;21 -->\n",
       "<g id=\"edge21\" class=\"edge\">\n",
       "<title>20&#45;&gt;21</title>\n",
       "<path fill=\"none\" stroke=\"#000000\" d=\"M167.5,-152.9748C167.5,-146.195 167.5,-135.966 167.5,-127.1331\"/>\n",
       "<polygon fill=\"#000000\" stroke=\"#000000\" points=\"171.0001,-127.0561 167.5,-117.0561 164.0001,-127.0561 171.0001,-127.0561\"/>\n",
       "</g>\n",
       "<!-- 22 -->\n",
       "<g id=\"node23\" class=\"node\">\n",
       "<title>22</title>\n",
       "<text text-anchor=\"middle\" x=\"167.5\" y=\"-54.8\" font-family=\"Times,serif\" font-size=\"14.00\" fill=\"#000000\">&lt;digit&gt;</text>\n",
       "</g>\n",
       "<!-- 21&#45;&gt;22 -->\n",
       "<g id=\"edge22\" class=\"edge\">\n",
       "<title>21&#45;&gt;22</title>\n",
       "<path fill=\"none\" stroke=\"#000000\" d=\"M167.5,-101.9748C167.5,-95.195 167.5,-84.966 167.5,-76.1331\"/>\n",
       "<polygon fill=\"#000000\" stroke=\"#000000\" points=\"171.0001,-76.0561 167.5,-66.0561 164.0001,-76.0561 171.0001,-76.0561\"/>\n",
       "</g>\n",
       "<!-- 23 -->\n",
       "<g id=\"node24\" class=\"node\">\n",
       "<title>23</title>\n",
       "<text text-anchor=\"middle\" x=\"167.5\" y=\"-3.8\" font-family=\"Times,serif\" font-size=\"14.00\" fill=\"#000000\">3</text>\n",
       "</g>\n",
       "<!-- 22&#45;&gt;23 -->\n",
       "<g id=\"edge23\" class=\"edge\">\n",
       "<title>22&#45;&gt;23</title>\n",
       "<path fill=\"none\" stroke=\"#000000\" d=\"M167.5,-50.9748C167.5,-44.195 167.5,-33.966 167.5,-25.1331\"/>\n",
       "<polygon fill=\"#000000\" stroke=\"#000000\" points=\"171.0001,-25.0561 167.5,-15.0561 164.0001,-25.0561 171.0001,-25.0561\"/>\n",
       "</g>\n",
       "</g>\n",
       "</svg>\n"
      ],
      "text/plain": [
       "<graphviz.dot.Digraph at 0x113ebf160>"
      ]
     },
     "metadata": {},
     "output_type": "display_data"
    }
   ],
   "source": [
    "mystring = \"1 + (2 * 3)\"\n",
    "for tree in PackratParser(EXPR_GRAMMAR).parse(mystring):\n",
    "    assert tree_to_string(tree) == mystring\n",
    "    display_tree(tree)"
   ]
  },
  {
   "cell_type": "markdown",
   "metadata": {
    "button": false,
    "new_sheet": false,
    "run_control": {
     "read_only": false
    },
    "slideshow": {
     "slide_type": "skip"
    }
   },
   "source": [
    "### Exercise 2: More PEG Syntax\n",
    "\n",
    "The _PEG_ syntax provides a few notational conveniences reminiscent of regular expressions. For example, it supports the following operators (letters `T` and `A` represents tokens that can be either terminal or nonterminal. `ε` is an empty string, and `/` is the ordered choice operator similar to the non-ordered choice operator `|`):\n",
    "\n",
    "* `T?` represents an optional greedy match of T and `A := T?` is equivalent to `A := T/ε`.\n",
    "* `T*` represents zero or more greedy matches of `T` and `A := T*` is equivalent to `A := T A/ε`.\n",
    "* `T+` represents one or more greedy matches – equivalent to `TT*`\n",
    "\n",
    "If you look at the three notations above, each can be represented in the grammar in terms of basic syntax.\n",
    "Remember the exercise from [the chapter on grammars](Grammars.ipynb) that developed `define_ex_grammar()` that can represent grammars as Python code? extend `define_ex_grammar()` to `define_peg()` to support the above notational conveniences. The decorator should rewrite a given grammar that contains these notations to an equivalent grammar in basic syntax."
   ]
  },
  {
   "cell_type": "markdown",
   "metadata": {
    "button": false,
    "heading_collapsed": true,
    "new_sheet": false,
    "run_control": {
     "read_only": false
    },
    "slideshow": {
     "slide_type": "skip"
    },
    "solution": "hidden",
    "solution_first": true
   },
   "source": [
    "### Exercise 3: PEG Predicates\n",
    "\n",
    "Beyond these notational conveniences, it also supports two predicates that can provide a powerful lookahead facility that does not consume any input.\n",
    "\n",
    "* `T&A` represents an _And-predicate_ that matches `T` if `T` is matched, and it is immediately followed by `A`\n",
    "* `T!A` represents a _Not-predicate_ that matches `T` if `T` is matched, and it is *not* immediately followed by `A`\n",
    "\n",
    "Implement these predicates in our _PEG_ parser."
   ]
  },
  {
   "cell_type": "markdown",
   "metadata": {
    "button": false,
    "new_sheet": false,
    "run_control": {
     "read_only": false
    },
    "slideshow": {
     "slide_type": "skip"
    },
    "solution": "hidden",
    "solution2": "hidden",
    "solution2_first": true,
    "solution_first": true
   },
   "source": [
    "### Exercise 4: Earley Fill Chart\n",
    "\n",
    "In the `Earley Parser`, `Column` class, we keep the states both as a `list` and also as a `dict` even though `dict` is ordered. Can you explain why?\n",
    "\n",
    "**Hint**: see the `fill_chart` method."
   ]
  },
  {
   "cell_type": "markdown",
   "metadata": {
    "slideshow": {
     "slide_type": "subslide"
    },
    "solution2": "hidden"
   },
   "source": [
    "**Solution.** Python allows us to append to a list in flight, while a dict, eventhough it is ordered does not allow that facility.\n",
    "\n",
    "That is, the following will work\n",
    "\n",
    "```python\n",
    "values = [1]\n",
    "for v in values:\n",
    "   values.append(v*2)\n",
    "```\n",
    "\n",
    "However, the following will result in an error\n",
    "```python\n",
    "values = {1:1}\n",
    "for v in values:\n",
    "    values[v*2] = v*2\n",
    "```\n",
    "\n",
    "In the `fill_chart`, we make use of this facility to modify the set of states we are iterating on, on the fly."
   ]
  },
  {
   "cell_type": "markdown",
   "metadata": {
    "slideshow": {
     "slide_type": "skip"
    }
   },
   "source": [
    "### Exercise 5: Leo Parser\n",
    "\n",
    "One of the problems with the original Earley parser is that while it can parse strings using arbitrary _Context Free Gramamrs_, its performance on right-recursive grammars is quadratic. That is, it takes $O(n^2)$ runtime and space for parsing with right-recursive grammars. For example, consider the parsing of the following string by two different grammars `LR_GRAMMAR` and `RR_GRAMMAR`."
   ]
  },
  {
   "cell_type": "code",
   "execution_count": 154,
   "metadata": {
    "slideshow": {
     "slide_type": "fragment"
    }
   },
   "outputs": [],
   "source": [
    "mystring = 'aaaaaa'"
   ]
  },
  {
   "cell_type": "markdown",
   "metadata": {
    "slideshow": {
     "slide_type": "skip"
    }
   },
   "source": [
    "To see the problem, we need to enable logging. Here is the logged version of parsing with the `LR_GRAMMAR`"
   ]
  },
  {
   "cell_type": "code",
   "execution_count": 155,
   "metadata": {
    "slideshow": {
     "slide_type": "skip"
    }
   },
   "outputs": [
    {
     "name": "stdout",
     "output_type": "stream",
     "text": [
      "None chart[0]\n",
      "<A>:= |(0,0)\n",
      "<start>:= <A> |(0,0)\n",
      "a chart[1]\n",
      "<A>:= <A> a |(0,1)\n",
      "<start>:= <A> |(0,1)\n",
      "a chart[2]\n",
      "<A>:= <A> a |(0,2)\n",
      "<start>:= <A> |(0,2)\n",
      "a chart[3]\n",
      "<A>:= <A> a |(0,3)\n",
      "<start>:= <A> |(0,3)\n",
      "a chart[4]\n",
      "<A>:= <A> a |(0,4)\n",
      "<start>:= <A> |(0,4)\n",
      "a chart[5]\n",
      "<A>:= <A> a |(0,5)\n",
      "<start>:= <A> |(0,5)\n",
      "a chart[6]\n",
      "<A>:= <A> a |(0,6)\n",
      "<start>:= <A> |(0,6)\n"
     ]
    }
   ],
   "source": [
    "result = EarleyParser(LR_GRAMMAR, log=True).parse(mystring)"
   ]
  },
  {
   "cell_type": "markdown",
   "metadata": {
    "slideshow": {
     "slide_type": "subslide"
    }
   },
   "source": [
    "Compare that to the parsing of `RR_GRAMMAR` as seen below:"
   ]
  },
  {
   "cell_type": "code",
   "execution_count": 156,
   "metadata": {
    "slideshow": {
     "slide_type": "skip"
    }
   },
   "outputs": [
    {
     "name": "stdout",
     "output_type": "stream",
     "text": [
      "None chart[0]\n",
      "<A>:= |(0,0)\n",
      "<start>:= <A> |(0,0)\n",
      "a chart[1]\n",
      "<A>:= |(1,1)\n",
      "<A>:= a <A> |(0,1)\n",
      "<start>:= <A> |(0,1)\n",
      "a chart[2]\n",
      "<A>:= |(2,2)\n",
      "<A>:= a <A> |(1,2)\n",
      "<A>:= a <A> |(0,2)\n",
      "<start>:= <A> |(0,2)\n",
      "a chart[3]\n",
      "<A>:= |(3,3)\n",
      "<A>:= a <A> |(2,3)\n",
      "<A>:= a <A> |(1,3)\n",
      "<A>:= a <A> |(0,3)\n",
      "<start>:= <A> |(0,3)\n",
      "a chart[4]\n",
      "<A>:= |(4,4)\n",
      "<A>:= a <A> |(3,4)\n",
      "<A>:= a <A> |(2,4)\n",
      "<A>:= a <A> |(1,4)\n",
      "<A>:= a <A> |(0,4)\n",
      "<start>:= <A> |(0,4)\n",
      "a chart[5]\n",
      "<A>:= |(5,5)\n",
      "<A>:= a <A> |(4,5)\n",
      "<A>:= a <A> |(3,5)\n",
      "<A>:= a <A> |(2,5)\n",
      "<A>:= a <A> |(1,5)\n",
      "<A>:= a <A> |(0,5)\n",
      "<start>:= <A> |(0,5)\n",
      "a chart[6]\n",
      "<A>:= |(6,6)\n",
      "<A>:= a <A> |(5,6)\n",
      "<A>:= a <A> |(4,6)\n",
      "<A>:= a <A> |(3,6)\n",
      "<A>:= a <A> |(2,6)\n",
      "<A>:= a <A> |(1,6)\n",
      "<A>:= a <A> |(0,6)\n",
      "<start>:= <A> |(0,6)\n"
     ]
    }
   ],
   "source": [
    "result = EarleyParser(RR_GRAMMAR, log=True).parse(mystring)"
   ]
  },
  {
   "cell_type": "markdown",
   "metadata": {
    "slideshow": {
     "slide_type": "skip"
    }
   },
   "source": [
    "As can be seen from the parsing log for each letter, the number of states with representation `<A>:= a <A> | (i, j)` increases at each stage, and these are simply a left over from the previous letter. They do not contribute anything more to the parse other than to simply complete these entries. However, they take up space, and require resources for inspection, contributing a factor of `n` in analysis.\n",
    "\n",
    "Joop Leo \\cite{Leo1991} found that this inefficiency can be avoided by detecting right recursion. The idea is that before starting the `completion` step, check whether the current item has a _deterministic reduction path_. If such a path exists, add a copy of the topmost element of the _deteministic reduction path_ to the current column, and return. If not, perform the original `completion` step.\n",
    "\n",
    "Finding a _deterministic reduction path_ is as follows:\n",
    "\n",
    "Given a complete state, represented by `<A> := seq_1 | (i)` where `(i)` is the starting column, there is a _deterministic reduction path_ **above** it if two criteria are satisfied.\n",
    "* There exist an item `<B> := seq_2 <A> | (k)` in the current column.\n",
    "* It should have a _single_ predecessor of the form `<B> := seq_2 | <A> (k)` in the current column.\n",
    "\n",
    "Whre `seq_1` and `seq_2` are arbitrary symbol sequences.\n",
    "Following this chain (looking for the link above `<B> := seq_2 <A> | (k)`), the topmost item is the item that does not have a parent.\n",
    "\n",
    "See [Loup Vaillant](http://loup-vaillant.fr/tutorials/earley-parsing/right-recursion) for further information."
   ]
  },
  {
   "cell_type": "markdown",
   "metadata": {
    "slideshow": {
     "slide_type": "subslide"
    }
   },
   "source": [
    "Here is the skeleton for the parser `LeoParser`."
   ]
  },
  {
   "cell_type": "code",
   "execution_count": 157,
   "metadata": {
    "slideshow": {
     "slide_type": "skip"
    }
   },
   "outputs": [],
   "source": [
    "class LeoParser(EarleyParser):\n",
    "    def complete(self, col, state):\n",
    "        return self.leo_complete(col, state)\n",
    "\n",
    "    def leo_complete(self, col, state):\n",
    "        detred = self.deterministic_reduction(state)\n",
    "        if detred:\n",
    "            col.add(detred.copy())\n",
    "        else:\n",
    "            self.earley_complete(col, state)\n",
    "\n",
    "    def deterministic_reduction(self, state):\n",
    "        raise NotImplemented()"
   ]
  },
  {
   "cell_type": "markdown",
   "metadata": {
    "slideshow": {
     "slide_type": "skip"
    },
    "solution2": "hidden",
    "solution2_first": true
   },
   "source": [
    "Can you implement the `deterministic_reduction()` method to obtain the top most element?"
   ]
  },
  {
   "cell_type": "markdown",
   "metadata": {
    "slideshow": {
     "slide_type": "subslide"
    },
    "solution2": "hidden",
    "solution2_first": true
   },
   "source": [
    "**Solution.**  Here is a possible solution:"
   ]
  },
  {
   "cell_type": "code",
   "execution_count": 158,
   "metadata": {
    "slideshow": {
     "slide_type": "skip"
    },
    "solution2": "hidden"
   },
   "outputs": [],
   "source": [
    "from functools import reduce"
   ]
  },
  {
   "cell_type": "markdown",
   "metadata": {
    "slideshow": {
     "slide_type": "fragment"
    },
    "solution2": "hidden"
   },
   "source": [
    "We first implement a helper function `splitlst()`. The `splitlst()` function takes a predicate and an iterable, and splits the iterable into two lists. The first list contains all items where the predicate is `False`, and the second list contains all items where the predicate was `True`."
   ]
  },
  {
   "cell_type": "code",
   "execution_count": 159,
   "metadata": {
    "slideshow": {
     "slide_type": "fragment"
    },
    "solution2": "hidden"
   },
   "outputs": [],
   "source": [
    "def splitlst(predicate, iterable):\n",
    "    return reduce(lambda res, e: res[predicate(e)].append(e)\n",
    "                  or res, iterable, ([], []))"
   ]
  },
  {
   "cell_type": "code",
   "execution_count": 160,
   "metadata": {
    "slideshow": {
     "slide_type": "skip"
    },
    "solution2": "hidden"
   },
   "outputs": [
    {
     "data": {
      "text/plain": [
       "([1, 3, 5, 7, 9], [2, 4, 6, 8])"
      ]
     },
     "execution_count": 160,
     "metadata": {},
     "output_type": "execute_result"
    }
   ],
   "source": [
    "splitlst(lambda x: x % 2 == 0, [1,2,3,4,5,6,7,8,9])"
   ]
  },
  {
   "cell_type": "markdown",
   "metadata": {
    "slideshow": {
     "slide_type": "skip"
    },
    "solution2": "hidden"
   },
   "source": [
    "The `splitlst()` is used to split the `states` in any column into two separate lists based on `finished()` predicate. That is, it produces two lists where the first one is the set of states that are in an `unfinished` state, and the second one where the states represent `finished` state for their respective rules."
   ]
  },
  {
   "cell_type": "markdown",
   "metadata": {
    "slideshow": {
     "slide_type": "skip"
    },
    "solution2": "hidden"
   },
   "source": [
    "Now, remember our constraint?\n",
    "* An item `<B> := seq_2 <A> | (k)` should exist (where k is the start column) and\n",
    "* it should have a _single_ predecessor of the form `<B> := seq_2 | <A> (k)` in the current column."
   ]
  },
  {
   "cell_type": "markdown",
   "metadata": {
    "slideshow": {
     "slide_type": "skip"
    },
    "solution2": "hidden"
   },
   "source": [
    "We define a function `check_constraint()` that verifies this criteria. That is, given the item `<B> := seq_2 <A> | (k)`, and a list of states, gets all states that match the item.\n",
    "\n",
    "Next, we verify that we have exactly one state that is at the same starting column, and one step behind in parsing."
   ]
  },
  {
   "cell_type": "code",
   "execution_count": 161,
   "metadata": {
    "slideshow": {
     "slide_type": "skip"
    },
    "solution2": "hidden"
   },
   "outputs": [],
   "source": [
    "class LeoParser(LeoParser):\n",
    "    def check_constraint(self, st_B, remain):\n",
    "        matching_states = [\n",
    "            s for s in remain if s.name == st_B.name and s.expr == st_B.expr\n",
    "        ]\n",
    "        res = [\n",
    "            s for s in matching_states\n",
    "            if s.s_col.index == st_B.s_col.index and s.dot == (st_B.dot - 1)\n",
    "        ]\n",
    "        return len(res) == 1"
   ]
  },
  {
   "cell_type": "markdown",
   "metadata": {
    "slideshow": {
     "slide_type": "skip"
    },
    "solution2": "hidden"
   },
   "source": [
    "We next define the function `get_above()` that is the core of deterministic reduction which gets the state *above* the current state (`A`). It first retrieves the finished states in the current column, and looks for those that match our requirements. That is, it looks for states whose corresponding rule has the same nonterminal `A` at the end. Then it uses `check_constraint()` to verify that we have exactly one item that matches our constraints."
   ]
  },
  {
   "cell_type": "code",
   "execution_count": 162,
   "metadata": {
    "slideshow": {
     "slide_type": "subslide"
    },
    "solution2": "hidden"
   },
   "outputs": [],
   "source": [
    "class LeoParser(LeoParser):\n",
    "    @lru_cache(maxsize=None)\n",
    "    def get_above(self, state_A):\n",
    "        remain, finished = splitlst(lambda s: s.finished(), state_A.s_col.states)\n",
    "        res = [\n",
    "            st for st in finished\n",
    "            if len(st.expr) > 1 and st.expr[-1] == state_A.name\n",
    "        ]\n",
    "        st_Bs = [st_B for st_B in res if self.check_constraint(st_B, remain)]\n",
    "        if st_Bs:\n",
    "            assert len(st_Bs) == 1\n",
    "            return st_Bs[0]\n",
    "        return None"
   ]
  },
  {
   "cell_type": "markdown",
   "metadata": {
    "slideshow": {
     "slide_type": "skip"
    },
    "solution2": "hidden"
   },
   "source": [
    "Once we have the machinery in place, `deterministic_reduction()` itself is to simply look for items above the current state. We return the *topmost* state when no more states exist above us."
   ]
  },
  {
   "cell_type": "code",
   "execution_count": 163,
   "metadata": {
    "slideshow": {
     "slide_type": "skip"
    },
    "solution2": "hidden"
   },
   "outputs": [],
   "source": [
    "class LeoParser(LeoParser):\n",
    "    def deterministic_reduction(self, state):\n",
    "        st = state\n",
    "        while True:\n",
    "            _st = self.get_above(st)\n",
    "            if not _st:\n",
    "                break\n",
    "            st = _st\n",
    "        return st if st != state else None"
   ]
  },
  {
   "cell_type": "markdown",
   "metadata": {
    "slideshow": {
     "slide_type": "skip"
    },
    "solution2": "hidden"
   },
   "source": [
    "Now, both LR and RR grammars should work within $O(n)$ bounds."
   ]
  },
  {
   "cell_type": "code",
   "execution_count": 164,
   "metadata": {
    "slideshow": {
     "slide_type": "skip"
    },
    "solution2": "hidden"
   },
   "outputs": [
    {
     "name": "stdout",
     "output_type": "stream",
     "text": [
      "None chart[0]\n",
      "<A>:= |(0,0)\n",
      "<start>:= <A> |(0,0)\n",
      "a chart[1]\n",
      "<A>:= |(1,1)\n",
      "<A>:= a <A> |(0,1)\n",
      "<start>:= <A> |(0,1)\n",
      "a chart[2]\n",
      "<A>:= |(2,2)\n",
      "<A>:= a <A> |(1,2)\n",
      "<A>:= a <A> |(0,2)\n",
      "<start>:= <A> |(0,2)\n",
      "a chart[3]\n",
      "<A>:= |(3,3)\n",
      "<A>:= a <A> |(2,3)\n",
      "<A>:= a <A> |(0,3)\n",
      "<start>:= <A> |(0,3)\n",
      "a chart[4]\n",
      "<A>:= |(4,4)\n",
      "<A>:= a <A> |(3,4)\n",
      "<A>:= a <A> |(0,4)\n",
      "<start>:= <A> |(0,4)\n",
      "a chart[5]\n",
      "<A>:= |(5,5)\n",
      "<A>:= a <A> |(4,5)\n",
      "<A>:= a <A> |(0,5)\n",
      "<start>:= <A> |(0,5)\n",
      "a chart[6]\n",
      "<A>:= |(6,6)\n",
      "<A>:= a <A> |(5,6)\n",
      "<A>:= a <A> |(0,6)\n",
      "<start>:= <A> |(0,6)\n"
     ]
    }
   ],
   "source": [
    "result = LeoParser(RR_GRAMMAR, log=True).parse(mystring)"
   ]
  },
  {
   "cell_type": "markdown",
   "metadata": {
    "slideshow": {
     "slide_type": "skip"
    },
    "solution2": "hidden"
   },
   "source": [
    "We verify that our parser works correctly on `LR_GRAMMAR` too."
   ]
  },
  {
   "cell_type": "code",
   "execution_count": 165,
   "metadata": {
    "slideshow": {
     "slide_type": "skip"
    },
    "solution2": "hidden"
   },
   "outputs": [
    {
     "name": "stdout",
     "output_type": "stream",
     "text": [
      "None chart[0]\n",
      "<A>:= |(0,0)\n",
      "<start>:= <A> |(0,0)\n",
      "a chart[1]\n",
      "<A>:= <A> a |(0,1)\n",
      "<start>:= <A> |(0,1)\n",
      "a chart[2]\n",
      "<A>:= <A> a |(0,2)\n",
      "<start>:= <A> |(0,2)\n",
      "a chart[3]\n",
      "<A>:= <A> a |(0,3)\n",
      "<start>:= <A> |(0,3)\n",
      "a chart[4]\n",
      "<A>:= <A> a |(0,4)\n",
      "<start>:= <A> |(0,4)\n",
      "a chart[5]\n",
      "<A>:= <A> a |(0,5)\n",
      "<start>:= <A> |(0,5)\n",
      "a chart[6]\n",
      "<A>:= <A> a |(0,6)\n",
      "<start>:= <A> |(0,6)\n",
      "aaaaaa\n"
     ]
    }
   ],
   "source": [
    "result = LeoParser(LR_GRAMMAR, log=True).parse(mystring)\n",
    "for tree in result:\n",
    "    print(tree_to_string(tree))"
   ]
  },
  {
   "cell_type": "markdown",
   "metadata": {
    "slideshow": {
     "slide_type": "subslide"
    },
    "solution2": "hidden"
   },
   "source": [
    "Now, both LR and RR grammars should work within $O(n)$ bounds."
   ]
  },
  {
   "cell_type": "code",
   "execution_count": 166,
   "metadata": {
    "slideshow": {
     "slide_type": "subslide"
    },
    "solution2": "hidden"
   },
   "outputs": [
    {
     "name": "stdout",
     "output_type": "stream",
     "text": [
      "None chart[0]\n",
      "<A>:= |(0,0)\n",
      "<start>:= <A> |(0,0)\n",
      "a chart[1]\n",
      "<A>:= |(1,1)\n",
      "<A>:= a <A> |(0,1)\n",
      "<start>:= <A> |(0,1)\n",
      "a chart[2]\n",
      "<A>:= |(2,2)\n",
      "<A>:= a <A> |(1,2)\n",
      "<A>:= a <A> |(0,2)\n",
      "<start>:= <A> |(0,2)\n",
      "a chart[3]\n",
      "<A>:= |(3,3)\n",
      "<A>:= a <A> |(2,3)\n",
      "<A>:= a <A> |(0,3)\n",
      "<start>:= <A> |(0,3)\n",
      "a chart[4]\n",
      "<A>:= |(4,4)\n",
      "<A>:= a <A> |(3,4)\n",
      "<A>:= a <A> |(0,4)\n",
      "<start>:= <A> |(0,4)\n",
      "a chart[5]\n",
      "<A>:= |(5,5)\n",
      "<A>:= a <A> |(4,5)\n",
      "<A>:= a <A> |(0,5)\n",
      "<start>:= <A> |(0,5)\n",
      "a chart[6]\n",
      "<A>:= |(6,6)\n",
      "<A>:= a <A> |(5,6)\n",
      "<A>:= a <A> |(0,6)\n",
      "<start>:= <A> |(0,6)\n"
     ]
    }
   ],
   "source": [
    "result = LeoParser(RR_GRAMMAR, log=True).parse(mystring)"
   ]
  },
  {
   "cell_type": "code",
   "execution_count": 167,
   "metadata": {
    "slideshow": {
     "slide_type": "subslide"
    },
    "solution2": "hidden"
   },
   "outputs": [
    {
     "name": "stdout",
     "output_type": "stream",
     "text": [
      "None chart[0]\n",
      "<A>:= |(0,0)\n",
      "<start>:= <A> |(0,0)\n",
      "a chart[1]\n",
      "<A>:= <A> a |(0,1)\n",
      "<start>:= <A> |(0,1)\n",
      "a chart[2]\n",
      "<A>:= <A> a |(0,2)\n",
      "<start>:= <A> |(0,2)\n",
      "a chart[3]\n",
      "<A>:= <A> a |(0,3)\n",
      "<start>:= <A> |(0,3)\n",
      "a chart[4]\n",
      "<A>:= <A> a |(0,4)\n",
      "<start>:= <A> |(0,4)\n",
      "a chart[5]\n",
      "<A>:= <A> a |(0,5)\n",
      "<start>:= <A> |(0,5)\n",
      "a chart[6]\n",
      "<A>:= <A> a |(0,6)\n",
      "<start>:= <A> |(0,6)\n",
      "aaaaaa\n"
     ]
    }
   ],
   "source": [
    "result = LeoParser(LR_GRAMMAR, log=True).parse(mystring)\n",
    "for tree in result:\n",
    "    print(tree_to_string(tree))"
   ]
  },
  {
   "cell_type": "markdown",
   "metadata": {
    "slideshow": {
     "slide_type": "skip"
    },
    "solution2": "hidden"
   },
   "source": [
    "__Advanced:__ We have fixed the complexity bounds. However, because we are saving only the top most item of a right recursion, we need to fix our `parse_forest` and `extract_a_tree` to be aware of our fix. Can you fix both?\n",
    "\n",
    "__Hint:__ When you start extracting the parse trees, any time you see a tagged state, look at its end point `e_col.index`. Until you reach this end point, you can carry along this state for each token you see, with the starting column suitably adjusted. Does your solution work for the following grammar?"
   ]
  },
  {
   "cell_type": "code",
   "execution_count": 168,
   "metadata": {
    "slideshow": {
     "slide_type": "fragment"
    },
    "solution2": "hidden"
   },
   "outputs": [],
   "source": [
    "RR_GRAMMAR2 = {\n",
    "    '<start>': ['<A>'],\n",
    "    '<A>': ['ab<A>', ''],\n",
    "}\n",
    "mystring2 = 'abababab'"
   ]
  },
  {
   "cell_type": "markdown",
   "metadata": {
    "slideshow": {
     "slide_type": "skip"
    },
    "solution2": "hidden"
   },
   "source": [
    "How about this one? (Does this obey the requirements?)"
   ]
  },
  {
   "cell_type": "code",
   "execution_count": 169,
   "metadata": {
    "slideshow": {
     "slide_type": "fragment"
    },
    "solution2": "hidden"
   },
   "outputs": [],
   "source": [
    "RR_GRAMMAR3 = {\n",
    "    '<start>': ['<A>'],\n",
    "    '<A>': ['ab<B>', ''],\n",
    "    '<B>': ['<A>'],\n",
    "}\n",
    "mystring3 = 'abababab'"
   ]
  },
  {
   "cell_type": "markdown",
   "metadata": {
    "slideshow": {
     "slide_type": "skip"
    },
    "solution2": "hidden"
   },
   "source": [
    "How about this?"
   ]
  },
  {
   "cell_type": "code",
   "execution_count": 170,
   "metadata": {
    "slideshow": {
     "slide_type": "skip"
    },
    "solution2": "hidden"
   },
   "outputs": [],
   "source": [
    "RR_GRAMMAR4 = {\n",
    "    '<start>': ['<A>'],\n",
    "    '<A>': ['a<B>', ''],\n",
    "    '<B>': ['b<A>'],\n",
    "}\n",
    "mystring3 = 'abababab'"
   ]
  },
  {
   "cell_type": "markdown",
   "metadata": {
    "slideshow": {
     "slide_type": "skip"
    },
    "solution2": "hidden",
    "solution2_first": true
   },
   "source": [
    "### Exercise 6: First Set of a Nonterminal\n",
    "\n",
    "We previously gave a way to extract a the `nullable` (epsilon) set, which is often used for parsing.\n",
    "Along with `nullable`, parsing algorithms often use two other sets [`first` and `follow`](https://en.wikipedia.org/wiki/Canonical_LR_parser#FIRST_and_FOLLOW_sets).\n",
    "The first set of a terminal symbol is itself, and the first set of a nonterminal is composed of terminal symbols that can come at the beginning of any derivation\n",
    "of that nonterminal. The first set of any nonterminal that can derive the empty string should contain `EPSILON`. For example, using our `A1_GRAMMAR`, the first set of both `<expr>` and `<start>` is `{0,1,2,3,4,5,6,7,8,9}`. The extraction first set for any self-recursive nonterminal is simple enough. One simply has to recursively compute the first set of the first element of its choice expressions. The computation of `first` set for a self-recursive nonterminal is tricky. One has to recursively compute the first set until one is sure that no more terminals can be added to the first set.\n",
    "\n",
    "Can you implement the `first` set using our `fixpoint()` decorator?"
   ]
  },
  {
   "cell_type": "markdown",
   "metadata": {
    "slideshow": {
     "slide_type": "subslide"
    },
    "solution2": "hidden"
   },
   "source": [
    "**Solution.** The first set of all terminals is the set containing just themselves. So we initialize that first. Then we update the first set with rules that derive empty strings."
   ]
  },
  {
   "cell_type": "code",
   "execution_count": 171,
   "metadata": {
    "slideshow": {
     "slide_type": "fragment"
    },
    "solution2": "hidden"
   },
   "outputs": [],
   "source": [
    "def firstset(grammar, nullable):\n",
    "    first = {i: {i} for i in terminals(grammar)}\n",
    "    for k in grammar:\n",
    "        first[k] = {EPSILON} if k in nullable else set()\n",
    "    return firstset_((rules(grammar), first, nullable))[1]"
   ]
  },
  {
   "cell_type": "markdown",
   "metadata": {
    "slideshow": {
     "slide_type": "fragment"
    },
    "solution2": "hidden"
   },
   "source": [
    "Finally, we rely on the `fixpoint` to update the first set with the contents of the current first set until the first set stops changing."
   ]
  },
  {
   "cell_type": "code",
   "execution_count": 172,
   "metadata": {
    "slideshow": {
     "slide_type": "subslide"
    },
    "solution2": "hidden"
   },
   "outputs": [],
   "source": [
    "def first_expr(expr, first, nullable):\n",
    "    tokens = set()\n",
    "    for token in expr:\n",
    "        tokens |= first[token]\n",
    "        if token not in nullable:\n",
    "            break\n",
    "    return tokens"
   ]
  },
  {
   "cell_type": "code",
   "execution_count": 173,
   "metadata": {
    "slideshow": {
     "slide_type": "fragment"
    },
    "solution2": "hidden"
   },
   "outputs": [],
   "source": [
    "@fixpoint\n",
    "def firstset_(arg):\n",
    "    (rules, first, epsilon) = arg\n",
    "    for A, expression in rules:\n",
    "        first[A] |= first_expr(expression, first, epsilon)\n",
    "    return (rules, first, epsilon)"
   ]
  },
  {
   "cell_type": "code",
   "execution_count": 174,
   "metadata": {
    "slideshow": {
     "slide_type": "subslide"
    },
    "solution2": "hidden"
   },
   "outputs": [
    {
     "data": {
      "text/plain": [
       "{'7': {'7'},\n",
       " '9': {'9'},\n",
       " '6': {'6'},\n",
       " '0': {'0'},\n",
       " '2': {'2'},\n",
       " '5': {'5'},\n",
       " '1': {'1'},\n",
       " '8': {'8'},\n",
       " '-': {'-'},\n",
       " '3': {'3'},\n",
       " '4': {'4'},\n",
       " '+': {'+'},\n",
       " '<start>': {'0', '1', '2', '3', '4', '5', '6', '7', '8', '9'},\n",
       " '<expr>': {'0', '1', '2', '3', '4', '5', '6', '7', '8', '9'},\n",
       " '<integer>': {'0', '1', '2', '3', '4', '5', '6', '7', '8', '9'},\n",
       " '<digit>': {'0', '1', '2', '3', '4', '5', '6', '7', '8', '9'}}"
      ]
     },
     "execution_count": 174,
     "metadata": {},
     "output_type": "execute_result"
    }
   ],
   "source": [
    "firstset(canonical(A1_GRAMMAR), EPSILON)"
   ]
  },
  {
   "cell_type": "markdown",
   "metadata": {
    "slideshow": {
     "slide_type": "skip"
    },
    "solution2": "hidden",
    "solution2_first": true
   },
   "source": [
    "### Exercise 7: Follow Set of a Nonterminal\n",
    "\n",
    "The follow set definition is similar to the first set. The follow set of a nonterminal is the set of terminals that can occur just after that nonterminal is used in any derivation. The follow set of the start symbol is `EOF`, and the follow set of any nonterminal is the super set of first sets of all symbols that come after it in any choice expression.\n",
    "\n",
    "For example, the follow set of `<expr>` in `A1_GRAMMAR` is the set `{EOF, +, -}`.\n",
    "\n",
    "As in the previous exercise, implement the `followset()` using the `fixpoint()` decorator."
   ]
  },
  {
   "cell_type": "markdown",
   "metadata": {
    "slideshow": {
     "slide_type": "subslide"
    },
    "solution2": "hidden"
   },
   "source": [
    "**Solution.** The implementation of `followset()` is similar to `firstset()`. We first initialize the follow set with `EOF`, get the epsilon and first sets, and use the `fixpoint()` decorator to iteratively compute the follow set until nothing changes."
   ]
  },
  {
   "cell_type": "code",
   "execution_count": 175,
   "metadata": {
    "slideshow": {
     "slide_type": "fragment"
    },
    "solution2": "hidden"
   },
   "outputs": [],
   "source": [
    "EOF = '\\0'"
   ]
  },
  {
   "cell_type": "code",
   "execution_count": 176,
   "metadata": {
    "slideshow": {
     "slide_type": "fragment"
    },
    "solution2": "hidden"
   },
   "outputs": [],
   "source": [
    "def followset(grammar, start):\n",
    "    follow = {i: set() for i in grammar}\n",
    "    follow[start] = {EOF}\n",
    "\n",
    "    epsilon = nullable(grammar)\n",
    "    first = firstset(grammar, epsilon)\n",
    "    return followset_((grammar, epsilon, first, follow))[-1]"
   ]
  },
  {
   "cell_type": "markdown",
   "metadata": {
    "slideshow": {
     "slide_type": "fragment"
    },
    "solution2": "hidden"
   },
   "source": [
    "Given the current follow set, one can update the follow set as follows:"
   ]
  },
  {
   "cell_type": "code",
   "execution_count": 177,
   "metadata": {
    "slideshow": {
     "slide_type": "subslide"
    },
    "solution2": "hidden"
   },
   "outputs": [],
   "source": [
    "@fixpoint\n",
    "def followset_(arg):\n",
    "    grammar, epsilon, first, follow = arg\n",
    "    for A, expression in rules(grammar):\n",
    "        f_B = follow[A]\n",
    "        for t in reversed(expression):\n",
    "            if t in grammar:\n",
    "                follow[t] |= f_B\n",
    "            f_B = f_B | first[t] if t in epsilon else (first[t] - {EPSILON})\n",
    "\n",
    "    return (grammar, epsilon, first, follow)"
   ]
  },
  {
   "cell_type": "code",
   "execution_count": 178,
   "metadata": {
    "slideshow": {
     "slide_type": "subslide"
    },
    "solution2": "hidden"
   },
   "outputs": [
    {
     "data": {
      "text/plain": [
       "{'<start>': {'\\x00'},\n",
       " '<expr>': {'\\x00', '+', '-'},\n",
       " '<integer>': {'\\x00', '+', '-'},\n",
       " '<digit>': {'\\x00',\n",
       "  '+',\n",
       "  '-',\n",
       "  '0',\n",
       "  '1',\n",
       "  '2',\n",
       "  '3',\n",
       "  '4',\n",
       "  '5',\n",
       "  '6',\n",
       "  '7',\n",
       "  '8',\n",
       "  '9'}}"
      ]
     },
     "execution_count": 178,
     "metadata": {},
     "output_type": "execute_result"
    }
   ],
   "source": [
    "followset(canonical(A1_GRAMMAR), START_SYMBOL)"
   ]
  },
  {
   "cell_type": "markdown",
   "metadata": {
    "slideshow": {
     "slide_type": "skip"
    },
    "toc-hr-collapsed": true
   },
   "source": [
    "### Exercise 8: A LL(1) Parser\n",
    "\n",
    "As we mentioned previously, there exist other kinds of parsers that operate left-to-right with right most derivation (*LR(k)*) or left-to-right with left most derivation (*LL(k)*) with _k_ signifying the amount of lookahead the parser is permitted to use.\n",
    "\n",
    "What should one do with the lookahead? That lookahead can be used to determine which rule to apply. In the case of an *LL(1)* parser, the rule to apply is determined by looking at the _first_ set of the different rules. We previously implemented `first_expr()` that takes a an expression, the set of  `nullables`, and computes the first set of that rule.\n",
    "\n",
    "If a rule can derive an empty set, then that rule may also be applicable if of sees the `follow()` set of the corresponding nonterminal."
   ]
  },
  {
   "cell_type": "markdown",
   "metadata": {
    "slideshow": {
     "slide_type": "skip"
    }
   },
   "source": [
    "#### Part 1: A LL(1) Parsing Table\n",
    "\n",
    "The first part of this exercise is to implement the _parse table_ that describes what action to take for an *LL(1)* parser on seeing a terminal symbol on lookahead.  The table should be in the form of a _dictionary_ such that the keys represent the nonterminal symbol, and the value should contain another dictionary with keys as terminal symbols and the particular rule to continue parsing as the value.\n",
    "\n",
    "Let us illustrate this table with an example.  The `parse_table()` method populates a `self.table` data structure that should conform to the following requirements:"
   ]
  },
  {
   "cell_type": "code",
   "execution_count": 179,
   "metadata": {
    "slideshow": {
     "slide_type": "skip"
    }
   },
   "outputs": [],
   "source": [
    "class LL1Parser(Parser):\n",
    "    def parse_table(self):\n",
    "        self.my_rules = rules(self.cgrammar)\n",
    "        self.table = ...          # fill in here to produce\n",
    "\n",
    "    def rules(self):\n",
    "        for i, rule in enumerate(self.my_rules):\n",
    "            print(i, rule)\n",
    "\n",
    "    def show_table(self):\n",
    "        ts = list(sorted(terminals(self.cgrammar)))\n",
    "        print('Rule Name\\t| %s' % ' | '.join(t for t in ts))\n",
    "        for k in self.table:\n",
    "            pr = self.table[k]\n",
    "            actions = list(str(pr[t]) if t in pr else ' ' for t in ts)\n",
    "            print('%s  \\t| %s' % (k, ' | '.join(actions)))"
   ]
  },
  {
   "cell_type": "markdown",
   "metadata": {
    "slideshow": {
     "slide_type": "skip"
    }
   },
   "source": [
    "On invocation of `LL1Parser(A2_GRAMMAR).show_table()`\n",
    "It should result in the following table:"
   ]
  },
  {
   "cell_type": "code",
   "execution_count": 180,
   "metadata": {
    "slideshow": {
     "slide_type": "skip"
    }
   },
   "outputs": [
    {
     "name": "stdout",
     "output_type": "stream",
     "text": [
      "0\t <start> := ['<expr>']\n",
      "1\t <expr> := ['<integer>', '<expr_>']\n",
      "2\t <expr_> := ['+', '<expr>']\n",
      "3\t <expr_> := ['-', '<expr>']\n",
      "4\t <expr_> := []\n",
      "5\t <integer> := ['<digit>', '<integer_>']\n",
      "6\t <integer_> := ['<integer>']\n",
      "7\t <integer_> := []\n",
      "8\t <digit> := ['0']\n",
      "9\t <digit> := ['1']\n",
      "10\t <digit> := ['2']\n",
      "11\t <digit> := ['3']\n",
      "12\t <digit> := ['4']\n",
      "13\t <digit> := ['5']\n",
      "14\t <digit> := ['6']\n",
      "15\t <digit> := ['7']\n",
      "16\t <digit> := ['8']\n",
      "17\t <digit> := ['9']\n"
     ]
    }
   ],
   "source": [
    "for i, r in enumerate(rules(canonical(A2_GRAMMAR))):\n",
    "    print(\"%d\\t %s := %s\" % (i, r[0], r[1]))"
   ]
  },
  {
   "cell_type": "markdown",
   "metadata": {
    "slideshow": {
     "slide_type": "subslide"
    },
    "solution2": "hidden",
    "solution2_first": true
   },
   "source": [
    "|Rule Name  || + | - | 0 | 1 | 2 | 3 | 4 | 5 | 6 | 7 | 8 | 9|\n",
    "|-----------||---|---|---|---|---|---|---|---|---|---|---|--|\n",
    "|start  \t||   |   | 0 | 0 | 0 | 0 | 0 | 0 | 0 | 0 | 0 | 0|\n",
    "|expr   \t||   |   | 1 | 1 | 1 | 1 | 1 | 1 | 1 | 1 | 1 | 1|\n",
    "|expr_  \t|| 2 | 3 |   |   |   |   |   |   |   |   |   |  |\n",
    "|integer  \t||   |   | 5 | 5 | 5 | 5 | 5 | 5 | 5 | 5 | 5 | 5|\n",
    "|integer_  \t|| 7 | 7 | 6 | 6 | 6 | 6 | 6 | 6 | 6 | 6 | 6 | 6|\n",
    "|digit  \t||   |   | 8 | 9 |10 |11 |12 |13 |14 |15 |16 |17|"
   ]
  },
  {
   "cell_type": "markdown",
   "metadata": {
    "slideshow": {
     "slide_type": "subslide"
    },
    "solution2": "hidden"
   },
   "source": [
    "**Solution.** We define `predict()` as we explained before. Then we use the predicted rules to populate the parse table."
   ]
  },
  {
   "cell_type": "code",
   "execution_count": 181,
   "metadata": {
    "slideshow": {
     "slide_type": "subslide"
    },
    "solution2": "hidden"
   },
   "outputs": [],
   "source": [
    "class LL1Parser(LL1Parser):\n",
    "    def predict(self, rulepair, first, follow, epsilon):\n",
    "        A, rule = rulepair\n",
    "        rf = first_expr(rule, first, epsilon)\n",
    "        if nullable_expr(rule, epsilon):\n",
    "            rf |= follow[A]\n",
    "        return rf\n",
    "\n",
    "    def parse_table(self):\n",
    "        self.my_rules = rules(self.cgrammar)\n",
    "        epsilon = nullable(self.cgrammar)\n",
    "        first = firstset(self.cgrammar, epsilon)\n",
    "        # inefficient, can combine the three.\n",
    "        follow = followset(self.cgrammar, self.start_symbol)\n",
    "\n",
    "        ptable = [(i, self.predict(rule, first, follow, epsilon))\n",
    "                  for i, rule in enumerate(self.my_rules)]\n",
    "\n",
    "        parse_tbl = {k: {} for k in self.cgrammar}\n",
    "\n",
    "        for i, pvals in ptable:\n",
    "            (k, expr) = self.my_rules[i]\n",
    "            parse_tbl[k].update({v: i for v in pvals})\n",
    "\n",
    "        self.table = parse_tbl"
   ]
  },
  {
   "cell_type": "code",
   "execution_count": 182,
   "metadata": {
    "slideshow": {
     "slide_type": "subslide"
    },
    "solution2": "hidden"
   },
   "outputs": [
    {
     "name": "stdout",
     "output_type": "stream",
     "text": [
      "Rule Name\t| + | - | 0 | 1 | 2 | 3 | 4 | 5 | 6 | 7 | 8 | 9\n",
      "<start>  \t|   |   | 0 | 0 | 0 | 0 | 0 | 0 | 0 | 0 | 0 | 0\n",
      "<expr>  \t|   |   | 1 | 1 | 1 | 1 | 1 | 1 | 1 | 1 | 1 | 1\n",
      "<expr_>  \t| 2 | 3 |   |   |   |   |   |   |   |   |   |  \n",
      "<integer>  \t|   |   | 5 | 5 | 5 | 5 | 5 | 5 | 5 | 5 | 5 | 5\n",
      "<integer_>  \t| 7 | 7 | 6 | 6 | 6 | 6 | 6 | 6 | 6 | 6 | 6 | 6\n",
      "<digit>  \t|   |   | 8 | 9 | 10 | 11 | 12 | 13 | 14 | 15 | 16 | 17\n"
     ]
    }
   ],
   "source": [
    "ll1parser = LL1Parser(A2_GRAMMAR)\n",
    "ll1parser.parse_table()\n",
    "ll1parser.show_table()"
   ]
  },
  {
   "cell_type": "markdown",
   "metadata": {
    "slideshow": {
     "slide_type": "skip"
    },
    "solution2": "hidden",
    "solution2_first": true
   },
   "source": [
    "#### Part 2: The Parser\n",
    "\n",
    "Once we have the parse table, implementing the parser is as follows: Consider the first item from the sequence of tokens to parse, and seed the stack with the start symbol.\n",
    "\n",
    "While the stack is not empty, extract the first symbol from the stack, and if the symbol is a terminal, verify that the symbol matches the item from the input stream. If the symbol is a nonterminal, use the symbol and input item to lookup the next rule from the parse table. Insert the rule thus found to the top of the stack. Keep track of the expressions being parsed to build up the parse table.\n",
    "\n",
    "Use the parse table defined previously to implement the complete LL(1) parser."
   ]
  },
  {
   "cell_type": "markdown",
   "metadata": {
    "slideshow": {
     "slide_type": "subslide"
    },
    "solution2": "hidden",
    "solution2_first": true
   },
   "source": [
    "**Solution.** Here is the complete parser:"
   ]
  },
  {
   "cell_type": "code",
   "execution_count": 183,
   "metadata": {
    "slideshow": {
     "slide_type": "subslide"
    },
    "solution2": "hidden"
   },
   "outputs": [],
   "source": [
    "class LL1Parser(LL1Parser):\n",
    "    def parse_helper(self, stack, inplst):\n",
    "        inp, *inplst = inplst\n",
    "        exprs = []\n",
    "        while stack:\n",
    "            val, *stack = stack\n",
    "            if isinstance(val, tuple):\n",
    "                exprs.append(val)\n",
    "            elif val not in self.cgrammar:  # terminal\n",
    "                assert val == inp\n",
    "                exprs.append(val)\n",
    "                inp, *inplst = inplst or [None]\n",
    "            else:\n",
    "                if inp is not None:\n",
    "                    i = self.table[val][inp]\n",
    "                    _, rhs = self.my_rules[i]\n",
    "                    stack = rhs + [(val, len(rhs))] + stack\n",
    "        return self.linear_to_tree(exprs)\n",
    "\n",
    "    def parse(self, inp):\n",
    "        self.parse_table()\n",
    "        k, _ = self.my_rules[0]\n",
    "        stack = [k]\n",
    "        return self.parse_helper(stack, inp)\n",
    "\n",
    "    def linear_to_tree(self, arr):\n",
    "        stack = []\n",
    "        while arr:\n",
    "            elt = arr.pop(0)\n",
    "            if not isinstance(elt, tuple):\n",
    "                stack.append((elt, []))\n",
    "            else:\n",
    "                # get the last n\n",
    "                sym, n = elt\n",
    "                elts = stack[-n:] if n > 0 else []\n",
    "                stack = stack[0:len(stack) - n]\n",
    "                stack.append((sym, elts))\n",
    "        assert len(stack) == 1\n",
    "        return stack[0]"
   ]
  },
  {
   "cell_type": "code",
   "execution_count": 184,
   "metadata": {
    "slideshow": {
     "slide_type": "subslide"
    },
    "solution2": "hidden"
   },
   "outputs": [
    {
     "data": {
      "image/svg+xml": [
       "<?xml version=\"1.0\" encoding=\"UTF-8\" standalone=\"no\"?>\n",
       "<!DOCTYPE svg PUBLIC \"-//W3C//DTD SVG 1.1//EN\"\n",
       " \"http://www.w3.org/Graphics/SVG/1.1/DTD/svg11.dtd\">\n",
       "<!-- Generated by graphviz version 2.40.1 (20161225.0304)\n",
       " -->\n",
       "<!-- Title: %3 Pages: 1 -->\n",
       "<svg width=\"221pt\" height=\"329pt\"\n",
       " viewBox=\"0.00 0.00 221.00 329.00\" xmlns=\"http://www.w3.org/2000/svg\" xmlns:xlink=\"http://www.w3.org/1999/xlink\">\n",
       "<g id=\"graph0\" class=\"graph\" transform=\"scale(1 1) rotate(0) translate(4 325)\">\n",
       "<title>%3</title>\n",
       "<polygon fill=\"#ffffff\" stroke=\"transparent\" points=\"-4,4 -4,-325 217,-325 217,4 -4,4\"/>\n",
       "<!-- 0 -->\n",
       "<g id=\"node1\" class=\"node\">\n",
       "<title>0</title>\n",
       "<text text-anchor=\"middle\" x=\"122\" y=\"-309.8\" font-family=\"Times,serif\" font-size=\"14.00\" fill=\"#000000\">&lt;start&gt;</text>\n",
       "</g>\n",
       "<!-- 1 -->\n",
       "<g id=\"node2\" class=\"node\">\n",
       "<title>1</title>\n",
       "<text text-anchor=\"middle\" x=\"122\" y=\"-258.8\" font-family=\"Times,serif\" font-size=\"14.00\" fill=\"#000000\">&lt;expr&gt;</text>\n",
       "</g>\n",
       "<!-- 0&#45;&gt;1 -->\n",
       "<g id=\"edge1\" class=\"edge\">\n",
       "<title>0&#45;&gt;1</title>\n",
       "<path fill=\"none\" stroke=\"#000000\" d=\"M122,-305.9748C122,-299.195 122,-288.966 122,-280.1331\"/>\n",
       "<polygon fill=\"#000000\" stroke=\"#000000\" points=\"125.5001,-280.0561 122,-270.0561 118.5001,-280.0561 125.5001,-280.0561\"/>\n",
       "</g>\n",
       "<!-- 2 -->\n",
       "<g id=\"node3\" class=\"node\">\n",
       "<title>2</title>\n",
       "<text text-anchor=\"middle\" x=\"122\" y=\"-207.8\" font-family=\"Times,serif\" font-size=\"14.00\" fill=\"#000000\">&lt;expr_&gt;</text>\n",
       "</g>\n",
       "<!-- 1&#45;&gt;2 -->\n",
       "<g id=\"edge2\" class=\"edge\">\n",
       "<title>1&#45;&gt;2</title>\n",
       "<path fill=\"none\" stroke=\"#000000\" d=\"M122,-254.9748C122,-248.195 122,-237.966 122,-229.1331\"/>\n",
       "<polygon fill=\"#000000\" stroke=\"#000000\" points=\"125.5001,-229.0561 122,-219.0561 118.5001,-229.0561 125.5001,-229.0561\"/>\n",
       "</g>\n",
       "<!-- 3 -->\n",
       "<g id=\"node4\" class=\"node\">\n",
       "<title>3</title>\n",
       "<text text-anchor=\"middle\" x=\"122\" y=\"-156.8\" font-family=\"Times,serif\" font-size=\"14.00\" fill=\"#000000\">&lt;expr&gt;</text>\n",
       "</g>\n",
       "<!-- 2&#45;&gt;3 -->\n",
       "<g id=\"edge3\" class=\"edge\">\n",
       "<title>2&#45;&gt;3</title>\n",
       "<path fill=\"none\" stroke=\"#000000\" d=\"M122,-203.9748C122,-197.195 122,-186.966 122,-178.1331\"/>\n",
       "<polygon fill=\"#000000\" stroke=\"#000000\" points=\"125.5001,-178.0561 122,-168.0561 118.5001,-178.0561 125.5001,-178.0561\"/>\n",
       "</g>\n",
       "<!-- 4 -->\n",
       "<g id=\"node5\" class=\"node\">\n",
       "<title>4</title>\n",
       "<text text-anchor=\"middle\" x=\"86\" y=\"-105.8\" font-family=\"Times,serif\" font-size=\"14.00\" fill=\"#000000\">&lt;integer&gt;</text>\n",
       "</g>\n",
       "<!-- 3&#45;&gt;4 -->\n",
       "<g id=\"edge4\" class=\"edge\">\n",
       "<title>3&#45;&gt;4</title>\n",
       "<path fill=\"none\" stroke=\"#000000\" d=\"M116.6881,-152.9748C111.5833,-145.743 103.7084,-134.5868 97.2141,-125.3866\"/>\n",
       "<polygon fill=\"#000000\" stroke=\"#000000\" points=\"99.96,-123.2074 91.3337,-117.0561 94.2412,-127.2442 99.96,-123.2074\"/>\n",
       "</g>\n",
       "<!-- 8 -->\n",
       "<g id=\"node9\" class=\"node\">\n",
       "<title>8</title>\n",
       "<text text-anchor=\"middle\" x=\"159\" y=\"-105.8\" font-family=\"Times,serif\" font-size=\"14.00\" fill=\"#000000\">&lt;integer&gt;</text>\n",
       "</g>\n",
       "<!-- 3&#45;&gt;8 -->\n",
       "<g id=\"edge8\" class=\"edge\">\n",
       "<title>3&#45;&gt;8</title>\n",
       "<path fill=\"none\" stroke=\"#000000\" d=\"M127.4595,-152.9748C132.7061,-145.743 140.7998,-134.5868 147.4744,-125.3866\"/>\n",
       "<polygon fill=\"#000000\" stroke=\"#000000\" points=\"150.4788,-127.2056 153.5181,-117.0561 144.8128,-123.095 150.4788,-127.2056\"/>\n",
       "</g>\n",
       "<!-- 5 -->\n",
       "<g id=\"node6\" class=\"node\">\n",
       "<title>5</title>\n",
       "<text text-anchor=\"middle\" x=\"21\" y=\"-54.8\" font-family=\"Times,serif\" font-size=\"14.00\" fill=\"#000000\">&lt;digit&gt;</text>\n",
       "</g>\n",
       "<!-- 4&#45;&gt;5 -->\n",
       "<g id=\"edge5\" class=\"edge\">\n",
       "<title>4&#45;&gt;5</title>\n",
       "<path fill=\"none\" stroke=\"#000000\" d=\"M76.409,-101.9748C66.52,-94.2157 50.8733,-81.939 38.7253,-72.4075\"/>\n",
       "<polygon fill=\"#000000\" stroke=\"#000000\" points=\"40.6582,-69.4754 30.6303,-66.0561 36.3372,-74.9826 40.6582,-69.4754\"/>\n",
       "</g>\n",
       "<!-- 7 -->\n",
       "<g id=\"node8\" class=\"node\">\n",
       "<title>7</title>\n",
       "<text text-anchor=\"middle\" x=\"91\" y=\"-54.8\" font-family=\"Times,serif\" font-size=\"14.00\" fill=\"#000000\">&lt;integer_&gt;</text>\n",
       "</g>\n",
       "<!-- 4&#45;&gt;7 -->\n",
       "<g id=\"edge7\" class=\"edge\">\n",
       "<title>4&#45;&gt;7</title>\n",
       "<path fill=\"none\" stroke=\"#000000\" d=\"M86.7378,-101.9748C87.4025,-95.195 88.4053,-84.966 89.2713,-76.1331\"/>\n",
       "<polygon fill=\"#000000\" stroke=\"#000000\" points=\"92.7667,-76.3499 90.2592,-66.0561 85.8001,-75.6669 92.7667,-76.3499\"/>\n",
       "</g>\n",
       "<!-- 6 -->\n",
       "<g id=\"node7\" class=\"node\">\n",
       "<title>6</title>\n",
       "<text text-anchor=\"middle\" x=\"21\" y=\"-3.8\" font-family=\"Times,serif\" font-size=\"14.00\" fill=\"#000000\">1</text>\n",
       "</g>\n",
       "<!-- 5&#45;&gt;6 -->\n",
       "<g id=\"edge6\" class=\"edge\">\n",
       "<title>5&#45;&gt;6</title>\n",
       "<path fill=\"none\" stroke=\"#000000\" d=\"M21,-50.9748C21,-44.195 21,-33.966 21,-25.1331\"/>\n",
       "<polygon fill=\"#000000\" stroke=\"#000000\" points=\"24.5001,-25.0561 21,-15.0561 17.5001,-25.0561 24.5001,-25.0561\"/>\n",
       "</g>\n",
       "<!-- 9 -->\n",
       "<g id=\"node10\" class=\"node\">\n",
       "<title>9</title>\n",
       "<text text-anchor=\"middle\" x=\"149\" y=\"-54.8\" font-family=\"Times,serif\" font-size=\"14.00\" fill=\"#000000\">+</text>\n",
       "</g>\n",
       "<!-- 8&#45;&gt;9 -->\n",
       "<g id=\"edge9\" class=\"edge\">\n",
       "<title>8&#45;&gt;9</title>\n",
       "<path fill=\"none\" stroke=\"#000000\" d=\"M157.5245,-101.9748C156.1951,-95.195 154.1894,-84.966 152.4575,-76.1331\"/>\n",
       "<polygon fill=\"#000000\" stroke=\"#000000\" points=\"155.8404,-75.1958 150.4816,-66.0561 148.9712,-76.5427 155.8404,-75.1958\"/>\n",
       "</g>\n",
       "<!-- 10 -->\n",
       "<g id=\"node11\" class=\"node\">\n",
       "<title>10</title>\n",
       "<text text-anchor=\"middle\" x=\"192\" y=\"-54.8\" font-family=\"Times,serif\" font-size=\"14.00\" fill=\"#000000\">&lt;digit&gt;</text>\n",
       "</g>\n",
       "<!-- 8&#45;&gt;10 -->\n",
       "<g id=\"edge10\" class=\"edge\">\n",
       "<title>8&#45;&gt;10</title>\n",
       "<path fill=\"none\" stroke=\"#000000\" d=\"M163.8693,-101.9748C168.4999,-94.8183 175.6172,-83.8188 181.534,-74.6747\"/>\n",
       "<polygon fill=\"#000000\" stroke=\"#000000\" points=\"184.6167,-76.3532 187.1108,-66.0561 178.7397,-72.5504 184.6167,-76.3532\"/>\n",
       "</g>\n",
       "<!-- 11 -->\n",
       "<g id=\"node12\" class=\"node\">\n",
       "<title>11</title>\n",
       "<text text-anchor=\"middle\" x=\"192\" y=\"-3.8\" font-family=\"Times,serif\" font-size=\"14.00\" fill=\"#000000\">2</text>\n",
       "</g>\n",
       "<!-- 10&#45;&gt;11 -->\n",
       "<g id=\"edge11\" class=\"edge\">\n",
       "<title>10&#45;&gt;11</title>\n",
       "<path fill=\"none\" stroke=\"#000000\" d=\"M192,-50.9748C192,-44.195 192,-33.966 192,-25.1331\"/>\n",
       "<polygon fill=\"#000000\" stroke=\"#000000\" points=\"195.5001,-25.0561 192,-15.0561 188.5001,-25.0561 195.5001,-25.0561\"/>\n",
       "</g>\n",
       "</g>\n",
       "</svg>\n"
      ],
      "text/plain": [
       "<graphviz.dot.Digraph at 0x113fe8438>"
      ]
     },
     "metadata": {},
     "output_type": "display_data"
    }
   ],
   "source": [
    "ll1parser = LL1Parser(A2_GRAMMAR)\n",
    "tree = ll1parser.parse('1+2')\n",
    "display_tree(tree)"
   ]
  },
  {
   "cell_type": "markdown",
   "metadata": {
    "slideshow": {
     "slide_type": "skip"
    },
    "solution2": "hidden",
    "solution2_first": true
   },
   "source": [
    "### Exercise 9: A Different LangFuzzer\n",
    "\n",
    "Sometimes we do not want to use our pool of strings for various reasons – the number of items in the pool may be inadequate, or not varied enough. Extend the `LangFuzzer` to use a separate function to check if the number of items in the pool corresponding to the selected non-terminal is large enough (say greater than 10), and if not, use the tree expansion technique from `GrammarFuzzer` to patch the hole.\n"
   ]
  },
  {
   "cell_type": "markdown",
   "metadata": {
    "slideshow": {
     "slide_type": "subslide"
    },
    "solution2": "hidden"
   },
   "source": [
    "**Solution.** Here is a possible solution.  Before we can make use of `GrammarFuzzer`, we need to change it a little bit. GrammarFuzzer relies on the grammar being in the `fuzzing` format with the expansions represented as strings. Our `LangFuzz` expects the expansions to be a list of tokens. So we fix the output of `GrammarFuzzer`."
   ]
  },
  {
   "cell_type": "code",
   "execution_count": 185,
   "metadata": {
    "slideshow": {
     "slide_type": "subslide"
    },
    "solution2": "hidden"
   },
   "outputs": [],
   "source": [
    "class LangFuzzer2(LangFuzzer):\n",
    "    def __init__(self, parser, strings):\n",
    "        super().__init__(parser, strings)\n",
    "        self.gfuzz = GrammarFuzzer(parser.grammar())\n",
    "\n",
    "    def check_diversity(self, pool):\n",
    "        return len(pool) > 10\n",
    "\n",
    "    def candidate(self):\n",
    "        tree, nodes = random.choice(self.trees)\n",
    "        interesting_nodes = [\n",
    "            n for n in nodes if nodes[n][0] in self.fragments\n",
    "            and nodes[n][0] is not self.parser.start_symbol\n",
    "            and len(self.fragments[nodes[n][0]]) > 0\n",
    "        ]\n",
    "        node = random.choice(interesting_nodes)\n",
    "        return tree, node\n",
    "\n",
    "    def generate_new_tree(self, node, choice):\n",
    "        name, children, id = node\n",
    "        if id == choice:\n",
    "            pool = self.fragments[name]\n",
    "            if self.check_diversity(pool):\n",
    "                return random.choice(self.fragments[name])\n",
    "            else:\n",
    "                return None\n",
    "        else:\n",
    "            return (name,\n",
    "                    [self.generate_new_tree(c, choice) for c in children])\n",
    "\n",
    "    def fuzz(self):\n",
    "        tree, node = self.candidate()\n",
    "        tree_with_a_hole = self.generate_new_tree(tree, node)\n",
    "        modified = self.gfuzz.expand_tree(tree_with_a_hole)\n",
    "        return tree_to_string(modified)"
   ]
  },
  {
   "cell_type": "code",
   "execution_count": 186,
   "metadata": {
    "slideshow": {
     "slide_type": "subslide"
    },
    "solution2": "hidden"
   },
   "outputs": [
    {
     "name": "stdout",
     "output_type": "stream",
     "text": [
      "a=1\n",
      "a=1.3;b=3.3-1*(4+3+(2/a))\n",
      "a=1;b=2;c=a+b\n",
      "a=10;b=20;c=34;d=-b+(b*b-4*a*c)/(2*a)\n",
      "a=1.3;b=a-1*(4+3+(2/12))\n",
      "a=10;b=20;c=34;d=-b+(b*b-4*a*c)/(a-1*(4+3+(2/a)))\n",
      "a=1.3;b=a-1*(2+3+(2/a))\n",
      "x=10;y=20;z=(x+y)*(x-b)\n",
      "x=23;y=51;z=x*x-y*y\n",
      "a=1;b=2;c=y+b\n",
      "a=1;b=2;z=x*x-y*y\n",
      "x=3.3;y=20;z=(x+y)*(x-y)\n",
      "abc=12+(3+3)\n",
      "x=23;a=51;z=x*x-y*y\n",
      "abc=12+(3+51)\n",
      "y=51;z=x*x-y*y\n",
      "b=1.3;bvar=avar-3*(4+300)\n",
      "avar=1.3;c=a+b\n",
      "abc=12+(b+3.3)\n",
      "a=1;b=x+y;c=a+b\n",
      "x=10;y=3+(2/a);z=(x+y)*(x-y)\n",
      "a=1;b=2;b=2;c=a+b\n",
      "b=a-1*(4+3+(2/a));b=a-1*(4+3+(2/a))\n",
      "a=10;b=20;c=34;d=-b+(b*b-4*a*c)/(2*a)\n",
      "a=1;b=b;c=a+b\n",
      "x=23;a=1.3;b=a-1*(4+3+(2/a))\n",
      "abc=12+(3+2/a)\n",
      "a=1.3;b=a-1*(4+3+b*b-4*a*c)\n",
      "a=10;x=10;c=34;d=-b+(b*b-4*a*c)/(2*a)\n",
      "avar=1.3;bvar=avar-3*(b*b-4*a*c)/(2*a)\n",
      "abc=12+(10+3.3)\n",
      "y=51;y=20;z=(x+y)*(x-y)\n",
      "x=10;y=20;z=(x+y)*(x-y)\n",
      "x=10;z=(x+y)*(x-y);z=(x+y)*(x-y)\n",
      "a=1;x=2;c=a+b\n",
      "bvar=12+(3+3.3)\n",
      "y=20;bvar=avar-3*(4+300)\n",
      "a=10;a=10;c=34;d=-b+(b*b-4*a*c)/(2*a)\n",
      "a=1.3;b=a-1*(4+3+(2/a))\n",
      "bvar=avar-3*(4+300);bvar=avar-3*(4+300)\n",
      "y=20;z=(x+y)*(x-y)\n",
      "a=10;b=20;c=34;d=-b+(b*b-4*1*c)/(2*a)\n",
      "x=23;y=51;x=x*x-y*y\n",
      "a=10;b=20;b=20;c=34;d=-b+(b*b-4*a*c)/(2*a)\n",
      "abc=12+(3+(x-y))\n",
      "avar=1.3;bvar=avar-2\n",
      "abc=12+(3+b)\n",
      "x=10;y=20;z=(2*a)*(x-y)\n",
      "a=1;b=2;c=10\n",
      "b=20;b=2;c=a+b\n",
      "abc=12+(3.3+3.3)\n",
      "a=10;b=a+b;c=34;d=-b+(b*b-4*a*c)/(2*a)\n",
      "a=1.3;b=a-1*(4+3+(2/a))\n",
      "avar=1.3;bvar=avar-3*(2+300)\n",
      "a=1;a=1;c=a+b\n",
      "a=1.3;b=a-1*(avar-3*(4+300))\n",
      "a=10;b=20;c=b;d=-b+(b*b-4*a*c)/(2*a)\n",
      "a=10;b=20;c=34;d=-b+(b*b-4*a*c)/(a)\n",
      "x=23;y=51;z=b-y*y\n",
      "abc=12+(20+3.3)\n",
      "b=a-1*(4+3+(2/a));y=51;z=x*x-y*y\n",
      "a=1;b=2;c=y+b\n",
      "a=1.3;b=a-1*(4+3+-b)\n",
      "x=10;y=20;z=((4+3+(2/a))+y)*(x-y)\n",
      "a=10;b=20;c=34;d=-b+(b*10-4*a*c)/(2*a)\n",
      "abc=3.3+(3+3.3)\n",
      "a=x+y;b=a-1*(4+3+(2/a))\n",
      "x=23;y=51;z=y*x-y*y\n",
      "a=10;b=20;c=34;d=-b+(b*b-4*a*4)/(2*a)\n",
      "abc=(2/a)\n",
      "a=20;b=2;c=a+b\n",
      "abc=1.3\n",
      "a=1.3;b=a-1*(1.3+3+(2/a))\n",
      "avar=1.3;bvar=avar-3*(4+(x+y)*(x-y))\n",
      "b=a-1*(4+3+(2/a))\n",
      "a=1.3;b=a-1*(4+3+(1.3/a))\n",
      "a=1;b=y;c=a+b\n",
      "a=1.3;bvar=avar-3*(4+300)\n",
      "avar=1.3;bvar=z-3*(4+300)\n",
      "x=10;y=20;z=(x+y)*(51)\n",
      "a=1;b=2;bvar=avar-3*(4+300)\n",
      "a=1;b=2;a=1.3;b=a-1*(4+3+(2/a))\n",
      "x=10;y=20;z=(x+y)*4\n",
      "abc=x+(3+3.3)\n",
      "a=1.3;b=a-1*(4+3+(2/2))\n",
      "y=20;z=(x+y)*(x-y)\n",
      "avar=1.3;bvar=avar-3*(20+300)\n",
      "x=23;y=51;z=(b*b-4*a*c)/(2*a)-y*y\n",
      "abc=12+(a+3.3)\n",
      "a=x;b=a-1*(4+3+(2/a))\n",
      "abc=12+(3+4)\n",
      "abc=12+(3+a-1*(4+3+(2/a)))\n",
      "x=23;y=51;z=x*y-y*y\n",
      "abc=12+avar\n",
      "x=10;y=20;z=(x+y)*(4+3+(2/a))\n",
      "a=1;y=20;c=a+b\n",
      "a=10;c=34;c=34;d=-b+(b*b-4*a*c)/(2*a)\n",
      "avar=1.3;y=51;z=x*x-y*y\n",
      "avar=1.3;bvar=avar-4*(4+300)\n",
      "x=10;y=20;z=(x+y)*2\n"
     ]
    }
   ],
   "source": [
    "parser = EarleyParser(VAR_GRAMMAR, tokens=VAR_TOKENS)\n",
    "lf = LangFuzzer2(parser, mystrings)\n",
    "for i in range(100):\n",
    "    print(lf.fuzz())"
   ]
  },
  {
   "cell_type": "markdown",
   "metadata": {
    "slideshow": {
     "slide_type": "skip"
    },
    "solution2": "hidden"
   },
   "source": [
    "With these changes, our `LangFuzzer2` is able to use the pool of fragments when necessary, but can rely on the grammar when the pool is not sufficient."
   ]
  }
 ],
 "metadata": {
  "ipub": {
   "bibliography": "fuzzingbook.bib",
   "toc": true
  },
  "kernelspec": {
   "display_name": "Python 3",
   "language": "python",
   "name": "python3"
  },
  "language_info": {
   "codemirror_mode": {
    "name": "ipython",
    "version": 3
   },
   "file_extension": ".py",
   "mimetype": "text/x-python",
   "name": "python",
   "nbconvert_exporter": "python",
   "pygments_lexer": "ipython3",
   "version": "3.6.6"
  },
  "toc": {
   "base_numbering": 1,
   "nav_menu": {},
   "number_sections": true,
   "sideBar": true,
   "skip_h1_title": true,
   "title_cell": "",
   "title_sidebar": "Contents",
   "toc_cell": false,
   "toc_position": {},
   "toc_section_display": true,
   "toc_window_display": true
  },
  "varInspector": {
   "cols": {
    "lenName": 16,
    "lenType": 16,
    "lenVar": 40
   },
   "kernels_config": {
    "python": {
     "delete_cmd_postfix": "",
     "delete_cmd_prefix": "del ",
     "library": "var_list.py",
     "varRefreshCmd": "print(var_dic_list())"
    },
    "r": {
     "delete_cmd_postfix": ") ",
     "delete_cmd_prefix": "rm(",
     "library": "var_list.r",
     "varRefreshCmd": "cat(var_dic_list()) "
    }
   },
   "types_to_exclude": [
    "module",
    "function",
    "builtin_function_or_method",
    "instance",
    "_Feature"
   ],
   "window_display": false
  }
 },
 "nbformat": 4,
 "nbformat_minor": 2
}
