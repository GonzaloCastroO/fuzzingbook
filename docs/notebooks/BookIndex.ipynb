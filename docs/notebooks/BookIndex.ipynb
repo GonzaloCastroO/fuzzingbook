{
 "cells": [
  {
   "cell_type": "markdown",
   "metadata": {
    "slideshow": {
     "slide_type": "slide"
    }
   },
   "source": [
    "# Index"
   ]
  },
  {
   "cell_type": "markdown",
   "metadata": {
    "slideshow": {
     "slide_type": "slide"
    }
   },
   "source": [
    "## A\n",
    "\n",
    "* `add_element()` &mdash; [Fuzzing: Breaking Things with Random Inputs (Program-Specific Checkers)](Fuzzer.ipynb#Program-Specific-Checkers)\n",
    "* `add_new_airport()` &mdash; [Fuzzing: Breaking Things with Random Inputs (Program-Specific Checkers)](Fuzzer.ipynb#Program-Specific-Checkers), [Fuzzing: Breaking Things with Random Inputs (Program-Specific Checkers)](Fuzzer.ipynb#Program-Specific-Checkers)\n",
    "* AFL &mdash; [Mutation-Based Fuzzing (Guiding by Coverage)](MutationFuzzer.ipynb#Guiding-by-Coverage)\n",
    "* `airport_codes_repOK()` &mdash; [Fuzzing: Breaking Things with Random Inputs (Program-Specific Checkers)](Fuzzer.ipynb#Program-Specific-Checkers)\n",
    "* `all_terminals()` &mdash; [Efficient Grammar Fuzzing (Representing Derivation Trees)](GrammarFuzzer.ipynb#Representing-Derivation-Trees)\n",
    "* alternatives &mdash; [Fuzzing with Grammars (Rules and Expansions)](Grammars.ipynb#Rules-and-Expansions)\n",
    "* American fuzzy lop &mdash; [Mutation-Based Fuzzing (Guiding by Coverage)](MutationFuzzer.ipynb#Guiding-by-Coverage)\n",
    "* `annotate_edge()` &mdash; [Efficient Grammar Fuzzing (Representing Derivation Trees)](GrammarFuzzer.ipynb#Representing-Derivation-Trees)\n",
    "* `annotate_node()` &mdash; [Efficient Grammar Fuzzing (Representing Derivation Trees)](GrammarFuzzer.ipynb#Representing-Derivation-Trees)\n",
    "* any &mdash; [Efficient Grammar Fuzzing (Representing Derivation Trees)](GrammarFuzzer.ipynb#Representing-Derivation-Trees)\n",
    "* `any_possible_expansions()` &mdash; [Efficient Grammar Fuzzing (Expanding a Tree)](GrammarFuzzer.ipynb#Expanding-a-Tree)\n",
    "* arithmetic expressions &mdash; [Fuzzing with Grammars (Arithmetic Expressions)](Grammars.ipynb#Arithmetic-Expressions)\n",
    "* `assertEquals()` &mdash; [Introduction to Software Testing (Automating Test Execution)](Intro_Testing.ipynb#Automating-Test-Execution)\n",
    "* assertion &mdash; [Fuzzing: Breaking Things with Random Inputs (Program-Specific Checkers)](Fuzzer.ipynb#Program-Specific-Checkers)\n",
    "* assignment &mdash; [Fuzzing: Breaking Things with Random Inputs (A Testing Assignment)](Fuzzer.ipynb#A-Testing-Assignment)\n",
    "* Automata theory &mdash; [Fuzzing with Grammars (Input Languages)](Grammars.ipynb#Input-Languages)\n"
   ]
  },
  {
   "cell_type": "markdown",
   "metadata": {
    "slideshow": {
     "slide_type": "slide"
    }
   },
   "source": [
    "## B\n",
    "\n",
    "* Backus-Naur form &mdash; [Fuzzing with Grammars (Grammar Shortcuts)](Grammars.ipynb#Grammar-Shortcuts)\n",
    "* `BinaryProgramRunner` class &mdash; [Fuzzing: Breaking Things with Random Inputs (Runner Classes)](Fuzzer.ipynb#Runner-Classes)\n",
    "* `BIRD` &mdash; [Fuzzing: Breaking Things with Random Inputs (Checking Memory Accesses)](Fuzzer.ipynb#Checking-Memory-Accesses)\n",
    "* blog post &mdash; [Mutation-Based Fuzzing (Exercise 3)](MutationFuzzer.ipynb#Exercise-3)\n",
    "* BNF &mdash; [Fuzzing with Grammars (Grammar Shortcuts)](Grammars.ipynb#Grammar-Shortcuts)\n",
    "* `BODY` &mdash; [Getting Coverage (A Coverage Class)](Coverage.ipynb#A-Coverage-Class), [Getting Coverage (A Coverage Class)](Coverage.ipynb#A-Coverage-Class), [Getting Coverage (A Coverage Class)](Coverage.ipynb#A-Coverage-Class)\n",
    "* Branch coverage &mdash; [Getting Coverage (White-Box Testing)](Coverage.ipynb#White-Box-Testing)\n",
    "* `BranchCoverage` class &mdash; [Getting Coverage (Part 1: Compute branch coverage)](Coverage.ipynb#Part-1:-Compute-branch-coverage)\n",
    "* `branch_coverage()` &mdash; [Getting Coverage (Part 1: Compute branch coverage)](Coverage.ipynb#Part-1:-Compute-branch-coverage)\n"
   ]
  },
  {
   "cell_type": "markdown",
   "metadata": {
    "slideshow": {
     "slide_type": "slide"
    }
   },
   "source": [
    "## C\n",
    "\n",
    "* call stack &mdash; [Introduction to Software Testing (System Input vs Function Input)](Intro_Testing.ipynb#System-Input-vs-Function-Input)\n",
    "* `cgi_decode()` &mdash; [Getting Coverage (A CGI Decoder)](Coverage.ipynb#A-CGI-Decoder), [Getting Coverage (Tracing Executions)](Coverage.ipynb#Tracing-Executions)\n",
    "* `cgi_decode_traced()` &mdash; [Getting Coverage (Tracing Executions)](Coverage.ipynb#Tracing-Executions)\n",
    "* `CGI_GRAMMAR` &mdash; [Fuzzing with Grammars (A CGI Grammar)](Grammars.ipynb#A-CGI-Grammar)\n",
    "* `CHARACTERS_WITHOUT_QUOTE` &mdash; [Fuzzing with Grammars (Exercise 1: A JSON Grammar)](Grammars.ipynb#Exercise-1:-A-JSON-Grammar)\n",
    "* child nodes &mdash; [Efficient Grammar Fuzzing (Derivation Trees)](GrammarFuzzer.ipynb#Derivation-Trees)\n",
    "* children &mdash; [Efficient Grammar Fuzzing (Derivation Trees)](GrammarFuzzer.ipynb#Derivation-Trees)\n",
    "* `CHILDREN` &mdash; [Efficient Grammar Fuzzing (Representing Derivation Trees)](GrammarFuzzer.ipynb#Representing-Derivation-Trees), [Efficient Grammar Fuzzing (Representing Derivation Trees)](GrammarFuzzer.ipynb#Representing-Derivation-Trees)\n",
    "* `choose_node_expansion()` &mdash; [Efficient Grammar Fuzzing (Expanding a Node)](GrammarFuzzer.ipynb#Expanding-a-Node)\n",
    "* `choose_tree_expansion()` &mdash; [Efficient Grammar Fuzzing (Expanding a Tree)](GrammarFuzzer.ipynb#Expanding-a-Tree)\n",
    "* code coverage &mdash; [Getting Coverage](Coverage.ipynb#Getting-Coverage)\n",
    "* `code_repOK()` &mdash; [Fuzzing: Breaking Things with Random Inputs (Program-Specific Checkers)](Fuzzer.ipynb#Program-Specific-Checkers)\n",
    "* `collapse_if_too_large()` &mdash; [Fuzzing: Breaking Things with Random Inputs (Missing Error Checks)](Fuzzer.ipynb#Missing-Error-Checks)\n",
    "* compiler testing &mdash; [Fuzzing with Grammars (Background)](Grammars.ipynb#Background)\n",
    "* `CONDITION` &mdash; [Getting Coverage (Exercise 2: Branch Coverage)](Coverage.ipynb#Exercise-2:-Branch-Coverage), [Getting Coverage (Exercise 2: Branch Coverage)](Coverage.ipynb#Exercise-2:-Branch-Coverage), [Getting Coverage (Exercise 2: Branch Coverage)](Coverage.ipynb#Exercise-2:-Branch-Coverage)\n",
    "* `convert_ebnf_grammar()` &mdash; [Fuzzing with Grammars (All Together)](Grammars.ipynb#All-Together)\n",
    "* `convert_ebnf_operators()` &mdash; [Fuzzing with Grammars (Expanding Operators)](Grammars.ipynb#Expanding-Operators)\n",
    "* `convert_ebnf_parentheses()` &mdash; [Fuzzing with Grammars (Expanding Parenthesized Expressions)](Grammars.ipynb#Expanding-Parenthesized-Expressions)\n",
    "* coverage criteria &mdash; [Getting Coverage (White-Box Testing)](Coverage.ipynb#White-Box-Testing)\n",
    "* `coverage()` &mdash; [Getting Coverage (A Coverage Class)](Coverage.ipynb#A-Coverage-Class), [Getting Coverage (Part 1: Compute branch coverage)](Coverage.ipynb#Part-1:-Compute-branch-coverage), [Mutation-Based Fuzzing (Guiding by Coverage)](MutationFuzzer.ipynb#Guiding-by-Coverage)\n",
    "* `Coverage` class &mdash; [Getting Coverage (A Coverage Class)](Coverage.ipynb#A-Coverage-Class)\n",
    "* `crange()` &mdash; [Fuzzing with Grammars (Character Classes)](Grammars.ipynb#Character-Classes)\n",
    "* `crash_if_too_long()` &mdash; [Fuzzing: Breaking Things with Random Inputs (Buffer Overflows)](Fuzzer.ipynb#Buffer-Overflows)\n",
    "* `create_candidate()` &mdash; [Mutation-Based Fuzzing (Multiple Mutations)](MutationFuzzer.ipynb#Multiple-Mutations)\n",
    "* CSmith &mdash; [Fuzzing with Grammars (Background)](Grammars.ipynb#Background)\n"
   ]
  },
  {
   "cell_type": "markdown",
   "metadata": {
    "slideshow": {
     "slide_type": "slide"
    }
   },
   "source": [
    "## D\n",
    "\n",
    "* debugger &mdash; [Introduction to Software Testing (Debugging a Function)](Intro_Testing.ipynb#Debugging-a-Function)\n",
    "* `default_edge_attr()` &mdash; [Efficient Grammar Fuzzing (Representing Derivation Trees)](GrammarFuzzer.ipynb#Representing-Derivation-Trees)\n",
    "* `default_graph_attr()` &mdash; [Efficient Grammar Fuzzing (Representing Derivation Trees)](GrammarFuzzer.ipynb#Representing-Derivation-Trees)\n",
    "* `default_node_attr()` &mdash; [Efficient Grammar Fuzzing (Representing Derivation Trees)](GrammarFuzzer.ipynb#Representing-Derivation-Trees)\n",
    "* `define_expr()` &mdash; [Fuzzing with Grammars (Part 1 (b): Alternative representations)](Grammars.ipynb#Part-1-(b):-Alternative-representations)\n",
    "* `define_ex_grammar()` &mdash; [Fuzzing with Grammars (Part 1 (b): Alternative representations)](Grammars.ipynb#Part-1-(b):-Alternative-representations)\n",
    "* `define_grammar()` &mdash; [Fuzzing with Grammars (Part 1 (a): One Single Function)](Grammars.ipynb#Part-1-(a):-One-Single-Function)\n",
    "* `define_name()` &mdash; [Fuzzing with Grammars (Part 1 (b): Alternative representations)](Grammars.ipynb#Part-1-(b):-Alternative-representations)\n",
    "* `def_used_nonterminals()` &mdash; [Fuzzing with Grammars (Checking Grammars)](Grammars.ipynb#Checking-Grammars)\n",
    "* `delete_element()` &mdash; [Fuzzing: Breaking Things with Random Inputs (Program-Specific Checkers)](Fuzzer.ipynb#Program-Specific-Checkers)\n",
    "* `delete_random_character()` &mdash; [Mutation-Based Fuzzing (Mutating Inputs)](MutationFuzzer.ipynb#Mutating-Inputs)\n",
    "* derivation tree &mdash; [Efficient Grammar Fuzzing (Derivation Trees)](GrammarFuzzer.ipynb#Derivation-Trees)\n",
    "* `DIGIT_GRAMMAR` &mdash; [Fuzzing with Grammars (Representing Grammars in Python)](Grammars.ipynb#Representing-Grammars-in-Python)\n",
    "* `display_annotated_tree()` &mdash; [Efficient Grammar Fuzzing (Representing Derivation Trees)](GrammarFuzzer.ipynb#Representing-Derivation-Trees)\n",
    "* `display_tree()` &mdash; [Efficient Grammar Fuzzing (Representing Derivation Trees)](GrammarFuzzer.ipynb#Representing-Derivation-Trees)\n",
    "* Domato &mdash; [Fuzzing with Grammars (Background)](Grammars.ipynb#Background)\n",
    "* `dot_escape()` &mdash; [Efficient Grammar Fuzzing (Representing Derivation Trees)](GrammarFuzzer.ipynb#Representing-Derivation-Trees)\n",
    "* Dragon Book &mdash; [Efficient Grammar Fuzzing (Background)](GrammarFuzzer.ipynb#Background)\n",
    "* dynamic analysis &mdash; [Getting Coverage (Tracing Executions)](Coverage.ipynb#Tracing-Executions)\n"
   ]
  },
  {
   "cell_type": "markdown",
   "metadata": {
    "slideshow": {
     "slide_type": "slide"
    }
   },
   "source": [
    "## E\n",
    "\n",
    "* EBNF &mdash; [Fuzzing with Grammars (Grammar Shortcuts)](Grammars.ipynb#Grammar-Shortcuts)\n",
    "* EMI Project &mdash; [Fuzzing with Grammars (Background)](Grammars.ipynb#Background)\n",
    "* `__enter__()` &mdash; [Getting Coverage (A Coverage Class)](Coverage.ipynb#A-Coverage-Class)\n",
    "* `EOF` &mdash; [Fuzzing: Breaking Things with Random Inputs (Missing Error Checks)](Fuzzer.ipynb#Missing-Error-Checks), [Fuzzing: Breaking Things with Random Inputs (Missing Error Checks)](Fuzzer.ipynb#Missing-Error-Checks), [Fuzzing: Breaking Things with Random Inputs (Missing Error Checks)](Fuzzer.ipynb#Missing-Error-Checks)\n",
    "* epsilon expansion &mdash; [Fuzzing with Grammars (Grammar Shortcuts)](Grammars.ipynb#Grammar-Shortcuts), [Efficient Grammar Fuzzing (Expanding a Node)](GrammarFuzzer.ipynb#Expanding-a-Node)\n",
    "* `EPSILON` &mdash; [Introduction to Software Testing (Automating Test Execution)](Intro_Testing.ipynb#Automating-Test-Execution)\n",
    "* `EvenFasterGrammarFuzzer` class &mdash; [Efficient Grammar Fuzzing (Exercise 2: Grammar Pre-Compilation)](GrammarFuzzer.ipynb#Exercise-2:-Grammar-Pre-Compilation)\n",
    "* `ExerciseGrammarFuzzer` class &mdash; [Efficient Grammar Fuzzing (Exercise 4: Alternate Random Expansions)](GrammarFuzzer.ipynb#Exercise-4:-Alternate-Random-Expansions)\n",
    "* `__exit__()` &mdash; [Getting Coverage (A Coverage Class)](Coverage.ipynb#A-Coverage-Class)\n",
    "* `expand_node()` &mdash; [Efficient Grammar Fuzzing (Expanding a Node)](GrammarFuzzer.ipynb#Expanding-a-Node), [Efficient Grammar Fuzzing (Closing the Expansion)](GrammarFuzzer.ipynb#Closing-the-Expansion), [Efficient Grammar Fuzzing (Node Inflation)](GrammarFuzzer.ipynb#Node-Inflation)\n",
    "* `expand_node_by_cost()` &mdash; [Efficient Grammar Fuzzing (Closing the Expansion)](GrammarFuzzer.ipynb#Closing-the-Expansion)\n",
    "* `expand_node_max_cost()` &mdash; [Efficient Grammar Fuzzing (Node Inflation)](GrammarFuzzer.ipynb#Node-Inflation)\n",
    "* `expand_node_min_cost()` &mdash; [Efficient Grammar Fuzzing (Closing the Expansion)](GrammarFuzzer.ipynb#Closing-the-Expansion)\n",
    "* `expand_node_randomly()` &mdash; [Efficient Grammar Fuzzing (Expanding a Node)](GrammarFuzzer.ipynb#Expanding-a-Node), [Efficient Grammar Fuzzing (Exercise 4: Alternate Random Expansions)](GrammarFuzzer.ipynb#Exercise-4:-Alternate-Random-Expansions)\n",
    "* `expand_tree()` &mdash; [Efficient Grammar Fuzzing (Three Expansion Phases)](GrammarFuzzer.ipynb#Three-Expansion-Phases)\n",
    "* `expand_tree_once()` &mdash; [Efficient Grammar Fuzzing (Expanding a Tree)](GrammarFuzzer.ipynb#Expanding-a-Tree)\n",
    "* `expand_tree_with_strategy()` &mdash; [Efficient Grammar Fuzzing (Three Expansion Phases)](GrammarFuzzer.ipynb#Three-Expansion-Phases)\n",
    "* expansion alternatives &mdash; [Fuzzing with Grammars (Rules and Expansions)](Grammars.ipynb#Rules-and-Expansions)\n",
    "* expansion rules &mdash; [Fuzzing with Grammars (Rules and Expansions)](Grammars.ipynb#Rules-and-Expansions)\n",
    "* `ExpansionError` class &mdash; [Fuzzing with Grammars (A Simple Grammar Fuzzer)](Grammars.ipynb#A-Simple-Grammar-Fuzzer)\n",
    "* `expansion_cost()` &mdash; [Efficient Grammar Fuzzing (Closing the Expansion)](GrammarFuzzer.ipynb#Closing-the-Expansion)\n",
    "* `expansion_to_children()` &mdash; [Efficient Grammar Fuzzing (Expanding a Node)](GrammarFuzzer.ipynb#Expanding-a-Node), [Efficient Grammar Fuzzing (Expanding a Node)](GrammarFuzzer.ipynb#Expanding-a-Node), [Efficient Grammar Fuzzing (Exercise 1: Caching Method Results)](GrammarFuzzer.ipynb#Exercise-1:-Caching-Method-Results)\n",
    "* `expression_grammar_fn()` &mdash; [Fuzzing with Grammars (Exercise 4: Defining Grammars as Functions (Advanced))](Grammars.ipynb#Exercise-4:-Defining-Grammars-as-Functions-(Advanced))\n",
    "* `EXPR_EBNF_GRAMMAR` &mdash; [Fuzzing with Grammars (Grammar Shortcuts)](Grammars.ipynb#Grammar-Shortcuts)\n",
    "* `EXPR_GRAMMAR_BNF` &mdash; [Efficient Grammar Fuzzing (An Insufficient Algorithm)](GrammarFuzzer.ipynb#An-Insufficient-Algorithm)\n",
    "* `EXPR_GRAMMAR` &mdash; [Fuzzing with Grammars (Representing Grammars in Python)](Grammars.ipynb#Representing-Grammars-in-Python)\n",
    "* `extended_nonterminals()` &mdash; [Fuzzing with Grammars (Expanding Operators)](Grammars.ipynb#Expanding-Operators)\n",
    "* `extract_node()` &mdash; [Efficient Grammar Fuzzing (Representing Derivation Trees)](GrammarFuzzer.ipynb#Representing-Derivation-Trees)\n"
   ]
  },
  {
   "cell_type": "markdown",
   "metadata": {
    "slideshow": {
     "slide_type": "slide"
    }
   },
   "source": [
    "## F\n",
    "\n",
    "* `FAIL` &mdash; [Fuzzing: Breaking Things with Random Inputs (Runner Classes)](Fuzzer.ipynb#Runner-Classes)\n",
    "* `FasterGrammarFuzzer` class &mdash; [Efficient Grammar Fuzzing (Exercise 1: Caching Method Results)](GrammarFuzzer.ipynb#Exercise-1:-Caching-Method-Results)\n",
    "* `FILE` &mdash; [Fuzzing: Breaking Things with Random Inputs (Creating Input Files)](Fuzzer.ipynb#Creating-Input-Files)\n",
    "* `fixed_cgi_decode()` &mdash; [Getting Coverage (Exercise 1: Fixing cgi_decode)](Coverage.ipynb#Exercise-1:-Fixing-cgi_decode)\n",
    "* `flip_random_character()` &mdash; [Mutation-Based Fuzzing (Mutating Inputs)](MutationFuzzer.ipynb#Mutating-Inputs)\n",
    "* formal languages &mdash; [Fuzzing with Grammars (Input Languages)](Grammars.ipynb#Input-Languages), [Fuzzing with Grammars (A Natural Language Grammar)](Grammars.ipynb#A-Natural-Language-Grammar)\n",
    "* `FunctionCoverageRunner` class &mdash; [Mutation-Based Fuzzing (Guiding by Coverage)](MutationFuzzer.ipynb#Guiding-by-Coverage)\n",
    "* `FunctionRunner` class &mdash; [Mutation-Based Fuzzing (Guiding by Coverage)](MutationFuzzer.ipynb#Guiding-by-Coverage)\n",
    "* `funct_parser()` &mdash; [Fuzzing with Grammars (Exercise 4: Defining Grammars as Functions (Advanced))](Grammars.ipynb#Exercise-4:-Defining-Grammars-as-Functions-(Advanced))\n",
    "* `fuzz()` &mdash; [Fuzzing: Breaking Things with Random Inputs (Fuzzer Classes)](Fuzzer.ipynb#Fuzzer-Classes), [Fuzzing: Breaking Things with Random Inputs (Fuzzer Classes)](Fuzzer.ipynb#Fuzzer-Classes), [Mutation-Based Fuzzing (Multiple Mutations)](MutationFuzzer.ipynb#Multiple-Mutations), [Efficient Grammar Fuzzing (Putting it all Together)](GrammarFuzzer.ipynb#Putting-it-all-Together)\n",
    "* fuzzer &mdash; [Fuzzing: Breaking Things with Random Inputs (Fuzzer Classes)](Fuzzer.ipynb#Fuzzer-Classes)\n",
    "* `fuzzer()` &mdash; [Fuzzing: Breaking Things with Random Inputs (A Simple Fuzzer)](Fuzzer.ipynb#A-Simple-Fuzzer)\n",
    "* `Fuzzer` class &mdash; [Fuzzing: Breaking Things with Random Inputs (Fuzzer Classes)](Fuzzer.ipynb#Fuzzer-Classes)\n",
    "* fuzzing &mdash; [Fuzzing: Breaking Things with Random Inputs](Fuzzer.ipynb#Fuzzing:-Breaking-Things-with Random Inputs)\n",
    "* `fuzz_tree()` &mdash; [Efficient Grammar Fuzzing (Putting it all Together)](GrammarFuzzer.ipynb#Putting-it-all-Together)\n"
   ]
  },
  {
   "cell_type": "markdown",
   "metadata": {
    "slideshow": {
     "slide_type": "slide"
    }
   },
   "source": [
    "## G\n",
    "\n",
    "* `get_alternatives()` &mdash; [Fuzzing with Grammars (Exercise 4: Defining Grammars as Functions (Advanced))](Grammars.ipynb#Exercise-4:-Defining-Grammars-as-Functions-(Advanced))\n",
    "* GNU bc &mdash; [Mutation-Based Fuzzing (Part 2: Guided Mutations)](MutationFuzzer.ipynb#Part-2:-Guided-Mutations)\n",
    "* grammar fuzzing &mdash; [Fuzzing with Grammars (Arithmetic Expressions)](Grammars.ipynb#Arithmetic-Expressions)\n",
    "* `GrammarFuzzer` class &mdash; [Efficient Grammar Fuzzing (Expanding a Node)](GrammarFuzzer.ipynb#Expanding-a-Node), [Efficient Grammar Fuzzing (Expanding a Node)](GrammarFuzzer.ipynb#Expanding-a-Node), [Efficient Grammar Fuzzing (Expanding a Node)](GrammarFuzzer.ipynb#Expanding-a-Node), [Efficient Grammar Fuzzing (Expanding a Node)](GrammarFuzzer.ipynb#Expanding-a-Node), [Efficient Grammar Fuzzing (Expanding a Node)](GrammarFuzzer.ipynb#Expanding-a-Node), [Efficient Grammar Fuzzing (Expanding a Tree)](GrammarFuzzer.ipynb#Expanding-a-Tree), [Efficient Grammar Fuzzing (Expanding a Tree)](GrammarFuzzer.ipynb#Expanding-a-Tree), [Efficient Grammar Fuzzing (Expanding a Tree)](GrammarFuzzer.ipynb#Expanding-a-Tree), [Efficient Grammar Fuzzing (Closing the Expansion)](GrammarFuzzer.ipynb#Closing-the-Expansion), [Efficient Grammar Fuzzing (Closing the Expansion)](GrammarFuzzer.ipynb#Closing-the-Expansion), [Efficient Grammar Fuzzing (Closing the Expansion)](GrammarFuzzer.ipynb#Closing-the-Expansion), [Efficient Grammar Fuzzing (Closing the Expansion)](GrammarFuzzer.ipynb#Closing-the-Expansion), [Efficient Grammar Fuzzing (Node Inflation)](GrammarFuzzer.ipynb#Node-Inflation), [Efficient Grammar Fuzzing (Node Inflation)](GrammarFuzzer.ipynb#Node-Inflation), [Efficient Grammar Fuzzing (Three Expansion Phases)](GrammarFuzzer.ipynb#Three-Expansion-Phases), [Efficient Grammar Fuzzing (Putting it all Together)](GrammarFuzzer.ipynb#Putting-it-all-Together)\n",
    "* Grammarinator &mdash; [Fuzzing with Grammars (Background)](Grammars.ipynb#Background)\n",
    "* grammars &mdash; [Fuzzing with Grammars (Grammars)](Grammars.ipynb#Grammars)\n",
    "* `graph_attr()` &mdash; [Efficient Grammar Fuzzing (Representing Derivation Trees)](GrammarFuzzer.ipynb#Representing-Derivation-Trees)\n"
   ]
  },
  {
   "cell_type": "markdown",
   "metadata": {
    "slideshow": {
     "slide_type": "slide"
    }
   },
   "source": [
    "## H\n",
    "\n",
    "* `hang_if_no_space()` &mdash; [Fuzzing: Breaking Things with Random Inputs (Missing Error Checks)](Fuzzer.ipynb#Missing-Error-Checks)\n",
    "* heartbeat &mdash; [Fuzzing: Breaking Things with Random Inputs (Checking Memory Accesses)](Fuzzer.ipynb#Checking-Memory-Accesses)\n",
    "* `heartbeat()` &mdash; [Fuzzing: Breaking Things with Random Inputs (Information Leaks)](Fuzzer.ipynb#Information-Leaks)\n",
    "* HeartBleed announcement page &mdash; [Fuzzing: Breaking Things with Random Inputs (Checking Memory Accesses)](Fuzzer.ipynb#Checking-Memory-Accesses)\n",
    "* HeartBleed bug &mdash; [Fuzzing: Breaking Things with Random Inputs (Checking Memory Accesses)](Fuzzer.ipynb#Checking-Memory-Accesses)\n",
    "* `http_program()` &mdash; [Mutation-Based Fuzzing (Fuzzing a URL Parser)](MutationFuzzer.ipynb#Fuzzing-a-URL-Parser)\n",
    "* `hundred_inputs()` &mdash; [Getting Coverage ( Coverage of Basic Fuzzing)](Coverage.ipynb#-Coverage-of-Basic-Fuzzing)\n"
   ]
  },
  {
   "cell_type": "markdown",
   "metadata": {
    "slideshow": {
     "slide_type": "slide"
    }
   },
   "source": [
    "## I\n",
    "\n",
    "* `identifier_grammar_fn()` &mdash; [Fuzzing with Grammars (Part 2: Extended Grammars)](Grammars.ipynb#Part-2:-Extended-Grammars)\n",
    "* inherit &mdash; [Fuzzing: Breaking Things with Random Inputs (Runner Classes)](Fuzzer.ipynb#Runner-Classes)\n",
    "* `init_tree()` &mdash; [Efficient Grammar Fuzzing (Expanding a Node)](GrammarFuzzer.ipynb#Expanding-a-Node)\n",
    "* `__init__()` &mdash; [Fuzzing: Breaking Things with Random Inputs (Runner Classes)](Fuzzer.ipynb#Runner-Classes), [Fuzzing: Breaking Things with Random Inputs (Runner Classes)](Fuzzer.ipynb#Runner-Classes), [Fuzzing: Breaking Things with Random Inputs (Fuzzer Classes)](Fuzzer.ipynb#Fuzzer-Classes), [Fuzzing: Breaking Things with Random Inputs (Fuzzer Classes)](Fuzzer.ipynb#Fuzzer-Classes), [Fuzzing: Breaking Things with Random Inputs (Exercise 2: Run Simulated Troff)](Fuzzer.ipynb#Exercise-2:-Run-Simulated-Troff), [Getting Coverage (A Coverage Class)](Coverage.ipynb#A-Coverage-Class), [Mutation-Based Fuzzing (Multiple Mutations)](MutationFuzzer.ipynb#Multiple-Mutations), [Mutation-Based Fuzzing (Guiding by Coverage)](MutationFuzzer.ipynb#Guiding-by-Coverage), [Efficient Grammar Fuzzing (Expanding a Node)](GrammarFuzzer.ipynb#Expanding-a-Node), [Efficient Grammar Fuzzing (Exercise 1: Caching Method Results)](GrammarFuzzer.ipynb#Exercise-1:-Caching-Method-Results), [Efficient Grammar Fuzzing (Exercise 2: Grammar Pre-Compilation)](GrammarFuzzer.ipynb#Exercise-2:-Grammar-Pre-Compilation)\n",
    "* `insert_random_character()` &mdash; [Mutation-Based Fuzzing (Mutating Inputs)](MutationFuzzer.ipynb#Mutating-Inputs)\n",
    "* `is_nonterminal()` &mdash; [Fuzzing with Grammars (Some Definitions)](Grammars.ipynb#Some-Definitions)\n",
    "* `is_permutation()` &mdash; [Introduction to Software Testing (Part 2: Random Inputs)](Intro_Testing.ipynb#Part-2:-Random-Inputs)\n",
    "* `is_sorted()` &mdash; [Introduction to Software Testing (Part 2: Random Inputs)](Intro_Testing.ipynb#Part-2:-Random-Inputs)\n",
    "* `is_valid_grammar()` &mdash; [Fuzzing with Grammars (Checking Grammars)](Grammars.ipynb#Checking-Grammars)\n",
    "* `is_valid_url()` &mdash; [Mutation-Based Fuzzing (Mutating URLs)](MutationFuzzer.ipynb#Mutating-URLs)\n"
   ]
  },
  {
   "cell_type": "markdown",
   "metadata": {
    "slideshow": {
     "slide_type": "slide"
    }
   },
   "source": [
    "## J\n",
    "\n",
    "* JerryScript &mdash; [Fuzzing with Grammars (Background)](Grammars.ipynb#Background)\n",
    "* JSON specification &mdash; [Fuzzing with Grammars (Exercise 1: A JSON Grammar)](Grammars.ipynb#Exercise-1:-A-JSON-Grammar)\n",
    "* `JSON_EBNF_GRAMMAR` &mdash; [Fuzzing with Grammars (Exercise 1: A JSON Grammar)](Grammars.ipynb#Exercise-1:-A-JSON-Grammar)\n",
    "* `JSON_GRAMMAR` &mdash; [Fuzzing with Grammars (Exercise 1: A JSON Grammar)](Grammars.ipynb#Exercise-1:-A-JSON-Grammar)\n"
   ]
  },
  {
   "cell_type": "markdown",
   "metadata": {
    "slideshow": {
     "slide_type": "slide"
    }
   },
   "source": [
    "## L\n",
    "\n",
    "* LangFuzz &mdash; [Fuzzing with Grammars (Background)](Grammars.ipynb#Background)\n",
    "* language specifications &mdash; [Fuzzing with Grammars (Input Languages)](Grammars.ipynb#Input-Languages)\n",
    "* leaf &mdash; [Efficient Grammar Fuzzing (Derivation Trees)](GrammarFuzzer.ipynb#Derivation-Trees)\n",
    "* LLVM Address Sanitizer &mdash; [Fuzzing: Breaking Things with Random Inputs (Checking Memory Accesses)](Fuzzer.ipynb#Checking-Memory-Accesses)\n",
    "* `log_tree()` &mdash; [Efficient Grammar Fuzzing (Three Expansion Phases)](GrammarFuzzer.ipynb#Three-Expansion-Phases)\n"
   ]
  },
  {
   "cell_type": "markdown",
   "metadata": {
    "slideshow": {
     "slide_type": "slide"
    }
   },
   "source": [
    "## M\n",
    "\n",
    "* `mutate()` &mdash; [Mutation-Based Fuzzing (Mutating Inputs)](MutationFuzzer.ipynb#Mutating-Inputs), [Mutation-Based Fuzzing (Multiple Mutations)](MutationFuzzer.ipynb#Multiple-Mutations)\n",
    "* mutational fuzzing &mdash; [Mutation-Based Fuzzing](MutationFuzzer.ipynb#Mutation-Based-Fuzzing), [Mutation-Based Fuzzing (Mutating Inputs)](MutationFuzzer.ipynb#Mutating-Inputs)\n",
    "* `MutationCoverageFuzzer` class &mdash; [Mutation-Based Fuzzing (Guiding by Coverage)](MutationFuzzer.ipynb#Guiding-by-Coverage)\n",
    "* `MutationFuzzer` class &mdash; [Mutation-Based Fuzzing (Multiple Mutations)](MutationFuzzer.ipynb#Multiple-Mutations), [Mutation-Based Fuzzing (Multiple Mutations)](MutationFuzzer.ipynb#Multiple-Mutations), [Mutation-Based Fuzzing (Multiple Mutations)](MutationFuzzer.ipynb#Multiple-Mutations), [Mutation-Based Fuzzing (Multiple Mutations)](MutationFuzzer.ipynb#Multiple-Mutations)\n",
    "* MyPy &mdash; [Fuzzing: Breaking Things with Random Inputs (Static Code Checkers)](Fuzzer.ipynb#Static-Code-Checkers)\n",
    "* `my_sqrt()` &mdash; [Introduction to Software Testing (Simple Testing)](Intro_Testing.ipynb#Simple-Testing)\n",
    "* `my_sqrt_checked()` &mdash; [Introduction to Software Testing (Run-Time Verification)](Intro_Testing.ipynb#Run-Time-Verification)\n",
    "* `my_sqrt_fixed()` &mdash; [Introduction to Software Testing (The Limits of Testing)](Intro_Testing.ipynb#The-Limits-of-Testing)\n",
    "* `my_sqrt_with_log()` &mdash; [Introduction to Software Testing (Debugging a Function)](Intro_Testing.ipynb#Debugging-a-Function)\n"
   ]
  },
  {
   "cell_type": "markdown",
   "metadata": {
    "slideshow": {
     "slide_type": "slide"
    }
   },
   "source": [
    "## N\n",
    "\n",
    "* natural language &mdash; [Fuzzing with Grammars (A Natural Language Grammar)](Grammars.ipynb#A-Natural-Language-Grammar)\n",
    "* Newton–Raphson method &mdash; [Introduction to Software Testing (Simple Testing)](Intro_Testing.ipynb#Simple-Testing)\n",
    "* `new_expansion_cost()` &mdash; [Efficient Grammar Fuzzing (Exercise 2: Grammar Pre-Compilation)](GrammarFuzzer.ipynb#Exercise-2:-Grammar-Pre-Compilation)\n",
    "* `new_symbol()` &mdash; [Fuzzing with Grammars (Creating New Symbols)](Grammars.ipynb#Creating-New-Symbols)\n",
    "* `new_symbol_cost()` &mdash; [Efficient Grammar Fuzzing (Exercise 2: Grammar Pre-Compilation)](GrammarFuzzer.ipynb#Exercise-2:-Grammar-Pre-Compilation)\n",
    "* nodes &mdash; [Efficient Grammar Fuzzing (Derivation Trees)](GrammarFuzzer.ipynb#Derivation-Trees)\n",
    "* nonterminal symbol &mdash; [Efficient Grammar Fuzzing (Representing Derivation Trees)](GrammarFuzzer.ipynb#Representing-Derivation-Trees)\n",
    "* `nonterminals()` &mdash; [Fuzzing with Grammars (Some Definitions)](Grammars.ipynb#Some-Definitions)\n",
    "* `no_8bit()` &mdash; [Fuzzing: Breaking Things with Random Inputs (Exercise 1: Simulate Troff)](Fuzzer.ipynb#Exercise-1:-Simulate-Troff)\n",
    "* `no_backslash_d()` &mdash; [Fuzzing: Breaking Things with Random Inputs (Exercise 1: Simulate Troff)](Fuzzer.ipynb#Exercise-1:-Simulate-Troff)\n",
    "* `no_dot()` &mdash; [Fuzzing: Breaking Things with Random Inputs (Exercise 1: Simulate Troff)](Fuzzer.ipynb#Exercise-1:-Simulate-Troff)\n"
   ]
  },
  {
   "cell_type": "markdown",
   "metadata": {
    "slideshow": {
     "slide_type": "slide"
    }
   },
   "source": [
    "## O\n",
    "\n",
    "* `OBJECT` &mdash; [Getting Coverage (A Coverage Class)](Coverage.ipynb#A-Coverage-Class)\n",
    "* oracle &mdash; [Getting Coverage (Finding Errors with Basic Fuzzing)](Coverage.ipynb#Finding-Errors-with-Basic-Fuzzing)\n"
   ]
  },
  {
   "cell_type": "markdown",
   "metadata": {
    "slideshow": {
     "slide_type": "slide"
    }
   },
   "source": [
    "## P\n",
    "\n",
    "* `parenthesized_expressions()` &mdash; [Fuzzing with Grammars (Expanding Parenthesized Expressions)](Grammars.ipynb#Expanding-Parenthesized-Expressions)\n",
    "* parse tree &mdash; [Efficient Grammar Fuzzing (Derivation Trees)](GrammarFuzzer.ipynb#Derivation-Trees)\n",
    "* parsers &mdash; [Efficient Grammar Fuzzing (Background)](GrammarFuzzer.ipynb#Background)\n",
    "* `PASS` &mdash; [Fuzzing: Breaking Things with Random Inputs (Runner Classes)](Fuzzer.ipynb#Runner-Classes)\n",
    "* `population_branch_coverage()` &mdash; [Getting Coverage (Part 2: Comparing statement coverage and branch coverage)](Coverage.ipynb#Part-2:-Comparing-statement-coverage-and-branch-coverage)\n",
    "* `population_coverage()` &mdash; [Getting Coverage ( Coverage of Basic Fuzzing)](Coverage.ipynb#-Coverage-of-Basic-Fuzzing)\n",
    "* `possible_expansions()` &mdash; [Efficient Grammar Fuzzing (Expanding a Tree)](GrammarFuzzer.ipynb#Expanding-a-Tree)\n",
    "* `precompute_costs()` &mdash; [Efficient Grammar Fuzzing (Exercise 2: Grammar Pre-Compilation)](GrammarFuzzer.ipynb#Exercise-2:-Grammar-Pre-Compilation)\n",
    "* `PrintRunner` class &mdash; [Fuzzing: Breaking Things with Random Inputs (Runner Classes)](Fuzzer.ipynb#Runner-Classes)\n",
    "* `ProgramRunner` class &mdash; [Fuzzing: Breaking Things with Random Inputs (Runner Classes)](Fuzzer.ipynb#Runner-Classes)\n",
    "* Python tutorial &mdash; [Introduction to Software Testing (Understanding Python Programs)](Intro_Testing.ipynb#Understanding-Python-Programs), [Fuzzing: Breaking Things with Random Inputs](Fuzzer.ipynb#Fuzzing:-Breaking-Things-with Random Inputs)\n"
   ]
  },
  {
   "cell_type": "markdown",
   "metadata": {
    "slideshow": {
     "slide_type": "slide"
    }
   },
   "source": [
    "## Q\n",
    "\n",
    "* `quadratic_solver()` &mdash; [Introduction to Software Testing (Exercise 2: Quadratic Solver)](Intro_Testing.ipynb#Exercise-2:-Quadratic-Solver)\n",
    "* `quadratic_solver_fixed()` &mdash; [Introduction to Software Testing (Part 2: Fix the problem)](Intro_Testing.ipynb#Part-2:-Fix-the-problem)\n"
   ]
  },
  {
   "cell_type": "markdown",
   "metadata": {
    "slideshow": {
     "slide_type": "slide"
    }
   },
   "source": [
    "## R\n",
    "\n",
    "* `RandomFuzzer` class &mdash; [Fuzzing: Breaking Things with Random Inputs (Fuzzer Classes)](Fuzzer.ipynb#Fuzzer-Classes)\n",
    "* `random_list()` &mdash; [Introduction to Software Testing (Part 2: Random Inputs)](Intro_Testing.ipynb#Part-2:-Random-Inputs)\n",
    "* `read_gcov_coverage()` &mdash; [Getting Coverage (Getting Coverage from External Programs)](Coverage.ipynb#Getting-Coverage-from-External-Programs)\n",
    "* recursive &mdash; [Fuzzing with Grammars (Rules and Expansions)](Grammars.ipynb#Rules-and-Expansions)\n",
    "* red-black tree &mdash; [Fuzzing: Breaking Things with Random Inputs (Program-Specific Checkers)](Fuzzer.ipynb#Program-Specific-Checkers)\n",
    "* `RedBlackTree` class &mdash; [Fuzzing: Breaking Things with Random Inputs (Program-Specific Checkers)](Fuzzer.ipynb#Program-Specific-Checkers)\n",
    "* Regular expressions &mdash; [Fuzzing with Grammars (Input Languages)](Grammars.ipynb#Input-Languages)\n",
    "* `repOK()` &mdash; [Fuzzing: Breaking Things with Random Inputs (Program-Specific Checkers)](Fuzzer.ipynb#Program-Specific-Checkers)\n",
    "* representation invariant &mdash; [Fuzzing: Breaking Things with Random Inputs (Program-Specific Checkers)](Fuzzer.ipynb#Program-Specific-Checkers)\n",
    "* `reset()` &mdash; [Mutation-Based Fuzzing (Multiple Mutations)](MutationFuzzer.ipynb#Multiple-Mutations), [Mutation-Based Fuzzing (Guiding by Coverage)](MutationFuzzer.ipynb#Guiding-by-Coverage)\n",
    "* results checker &mdash; [Getting Coverage (Finding Errors with Basic Fuzzing)](Coverage.ipynb#Finding-Errors-with-Basic-Fuzzing)\n",
    "* `RE_EXTENDED_NONTERMINAL` &mdash; [Fuzzing with Grammars (Expanding Operators)](Grammars.ipynb#Expanding-Operators)\n",
    "* `RE_NONTERMINAL` &mdash; [Fuzzing with Grammars (Some Definitions)](Grammars.ipynb#Some-Definitions)\n",
    "* `RE_PARENTHESIZED_EXPR` &mdash; [Fuzzing with Grammars (Expanding Parenthesized Expressions)](Grammars.ipynb#Expanding-Parenthesized-Expressions)\n",
    "* root node &mdash; [Efficient Grammar Fuzzing (Derivation Trees)](GrammarFuzzer.ipynb#Derivation-Trees)\n",
    "* `rootIsBlack()` &mdash; [Fuzzing: Breaking Things with Random Inputs (Program-Specific Checkers)](Fuzzer.ipynb#Program-Specific-Checkers)\n",
    "* rules &mdash; [Fuzzing with Grammars (Rules and Expansions)](Grammars.ipynb#Rules-and-Expansions)\n",
    "* `run()` &mdash; [Fuzzing: Breaking Things with Random Inputs (Runner Classes)](Fuzzer.ipynb#Runner-Classes), [Fuzzing: Breaking Things with Random Inputs (Runner Classes)](Fuzzer.ipynb#Runner-Classes), [Fuzzing: Breaking Things with Random Inputs (Runner Classes)](Fuzzer.ipynb#Runner-Classes), [Fuzzing: Breaking Things with Random Inputs (Fuzzer Classes)](Fuzzer.ipynb#Fuzzer-Classes), [Fuzzing: Breaking Things with Random Inputs (Exercise 2: Run Simulated Troff)](Fuzzer.ipynb#Exercise-2:-Run-Simulated-Troff), [Mutation-Based Fuzzing (Guiding by Coverage)](MutationFuzzer.ipynb#Guiding-by-Coverage), [Mutation-Based Fuzzing (Guiding by Coverage)](MutationFuzzer.ipynb#Guiding-by-Coverage)\n",
    "* `Runner` class &mdash; [Fuzzing: Breaking Things with Random Inputs (Runner Classes)](Fuzzer.ipynb#Runner-Classes)\n",
    "* `runs()` &mdash; [Fuzzing: Breaking Things with Random Inputs (Fuzzer Classes)](Fuzzer.ipynb#Fuzzer-Classes)\n",
    "* `run_function()` &mdash; [Mutation-Based Fuzzing (Guiding by Coverage)](MutationFuzzer.ipynb#Guiding-by-Coverage), [Mutation-Based Fuzzing (Guiding by Coverage)](MutationFuzzer.ipynb#Guiding-by-Coverage)\n",
    "* `run_process()` &mdash; [Fuzzing: Breaking Things with Random Inputs (Runner Classes)](Fuzzer.ipynb#Runner-Classes), [Fuzzing: Breaking Things with Random Inputs (Runner Classes)](Fuzzer.ipynb#Runner-Classes)\n"
   ]
  },
  {
   "cell_type": "markdown",
   "metadata": {
    "slideshow": {
     "slide_type": "slide"
    }
   },
   "source": [
    "## S\n",
    "\n",
    "* seeds &mdash; [Fuzzing with Grammars (Grammars as Mutation Seeds)](Grammars.ipynb#Grammars-as-Mutation-Seeds)\n",
    "* Shellsort &mdash; [Introduction to Software Testing (Exercise 1: Testing Shellsort)](Intro_Testing.ipynb#Exercise-1:-Testing-Shellsort)\n",
    "* `shellsort()` &mdash; [Introduction to Software Testing (Exercise 1: Testing Shellsort)](Intro_Testing.ipynb#Exercise-1:-Testing-Shellsort)\n",
    "* `simple_grammar_fuzzer()` &mdash; [Fuzzing with Grammars (A Simple Grammar Fuzzer)](Grammars.ipynb#A-Simple-Grammar-Fuzzer)\n",
    "* `sqrt_program()` &mdash; [Introduction to Software Testing (System Input vs Function Input)](Intro_Testing.ipynb#System-Input-vs-Function-Input), [Introduction to Software Testing (System Input vs Function Input)](Intro_Testing.ipynb#System-Input-vs-Function-Input), [Introduction to Software Testing (System Input vs Function Input)](Intro_Testing.ipynb#System-Input-vs-Function-Input)\n",
    "* `srange()` &mdash; [Fuzzing with Grammars (Character Classes)](Grammars.ipynb#Character-Classes)\n",
    "* start symbol &mdash; [Fuzzing with Grammars (Rules and Expansions)](Grammars.ipynb#Rules-and-Expansions), [Efficient Grammar Fuzzing (Derivation Trees)](GrammarFuzzer.ipynb#Derivation-Trees)\n",
    "* `START_SYMBOL` &mdash; [Fuzzing with Grammars (Some Definitions)](Grammars.ipynb#Some-Definitions)\n",
    "* Statement coverage &mdash; [Getting Coverage (White-Box Testing)](Coverage.ipynb#White-Box-Testing)\n",
    "* subclasses &mdash; [Fuzzing: Breaking Things with Random Inputs (Runner Classes)](Fuzzer.ipynb#Runner-Classes)\n",
    "* `symbol_cost()` &mdash; [Efficient Grammar Fuzzing (Closing the Expansion)](GrammarFuzzer.ipynb#Closing-the-Expansion)\n",
    "* `SYMBOL_NAME` &mdash; [Efficient Grammar Fuzzing (Representing Derivation Trees)](GrammarFuzzer.ipynb#Representing-Derivation-Trees)\n",
    "* syntactical structure &mdash; [Fuzzing with Grammars (Grammars)](Grammars.ipynb#Grammars)\n",
    "* system input &mdash; [Introduction to Software Testing (System Input vs Function Input)](Intro_Testing.ipynb#System-Input-vs-Function-Input)\n"
   ]
  },
  {
   "cell_type": "markdown",
   "metadata": {
    "slideshow": {
     "slide_type": "slide"
    }
   },
   "source": [
    "## T\n",
    "\n",
    "* terminal symbol &mdash; [Efficient Grammar Fuzzing (Representing Derivation Trees)](GrammarFuzzer.ipynb#Representing-Derivation-Trees)\n",
    "* test &mdash; [Introduction to Software Testing (Running a Function)](Intro_Testing.ipynb#Running-a-Function)\n",
    "* `TITLE_GRAMMAR` &mdash; [Fuzzing with Grammars (A Natural Language Grammar)](Grammars.ipynb#A-Natural-Language-Grammar)\n",
    "* `trace()` &mdash; [Getting Coverage (A Coverage Class)](Coverage.ipynb#A-Coverage-Class)\n",
    "* `traceit()` &mdash; [Getting Coverage (Tracing Executions)](Coverage.ipynb#Tracing-Executions), [Getting Coverage (A Coverage Class)](Coverage.ipynb#A-Coverage-Class)\n",
    "* tracing function &mdash; [Getting Coverage (Tracing Executions)](Coverage.ipynb#Tracing-Executions)\n",
    "* `traverse_tree()` &mdash; [Efficient Grammar Fuzzing (Representing Derivation Trees)](GrammarFuzzer.ipynb#Representing-Derivation-Trees)\n",
    "* tree &mdash; [Efficient Grammar Fuzzing (Derivation Trees)](GrammarFuzzer.ipynb#Derivation-Trees)\n",
    "* `tree_to_string()` &mdash; [Efficient Grammar Fuzzing (Representing Derivation Trees)](GrammarFuzzer.ipynb#Representing-Derivation-Trees)\n",
    "* `TroffRunner` class &mdash; [Fuzzing: Breaking Things with Random Inputs (Exercise 2: Run Simulated Troff)](Fuzzer.ipynb#Exercise-2:-Run-Simulated-Troff)\n",
    "* Turing machines &mdash; [Fuzzing with Grammars (Input Languages)](Grammars.ipynb#Input-Languages)\n"
   ]
  },
  {
   "cell_type": "markdown",
   "metadata": {
    "slideshow": {
     "slide_type": "slide"
    }
   },
   "source": [
    "## U\n",
    "\n",
    "* universal grammars &mdash; [Fuzzing with Grammars (Input Languages)](Grammars.ipynb#Input-Languages)\n",
    "* `UNRESOLVED` &mdash; [Fuzzing: Breaking Things with Random Inputs (Runner Classes)](Fuzzer.ipynb#Runner-Classes)\n",
    "* `URL_GRAMMAR` &mdash; [Fuzzing with Grammars (A URL Grammar)](Grammars.ipynb#A-URL-Grammar)\n"
   ]
  },
  {
   "cell_type": "markdown",
   "metadata": {
    "slideshow": {
     "slide_type": "slide"
    }
   },
   "source": [
    "## V\n",
    "\n",
    "* `VARIABLE` &mdash; [Getting Coverage (A Coverage Class)](Coverage.ipynb#A-Coverage-Class)\n"
   ]
  },
  {
   "cell_type": "markdown",
   "metadata": {
    "slideshow": {
     "slide_type": "slide"
    }
   },
   "source": [
    "## W\n",
    "\n",
    "* Wikipedia page on file formats &mdash; [Fuzzing with Grammars (Input Languages)](Grammars.ipynb#Input-Languages)\n"
   ]
  },
  {
   "cell_type": "markdown",
   "metadata": {
    "slideshow": {
     "slide_type": "slide"
    }
   },
   "source": [
    "## X\n",
    "\n",
    "* XKCD comic &mdash; [Fuzzing: Breaking Things with Random Inputs (Checking Memory Accesses)](Fuzzer.ipynb#Checking-Memory-Accesses)\n"
   ]
  }
 ],
 "metadata": {
  "ipub": {
   "bibliography": "fuzzingbook.bib"
  },
  "kernelspec": {
   "display_name": "Python 3",
   "language": "python",
   "name": "python3"
  },
  "language_info": {
   "codemirror_mode": {
    "name": "ipython",
    "version": 3
   },
   "file_extension": ".py",
   "mimetype": "text/x-python",
   "name": "python",
   "nbconvert_exporter": "python",
   "pygments_lexer": "ipython3",
   "version": "3.6.6"
  },
  "toc": {
   "base_numbering": 1,
   "nav_menu": {},
   "number_sections": true,
   "sideBar": true,
   "skip_h1_title": true,
   "title_cell": "",
   "title_sidebar": "Contents",
   "toc_cell": false,
   "toc_position": {},
   "toc_section_display": true,
   "toc_window_display": true
  },
  "toc-autonumbering": false
 },
 "nbformat": 4,
 "nbformat_minor": 2
}
